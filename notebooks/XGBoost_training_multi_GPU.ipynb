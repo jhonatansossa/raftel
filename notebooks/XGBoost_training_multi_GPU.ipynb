{
 "cells": [
  {
   "cell_type": "code",
   "execution_count": 1,
   "id": "67e4f30a",
   "metadata": {},
   "outputs": [],
   "source": [
    "import os\n",
    "import dask\n",
    "import dask_cudf\n",
    "import xgboost as xgb\n",
    "from dask.distributed import Client\n",
    "from dask_cuda import LocalCUDACluster\n",
    "import pandas as pd\n",
    "from sklearn.model_selection import TimeSeriesSplit, GridSearchCV, train_test_split, KFold, StratifiedKFold\n",
    "import numpy as np\n",
    "from hyperopt import STATUS_OK, Trials, fmin, hp, tpe\n",
    "import dask.dataframe as dd\n",
    "from dask_ml.metrics import accuracy_score"
   ]
  },
  {
   "cell_type": "code",
   "execution_count": 2,
   "id": "a3823fe8",
   "metadata": {},
   "outputs": [],
   "source": [
    "GPUs = ','.join([str(i) for i in range(0,2)])\n",
    "os.environ['CUDA_VISIBLE_DEVICES'] = GPUs"
   ]
  },
  {
   "cell_type": "code",
   "execution_count": 3,
   "id": "2b5235e2",
   "metadata": {},
   "outputs": [],
   "source": [
    "def get_cluster():\n",
    "    cluster = LocalCUDACluster()\n",
    "    client = Client(cluster)\n",
    "    return client"
   ]
  },
  {
   "cell_type": "code",
   "execution_count": 4,
   "id": "2b7c57fc",
   "metadata": {},
   "outputs": [
    {
     "name": "stderr",
     "output_type": "stream",
     "text": [
      "/home/smartroom/miniconda3/envs/rapids-23.04/lib/python3.10/site-packages/dask_cuda/utils.py:281: UserWarning: Cannot get CPU affinity for device with index 0, setting default affinity\n",
      "  warnings.warn(\n",
      "/home/smartroom/miniconda3/envs/rapids-23.04/lib/python3.10/site-packages/dask_cuda/utils.py:281: UserWarning: Cannot get CPU affinity for device with index 1, setting default affinity\n",
      "  warnings.warn(\n",
      "2024-02-07 19:27:13,499 - distributed.diskutils - INFO - Found stale lock file and directory '/tmp/dask-worker-space/worker-t79avbm0', purging\n",
      "2024-02-07 19:27:13,500 - distributed.diskutils - INFO - Found stale lock file and directory '/tmp/dask-worker-space/worker-buijbrtd', purging\n",
      "2024-02-07 19:27:13,501 - distributed.preloading - INFO - Creating preload: dask_cuda.initialize\n",
      "2024-02-07 19:27:13,501 - distributed.preloading - INFO - Import preload module: dask_cuda.initialize\n",
      "2024-02-07 19:27:13,521 - distributed.preloading - INFO - Creating preload: dask_cuda.initialize\n",
      "2024-02-07 19:27:13,521 - distributed.preloading - INFO - Import preload module: dask_cuda.initialize\n",
      "2024-02-07 19:27:14,156 - distributed.comm.ucx - WARNING - Worker with process ID 54925 should have a CUDA context assigned to device 1 (b'GPU-ef282ab2-4697-2965-9213-667135649532'), but instead the CUDA context is on device 0 (b'GPU-261b05bc-01d5-67f7-bb27-9cdc740f4a1a'). This is often the result of a CUDA-enabled library calling a CUDA runtime function before Dask-CUDA can spawn worker processes. Please make sure any such function calls don't happen at import time or in the global scope of a program.\n"
     ]
    },
    {
     "name": "stderr",
     "output_type": "stream",
     "text": [
      "INFO:distributed.core:Event loop was unresponsive in Nanny for 6.98s.  This is often caused by long-running GIL-holding functions or moving large chunks of data. This can cause timeouts and instability.\n",
      "\n",
      "INFO:distributed.core:Event loop was unresponsive in Scheduler for 6.99s.  This is often caused by long-running GIL-holding functions or moving large chunks of data. This can cause timeouts and instability.\n",
      "\n",
      "INFO:distributed.core:Event loop was unresponsive in Nanny for 7.01s.  This is often caused by long-running GIL-holding functions or moving large chunks of data. This can cause timeouts and instability.\n",
      "\n"
     ]
    }
   ],
   "source": [
    "client = get_cluster()"
   ]
  },
  {
   "cell_type": "code",
   "execution_count": 5,
   "id": "c997b6de",
   "metadata": {},
   "outputs": [],
   "source": [
    "X_aras = pd.read_parquet('../data/04_feature/featured_master_table', engine='pyarrow')"
   ]
  },
  {
   "cell_type": "code",
   "execution_count": 6,
   "id": "4b9f1ddb",
   "metadata": {},
   "outputs": [],
   "source": [
    "y_aras = X_aras['LABEL']\n",
    "X_aras = X_aras.drop(columns=['LABEL'])"
   ]
  },
  {
   "cell_type": "code",
   "execution_count": 7,
   "id": "2a7efcf6",
   "metadata": {},
   "outputs": [],
   "source": [
    "X_aras_train, X_aras_test, y_aras_train, y_aras_test = train_test_split(X_aras, y_aras, test_size = 0.3, random_state = 0, stratify = y_aras)"
   ]
  },
  {
   "cell_type": "code",
   "execution_count": 8,
   "id": "4f11e751",
   "metadata": {},
   "outputs": [
    {
     "data": {
      "text/plain": [
       "((1811203, 31), (776230, 31), (1811203,), (776230,))"
      ]
     },
     "execution_count": 8,
     "metadata": {},
     "output_type": "execute_result"
    }
   ],
   "source": [
    "X_aras_train.shape, X_aras_test.shape, y_aras_train.shape, y_aras_test.shape"
   ]
  },
  {
   "cell_type": "markdown",
   "id": "332c854c-11bf-48ec-8bde-51e6c402fddb",
   "metadata": {},
   "source": [
    "## Experiments"
   ]
  },
  {
   "cell_type": "markdown",
   "id": "73132702-ec53-47c2-8794-977ae103ea6b",
   "metadata": {},
   "source": [
    "### Cross Validation"
   ]
  },
  {
   "cell_type": "markdown",
   "id": "6df43385-aa18-4847-b7a7-79a57f4f530d",
   "metadata": {},
   "source": [
    "### 1. Model with XGBoost and encoded activities in one label. No windowing."
   ]
  },
  {
   "cell_type": "code",
   "execution_count": 9,
   "id": "d4b95a35-4a31-4d63-a065-1c641002bb54",
   "metadata": {},
   "outputs": [],
   "source": [
    "space={'max_depth': hp.quniform(\"max_depth\", 3, 18, 1),\n",
    "        'gamma': hp.uniform ('gamma', 1,9),\n",
    "        'learning_rate': hp.uniform ('learning_rate', 0,0.5),\n",
    "        'reg_alpha' : hp.quniform('reg_alpha', 40,180,1),\n",
    "        'reg_lambda' : hp.uniform('reg_lambda', 0,1),\n",
    "        'colsample_bytree' : hp.uniform('colsample_bytree', 0.5,1),\n",
    "        'min_child_weight' : hp.quniform('min_child_weight', 0, 10, 1),\n",
    "        'n_estimators': 180,\n",
    "        'seed': 0,\n",
    "    }"
   ]
  },
  {
   "cell_type": "code",
   "execution_count": 10,
   "id": "11a94522-dd5e-4603-baee-355e08f68a76",
   "metadata": {},
   "outputs": [],
   "source": [
    "def objective(space):\n",
    "    \n",
    "    xgb_parms = { \n",
    "        'n_estimators': space['n_estimators'],\n",
    "        'max_depth': int(space['max_depth']), \n",
    "        'gamma': space['gamma'],\n",
    "        'reg_alpha': int(space['reg_alpha']),\n",
    "        'min_child_weight': int(space['min_child_weight']),\n",
    "        'learning_rate': space['learning_rate'], \n",
    "        'colsample_bytree': int(space['colsample_bytree']), \n",
    "        'eval_metric': 'auc',\n",
    "        'tree_method':'gpu_hist',\n",
    "        'predictor':'gpu_predictor',\n",
    "        'random_state': 0,\n",
    "        'early_stopping_rounds': 10,\n",
    "        }\n",
    "    \n",
    "    clf = xgb.dask.train(\n",
    "        client,\n",
    "        xgb_parms,\n",
    "        dtrain,\n",
    "        num_boost_round=100,\n",
    "        evals=[(dtrain, \"train\")],\n",
    "    )\n",
    "    \n",
    "    pred = xgb.dask.predict(client, clf, X_test)\n",
    "    print(f\"pred {pred.compute()}\")\n",
    "    return\n",
    "\n",
    "    accuracy = accuracy_score(y_test.to_dask_array(), pred.to_dask_array())\n",
    "    print (\"SCORE:\", accuracy)\n",
    "    return {'loss': -accuracy, 'status': STATUS_OK }"
   ]
  },
  {
   "cell_type": "code",
   "execution_count": 11,
   "id": "11bb3564-086f-42f2-a286-ea466b75921e",
   "metadata": {
    "scrolled": true
   },
   "outputs": [
    {
     "name": "stdout",
     "output_type": "stream",
     "text": [
      "Fold 0:\n",
      "  0%|          | 0/100 [00:00<?, ?trial/s, best loss=?]"
     ]
    },
    {
     "name": "stderr",
     "output_type": "stream",
     "text": [
      "INFO:distributed.scheduler:Receive client connection: Client-worker-939dd47b-c5e6-11ee-968d-00155d625880\n",
      "\n",
      "INFO:distributed.core:Starting established connection to tcp://127.0.0.1:51388\n",
      "\n",
      "INFO:distributed.scheduler:Receive client connection: Client-worker-93a3e561-c5e6-11ee-968b-00155d625880\n",
      "\n",
      "INFO:distributed.core:Starting established connection to tcp://127.0.0.1:51398\n",
      "\n"
     ]
    },
    {
     "name": "stderr",
     "output_type": "stream",
     "text": [
      "[19:27:40] task [xgboost.dask-0]:tcp://127.0.0.1:40993 got new rank 0\n",
      "[19:27:40] task [xgboost.dask-1]:tcp://127.0.0.1:44079 got new rank 1\n",
      "[19:27:43] WARNING: /opt/conda/conda-bld/work/src/learner.cc:767: \n",
      "Parameters: { \"early_stopping_rounds\", \"n_estimators\" } are not used.\n",
      "\n",
      "[19:27:43] WARNING: /opt/conda/conda-bld/work/src/learner.cc:767: \n",
      "Parameters: { \"early_stopping_rounds\", \"n_estimators\" } are not used.\n",
      "\n",
      "[19:27:43] WARNING: /opt/conda/conda-bld/work/src/metric/auc.cc:328: Dataset is empty, or contains only positive or negative samples.\n",
      "[19:27:43] WARNING: /opt/conda/conda-bld/work/src/metric/auc.cc:328: Dataset is empty, or contains only positive or negative samples.\n",
      "[19:27:43] WARNING: /opt/conda/conda-bld/work/src/metric/auc.cc:328: Dataset is empty, or contains only positive or negative samples.\n",
      "[19:27:43] WARNING: /opt/conda/conda-bld/work/src/metric/auc.cc:328: Dataset is empty, or contains only positive or negative samples.\n",
      "[19:27:43] WARNING: /opt/conda/conda-bld/work/src/metric/auc.cc:328: Dataset is empty, or contains only positive or negative samples.[19:27:43] WARNING: /opt/conda/conda-bld/work/src/metric/auc.cc:328: Dataset is empty, or contains only positive or negative samples.\n",
      "\n",
      "[19:27:43] WARNING: /opt/conda/conda-bld/work/src/metric/auc.cc:328: Dataset is empty, or contains only positive or negative samples.[19:27:43] WARNING: /opt/conda/conda-bld/work/src/metric/auc.cc:328: Dataset is empty, or contains only positive or negative samples.\n",
      "\n",
      "[19:27:43] WARNING: /opt/conda/conda-bld/work/src/metric/auc.cc:328: Dataset is empty, or contains only positive or negative samples.\n",
      "[19:27:43] WARNING: /opt/conda/conda-bld/work/src/metric/auc.cc:328: Dataset is empty, or contains only positive or negative samples.\n",
      "[19:27:43] WARNING: /opt/conda/conda-bld/work/src/metric/auc.cc:328: Dataset is empty, or contains only positive or negative samples.\n",
      "[19:27:43] WARNING: /opt/conda/conda-bld/work/src/metric/auc.cc:328: Dataset is empty, or contains only positive or negative samples.\n",
      "[19:27:43] WARNING: /opt/conda/conda-bld/work/src/metric/auc.cc:328: Dataset is empty, or contains only positive or negative samples.\n",
      "[19:27:43] WARNING: /opt/conda/conda-bld/work/src/metric/auc.cc:328: Dataset is empty, or contains only positive or negative samples.\n",
      "[19:27:43] WARNING: /opt/conda/conda-bld/work/src/metric/auc.cc:328: Dataset is empty, or contains only positive or negative samples.\n",
      "[19:27:43] WARNING: /opt/conda/conda-bld/work/src/metric/auc.cc:328: Dataset is empty, or contains only positive or negative samples.\n",
      "[19:27:43] WARNING: /opt/conda/conda-bld/work/src/metric/auc.cc:328: Dataset is empty, or contains only positive or negative samples.[19:27:43] WARNING: /opt/conda/conda-bld/work/src/metric/auc.cc:328: Dataset is empty, or contains only positive or negative samples.\n",
      "\n",
      "[19:27:43] WARNING: /opt/conda/conda-bld/work/src/metric/auc.cc:328: Dataset is empty, or contains only positive or negative samples.\n",
      "[19:27:43] WARNING: /opt/conda/conda-bld/work/src/metric/auc.cc:328: Dataset is empty, or contains only positive or negative samples.\n",
      "[19:27:43] WARNING: /opt/conda/conda-bld/work/src/metric/auc.cc:328: Dataset is empty, or contains only positive or negative samples.\n",
      "[19:27:43] WARNING: /opt/conda/conda-bld/work/src/metric/auc.cc:328: Dataset is empty, or contains only positive or negative samples.\n",
      "[19:27:43] WARNING: /opt/conda/conda-bld/work/src/metric/auc.cc:328: Dataset is empty, or contains only positive or negative samples.\n",
      "[19:27:43] WARNING: /opt/conda/conda-bld/work/src/metric/auc.cc:328: Dataset is empty, or contains only positive or negative samples.\n",
      "[19:27:43] WARNING: /opt/conda/conda-bld/work/src/metric/auc.cc:328: Dataset is empty, or contains only positive or negative samples.\n",
      "[19:27:43] WARNING: /opt/conda/conda-bld/work/src/metric/auc.cc:328: Dataset is empty, or contains only positive or negative samples.\n",
      "[19:27:43] WARNING: /opt/conda/conda-bld/work/src/metric/auc.cc:328: Dataset is empty, or contains only positive or negative samples.\n",
      "[19:27:43] WARNING: /opt/conda/conda-bld/work/src/metric/auc.cc:328: Dataset is empty, or contains only positive or negative samples.\n",
      "[19:27:44] WARNING: /opt/conda/conda-bld/work/src/metric/auc.cc:328: Dataset is empty, or contains only positive or negative samples.\n",
      "[19:27:44] WARNING: /opt/conda/conda-bld/work/src/metric/auc.cc:328: Dataset is empty, or contains only positive or negative samples.\n",
      "[19:27:44] WARNING: /opt/conda/conda-bld/work/src/metric/auc.cc:328: Dataset is empty, or contains only positive or negative samples.\n",
      "[19:27:44] WARNING: /opt/conda/conda-bld/work/src/metric/auc.cc:328: Dataset is empty, or contains only positive or negative samples.\n",
      "[19:27:44] WARNING: /opt/conda/conda-bld/work/src/metric/auc.cc:328: Dataset is empty, or contains only positive or negative samples.\n",
      "[19:27:44] WARNING: /opt/conda/conda-bld/work/src/metric/auc.cc:328: Dataset is empty, or contains only positive or negative samples.\n",
      "[19:27:44] WARNING: /opt/conda/conda-bld/work/src/metric/auc.cc:328: Dataset is empty, or contains only positive or negative samples.\n",
      "[19:27:44] WARNING: /opt/conda/conda-bld/work/src/metric/auc.cc:328: Dataset is empty, or contains only positive or negative samples.\n",
      "[19:27:44] WARNING: /opt/conda/conda-bld/work/src/metric/auc.cc:328: Dataset is empty, or contains only positive or negative samples.\n",
      "[19:27:44] WARNING: /opt/conda/conda-bld/work/src/metric/auc.cc:328: Dataset is empty, or contains only positive or negative samples.\n",
      "[19:27:44] WARNING: /opt/conda/conda-bld/work/src/metric/auc.cc:328: Dataset is empty, or contains only positive or negative samples.\n",
      "[19:27:44] WARNING: /opt/conda/conda-bld/work/src/metric/auc.cc:328: Dataset is empty, or contains only positive or negative samples.\n",
      "[19:27:44] WARNING: /opt/conda/conda-bld/work/src/metric/auc.cc:328: Dataset is empty, or contains only positive or negative samples.\n",
      "[19:27:44] WARNING: /opt/conda/conda-bld/work/src/metric/auc.cc:328: Dataset is empty, or contains only positive or negative samples.\n",
      "[19:27:44] WARNING: /opt/conda/conda-bld/work/src/metric/auc.cc:328: Dataset is empty, or contains only positive or negative samples.\n",
      "[19:27:44] WARNING: /opt/conda/conda-bld/work/src/metric/auc.cc:328: Dataset is empty, or contains only positive or negative samples.\n",
      "[19:27:44] WARNING: /opt/conda/conda-bld/work/src/metric/auc.cc:328: Dataset is empty, or contains only positive or negative samples.\n",
      "[19:27:44] WARNING: /opt/conda/conda-bld/work/src/metric/auc.cc:328: Dataset is empty, or contains only positive or negative samples.\n",
      "[19:27:44] WARNING: /opt/conda/conda-bld/work/src/metric/auc.cc:328: Dataset is empty, or contains only positive or negative samples.\n",
      "[19:27:44] WARNING: /opt/conda/conda-bld/work/src/metric/auc.cc:328: Dataset is empty, or contains only positive or negative samples.\n",
      "[19:27:44] WARNING: /opt/conda/conda-bld/work/src/metric/auc.cc:328: Dataset is empty, or contains only positive or negative samples.\n",
      "[19:27:44] WARNING: /opt/conda/conda-bld/work/src/metric/auc.cc:328: Dataset is empty, or contains only positive or negative samples.\n",
      "[19:27:44] WARNING: /opt/conda/conda-bld/work/src/metric/auc.cc:328: Dataset is empty, or contains only positive or negative samples.\n",
      "[19:27:44] WARNING: /opt/conda/conda-bld/work/src/metric/auc.cc:328: Dataset is empty, or contains only positive or negative samples.\n",
      "[19:27:44] WARNING: /opt/conda/conda-bld/work/src/metric/auc.cc:328: Dataset is empty, or contains only positive or negative samples.\n",
      "[19:27:44] WARNING: /opt/conda/conda-bld/work/src/metric/auc.cc:328: Dataset is empty, or contains only positive or negative samples.\n",
      "[19:27:44] WARNING: /opt/conda/conda-bld/work/src/metric/auc.cc:328: Dataset is empty, or contains only positive or negative samples.[19:27:44] WARNING: /opt/conda/conda-bld/work/src/metric/auc.cc:328: Dataset is empty, or contains only positive or negative samples.\n",
      "\n",
      "[19:27:44] WARNING: /opt/conda/conda-bld/work/src/metric/auc.cc:328: Dataset is empty, or contains only positive or negative samples.\n",
      "[19:27:44] WARNING: /opt/conda/conda-bld/work/src/metric/auc.cc:328: Dataset is empty, or contains only positive or negative samples.\n",
      "[19:27:44] WARNING: /opt/conda/conda-bld/work/src/metric/auc.cc:328: Dataset is empty, or contains only positive or negative samples.\n",
      "[19:27:44] WARNING: /opt/conda/conda-bld/work/src/metric/auc.cc:328: Dataset is empty, or contains only positive or negative samples.\n",
      "[19:27:44] WARNING: /opt/conda/conda-bld/work/src/metric/auc.cc:328: Dataset is empty, or contains only positive or negative samples.\n",
      "[19:27:44] WARNING: /opt/conda/conda-bld/work/src/metric/auc.cc:328: Dataset is empty, or contains only positive or negative samples.\n",
      "[19:27:44] WARNING: /opt/conda/conda-bld/work/src/metric/auc.cc:328: Dataset is empty, or contains only positive or negative samples.\n",
      "[19:27:44] WARNING: /opt/conda/conda-bld/work/src/metric/auc.cc:328: Dataset is empty, or contains only positive or negative samples.\n",
      "[19:27:44] WARNING: /opt/conda/conda-bld/work/src/metric/auc.cc:328: Dataset is empty, or contains only positive or negative samples.\n",
      "[19:27:44] WARNING: /opt/conda/conda-bld/work/src/metric/auc.cc:328: Dataset is empty, or contains only positive or negative samples.\n",
      "[19:27:44] WARNING: /opt/conda/conda-bld/work/src/metric/auc.cc:328: Dataset is empty, or contains only positive or negative samples.\n",
      "[19:27:44] WARNING: /opt/conda/conda-bld/work/src/metric/auc.cc:328: Dataset is empty, or contains only positive or negative samples.\n",
      "[19:27:44] WARNING: /opt/conda/conda-bld/work/src/metric/auc.cc:328: Dataset is empty, or contains only positive or negative samples.\n",
      "[19:27:44] WARNING: /opt/conda/conda-bld/work/src/metric/auc.cc:328: Dataset is empty, or contains only positive or negative samples.\n",
      "[19:27:44] WARNING: /opt/conda/conda-bld/work/src/metric/auc.cc:328: Dataset is empty, or contains only positive or negative samples.\n",
      "[19:27:44] WARNING: /opt/conda/conda-bld/work/src/metric/auc.cc:328: Dataset is empty, or contains only positive or negative samples.\n",
      "[19:27:44] WARNING: /opt/conda/conda-bld/work/src/metric/auc.cc:328: Dataset is empty, or contains only positive or negative samples.\n",
      "[19:27:44] WARNING: /opt/conda/conda-bld/work/src/metric/auc.cc:328: Dataset is empty, or contains only positive or negative samples.\n",
      "[19:27:44] WARNING: /opt/conda/conda-bld/work/src/metric/auc.cc:328: Dataset is empty, or contains only positive or negative samples.\n",
      "[19:27:44] WARNING: /opt/conda/conda-bld/work/src/metric/auc.cc:328: Dataset is empty, or contains only positive or negative samples.\n",
      "[19:27:44] WARNING: /opt/conda/conda-bld/work/src/metric/auc.cc:328: Dataset is empty, or contains only positive or negative samples.\n",
      "[19:27:44] WARNING: /opt/conda/conda-bld/work/src/metric/auc.cc:328: Dataset is empty, or contains only positive or negative samples.\n",
      "[19:27:44] WARNING: /opt/conda/conda-bld/work/src/metric/auc.cc:328: Dataset is empty, or contains only positive or negative samples.\n",
      "[19:27:44] WARNING: /opt/conda/conda-bld/work/src/metric/auc.cc:328: Dataset is empty, or contains only positive or negative samples.\n",
      "[19:27:44] WARNING: /opt/conda/conda-bld/work/src/metric/auc.cc:328: Dataset is empty, or contains only positive or negative samples.\n",
      "[19:27:44] WARNING: /opt/conda/conda-bld/work/src/metric/auc.cc:328: Dataset is empty, or contains only positive or negative samples.\n",
      "[19:27:44] WARNING: /opt/conda/conda-bld/work/src/metric/auc.cc:328: Dataset is empty, or contains only positive or negative samples.\n",
      "[19:27:44] WARNING: /opt/conda/conda-bld/work/src/metric/auc.cc:328: Dataset is empty, or contains only positive or negative samples.\n",
      "[19:27:44] WARNING: /opt/conda/conda-bld/work/src/metric/auc.cc:328: Dataset is empty, or contains only positive or negative samples.[19:27:44] WARNING: /opt/conda/conda-bld/work/src/metric/auc.cc:328: Dataset is empty, or contains only positive or negative samples.\n",
      "\n",
      "[19:27:44] WARNING: /opt/conda/conda-bld/work/src/metric/auc.cc:328: Dataset is empty, or contains only positive or negative samples.\n",
      "[19:27:44] WARNING: /opt/conda/conda-bld/work/src/metric/auc.cc:328: Dataset is empty, or contains only positive or negative samples.\n",
      "[19:27:44] WARNING: /opt/conda/conda-bld/work/src/metric/auc.cc:328: Dataset is empty, or contains only positive or negative samples.[19:27:44] WARNING: /opt/conda/conda-bld/work/src/metric/auc.cc:328: Dataset is empty, or contains only positive or negative samples.\n",
      "\n",
      "[19:27:44] WARNING: /opt/conda/conda-bld/work/src/metric/auc.cc:328: Dataset is empty, or contains only positive or negative samples.\n",
      "[19:27:44] WARNING: /opt/conda/conda-bld/work/src/metric/auc.cc:328: Dataset is empty, or contains only positive or negative samples.\n",
      "[19:27:44] WARNING: /opt/conda/conda-bld/work/src/metric/auc.cc:328: Dataset is empty, or contains only positive or negative samples.\n",
      "[19:27:44] WARNING: /opt/conda/conda-bld/work/src/metric/auc.cc:328: Dataset is empty, or contains only positive or negative samples.\n",
      "[19:27:44] WARNING: /opt/conda/conda-bld/work/src/metric/auc.cc:328: Dataset is empty, or contains only positive or negative samples.\n",
      "[19:27:44] WARNING: /opt/conda/conda-bld/work/src/metric/auc.cc:328: Dataset is empty, or contains only positive or negative samples.\n",
      "[19:27:44] WARNING: /opt/conda/conda-bld/work/src/metric/auc.cc:328: Dataset is empty, or contains only positive or negative samples.\n",
      "[19:27:44] WARNING: /opt/conda/conda-bld/work/src/metric/auc.cc:328: Dataset is empty, or contains only positive or negative samples.\n",
      "[19:27:44] WARNING: /opt/conda/conda-bld/work/src/metric/auc.cc:328: Dataset is empty, or contains only positive or negative samples.\n",
      "[19:27:44] WARNING: /opt/conda/conda-bld/work/src/metric/auc.cc:328: Dataset is empty, or contains only positive or negative samples.\n",
      "[19:27:44] WARNING: /opt/conda/conda-bld/work/src/metric/auc.cc:328: Dataset is empty, or contains only positive or negative samples.\n",
      "[19:27:44] WARNING: /opt/conda/conda-bld/work/src/metric/auc.cc:328: Dataset is empty, or contains only positive or negative samples.\n",
      "[19:27:44] WARNING: /opt/conda/conda-bld/work/src/metric/auc.cc:328: Dataset is empty, or contains only positive or negative samples.\n",
      "[19:27:44] WARNING: /opt/conda/conda-bld/work/src/metric/auc.cc:328: Dataset is empty, or contains only positive or negative samples.\n",
      "[19:27:44] WARNING: /opt/conda/conda-bld/work/src/metric/auc.cc:328: Dataset is empty, or contains only positive or negative samples.\n",
      "[19:27:44] WARNING: /opt/conda/conda-bld/work/src/metric/auc.cc:328: Dataset is empty, or contains only positive or negative samples.\n",
      "[19:27:44] WARNING: /opt/conda/conda-bld/work/src/metric/auc.cc:328: Dataset is empty, or contains only positive or negative samples.\n",
      "[19:27:44] WARNING: /opt/conda/conda-bld/work/src/metric/auc.cc:328: Dataset is empty, or contains only positive or negative samples.\n",
      "[19:27:44] WARNING: /opt/conda/conda-bld/work/src/metric/auc.cc:328: Dataset is empty, or contains only positive or negative samples.\n",
      "[19:27:44] WARNING: /opt/conda/conda-bld/work/src/metric/auc.cc:328: Dataset is empty, or contains only positive or negative samples.\n",
      "[19:27:44] WARNING: /opt/conda/conda-bld/work/src/metric/auc.cc:328: Dataset is empty, or contains only positive or negative samples.\n",
      "[19:27:44] WARNING: /opt/conda/conda-bld/work/src/metric/auc.cc:328: Dataset is empty, or contains only positive or negative samples.\n",
      "[19:27:44] WARNING: /opt/conda/conda-bld/work/src/metric/auc.cc:328: Dataset is empty, or contains only positive or negative samples.[19:27:44] WARNING: /opt/conda/conda-bld/work/src/metric/auc.cc:328: Dataset is empty, or contains only positive or negative samples.\n",
      "\n",
      "[19:27:44] WARNING: /opt/conda/conda-bld/work/src/metric/auc.cc:328: Dataset is empty, or contains only positive or negative samples.\n",
      "[19:27:44] WARNING: /opt/conda/conda-bld/work/src/metric/auc.cc:328: Dataset is empty, or contains only positive or negative samples.\n",
      "[19:27:44] WARNING: /opt/conda/conda-bld/work/src/metric/auc.cc:328: Dataset is empty, or contains only positive or negative samples.\n",
      "[19:27:44] WARNING: /opt/conda/conda-bld/work/src/metric/auc.cc:328: Dataset is empty, or contains only positive or negative samples.\n",
      "[19:27:44] WARNING: /opt/conda/conda-bld/work/src/metric/auc.cc:328: Dataset is empty, or contains only positive or negative samples.\n",
      "[19:27:44] WARNING: /opt/conda/conda-bld/work/src/metric/auc.cc:328: Dataset is empty, or contains only positive or negative samples.\n",
      "[19:27:44] WARNING: /opt/conda/conda-bld/work/src/metric/auc.cc:328: Dataset is empty, or contains only positive or negative samples.\n",
      "[19:27:44] WARNING: /opt/conda/conda-bld/work/src/metric/auc.cc:328: Dataset is empty, or contains only positive or negative samples.\n",
      "[19:27:44] WARNING: /opt/conda/conda-bld/work/src/metric/auc.cc:328: Dataset is empty, or contains only positive or negative samples.\n",
      "[19:27:44] WARNING: /opt/conda/conda-bld/work/src/metric/auc.cc:328: Dataset is empty, or contains only positive or negative samples.\n",
      "[19:27:44] WARNING: /opt/conda/conda-bld/work/src/metric/auc.cc:328: Dataset is empty, or contains only positive or negative samples.\n",
      "[19:27:44] WARNING: /opt/conda/conda-bld/work/src/metric/auc.cc:328: Dataset is empty, or contains only positive or negative samples.\n",
      "[19:27:44] WARNING: /opt/conda/conda-bld/work/src/metric/auc.cc:328: Dataset is empty, or contains only positive or negative samples.\n",
      "[19:27:44] WARNING: /opt/conda/conda-bld/work/src/metric/auc.cc:328: Dataset is empty, or contains only positive or negative samples.\n",
      "[19:27:44] WARNING: /opt/conda/conda-bld/work/src/metric/auc.cc:328: Dataset is empty, or contains only positive or negative samples.\n",
      "[19:27:44] WARNING: /opt/conda/conda-bld/work/src/metric/auc.cc:328: Dataset is empty, or contains only positive or negative samples.\n",
      "[19:27:44] WARNING: /opt/conda/conda-bld/work/src/metric/auc.cc:328: Dataset is empty, or contains only positive or negative samples.\n",
      "[19:27:44] WARNING: /opt/conda/conda-bld/work/src/metric/auc.cc:328: Dataset is empty, or contains only positive or negative samples.\n",
      "[19:27:44] WARNING: /opt/conda/conda-bld/work/src/metric/auc.cc:328: Dataset is empty, or contains only positive or negative samples.\n",
      "[19:27:44] WARNING: /opt/conda/conda-bld/work/src/metric/auc.cc:328: Dataset is empty, or contains only positive or negative samples.\n",
      "[19:27:44] WARNING: /opt/conda/conda-bld/work/src/metric/auc.cc:328: Dataset is empty, or contains only positive or negative samples.\n",
      "[19:27:44] WARNING: /opt/conda/conda-bld/work/src/metric/auc.cc:328: Dataset is empty, or contains only positive or negative samples.\n",
      "[19:27:44] WARNING: /opt/conda/conda-bld/work/src/metric/auc.cc:328: Dataset is empty, or contains only positive or negative samples.\n",
      "[19:27:44] WARNING: /opt/conda/conda-bld/work/src/metric/auc.cc:328: Dataset is empty, or contains only positive or negative samples.\n",
      "[19:27:44] WARNING: /opt/conda/conda-bld/work/src/metric/auc.cc:328: Dataset is empty, or contains only positive or negative samples.\n",
      "[19:27:44] WARNING: /opt/conda/conda-bld/work/src/metric/auc.cc:328: Dataset is empty, or contains only positive or negative samples.\n",
      "[19:27:44] WARNING: /opt/conda/conda-bld/work/src/metric/auc.cc:328: Dataset is empty, or contains only positive or negative samples.\n",
      "[19:27:44] WARNING: /opt/conda/conda-bld/work/src/metric/auc.cc:328: Dataset is empty, or contains only positive or negative samples.\n",
      "[19:27:44] WARNING: /opt/conda/conda-bld/work/src/metric/auc.cc:328: Dataset is empty, or contains only positive or negative samples.[19:27:44] WARNING: /opt/conda/conda-bld/work/src/metric/auc.cc:328: Dataset is empty, or contains only positive or negative samples.\n",
      "\n",
      "[19:27:44] WARNING: /opt/conda/conda-bld/work/src/metric/auc.cc:328: Dataset is empty, or contains only positive or negative samples.\n",
      "[19:27:44] WARNING: /opt/conda/conda-bld/work/src/metric/auc.cc:328: Dataset is empty, or contains only positive or negative samples.\n",
      "[19:27:44] WARNING: /opt/conda/conda-bld/work/src/metric/auc.cc:328: Dataset is empty, or contains only positive or negative samples.\n",
      "[19:27:44] WARNING: /opt/conda/conda-bld/work/src/metric/auc.cc:328: Dataset is empty, or contains only positive or negative samples.\n",
      "[19:27:44] WARNING: /opt/conda/conda-bld/work/src/metric/auc.cc:328: Dataset is empty, or contains only positive or negative samples.\n",
      "[19:27:44] WARNING: /opt/conda/conda-bld/work/src/metric/auc.cc:328: Dataset is empty, or contains only positive or negative samples.\n",
      "[19:27:44] WARNING: /opt/conda/conda-bld/work/src/metric/auc.cc:328: Dataset is empty, or contains only positive or negative samples.\n",
      "[19:27:44] WARNING: /opt/conda/conda-bld/work/src/metric/auc.cc:328: Dataset is empty, or contains only positive or negative samples.\n",
      "[19:27:44] WARNING: /opt/conda/conda-bld/work/src/metric/auc.cc:328: Dataset is empty, or contains only positive or negative samples.\n",
      "[19:27:44] WARNING: /opt/conda/conda-bld/work/src/metric/auc.cc:328: Dataset is empty, or contains only positive or negative samples.\n",
      "[19:27:44] WARNING: /opt/conda/conda-bld/work/src/metric/auc.cc:328: Dataset is empty, or contains only positive or negative samples.\n",
      "[19:27:44] WARNING: /opt/conda/conda-bld/work/src/metric/auc.cc:328: Dataset is empty, or contains only positive or negative samples.\n",
      "[19:27:44] WARNING: /opt/conda/conda-bld/work/src/metric/auc.cc:328: Dataset is empty, or contains only positive or negative samples.\n",
      "[19:27:44] WARNING: /opt/conda/conda-bld/work/src/metric/auc.cc:328: Dataset is empty, or contains only positive or negative samples.\n",
      "[19:27:44] WARNING: /opt/conda/conda-bld/work/src/metric/auc.cc:328: Dataset is empty, or contains only positive or negative samples.\n",
      "[19:27:44] WARNING: /opt/conda/conda-bld/work/src/metric/auc.cc:328: Dataset is empty, or contains only positive or negative samples.\n",
      "[19:27:44] WARNING: /opt/conda/conda-bld/work/src/metric/auc.cc:328: Dataset is empty, or contains only positive or negative samples.\n",
      "[19:27:44] WARNING: /opt/conda/conda-bld/work/src/metric/auc.cc:328: Dataset is empty, or contains only positive or negative samples.\n",
      "[19:27:44] WARNING: /opt/conda/conda-bld/work/src/metric/auc.cc:328: Dataset is empty, or contains only positive or negative samples.\n",
      "[19:27:44] WARNING: /opt/conda/conda-bld/work/src/metric/auc.cc:328: Dataset is empty, or contains only positive or negative samples.\n",
      "[19:27:44] WARNING: /opt/conda/conda-bld/work/src/metric/auc.cc:328: Dataset is empty, or contains only positive or negative samples.\n",
      "[19:27:44] WARNING: /opt/conda/conda-bld/work/src/metric/auc.cc:328: Dataset is empty, or contains only positive or negative samples.\n",
      "[19:27:44] WARNING: /opt/conda/conda-bld/work/src/metric/auc.cc:328: Dataset is empty, or contains only positive or negative samples.\n",
      "[19:27:44] WARNING: /opt/conda/conda-bld/work/src/metric/auc.cc:328: Dataset is empty, or contains only positive or negative samples.\n",
      "[19:27:44] WARNING: /opt/conda/conda-bld/work/src/metric/auc.cc:328: Dataset is empty, or contains only positive or negative samples.\n",
      "[19:27:44] WARNING: /opt/conda/conda-bld/work/src/metric/auc.cc:328: Dataset is empty, or contains only positive or negative samples.\n",
      "[19:27:44] WARNING: /opt/conda/conda-bld/work/src/metric/auc.cc:328: Dataset is empty, or contains only positive or negative samples.\n",
      "[19:27:44] WARNING: /opt/conda/conda-bld/work/src/metric/auc.cc:328: Dataset is empty, or contains only positive or negative samples.\n",
      "[19:27:44] WARNING: /opt/conda/conda-bld/work/src/metric/auc.cc:328: Dataset is empty, or contains only positive or negative samples.\n",
      "[19:27:44] WARNING: /opt/conda/conda-bld/work/src/metric/auc.cc:328: Dataset is empty, or contains only positive or negative samples.\n",
      "[19:27:44] WARNING: /opt/conda/conda-bld/work/src/metric/auc.cc:328: Dataset is empty, or contains only positive or negative samples.\n",
      "[19:27:44] WARNING: /opt/conda/conda-bld/work/src/metric/auc.cc:328: Dataset is empty, or contains only positive or negative samples.\n",
      "[19:27:44] WARNING: /opt/conda/conda-bld/work/src/metric/auc.cc:328: Dataset is empty, or contains only positive or negative samples.\n",
      "[19:27:44] WARNING: /opt/conda/conda-bld/work/src/metric/auc.cc:328: Dataset is empty, or contains only positive or negative samples.\n",
      "[19:27:44] WARNING: /opt/conda/conda-bld/work/src/metric/auc.cc:328: Dataset is empty, or contains only positive or negative samples.\n",
      "[19:27:44] WARNING: /opt/conda/conda-bld/work/src/metric/auc.cc:328: Dataset is empty, or contains only positive or negative samples.\n",
      "[19:27:44] WARNING: /opt/conda/conda-bld/work/src/metric/auc.cc:328: Dataset is empty, or contains only positive or negative samples.\n",
      "[19:27:44] WARNING: /opt/conda/conda-bld/work/src/metric/auc.cc:328: Dataset is empty, or contains only positive or negative samples.\n",
      "[19:27:44] WARNING: /opt/conda/conda-bld/work/src/metric/auc.cc:328: Dataset is empty, or contains only positive or negative samples.\n",
      "[19:27:44] WARNING: /opt/conda/conda-bld/work/src/metric/auc.cc:328: Dataset is empty, or contains only positive or negative samples.\n",
      "[19:27:44] WARNING: /opt/conda/conda-bld/work/src/metric/auc.cc:328: Dataset is empty, or contains only positive or negative samples.\n",
      "[19:27:44] WARNING: /opt/conda/conda-bld/work/src/metric/auc.cc:328: Dataset is empty, or contains only positive or negative samples.\n",
      "[19:27:44] WARNING: /opt/conda/conda-bld/work/src/metric/auc.cc:328: Dataset is empty, or contains only positive or negative samples.\n",
      "[19:27:44] WARNING: /opt/conda/conda-bld/work/src/metric/auc.cc:328: Dataset is empty, or contains only positive or negative samples.\n",
      "[19:27:44] WARNING: /opt/conda/conda-bld/work/src/metric/auc.cc:328: Dataset is empty, or contains only positive or negative samples.\n",
      "[19:27:44] WARNING: /opt/conda/conda-bld/work/src/metric/auc.cc:328: Dataset is empty, or contains only positive or negative samples.\n",
      "[19:27:44] WARNING: /opt/conda/conda-bld/work/src/metric/auc.cc:328: Dataset is empty, or contains only positive or negative samples.\n",
      "[19:27:44] WARNING: /opt/conda/conda-bld/work/src/metric/auc.cc:328: Dataset is empty, or contains only positive or negative samples.\n",
      "[19:27:44] WARNING: /opt/conda/conda-bld/work/src/metric/auc.cc:328: Dataset is empty, or contains only positive or negative samples.\n",
      "[19:27:44] WARNING: /opt/conda/conda-bld/work/src/metric/auc.cc:328: Dataset is empty, or contains only positive or negative samples.\n",
      "[19:27:44] WARNING: /opt/conda/conda-bld/work/src/metric/auc.cc:328: Dataset is empty, or contains only positive or negative samples.\n",
      "[19:27:44] WARNING: /opt/conda/conda-bld/work/src/metric/auc.cc:328: Dataset is empty, or contains only positive or negative samples.\n",
      "[19:27:44] WARNING: /opt/conda/conda-bld/work/src/metric/auc.cc:328: Dataset is empty, or contains only positive or negative samples.\n",
      "[19:27:44] WARNING: /opt/conda/conda-bld/work/src/metric/auc.cc:328: Dataset is empty, or contains only positive or negative samples.\n",
      "[19:27:44] WARNING: /opt/conda/conda-bld/work/src/metric/auc.cc:328: Dataset is empty, or contains only positive or negative samples.\n",
      "[19:27:44] WARNING: /opt/conda/conda-bld/work/src/metric/auc.cc:328: Dataset is empty, or contains only positive or negative samples.\n"
     ]
    },
    {
     "name": "stdout",
     "output_type": "stream",
     "text": [
      "[0]\ttrain-auc:nan                                      \n",
      "[1]\ttrain-auc:nan                                      \n",
      "[2]\ttrain-auc:nan                                      \n",
      "[3]\ttrain-auc:nan                                      \n",
      "[4]\ttrain-auc:nan                                      \n",
      "[5]\ttrain-auc:nan                                      \n",
      "[6]\ttrain-auc:nan                                      \n",
      "[7]\ttrain-auc:nan                                      \n",
      "[8]\ttrain-auc:nan                                      \n",
      "[9]\ttrain-auc:nan                                      \n",
      "[10]\ttrain-auc:nan                                     \n",
      "[11]\ttrain-auc:nan                                     \n",
      "[12]\ttrain-auc:nan                                     \n",
      "[13]\ttrain-auc:nan                                     \n",
      "[14]\ttrain-auc:nan                                     \n",
      "[15]\ttrain-auc:nan                                     \n",
      "[16]\ttrain-auc:nan                                     \n",
      "[17]\ttrain-auc:nan                                     \n",
      "[18]\ttrain-auc:nan                                     \n",
      "[19]\ttrain-auc:nan                                     \n",
      "[20]\ttrain-auc:nan                                     \n",
      "[21]\ttrain-auc:nan                                     \n",
      "[22]\ttrain-auc:nan                                     \n",
      "[23]\ttrain-auc:nan                                     \n",
      "[24]\ttrain-auc:nan                                     \n",
      "[25]\ttrain-auc:nan                                     \n",
      "[26]\ttrain-auc:nan                                     \n",
      "[27]\ttrain-auc:nan                                     \n",
      "[28]\ttrain-auc:nan                                     \n",
      "[29]\ttrain-auc:nan                                     \n",
      "[30]\ttrain-auc:nan                                     \n",
      "[31]\ttrain-auc:nan                                     \n",
      "[32]\ttrain-auc:nan                                     \n",
      "[33]\ttrain-auc:nan                                     \n",
      "[34]\ttrain-auc:nan                                     \n",
      "[35]\ttrain-auc:nan                                     \n",
      "[36]\ttrain-auc:nan                                     \n",
      "[37]\ttrain-auc:nan                                     \n",
      "[38]\ttrain-auc:nan                                     \n",
      "[39]\ttrain-auc:nan                                     \n",
      "[40]\ttrain-auc:nan                                     \n",
      "[41]\ttrain-auc:nan                                     \n",
      "[42]\ttrain-auc:nan                                     \n",
      "[43]\ttrain-auc:nan                                     \n",
      "[44]\ttrain-auc:nan                                     \n",
      "[45]\ttrain-auc:nan                                     \n",
      "[46]\ttrain-auc:nan                                     \n",
      "[47]\ttrain-auc:nan                                     \n",
      "[48]\ttrain-auc:nan                                     \n",
      "[49]\ttrain-auc:nan                                     \n",
      "[50]\ttrain-auc:nan                                     \n",
      "[51]\ttrain-auc:nan                                     \n",
      "[52]\ttrain-auc:nan                                     \n",
      "[53]\ttrain-auc:nan                                     \n",
      "[54]\ttrain-auc:nan                                     \n",
      "[55]\ttrain-auc:nan                                     \n",
      "[56]\ttrain-auc:nan                                     \n",
      "[57]\ttrain-auc:nan                                     \n",
      "[58]\ttrain-auc:nan                                     \n",
      "[59]\ttrain-auc:nan                                     \n",
      "[60]\ttrain-auc:nan                                     \n",
      "[61]\ttrain-auc:nan                                     \n",
      "[62]\ttrain-auc:nan                                     \n",
      "[63]\ttrain-auc:nan                                     \n",
      "[64]\ttrain-auc:nan                                     \n",
      "[65]\ttrain-auc:nan                                     \n",
      "[66]\ttrain-auc:nan                                     \n",
      "[67]\ttrain-auc:nan                                     \n",
      "[68]\ttrain-auc:nan                                     \n",
      "[69]\ttrain-auc:nan                                     \n",
      "[70]\ttrain-auc:nan                                     \n",
      "[71]\ttrain-auc:nan                                     \n",
      "[72]\ttrain-auc:nan                                     \n",
      "[73]\ttrain-auc:nan                                     \n",
      "[74]\ttrain-auc:nan                                     \n",
      "[75]\ttrain-auc:nan                                     \n",
      "[76]\ttrain-auc:nan                                     \n",
      "[77]\ttrain-auc:nan                                     \n",
      "[78]\ttrain-auc:nan                                     \n",
      "[79]\ttrain-auc:nan                                     \n",
      "[80]\ttrain-auc:nan                                     \n",
      "[81]\ttrain-auc:nan                                     \n",
      "[82]\ttrain-auc:nan                                     \n",
      "[83]\ttrain-auc:nan                                     \n",
      "[84]\ttrain-auc:nan                                     \n",
      "[85]\ttrain-auc:nan                                     \n",
      "[86]\ttrain-auc:nan                                     \n",
      "[87]\ttrain-auc:nan                                     \n",
      "[88]\ttrain-auc:nan                                     \n",
      "[89]\ttrain-auc:nan                                     \n",
      "[90]\ttrain-auc:nan                                     \n",
      "[91]\ttrain-auc:nan                                     \n",
      "[92]\ttrain-auc:nan                                     \n",
      "[93]\ttrain-auc:nan                                     \n",
      "[94]\ttrain-auc:nan                                     \n",
      "[95]\ttrain-auc:nan                                     \n",
      "[96]\ttrain-auc:nan                                     \n",
      "[97]\ttrain-auc:nan                                     \n",
      "[98]\ttrain-auc:nan                                     \n",
      "[99]\ttrain-auc:nan                                     \n",
      "  0%|          | 0/100 [00:04<?, ?trial/s, best loss=?]"
     ]
    },
    {
     "name": "stdout",
     "output_type": "stream",
     "text": [
      "pred 4          87.221710                              \n",
      "6          87.221710\n",
      "10         86.263725\n",
      "14         86.263725\n",
      "16         86.402061\n",
      "             ...    \n",
      "2587403    22.512377\n",
      "2587412    22.512377\n",
      "2587413    22.512377\n",
      "2587414    22.512377\n",
      "2587429    22.512377\n",
      "Name: 0, Length: 603735, dtype: float32\n",
      "  0%|          | 0/100 [00:07<?, ?trial/s, best loss=?]"
     ]
    },
    {
     "name": "stderr",
     "output_type": "stream",
     "text": [
      "ERROR:hyperopt.fmin:job exception: 'NoneType' object is not iterable\n",
      "\n"
     ]
    },
    {
     "name": "stdout",
     "output_type": "stream",
     "text": [
      "  0%|          | 0/100 [00:07<?, ?trial/s, best loss=?]\n"
     ]
    },
    {
     "ename": "TypeError",
     "evalue": "'NoneType' object is not iterable",
     "output_type": "error",
     "traceback": [
      "\u001b[0;31m---------------------------------------------------------------------------\u001b[0m",
      "\u001b[0;31mTypeError\u001b[0m                                 Traceback (most recent call last)",
      "\u001b[1;32m/home/smartroom/jhonatan/raftel/notebooks/XGBoost_training_multi_GPU.ipynb Cell 14\u001b[0m line \u001b[0;36m2\n\u001b[1;32m     <a href='vscode-notebook-cell://wsl%2Bubuntu-18.04/home/smartroom/jhonatan/raftel/notebooks/XGBoost_training_multi_GPU.ipynb#X35sdnNjb2RlLXJlbW90ZQ%3D%3D?line=19'>20</a>\u001b[0m dtrain \u001b[39m=\u001b[39m xgb\u001b[39m.\u001b[39mdask\u001b[39m.\u001b[39mDaskQuantileDMatrix(client, X_train, y_train)\n\u001b[1;32m     <a href='vscode-notebook-cell://wsl%2Bubuntu-18.04/home/smartroom/jhonatan/raftel/notebooks/XGBoost_training_multi_GPU.ipynb#X35sdnNjb2RlLXJlbW90ZQ%3D%3D?line=21'>22</a>\u001b[0m trials \u001b[39m=\u001b[39m Trials()\n\u001b[0;32m---> <a href='vscode-notebook-cell://wsl%2Bubuntu-18.04/home/smartroom/jhonatan/raftel/notebooks/XGBoost_training_multi_GPU.ipynb#X35sdnNjb2RlLXJlbW90ZQ%3D%3D?line=22'>23</a>\u001b[0m best_hyperparams \u001b[39m+\u001b[39m\u001b[39m=\u001b[39m [fmin(fn \u001b[39m=\u001b[39;49m objective,\n\u001b[1;32m     <a href='vscode-notebook-cell://wsl%2Bubuntu-18.04/home/smartroom/jhonatan/raftel/notebooks/XGBoost_training_multi_GPU.ipynb#X35sdnNjb2RlLXJlbW90ZQ%3D%3D?line=23'>24</a>\u001b[0m                         space \u001b[39m=\u001b[39;49m space,\n\u001b[1;32m     <a href='vscode-notebook-cell://wsl%2Bubuntu-18.04/home/smartroom/jhonatan/raftel/notebooks/XGBoost_training_multi_GPU.ipynb#X35sdnNjb2RlLXJlbW90ZQ%3D%3D?line=24'>25</a>\u001b[0m                         algo \u001b[39m=\u001b[39;49m tpe\u001b[39m.\u001b[39;49msuggest,\n\u001b[1;32m     <a href='vscode-notebook-cell://wsl%2Bubuntu-18.04/home/smartroom/jhonatan/raftel/notebooks/XGBoost_training_multi_GPU.ipynb#X35sdnNjb2RlLXJlbW90ZQ%3D%3D?line=25'>26</a>\u001b[0m                         max_evals \u001b[39m=\u001b[39;49m \u001b[39m100\u001b[39;49m,\n\u001b[1;32m     <a href='vscode-notebook-cell://wsl%2Bubuntu-18.04/home/smartroom/jhonatan/raftel/notebooks/XGBoost_training_multi_GPU.ipynb#X35sdnNjb2RlLXJlbW90ZQ%3D%3D?line=26'>27</a>\u001b[0m                         trials \u001b[39m=\u001b[39;49m trials)]\n\u001b[1;32m     <a href='vscode-notebook-cell://wsl%2Bubuntu-18.04/home/smartroom/jhonatan/raftel/notebooks/XGBoost_training_multi_GPU.ipynb#X35sdnNjb2RlLXJlbW90ZQ%3D%3D?line=28'>29</a>\u001b[0m \u001b[39mprint\u001b[39m(\u001b[39mf\u001b[39m\u001b[39m\"\u001b[39m\u001b[39mParams \u001b[39m\u001b[39m{\u001b[39;00mbest_hyperparams[\u001b[39m-\u001b[39m\u001b[39m1\u001b[39m]\u001b[39m}\u001b[39;00m\u001b[39m\"\u001b[39m)\n\u001b[1;32m     <a href='vscode-notebook-cell://wsl%2Bubuntu-18.04/home/smartroom/jhonatan/raftel/notebooks/XGBoost_training_multi_GPU.ipynb#X35sdnNjb2RlLXJlbW90ZQ%3D%3D?line=29'>30</a>\u001b[0m \u001b[39mbreak\u001b[39;00m\n",
      "File \u001b[0;32m~/miniconda3/envs/rapids-23.04/lib/python3.10/site-packages/hyperopt/fmin.py:540\u001b[0m, in \u001b[0;36mfmin\u001b[0;34m(fn, space, algo, max_evals, timeout, loss_threshold, trials, rstate, allow_trials_fmin, pass_expr_memo_ctrl, catch_eval_exceptions, verbose, return_argmin, points_to_evaluate, max_queue_len, show_progressbar, early_stop_fn, trials_save_file)\u001b[0m\n\u001b[1;32m    537\u001b[0m     fn \u001b[39m=\u001b[39m __objective_fmin_wrapper(fn)\n\u001b[1;32m    539\u001b[0m \u001b[39mif\u001b[39;00m allow_trials_fmin \u001b[39mand\u001b[39;00m \u001b[39mhasattr\u001b[39m(trials, \u001b[39m\"\u001b[39m\u001b[39mfmin\u001b[39m\u001b[39m\"\u001b[39m):\n\u001b[0;32m--> 540\u001b[0m     \u001b[39mreturn\u001b[39;00m trials\u001b[39m.\u001b[39;49mfmin(\n\u001b[1;32m    541\u001b[0m         fn,\n\u001b[1;32m    542\u001b[0m         space,\n\u001b[1;32m    543\u001b[0m         algo\u001b[39m=\u001b[39;49malgo,\n\u001b[1;32m    544\u001b[0m         max_evals\u001b[39m=\u001b[39;49mmax_evals,\n\u001b[1;32m    545\u001b[0m         timeout\u001b[39m=\u001b[39;49mtimeout,\n\u001b[1;32m    546\u001b[0m         loss_threshold\u001b[39m=\u001b[39;49mloss_threshold,\n\u001b[1;32m    547\u001b[0m         max_queue_len\u001b[39m=\u001b[39;49mmax_queue_len,\n\u001b[1;32m    548\u001b[0m         rstate\u001b[39m=\u001b[39;49mrstate,\n\u001b[1;32m    549\u001b[0m         pass_expr_memo_ctrl\u001b[39m=\u001b[39;49mpass_expr_memo_ctrl,\n\u001b[1;32m    550\u001b[0m         verbose\u001b[39m=\u001b[39;49mverbose,\n\u001b[1;32m    551\u001b[0m         catch_eval_exceptions\u001b[39m=\u001b[39;49mcatch_eval_exceptions,\n\u001b[1;32m    552\u001b[0m         return_argmin\u001b[39m=\u001b[39;49mreturn_argmin,\n\u001b[1;32m    553\u001b[0m         show_progressbar\u001b[39m=\u001b[39;49mshow_progressbar,\n\u001b[1;32m    554\u001b[0m         early_stop_fn\u001b[39m=\u001b[39;49mearly_stop_fn,\n\u001b[1;32m    555\u001b[0m         trials_save_file\u001b[39m=\u001b[39;49mtrials_save_file,\n\u001b[1;32m    556\u001b[0m     )\n\u001b[1;32m    558\u001b[0m \u001b[39mif\u001b[39;00m trials \u001b[39mis\u001b[39;00m \u001b[39mNone\u001b[39;00m:\n\u001b[1;32m    559\u001b[0m     \u001b[39mif\u001b[39;00m os\u001b[39m.\u001b[39mpath\u001b[39m.\u001b[39mexists(trials_save_file):\n",
      "File \u001b[0;32m~/miniconda3/envs/rapids-23.04/lib/python3.10/site-packages/hyperopt/base.py:671\u001b[0m, in \u001b[0;36mTrials.fmin\u001b[0;34m(self, fn, space, algo, max_evals, timeout, loss_threshold, max_queue_len, rstate, verbose, pass_expr_memo_ctrl, catch_eval_exceptions, return_argmin, show_progressbar, early_stop_fn, trials_save_file)\u001b[0m\n\u001b[1;32m    666\u001b[0m \u001b[39m# -- Stop-gap implementation!\u001b[39;00m\n\u001b[1;32m    667\u001b[0m \u001b[39m#    fmin should have been a Trials method in the first place\u001b[39;00m\n\u001b[1;32m    668\u001b[0m \u001b[39m#    but for now it's still sitting in another file.\u001b[39;00m\n\u001b[1;32m    669\u001b[0m \u001b[39mfrom\u001b[39;00m \u001b[39m.\u001b[39;00m\u001b[39mfmin\u001b[39;00m \u001b[39mimport\u001b[39;00m fmin\n\u001b[0;32m--> 671\u001b[0m \u001b[39mreturn\u001b[39;00m fmin(\n\u001b[1;32m    672\u001b[0m     fn,\n\u001b[1;32m    673\u001b[0m     space,\n\u001b[1;32m    674\u001b[0m     algo\u001b[39m=\u001b[39;49malgo,\n\u001b[1;32m    675\u001b[0m     max_evals\u001b[39m=\u001b[39;49mmax_evals,\n\u001b[1;32m    676\u001b[0m     timeout\u001b[39m=\u001b[39;49mtimeout,\n\u001b[1;32m    677\u001b[0m     loss_threshold\u001b[39m=\u001b[39;49mloss_threshold,\n\u001b[1;32m    678\u001b[0m     trials\u001b[39m=\u001b[39;49m\u001b[39mself\u001b[39;49m,\n\u001b[1;32m    679\u001b[0m     rstate\u001b[39m=\u001b[39;49mrstate,\n\u001b[1;32m    680\u001b[0m     verbose\u001b[39m=\u001b[39;49mverbose,\n\u001b[1;32m    681\u001b[0m     max_queue_len\u001b[39m=\u001b[39;49mmax_queue_len,\n\u001b[1;32m    682\u001b[0m     allow_trials_fmin\u001b[39m=\u001b[39;49m\u001b[39mFalse\u001b[39;49;00m,  \u001b[39m# -- prevent recursion\u001b[39;49;00m\n\u001b[1;32m    683\u001b[0m     pass_expr_memo_ctrl\u001b[39m=\u001b[39;49mpass_expr_memo_ctrl,\n\u001b[1;32m    684\u001b[0m     catch_eval_exceptions\u001b[39m=\u001b[39;49mcatch_eval_exceptions,\n\u001b[1;32m    685\u001b[0m     return_argmin\u001b[39m=\u001b[39;49mreturn_argmin,\n\u001b[1;32m    686\u001b[0m     show_progressbar\u001b[39m=\u001b[39;49mshow_progressbar,\n\u001b[1;32m    687\u001b[0m     early_stop_fn\u001b[39m=\u001b[39;49mearly_stop_fn,\n\u001b[1;32m    688\u001b[0m     trials_save_file\u001b[39m=\u001b[39;49mtrials_save_file,\n\u001b[1;32m    689\u001b[0m )\n",
      "File \u001b[0;32m~/miniconda3/envs/rapids-23.04/lib/python3.10/site-packages/hyperopt/fmin.py:586\u001b[0m, in \u001b[0;36mfmin\u001b[0;34m(fn, space, algo, max_evals, timeout, loss_threshold, trials, rstate, allow_trials_fmin, pass_expr_memo_ctrl, catch_eval_exceptions, verbose, return_argmin, points_to_evaluate, max_queue_len, show_progressbar, early_stop_fn, trials_save_file)\u001b[0m\n\u001b[1;32m    583\u001b[0m rval\u001b[39m.\u001b[39mcatch_eval_exceptions \u001b[39m=\u001b[39m catch_eval_exceptions\n\u001b[1;32m    585\u001b[0m \u001b[39m# next line is where the fmin is actually executed\u001b[39;00m\n\u001b[0;32m--> 586\u001b[0m rval\u001b[39m.\u001b[39;49mexhaust()\n\u001b[1;32m    588\u001b[0m \u001b[39mif\u001b[39;00m return_argmin:\n\u001b[1;32m    589\u001b[0m     \u001b[39mif\u001b[39;00m \u001b[39mlen\u001b[39m(trials\u001b[39m.\u001b[39mtrials) \u001b[39m==\u001b[39m \u001b[39m0\u001b[39m:\n",
      "File \u001b[0;32m~/miniconda3/envs/rapids-23.04/lib/python3.10/site-packages/hyperopt/fmin.py:364\u001b[0m, in \u001b[0;36mFMinIter.exhaust\u001b[0;34m(self)\u001b[0m\n\u001b[1;32m    362\u001b[0m \u001b[39mdef\u001b[39;00m \u001b[39mexhaust\u001b[39m(\u001b[39mself\u001b[39m):\n\u001b[1;32m    363\u001b[0m     n_done \u001b[39m=\u001b[39m \u001b[39mlen\u001b[39m(\u001b[39mself\u001b[39m\u001b[39m.\u001b[39mtrials)\n\u001b[0;32m--> 364\u001b[0m     \u001b[39mself\u001b[39;49m\u001b[39m.\u001b[39;49mrun(\u001b[39mself\u001b[39;49m\u001b[39m.\u001b[39;49mmax_evals \u001b[39m-\u001b[39;49m n_done, block_until_done\u001b[39m=\u001b[39;49m\u001b[39mself\u001b[39;49m\u001b[39m.\u001b[39;49masynchronous)\n\u001b[1;32m    365\u001b[0m     \u001b[39mself\u001b[39m\u001b[39m.\u001b[39mtrials\u001b[39m.\u001b[39mrefresh()\n\u001b[1;32m    366\u001b[0m     \u001b[39mreturn\u001b[39;00m \u001b[39mself\u001b[39m\n",
      "File \u001b[0;32m~/miniconda3/envs/rapids-23.04/lib/python3.10/site-packages/hyperopt/fmin.py:300\u001b[0m, in \u001b[0;36mFMinIter.run\u001b[0;34m(self, N, block_until_done)\u001b[0m\n\u001b[1;32m    297\u001b[0m     time\u001b[39m.\u001b[39msleep(\u001b[39mself\u001b[39m\u001b[39m.\u001b[39mpoll_interval_secs)\n\u001b[1;32m    298\u001b[0m \u001b[39melse\u001b[39;00m:\n\u001b[1;32m    299\u001b[0m     \u001b[39m# -- loop over trials and do the jobs directly\u001b[39;00m\n\u001b[0;32m--> 300\u001b[0m     \u001b[39mself\u001b[39;49m\u001b[39m.\u001b[39;49mserial_evaluate()\n\u001b[1;32m    302\u001b[0m \u001b[39mself\u001b[39m\u001b[39m.\u001b[39mtrials\u001b[39m.\u001b[39mrefresh()\n\u001b[1;32m    303\u001b[0m \u001b[39mif\u001b[39;00m \u001b[39mself\u001b[39m\u001b[39m.\u001b[39mtrials_save_file \u001b[39m!=\u001b[39m \u001b[39m\"\u001b[39m\u001b[39m\"\u001b[39m:\n",
      "File \u001b[0;32m~/miniconda3/envs/rapids-23.04/lib/python3.10/site-packages/hyperopt/fmin.py:178\u001b[0m, in \u001b[0;36mFMinIter.serial_evaluate\u001b[0;34m(self, N)\u001b[0m\n\u001b[1;32m    176\u001b[0m ctrl \u001b[39m=\u001b[39m base\u001b[39m.\u001b[39mCtrl(\u001b[39mself\u001b[39m\u001b[39m.\u001b[39mtrials, current_trial\u001b[39m=\u001b[39mtrial)\n\u001b[1;32m    177\u001b[0m \u001b[39mtry\u001b[39;00m:\n\u001b[0;32m--> 178\u001b[0m     result \u001b[39m=\u001b[39m \u001b[39mself\u001b[39;49m\u001b[39m.\u001b[39;49mdomain\u001b[39m.\u001b[39;49mevaluate(spec, ctrl)\n\u001b[1;32m    179\u001b[0m \u001b[39mexcept\u001b[39;00m \u001b[39mException\u001b[39;00m \u001b[39mas\u001b[39;00m e:\n\u001b[1;32m    180\u001b[0m     logger\u001b[39m.\u001b[39merror(\u001b[39m\"\u001b[39m\u001b[39mjob exception: \u001b[39m\u001b[39m%s\u001b[39;00m\u001b[39m\"\u001b[39m \u001b[39m%\u001b[39m \u001b[39mstr\u001b[39m(e))\n",
      "File \u001b[0;32m~/miniconda3/envs/rapids-23.04/lib/python3.10/site-packages/hyperopt/base.py:897\u001b[0m, in \u001b[0;36mDomain.evaluate\u001b[0;34m(self, config, ctrl, attach_attachments)\u001b[0m\n\u001b[1;32m    895\u001b[0m     dict_rval \u001b[39m=\u001b[39m {\u001b[39m\"\u001b[39m\u001b[39mloss\u001b[39m\u001b[39m\"\u001b[39m: \u001b[39mfloat\u001b[39m(rval), \u001b[39m\"\u001b[39m\u001b[39mstatus\u001b[39m\u001b[39m\"\u001b[39m: STATUS_OK}\n\u001b[1;32m    896\u001b[0m \u001b[39melse\u001b[39;00m:\n\u001b[0;32m--> 897\u001b[0m     dict_rval \u001b[39m=\u001b[39m \u001b[39mdict\u001b[39;49m(rval)\n\u001b[1;32m    898\u001b[0m     status \u001b[39m=\u001b[39m dict_rval[\u001b[39m\"\u001b[39m\u001b[39mstatus\u001b[39m\u001b[39m\"\u001b[39m]\n\u001b[1;32m    899\u001b[0m     \u001b[39mif\u001b[39;00m status \u001b[39mnot\u001b[39;00m \u001b[39min\u001b[39;00m STATUS_STRINGS:\n",
      "\u001b[0;31mTypeError\u001b[0m: 'NoneType' object is not iterable"
     ]
    }
   ],
   "source": [
    "skf = StratifiedKFold(n_splits=3)\n",
    "best_hyperparams = []\n",
    "\n",
    "for i, (train_index, test_index) in enumerate(skf.split(X_aras_train, y_aras_train)):\n",
    "    print(f\"Fold {i}:\")\n",
    "\n",
    "    X_train = X_aras_train.iloc[train_index]\n",
    "    X_train = dd.from_pandas(X_train, npartitions=2)\n",
    "    \n",
    "    y_train = y_aras_train.iloc[train_index]\n",
    "    y_train = dd.from_pandas(y_train, npartitions=2)\n",
    "    \n",
    "\n",
    "    X_test = X_aras_train.iloc[test_index]\n",
    "    X_test = dd.from_pandas(X_test, npartitions=2)\n",
    "\n",
    "    y_test = y_aras_train.iloc[test_index]\n",
    "    y_test = dd.from_pandas(y_test, npartitions=2)\n",
    "\n",
    "    dtrain = xgb.dask.DaskQuantileDMatrix(client, X_train, y_train)\n",
    "\n",
    "    trials = Trials()\n",
    "    best_hyperparams += [fmin(fn = objective,\n",
    "                            space = space,\n",
    "                            algo = tpe.suggest,\n",
    "                            max_evals = 100,\n",
    "                            trials = trials)]\n",
    "    \n",
    "    print(f\"Params {best_hyperparams[-1]}\")\n",
    "    break"
   ]
  },
  {
   "cell_type": "code",
   "execution_count": null,
   "id": "29c36f5f-3f32-4464-a9bb-c75308a76e74",
   "metadata": {},
   "outputs": [],
   "source": [
    "print(\"The best hyperparameters are : \",\"\\n\")\n",
    "print(best_hyperparams)"
   ]
  },
  {
   "cell_type": "code",
   "execution_count": null,
   "id": "27e1dd86-0883-4320-82ae-5dcc78c3d06b",
   "metadata": {},
   "outputs": [],
   "source": []
  },
  {
   "cell_type": "code",
   "execution_count": null,
   "id": "5c57742b-f67c-4d90-9d6c-e47e3b802dce",
   "metadata": {},
   "outputs": [],
   "source": []
  },
  {
   "cell_type": "code",
   "execution_count": null,
   "id": "2895e8e2-3862-447f-a175-162b2ac350a3",
   "metadata": {},
   "outputs": [],
   "source": []
  },
  {
   "cell_type": "code",
   "execution_count": null,
   "id": "5c765fcd-a971-4275-8c0a-b4abf0fa627e",
   "metadata": {},
   "outputs": [],
   "source": []
  },
  {
   "cell_type": "markdown",
   "id": "ff921144-a1b2-4a08-9b13-ca504d9ccf02",
   "metadata": {},
   "source": [
    "### Not used ↓↓↓↓"
   ]
  },
  {
   "cell_type": "code",
   "execution_count": null,
   "id": "2d91785d-4b88-4d29-8702-048946eb9e54",
   "metadata": {},
   "outputs": [],
   "source": [
    "X_aras_train = X_aras.loc[(\n",
    "    (X_aras['DAY_26'] != 1) & \n",
    "    (X_aras['DAY_27'] != 1) & \n",
    "    (X_aras['DAY_28'] != 1) & \n",
    "    (X_aras['DAY_29'] != 1) &\n",
    "    (X_aras['DAY_30'] != 1) \n",
    ")]\n",
    "\n",
    "X_aras_test = X_aras.loc[(\n",
    "    (X_aras['DAY_26'] == 1) | \n",
    "    (X_aras['DAY_27'] == 1) | \n",
    "    (X_aras['DAY_28'] == 1) | \n",
    "    (X_aras['DAY_29'] == 1) | \n",
    "    (X_aras['DAY_30'] == 1) \n",
    ")]"
   ]
  },
  {
   "cell_type": "code",
   "execution_count": null,
   "id": "ae3e3248-8d59-4951-a23f-040416b2d358",
   "metadata": {},
   "outputs": [],
   "source": [
    "y_aras_train = X_aras_train['LABEL']\n",
    "y_aras_test = X_aras_test['LABEL']\n",
    "\n",
    "\n",
    "X_aras_train = X_aras_train.drop(columns=['LABEL'])\n",
    "X_aras_test = X_aras_test.drop(columns=['LABEL'])"
   ]
  },
  {
   "cell_type": "code",
   "execution_count": null,
   "id": "6b6a0bda-76f1-45af-89cb-728b58c0612a",
   "metadata": {},
   "outputs": [],
   "source": [
    "X_aras_train.shape, y_aras_train.shape, X_aras_test.shape, y_aras_test.shape"
   ]
  },
  {
   "cell_type": "code",
   "execution_count": null,
   "id": "d39142c2-3853-462a-8325-de5e6c2f8d65",
   "metadata": {},
   "outputs": [],
   "source": []
  },
  {
   "cell_type": "code",
   "execution_count": null,
   "id": "ae19add8-140a-41de-8886-536d62bcf9dd",
   "metadata": {},
   "outputs": [],
   "source": [
    "from sklearn.datasets import make_multilabel_classification"
   ]
  },
  {
   "cell_type": "code",
   "execution_count": null,
   "id": "441a7c82-ee35-4c93-adfd-4579cb528136",
   "metadata": {},
   "outputs": [],
   "source": [
    "X, y = make_multilabel_classification(n_samples=3000, n_features=45, n_classes=20, n_labels=1,\n",
    "                                      allow_unlabeled=False, random_state=42)"
   ]
  },
  {
   "cell_type": "code",
   "execution_count": null,
   "id": "216c04b4-6f60-4cfe-87a3-8ca7fa950ac4",
   "metadata": {},
   "outputs": [],
   "source": [
    "X"
   ]
  }
 ],
 "metadata": {
  "kernelspec": {
   "display_name": "rapids-23.04",
   "language": "python",
   "name": "python3"
  },
  "language_info": {
   "codemirror_mode": {
    "name": "ipython",
    "version": 3
   },
   "file_extension": ".py",
   "mimetype": "text/x-python",
   "name": "python",
   "nbconvert_exporter": "python",
   "pygments_lexer": "ipython3",
   "version": "3.10.13"
  }
 },
 "nbformat": 4,
 "nbformat_minor": 5
}
