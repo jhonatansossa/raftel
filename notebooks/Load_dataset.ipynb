{
 "cells": [
  {
   "cell_type": "code",
   "execution_count": 4,
   "id": "ed82bb50-254c-4dd3-a196-f57e2e81f093",
   "metadata": {},
   "outputs": [
    {
     "name": "stdout",
     "output_type": "stream",
     "text": [
      "The kedro.extras.extensions.ipython extension is already loaded. To reload it, use:\n",
      "  %reload_ext kedro.extras.extensions.ipython\n"
     ]
    }
   ],
   "source": [
    "%load_ext kedro.extras.extensions.ipython"
   ]
  },
  {
   "cell_type": "code",
   "execution_count": 5,
   "id": "067c8c8c-fb5a-454a-aa80-eea1cea31e06",
   "metadata": {},
   "outputs": [
    {
     "data": {
      "text/html": [
       "<pre style=\"white-space:pre;overflow-x:auto;line-height:normal;font-family:Menlo,'DejaVu Sans Mono',consolas,'Courier New',monospace\"><span style=\"color: #7fbfbf; text-decoration-color: #7fbfbf\">[01/30/24 13:49:15] </span><span style=\"color: #000080; text-decoration-color: #000080\">INFO    </span> Resolved project path as: <span style=\"color: #800080; text-decoration-color: #800080\">/home/sossa/</span><span style=\"color: #ff00ff; text-decoration-color: #ff00ff\">raftel.</span>                          <a href=\"file:///home/sossa/miniconda3/envs/raftel/lib/python3.8/site-packages/kedro/ipython/__init__.py\" target=\"_blank\"><span style=\"color: #7f7f7f; text-decoration-color: #7f7f7f\">__init__.py</span></a><span style=\"color: #7f7f7f; text-decoration-color: #7f7f7f\">:</span><a href=\"file:///home/sossa/miniconda3/envs/raftel/lib/python3.8/site-packages/kedro/ipython/__init__.py#134\" target=\"_blank\"><span style=\"color: #7f7f7f; text-decoration-color: #7f7f7f\">134</span></a>\n",
       "<span style=\"color: #7fbfbf; text-decoration-color: #7fbfbf\">                    </span>         To set a different path, run <span style=\"color: #008000; text-decoration-color: #008000\">'%reload_kedro &lt;project_root&gt;'</span>            <span style=\"color: #7f7f7f; text-decoration-color: #7f7f7f\">               </span>\n",
       "</pre>\n"
      ],
      "text/plain": [
       "\u001b[2;36m[01/30/24 13:49:15]\u001b[0m\u001b[2;36m \u001b[0m\u001b[34mINFO    \u001b[0m Resolved project path as: \u001b[35m/home/sossa/\u001b[0m\u001b[95mraftel.\u001b[0m                          \u001b]8;id=460348;file:///home/sossa/miniconda3/envs/raftel/lib/python3.8/site-packages/kedro/ipython/__init__.py\u001b\\\u001b[2m__init__.py\u001b[0m\u001b]8;;\u001b\\\u001b[2m:\u001b[0m\u001b]8;id=937608;file:///home/sossa/miniconda3/envs/raftel/lib/python3.8/site-packages/kedro/ipython/__init__.py#134\u001b\\\u001b[2m134\u001b[0m\u001b]8;;\u001b\\\n",
       "\u001b[2;36m                    \u001b[0m         To set a different path, run \u001b[32m'%reload_kedro \u001b[0m\u001b[32m<\u001b[0m\u001b[32mproject_root\u001b[0m\u001b[32m>\u001b[0m\u001b[32m'\u001b[0m            \u001b[2m               \u001b[0m\n"
      ]
     },
     "metadata": {},
     "output_type": "display_data"
    },
    {
     "data": {
      "text/html": [
       "<pre style=\"white-space:pre;overflow-x:auto;line-height:normal;font-family:Menlo,'DejaVu Sans Mono',consolas,'Courier New',monospace\"><span style=\"color: #7fbfbf; text-decoration-color: #7fbfbf\">[01/30/24 13:49:15] </span><span style=\"color: #000080; text-decoration-color: #000080\">INFO    </span> Kedro project raftel                                                   <a href=\"file:///home/sossa/miniconda3/envs/raftel/lib/python3.8/site-packages/kedro/ipython/__init__.py\" target=\"_blank\"><span style=\"color: #7f7f7f; text-decoration-color: #7f7f7f\">__init__.py</span></a><span style=\"color: #7f7f7f; text-decoration-color: #7f7f7f\">:</span><a href=\"file:///home/sossa/miniconda3/envs/raftel/lib/python3.8/site-packages/kedro/ipython/__init__.py#103\" target=\"_blank\"><span style=\"color: #7f7f7f; text-decoration-color: #7f7f7f\">103</span></a>\n",
       "</pre>\n"
      ],
      "text/plain": [
       "\u001b[2;36m[01/30/24 13:49:15]\u001b[0m\u001b[2;36m \u001b[0m\u001b[34mINFO    \u001b[0m Kedro project raftel                                                   \u001b]8;id=316522;file:///home/sossa/miniconda3/envs/raftel/lib/python3.8/site-packages/kedro/ipython/__init__.py\u001b\\\u001b[2m__init__.py\u001b[0m\u001b]8;;\u001b\\\u001b[2m:\u001b[0m\u001b]8;id=624832;file:///home/sossa/miniconda3/envs/raftel/lib/python3.8/site-packages/kedro/ipython/__init__.py#103\u001b\\\u001b[2m103\u001b[0m\u001b]8;;\u001b\\\n"
      ]
     },
     "metadata": {},
     "output_type": "display_data"
    },
    {
     "data": {
      "text/html": [
       "<pre style=\"white-space:pre;overflow-x:auto;line-height:normal;font-family:Menlo,'DejaVu Sans Mono',consolas,'Courier New',monospace\"><span style=\"color: #7fbfbf; text-decoration-color: #7fbfbf\">                    </span><span style=\"color: #000080; text-decoration-color: #000080\">INFO    </span> Defined global variable <span style=\"color: #008000; text-decoration-color: #008000\">'context'</span>, <span style=\"color: #008000; text-decoration-color: #008000\">'session'</span>, <span style=\"color: #008000; text-decoration-color: #008000\">'catalog'</span> and            <a href=\"file:///home/sossa/miniconda3/envs/raftel/lib/python3.8/site-packages/kedro/ipython/__init__.py\" target=\"_blank\"><span style=\"color: #7f7f7f; text-decoration-color: #7f7f7f\">__init__.py</span></a><span style=\"color: #7f7f7f; text-decoration-color: #7f7f7f\">:</span><a href=\"file:///home/sossa/miniconda3/envs/raftel/lib/python3.8/site-packages/kedro/ipython/__init__.py#104\" target=\"_blank\"><span style=\"color: #7f7f7f; text-decoration-color: #7f7f7f\">104</span></a>\n",
       "<span style=\"color: #7fbfbf; text-decoration-color: #7fbfbf\">                    </span>         <span style=\"color: #008000; text-decoration-color: #008000\">'pipelines'</span>                                                            <span style=\"color: #7f7f7f; text-decoration-color: #7f7f7f\">               </span>\n",
       "</pre>\n"
      ],
      "text/plain": [
       "\u001b[2;36m                   \u001b[0m\u001b[2;36m \u001b[0m\u001b[34mINFO    \u001b[0m Defined global variable \u001b[32m'context'\u001b[0m, \u001b[32m'session'\u001b[0m, \u001b[32m'catalog'\u001b[0m and            \u001b]8;id=798577;file:///home/sossa/miniconda3/envs/raftel/lib/python3.8/site-packages/kedro/ipython/__init__.py\u001b\\\u001b[2m__init__.py\u001b[0m\u001b]8;;\u001b\\\u001b[2m:\u001b[0m\u001b]8;id=556930;file:///home/sossa/miniconda3/envs/raftel/lib/python3.8/site-packages/kedro/ipython/__init__.py#104\u001b\\\u001b[2m104\u001b[0m\u001b]8;;\u001b\\\n",
       "\u001b[2;36m                    \u001b[0m         \u001b[32m'pipelines'\u001b[0m                                                            \u001b[2m               \u001b[0m\n"
      ]
     },
     "metadata": {},
     "output_type": "display_data"
    },
    {
     "data": {
      "text/html": [
       "<pre style=\"white-space:pre;overflow-x:auto;line-height:normal;font-family:Menlo,'DejaVu Sans Mono',consolas,'Courier New',monospace\"><span style=\"color: #7fbfbf; text-decoration-color: #7fbfbf\">                    </span><span style=\"color: #000080; text-decoration-color: #000080\">INFO    </span> Registered line magic <span style=\"color: #008000; text-decoration-color: #008000\">'run_viz'</span>                                        <a href=\"file:///home/sossa/miniconda3/envs/raftel/lib/python3.8/site-packages/kedro/ipython/__init__.py\" target=\"_blank\"><span style=\"color: #7f7f7f; text-decoration-color: #7f7f7f\">__init__.py</span></a><span style=\"color: #7f7f7f; text-decoration-color: #7f7f7f\">:</span><a href=\"file:///home/sossa/miniconda3/envs/raftel/lib/python3.8/site-packages/kedro/ipython/__init__.py#110\" target=\"_blank\"><span style=\"color: #7f7f7f; text-decoration-color: #7f7f7f\">110</span></a>\n",
       "</pre>\n"
      ],
      "text/plain": [
       "\u001b[2;36m                   \u001b[0m\u001b[2;36m \u001b[0m\u001b[34mINFO    \u001b[0m Registered line magic \u001b[32m'run_viz'\u001b[0m                                        \u001b]8;id=86089;file:///home/sossa/miniconda3/envs/raftel/lib/python3.8/site-packages/kedro/ipython/__init__.py\u001b\\\u001b[2m__init__.py\u001b[0m\u001b]8;;\u001b\\\u001b[2m:\u001b[0m\u001b]8;id=387934;file:///home/sossa/miniconda3/envs/raftel/lib/python3.8/site-packages/kedro/ipython/__init__.py#110\u001b\\\u001b[2m110\u001b[0m\u001b]8;;\u001b\\\n"
      ]
     },
     "metadata": {},
     "output_type": "display_data"
    }
   ],
   "source": [
    "%reload_kedro"
   ]
  },
  {
   "cell_type": "code",
   "execution_count": 6,
   "id": "d8a395ed-13a9-41d0-a198-d5763784d192",
   "metadata": {},
   "outputs": [],
   "source": [
    "from pyspark.sql import SparkSession\n",
    "from pyspark.sql.types import StructType, StructField, IntegerType, StringType\n",
    "import pyspark.sql.functions as F\n",
    "from pyspark.sql.window import Window"
   ]
  },
  {
   "cell_type": "code",
   "execution_count": 7,
   "id": "8a789d59-1a7e-42fd-8d8a-281adf9c7b37",
   "metadata": {},
   "outputs": [],
   "source": [
    "spark = SparkSession.builder.getOrCreate()"
   ]
  },
  {
   "cell_type": "code",
   "execution_count": 5,
   "id": "060aa817-9d85-49c6-a862-4107448f7fb5",
   "metadata": {},
   "outputs": [],
   "source": [
    "schema = StructType([StructField(\"Ph1\", StringType(), False),\n",
    "                    StructField(\"Ph2\", StringType(), False),\n",
    "                    StructField(\"Ir1\", StringType(), False),\n",
    "                    StructField(\"Fo1\", StringType(), False),\n",
    "                    StructField(\"Fo2\", StringType(), False),\n",
    "                    StructField(\"Di3\", StringType(), False),\n",
    "                    StructField(\"Di4\", StringType(), False),\n",
    "                    StructField(\"Ph3\", StringType(), False),\n",
    "                    StructField(\"Ph4\", StringType(), False),\n",
    "                    StructField(\"Ph5\", StringType(), False),\n",
    "                    StructField(\"Ph6\", StringType(), False),\n",
    "                    StructField(\"Co1\", StringType(), False),\n",
    "                    StructField(\"Co2\", StringType(), False),\n",
    "                    StructField(\"Co3\", StringType(), False),\n",
    "                    StructField(\"So1\", StringType(), False),\n",
    "                    StructField(\"So2\", StringType(), False),\n",
    "                    StructField(\"Di1\", StringType(), False),\n",
    "                    StructField(\"Di2\", StringType(), False),\n",
    "                    StructField(\"Te1\", StringType(), False),\n",
    "                    StructField(\"Fo3\", StringType(), False),\n",
    "                    StructField(\"LR1\", StringType(), False),\n",
    "                    StructField(\"LR2\", StringType(), False)])"
   ]
  },
  {
   "cell_type": "code",
   "execution_count": 6,
   "id": "bfdc0160-65fe-483b-9710-fee804f72d2d",
   "metadata": {},
   "outputs": [],
   "source": [
    "file_pattern = \"/home/sossa/raftel/data/01_raw/Aras/House_A/DAY_*.txt\""
   ]
  },
  {
   "cell_type": "code",
   "execution_count": 8,
   "id": "ac95bd35-5aec-46d2-bc0e-2e262f274a0a",
   "metadata": {
    "scrolled": true
   },
   "outputs": [],
   "source": [
    "data_df = (\n",
    "    spark.read.text(\n",
    "        file_pattern\n",
    "    ).rdd.map(\n",
    "        lambda x: x[0].split(\" \")\n",
    "    ).toDF(\n",
    "        schema=schema\n",
    "    ).withColumn(\n",
    "    \"filename\", F.input_file_name()\n",
    "    ).withColumn(\n",
    "        \"day\", F.regexp_extract(\"filename\", r'DAY_(\\d+)', 1).cast(IntegerType())\n",
    "    ).drop(\n",
    "        \"filename\"\n",
    "    )\n",
    ")"
   ]
  },
  {
   "cell_type": "code",
   "execution_count": 9,
   "id": "6e9280ef-eb80-4a47-b00c-321c79416c76",
   "metadata": {},
   "outputs": [
    {
     "name": "stderr",
     "output_type": "stream",
     "text": [
      "[Stage 0:>                                                          (0 + 1) / 1]\r"
     ]
    },
    {
     "name": "stdout",
     "output_type": "stream",
     "text": [
      "+---+---+---+---+---+---+---+---+---+---+---+---+---+---+---+---+---+---+---+---+---+---+---+\n",
      "|Ph1|Ph2|Ir1|Fo1|Fo2|Di3|Di4|Ph3|Ph4|Ph5|Ph6|Co1|Co2|Co3|So1|So2|Di1|Di2|Te1|Fo3|LR1|LR2|day|\n",
      "+---+---+---+---+---+---+---+---+---+---+---+---+---+---+---+---+---+---+---+---+---+---+---+\n",
      "|  0|  0|  0|  1|  0|  0|  0|  0|  0|  0|  0|  0|  0|  0|  0|  0|  0|  0|  0|  0| 12| 17| 16|\n",
      "|  0|  0|  0|  1|  0|  0|  0|  0|  0|  0|  0|  0|  0|  0|  0|  0|  0|  0|  0|  0| 12| 17| 16|\n",
      "|  0|  0|  0|  1|  0|  0|  0|  0|  0|  0|  0|  0|  0|  0|  0|  0|  0|  0|  0|  0| 12| 17| 16|\n",
      "|  0|  0|  0|  1|  0|  0|  0|  0|  0|  0|  0|  0|  0|  0|  0|  0|  0|  0|  0|  0| 12| 17| 16|\n",
      "|  0|  0|  0|  1|  0|  0|  0|  0|  0|  0|  0|  0|  0|  0|  0|  0|  0|  0|  0|  0| 12| 17| 16|\n",
      "|  0|  0|  0|  1|  0|  0|  0|  0|  0|  0|  0|  0|  0|  0|  0|  0|  0|  0|  0|  0| 12| 17| 16|\n",
      "|  0|  0|  0|  1|  0|  0|  0|  0|  0|  0|  0|  0|  0|  0|  0|  0|  0|  0|  0|  0| 12| 17| 16|\n",
      "|  0|  0|  0|  1|  0|  0|  0|  0|  0|  0|  0|  0|  0|  0|  0|  0|  0|  0|  0|  0| 12| 17| 16|\n",
      "|  0|  0|  0|  1|  0|  0|  0|  0|  0|  0|  0|  0|  0|  0|  0|  0|  0|  0|  0|  0| 12| 17| 16|\n",
      "|  0|  0|  0|  1|  0|  0|  0|  0|  0|  0|  0|  0|  0|  0|  0|  0|  0|  0|  0|  0| 12| 17| 16|\n",
      "|  0|  0|  0|  1|  0|  0|  0|  0|  0|  0|  0|  0|  0|  0|  0|  0|  0|  0|  0|  0| 12| 17| 16|\n",
      "|  0|  0|  0|  1|  0|  0|  0|  0|  0|  0|  0|  0|  0|  0|  0|  0|  0|  0|  0|  0| 12| 17| 16|\n",
      "|  0|  0|  0|  1|  0|  0|  0|  0|  0|  0|  0|  0|  0|  0|  0|  0|  0|  0|  0|  0| 12| 17| 16|\n",
      "|  0|  0|  0|  1|  0|  0|  0|  0|  0|  0|  0|  0|  0|  0|  0|  0|  0|  0|  0|  0| 12| 17| 16|\n",
      "|  0|  0|  0|  1|  0|  0|  0|  0|  0|  0|  0|  0|  0|  0|  0|  0|  0|  0|  0|  0| 12| 17| 16|\n",
      "|  0|  0|  0|  1|  0|  0|  0|  0|  0|  0|  0|  0|  0|  0|  0|  0|  0|  0|  0|  0| 12| 17| 16|\n",
      "|  0|  0|  0|  1|  0|  0|  0|  0|  0|  0|  0|  0|  0|  0|  0|  0|  0|  0|  0|  0| 12| 17| 16|\n",
      "|  0|  0|  0|  1|  0|  0|  0|  0|  0|  0|  0|  0|  0|  0|  0|  0|  0|  0|  0|  0| 12| 17| 16|\n",
      "|  0|  0|  0|  1|  0|  0|  0|  0|  0|  0|  0|  0|  0|  0|  0|  0|  0|  0|  0|  0| 12| 17| 16|\n",
      "|  0|  0|  0|  1|  0|  0|  0|  0|  0|  0|  0|  0|  0|  0|  0|  0|  0|  0|  0|  0| 12| 17| 16|\n",
      "+---+---+---+---+---+---+---+---+---+---+---+---+---+---+---+---+---+---+---+---+---+---+---+\n",
      "only showing top 20 rows\n",
      "\n"
     ]
    },
    {
     "name": "stderr",
     "output_type": "stream",
     "text": [
      "                                                                                \r"
     ]
    }
   ],
   "source": [
    "data_df.show()"
   ]
  },
  {
   "cell_type": "code",
   "execution_count": 10,
   "id": "88687e3a-c7fb-4c84-b0d2-1c8c2818348d",
   "metadata": {},
   "outputs": [
    {
     "data": {
      "text/html": [
       "<pre style=\"white-space:pre;overflow-x:auto;line-height:normal;font-family:Menlo,'DejaVu Sans Mono',consolas,'Courier New',monospace\"><span style=\"color: #800000; text-decoration-color: #800000\">╭─────────────────────────────── </span><span style=\"color: #800000; text-decoration-color: #800000; font-weight: bold\">Traceback </span><span style=\"color: #bf7f7f; text-decoration-color: #bf7f7f; font-weight: bold\">(most recent call last)</span><span style=\"color: #800000; text-decoration-color: #800000\"> ────────────────────────────────╮</span>\n",
       "<span style=\"color: #800000; text-decoration-color: #800000\">│</span> in <span style=\"color: #00ff00; text-decoration-color: #00ff00\">&lt;module&gt;</span>:<span style=\"color: #0000ff; text-decoration-color: #0000ff\">4</span>                                                                                    <span style=\"color: #800000; text-decoration-color: #800000\">│</span>\n",
       "<span style=\"color: #800000; text-decoration-color: #800000\">│</span>                                                                                                  <span style=\"color: #800000; text-decoration-color: #800000\">│</span>\n",
       "<span style=\"color: #800000; text-decoration-color: #800000\">│</span>   <span style=\"color: #7f7f7f; text-decoration-color: #7f7f7f\">1 </span>spark.read.text(                                                                             <span style=\"color: #800000; text-decoration-color: #800000\">│</span>\n",
       "<span style=\"color: #800000; text-decoration-color: #800000\">│</span>   <span style=\"color: #7f7f7f; text-decoration-color: #7f7f7f\">2 </span><span style=\"color: #7f7f7f; text-decoration-color: #7f7f7f\">│   │   </span>file_pattern                                                                         <span style=\"color: #800000; text-decoration-color: #800000\">│</span>\n",
       "<span style=\"color: #800000; text-decoration-color: #800000\">│</span>   <span style=\"color: #7f7f7f; text-decoration-color: #7f7f7f\">3 </span>).withColumn(                                                                                <span style=\"color: #800000; text-decoration-color: #800000\">│</span>\n",
       "<span style=\"color: #800000; text-decoration-color: #800000\">│</span> <span style=\"color: #800000; text-decoration-color: #800000\">❱ </span>4 <span style=\"color: #7f7f7f; text-decoration-color: #7f7f7f\">│   </span><span style=\"color: #808000; text-decoration-color: #808000\">\"filename\"</span>, input_file_name()                                                            <span style=\"color: #800000; text-decoration-color: #800000\">│</span>\n",
       "<span style=\"color: #800000; text-decoration-color: #800000\">│</span>   <span style=\"color: #7f7f7f; text-decoration-color: #7f7f7f\">5 </span>).withColumn(                                                                                <span style=\"color: #800000; text-decoration-color: #800000\">│</span>\n",
       "<span style=\"color: #800000; text-decoration-color: #800000\">│</span>   <span style=\"color: #7f7f7f; text-decoration-color: #7f7f7f\">6 </span><span style=\"color: #7f7f7f; text-decoration-color: #7f7f7f\">│   </span><span style=\"color: #808000; text-decoration-color: #808000\">\"day\"</span>, regexp_extract(<span style=\"color: #808000; text-decoration-color: #808000\">\"filename\"</span>, <span style=\"color: #808000; text-decoration-color: #808000\">r'DAY_(\\d+)'</span>, <span style=\"color: #0000ff; text-decoration-color: #0000ff\">1</span>).cast(IntegerType())                   <span style=\"color: #800000; text-decoration-color: #800000\">│</span>\n",
       "<span style=\"color: #800000; text-decoration-color: #800000\">│</span>   <span style=\"color: #7f7f7f; text-decoration-color: #7f7f7f\">7 </span>).show(truncate=<span style=\"color: #0000ff; text-decoration-color: #0000ff\">False</span>)                                                                       <span style=\"color: #800000; text-decoration-color: #800000\">│</span>\n",
       "<span style=\"color: #800000; text-decoration-color: #800000\">╰──────────────────────────────────────────────────────────────────────────────────────────────────╯</span>\n",
       "<span style=\"color: #ff0000; text-decoration-color: #ff0000; font-weight: bold\">NameError: </span>name <span style=\"color: #008000; text-decoration-color: #008000\">'input_file_name'</span> is not defined\n",
       "</pre>\n"
      ],
      "text/plain": [
       "\u001b[31m╭─\u001b[0m\u001b[31m──────────────────────────────\u001b[0m\u001b[31m \u001b[0m\u001b[1;31mTraceback \u001b[0m\u001b[1;2;31m(most recent call last)\u001b[0m\u001b[31m \u001b[0m\u001b[31m───────────────────────────────\u001b[0m\u001b[31m─╮\u001b[0m\n",
       "\u001b[31m│\u001b[0m in \u001b[92m<module>\u001b[0m:\u001b[94m4\u001b[0m                                                                                    \u001b[31m│\u001b[0m\n",
       "\u001b[31m│\u001b[0m                                                                                                  \u001b[31m│\u001b[0m\n",
       "\u001b[31m│\u001b[0m   \u001b[2m1 \u001b[0mspark.read.text(                                                                             \u001b[31m│\u001b[0m\n",
       "\u001b[31m│\u001b[0m   \u001b[2m2 \u001b[0m\u001b[2m│   │   \u001b[0mfile_pattern                                                                         \u001b[31m│\u001b[0m\n",
       "\u001b[31m│\u001b[0m   \u001b[2m3 \u001b[0m).withColumn(                                                                                \u001b[31m│\u001b[0m\n",
       "\u001b[31m│\u001b[0m \u001b[31m❱ \u001b[0m4 \u001b[2m│   \u001b[0m\u001b[33m\"\u001b[0m\u001b[33mfilename\u001b[0m\u001b[33m\"\u001b[0m, input_file_name()                                                            \u001b[31m│\u001b[0m\n",
       "\u001b[31m│\u001b[0m   \u001b[2m5 \u001b[0m).withColumn(                                                                                \u001b[31m│\u001b[0m\n",
       "\u001b[31m│\u001b[0m   \u001b[2m6 \u001b[0m\u001b[2m│   \u001b[0m\u001b[33m\"\u001b[0m\u001b[33mday\u001b[0m\u001b[33m\"\u001b[0m, regexp_extract(\u001b[33m\"\u001b[0m\u001b[33mfilename\u001b[0m\u001b[33m\"\u001b[0m, \u001b[33mr\u001b[0m\u001b[33m'\u001b[0m\u001b[33mDAY_(\u001b[0m\u001b[33m\\\u001b[0m\u001b[33md+)\u001b[0m\u001b[33m'\u001b[0m, \u001b[94m1\u001b[0m).cast(IntegerType())                   \u001b[31m│\u001b[0m\n",
       "\u001b[31m│\u001b[0m   \u001b[2m7 \u001b[0m).show(truncate=\u001b[94mFalse\u001b[0m)                                                                       \u001b[31m│\u001b[0m\n",
       "\u001b[31m╰──────────────────────────────────────────────────────────────────────────────────────────────────╯\u001b[0m\n",
       "\u001b[1;91mNameError: \u001b[0mname \u001b[32m'input_file_name'\u001b[0m is not defined\n"
      ]
     },
     "metadata": {},
     "output_type": "display_data"
    }
   ],
   "source": [
    "spark.read.text(\n",
    "        file_pattern\n",
    ").withColumn(\n",
    "    \"filename\", input_file_name()\n",
    ").withColumn(\n",
    "    \"day\", regexp_extract(\"filename\", r'DAY_(\\d+)', 1).cast(IntegerType())\n",
    ").show(truncate=False)"
   ]
  },
  {
   "cell_type": "code",
   "execution_count": 8,
   "id": "f02dc553-fda4-4d57-a3f2-ee6a28155f8c",
   "metadata": {},
   "outputs": [
    {
     "name": "stdout",
     "output_type": "stream",
     "text": [
      "        Ph1 Ph2 Ir1 Fo1 Fo2 Di3 Di4 Ph3 Ph4 Ph5  ... So1 So2 Di1 Di2 Te1 Fo3  \\\n",
      "0         0   0   0   0   0   0   0   0   0   0  ...   0   0   0   0   0   0   \n",
      "1         0   0   0   0   0   0   0   0   0   0  ...   0   0   0   0   0   0   \n",
      "2         0   0   0   0   0   0   0   0   0   0  ...   0   0   0   0   0   0   \n",
      "3         0   0   0   0   0   0   0   0   0   0  ...   0   0   0   0   0   0   \n",
      "4         0   0   0   0   0   0   0   0   0   0  ...   0   0   0   0   0   0   \n",
      "...      ..  ..  ..  ..  ..  ..  ..  ..  ..  ..  ...  ..  ..  ..  ..  ..  ..   \n",
      "2591995   0   0   0   0   1   0   0   0   0   0  ...   0   0   0   0   0   0   \n",
      "2591996   0   0   0   0   1   0   0   0   0   0  ...   0   0   0   0   0   0   \n",
      "2591997   0   0   0   0   1   0   0   0   0   0  ...   0   0   0   0   0   0   \n",
      "2591998   0   0   0   0   1   0   0   0   0   0  ...   0   0   0   0   0   0   \n",
      "2591999   0   0   0   0   1   0   0   0   0   0  ...   0   0   0   0   0   0   \n",
      "\n",
      "        LR1 LR2   DAY      SEC  \n",
      "0        12  17   1.0        0  \n",
      "1        12  17   1.0        1  \n",
      "2        12  17   1.0        2  \n",
      "3        12  17   1.0        3  \n",
      "4        12  17   1.0        4  \n",
      "...      ..  ..   ...      ...  \n",
      "2591995  12   2  30.0  2591995  \n",
      "2591996  12   2  30.0  2591996  \n",
      "2591997  12   2  30.0  2591997  \n",
      "2591998  12   2  30.0  2591998  \n",
      "2591999  12   2  30.0  2591999  \n",
      "\n",
      "[2592000 rows x 24 columns]\n"
     ]
    }
   ],
   "source": [
    "import pandas as pd\n",
    "\n",
    "# Define the file names\n",
    "file_names = [\"DAY_{}\".format(i) for i in range(1, 31)]\n",
    "\n",
    "# Create an empty DataFrame to store the data\n",
    "columns = [\n",
    "    \"Ph1\",\n",
    "    \"Ph2\",\n",
    "    \"Ir1\",\n",
    "    \"Fo1\",\n",
    "    \"Fo2\",\n",
    "    \"Di3\",\n",
    "    \"Di4\",\n",
    "    \"Ph3\",\n",
    "    \"Ph4\",\n",
    "    \"Ph5\",\n",
    "    \"Ph6\",\n",
    "    \"Co1\",\n",
    "    \"Co2\",\n",
    "    \"Co3\",\n",
    "    \"So1\",\n",
    "    \"So2\",\n",
    "    \"Di1\",\n",
    "    \"Di2\",\n",
    "    \"Te1\",\n",
    "    \"Fo3\",\n",
    "    \"LR1\",\n",
    "    \"LR2\"\n",
    "]\n",
    "\n",
    "df = pd.DataFrame(columns=columns)\n",
    "\n",
    "# Load data from each file and append to the DataFrame\n",
    "day = 1\n",
    "for file_name in file_names:\n",
    "    file_path = \"/home/sossa/raftel/data/01_raw/Aras/House_A/{}.txt\".format(file_name)  # assuming the files have a .txt extension\n",
    "    temp_df = pd.read_csv(file_path, sep=' ', header=None, names=columns)\n",
    "    temp_df['DAY'] = day\n",
    "    df = pd.concat([df, temp_df], ignore_index=True)\n",
    "    day = day + 1\n",
    "\n",
    "# Print the resulting DataFrame\n",
    "df['SEC'] = df.index\n",
    "print(df)"
   ]
  },
  {
   "cell_type": "code",
   "execution_count": 9,
   "id": "fac7027a-1ade-4030-b093-d3db331c5487",
   "metadata": {},
   "outputs": [
    {
     "data": {
      "text/html": [
       "<pre style=\"white-space:pre;overflow-x:auto;line-height:normal;font-family:Menlo,'DejaVu Sans Mono',consolas,'Courier New',monospace\"><span style=\"color: #7fbfbf; text-decoration-color: #7fbfbf\">[01/30/24 13:49:33] </span><span style=\"color: #800000; text-decoration-color: #800000\">WARNING </span> <span style=\"color: #800080; text-decoration-color: #800080\">/home/sossa/miniconda3/envs/raftel/lib/python3.8/site-packages/pyspark</span> <a href=\"file:///home/sossa/miniconda3/envs/raftel/lib/python3.8/warnings.py\" target=\"_blank\"><span style=\"color: #7f7f7f; text-decoration-color: #7f7f7f\">warnings.py</span></a><span style=\"color: #7f7f7f; text-decoration-color: #7f7f7f\">:</span><a href=\"file:///home/sossa/miniconda3/envs/raftel/lib/python3.8/warnings.py#109\" target=\"_blank\"><span style=\"color: #7f7f7f; text-decoration-color: #7f7f7f\">109</span></a>\n",
       "<span style=\"color: #7fbfbf; text-decoration-color: #7fbfbf\">                    </span>         <span style=\"color: #800080; text-decoration-color: #800080\">/sql/pandas/</span><span style=\"color: #ff00ff; text-decoration-color: #ff00ff\">conversion.py</span>:<span style=\"color: #008080; text-decoration-color: #008080; font-weight: bold\">428</span>: UserWarning: createDataFrame attempted  <span style=\"color: #7f7f7f; text-decoration-color: #7f7f7f\">               </span>\n",
       "<span style=\"color: #7fbfbf; text-decoration-color: #7fbfbf\">                    </span>         Arrow optimization because <span style=\"color: #008000; text-decoration-color: #008000\">'spark.sql.execution.arrow.pyspark.enabled'</span> <span style=\"color: #7f7f7f; text-decoration-color: #7f7f7f\">               </span>\n",
       "<span style=\"color: #7fbfbf; text-decoration-color: #7fbfbf\">                    </span>         is set to true; however, failed by the reason below:                   <span style=\"color: #7f7f7f; text-decoration-color: #7f7f7f\">               </span>\n",
       "<span style=\"color: #7fbfbf; text-decoration-color: #7fbfbf\">                    </span>           PyArrow &gt;= <span style=\"color: #008080; text-decoration-color: #008080; font-weight: bold\">1.0</span>.<span style=\"color: #008080; text-decoration-color: #008080; font-weight: bold\">0</span> must be installed; however, it was not found.       <span style=\"color: #7f7f7f; text-decoration-color: #7f7f7f\">               </span>\n",
       "<span style=\"color: #7fbfbf; text-decoration-color: #7fbfbf\">                    </span>         Attempting non-optimization as                                         <span style=\"color: #7f7f7f; text-decoration-color: #7f7f7f\">               </span>\n",
       "<span style=\"color: #7fbfbf; text-decoration-color: #7fbfbf\">                    </span>         <span style=\"color: #008000; text-decoration-color: #008000\">'spark.sql.execution.arrow.pyspark.fallback.enabled'</span> is set to true.   <span style=\"color: #7f7f7f; text-decoration-color: #7f7f7f\">               </span>\n",
       "<span style=\"color: #7fbfbf; text-decoration-color: #7fbfbf\">                    </span>           <span style=\"color: #800080; text-decoration-color: #800080; font-weight: bold\">warn</span><span style=\"font-weight: bold\">(</span>msg<span style=\"font-weight: bold\">)</span>                                                            <span style=\"color: #7f7f7f; text-decoration-color: #7f7f7f\">               </span>\n",
       "<span style=\"color: #7fbfbf; text-decoration-color: #7fbfbf\">                    </span>                                                                                <span style=\"color: #7f7f7f; text-decoration-color: #7f7f7f\">               </span>\n",
       "</pre>\n"
      ],
      "text/plain": [
       "\u001b[2;36m[01/30/24 13:49:33]\u001b[0m\u001b[2;36m \u001b[0m\u001b[31mWARNING \u001b[0m \u001b[35m/home/sossa/miniconda3/envs/raftel/lib/python3.8/site-packages/pyspark\u001b[0m \u001b]8;id=361678;file:///home/sossa/miniconda3/envs/raftel/lib/python3.8/warnings.py\u001b\\\u001b[2mwarnings.py\u001b[0m\u001b]8;;\u001b\\\u001b[2m:\u001b[0m\u001b]8;id=189363;file:///home/sossa/miniconda3/envs/raftel/lib/python3.8/warnings.py#109\u001b\\\u001b[2m109\u001b[0m\u001b]8;;\u001b\\\n",
       "\u001b[2;36m                    \u001b[0m         \u001b[35m/sql/pandas/\u001b[0m\u001b[95mconversion.py\u001b[0m:\u001b[1;36m428\u001b[0m: UserWarning: createDataFrame attempted  \u001b[2m               \u001b[0m\n",
       "\u001b[2;36m                    \u001b[0m         Arrow optimization because \u001b[32m'spark.sql.execution.arrow.pyspark.enabled'\u001b[0m \u001b[2m               \u001b[0m\n",
       "\u001b[2;36m                    \u001b[0m         is set to true; however, failed by the reason below:                   \u001b[2m               \u001b[0m\n",
       "\u001b[2;36m                    \u001b[0m           PyArrow >= \u001b[1;36m1.0\u001b[0m.\u001b[1;36m0\u001b[0m must be installed; however, it was not found.       \u001b[2m               \u001b[0m\n",
       "\u001b[2;36m                    \u001b[0m         Attempting non-optimization as                                         \u001b[2m               \u001b[0m\n",
       "\u001b[2;36m                    \u001b[0m         \u001b[32m'spark.sql.execution.arrow.pyspark.fallback.enabled'\u001b[0m is set to true.   \u001b[2m               \u001b[0m\n",
       "\u001b[2;36m                    \u001b[0m           \u001b[1;35mwarn\u001b[0m\u001b[1m(\u001b[0mmsg\u001b[1m)\u001b[0m                                                            \u001b[2m               \u001b[0m\n",
       "\u001b[2;36m                    \u001b[0m                                                                                \u001b[2m               \u001b[0m\n"
      ]
     },
     "metadata": {},
     "output_type": "display_data"
    }
   ],
   "source": [
    "df_spark = spark.createDataFrame(df)"
   ]
  },
  {
   "cell_type": "code",
   "execution_count": 10,
   "id": "d41cd436-8aad-4288-ae90-f898c7951cd3",
   "metadata": {},
   "outputs": [],
   "source": [
    "labels = df_spark.select(\"LR1\", \"LR2\").distinct().withColumn(\"LABEL\", F.monotonically_increasing_id())"
   ]
  },
  {
   "cell_type": "code",
   "execution_count": 11,
   "id": "55b22cfb-85df-443b-97f9-338cfa5e01eb",
   "metadata": {},
   "outputs": [],
   "source": [
    "df_spark = df_spark.join(\n",
    "    labels,\n",
    "    [\"LR1\", \"LR2\"],\n",
    "    \"LEFT\"\n",
    ").orderBy(\n",
    "    \"SEC\"\n",
    ")"
   ]
  },
  {
   "cell_type": "code",
   "execution_count": null,
   "id": "12e4be43-f779-436d-881b-5532bb4a0e4f",
   "metadata": {},
   "outputs": [],
   "source": [
    "df_spark.write.partitionBy(\"DAY\").mode(\"append\").format(\"delta\").option(\"overwriteSchema\", \"true\").save(\"/home/sossa/raftel/data/01_raw/aras_a\")"
   ]
  },
  {
   "cell_type": "code",
   "execution_count": 16,
   "id": "57cb8fb7-4685-4995-b390-c39db556815f",
   "metadata": {},
   "outputs": [
    {
     "name": "stdout",
     "output_type": "stream",
     "text": [
      "root\n",
      " |-- Ph1: long (nullable = true)\n",
      " |-- Ph2: long (nullable = true)\n",
      " |-- Ir1: long (nullable = true)\n",
      " |-- Fo1: long (nullable = true)\n",
      " |-- Fo2: long (nullable = true)\n",
      " |-- Di3: long (nullable = true)\n",
      " |-- Di4: long (nullable = true)\n",
      " |-- Ph3: long (nullable = true)\n",
      " |-- Ph4: long (nullable = true)\n",
      " |-- Ph5: long (nullable = true)\n",
      " |-- Ph6: long (nullable = true)\n",
      " |-- Co1: long (nullable = true)\n",
      " |-- Co2: long (nullable = true)\n",
      " |-- Co3: long (nullable = true)\n",
      " |-- So1: long (nullable = true)\n",
      " |-- So2: long (nullable = true)\n",
      " |-- Di1: long (nullable = true)\n",
      " |-- Di2: long (nullable = true)\n",
      " |-- Te1: long (nullable = true)\n",
      " |-- Fo3: long (nullable = true)\n",
      " |-- LR1: long (nullable = true)\n",
      " |-- LR2: long (nullable = true)\n",
      " |-- DAY: double (nullable = true)\n",
      " |-- SEC: long (nullable = true)\n",
      " |-- LABEL: integer (nullable = false)\n",
      "\n"
     ]
    }
   ],
   "source": [
    "df_spark.printSchema()"
   ]
  },
  {
   "cell_type": "code",
   "execution_count": 12,
   "id": "a670c946-b682-4c63-8194-e5a4aa84472e",
   "metadata": {},
   "outputs": [
    {
     "data": {
      "text/html": [
       "<pre style=\"white-space:pre;overflow-x:auto;line-height:normal;font-family:Menlo,'DejaVu Sans Mono',consolas,'Courier New',monospace\"><span style=\"color: #7fbfbf; text-decoration-color: #7fbfbf\">[01/30/24 13:52:25] </span><span style=\"color: #000080; text-decoration-color: #000080\">INFO    </span> Saving data to <span style=\"color: #008000; text-decoration-color: #008000\">'aras_a@spark'</span> <span style=\"font-weight: bold\">(</span>SparkDataSet<span style=\"font-weight: bold\">)</span><span style=\"color: #808000; text-decoration-color: #808000\">...</span>                    <a href=\"file:///home/sossa/miniconda3/envs/raftel/lib/python3.8/site-packages/kedro/io/data_catalog.py\" target=\"_blank\"><span style=\"color: #7f7f7f; text-decoration-color: #7f7f7f\">data_catalog.py</span></a><span style=\"color: #7f7f7f; text-decoration-color: #7f7f7f\">:</span><a href=\"file:///home/sossa/miniconda3/envs/raftel/lib/python3.8/site-packages/kedro/io/data_catalog.py#382\" target=\"_blank\"><span style=\"color: #7f7f7f; text-decoration-color: #7f7f7f\">382</span></a>\n",
       "</pre>\n"
      ],
      "text/plain": [
       "\u001b[2;36m[01/30/24 13:52:25]\u001b[0m\u001b[2;36m \u001b[0m\u001b[34mINFO    \u001b[0m Saving data to \u001b[32m'aras_a@spark'\u001b[0m \u001b[1m(\u001b[0mSparkDataSet\u001b[1m)\u001b[0m\u001b[33m...\u001b[0m                    \u001b]8;id=969560;file:///home/sossa/miniconda3/envs/raftel/lib/python3.8/site-packages/kedro/io/data_catalog.py\u001b\\\u001b[2mdata_catalog.py\u001b[0m\u001b]8;;\u001b\\\u001b[2m:\u001b[0m\u001b]8;id=356469;file:///home/sossa/miniconda3/envs/raftel/lib/python3.8/site-packages/kedro/io/data_catalog.py#382\u001b\\\u001b[2m382\u001b[0m\u001b]8;;\u001b\\\n"
      ]
     },
     "metadata": {},
     "output_type": "display_data"
    },
    {
     "name": "stderr",
     "output_type": "stream",
     "text": [
      "24/01/30 13:52:26 WARN TaskSetManager: Stage 0 contains a task of very large size (12755 KiB). The maximum recommended task size is 1000 KiB.\n",
      "24/01/30 13:52:28 WARN TaskSetManager: Stage 1 contains a task of very large size (12755 KiB). The maximum recommended task size is 1000 KiB.\n",
      "                                                                                \r"
     ]
    }
   ],
   "source": [
    "catalog.save(\"aras_a@spark\", df_spark)"
   ]
  },
  {
   "cell_type": "code",
   "execution_count": 5,
   "id": "aab234fa-aaf7-43cd-a1c9-255390c738c0",
   "metadata": {},
   "outputs": [
    {
     "name": "stderr",
     "output_type": "stream",
     "text": [
      "                                                                                \r"
     ]
    },
    {
     "data": {
      "text/html": [
       "<pre style=\"white-space:pre;overflow-x:auto;line-height:normal;font-family:Menlo,'DejaVu Sans Mono',consolas,'Courier New',monospace\"></pre>\n"
      ],
      "text/plain": []
     },
     "metadata": {},
     "output_type": "display_data"
    },
    {
     "data": {
      "text/plain": [
       "\u001b[1;36m2592000\u001b[0m"
      ]
     },
     "execution_count": 5,
     "metadata": {},
     "output_type": "execute_result"
    }
   ],
   "source": [
    "df_spark.count()"
   ]
  },
  {
   "cell_type": "code",
   "execution_count": null,
   "id": "98d6aa61-8d4d-4163-bfe1-f82646d5a89f",
   "metadata": {},
   "outputs": [],
   "source": [
    "df_spark.write.parquet (\"/home/sossa/raftel/data/01_raw/aras/A.parquet\")"
   ]
  }
 ],
 "metadata": {
  "kernelspec": {
   "display_name": "Kedro (raftel)",
   "language": "python",
   "name": "kedro_raftel"
  },
  "language_info": {
   "codemirror_mode": {
    "name": "ipython",
    "version": 3
   },
   "file_extension": ".py",
   "mimetype": "text/x-python",
   "name": "python",
   "nbconvert_exporter": "python",
   "pygments_lexer": "ipython3",
   "version": "3.8.18"
  }
 },
 "nbformat": 4,
 "nbformat_minor": 5
}
