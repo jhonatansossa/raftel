{
 "cells": [
  {
   "cell_type": "code",
   "execution_count": 1,
   "id": "44902fa5-0456-45cf-bf22-54be77dc6f46",
   "metadata": {},
   "outputs": [
    {
     "data": {
      "text/html": [
       "<pre style=\"white-space:pre;overflow-x:auto;line-height:normal;font-family:Menlo,'DejaVu Sans Mono',consolas,'Courier New',monospace\"><span style=\"color: #7fbfbf; text-decoration-color: #7fbfbf\">[05/08/24 16:20:26] </span><span style=\"color: #800000; text-decoration-color: #800000\">WARNING </span> <span style=\"color: #800080; text-decoration-color: #800080\">/home/smartroom/miniconda3/envs/raftel/lib/python3.8/site-packages/ked</span> <a href=\"file:///home/smartroom/miniconda3/envs/raftel/lib/python3.8/warnings.py\" target=\"_blank\"><span style=\"color: #7f7f7f; text-decoration-color: #7f7f7f\">warnings.py</span></a><span style=\"color: #7f7f7f; text-decoration-color: #7f7f7f\">:</span><a href=\"file:///home/smartroom/miniconda3/envs/raftel/lib/python3.8/warnings.py#109\" target=\"_blank\"><span style=\"color: #7f7f7f; text-decoration-color: #7f7f7f\">109</span></a>\n",
       "<span style=\"color: #7fbfbf; text-decoration-color: #7fbfbf\">                    </span>         <span style=\"color: #800080; text-decoration-color: #800080\">ro/extras/extensions/</span><span style=\"color: #ff00ff; text-decoration-color: #ff00ff\">ipython.py</span>:<span style=\"color: #008080; text-decoration-color: #008080; font-weight: bold\">18</span>: DeprecationWarning:                <span style=\"color: #7f7f7f; text-decoration-color: #7f7f7f\">               </span>\n",
       "<span style=\"color: #7fbfbf; text-decoration-color: #7fbfbf\">                    </span>         kedro.extras.extensions.ipython should be accessed only using the      <span style=\"color: #7f7f7f; text-decoration-color: #7f7f7f\">               </span>\n",
       "<span style=\"color: #7fbfbf; text-decoration-color: #7fbfbf\">                    </span>         alias kedro.ipython. The unaliased name will be removed in Kedro       <span style=\"color: #7f7f7f; text-decoration-color: #7f7f7f\">               </span>\n",
       "<span style=\"color: #7fbfbf; text-decoration-color: #7fbfbf\">                    </span>         <span style=\"color: #008080; text-decoration-color: #008080; font-weight: bold\">0.19</span>.<span style=\"color: #008080; text-decoration-color: #008080; font-weight: bold\">0</span>.                                                                <span style=\"color: #7f7f7f; text-decoration-color: #7f7f7f\">               </span>\n",
       "<span style=\"color: #7fbfbf; text-decoration-color: #7fbfbf\">                    </span>           <span style=\"color: #800080; text-decoration-color: #800080; font-weight: bold\">warnings.warn</span><span style=\"font-weight: bold\">(</span>                                                       <span style=\"color: #7f7f7f; text-decoration-color: #7f7f7f\">               </span>\n",
       "<span style=\"color: #7fbfbf; text-decoration-color: #7fbfbf\">                    </span>                                                                                <span style=\"color: #7f7f7f; text-decoration-color: #7f7f7f\">               </span>\n",
       "</pre>\n"
      ],
      "text/plain": [
       "\u001b[2;36m[05/08/24 16:20:26]\u001b[0m\u001b[2;36m \u001b[0m\u001b[31mWARNING \u001b[0m \u001b[35m/home/smartroom/miniconda3/envs/raftel/lib/python3.8/site-packages/ked\u001b[0m \u001b]8;id=520879;file:///home/smartroom/miniconda3/envs/raftel/lib/python3.8/warnings.py\u001b\\\u001b[2mwarnings.py\u001b[0m\u001b]8;;\u001b\\\u001b[2m:\u001b[0m\u001b]8;id=986832;file:///home/smartroom/miniconda3/envs/raftel/lib/python3.8/warnings.py#109\u001b\\\u001b[2m109\u001b[0m\u001b]8;;\u001b\\\n",
       "\u001b[2;36m                    \u001b[0m         \u001b[35mro/extras/extensions/\u001b[0m\u001b[95mipython.py\u001b[0m:\u001b[1;36m18\u001b[0m: DeprecationWarning:                \u001b[2m               \u001b[0m\n",
       "\u001b[2;36m                    \u001b[0m         kedro.extras.extensions.ipython should be accessed only using the      \u001b[2m               \u001b[0m\n",
       "\u001b[2;36m                    \u001b[0m         alias kedro.ipython. The unaliased name will be removed in Kedro       \u001b[2m               \u001b[0m\n",
       "\u001b[2;36m                    \u001b[0m         \u001b[1;36m0.19\u001b[0m.\u001b[1;36m0\u001b[0m.                                                                \u001b[2m               \u001b[0m\n",
       "\u001b[2;36m                    \u001b[0m           \u001b[1;35mwarnings.warn\u001b[0m\u001b[1m(\u001b[0m                                                       \u001b[2m               \u001b[0m\n",
       "\u001b[2;36m                    \u001b[0m                                                                                \u001b[2m               \u001b[0m\n"
      ]
     },
     "metadata": {},
     "output_type": "display_data"
    },
    {
     "data": {
      "text/html": [
       "<pre style=\"white-space:pre;overflow-x:auto;line-height:normal;font-family:Menlo,'DejaVu Sans Mono',consolas,'Courier New',monospace\"><span style=\"color: #7fbfbf; text-decoration-color: #7fbfbf\">                    </span><span style=\"color: #000080; text-decoration-color: #000080\">INFO    </span> Resolved project path as: <span style=\"color: #800080; text-decoration-color: #800080\">/home/smartroom/jhonatan/</span><span style=\"color: #ff00ff; text-decoration-color: #ff00ff\">raftel.</span>             <a href=\"file:///home/smartroom/miniconda3/envs/raftel/lib/python3.8/site-packages/kedro/ipython/__init__.py\" target=\"_blank\"><span style=\"color: #7f7f7f; text-decoration-color: #7f7f7f\">__init__.py</span></a><span style=\"color: #7f7f7f; text-decoration-color: #7f7f7f\">:</span><a href=\"file:///home/smartroom/miniconda3/envs/raftel/lib/python3.8/site-packages/kedro/ipython/__init__.py#134\" target=\"_blank\"><span style=\"color: #7f7f7f; text-decoration-color: #7f7f7f\">134</span></a>\n",
       "<span style=\"color: #7fbfbf; text-decoration-color: #7fbfbf\">                    </span>         To set a different path, run <span style=\"color: #008000; text-decoration-color: #008000\">'%reload_kedro &lt;project_root&gt;'</span>            <span style=\"color: #7f7f7f; text-decoration-color: #7f7f7f\">               </span>\n",
       "</pre>\n"
      ],
      "text/plain": [
       "\u001b[2;36m                   \u001b[0m\u001b[2;36m \u001b[0m\u001b[34mINFO    \u001b[0m Resolved project path as: \u001b[35m/home/smartroom/jhonatan/\u001b[0m\u001b[95mraftel.\u001b[0m             \u001b]8;id=948525;file:///home/smartroom/miniconda3/envs/raftel/lib/python3.8/site-packages/kedro/ipython/__init__.py\u001b\\\u001b[2m__init__.py\u001b[0m\u001b]8;;\u001b\\\u001b[2m:\u001b[0m\u001b]8;id=376201;file:///home/smartroom/miniconda3/envs/raftel/lib/python3.8/site-packages/kedro/ipython/__init__.py#134\u001b\\\u001b[2m134\u001b[0m\u001b]8;;\u001b\\\n",
       "\u001b[2;36m                    \u001b[0m         To set a different path, run \u001b[32m'%reload_kedro \u001b[0m\u001b[32m<\u001b[0m\u001b[32mproject_root\u001b[0m\u001b[32m>\u001b[0m\u001b[32m'\u001b[0m            \u001b[2m               \u001b[0m\n"
      ]
     },
     "metadata": {},
     "output_type": "display_data"
    },
    {
     "name": "stderr",
     "output_type": "stream",
     "text": [
      "your 131072x1 screen size is bogus. expect trouble\n",
      "24/05/08 16:20:28 WARN Utils: Your hostname, WIN-0B8Q3RIVNP0 resolves to a loopback address: 127.0.1.1; using 172.31.114.225 instead (on interface eth0)\n",
      "24/05/08 16:20:28 WARN Utils: Set SPARK_LOCAL_IP if you need to bind to another address\n"
     ]
    },
    {
     "name": "stdout",
     "output_type": "stream",
     "text": [
      ":: loading settings :: url = jar:file:/home/smartroom/miniconda3/envs/raftel/lib/python3.8/site-packages/pyspark/jars/ivy-2.5.1.jar!/org/apache/ivy/core/settings/ivysettings.xml\n"
     ]
    },
    {
     "name": "stderr",
     "output_type": "stream",
     "text": [
      "Ivy Default Cache set to: /home/smartroom/.ivy2/cache\n",
      "The jars for the packages stored in: /home/smartroom/.ivy2/jars\n",
      "io.delta#delta-core_2.12 added as a dependency\n",
      "org.apache.hadoop#hadoop-aws added as a dependency\n",
      "software.aws.rds#aws-mysql-jdbc added as a dependency\n",
      ":: resolving dependencies :: org.apache.spark#spark-submit-parent-75629510-642b-4e20-b7e9-12f6c2ef513e;1.0\n",
      "\tconfs: [default]\n",
      "\tfound io.delta#delta-core_2.12;2.4.0 in central\n",
      "\tfound io.delta#delta-storage;2.4.0 in central\n",
      "\tfound org.antlr#antlr4-runtime;4.9.3 in central\n",
      "\tfound org.apache.hadoop#hadoop-aws;3.3.2 in central\n",
      "\tfound com.amazonaws#aws-java-sdk-bundle;1.11.1026 in central\n",
      "\tfound org.wildfly.openssl#wildfly-openssl;1.0.7.Final in central\n",
      "\tfound software.aws.rds#aws-mysql-jdbc;1.0.0 in central\n",
      ":: resolution report :: resolve 296ms :: artifacts dl 14ms\n",
      "\t:: modules in use:\n",
      "\tcom.amazonaws#aws-java-sdk-bundle;1.11.1026 from central in [default]\n",
      "\tio.delta#delta-core_2.12;2.4.0 from central in [default]\n",
      "\tio.delta#delta-storage;2.4.0 from central in [default]\n",
      "\torg.antlr#antlr4-runtime;4.9.3 from central in [default]\n",
      "\torg.apache.hadoop#hadoop-aws;3.3.2 from central in [default]\n",
      "\torg.wildfly.openssl#wildfly-openssl;1.0.7.Final from central in [default]\n",
      "\tsoftware.aws.rds#aws-mysql-jdbc;1.0.0 from central in [default]\n",
      "\t---------------------------------------------------------------------\n",
      "\t|                  |            modules            ||   artifacts   |\n",
      "\t|       conf       | number| search|dwnlded|evicted|| number|dwnlded|\n",
      "\t---------------------------------------------------------------------\n",
      "\t|      default     |   7   |   0   |   0   |   0   ||   7   |   0   |\n",
      "\t---------------------------------------------------------------------\n",
      ":: retrieving :: org.apache.spark#spark-submit-parent-75629510-642b-4e20-b7e9-12f6c2ef513e\n",
      "\tconfs: [default]\n",
      "\t0 artifacts copied, 7 already retrieved (0kB/9ms)\n",
      "24/05/08 16:20:31 WARN NativeCodeLoader: Unable to load native-hadoop library for your platform... using builtin-java classes where applicable\n",
      "Setting default log level to \"WARN\".\n",
      "To adjust logging level use sc.setLogLevel(newLevel). For SparkR, use setLogLevel(newLevel).\n",
      "24/05/08 16:20:32 WARN Utils: Service 'SparkUI' could not bind on port 4051. Attempting port 4052.\n",
      "24/05/08 16:20:32 WARN Utils: Service 'SparkUI' could not bind on port 4052. Attempting port 4053.\n"
     ]
    },
    {
     "name": "stdout",
     "output_type": "stream",
     "text": [
      "http://172.31.114.225:4053\n"
     ]
    },
    {
     "data": {
      "text/html": [
       "<pre style=\"white-space:pre;overflow-x:auto;line-height:normal;font-family:Menlo,'DejaVu Sans Mono',consolas,'Courier New',monospace\"><span style=\"color: #7fbfbf; text-decoration-color: #7fbfbf\">[05/08/24 16:20:36] </span><span style=\"color: #000080; text-decoration-color: #000080\">INFO    </span> Kedro project raftel                                                   <a href=\"file:///home/smartroom/miniconda3/envs/raftel/lib/python3.8/site-packages/kedro/ipython/__init__.py\" target=\"_blank\"><span style=\"color: #7f7f7f; text-decoration-color: #7f7f7f\">__init__.py</span></a><span style=\"color: #7f7f7f; text-decoration-color: #7f7f7f\">:</span><a href=\"file:///home/smartroom/miniconda3/envs/raftel/lib/python3.8/site-packages/kedro/ipython/__init__.py#103\" target=\"_blank\"><span style=\"color: #7f7f7f; text-decoration-color: #7f7f7f\">103</span></a>\n",
       "</pre>\n"
      ],
      "text/plain": [
       "\u001b[2;36m[05/08/24 16:20:36]\u001b[0m\u001b[2;36m \u001b[0m\u001b[34mINFO    \u001b[0m Kedro project raftel                                                   \u001b]8;id=638806;file:///home/smartroom/miniconda3/envs/raftel/lib/python3.8/site-packages/kedro/ipython/__init__.py\u001b\\\u001b[2m__init__.py\u001b[0m\u001b]8;;\u001b\\\u001b[2m:\u001b[0m\u001b]8;id=235862;file:///home/smartroom/miniconda3/envs/raftel/lib/python3.8/site-packages/kedro/ipython/__init__.py#103\u001b\\\u001b[2m103\u001b[0m\u001b]8;;\u001b\\\n"
      ]
     },
     "metadata": {},
     "output_type": "display_data"
    },
    {
     "data": {
      "text/html": [
       "<pre style=\"white-space:pre;overflow-x:auto;line-height:normal;font-family:Menlo,'DejaVu Sans Mono',consolas,'Courier New',monospace\"><span style=\"color: #7fbfbf; text-decoration-color: #7fbfbf\">                    </span><span style=\"color: #000080; text-decoration-color: #000080\">INFO    </span> Defined global variable <span style=\"color: #008000; text-decoration-color: #008000\">'context'</span>, <span style=\"color: #008000; text-decoration-color: #008000\">'session'</span>, <span style=\"color: #008000; text-decoration-color: #008000\">'catalog'</span> and            <a href=\"file:///home/smartroom/miniconda3/envs/raftel/lib/python3.8/site-packages/kedro/ipython/__init__.py\" target=\"_blank\"><span style=\"color: #7f7f7f; text-decoration-color: #7f7f7f\">__init__.py</span></a><span style=\"color: #7f7f7f; text-decoration-color: #7f7f7f\">:</span><a href=\"file:///home/smartroom/miniconda3/envs/raftel/lib/python3.8/site-packages/kedro/ipython/__init__.py#104\" target=\"_blank\"><span style=\"color: #7f7f7f; text-decoration-color: #7f7f7f\">104</span></a>\n",
       "<span style=\"color: #7fbfbf; text-decoration-color: #7fbfbf\">                    </span>         <span style=\"color: #008000; text-decoration-color: #008000\">'pipelines'</span>                                                            <span style=\"color: #7f7f7f; text-decoration-color: #7f7f7f\">               </span>\n",
       "</pre>\n"
      ],
      "text/plain": [
       "\u001b[2;36m                   \u001b[0m\u001b[2;36m \u001b[0m\u001b[34mINFO    \u001b[0m Defined global variable \u001b[32m'context'\u001b[0m, \u001b[32m'session'\u001b[0m, \u001b[32m'catalog'\u001b[0m and            \u001b]8;id=849307;file:///home/smartroom/miniconda3/envs/raftel/lib/python3.8/site-packages/kedro/ipython/__init__.py\u001b\\\u001b[2m__init__.py\u001b[0m\u001b]8;;\u001b\\\u001b[2m:\u001b[0m\u001b]8;id=277812;file:///home/smartroom/miniconda3/envs/raftel/lib/python3.8/site-packages/kedro/ipython/__init__.py#104\u001b\\\u001b[2m104\u001b[0m\u001b]8;;\u001b\\\n",
       "\u001b[2;36m                    \u001b[0m         \u001b[32m'pipelines'\u001b[0m                                                            \u001b[2m               \u001b[0m\n"
      ]
     },
     "metadata": {},
     "output_type": "display_data"
    },
    {
     "data": {
      "text/html": [
       "<pre style=\"white-space:pre;overflow-x:auto;line-height:normal;font-family:Menlo,'DejaVu Sans Mono',consolas,'Courier New',monospace\"><span style=\"color: #7fbfbf; text-decoration-color: #7fbfbf\">[05/08/24 16:20:38] </span><span style=\"color: #800000; text-decoration-color: #800000\">WARNING </span> <span style=\"color: #800080; text-decoration-color: #800080\">/home/smartroom/miniconda3/envs/raftel/lib/python3.8/site-packages/ked</span> <a href=\"file:///home/smartroom/miniconda3/envs/raftel/lib/python3.8/warnings.py\" target=\"_blank\"><span style=\"color: #7f7f7f; text-decoration-color: #7f7f7f\">warnings.py</span></a><span style=\"color: #7f7f7f; text-decoration-color: #7f7f7f\">:</span><a href=\"file:///home/smartroom/miniconda3/envs/raftel/lib/python3.8/warnings.py#109\" target=\"_blank\"><span style=\"color: #7f7f7f; text-decoration-color: #7f7f7f\">109</span></a>\n",
       "<span style=\"color: #7fbfbf; text-decoration-color: #7fbfbf\">                    </span>         <span style=\"color: #800080; text-decoration-color: #800080\">ro_viz/api/graphql/</span><span style=\"color: #ff00ff; text-decoration-color: #ff00ff\">router.py</span>:<span style=\"color: #008080; text-decoration-color: #008080; font-weight: bold\">10</span>: DeprecationWarning: The `graphiql`    <span style=\"color: #7f7f7f; text-decoration-color: #7f7f7f\">               </span>\n",
       "<span style=\"color: #7fbfbf; text-decoration-color: #7fbfbf\">                    </span>         argument is deprecated in favor of `graphql_ide`                       <span style=\"color: #7f7f7f; text-decoration-color: #7f7f7f\">               </span>\n",
       "<span style=\"color: #7fbfbf; text-decoration-color: #7fbfbf\">                    </span>           graphql_app: GraphQL = <span style=\"color: #800080; text-decoration-color: #800080; font-weight: bold\">GraphQL</span><span style=\"font-weight: bold\">(</span>schema, <span style=\"color: #808000; text-decoration-color: #808000\">graphiql</span>=<span style=\"color: #ff0000; text-decoration-color: #ff0000; font-style: italic\">False</span><span style=\"font-weight: bold\">)</span>               <span style=\"color: #7f7f7f; text-decoration-color: #7f7f7f\">               </span>\n",
       "<span style=\"color: #7fbfbf; text-decoration-color: #7fbfbf\">                    </span>                                                                                <span style=\"color: #7f7f7f; text-decoration-color: #7f7f7f\">               </span>\n",
       "</pre>\n"
      ],
      "text/plain": [
       "\u001b[2;36m[05/08/24 16:20:38]\u001b[0m\u001b[2;36m \u001b[0m\u001b[31mWARNING \u001b[0m \u001b[35m/home/smartroom/miniconda3/envs/raftel/lib/python3.8/site-packages/ked\u001b[0m \u001b]8;id=24428;file:///home/smartroom/miniconda3/envs/raftel/lib/python3.8/warnings.py\u001b\\\u001b[2mwarnings.py\u001b[0m\u001b]8;;\u001b\\\u001b[2m:\u001b[0m\u001b]8;id=249255;file:///home/smartroom/miniconda3/envs/raftel/lib/python3.8/warnings.py#109\u001b\\\u001b[2m109\u001b[0m\u001b]8;;\u001b\\\n",
       "\u001b[2;36m                    \u001b[0m         \u001b[35mro_viz/api/graphql/\u001b[0m\u001b[95mrouter.py\u001b[0m:\u001b[1;36m10\u001b[0m: DeprecationWarning: The `graphiql`    \u001b[2m               \u001b[0m\n",
       "\u001b[2;36m                    \u001b[0m         argument is deprecated in favor of `graphql_ide`                       \u001b[2m               \u001b[0m\n",
       "\u001b[2;36m                    \u001b[0m           graphql_app: GraphQL = \u001b[1;35mGraphQL\u001b[0m\u001b[1m(\u001b[0mschema, \u001b[33mgraphiql\u001b[0m=\u001b[3;91mFalse\u001b[0m\u001b[1m)\u001b[0m               \u001b[2m               \u001b[0m\n",
       "\u001b[2;36m                    \u001b[0m                                                                                \u001b[2m               \u001b[0m\n"
      ]
     },
     "metadata": {},
     "output_type": "display_data"
    },
    {
     "data": {
      "text/html": [
       "<pre style=\"white-space:pre;overflow-x:auto;line-height:normal;font-family:Menlo,'DejaVu Sans Mono',consolas,'Courier New',monospace\"><span style=\"color: #7fbfbf; text-decoration-color: #7fbfbf\">[05/08/24 16:20:39] </span><span style=\"color: #000080; text-decoration-color: #000080\">INFO    </span> Registered line magic <span style=\"color: #008000; text-decoration-color: #008000\">'run_viz'</span>                                        <a href=\"file:///home/smartroom/miniconda3/envs/raftel/lib/python3.8/site-packages/kedro/ipython/__init__.py\" target=\"_blank\"><span style=\"color: #7f7f7f; text-decoration-color: #7f7f7f\">__init__.py</span></a><span style=\"color: #7f7f7f; text-decoration-color: #7f7f7f\">:</span><a href=\"file:///home/smartroom/miniconda3/envs/raftel/lib/python3.8/site-packages/kedro/ipython/__init__.py#110\" target=\"_blank\"><span style=\"color: #7f7f7f; text-decoration-color: #7f7f7f\">110</span></a>\n",
       "</pre>\n"
      ],
      "text/plain": [
       "\u001b[2;36m[05/08/24 16:20:39]\u001b[0m\u001b[2;36m \u001b[0m\u001b[34mINFO    \u001b[0m Registered line magic \u001b[32m'run_viz'\u001b[0m                                        \u001b]8;id=669469;file:///home/smartroom/miniconda3/envs/raftel/lib/python3.8/site-packages/kedro/ipython/__init__.py\u001b\\\u001b[2m__init__.py\u001b[0m\u001b]8;;\u001b\\\u001b[2m:\u001b[0m\u001b]8;id=634996;file:///home/smartroom/miniconda3/envs/raftel/lib/python3.8/site-packages/kedro/ipython/__init__.py#110\u001b\\\u001b[2m110\u001b[0m\u001b]8;;\u001b\\\n"
      ]
     },
     "metadata": {},
     "output_type": "display_data"
    }
   ],
   "source": [
    "%load_ext kedro.extras.extensions.ipython"
   ]
  },
  {
   "cell_type": "code",
   "execution_count": 2,
   "id": "4d207709-6a02-4ffc-b886-c73e6449a636",
   "metadata": {},
   "outputs": [
    {
     "data": {
      "text/html": [
       "<pre style=\"white-space:pre;overflow-x:auto;line-height:normal;font-family:Menlo,'DejaVu Sans Mono',consolas,'Courier New',monospace\"><span style=\"color: #7fbfbf; text-decoration-color: #7fbfbf\">                    </span><span style=\"color: #000080; text-decoration-color: #000080\">INFO    </span> Resolved project path as: <span style=\"color: #800080; text-decoration-color: #800080\">/home/smartroom/jhonatan/</span><span style=\"color: #ff00ff; text-decoration-color: #ff00ff\">raftel.</span>             <a href=\"file:///home/smartroom/miniconda3/envs/raftel/lib/python3.8/site-packages/kedro/ipython/__init__.py\" target=\"_blank\"><span style=\"color: #7f7f7f; text-decoration-color: #7f7f7f\">__init__.py</span></a><span style=\"color: #7f7f7f; text-decoration-color: #7f7f7f\">:</span><a href=\"file:///home/smartroom/miniconda3/envs/raftel/lib/python3.8/site-packages/kedro/ipython/__init__.py#134\" target=\"_blank\"><span style=\"color: #7f7f7f; text-decoration-color: #7f7f7f\">134</span></a>\n",
       "<span style=\"color: #7fbfbf; text-decoration-color: #7fbfbf\">                    </span>         To set a different path, run <span style=\"color: #008000; text-decoration-color: #008000\">'%reload_kedro &lt;project_root&gt;'</span>            <span style=\"color: #7f7f7f; text-decoration-color: #7f7f7f\">               </span>\n",
       "</pre>\n"
      ],
      "text/plain": [
       "\u001b[2;36m                   \u001b[0m\u001b[2;36m \u001b[0m\u001b[34mINFO    \u001b[0m Resolved project path as: \u001b[35m/home/smartroom/jhonatan/\u001b[0m\u001b[95mraftel.\u001b[0m             \u001b]8;id=244306;file:///home/smartroom/miniconda3/envs/raftel/lib/python3.8/site-packages/kedro/ipython/__init__.py\u001b\\\u001b[2m__init__.py\u001b[0m\u001b]8;;\u001b\\\u001b[2m:\u001b[0m\u001b]8;id=750917;file:///home/smartroom/miniconda3/envs/raftel/lib/python3.8/site-packages/kedro/ipython/__init__.py#134\u001b\\\u001b[2m134\u001b[0m\u001b]8;;\u001b\\\n",
       "\u001b[2;36m                    \u001b[0m         To set a different path, run \u001b[32m'%reload_kedro \u001b[0m\u001b[32m<\u001b[0m\u001b[32mproject_root\u001b[0m\u001b[32m>\u001b[0m\u001b[32m'\u001b[0m            \u001b[2m               \u001b[0m\n"
      ]
     },
     "metadata": {},
     "output_type": "display_data"
    },
    {
     "data": {
      "text/html": [
       "<pre style=\"white-space:pre;overflow-x:auto;line-height:normal;font-family:Menlo,'DejaVu Sans Mono',consolas,'Courier New',monospace\"><span style=\"color: #7fbfbf; text-decoration-color: #7fbfbf\">[05/08/24 16:20:40] </span><span style=\"color: #000080; text-decoration-color: #000080\">INFO    </span> Kedro project raftel                                                   <a href=\"file:///home/smartroom/miniconda3/envs/raftel/lib/python3.8/site-packages/kedro/ipython/__init__.py\" target=\"_blank\"><span style=\"color: #7f7f7f; text-decoration-color: #7f7f7f\">__init__.py</span></a><span style=\"color: #7f7f7f; text-decoration-color: #7f7f7f\">:</span><a href=\"file:///home/smartroom/miniconda3/envs/raftel/lib/python3.8/site-packages/kedro/ipython/__init__.py#103\" target=\"_blank\"><span style=\"color: #7f7f7f; text-decoration-color: #7f7f7f\">103</span></a>\n",
       "</pre>\n"
      ],
      "text/plain": [
       "\u001b[2;36m[05/08/24 16:20:40]\u001b[0m\u001b[2;36m \u001b[0m\u001b[34mINFO    \u001b[0m Kedro project raftel                                                   \u001b]8;id=631447;file:///home/smartroom/miniconda3/envs/raftel/lib/python3.8/site-packages/kedro/ipython/__init__.py\u001b\\\u001b[2m__init__.py\u001b[0m\u001b]8;;\u001b\\\u001b[2m:\u001b[0m\u001b]8;id=903197;file:///home/smartroom/miniconda3/envs/raftel/lib/python3.8/site-packages/kedro/ipython/__init__.py#103\u001b\\\u001b[2m103\u001b[0m\u001b]8;;\u001b\\\n"
      ]
     },
     "metadata": {},
     "output_type": "display_data"
    },
    {
     "data": {
      "text/html": [
       "<pre style=\"white-space:pre;overflow-x:auto;line-height:normal;font-family:Menlo,'DejaVu Sans Mono',consolas,'Courier New',monospace\"><span style=\"color: #7fbfbf; text-decoration-color: #7fbfbf\">                    </span><span style=\"color: #000080; text-decoration-color: #000080\">INFO    </span> Defined global variable <span style=\"color: #008000; text-decoration-color: #008000\">'context'</span>, <span style=\"color: #008000; text-decoration-color: #008000\">'session'</span>, <span style=\"color: #008000; text-decoration-color: #008000\">'catalog'</span> and            <a href=\"file:///home/smartroom/miniconda3/envs/raftel/lib/python3.8/site-packages/kedro/ipython/__init__.py\" target=\"_blank\"><span style=\"color: #7f7f7f; text-decoration-color: #7f7f7f\">__init__.py</span></a><span style=\"color: #7f7f7f; text-decoration-color: #7f7f7f\">:</span><a href=\"file:///home/smartroom/miniconda3/envs/raftel/lib/python3.8/site-packages/kedro/ipython/__init__.py#104\" target=\"_blank\"><span style=\"color: #7f7f7f; text-decoration-color: #7f7f7f\">104</span></a>\n",
       "<span style=\"color: #7fbfbf; text-decoration-color: #7fbfbf\">                    </span>         <span style=\"color: #008000; text-decoration-color: #008000\">'pipelines'</span>                                                            <span style=\"color: #7f7f7f; text-decoration-color: #7f7f7f\">               </span>\n",
       "</pre>\n"
      ],
      "text/plain": [
       "\u001b[2;36m                   \u001b[0m\u001b[2;36m \u001b[0m\u001b[34mINFO    \u001b[0m Defined global variable \u001b[32m'context'\u001b[0m, \u001b[32m'session'\u001b[0m, \u001b[32m'catalog'\u001b[0m and            \u001b]8;id=728745;file:///home/smartroom/miniconda3/envs/raftel/lib/python3.8/site-packages/kedro/ipython/__init__.py\u001b\\\u001b[2m__init__.py\u001b[0m\u001b]8;;\u001b\\\u001b[2m:\u001b[0m\u001b]8;id=797009;file:///home/smartroom/miniconda3/envs/raftel/lib/python3.8/site-packages/kedro/ipython/__init__.py#104\u001b\\\u001b[2m104\u001b[0m\u001b]8;;\u001b\\\n",
       "\u001b[2;36m                    \u001b[0m         \u001b[32m'pipelines'\u001b[0m                                                            \u001b[2m               \u001b[0m\n"
      ]
     },
     "metadata": {},
     "output_type": "display_data"
    },
    {
     "data": {
      "text/html": [
       "<pre style=\"white-space:pre;overflow-x:auto;line-height:normal;font-family:Menlo,'DejaVu Sans Mono',consolas,'Courier New',monospace\"><span style=\"color: #7fbfbf; text-decoration-color: #7fbfbf\">                    </span><span style=\"color: #000080; text-decoration-color: #000080\">INFO    </span> Registered line magic <span style=\"color: #008000; text-decoration-color: #008000\">'run_viz'</span>                                        <a href=\"file:///home/smartroom/miniconda3/envs/raftel/lib/python3.8/site-packages/kedro/ipython/__init__.py\" target=\"_blank\"><span style=\"color: #7f7f7f; text-decoration-color: #7f7f7f\">__init__.py</span></a><span style=\"color: #7f7f7f; text-decoration-color: #7f7f7f\">:</span><a href=\"file:///home/smartroom/miniconda3/envs/raftel/lib/python3.8/site-packages/kedro/ipython/__init__.py#110\" target=\"_blank\"><span style=\"color: #7f7f7f; text-decoration-color: #7f7f7f\">110</span></a>\n",
       "</pre>\n"
      ],
      "text/plain": [
       "\u001b[2;36m                   \u001b[0m\u001b[2;36m \u001b[0m\u001b[34mINFO    \u001b[0m Registered line magic \u001b[32m'run_viz'\u001b[0m                                        \u001b]8;id=960202;file:///home/smartroom/miniconda3/envs/raftel/lib/python3.8/site-packages/kedro/ipython/__init__.py\u001b\\\u001b[2m__init__.py\u001b[0m\u001b]8;;\u001b\\\u001b[2m:\u001b[0m\u001b]8;id=62217;file:///home/smartroom/miniconda3/envs/raftel/lib/python3.8/site-packages/kedro/ipython/__init__.py#110\u001b\\\u001b[2m110\u001b[0m\u001b]8;;\u001b\\\n"
      ]
     },
     "metadata": {},
     "output_type": "display_data"
    }
   ],
   "source": [
    "%reload_kedro"
   ]
  },
  {
   "cell_type": "code",
   "execution_count": 3,
   "id": "92337acd-11f3-4cc5-90f3-55a56f0ce2f8",
   "metadata": {},
   "outputs": [],
   "source": [
    "import pyspark.sql.functions as F\n",
    "import math\n",
    "import pandas as pd\n",
    "import numpy as np\n",
    "from functools import reduce"
   ]
  },
  {
   "cell_type": "code",
   "execution_count": 4,
   "id": "c1076a86-7059-4f64-ae84-b1b530ada271",
   "metadata": {},
   "outputs": [
    {
     "data": {
      "text/html": [
       "<pre style=\"white-space:pre;overflow-x:auto;line-height:normal;font-family:Menlo,'DejaVu Sans Mono',consolas,'Courier New',monospace\"><span style=\"color: #7fbfbf; text-decoration-color: #7fbfbf\">                    </span><span style=\"color: #000080; text-decoration-color: #000080\">INFO    </span> Loading data from <span style=\"color: #008000; text-decoration-color: #008000\">'aras_A_encoded@spark'</span> <span style=\"font-weight: bold\">(</span>SparkDataSet<span style=\"font-weight: bold\">)</span><span style=\"color: #808000; text-decoration-color: #808000\">...</span>         <a href=\"file:///home/smartroom/miniconda3/envs/raftel/lib/python3.8/site-packages/kedro/io/data_catalog.py\" target=\"_blank\"><span style=\"color: #7f7f7f; text-decoration-color: #7f7f7f\">data_catalog.py</span></a><span style=\"color: #7f7f7f; text-decoration-color: #7f7f7f\">:</span><a href=\"file:///home/smartroom/miniconda3/envs/raftel/lib/python3.8/site-packages/kedro/io/data_catalog.py#343\" target=\"_blank\"><span style=\"color: #7f7f7f; text-decoration-color: #7f7f7f\">343</span></a>\n",
       "</pre>\n"
      ],
      "text/plain": [
       "\u001b[2;36m                   \u001b[0m\u001b[2;36m \u001b[0m\u001b[34mINFO    \u001b[0m Loading data from \u001b[32m'aras_A_encoded@spark'\u001b[0m \u001b[1m(\u001b[0mSparkDataSet\u001b[1m)\u001b[0m\u001b[33m...\u001b[0m         \u001b]8;id=785994;file:///home/smartroom/miniconda3/envs/raftel/lib/python3.8/site-packages/kedro/io/data_catalog.py\u001b\\\u001b[2mdata_catalog.py\u001b[0m\u001b]8;;\u001b\\\u001b[2m:\u001b[0m\u001b]8;id=630746;file:///home/smartroom/miniconda3/envs/raftel/lib/python3.8/site-packages/kedro/io/data_catalog.py#343\u001b\\\u001b[2m343\u001b[0m\u001b]8;;\u001b\\\n"
      ]
     },
     "metadata": {},
     "output_type": "display_data"
    },
    {
     "name": "stderr",
     "output_type": "stream",
     "text": [
      "                                                                                \r"
     ]
    }
   ],
   "source": [
    "dataset = catalog.load(\"aras_A_encoded@spark\")"
   ]
  },
  {
   "cell_type": "code",
   "execution_count": 5,
   "id": "388482d2",
   "metadata": {},
   "outputs": [
    {
     "name": "stderr",
     "output_type": "stream",
     "text": [
      "24/05/08 16:20:46 WARN package: Truncated the string representation of a plan since it was too large. This behavior can be adjusted by setting 'spark.sql.debug.maxToStringFields'.\n",
      "                                                                                \r"
     ]
    },
    {
     "name": "stdout",
     "output_type": "stream",
     "text": [
      "+---+----+---+---+---+---+---+---+---+---+---+---+---+---+---+---+---+---+---+---+---+---+--------------+----------------+--------+---------+----------------+-------------------+-------------+------------+------------+-------------+------------+-------+------------------+-------+-----+-------------------+----------------+---------------+------------+-------+--------+--------+--------------------+---------+--------------+--------------+-----------+\n",
      "|DAY| SEC|Ph1|Ph2|Ir1|Fo1|Fo2|Di3|Di4|Ph3|Ph4|Ph5|Ph6|Co1|Co2|Co3|So1|So2|Di1|Di2|Te1|Fo3|Brushing_Teeth|Changing_Clothes|Cleaning|Going_Out|Having_Breakfast|Having_Conversation|Having_Dinner|Having_Guest|Having_Lunch|Having_Shower|Having_Snack|Laundry|Listening_to_Music|Napping|Other|Preparing_Breakfast|Preparing_Dinner|Preparing_Lunch|Reading_Book|Shaving|Sleeping|Studying|Talking_on_the_Phone|Toileting|Using_Internet|Washing_Dishes|Watching_TV|\n",
      "+---+----+---+---+---+---+---+---+---+---+---+---+---+---+---+---+---+---+---+---+---+---+--------------+----------------+--------+---------+----------------+-------------------+-------------+------------+------------+-------------+------------+-------+------------------+-------+-----+-------------------+----------------+---------------+------------+-------+--------+--------+--------------------+---------+--------------+--------------+-----------+\n",
      "|1.0| 1.0|  0|  0|  0|  0|  0|  0|  0|  0|  0|  0|  0|  0|  0|  0|  0|  0|  0|  0|  0|  0|             0|               0|       0|        0|               0|                  0|            0|           0|           0|            0|           0|      0|                 0|      0|    0|                  0|               0|              0|           0|      0|       0|       0|                   0|        0|             1|             0|          1|\n",
      "|1.0| 2.0|  0|  0|  0|  0|  0|  0|  0|  0|  0|  0|  0|  0|  0|  0|  0|  0|  0|  0|  0|  0|             0|               0|       0|        0|               0|                  0|            0|           0|           0|            0|           0|      0|                 0|      0|    0|                  0|               0|              0|           0|      0|       0|       0|                   0|        0|             1|             0|          1|\n",
      "|1.0| 3.0|  0|  0|  0|  0|  0|  0|  0|  0|  0|  0|  0|  0|  0|  0|  0|  0|  0|  0|  0|  0|             0|               0|       0|        0|               0|                  0|            0|           0|           0|            0|           0|      0|                 0|      0|    0|                  0|               0|              0|           0|      0|       0|       0|                   0|        0|             1|             0|          1|\n",
      "|1.0| 4.0|  0|  0|  0|  0|  0|  0|  0|  0|  0|  0|  0|  0|  0|  0|  0|  0|  0|  0|  0|  0|             0|               0|       0|        0|               0|                  0|            0|           0|           0|            0|           0|      0|                 0|      0|    0|                  0|               0|              0|           0|      0|       0|       0|                   0|        0|             1|             0|          1|\n",
      "|1.0| 5.0|  0|  0|  0|  0|  0|  0|  0|  0|  0|  0|  0|  0|  0|  0|  0|  0|  0|  0|  0|  0|             0|               0|       0|        0|               0|                  0|            0|           0|           0|            0|           0|      0|                 0|      0|    0|                  0|               0|              0|           0|      0|       0|       0|                   0|        0|             1|             0|          1|\n",
      "|1.0| 6.0|  0|  0|  0|  0|  0|  0|  0|  0|  0|  0|  0|  0|  0|  0|  0|  0|  0|  0|  0|  0|             0|               0|       0|        0|               0|                  0|            0|           0|           0|            0|           0|      0|                 0|      0|    0|                  0|               0|              0|           0|      0|       0|       0|                   0|        0|             1|             0|          1|\n",
      "|1.0| 7.0|  0|  0|  0|  0|  0|  0|  0|  0|  0|  0|  0|  0|  0|  0|  0|  0|  0|  0|  0|  0|             0|               0|       0|        0|               0|                  0|            0|           0|           0|            0|           0|      0|                 0|      0|    0|                  0|               0|              0|           0|      0|       0|       0|                   0|        0|             1|             0|          1|\n",
      "|1.0| 8.0|  0|  0|  0|  0|  0|  0|  0|  0|  0|  0|  0|  0|  0|  0|  0|  0|  0|  0|  0|  0|             0|               0|       0|        0|               0|                  0|            0|           0|           0|            0|           0|      0|                 0|      0|    0|                  0|               0|              0|           0|      0|       0|       0|                   0|        0|             1|             0|          1|\n",
      "|1.0| 9.0|  0|  0|  0|  0|  0|  0|  0|  0|  0|  0|  0|  0|  0|  0|  0|  0|  0|  0|  0|  0|             0|               0|       0|        0|               0|                  0|            0|           0|           0|            0|           0|      0|                 0|      0|    0|                  0|               0|              0|           0|      0|       0|       0|                   0|        0|             1|             0|          1|\n",
      "|1.0|10.0|  0|  0|  0|  0|  0|  0|  0|  0|  0|  0|  0|  0|  0|  0|  0|  0|  0|  0|  0|  0|             0|               0|       0|        0|               0|                  0|            0|           0|           0|            0|           0|      0|                 0|      0|    0|                  0|               0|              0|           0|      0|       0|       0|                   0|        0|             1|             0|          1|\n",
      "|1.0|11.0|  0|  0|  0|  0|  0|  0|  0|  0|  0|  0|  0|  0|  0|  0|  1|  0|  0|  0|  0|  0|             0|               0|       0|        0|               0|                  0|            0|           0|           0|            0|           0|      0|                 0|      0|    0|                  0|               0|              0|           0|      0|       0|       0|                   0|        0|             1|             0|          1|\n",
      "|1.0|12.0|  0|  0|  0|  0|  0|  0|  0|  0|  0|  0|  0|  0|  0|  0|  0|  0|  0|  0|  0|  0|             0|               0|       0|        0|               0|                  0|            0|           0|           0|            0|           0|      0|                 0|      0|    0|                  0|               0|              0|           0|      0|       0|       0|                   0|        0|             1|             0|          1|\n",
      "|1.0|13.0|  0|  0|  0|  0|  0|  0|  0|  0|  0|  0|  0|  0|  0|  0|  0|  0|  0|  0|  0|  0|             0|               0|       0|        0|               0|                  0|            0|           0|           0|            0|           0|      0|                 0|      0|    0|                  0|               0|              0|           0|      0|       0|       0|                   0|        0|             1|             0|          1|\n",
      "|1.0|14.0|  0|  0|  0|  0|  0|  0|  0|  0|  0|  0|  0|  0|  0|  0|  0|  0|  0|  0|  0|  0|             0|               0|       0|        0|               0|                  0|            0|           0|           0|            0|           0|      0|                 0|      0|    0|                  0|               0|              0|           0|      0|       0|       0|                   0|        0|             1|             0|          1|\n",
      "|1.0|15.0|  0|  0|  0|  0|  0|  0|  0|  0|  0|  0|  0|  0|  0|  0|  0|  0|  0|  0|  0|  0|             0|               0|       0|        0|               0|                  0|            0|           0|           0|            0|           0|      0|                 0|      0|    0|                  0|               0|              0|           0|      0|       0|       0|                   0|        0|             1|             0|          1|\n",
      "|1.0|16.0|  0|  0|  0|  0|  0|  0|  0|  0|  0|  0|  0|  0|  0|  0|  0|  0|  0|  0|  0|  0|             0|               0|       0|        0|               0|                  0|            0|           0|           0|            0|           0|      0|                 0|      0|    0|                  0|               0|              0|           0|      0|       0|       0|                   0|        0|             1|             0|          1|\n",
      "|1.0|17.0|  0|  0|  0|  0|  0|  0|  0|  0|  0|  0|  0|  0|  0|  0|  0|  0|  0|  0|  0|  0|             0|               0|       0|        0|               0|                  0|            0|           0|           0|            0|           0|      0|                 0|      0|    0|                  0|               0|              0|           0|      0|       0|       0|                   0|        0|             1|             0|          1|\n",
      "|1.0|18.0|  0|  0|  0|  0|  0|  0|  0|  0|  0|  0|  0|  0|  0|  0|  0|  0|  0|  0|  0|  0|             0|               0|       0|        0|               0|                  0|            0|           0|           0|            0|           0|      0|                 0|      0|    0|                  0|               0|              0|           0|      0|       0|       0|                   0|        0|             1|             0|          1|\n",
      "|1.0|19.0|  0|  0|  0|  0|  0|  0|  0|  0|  0|  0|  0|  0|  0|  0|  0|  0|  0|  0|  0|  0|             0|               0|       0|        0|               0|                  0|            0|           0|           0|            0|           0|      0|                 0|      0|    0|                  0|               0|              0|           0|      0|       0|       0|                   0|        0|             1|             0|          1|\n",
      "|1.0|20.0|  0|  0|  0|  0|  0|  0|  0|  0|  0|  0|  0|  0|  0|  0|  0|  0|  0|  0|  0|  0|             0|               0|       0|        0|               0|                  0|            0|           0|           0|            0|           0|      0|                 0|      0|    0|                  0|               0|              0|           0|      0|       0|       0|                   0|        0|             1|             0|          1|\n",
      "+---+----+---+---+---+---+---+---+---+---+---+---+---+---+---+---+---+---+---+---+---+---+--------------+----------------+--------+---------+----------------+-------------------+-------------+------------+------------+-------------+------------+-------+------------------+-------+-----+-------------------+----------------+---------------+------------+-------+--------+--------+--------------------+---------+--------------+--------------+-----------+\n",
      "only showing top 20 rows\n",
      "\n"
     ]
    }
   ],
   "source": [
    "dataset.orderBy(\n",
    "    \"DAY\",\n",
    "    \"SEC\"\n",
    ").show()"
   ]
  },
  {
   "cell_type": "code",
   "execution_count": 6,
   "id": "cb6147aa",
   "metadata": {},
   "outputs": [],
   "source": [
    "dataset = dataset.orderBy(\n",
    "    \"DAY\",\n",
    "    \"SEC\"\n",
    ").withColumn(\n",
    "    \"ID\",\n",
    "    F.when(\n",
    "        F.col(\"DAY\") == 1,\n",
    "        F.col(\"SEC\")\n",
    "    ).otherwise(\n",
    "        F.col(\"SEC\") + 86400*(F.col(\"DAY\") - 1)\n",
    "    )\n",
    ").withColumn(\n",
    "    \"HOUR\",\n",
    "    F.ceil(F.col(\"SEC\") / 3600) - 1\n",
    ")"
   ]
  },
  {
   "cell_type": "code",
   "execution_count": 9,
   "id": "d4f7d469",
   "metadata": {},
   "outputs": [
    {
     "name": "stdout",
     "output_type": "stream",
     "text": [
      "+---------+\n",
      "|max(HOUR)|\n",
      "+---------+\n",
      "|       23|\n",
      "+---------+\n",
      "\n"
     ]
    }
   ],
   "source": [
    "dataset.select(F.max(\"HOUR\")).show()"
   ]
  },
  {
   "cell_type": "code",
   "execution_count": 10,
   "id": "4e83a5f3",
   "metadata": {},
   "outputs": [
    {
     "name": "stderr",
     "output_type": "stream",
     "text": [
      "                                                                                \r"
     ]
    }
   ],
   "source": [
    "columna = \"HOUR\"\n",
    "\n",
    "unicos_columna = (\n",
    "    dataset.select(columna)\n",
    "    .distinct()\n",
    "    .rdd.flatMap(lambda x: x)\n",
    "    .collect()\n",
    ")\n",
    "\n",
    "unicos_columna.sort()\n",
    "\n",
    "expr_unicos_columna = [\n",
    "    F.when(\n",
    "        F.col(columna)\n",
    "        == valor_unico,\n",
    "        1,\n",
    "    )\n",
    "    .otherwise(0)\n",
    "    .alias(\n",
    "        \"{columna}{valor}\".format(\n",
    "            columna=\"H\",\n",
    "            valor=int(valor_unico),\n",
    "        )\n",
    "    )\n",
    "    for valor_unico in unicos_columna\n",
    "    if valor_unico != 0 #tiene un efecto parecido que drop_first=True\n",
    "]\n"
   ]
  },
  {
   "cell_type": "code",
   "execution_count": 11,
   "id": "06007b2f",
   "metadata": {},
   "outputs": [],
   "source": [
    "dataset = dataset.select(\n",
    "    [\n",
    "        \"ID\",\n",
    "        *expr_unicos_columna,\n",
    "        'Ph1',\n",
    "        'Ph2',\n",
    "        'Ir1',\n",
    "        'Fo1',\n",
    "        'Fo2',\n",
    "        'Di3',\n",
    "        'Di4',\n",
    "        'Ph3',\n",
    "        'Ph4',\n",
    "        'Ph5',\n",
    "        'Ph6',\n",
    "        'Co1',\n",
    "        'Co2',\n",
    "        'Co3',\n",
    "        'So1',\n",
    "        'So2',\n",
    "        'Di1',\n",
    "        'Di2',\n",
    "        'Te1',\n",
    "        'Fo3',\n",
    "        'Brushing_Teeth',\n",
    "        'Changing_Clothes',\n",
    "        'Cleaning',\n",
    "        'Going_Out',\n",
    "        'Having_Breakfast',\n",
    "        'Having_Conversation',\n",
    "        'Having_Dinner',\n",
    "        'Having_Guest',\n",
    "        'Having_Lunch',\n",
    "        'Having_Shower',\n",
    "        'Having_Snack',\n",
    "        'Laundry',\n",
    "        'Listening_to_Music',\n",
    "        'Napping',\n",
    "        'Other',\n",
    "        'Preparing_Breakfast',\n",
    "        'Preparing_Dinner',\n",
    "        'Preparing_Lunch',\n",
    "        'Reading_Book',\n",
    "        'Shaving',\n",
    "        'Sleeping',\n",
    "        'Studying',\n",
    "        'Talking_on_the_Phone',\n",
    "        'Toileting',\n",
    "        'Using_Internet',\n",
    "        'Washing_Dishes',\n",
    "        'Watching_TV',\n",
    "    ]\n",
    ")"
   ]
  },
  {
   "cell_type": "code",
   "execution_count": 12,
   "id": "d62c06f9",
   "metadata": {},
   "outputs": [
    {
     "name": "stderr",
     "output_type": "stream",
     "text": [
      "[Stage 13:==========================================>              (9 + 3) / 12]\r"
     ]
    },
    {
     "name": "stdout",
     "output_type": "stream",
     "text": [
      "+----+---+---+---+---+---+---+---+---+---+---+---+---+---+---+---+---+---+---+---+---+---+---+---+---+---+---+---+---+---+---+---+---+---+---+---+---+---+---+---+---+---+---+---+--------------+----------------+--------+---------+----------------+-------------------+-------------+------------+------------+-------------+------------+-------+------------------+-------+-----+-------------------+----------------+---------------+------------+-------+--------+--------+--------------------+---------+--------------+--------------+-----------+\n",
      "|  ID| H1| H2| H3| H4| H5| H6| H7| H8| H9|H10|H11|H12|H13|H14|H15|H16|H17|H18|H19|H20|H21|H22|H23|Ph1|Ph2|Ir1|Fo1|Fo2|Di3|Di4|Ph3|Ph4|Ph5|Ph6|Co1|Co2|Co3|So1|So2|Di1|Di2|Te1|Fo3|Brushing_Teeth|Changing_Clothes|Cleaning|Going_Out|Having_Breakfast|Having_Conversation|Having_Dinner|Having_Guest|Having_Lunch|Having_Shower|Having_Snack|Laundry|Listening_to_Music|Napping|Other|Preparing_Breakfast|Preparing_Dinner|Preparing_Lunch|Reading_Book|Shaving|Sleeping|Studying|Talking_on_the_Phone|Toileting|Using_Internet|Washing_Dishes|Watching_TV|\n",
      "+----+---+---+---+---+---+---+---+---+---+---+---+---+---+---+---+---+---+---+---+---+---+---+---+---+---+---+---+---+---+---+---+---+---+---+---+---+---+---+---+---+---+---+---+--------------+----------------+--------+---------+----------------+-------------------+-------------+------------+------------+-------------+------------+-------+------------------+-------+-----+-------------------+----------------+---------------+------------+-------+--------+--------+--------------------+---------+--------------+--------------+-----------+\n",
      "| 1.0|  0|  0|  0|  0|  0|  0|  0|  0|  0|  0|  0|  0|  0|  0|  0|  0|  0|  0|  0|  0|  0|  0|  0|  0|  0|  0|  0|  0|  0|  0|  0|  0|  0|  0|  0|  0|  0|  0|  0|  0|  0|  0|  0|             0|               0|       0|        0|               0|                  0|            0|           0|           0|            0|           0|      0|                 0|      0|    0|                  0|               0|              0|           0|      0|       0|       0|                   0|        0|             1|             0|          1|\n",
      "| 2.0|  0|  0|  0|  0|  0|  0|  0|  0|  0|  0|  0|  0|  0|  0|  0|  0|  0|  0|  0|  0|  0|  0|  0|  0|  0|  0|  0|  0|  0|  0|  0|  0|  0|  0|  0|  0|  0|  0|  0|  0|  0|  0|  0|             0|               0|       0|        0|               0|                  0|            0|           0|           0|            0|           0|      0|                 0|      0|    0|                  0|               0|              0|           0|      0|       0|       0|                   0|        0|             1|             0|          1|\n",
      "| 3.0|  0|  0|  0|  0|  0|  0|  0|  0|  0|  0|  0|  0|  0|  0|  0|  0|  0|  0|  0|  0|  0|  0|  0|  0|  0|  0|  0|  0|  0|  0|  0|  0|  0|  0|  0|  0|  0|  0|  0|  0|  0|  0|  0|             0|               0|       0|        0|               0|                  0|            0|           0|           0|            0|           0|      0|                 0|      0|    0|                  0|               0|              0|           0|      0|       0|       0|                   0|        0|             1|             0|          1|\n",
      "| 4.0|  0|  0|  0|  0|  0|  0|  0|  0|  0|  0|  0|  0|  0|  0|  0|  0|  0|  0|  0|  0|  0|  0|  0|  0|  0|  0|  0|  0|  0|  0|  0|  0|  0|  0|  0|  0|  0|  0|  0|  0|  0|  0|  0|             0|               0|       0|        0|               0|                  0|            0|           0|           0|            0|           0|      0|                 0|      0|    0|                  0|               0|              0|           0|      0|       0|       0|                   0|        0|             1|             0|          1|\n",
      "| 5.0|  0|  0|  0|  0|  0|  0|  0|  0|  0|  0|  0|  0|  0|  0|  0|  0|  0|  0|  0|  0|  0|  0|  0|  0|  0|  0|  0|  0|  0|  0|  0|  0|  0|  0|  0|  0|  0|  0|  0|  0|  0|  0|  0|             0|               0|       0|        0|               0|                  0|            0|           0|           0|            0|           0|      0|                 0|      0|    0|                  0|               0|              0|           0|      0|       0|       0|                   0|        0|             1|             0|          1|\n",
      "| 6.0|  0|  0|  0|  0|  0|  0|  0|  0|  0|  0|  0|  0|  0|  0|  0|  0|  0|  0|  0|  0|  0|  0|  0|  0|  0|  0|  0|  0|  0|  0|  0|  0|  0|  0|  0|  0|  0|  0|  0|  0|  0|  0|  0|             0|               0|       0|        0|               0|                  0|            0|           0|           0|            0|           0|      0|                 0|      0|    0|                  0|               0|              0|           0|      0|       0|       0|                   0|        0|             1|             0|          1|\n",
      "| 7.0|  0|  0|  0|  0|  0|  0|  0|  0|  0|  0|  0|  0|  0|  0|  0|  0|  0|  0|  0|  0|  0|  0|  0|  0|  0|  0|  0|  0|  0|  0|  0|  0|  0|  0|  0|  0|  0|  0|  0|  0|  0|  0|  0|             0|               0|       0|        0|               0|                  0|            0|           0|           0|            0|           0|      0|                 0|      0|    0|                  0|               0|              0|           0|      0|       0|       0|                   0|        0|             1|             0|          1|\n",
      "| 8.0|  0|  0|  0|  0|  0|  0|  0|  0|  0|  0|  0|  0|  0|  0|  0|  0|  0|  0|  0|  0|  0|  0|  0|  0|  0|  0|  0|  0|  0|  0|  0|  0|  0|  0|  0|  0|  0|  0|  0|  0|  0|  0|  0|             0|               0|       0|        0|               0|                  0|            0|           0|           0|            0|           0|      0|                 0|      0|    0|                  0|               0|              0|           0|      0|       0|       0|                   0|        0|             1|             0|          1|\n",
      "| 9.0|  0|  0|  0|  0|  0|  0|  0|  0|  0|  0|  0|  0|  0|  0|  0|  0|  0|  0|  0|  0|  0|  0|  0|  0|  0|  0|  0|  0|  0|  0|  0|  0|  0|  0|  0|  0|  0|  0|  0|  0|  0|  0|  0|             0|               0|       0|        0|               0|                  0|            0|           0|           0|            0|           0|      0|                 0|      0|    0|                  0|               0|              0|           0|      0|       0|       0|                   0|        0|             1|             0|          1|\n",
      "|10.0|  0|  0|  0|  0|  0|  0|  0|  0|  0|  0|  0|  0|  0|  0|  0|  0|  0|  0|  0|  0|  0|  0|  0|  0|  0|  0|  0|  0|  0|  0|  0|  0|  0|  0|  0|  0|  0|  0|  0|  0|  0|  0|  0|             0|               0|       0|        0|               0|                  0|            0|           0|           0|            0|           0|      0|                 0|      0|    0|                  0|               0|              0|           0|      0|       0|       0|                   0|        0|             1|             0|          1|\n",
      "|11.0|  0|  0|  0|  0|  0|  0|  0|  0|  0|  0|  0|  0|  0|  0|  0|  0|  0|  0|  0|  0|  0|  0|  0|  0|  0|  0|  0|  0|  0|  0|  0|  0|  0|  0|  0|  0|  0|  1|  0|  0|  0|  0|  0|             0|               0|       0|        0|               0|                  0|            0|           0|           0|            0|           0|      0|                 0|      0|    0|                  0|               0|              0|           0|      0|       0|       0|                   0|        0|             1|             0|          1|\n",
      "|12.0|  0|  0|  0|  0|  0|  0|  0|  0|  0|  0|  0|  0|  0|  0|  0|  0|  0|  0|  0|  0|  0|  0|  0|  0|  0|  0|  0|  0|  0|  0|  0|  0|  0|  0|  0|  0|  0|  0|  0|  0|  0|  0|  0|             0|               0|       0|        0|               0|                  0|            0|           0|           0|            0|           0|      0|                 0|      0|    0|                  0|               0|              0|           0|      0|       0|       0|                   0|        0|             1|             0|          1|\n",
      "|13.0|  0|  0|  0|  0|  0|  0|  0|  0|  0|  0|  0|  0|  0|  0|  0|  0|  0|  0|  0|  0|  0|  0|  0|  0|  0|  0|  0|  0|  0|  0|  0|  0|  0|  0|  0|  0|  0|  0|  0|  0|  0|  0|  0|             0|               0|       0|        0|               0|                  0|            0|           0|           0|            0|           0|      0|                 0|      0|    0|                  0|               0|              0|           0|      0|       0|       0|                   0|        0|             1|             0|          1|\n",
      "|14.0|  0|  0|  0|  0|  0|  0|  0|  0|  0|  0|  0|  0|  0|  0|  0|  0|  0|  0|  0|  0|  0|  0|  0|  0|  0|  0|  0|  0|  0|  0|  0|  0|  0|  0|  0|  0|  0|  0|  0|  0|  0|  0|  0|             0|               0|       0|        0|               0|                  0|            0|           0|           0|            0|           0|      0|                 0|      0|    0|                  0|               0|              0|           0|      0|       0|       0|                   0|        0|             1|             0|          1|\n",
      "|15.0|  0|  0|  0|  0|  0|  0|  0|  0|  0|  0|  0|  0|  0|  0|  0|  0|  0|  0|  0|  0|  0|  0|  0|  0|  0|  0|  0|  0|  0|  0|  0|  0|  0|  0|  0|  0|  0|  0|  0|  0|  0|  0|  0|             0|               0|       0|        0|               0|                  0|            0|           0|           0|            0|           0|      0|                 0|      0|    0|                  0|               0|              0|           0|      0|       0|       0|                   0|        0|             1|             0|          1|\n",
      "|16.0|  0|  0|  0|  0|  0|  0|  0|  0|  0|  0|  0|  0|  0|  0|  0|  0|  0|  0|  0|  0|  0|  0|  0|  0|  0|  0|  0|  0|  0|  0|  0|  0|  0|  0|  0|  0|  0|  0|  0|  0|  0|  0|  0|             0|               0|       0|        0|               0|                  0|            0|           0|           0|            0|           0|      0|                 0|      0|    0|                  0|               0|              0|           0|      0|       0|       0|                   0|        0|             1|             0|          1|\n",
      "|17.0|  0|  0|  0|  0|  0|  0|  0|  0|  0|  0|  0|  0|  0|  0|  0|  0|  0|  0|  0|  0|  0|  0|  0|  0|  0|  0|  0|  0|  0|  0|  0|  0|  0|  0|  0|  0|  0|  0|  0|  0|  0|  0|  0|             0|               0|       0|        0|               0|                  0|            0|           0|           0|            0|           0|      0|                 0|      0|    0|                  0|               0|              0|           0|      0|       0|       0|                   0|        0|             1|             0|          1|\n",
      "|18.0|  0|  0|  0|  0|  0|  0|  0|  0|  0|  0|  0|  0|  0|  0|  0|  0|  0|  0|  0|  0|  0|  0|  0|  0|  0|  0|  0|  0|  0|  0|  0|  0|  0|  0|  0|  0|  0|  0|  0|  0|  0|  0|  0|             0|               0|       0|        0|               0|                  0|            0|           0|           0|            0|           0|      0|                 0|      0|    0|                  0|               0|              0|           0|      0|       0|       0|                   0|        0|             1|             0|          1|\n",
      "|19.0|  0|  0|  0|  0|  0|  0|  0|  0|  0|  0|  0|  0|  0|  0|  0|  0|  0|  0|  0|  0|  0|  0|  0|  0|  0|  0|  0|  0|  0|  0|  0|  0|  0|  0|  0|  0|  0|  0|  0|  0|  0|  0|  0|             0|               0|       0|        0|               0|                  0|            0|           0|           0|            0|           0|      0|                 0|      0|    0|                  0|               0|              0|           0|      0|       0|       0|                   0|        0|             1|             0|          1|\n",
      "|20.0|  0|  0|  0|  0|  0|  0|  0|  0|  0|  0|  0|  0|  0|  0|  0|  0|  0|  0|  0|  0|  0|  0|  0|  0|  0|  0|  0|  0|  0|  0|  0|  0|  0|  0|  0|  0|  0|  0|  0|  0|  0|  0|  0|             0|               0|       0|        0|               0|                  0|            0|           0|           0|            0|           0|      0|                 0|      0|    0|                  0|               0|              0|           0|      0|       0|       0|                   0|        0|             1|             0|          1|\n",
      "+----+---+---+---+---+---+---+---+---+---+---+---+---+---+---+---+---+---+---+---+---+---+---+---+---+---+---+---+---+---+---+---+---+---+---+---+---+---+---+---+---+---+---+---+--------------+----------------+--------+---------+----------------+-------------------+-------------+------------+------------+-------------+------------+-------+------------------+-------+-----+-------------------+----------------+---------------+------------+-------+--------+--------+--------------------+---------+--------------+--------------+-----------+\n",
      "only showing top 20 rows\n",
      "\n"
     ]
    },
    {
     "name": "stderr",
     "output_type": "stream",
     "text": [
      "                                                                                \r"
     ]
    }
   ],
   "source": [
    "dataset.show()"
   ]
  },
  {
   "cell_type": "code",
   "execution_count": 13,
   "id": "a87772b3",
   "metadata": {},
   "outputs": [
    {
     "data": {
      "text/html": [
       "<pre style=\"white-space:pre;overflow-x:auto;line-height:normal;font-family:Menlo,'DejaVu Sans Mono',consolas,'Courier New',monospace\"><span style=\"color: #7fbfbf; text-decoration-color: #7fbfbf\">[05/08/24 16:23:33] </span><span style=\"color: #000080; text-decoration-color: #000080\">INFO    </span> Saving data to <span style=\"color: #008000; text-decoration-color: #008000\">'featured_aras_A_2@spark'</span> <span style=\"font-weight: bold\">(</span>SparkDataSet<span style=\"font-weight: bold\">)</span><span style=\"color: #808000; text-decoration-color: #808000\">...</span>         <a href=\"file:///home/smartroom/miniconda3/envs/raftel/lib/python3.8/site-packages/kedro/io/data_catalog.py\" target=\"_blank\"><span style=\"color: #7f7f7f; text-decoration-color: #7f7f7f\">data_catalog.py</span></a><span style=\"color: #7f7f7f; text-decoration-color: #7f7f7f\">:</span><a href=\"file:///home/smartroom/miniconda3/envs/raftel/lib/python3.8/site-packages/kedro/io/data_catalog.py#382\" target=\"_blank\"><span style=\"color: #7f7f7f; text-decoration-color: #7f7f7f\">382</span></a>\n",
       "</pre>\n"
      ],
      "text/plain": [
       "\u001b[2;36m[05/08/24 16:23:33]\u001b[0m\u001b[2;36m \u001b[0m\u001b[34mINFO    \u001b[0m Saving data to \u001b[32m'featured_aras_A_2@spark'\u001b[0m \u001b[1m(\u001b[0mSparkDataSet\u001b[1m)\u001b[0m\u001b[33m...\u001b[0m         \u001b]8;id=23322;file:///home/smartroom/miniconda3/envs/raftel/lib/python3.8/site-packages/kedro/io/data_catalog.py\u001b\\\u001b[2mdata_catalog.py\u001b[0m\u001b]8;;\u001b\\\u001b[2m:\u001b[0m\u001b]8;id=703756;file:///home/smartroom/miniconda3/envs/raftel/lib/python3.8/site-packages/kedro/io/data_catalog.py#382\u001b\\\u001b[2m382\u001b[0m\u001b]8;;\u001b\\\n"
      ]
     },
     "metadata": {},
     "output_type": "display_data"
    },
    {
     "name": "stderr",
     "output_type": "stream",
     "text": [
      "                                                                                \r"
     ]
    }
   ],
   "source": [
    "catalog.save(\"featured_aras_A_2@spark\", dataset)"
   ]
  },
  {
   "cell_type": "code",
   "execution_count": 14,
   "id": "40022ef8",
   "metadata": {},
   "outputs": [
    {
     "data": {
      "text/html": [
       "<pre style=\"white-space:pre;overflow-x:auto;line-height:normal;font-family:Menlo,'DejaVu Sans Mono',consolas,'Courier New',monospace\"><span style=\"color: #7fbfbf; text-decoration-color: #7fbfbf\">[05/08/24 16:24:24] </span><span style=\"color: #000080; text-decoration-color: #000080\">INFO    </span> Loading data from <span style=\"color: #008000; text-decoration-color: #008000\">'featured_aras_A_2@pandas'</span> <span style=\"font-weight: bold\">(</span>ParquetDataSet<span style=\"font-weight: bold\">)</span><span style=\"color: #808000; text-decoration-color: #808000\">...</span>   <a href=\"file:///home/smartroom/miniconda3/envs/raftel/lib/python3.8/site-packages/kedro/io/data_catalog.py\" target=\"_blank\"><span style=\"color: #7f7f7f; text-decoration-color: #7f7f7f\">data_catalog.py</span></a><span style=\"color: #7f7f7f; text-decoration-color: #7f7f7f\">:</span><a href=\"file:///home/smartroom/miniconda3/envs/raftel/lib/python3.8/site-packages/kedro/io/data_catalog.py#343\" target=\"_blank\"><span style=\"color: #7f7f7f; text-decoration-color: #7f7f7f\">343</span></a>\n",
       "</pre>\n"
      ],
      "text/plain": [
       "\u001b[2;36m[05/08/24 16:24:24]\u001b[0m\u001b[2;36m \u001b[0m\u001b[34mINFO    \u001b[0m Loading data from \u001b[32m'featured_aras_A_2@pandas'\u001b[0m \u001b[1m(\u001b[0mParquetDataSet\u001b[1m)\u001b[0m\u001b[33m...\u001b[0m   \u001b]8;id=102951;file:///home/smartroom/miniconda3/envs/raftel/lib/python3.8/site-packages/kedro/io/data_catalog.py\u001b\\\u001b[2mdata_catalog.py\u001b[0m\u001b]8;;\u001b\\\u001b[2m:\u001b[0m\u001b]8;id=876309;file:///home/smartroom/miniconda3/envs/raftel/lib/python3.8/site-packages/kedro/io/data_catalog.py#343\u001b\\\u001b[2m343\u001b[0m\u001b]8;;\u001b\\\n"
      ]
     },
     "metadata": {},
     "output_type": "display_data"
    }
   ],
   "source": [
    "dataset = catalog.load(\"featured_aras_A_2@pandas\")"
   ]
  },
  {
   "cell_type": "code",
   "execution_count": 15,
   "id": "d25b24a9",
   "metadata": {},
   "outputs": [
    {
     "data": {
      "text/html": [
       "<pre style=\"white-space:pre;overflow-x:auto;line-height:normal;font-family:Menlo,'DejaVu Sans Mono',consolas,'Courier New',monospace\"></pre>\n"
      ],
      "text/plain": []
     },
     "metadata": {},
     "output_type": "display_data"
    },
    {
     "data": {
      "text/html": [
       "<div>\n",
       "<style scoped>\n",
       "    .dataframe tbody tr th:only-of-type {\n",
       "        vertical-align: middle;\n",
       "    }\n",
       "\n",
       "    .dataframe tbody tr th {\n",
       "        vertical-align: top;\n",
       "    }\n",
       "\n",
       "    .dataframe thead th {\n",
       "        text-align: right;\n",
       "    }\n",
       "</style>\n",
       "<table border=\"1\" class=\"dataframe\">\n",
       "  <thead>\n",
       "    <tr style=\"text-align: right;\">\n",
       "      <th></th>\n",
       "      <th>H1</th>\n",
       "      <th>H2</th>\n",
       "      <th>H3</th>\n",
       "      <th>H4</th>\n",
       "      <th>H5</th>\n",
       "      <th>H6</th>\n",
       "      <th>H7</th>\n",
       "      <th>H8</th>\n",
       "      <th>H9</th>\n",
       "      <th>H10</th>\n",
       "      <th>...</th>\n",
       "      <th>Preparing_Lunch</th>\n",
       "      <th>Reading_Book</th>\n",
       "      <th>Shaving</th>\n",
       "      <th>Sleeping</th>\n",
       "      <th>Studying</th>\n",
       "      <th>Talking_on_the_Phone</th>\n",
       "      <th>Toileting</th>\n",
       "      <th>Using_Internet</th>\n",
       "      <th>Washing_Dishes</th>\n",
       "      <th>Watching_TV</th>\n",
       "    </tr>\n",
       "    <tr>\n",
       "      <th>ID</th>\n",
       "      <th></th>\n",
       "      <th></th>\n",
       "      <th></th>\n",
       "      <th></th>\n",
       "      <th></th>\n",
       "      <th></th>\n",
       "      <th></th>\n",
       "      <th></th>\n",
       "      <th></th>\n",
       "      <th></th>\n",
       "      <th></th>\n",
       "      <th></th>\n",
       "      <th></th>\n",
       "      <th></th>\n",
       "      <th></th>\n",
       "      <th></th>\n",
       "      <th></th>\n",
       "      <th></th>\n",
       "      <th></th>\n",
       "      <th></th>\n",
       "      <th></th>\n",
       "    </tr>\n",
       "  </thead>\n",
       "  <tbody>\n",
       "    <tr>\n",
       "      <th>1.0</th>\n",
       "      <td>0</td>\n",
       "      <td>0</td>\n",
       "      <td>0</td>\n",
       "      <td>0</td>\n",
       "      <td>0</td>\n",
       "      <td>0</td>\n",
       "      <td>0</td>\n",
       "      <td>0</td>\n",
       "      <td>0</td>\n",
       "      <td>0</td>\n",
       "      <td>...</td>\n",
       "      <td>0</td>\n",
       "      <td>0</td>\n",
       "      <td>0</td>\n",
       "      <td>0</td>\n",
       "      <td>0</td>\n",
       "      <td>0</td>\n",
       "      <td>0</td>\n",
       "      <td>1</td>\n",
       "      <td>0</td>\n",
       "      <td>1</td>\n",
       "    </tr>\n",
       "    <tr>\n",
       "      <th>2.0</th>\n",
       "      <td>0</td>\n",
       "      <td>0</td>\n",
       "      <td>0</td>\n",
       "      <td>0</td>\n",
       "      <td>0</td>\n",
       "      <td>0</td>\n",
       "      <td>0</td>\n",
       "      <td>0</td>\n",
       "      <td>0</td>\n",
       "      <td>0</td>\n",
       "      <td>...</td>\n",
       "      <td>0</td>\n",
       "      <td>0</td>\n",
       "      <td>0</td>\n",
       "      <td>0</td>\n",
       "      <td>0</td>\n",
       "      <td>0</td>\n",
       "      <td>0</td>\n",
       "      <td>1</td>\n",
       "      <td>0</td>\n",
       "      <td>1</td>\n",
       "    </tr>\n",
       "    <tr>\n",
       "      <th>3.0</th>\n",
       "      <td>0</td>\n",
       "      <td>0</td>\n",
       "      <td>0</td>\n",
       "      <td>0</td>\n",
       "      <td>0</td>\n",
       "      <td>0</td>\n",
       "      <td>0</td>\n",
       "      <td>0</td>\n",
       "      <td>0</td>\n",
       "      <td>0</td>\n",
       "      <td>...</td>\n",
       "      <td>0</td>\n",
       "      <td>0</td>\n",
       "      <td>0</td>\n",
       "      <td>0</td>\n",
       "      <td>0</td>\n",
       "      <td>0</td>\n",
       "      <td>0</td>\n",
       "      <td>1</td>\n",
       "      <td>0</td>\n",
       "      <td>1</td>\n",
       "    </tr>\n",
       "    <tr>\n",
       "      <th>4.0</th>\n",
       "      <td>0</td>\n",
       "      <td>0</td>\n",
       "      <td>0</td>\n",
       "      <td>0</td>\n",
       "      <td>0</td>\n",
       "      <td>0</td>\n",
       "      <td>0</td>\n",
       "      <td>0</td>\n",
       "      <td>0</td>\n",
       "      <td>0</td>\n",
       "      <td>...</td>\n",
       "      <td>0</td>\n",
       "      <td>0</td>\n",
       "      <td>0</td>\n",
       "      <td>0</td>\n",
       "      <td>0</td>\n",
       "      <td>0</td>\n",
       "      <td>0</td>\n",
       "      <td>1</td>\n",
       "      <td>0</td>\n",
       "      <td>1</td>\n",
       "    </tr>\n",
       "    <tr>\n",
       "      <th>5.0</th>\n",
       "      <td>0</td>\n",
       "      <td>0</td>\n",
       "      <td>0</td>\n",
       "      <td>0</td>\n",
       "      <td>0</td>\n",
       "      <td>0</td>\n",
       "      <td>0</td>\n",
       "      <td>0</td>\n",
       "      <td>0</td>\n",
       "      <td>0</td>\n",
       "      <td>...</td>\n",
       "      <td>0</td>\n",
       "      <td>0</td>\n",
       "      <td>0</td>\n",
       "      <td>0</td>\n",
       "      <td>0</td>\n",
       "      <td>0</td>\n",
       "      <td>0</td>\n",
       "      <td>1</td>\n",
       "      <td>0</td>\n",
       "      <td>1</td>\n",
       "    </tr>\n",
       "    <tr>\n",
       "      <th>...</th>\n",
       "      <td>...</td>\n",
       "      <td>...</td>\n",
       "      <td>...</td>\n",
       "      <td>...</td>\n",
       "      <td>...</td>\n",
       "      <td>...</td>\n",
       "      <td>...</td>\n",
       "      <td>...</td>\n",
       "      <td>...</td>\n",
       "      <td>...</td>\n",
       "      <td>...</td>\n",
       "      <td>...</td>\n",
       "      <td>...</td>\n",
       "      <td>...</td>\n",
       "      <td>...</td>\n",
       "      <td>...</td>\n",
       "      <td>...</td>\n",
       "      <td>...</td>\n",
       "      <td>...</td>\n",
       "      <td>...</td>\n",
       "      <td>...</td>\n",
       "    </tr>\n",
       "    <tr>\n",
       "      <th>2591996.0</th>\n",
       "      <td>0</td>\n",
       "      <td>0</td>\n",
       "      <td>0</td>\n",
       "      <td>0</td>\n",
       "      <td>0</td>\n",
       "      <td>0</td>\n",
       "      <td>0</td>\n",
       "      <td>0</td>\n",
       "      <td>0</td>\n",
       "      <td>0</td>\n",
       "      <td>...</td>\n",
       "      <td>0</td>\n",
       "      <td>0</td>\n",
       "      <td>0</td>\n",
       "      <td>0</td>\n",
       "      <td>0</td>\n",
       "      <td>0</td>\n",
       "      <td>0</td>\n",
       "      <td>0</td>\n",
       "      <td>0</td>\n",
       "      <td>1</td>\n",
       "    </tr>\n",
       "    <tr>\n",
       "      <th>2591997.0</th>\n",
       "      <td>0</td>\n",
       "      <td>0</td>\n",
       "      <td>0</td>\n",
       "      <td>0</td>\n",
       "      <td>0</td>\n",
       "      <td>0</td>\n",
       "      <td>0</td>\n",
       "      <td>0</td>\n",
       "      <td>0</td>\n",
       "      <td>0</td>\n",
       "      <td>...</td>\n",
       "      <td>0</td>\n",
       "      <td>0</td>\n",
       "      <td>0</td>\n",
       "      <td>0</td>\n",
       "      <td>0</td>\n",
       "      <td>0</td>\n",
       "      <td>0</td>\n",
       "      <td>0</td>\n",
       "      <td>0</td>\n",
       "      <td>1</td>\n",
       "    </tr>\n",
       "    <tr>\n",
       "      <th>2591998.0</th>\n",
       "      <td>0</td>\n",
       "      <td>0</td>\n",
       "      <td>0</td>\n",
       "      <td>0</td>\n",
       "      <td>0</td>\n",
       "      <td>0</td>\n",
       "      <td>0</td>\n",
       "      <td>0</td>\n",
       "      <td>0</td>\n",
       "      <td>0</td>\n",
       "      <td>...</td>\n",
       "      <td>0</td>\n",
       "      <td>0</td>\n",
       "      <td>0</td>\n",
       "      <td>0</td>\n",
       "      <td>0</td>\n",
       "      <td>0</td>\n",
       "      <td>0</td>\n",
       "      <td>0</td>\n",
       "      <td>0</td>\n",
       "      <td>1</td>\n",
       "    </tr>\n",
       "    <tr>\n",
       "      <th>2591999.0</th>\n",
       "      <td>0</td>\n",
       "      <td>0</td>\n",
       "      <td>0</td>\n",
       "      <td>0</td>\n",
       "      <td>0</td>\n",
       "      <td>0</td>\n",
       "      <td>0</td>\n",
       "      <td>0</td>\n",
       "      <td>0</td>\n",
       "      <td>0</td>\n",
       "      <td>...</td>\n",
       "      <td>0</td>\n",
       "      <td>0</td>\n",
       "      <td>0</td>\n",
       "      <td>0</td>\n",
       "      <td>0</td>\n",
       "      <td>0</td>\n",
       "      <td>0</td>\n",
       "      <td>0</td>\n",
       "      <td>0</td>\n",
       "      <td>1</td>\n",
       "    </tr>\n",
       "    <tr>\n",
       "      <th>2592000.0</th>\n",
       "      <td>0</td>\n",
       "      <td>0</td>\n",
       "      <td>0</td>\n",
       "      <td>0</td>\n",
       "      <td>0</td>\n",
       "      <td>0</td>\n",
       "      <td>0</td>\n",
       "      <td>0</td>\n",
       "      <td>0</td>\n",
       "      <td>0</td>\n",
       "      <td>...</td>\n",
       "      <td>0</td>\n",
       "      <td>0</td>\n",
       "      <td>0</td>\n",
       "      <td>0</td>\n",
       "      <td>0</td>\n",
       "      <td>0</td>\n",
       "      <td>0</td>\n",
       "      <td>0</td>\n",
       "      <td>0</td>\n",
       "      <td>1</td>\n",
       "    </tr>\n",
       "  </tbody>\n",
       "</table>\n",
       "<p>2592000 rows × 70 columns</p>\n",
       "</div>"
      ],
      "text/plain": [
       "\n",
       "           H1  H2  H3  H4  H5  H6  H7  H8  H9  H10  \u001b[33m...\u001b[0m  Preparing_Lunch  \\\n",
       "ID                                                  \u001b[33m...\u001b[0m                    \n",
       "\u001b[1;36m1.0\u001b[0m         \u001b[1;36m0\u001b[0m   \u001b[1;36m0\u001b[0m   \u001b[1;36m0\u001b[0m   \u001b[1;36m0\u001b[0m   \u001b[1;36m0\u001b[0m   \u001b[1;36m0\u001b[0m   \u001b[1;36m0\u001b[0m   \u001b[1;36m0\u001b[0m   \u001b[1;36m0\u001b[0m    \u001b[1;36m0\u001b[0m  \u001b[33m...\u001b[0m                \u001b[1;36m0\u001b[0m   \n",
       "\u001b[1;36m2.0\u001b[0m         \u001b[1;36m0\u001b[0m   \u001b[1;36m0\u001b[0m   \u001b[1;36m0\u001b[0m   \u001b[1;36m0\u001b[0m   \u001b[1;36m0\u001b[0m   \u001b[1;36m0\u001b[0m   \u001b[1;36m0\u001b[0m   \u001b[1;36m0\u001b[0m   \u001b[1;36m0\u001b[0m    \u001b[1;36m0\u001b[0m  \u001b[33m...\u001b[0m                \u001b[1;36m0\u001b[0m   \n",
       "\u001b[1;36m3.0\u001b[0m         \u001b[1;36m0\u001b[0m   \u001b[1;36m0\u001b[0m   \u001b[1;36m0\u001b[0m   \u001b[1;36m0\u001b[0m   \u001b[1;36m0\u001b[0m   \u001b[1;36m0\u001b[0m   \u001b[1;36m0\u001b[0m   \u001b[1;36m0\u001b[0m   \u001b[1;36m0\u001b[0m    \u001b[1;36m0\u001b[0m  \u001b[33m...\u001b[0m                \u001b[1;36m0\u001b[0m   \n",
       "\u001b[1;36m4.0\u001b[0m         \u001b[1;36m0\u001b[0m   \u001b[1;36m0\u001b[0m   \u001b[1;36m0\u001b[0m   \u001b[1;36m0\u001b[0m   \u001b[1;36m0\u001b[0m   \u001b[1;36m0\u001b[0m   \u001b[1;36m0\u001b[0m   \u001b[1;36m0\u001b[0m   \u001b[1;36m0\u001b[0m    \u001b[1;36m0\u001b[0m  \u001b[33m...\u001b[0m                \u001b[1;36m0\u001b[0m   \n",
       "\u001b[1;36m5.0\u001b[0m         \u001b[1;36m0\u001b[0m   \u001b[1;36m0\u001b[0m   \u001b[1;36m0\u001b[0m   \u001b[1;36m0\u001b[0m   \u001b[1;36m0\u001b[0m   \u001b[1;36m0\u001b[0m   \u001b[1;36m0\u001b[0m   \u001b[1;36m0\u001b[0m   \u001b[1;36m0\u001b[0m    \u001b[1;36m0\u001b[0m  \u001b[33m...\u001b[0m                \u001b[1;36m0\u001b[0m   \n",
       "\u001b[33m...\u001b[0m        ..  ..  ..  ..  ..  ..  ..  ..  ..  \u001b[33m...\u001b[0m  \u001b[33m...\u001b[0m              \u001b[33m...\u001b[0m   \n",
       "\u001b[1;36m2591996.0\u001b[0m   \u001b[1;36m0\u001b[0m   \u001b[1;36m0\u001b[0m   \u001b[1;36m0\u001b[0m   \u001b[1;36m0\u001b[0m   \u001b[1;36m0\u001b[0m   \u001b[1;36m0\u001b[0m   \u001b[1;36m0\u001b[0m   \u001b[1;36m0\u001b[0m   \u001b[1;36m0\u001b[0m    \u001b[1;36m0\u001b[0m  \u001b[33m...\u001b[0m                \u001b[1;36m0\u001b[0m   \n",
       "\u001b[1;36m2591997.0\u001b[0m   \u001b[1;36m0\u001b[0m   \u001b[1;36m0\u001b[0m   \u001b[1;36m0\u001b[0m   \u001b[1;36m0\u001b[0m   \u001b[1;36m0\u001b[0m   \u001b[1;36m0\u001b[0m   \u001b[1;36m0\u001b[0m   \u001b[1;36m0\u001b[0m   \u001b[1;36m0\u001b[0m    \u001b[1;36m0\u001b[0m  \u001b[33m...\u001b[0m                \u001b[1;36m0\u001b[0m   \n",
       "\u001b[1;36m2591998.0\u001b[0m   \u001b[1;36m0\u001b[0m   \u001b[1;36m0\u001b[0m   \u001b[1;36m0\u001b[0m   \u001b[1;36m0\u001b[0m   \u001b[1;36m0\u001b[0m   \u001b[1;36m0\u001b[0m   \u001b[1;36m0\u001b[0m   \u001b[1;36m0\u001b[0m   \u001b[1;36m0\u001b[0m    \u001b[1;36m0\u001b[0m  \u001b[33m...\u001b[0m                \u001b[1;36m0\u001b[0m   \n",
       "\u001b[1;36m2591999.0\u001b[0m   \u001b[1;36m0\u001b[0m   \u001b[1;36m0\u001b[0m   \u001b[1;36m0\u001b[0m   \u001b[1;36m0\u001b[0m   \u001b[1;36m0\u001b[0m   \u001b[1;36m0\u001b[0m   \u001b[1;36m0\u001b[0m   \u001b[1;36m0\u001b[0m   \u001b[1;36m0\u001b[0m    \u001b[1;36m0\u001b[0m  \u001b[33m...\u001b[0m                \u001b[1;36m0\u001b[0m   \n",
       "\u001b[1;36m2592000.0\u001b[0m   \u001b[1;36m0\u001b[0m   \u001b[1;36m0\u001b[0m   \u001b[1;36m0\u001b[0m   \u001b[1;36m0\u001b[0m   \u001b[1;36m0\u001b[0m   \u001b[1;36m0\u001b[0m   \u001b[1;36m0\u001b[0m   \u001b[1;36m0\u001b[0m   \u001b[1;36m0\u001b[0m    \u001b[1;36m0\u001b[0m  \u001b[33m...\u001b[0m                \u001b[1;36m0\u001b[0m   \n",
       "\n",
       "           Reading_Book  Shaving  Sleeping  Studying  Talking_on_the_Phone  \\\n",
       "ID                                                                           \n",
       "\u001b[1;36m1.0\u001b[0m                   \u001b[1;36m0\u001b[0m        \u001b[1;36m0\u001b[0m         \u001b[1;36m0\u001b[0m         \u001b[1;36m0\u001b[0m                     \u001b[1;36m0\u001b[0m   \n",
       "\u001b[1;36m2.0\u001b[0m                   \u001b[1;36m0\u001b[0m        \u001b[1;36m0\u001b[0m         \u001b[1;36m0\u001b[0m         \u001b[1;36m0\u001b[0m                     \u001b[1;36m0\u001b[0m   \n",
       "\u001b[1;36m3.0\u001b[0m                   \u001b[1;36m0\u001b[0m        \u001b[1;36m0\u001b[0m         \u001b[1;36m0\u001b[0m         \u001b[1;36m0\u001b[0m                     \u001b[1;36m0\u001b[0m   \n",
       "\u001b[1;36m4.0\u001b[0m                   \u001b[1;36m0\u001b[0m        \u001b[1;36m0\u001b[0m         \u001b[1;36m0\u001b[0m         \u001b[1;36m0\u001b[0m                     \u001b[1;36m0\u001b[0m   \n",
       "\u001b[1;36m5.0\u001b[0m                   \u001b[1;36m0\u001b[0m        \u001b[1;36m0\u001b[0m         \u001b[1;36m0\u001b[0m         \u001b[1;36m0\u001b[0m                     \u001b[1;36m0\u001b[0m   \n",
       "\u001b[33m...\u001b[0m                 \u001b[33m...\u001b[0m      \u001b[33m...\u001b[0m       \u001b[33m...\u001b[0m       \u001b[33m...\u001b[0m                   \u001b[33m...\u001b[0m   \n",
       "\u001b[1;36m2591996.0\u001b[0m             \u001b[1;36m0\u001b[0m        \u001b[1;36m0\u001b[0m         \u001b[1;36m0\u001b[0m         \u001b[1;36m0\u001b[0m                     \u001b[1;36m0\u001b[0m   \n",
       "\u001b[1;36m2591997.0\u001b[0m             \u001b[1;36m0\u001b[0m        \u001b[1;36m0\u001b[0m         \u001b[1;36m0\u001b[0m         \u001b[1;36m0\u001b[0m                     \u001b[1;36m0\u001b[0m   \n",
       "\u001b[1;36m2591998.0\u001b[0m             \u001b[1;36m0\u001b[0m        \u001b[1;36m0\u001b[0m         \u001b[1;36m0\u001b[0m         \u001b[1;36m0\u001b[0m                     \u001b[1;36m0\u001b[0m   \n",
       "\u001b[1;36m2591999.0\u001b[0m             \u001b[1;36m0\u001b[0m        \u001b[1;36m0\u001b[0m         \u001b[1;36m0\u001b[0m         \u001b[1;36m0\u001b[0m                     \u001b[1;36m0\u001b[0m   \n",
       "\u001b[1;36m2592000.0\u001b[0m             \u001b[1;36m0\u001b[0m        \u001b[1;36m0\u001b[0m         \u001b[1;36m0\u001b[0m         \u001b[1;36m0\u001b[0m                     \u001b[1;36m0\u001b[0m   \n",
       "\n",
       "           Toileting  Using_Internet  Washing_Dishes  Watching_TV  \n",
       "ID                                                                 \n",
       "\u001b[1;36m1.0\u001b[0m                \u001b[1;36m0\u001b[0m               \u001b[1;36m1\u001b[0m               \u001b[1;36m0\u001b[0m            \u001b[1;36m1\u001b[0m  \n",
       "\u001b[1;36m2.0\u001b[0m                \u001b[1;36m0\u001b[0m               \u001b[1;36m1\u001b[0m               \u001b[1;36m0\u001b[0m            \u001b[1;36m1\u001b[0m  \n",
       "\u001b[1;36m3.0\u001b[0m                \u001b[1;36m0\u001b[0m               \u001b[1;36m1\u001b[0m               \u001b[1;36m0\u001b[0m            \u001b[1;36m1\u001b[0m  \n",
       "\u001b[1;36m4.0\u001b[0m                \u001b[1;36m0\u001b[0m               \u001b[1;36m1\u001b[0m               \u001b[1;36m0\u001b[0m            \u001b[1;36m1\u001b[0m  \n",
       "\u001b[1;36m5.0\u001b[0m                \u001b[1;36m0\u001b[0m               \u001b[1;36m1\u001b[0m               \u001b[1;36m0\u001b[0m            \u001b[1;36m1\u001b[0m  \n",
       "\u001b[33m...\u001b[0m              \u001b[33m...\u001b[0m             \u001b[33m...\u001b[0m             \u001b[33m...\u001b[0m          \u001b[33m...\u001b[0m  \n",
       "\u001b[1;36m2591996.0\u001b[0m          \u001b[1;36m0\u001b[0m               \u001b[1;36m0\u001b[0m               \u001b[1;36m0\u001b[0m            \u001b[1;36m1\u001b[0m  \n",
       "\u001b[1;36m2591997.0\u001b[0m          \u001b[1;36m0\u001b[0m               \u001b[1;36m0\u001b[0m               \u001b[1;36m0\u001b[0m            \u001b[1;36m1\u001b[0m  \n",
       "\u001b[1;36m2591998.0\u001b[0m          \u001b[1;36m0\u001b[0m               \u001b[1;36m0\u001b[0m               \u001b[1;36m0\u001b[0m            \u001b[1;36m1\u001b[0m  \n",
       "\u001b[1;36m2591999.0\u001b[0m          \u001b[1;36m0\u001b[0m               \u001b[1;36m0\u001b[0m               \u001b[1;36m0\u001b[0m            \u001b[1;36m1\u001b[0m  \n",
       "\u001b[1;36m2592000.0\u001b[0m          \u001b[1;36m0\u001b[0m               \u001b[1;36m0\u001b[0m               \u001b[1;36m0\u001b[0m            \u001b[1;36m1\u001b[0m  \n",
       "\n",
       "\u001b[1m[\u001b[0m\u001b[1;36m2592000\u001b[0m rows x \u001b[1;36m70\u001b[0m columns\u001b[1m]\u001b[0m"
      ]
     },
     "execution_count": 15,
     "metadata": {},
     "output_type": "execute_result"
    }
   ],
   "source": [
    "dataset = dataset.sort_values(by=['ID']).set_index('ID')\n",
    "dataset"
   ]
  },
  {
   "cell_type": "code",
   "execution_count": 16,
   "id": "adee163d",
   "metadata": {},
   "outputs": [
    {
     "data": {
      "text/html": [
       "<pre style=\"white-space:pre;overflow-x:auto;line-height:normal;font-family:Menlo,'DejaVu Sans Mono',consolas,'Courier New',monospace\"></pre>\n"
      ],
      "text/plain": []
     },
     "metadata": {},
     "output_type": "display_data"
    },
    {
     "data": {
      "text/plain": [
       "\n",
       "\u001b[1;35mIndex\u001b[0m\u001b[1m(\u001b[0m\u001b[1m[\u001b[0m\u001b[32m'H1'\u001b[0m, \u001b[32m'H2'\u001b[0m, \u001b[32m'H3'\u001b[0m, \u001b[32m'H4'\u001b[0m, \u001b[32m'H5'\u001b[0m, \u001b[32m'H6'\u001b[0m, \u001b[32m'H7'\u001b[0m, \u001b[32m'H8'\u001b[0m, \u001b[32m'H9'\u001b[0m, \u001b[32m'H10'\u001b[0m, \u001b[32m'H11'\u001b[0m,\n",
       "       \u001b[32m'H12'\u001b[0m, \u001b[32m'H13'\u001b[0m, \u001b[32m'H14'\u001b[0m, \u001b[32m'H15'\u001b[0m, \u001b[32m'H16'\u001b[0m, \u001b[32m'H17'\u001b[0m, \u001b[32m'H18'\u001b[0m, \u001b[32m'H19'\u001b[0m, \u001b[32m'H20'\u001b[0m, \u001b[32m'H21'\u001b[0m,\n",
       "       \u001b[32m'H22'\u001b[0m, \u001b[32m'H23'\u001b[0m, \u001b[32m'Ph1'\u001b[0m, \u001b[32m'Ph2'\u001b[0m, \u001b[32m'Ir1'\u001b[0m, \u001b[32m'Fo1'\u001b[0m, \u001b[32m'Fo2'\u001b[0m, \u001b[32m'Di3'\u001b[0m, \u001b[32m'Di4'\u001b[0m, \u001b[32m'Ph3'\u001b[0m,\n",
       "       \u001b[32m'Ph4'\u001b[0m, \u001b[32m'Ph5'\u001b[0m, \u001b[32m'Ph6'\u001b[0m, \u001b[32m'Co1'\u001b[0m, \u001b[32m'Co2'\u001b[0m, \u001b[32m'Co3'\u001b[0m, \u001b[32m'So1'\u001b[0m, \u001b[32m'So2'\u001b[0m, \u001b[32m'Di1'\u001b[0m, \u001b[32m'Di2'\u001b[0m,\n",
       "       \u001b[32m'Te1'\u001b[0m, \u001b[32m'Fo3'\u001b[0m, \u001b[32m'Brushing_Teeth'\u001b[0m, \u001b[32m'Changing_Clothes'\u001b[0m, \u001b[32m'Cleaning'\u001b[0m,\n",
       "       \u001b[32m'Going_Out'\u001b[0m, \u001b[32m'Having_Breakfast'\u001b[0m, \u001b[32m'Having_Conversation'\u001b[0m, \u001b[32m'Having_Dinner'\u001b[0m,\n",
       "       \u001b[32m'Having_Guest'\u001b[0m, \u001b[32m'Having_Lunch'\u001b[0m, \u001b[32m'Having_Shower'\u001b[0m, \u001b[32m'Having_Snack'\u001b[0m,\n",
       "       \u001b[32m'Laundry'\u001b[0m, \u001b[32m'Listening_to_Music'\u001b[0m, \u001b[32m'Napping'\u001b[0m, \u001b[32m'Other'\u001b[0m,\n",
       "       \u001b[32m'Preparing_Breakfast'\u001b[0m, \u001b[32m'Preparing_Dinner'\u001b[0m, \u001b[32m'Preparing_Lunch'\u001b[0m,\n",
       "       \u001b[32m'Reading_Book'\u001b[0m, \u001b[32m'Shaving'\u001b[0m, \u001b[32m'Sleeping'\u001b[0m, \u001b[32m'Studying'\u001b[0m,\n",
       "       \u001b[32m'Talking_on_the_Phone'\u001b[0m, \u001b[32m'Toileting'\u001b[0m, \u001b[32m'Using_Internet'\u001b[0m, \u001b[32m'Washing_Dishes'\u001b[0m,\n",
       "       \u001b[32m'Watching_TV'\u001b[0m\u001b[1m]\u001b[0m,\n",
       "      \u001b[33mdtype\u001b[0m=\u001b[32m'object'\u001b[0m\u001b[1m)\u001b[0m"
      ]
     },
     "execution_count": 16,
     "metadata": {},
     "output_type": "execute_result"
    }
   ],
   "source": [
    "dataset.columns"
   ]
  },
  {
   "cell_type": "code",
   "execution_count": 17,
   "id": "0e14d7be",
   "metadata": {},
   "outputs": [],
   "source": [
    "X = dataset[\n",
    "    [\n",
    "        'H1',\n",
    "        'H2',\n",
    "        'H3',\n",
    "        'H4',\n",
    "        'H5',\n",
    "        'H6',\n",
    "        'H7',\n",
    "        'H8',\n",
    "        'H9',\n",
    "        'H10',\n",
    "        'H11',\n",
    "        'H12',\n",
    "        'H13',\n",
    "        'H14',\n",
    "        'H15',\n",
    "        'H16',\n",
    "        'H17',\n",
    "        'H18',\n",
    "        'H19',\n",
    "        'H20',\n",
    "        'H21',\n",
    "        'H22',\n",
    "        'H23',\n",
    "        'Ph1',\n",
    "        'Ph2',\n",
    "        'Ir1',\n",
    "        'Fo1',\n",
    "        'Fo2',\n",
    "        'Di3',\n",
    "        'Di4',\n",
    "        'Ph3',\n",
    "        'Ph4',\n",
    "        'Ph5',\n",
    "        'Ph6',\n",
    "        'Co1',\n",
    "        'Co2',\n",
    "        'Co3',\n",
    "        'So1',\n",
    "        'So2',\n",
    "        'Di1',\n",
    "        'Di2',\n",
    "        'Te1',\n",
    "        'Fo3',\n",
    "    ]\n",
    "]\n",
    "\n",
    "y = dataset[\n",
    "    [\n",
    "        'Brushing_Teeth',\n",
    "        'Changing_Clothes',\n",
    "        'Cleaning',\n",
    "        'Going_Out',\n",
    "        'Having_Breakfast',\n",
    "        'Having_Conversation',\n",
    "        'Having_Dinner',\n",
    "        'Having_Guest',\n",
    "        'Having_Lunch',\n",
    "        'Having_Shower',\n",
    "        'Having_Snack',\n",
    "        'Laundry',\n",
    "        'Listening_to_Music',\n",
    "        'Napping',\n",
    "        'Other',\n",
    "        'Preparing_Breakfast',\n",
    "        'Preparing_Dinner',\n",
    "        'Preparing_Lunch',\n",
    "        'Reading_Book',\n",
    "        'Shaving',\n",
    "        'Sleeping',\n",
    "        'Studying',\n",
    "        'Talking_on_the_Phone',\n",
    "        'Toileting',\n",
    "        'Using_Internet',\n",
    "        'Washing_Dishes',\n",
    "        'Watching_TV'\n",
    "    ]\n",
    "]"
   ]
  },
  {
   "cell_type": "code",
   "execution_count": 18,
   "id": "e0beca37",
   "metadata": {},
   "outputs": [
    {
     "data": {
      "text/html": [
       "<pre style=\"white-space:pre;overflow-x:auto;line-height:normal;font-family:Menlo,'DejaVu Sans Mono',consolas,'Courier New',monospace\"></pre>\n"
      ],
      "text/plain": []
     },
     "metadata": {},
     "output_type": "display_data"
    },
    {
     "data": {
      "text/plain": [
       "\u001b[1m(\u001b[0m\u001b[1m(\u001b[0m\u001b[1;36m2592000\u001b[0m, \u001b[1;36m43\u001b[0m\u001b[1m)\u001b[0m, \u001b[1m(\u001b[0m\u001b[1;36m2592000\u001b[0m, \u001b[1;36m27\u001b[0m\u001b[1m)\u001b[0m\u001b[1m)\u001b[0m"
      ]
     },
     "execution_count": 18,
     "metadata": {},
     "output_type": "execute_result"
    }
   ],
   "source": [
    "X.shape, y.shape"
   ]
  },
  {
   "cell_type": "code",
   "execution_count": 19,
   "id": "5c817053",
   "metadata": {},
   "outputs": [],
   "source": [
    "window_size = 180\n",
    "overlap = 0.5\n",
    "\n",
    "\n",
    "windowed_X = []\n",
    "windowed_y = []\n",
    "\n",
    "samples_number = math.floor(((X.shape[0] - window_size) / (window_size * overlap)) + 1)\n",
    "\n",
    "for i in range(samples_number):\n",
    "    windowed_X += [X.iloc[int(window_size*i*overlap):int(window_size*(i*overlap + 1))].values]\n",
    "\n",
    "    y_temp = y.iloc[int(window_size*i*overlap):int(window_size*(i*overlap + 1))].values\n",
    "\n",
    "    y_temp_1d_view = np.ascontiguousarray(y_temp).view(np.dtype((np.void, y_temp.dtype.itemsize * y_temp.shape[1])))\n",
    "\n",
    "    unique_rows, counts = np.unique(y_temp_1d_view, return_counts=True)\n",
    "\n",
    "    common_row_bytes = unique_rows[np.argmax(counts)]\n",
    "\n",
    "    common_row_integer = np.frombuffer(common_row_bytes.tobytes(), dtype=y_temp.dtype)\n",
    "\n",
    "    windowed_y += [common_row_integer]\n",
    "\n",
    "\n",
    "windowed_X = np.stack(windowed_X, axis=0)\n",
    "windowed_y = np.stack(windowed_y, axis=0)\n"
   ]
  },
  {
   "cell_type": "code",
   "execution_count": 20,
   "id": "6dc8a3ac",
   "metadata": {},
   "outputs": [
    {
     "data": {
      "text/html": [
       "<pre style=\"white-space:pre;overflow-x:auto;line-height:normal;font-family:Menlo,'DejaVu Sans Mono',consolas,'Courier New',monospace\"></pre>\n"
      ],
      "text/plain": []
     },
     "metadata": {},
     "output_type": "display_data"
    },
    {
     "data": {
      "text/plain": [
       "\u001b[1m(\u001b[0m\u001b[1m(\u001b[0m\u001b[1;36m28799\u001b[0m, \u001b[1;36m180\u001b[0m, \u001b[1;36m43\u001b[0m\u001b[1m)\u001b[0m, \u001b[1m(\u001b[0m\u001b[1;36m28799\u001b[0m, \u001b[1;36m27\u001b[0m\u001b[1m)\u001b[0m\u001b[1m)\u001b[0m"
      ]
     },
     "execution_count": 20,
     "metadata": {},
     "output_type": "execute_result"
    }
   ],
   "source": [
    "windowed_X.shape, windowed_y.shape"
   ]
  },
  {
   "cell_type": "code",
   "execution_count": 21,
   "id": "8c29f695",
   "metadata": {},
   "outputs": [
    {
     "data": {
      "text/html": [
       "<pre style=\"white-space:pre;overflow-x:auto;line-height:normal;font-family:Menlo,'DejaVu Sans Mono',consolas,'Courier New',monospace\"><span style=\"color: #7fbfbf; text-decoration-color: #7fbfbf\">[05/08/24 16:26:15] </span><span style=\"color: #000080; text-decoration-color: #000080\">INFO    </span> Saving data to <span style=\"color: #008000; text-decoration-color: #008000\">'windowed_X_aras_A_2_NAugmentation@pickle'</span>          <a href=\"file:///home/smartroom/miniconda3/envs/raftel/lib/python3.8/site-packages/kedro/io/data_catalog.py\" target=\"_blank\"><span style=\"color: #7f7f7f; text-decoration-color: #7f7f7f\">data_catalog.py</span></a><span style=\"color: #7f7f7f; text-decoration-color: #7f7f7f\">:</span><a href=\"file:///home/smartroom/miniconda3/envs/raftel/lib/python3.8/site-packages/kedro/io/data_catalog.py#382\" target=\"_blank\"><span style=\"color: #7f7f7f; text-decoration-color: #7f7f7f\">382</span></a>\n",
       "<span style=\"color: #7fbfbf; text-decoration-color: #7fbfbf\">                    </span>         <span style=\"font-weight: bold\">(</span>PickleDataSet<span style=\"font-weight: bold\">)</span><span style=\"color: #808000; text-decoration-color: #808000\">...</span>                                                 <span style=\"color: #7f7f7f; text-decoration-color: #7f7f7f\">                   </span>\n",
       "</pre>\n"
      ],
      "text/plain": [
       "\u001b[2;36m[05/08/24 16:26:15]\u001b[0m\u001b[2;36m \u001b[0m\u001b[34mINFO    \u001b[0m Saving data to \u001b[32m'windowed_X_aras_A_2_NAugmentation@pickle'\u001b[0m          \u001b]8;id=631319;file:///home/smartroom/miniconda3/envs/raftel/lib/python3.8/site-packages/kedro/io/data_catalog.py\u001b\\\u001b[2mdata_catalog.py\u001b[0m\u001b]8;;\u001b\\\u001b[2m:\u001b[0m\u001b]8;id=567619;file:///home/smartroom/miniconda3/envs/raftel/lib/python3.8/site-packages/kedro/io/data_catalog.py#382\u001b\\\u001b[2m382\u001b[0m\u001b]8;;\u001b\\\n",
       "\u001b[2;36m                    \u001b[0m         \u001b[1m(\u001b[0mPickleDataSet\u001b[1m)\u001b[0m\u001b[33m...\u001b[0m                                                 \u001b[2m                   \u001b[0m\n"
      ]
     },
     "metadata": {},
     "output_type": "display_data"
    }
   ],
   "source": [
    "catalog.save(\"windowed_X_aras_A_2_NAugmentation@pickle\", windowed_X)"
   ]
  },
  {
   "cell_type": "code",
   "execution_count": 22,
   "id": "7df1bcc5",
   "metadata": {},
   "outputs": [
    {
     "data": {
      "text/html": [
       "<pre style=\"white-space:pre;overflow-x:auto;line-height:normal;font-family:Menlo,'DejaVu Sans Mono',consolas,'Courier New',monospace\"><span style=\"color: #7fbfbf; text-decoration-color: #7fbfbf\">[05/08/24 16:26:16] </span><span style=\"color: #000080; text-decoration-color: #000080\">INFO    </span> Saving data to <span style=\"color: #008000; text-decoration-color: #008000\">'windowed_y_aras_A_2_NAugmentation@pickle'</span>          <a href=\"file:///home/smartroom/miniconda3/envs/raftel/lib/python3.8/site-packages/kedro/io/data_catalog.py\" target=\"_blank\"><span style=\"color: #7f7f7f; text-decoration-color: #7f7f7f\">data_catalog.py</span></a><span style=\"color: #7f7f7f; text-decoration-color: #7f7f7f\">:</span><a href=\"file:///home/smartroom/miniconda3/envs/raftel/lib/python3.8/site-packages/kedro/io/data_catalog.py#382\" target=\"_blank\"><span style=\"color: #7f7f7f; text-decoration-color: #7f7f7f\">382</span></a>\n",
       "<span style=\"color: #7fbfbf; text-decoration-color: #7fbfbf\">                    </span>         <span style=\"font-weight: bold\">(</span>PickleDataSet<span style=\"font-weight: bold\">)</span><span style=\"color: #808000; text-decoration-color: #808000\">...</span>                                                 <span style=\"color: #7f7f7f; text-decoration-color: #7f7f7f\">                   </span>\n",
       "</pre>\n"
      ],
      "text/plain": [
       "\u001b[2;36m[05/08/24 16:26:16]\u001b[0m\u001b[2;36m \u001b[0m\u001b[34mINFO    \u001b[0m Saving data to \u001b[32m'windowed_y_aras_A_2_NAugmentation@pickle'\u001b[0m          \u001b]8;id=1711;file:///home/smartroom/miniconda3/envs/raftel/lib/python3.8/site-packages/kedro/io/data_catalog.py\u001b\\\u001b[2mdata_catalog.py\u001b[0m\u001b]8;;\u001b\\\u001b[2m:\u001b[0m\u001b]8;id=349201;file:///home/smartroom/miniconda3/envs/raftel/lib/python3.8/site-packages/kedro/io/data_catalog.py#382\u001b\\\u001b[2m382\u001b[0m\u001b]8;;\u001b\\\n",
       "\u001b[2;36m                    \u001b[0m         \u001b[1m(\u001b[0mPickleDataSet\u001b[1m)\u001b[0m\u001b[33m...\u001b[0m                                                 \u001b[2m                   \u001b[0m\n"
      ]
     },
     "metadata": {},
     "output_type": "display_data"
    }
   ],
   "source": [
    "catalog.save(\"windowed_y_aras_A_2_NAugmentation@pickle\", windowed_y)"
   ]
  },
  {
   "cell_type": "code",
   "execution_count": null,
   "id": "07b4ff08",
   "metadata": {},
   "outputs": [],
   "source": []
  },
  {
   "cell_type": "code",
   "execution_count": null,
   "id": "4fd2c6bc",
   "metadata": {},
   "outputs": [],
   "source": []
  },
  {
   "cell_type": "markdown",
   "id": "4b8cf12f",
   "metadata": {},
   "source": [
    "#### TESTS"
   ]
  },
  {
   "cell_type": "code",
   "execution_count": 60,
   "id": "e573cd26",
   "metadata": {},
   "outputs": [],
   "source": [
    "dataset = dataset.orderBy(\n",
    "    \"DAY\",\n",
    "    \"SEC\"\n",
    ").withColumn(\n",
    "    \"HOUR\",\n",
    "    F.ceil(F.col(\"SEC\") / 3600) - 1\n",
    ")"
   ]
  },
  {
   "cell_type": "code",
   "execution_count": 65,
   "id": "313b8511",
   "metadata": {},
   "outputs": [],
   "source": [
    "expresiones_columnas_no_numericas = []\n",
    "columna = \"HOUR\"\n",
    "\n",
    "unicos_columna = (\n",
    "    dataset.select(columna)\n",
    "    .distinct()\n",
    "    .rdd.flatMap(lambda x: x)\n",
    "    .collect()\n",
    ")\n",
    "\n",
    "unicos_columna.sort()\n",
    "\n",
    "expr_unicos_columna = [\n",
    "    F.when(\n",
    "        F.col(columna)\n",
    "        == valor_unico,\n",
    "        1,\n",
    "    )\n",
    "    .otherwise(0)\n",
    "    .alias(\n",
    "        \"{columna}{valor}\".format(\n",
    "            columna=\"H\",\n",
    "            valor=int(valor_unico),\n",
    "        )\n",
    "    )\n",
    "    for valor_unico in unicos_columna\n",
    "    if valor_unico != 0 #tiene un efecto parecido que drop_first=True\n",
    "]"
   ]
  },
  {
   "cell_type": "code",
   "execution_count": 66,
   "id": "63f2bb6f",
   "metadata": {},
   "outputs": [
    {
     "name": "stderr",
     "output_type": "stream",
     "text": [
      "[Stage 156:=========>                                             (2 + 10) / 12]\r"
     ]
    },
    {
     "name": "stdout",
     "output_type": "stream",
     "text": [
      "+---+----+---+---+---+---+---+---+---+---+---+---+---+---+---+---+---+---+---+---+---+---+--------------+----------------+--------+---------+----------------+-------------------+-------------+------------+------------+-------------+------------+-------+------------------+-------+-----+-------------------+----------------+---------------+------------+-------+--------+--------+--------------------+---------+--------------+--------------+-----------+----+---+---+---+---+---+---+---+---+---+---+---+---+---+---+---+---+---+---+---+---+---+---+---+\n",
      "|DAY| SEC|Ph1|Ph2|Ir1|Fo1|Fo2|Di3|Di4|Ph3|Ph4|Ph5|Ph6|Co1|Co2|Co3|So1|So2|Di1|Di2|Te1|Fo3|Brushing_Teeth|Changing_Clothes|Cleaning|Going_Out|Having_Breakfast|Having_Conversation|Having_Dinner|Having_Guest|Having_Lunch|Having_Shower|Having_Snack|Laundry|Listening_to_Music|Napping|Other|Preparing_Breakfast|Preparing_Dinner|Preparing_Lunch|Reading_Book|Shaving|Sleeping|Studying|Talking_on_the_Phone|Toileting|Using_Internet|Washing_Dishes|Watching_TV|HOUR| H1| H2| H3| H4| H5| H6| H7| H8| H9|H10|H11|H12|H13|H14|H15|H16|H17|H18|H19|H20|H21|H22|H23|\n",
      "+---+----+---+---+---+---+---+---+---+---+---+---+---+---+---+---+---+---+---+---+---+---+--------------+----------------+--------+---------+----------------+-------------------+-------------+------------+------------+-------------+------------+-------+------------------+-------+-----+-------------------+----------------+---------------+------------+-------+--------+--------+--------------------+---------+--------------+--------------+-----------+----+---+---+---+---+---+---+---+---+---+---+---+---+---+---+---+---+---+---+---+---+---+---+---+\n",
      "|1.0| 1.0|  0|  0|  0|  0|  0|  0|  0|  0|  0|  0|  0|  0|  0|  0|  0|  0|  0|  0|  0|  0|             0|               0|       0|        0|               0|                  0|            0|           0|           0|            0|           0|      0|                 0|      0|    0|                  0|               0|              0|           0|      0|       0|       0|                   0|        0|             1|             0|          1|   0|  0|  0|  0|  0|  0|  0|  0|  0|  0|  0|  0|  0|  0|  0|  0|  0|  0|  0|  0|  0|  0|  0|  0|\n",
      "|1.0| 2.0|  0|  0|  0|  0|  0|  0|  0|  0|  0|  0|  0|  0|  0|  0|  0|  0|  0|  0|  0|  0|             0|               0|       0|        0|               0|                  0|            0|           0|           0|            0|           0|      0|                 0|      0|    0|                  0|               0|              0|           0|      0|       0|       0|                   0|        0|             1|             0|          1|   0|  0|  0|  0|  0|  0|  0|  0|  0|  0|  0|  0|  0|  0|  0|  0|  0|  0|  0|  0|  0|  0|  0|  0|\n",
      "|1.0| 3.0|  0|  0|  0|  0|  0|  0|  0|  0|  0|  0|  0|  0|  0|  0|  0|  0|  0|  0|  0|  0|             0|               0|       0|        0|               0|                  0|            0|           0|           0|            0|           0|      0|                 0|      0|    0|                  0|               0|              0|           0|      0|       0|       0|                   0|        0|             1|             0|          1|   0|  0|  0|  0|  0|  0|  0|  0|  0|  0|  0|  0|  0|  0|  0|  0|  0|  0|  0|  0|  0|  0|  0|  0|\n",
      "|1.0| 4.0|  0|  0|  0|  0|  0|  0|  0|  0|  0|  0|  0|  0|  0|  0|  0|  0|  0|  0|  0|  0|             0|               0|       0|        0|               0|                  0|            0|           0|           0|            0|           0|      0|                 0|      0|    0|                  0|               0|              0|           0|      0|       0|       0|                   0|        0|             1|             0|          1|   0|  0|  0|  0|  0|  0|  0|  0|  0|  0|  0|  0|  0|  0|  0|  0|  0|  0|  0|  0|  0|  0|  0|  0|\n",
      "|1.0| 5.0|  0|  0|  0|  0|  0|  0|  0|  0|  0|  0|  0|  0|  0|  0|  0|  0|  0|  0|  0|  0|             0|               0|       0|        0|               0|                  0|            0|           0|           0|            0|           0|      0|                 0|      0|    0|                  0|               0|              0|           0|      0|       0|       0|                   0|        0|             1|             0|          1|   0|  0|  0|  0|  0|  0|  0|  0|  0|  0|  0|  0|  0|  0|  0|  0|  0|  0|  0|  0|  0|  0|  0|  0|\n",
      "|1.0| 6.0|  0|  0|  0|  0|  0|  0|  0|  0|  0|  0|  0|  0|  0|  0|  0|  0|  0|  0|  0|  0|             0|               0|       0|        0|               0|                  0|            0|           0|           0|            0|           0|      0|                 0|      0|    0|                  0|               0|              0|           0|      0|       0|       0|                   0|        0|             1|             0|          1|   0|  0|  0|  0|  0|  0|  0|  0|  0|  0|  0|  0|  0|  0|  0|  0|  0|  0|  0|  0|  0|  0|  0|  0|\n",
      "|1.0| 7.0|  0|  0|  0|  0|  0|  0|  0|  0|  0|  0|  0|  0|  0|  0|  0|  0|  0|  0|  0|  0|             0|               0|       0|        0|               0|                  0|            0|           0|           0|            0|           0|      0|                 0|      0|    0|                  0|               0|              0|           0|      0|       0|       0|                   0|        0|             1|             0|          1|   0|  0|  0|  0|  0|  0|  0|  0|  0|  0|  0|  0|  0|  0|  0|  0|  0|  0|  0|  0|  0|  0|  0|  0|\n",
      "|1.0| 8.0|  0|  0|  0|  0|  0|  0|  0|  0|  0|  0|  0|  0|  0|  0|  0|  0|  0|  0|  0|  0|             0|               0|       0|        0|               0|                  0|            0|           0|           0|            0|           0|      0|                 0|      0|    0|                  0|               0|              0|           0|      0|       0|       0|                   0|        0|             1|             0|          1|   0|  0|  0|  0|  0|  0|  0|  0|  0|  0|  0|  0|  0|  0|  0|  0|  0|  0|  0|  0|  0|  0|  0|  0|\n",
      "|1.0| 9.0|  0|  0|  0|  0|  0|  0|  0|  0|  0|  0|  0|  0|  0|  0|  0|  0|  0|  0|  0|  0|             0|               0|       0|        0|               0|                  0|            0|           0|           0|            0|           0|      0|                 0|      0|    0|                  0|               0|              0|           0|      0|       0|       0|                   0|        0|             1|             0|          1|   0|  0|  0|  0|  0|  0|  0|  0|  0|  0|  0|  0|  0|  0|  0|  0|  0|  0|  0|  0|  0|  0|  0|  0|\n",
      "|1.0|10.0|  0|  0|  0|  0|  0|  0|  0|  0|  0|  0|  0|  0|  0|  0|  0|  0|  0|  0|  0|  0|             0|               0|       0|        0|               0|                  0|            0|           0|           0|            0|           0|      0|                 0|      0|    0|                  0|               0|              0|           0|      0|       0|       0|                   0|        0|             1|             0|          1|   0|  0|  0|  0|  0|  0|  0|  0|  0|  0|  0|  0|  0|  0|  0|  0|  0|  0|  0|  0|  0|  0|  0|  0|\n",
      "|1.0|11.0|  0|  0|  0|  0|  0|  0|  0|  0|  0|  0|  0|  0|  0|  0|  1|  0|  0|  0|  0|  0|             0|               0|       0|        0|               0|                  0|            0|           0|           0|            0|           0|      0|                 0|      0|    0|                  0|               0|              0|           0|      0|       0|       0|                   0|        0|             1|             0|          1|   0|  0|  0|  0|  0|  0|  0|  0|  0|  0|  0|  0|  0|  0|  0|  0|  0|  0|  0|  0|  0|  0|  0|  0|\n",
      "|1.0|12.0|  0|  0|  0|  0|  0|  0|  0|  0|  0|  0|  0|  0|  0|  0|  0|  0|  0|  0|  0|  0|             0|               0|       0|        0|               0|                  0|            0|           0|           0|            0|           0|      0|                 0|      0|    0|                  0|               0|              0|           0|      0|       0|       0|                   0|        0|             1|             0|          1|   0|  0|  0|  0|  0|  0|  0|  0|  0|  0|  0|  0|  0|  0|  0|  0|  0|  0|  0|  0|  0|  0|  0|  0|\n",
      "|1.0|13.0|  0|  0|  0|  0|  0|  0|  0|  0|  0|  0|  0|  0|  0|  0|  0|  0|  0|  0|  0|  0|             0|               0|       0|        0|               0|                  0|            0|           0|           0|            0|           0|      0|                 0|      0|    0|                  0|               0|              0|           0|      0|       0|       0|                   0|        0|             1|             0|          1|   0|  0|  0|  0|  0|  0|  0|  0|  0|  0|  0|  0|  0|  0|  0|  0|  0|  0|  0|  0|  0|  0|  0|  0|\n",
      "|1.0|14.0|  0|  0|  0|  0|  0|  0|  0|  0|  0|  0|  0|  0|  0|  0|  0|  0|  0|  0|  0|  0|             0|               0|       0|        0|               0|                  0|            0|           0|           0|            0|           0|      0|                 0|      0|    0|                  0|               0|              0|           0|      0|       0|       0|                   0|        0|             1|             0|          1|   0|  0|  0|  0|  0|  0|  0|  0|  0|  0|  0|  0|  0|  0|  0|  0|  0|  0|  0|  0|  0|  0|  0|  0|\n",
      "|1.0|15.0|  0|  0|  0|  0|  0|  0|  0|  0|  0|  0|  0|  0|  0|  0|  0|  0|  0|  0|  0|  0|             0|               0|       0|        0|               0|                  0|            0|           0|           0|            0|           0|      0|                 0|      0|    0|                  0|               0|              0|           0|      0|       0|       0|                   0|        0|             1|             0|          1|   0|  0|  0|  0|  0|  0|  0|  0|  0|  0|  0|  0|  0|  0|  0|  0|  0|  0|  0|  0|  0|  0|  0|  0|\n",
      "|1.0|16.0|  0|  0|  0|  0|  0|  0|  0|  0|  0|  0|  0|  0|  0|  0|  0|  0|  0|  0|  0|  0|             0|               0|       0|        0|               0|                  0|            0|           0|           0|            0|           0|      0|                 0|      0|    0|                  0|               0|              0|           0|      0|       0|       0|                   0|        0|             1|             0|          1|   0|  0|  0|  0|  0|  0|  0|  0|  0|  0|  0|  0|  0|  0|  0|  0|  0|  0|  0|  0|  0|  0|  0|  0|\n",
      "|1.0|17.0|  0|  0|  0|  0|  0|  0|  0|  0|  0|  0|  0|  0|  0|  0|  0|  0|  0|  0|  0|  0|             0|               0|       0|        0|               0|                  0|            0|           0|           0|            0|           0|      0|                 0|      0|    0|                  0|               0|              0|           0|      0|       0|       0|                   0|        0|             1|             0|          1|   0|  0|  0|  0|  0|  0|  0|  0|  0|  0|  0|  0|  0|  0|  0|  0|  0|  0|  0|  0|  0|  0|  0|  0|\n",
      "|1.0|18.0|  0|  0|  0|  0|  0|  0|  0|  0|  0|  0|  0|  0|  0|  0|  0|  0|  0|  0|  0|  0|             0|               0|       0|        0|               0|                  0|            0|           0|           0|            0|           0|      0|                 0|      0|    0|                  0|               0|              0|           0|      0|       0|       0|                   0|        0|             1|             0|          1|   0|  0|  0|  0|  0|  0|  0|  0|  0|  0|  0|  0|  0|  0|  0|  0|  0|  0|  0|  0|  0|  0|  0|  0|\n",
      "|1.0|19.0|  0|  0|  0|  0|  0|  0|  0|  0|  0|  0|  0|  0|  0|  0|  0|  0|  0|  0|  0|  0|             0|               0|       0|        0|               0|                  0|            0|           0|           0|            0|           0|      0|                 0|      0|    0|                  0|               0|              0|           0|      0|       0|       0|                   0|        0|             1|             0|          1|   0|  0|  0|  0|  0|  0|  0|  0|  0|  0|  0|  0|  0|  0|  0|  0|  0|  0|  0|  0|  0|  0|  0|  0|\n",
      "|1.0|20.0|  0|  0|  0|  0|  0|  0|  0|  0|  0|  0|  0|  0|  0|  0|  0|  0|  0|  0|  0|  0|             0|               0|       0|        0|               0|                  0|            0|           0|           0|            0|           0|      0|                 0|      0|    0|                  0|               0|              0|           0|      0|       0|       0|                   0|        0|             1|             0|          1|   0|  0|  0|  0|  0|  0|  0|  0|  0|  0|  0|  0|  0|  0|  0|  0|  0|  0|  0|  0|  0|  0|  0|  0|\n",
      "+---+----+---+---+---+---+---+---+---+---+---+---+---+---+---+---+---+---+---+---+---+---+--------------+----------------+--------+---------+----------------+-------------------+-------------+------------+------------+-------------+------------+-------+------------------+-------+-----+-------------------+----------------+---------------+------------+-------+--------+--------+--------------------+---------+--------------+--------------+-----------+----+---+---+---+---+---+---+---+---+---+---+---+---+---+---+---+---+---+---+---+---+---+---+---+\n",
      "only showing top 20 rows\n",
      "\n"
     ]
    },
    {
     "name": "stderr",
     "output_type": "stream",
     "text": [
      "                                                                                \r"
     ]
    }
   ],
   "source": [
    "dataset.select(\"*\", *expr_unicos_columna).show()"
   ]
  },
  {
   "cell_type": "code",
   "execution_count": 43,
   "id": "91e3defe",
   "metadata": {},
   "outputs": [
    {
     "name": "stderr",
     "output_type": "stream",
     "text": [
      "2024-03-06 14:31:32.585425: I tensorflow/tsl/cuda/cudart_stub.cc:28] Could not find cuda drivers on your machine, GPU will not be used.\n",
      "2024-03-06 14:31:32.929756: I tensorflow/tsl/cuda/cudart_stub.cc:28] Could not find cuda drivers on your machine, GPU will not be used.\n",
      "2024-03-06 14:31:32.931529: I tensorflow/core/platform/cpu_feature_guard.cc:182] This TensorFlow binary is optimized to use available CPU instructions in performance-critical operations.\n",
      "To enable the following instructions: AVX2 FMA, in other operations, rebuild TensorFlow with the appropriate compiler flags.\n",
      "2024-03-06 14:31:34.090258: W tensorflow/compiler/tf2tensorrt/utils/py_utils.cc:38] TF-TRT Warning: Could not find TensorRT\n"
     ]
    },
    {
     "name": "stdout",
     "output_type": "stream",
     "text": [
      "Downloading data from https://storage.googleapis.com/tensorflow/tf-keras-datasets/mnist.npz\n",
      "11490434/11490434 [==============================] - 1s 0us/step\n"
     ]
    }
   ],
   "source": [
    "import keras\n",
    "from keras.datasets import mnist\n",
    "#load mnist dataset\n",
    "(X_train, y_train), (X_test, y_test) = mnist.load_data() #everytime loading data won't be so easy :)"
   ]
  },
  {
   "cell_type": "code",
   "execution_count": 107,
   "id": "1f9d318c",
   "metadata": {},
   "outputs": [
    {
     "data": {
      "text/html": [
       "<pre style=\"white-space:pre;overflow-x:auto;line-height:normal;font-family:Menlo,'DejaVu Sans Mono',consolas,'Courier New',monospace\"></pre>\n"
      ],
      "text/plain": []
     },
     "metadata": {},
     "output_type": "display_data"
    },
    {
     "data": {
      "text/plain": [
       "\u001b[1m(\u001b[0m\u001b[1m(\u001b[0m\u001b[1;36m60000\u001b[0m, \u001b[1;36m28\u001b[0m, \u001b[1;36m28\u001b[0m\u001b[1m)\u001b[0m, \u001b[1m(\u001b[0m\u001b[1;36m60000\u001b[0m,\u001b[1m)\u001b[0m\u001b[1m)\u001b[0m"
      ]
     },
     "execution_count": 107,
     "metadata": {},
     "output_type": "execute_result"
    }
   ],
   "source": [
    "X_train.shape, y_train.shape"
   ]
  }
 ],
 "metadata": {
  "kernelspec": {
   "display_name": "Python 3",
   "language": "python",
   "name": "python3"
  },
  "language_info": {
   "codemirror_mode": {
    "name": "ipython",
    "version": 3
   },
   "file_extension": ".py",
   "mimetype": "text/x-python",
   "name": "python",
   "nbconvert_exporter": "python",
   "pygments_lexer": "ipython3",
   "version": "3.8.18"
  }
 },
 "nbformat": 4,
 "nbformat_minor": 5
}
