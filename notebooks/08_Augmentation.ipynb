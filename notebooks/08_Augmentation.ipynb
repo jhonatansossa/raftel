{
 "cells": [
  {
   "cell_type": "code",
   "execution_count": 2,
   "id": "44902fa5-0456-45cf-bf22-54be77dc6f46",
   "metadata": {},
   "outputs": [
    {
     "data": {
      "text/html": [
       "<pre style=\"white-space:pre;overflow-x:auto;line-height:normal;font-family:Menlo,'DejaVu Sans Mono',consolas,'Courier New',monospace\"><span style=\"color: #7fbfbf; text-decoration-color: #7fbfbf\">[05/08/24 17:43:25] </span><span style=\"color: #800000; text-decoration-color: #800000\">WARNING </span> <span style=\"color: #800080; text-decoration-color: #800080\">/home/smartroom/miniconda3/envs/raftel/lib/python3.8/site-packages/ked</span> <a href=\"file:///home/smartroom/miniconda3/envs/raftel/lib/python3.8/warnings.py\" target=\"_blank\"><span style=\"color: #7f7f7f; text-decoration-color: #7f7f7f\">warnings.py</span></a><span style=\"color: #7f7f7f; text-decoration-color: #7f7f7f\">:</span><a href=\"file:///home/smartroom/miniconda3/envs/raftel/lib/python3.8/warnings.py#109\" target=\"_blank\"><span style=\"color: #7f7f7f; text-decoration-color: #7f7f7f\">109</span></a>\n",
       "<span style=\"color: #7fbfbf; text-decoration-color: #7fbfbf\">                    </span>         <span style=\"color: #800080; text-decoration-color: #800080\">ro/extras/extensions/</span><span style=\"color: #ff00ff; text-decoration-color: #ff00ff\">ipython.py</span>:<span style=\"color: #008080; text-decoration-color: #008080; font-weight: bold\">18</span>: DeprecationWarning:                <span style=\"color: #7f7f7f; text-decoration-color: #7f7f7f\">               </span>\n",
       "<span style=\"color: #7fbfbf; text-decoration-color: #7fbfbf\">                    </span>         kedro.extras.extensions.ipython should be accessed only using the      <span style=\"color: #7f7f7f; text-decoration-color: #7f7f7f\">               </span>\n",
       "<span style=\"color: #7fbfbf; text-decoration-color: #7fbfbf\">                    </span>         alias kedro.ipython. The unaliased name will be removed in Kedro       <span style=\"color: #7f7f7f; text-decoration-color: #7f7f7f\">               </span>\n",
       "<span style=\"color: #7fbfbf; text-decoration-color: #7fbfbf\">                    </span>         <span style=\"color: #008080; text-decoration-color: #008080; font-weight: bold\">0.19</span>.<span style=\"color: #008080; text-decoration-color: #008080; font-weight: bold\">0</span>.                                                                <span style=\"color: #7f7f7f; text-decoration-color: #7f7f7f\">               </span>\n",
       "<span style=\"color: #7fbfbf; text-decoration-color: #7fbfbf\">                    </span>           <span style=\"color: #800080; text-decoration-color: #800080; font-weight: bold\">warnings.warn</span><span style=\"font-weight: bold\">(</span>                                                       <span style=\"color: #7f7f7f; text-decoration-color: #7f7f7f\">               </span>\n",
       "<span style=\"color: #7fbfbf; text-decoration-color: #7fbfbf\">                    </span>                                                                                <span style=\"color: #7f7f7f; text-decoration-color: #7f7f7f\">               </span>\n",
       "</pre>\n"
      ],
      "text/plain": [
       "\u001b[2;36m[05/08/24 17:43:25]\u001b[0m\u001b[2;36m \u001b[0m\u001b[31mWARNING \u001b[0m \u001b[35m/home/smartroom/miniconda3/envs/raftel/lib/python3.8/site-packages/ked\u001b[0m \u001b]8;id=353201;file:///home/smartroom/miniconda3/envs/raftel/lib/python3.8/warnings.py\u001b\\\u001b[2mwarnings.py\u001b[0m\u001b]8;;\u001b\\\u001b[2m:\u001b[0m\u001b]8;id=575975;file:///home/smartroom/miniconda3/envs/raftel/lib/python3.8/warnings.py#109\u001b\\\u001b[2m109\u001b[0m\u001b]8;;\u001b\\\n",
       "\u001b[2;36m                    \u001b[0m         \u001b[35mro/extras/extensions/\u001b[0m\u001b[95mipython.py\u001b[0m:\u001b[1;36m18\u001b[0m: DeprecationWarning:                \u001b[2m               \u001b[0m\n",
       "\u001b[2;36m                    \u001b[0m         kedro.extras.extensions.ipython should be accessed only using the      \u001b[2m               \u001b[0m\n",
       "\u001b[2;36m                    \u001b[0m         alias kedro.ipython. The unaliased name will be removed in Kedro       \u001b[2m               \u001b[0m\n",
       "\u001b[2;36m                    \u001b[0m         \u001b[1;36m0.19\u001b[0m.\u001b[1;36m0\u001b[0m.                                                                \u001b[2m               \u001b[0m\n",
       "\u001b[2;36m                    \u001b[0m           \u001b[1;35mwarnings.warn\u001b[0m\u001b[1m(\u001b[0m                                                       \u001b[2m               \u001b[0m\n",
       "\u001b[2;36m                    \u001b[0m                                                                                \u001b[2m               \u001b[0m\n"
      ]
     },
     "metadata": {},
     "output_type": "display_data"
    },
    {
     "data": {
      "text/html": [
       "<pre style=\"white-space:pre;overflow-x:auto;line-height:normal;font-family:Menlo,'DejaVu Sans Mono',consolas,'Courier New',monospace\"><span style=\"color: #7fbfbf; text-decoration-color: #7fbfbf\">                    </span><span style=\"color: #000080; text-decoration-color: #000080\">INFO    </span> Resolved project path as: <span style=\"color: #800080; text-decoration-color: #800080\">/home/smartroom/jhonatan/</span><span style=\"color: #ff00ff; text-decoration-color: #ff00ff\">raftel.</span>             <a href=\"file:///home/smartroom/miniconda3/envs/raftel/lib/python3.8/site-packages/kedro/ipython/__init__.py\" target=\"_blank\"><span style=\"color: #7f7f7f; text-decoration-color: #7f7f7f\">__init__.py</span></a><span style=\"color: #7f7f7f; text-decoration-color: #7f7f7f\">:</span><a href=\"file:///home/smartroom/miniconda3/envs/raftel/lib/python3.8/site-packages/kedro/ipython/__init__.py#134\" target=\"_blank\"><span style=\"color: #7f7f7f; text-decoration-color: #7f7f7f\">134</span></a>\n",
       "<span style=\"color: #7fbfbf; text-decoration-color: #7fbfbf\">                    </span>         To set a different path, run <span style=\"color: #008000; text-decoration-color: #008000\">'%reload_kedro &lt;project_root&gt;'</span>            <span style=\"color: #7f7f7f; text-decoration-color: #7f7f7f\">               </span>\n",
       "</pre>\n"
      ],
      "text/plain": [
       "\u001b[2;36m                   \u001b[0m\u001b[2;36m \u001b[0m\u001b[34mINFO    \u001b[0m Resolved project path as: \u001b[35m/home/smartroom/jhonatan/\u001b[0m\u001b[95mraftel.\u001b[0m             \u001b]8;id=505430;file:///home/smartroom/miniconda3/envs/raftel/lib/python3.8/site-packages/kedro/ipython/__init__.py\u001b\\\u001b[2m__init__.py\u001b[0m\u001b]8;;\u001b\\\u001b[2m:\u001b[0m\u001b]8;id=299066;file:///home/smartroom/miniconda3/envs/raftel/lib/python3.8/site-packages/kedro/ipython/__init__.py#134\u001b\\\u001b[2m134\u001b[0m\u001b]8;;\u001b\\\n",
       "\u001b[2;36m                    \u001b[0m         To set a different path, run \u001b[32m'%reload_kedro \u001b[0m\u001b[32m<\u001b[0m\u001b[32mproject_root\u001b[0m\u001b[32m>\u001b[0m\u001b[32m'\u001b[0m            \u001b[2m               \u001b[0m\n"
      ]
     },
     "metadata": {},
     "output_type": "display_data"
    },
    {
     "name": "stderr",
     "output_type": "stream",
     "text": [
      "your 131072x1 screen size is bogus. expect trouble\n",
      "24/05/08 17:43:28 WARN Utils: Your hostname, WIN-0B8Q3RIVNP0 resolves to a loopback address: 127.0.1.1; using 172.31.114.225 instead (on interface eth0)\n",
      "24/05/08 17:43:28 WARN Utils: Set SPARK_LOCAL_IP if you need to bind to another address\n"
     ]
    },
    {
     "name": "stdout",
     "output_type": "stream",
     "text": [
      ":: loading settings :: url = jar:file:/home/smartroom/miniconda3/envs/raftel/lib/python3.8/site-packages/pyspark/jars/ivy-2.5.1.jar!/org/apache/ivy/core/settings/ivysettings.xml\n"
     ]
    },
    {
     "name": "stderr",
     "output_type": "stream",
     "text": [
      "Ivy Default Cache set to: /home/smartroom/.ivy2/cache\n",
      "The jars for the packages stored in: /home/smartroom/.ivy2/jars\n",
      "io.delta#delta-core_2.12 added as a dependency\n",
      "org.apache.hadoop#hadoop-aws added as a dependency\n",
      "software.aws.rds#aws-mysql-jdbc added as a dependency\n",
      ":: resolving dependencies :: org.apache.spark#spark-submit-parent-5a21bfd9-2af0-45e5-ab71-8e122531a056;1.0\n",
      "\tconfs: [default]\n",
      "\tfound io.delta#delta-core_2.12;2.4.0 in central\n",
      "\tfound io.delta#delta-storage;2.4.0 in central\n",
      "\tfound org.antlr#antlr4-runtime;4.9.3 in central\n",
      "\tfound org.apache.hadoop#hadoop-aws;3.3.2 in central\n",
      "\tfound com.amazonaws#aws-java-sdk-bundle;1.11.1026 in central\n",
      "\tfound org.wildfly.openssl#wildfly-openssl;1.0.7.Final in central\n",
      "\tfound software.aws.rds#aws-mysql-jdbc;1.0.0 in central\n",
      ":: resolution report :: resolve 305ms :: artifacts dl 13ms\n",
      "\t:: modules in use:\n",
      "\tcom.amazonaws#aws-java-sdk-bundle;1.11.1026 from central in [default]\n",
      "\tio.delta#delta-core_2.12;2.4.0 from central in [default]\n",
      "\tio.delta#delta-storage;2.4.0 from central in [default]\n",
      "\torg.antlr#antlr4-runtime;4.9.3 from central in [default]\n",
      "\torg.apache.hadoop#hadoop-aws;3.3.2 from central in [default]\n",
      "\torg.wildfly.openssl#wildfly-openssl;1.0.7.Final from central in [default]\n",
      "\tsoftware.aws.rds#aws-mysql-jdbc;1.0.0 from central in [default]\n",
      "\t---------------------------------------------------------------------\n",
      "\t|                  |            modules            ||   artifacts   |\n",
      "\t|       conf       | number| search|dwnlded|evicted|| number|dwnlded|\n",
      "\t---------------------------------------------------------------------\n",
      "\t|      default     |   7   |   0   |   0   |   0   ||   7   |   0   |\n",
      "\t---------------------------------------------------------------------\n",
      ":: retrieving :: org.apache.spark#spark-submit-parent-5a21bfd9-2af0-45e5-ab71-8e122531a056\n",
      "\tconfs: [default]\n",
      "\t0 artifacts copied, 7 already retrieved (0kB/10ms)\n",
      "24/05/08 17:43:30 WARN NativeCodeLoader: Unable to load native-hadoop library for your platform... using builtin-java classes where applicable\n",
      "Setting default log level to \"WARN\".\n",
      "To adjust logging level use sc.setLogLevel(newLevel). For SparkR, use setLogLevel(newLevel).\n",
      "24/05/08 17:43:32 WARN Utils: Service 'SparkUI' could not bind on port 4051. Attempting port 4052.\n",
      "24/05/08 17:43:32 WARN Utils: Service 'SparkUI' could not bind on port 4052. Attempting port 4053.\n",
      "24/05/08 17:43:32 WARN Utils: Service 'SparkUI' could not bind on port 4053. Attempting port 4054.\n",
      "24/05/08 17:43:32 WARN Utils: Service 'SparkUI' could not bind on port 4054. Attempting port 4055.\n"
     ]
    },
    {
     "name": "stdout",
     "output_type": "stream",
     "text": [
      "http://172.31.114.225:4055\n"
     ]
    },
    {
     "data": {
      "text/html": [
       "<pre style=\"white-space:pre;overflow-x:auto;line-height:normal;font-family:Menlo,'DejaVu Sans Mono',consolas,'Courier New',monospace\"><span style=\"color: #7fbfbf; text-decoration-color: #7fbfbf\">[05/08/24 17:43:35] </span><span style=\"color: #000080; text-decoration-color: #000080\">INFO    </span> Kedro project raftel                                                   <a href=\"file:///home/smartroom/miniconda3/envs/raftel/lib/python3.8/site-packages/kedro/ipython/__init__.py\" target=\"_blank\"><span style=\"color: #7f7f7f; text-decoration-color: #7f7f7f\">__init__.py</span></a><span style=\"color: #7f7f7f; text-decoration-color: #7f7f7f\">:</span><a href=\"file:///home/smartroom/miniconda3/envs/raftel/lib/python3.8/site-packages/kedro/ipython/__init__.py#103\" target=\"_blank\"><span style=\"color: #7f7f7f; text-decoration-color: #7f7f7f\">103</span></a>\n",
       "</pre>\n"
      ],
      "text/plain": [
       "\u001b[2;36m[05/08/24 17:43:35]\u001b[0m\u001b[2;36m \u001b[0m\u001b[34mINFO    \u001b[0m Kedro project raftel                                                   \u001b]8;id=895752;file:///home/smartroom/miniconda3/envs/raftel/lib/python3.8/site-packages/kedro/ipython/__init__.py\u001b\\\u001b[2m__init__.py\u001b[0m\u001b]8;;\u001b\\\u001b[2m:\u001b[0m\u001b]8;id=622300;file:///home/smartroom/miniconda3/envs/raftel/lib/python3.8/site-packages/kedro/ipython/__init__.py#103\u001b\\\u001b[2m103\u001b[0m\u001b]8;;\u001b\\\n"
      ]
     },
     "metadata": {},
     "output_type": "display_data"
    },
    {
     "data": {
      "text/html": [
       "<pre style=\"white-space:pre;overflow-x:auto;line-height:normal;font-family:Menlo,'DejaVu Sans Mono',consolas,'Courier New',monospace\"><span style=\"color: #7fbfbf; text-decoration-color: #7fbfbf\">                    </span><span style=\"color: #000080; text-decoration-color: #000080\">INFO    </span> Defined global variable <span style=\"color: #008000; text-decoration-color: #008000\">'context'</span>, <span style=\"color: #008000; text-decoration-color: #008000\">'session'</span>, <span style=\"color: #008000; text-decoration-color: #008000\">'catalog'</span> and            <a href=\"file:///home/smartroom/miniconda3/envs/raftel/lib/python3.8/site-packages/kedro/ipython/__init__.py\" target=\"_blank\"><span style=\"color: #7f7f7f; text-decoration-color: #7f7f7f\">__init__.py</span></a><span style=\"color: #7f7f7f; text-decoration-color: #7f7f7f\">:</span><a href=\"file:///home/smartroom/miniconda3/envs/raftel/lib/python3.8/site-packages/kedro/ipython/__init__.py#104\" target=\"_blank\"><span style=\"color: #7f7f7f; text-decoration-color: #7f7f7f\">104</span></a>\n",
       "<span style=\"color: #7fbfbf; text-decoration-color: #7fbfbf\">                    </span>         <span style=\"color: #008000; text-decoration-color: #008000\">'pipelines'</span>                                                            <span style=\"color: #7f7f7f; text-decoration-color: #7f7f7f\">               </span>\n",
       "</pre>\n"
      ],
      "text/plain": [
       "\u001b[2;36m                   \u001b[0m\u001b[2;36m \u001b[0m\u001b[34mINFO    \u001b[0m Defined global variable \u001b[32m'context'\u001b[0m, \u001b[32m'session'\u001b[0m, \u001b[32m'catalog'\u001b[0m and            \u001b]8;id=982646;file:///home/smartroom/miniconda3/envs/raftel/lib/python3.8/site-packages/kedro/ipython/__init__.py\u001b\\\u001b[2m__init__.py\u001b[0m\u001b]8;;\u001b\\\u001b[2m:\u001b[0m\u001b]8;id=363628;file:///home/smartroom/miniconda3/envs/raftel/lib/python3.8/site-packages/kedro/ipython/__init__.py#104\u001b\\\u001b[2m104\u001b[0m\u001b]8;;\u001b\\\n",
       "\u001b[2;36m                    \u001b[0m         \u001b[32m'pipelines'\u001b[0m                                                            \u001b[2m               \u001b[0m\n"
      ]
     },
     "metadata": {},
     "output_type": "display_data"
    },
    {
     "data": {
      "text/html": [
       "<pre style=\"white-space:pre;overflow-x:auto;line-height:normal;font-family:Menlo,'DejaVu Sans Mono',consolas,'Courier New',monospace\"><span style=\"color: #7fbfbf; text-decoration-color: #7fbfbf\">[05/08/24 17:43:38] </span><span style=\"color: #800000; text-decoration-color: #800000\">WARNING </span> <span style=\"color: #800080; text-decoration-color: #800080\">/home/smartroom/miniconda3/envs/raftel/lib/python3.8/site-packages/ked</span> <a href=\"file:///home/smartroom/miniconda3/envs/raftel/lib/python3.8/warnings.py\" target=\"_blank\"><span style=\"color: #7f7f7f; text-decoration-color: #7f7f7f\">warnings.py</span></a><span style=\"color: #7f7f7f; text-decoration-color: #7f7f7f\">:</span><a href=\"file:///home/smartroom/miniconda3/envs/raftel/lib/python3.8/warnings.py#109\" target=\"_blank\"><span style=\"color: #7f7f7f; text-decoration-color: #7f7f7f\">109</span></a>\n",
       "<span style=\"color: #7fbfbf; text-decoration-color: #7fbfbf\">                    </span>         <span style=\"color: #800080; text-decoration-color: #800080\">ro_viz/api/graphql/</span><span style=\"color: #ff00ff; text-decoration-color: #ff00ff\">router.py</span>:<span style=\"color: #008080; text-decoration-color: #008080; font-weight: bold\">10</span>: DeprecationWarning: The `graphiql`    <span style=\"color: #7f7f7f; text-decoration-color: #7f7f7f\">               </span>\n",
       "<span style=\"color: #7fbfbf; text-decoration-color: #7fbfbf\">                    </span>         argument is deprecated in favor of `graphql_ide`                       <span style=\"color: #7f7f7f; text-decoration-color: #7f7f7f\">               </span>\n",
       "<span style=\"color: #7fbfbf; text-decoration-color: #7fbfbf\">                    </span>           graphql_app: GraphQL = <span style=\"color: #800080; text-decoration-color: #800080; font-weight: bold\">GraphQL</span><span style=\"font-weight: bold\">(</span>schema, <span style=\"color: #808000; text-decoration-color: #808000\">graphiql</span>=<span style=\"color: #ff0000; text-decoration-color: #ff0000; font-style: italic\">False</span><span style=\"font-weight: bold\">)</span>               <span style=\"color: #7f7f7f; text-decoration-color: #7f7f7f\">               </span>\n",
       "<span style=\"color: #7fbfbf; text-decoration-color: #7fbfbf\">                    </span>                                                                                <span style=\"color: #7f7f7f; text-decoration-color: #7f7f7f\">               </span>\n",
       "</pre>\n"
      ],
      "text/plain": [
       "\u001b[2;36m[05/08/24 17:43:38]\u001b[0m\u001b[2;36m \u001b[0m\u001b[31mWARNING \u001b[0m \u001b[35m/home/smartroom/miniconda3/envs/raftel/lib/python3.8/site-packages/ked\u001b[0m \u001b]8;id=504152;file:///home/smartroom/miniconda3/envs/raftel/lib/python3.8/warnings.py\u001b\\\u001b[2mwarnings.py\u001b[0m\u001b]8;;\u001b\\\u001b[2m:\u001b[0m\u001b]8;id=634565;file:///home/smartroom/miniconda3/envs/raftel/lib/python3.8/warnings.py#109\u001b\\\u001b[2m109\u001b[0m\u001b]8;;\u001b\\\n",
       "\u001b[2;36m                    \u001b[0m         \u001b[35mro_viz/api/graphql/\u001b[0m\u001b[95mrouter.py\u001b[0m:\u001b[1;36m10\u001b[0m: DeprecationWarning: The `graphiql`    \u001b[2m               \u001b[0m\n",
       "\u001b[2;36m                    \u001b[0m         argument is deprecated in favor of `graphql_ide`                       \u001b[2m               \u001b[0m\n",
       "\u001b[2;36m                    \u001b[0m           graphql_app: GraphQL = \u001b[1;35mGraphQL\u001b[0m\u001b[1m(\u001b[0mschema, \u001b[33mgraphiql\u001b[0m=\u001b[3;91mFalse\u001b[0m\u001b[1m)\u001b[0m               \u001b[2m               \u001b[0m\n",
       "\u001b[2;36m                    \u001b[0m                                                                                \u001b[2m               \u001b[0m\n"
      ]
     },
     "metadata": {},
     "output_type": "display_data"
    },
    {
     "data": {
      "text/html": [
       "<pre style=\"white-space:pre;overflow-x:auto;line-height:normal;font-family:Menlo,'DejaVu Sans Mono',consolas,'Courier New',monospace\"><span style=\"color: #7fbfbf; text-decoration-color: #7fbfbf\">                    </span><span style=\"color: #000080; text-decoration-color: #000080\">INFO    </span> Registered line magic <span style=\"color: #008000; text-decoration-color: #008000\">'run_viz'</span>                                        <a href=\"file:///home/smartroom/miniconda3/envs/raftel/lib/python3.8/site-packages/kedro/ipython/__init__.py\" target=\"_blank\"><span style=\"color: #7f7f7f; text-decoration-color: #7f7f7f\">__init__.py</span></a><span style=\"color: #7f7f7f; text-decoration-color: #7f7f7f\">:</span><a href=\"file:///home/smartroom/miniconda3/envs/raftel/lib/python3.8/site-packages/kedro/ipython/__init__.py#110\" target=\"_blank\"><span style=\"color: #7f7f7f; text-decoration-color: #7f7f7f\">110</span></a>\n",
       "</pre>\n"
      ],
      "text/plain": [
       "\u001b[2;36m                   \u001b[0m\u001b[2;36m \u001b[0m\u001b[34mINFO    \u001b[0m Registered line magic \u001b[32m'run_viz'\u001b[0m                                        \u001b]8;id=431379;file:///home/smartroom/miniconda3/envs/raftel/lib/python3.8/site-packages/kedro/ipython/__init__.py\u001b\\\u001b[2m__init__.py\u001b[0m\u001b]8;;\u001b\\\u001b[2m:\u001b[0m\u001b]8;id=693316;file:///home/smartroom/miniconda3/envs/raftel/lib/python3.8/site-packages/kedro/ipython/__init__.py#110\u001b\\\u001b[2m110\u001b[0m\u001b]8;;\u001b\\\n"
      ]
     },
     "metadata": {},
     "output_type": "display_data"
    }
   ],
   "source": [
    "%load_ext kedro.extras.extensions.ipython"
   ]
  },
  {
   "cell_type": "code",
   "execution_count": 3,
   "id": "4d207709-6a02-4ffc-b886-c73e6449a636",
   "metadata": {},
   "outputs": [
    {
     "data": {
      "text/html": [
       "<pre style=\"white-space:pre;overflow-x:auto;line-height:normal;font-family:Menlo,'DejaVu Sans Mono',consolas,'Courier New',monospace\"><span style=\"color: #7fbfbf; text-decoration-color: #7fbfbf\">                    </span><span style=\"color: #000080; text-decoration-color: #000080\">INFO    </span> Resolved project path as: <span style=\"color: #800080; text-decoration-color: #800080\">/home/smartroom/jhonatan/</span><span style=\"color: #ff00ff; text-decoration-color: #ff00ff\">raftel.</span>             <a href=\"file:///home/smartroom/miniconda3/envs/raftel/lib/python3.8/site-packages/kedro/ipython/__init__.py\" target=\"_blank\"><span style=\"color: #7f7f7f; text-decoration-color: #7f7f7f\">__init__.py</span></a><span style=\"color: #7f7f7f; text-decoration-color: #7f7f7f\">:</span><a href=\"file:///home/smartroom/miniconda3/envs/raftel/lib/python3.8/site-packages/kedro/ipython/__init__.py#134\" target=\"_blank\"><span style=\"color: #7f7f7f; text-decoration-color: #7f7f7f\">134</span></a>\n",
       "<span style=\"color: #7fbfbf; text-decoration-color: #7fbfbf\">                    </span>         To set a different path, run <span style=\"color: #008000; text-decoration-color: #008000\">'%reload_kedro &lt;project_root&gt;'</span>            <span style=\"color: #7f7f7f; text-decoration-color: #7f7f7f\">               </span>\n",
       "</pre>\n"
      ],
      "text/plain": [
       "\u001b[2;36m                   \u001b[0m\u001b[2;36m \u001b[0m\u001b[34mINFO    \u001b[0m Resolved project path as: \u001b[35m/home/smartroom/jhonatan/\u001b[0m\u001b[95mraftel.\u001b[0m             \u001b]8;id=55245;file:///home/smartroom/miniconda3/envs/raftel/lib/python3.8/site-packages/kedro/ipython/__init__.py\u001b\\\u001b[2m__init__.py\u001b[0m\u001b]8;;\u001b\\\u001b[2m:\u001b[0m\u001b]8;id=816704;file:///home/smartroom/miniconda3/envs/raftel/lib/python3.8/site-packages/kedro/ipython/__init__.py#134\u001b\\\u001b[2m134\u001b[0m\u001b]8;;\u001b\\\n",
       "\u001b[2;36m                    \u001b[0m         To set a different path, run \u001b[32m'%reload_kedro \u001b[0m\u001b[32m<\u001b[0m\u001b[32mproject_root\u001b[0m\u001b[32m>\u001b[0m\u001b[32m'\u001b[0m            \u001b[2m               \u001b[0m\n"
      ]
     },
     "metadata": {},
     "output_type": "display_data"
    },
    {
     "data": {
      "text/html": [
       "<pre style=\"white-space:pre;overflow-x:auto;line-height:normal;font-family:Menlo,'DejaVu Sans Mono',consolas,'Courier New',monospace\"><span style=\"color: #7fbfbf; text-decoration-color: #7fbfbf\">[05/08/24 17:43:39] </span><span style=\"color: #000080; text-decoration-color: #000080\">INFO    </span> Kedro project raftel                                                   <a href=\"file:///home/smartroom/miniconda3/envs/raftel/lib/python3.8/site-packages/kedro/ipython/__init__.py\" target=\"_blank\"><span style=\"color: #7f7f7f; text-decoration-color: #7f7f7f\">__init__.py</span></a><span style=\"color: #7f7f7f; text-decoration-color: #7f7f7f\">:</span><a href=\"file:///home/smartroom/miniconda3/envs/raftel/lib/python3.8/site-packages/kedro/ipython/__init__.py#103\" target=\"_blank\"><span style=\"color: #7f7f7f; text-decoration-color: #7f7f7f\">103</span></a>\n",
       "</pre>\n"
      ],
      "text/plain": [
       "\u001b[2;36m[05/08/24 17:43:39]\u001b[0m\u001b[2;36m \u001b[0m\u001b[34mINFO    \u001b[0m Kedro project raftel                                                   \u001b]8;id=731646;file:///home/smartroom/miniconda3/envs/raftel/lib/python3.8/site-packages/kedro/ipython/__init__.py\u001b\\\u001b[2m__init__.py\u001b[0m\u001b]8;;\u001b\\\u001b[2m:\u001b[0m\u001b]8;id=305108;file:///home/smartroom/miniconda3/envs/raftel/lib/python3.8/site-packages/kedro/ipython/__init__.py#103\u001b\\\u001b[2m103\u001b[0m\u001b]8;;\u001b\\\n"
      ]
     },
     "metadata": {},
     "output_type": "display_data"
    },
    {
     "data": {
      "text/html": [
       "<pre style=\"white-space:pre;overflow-x:auto;line-height:normal;font-family:Menlo,'DejaVu Sans Mono',consolas,'Courier New',monospace\"><span style=\"color: #7fbfbf; text-decoration-color: #7fbfbf\">                    </span><span style=\"color: #000080; text-decoration-color: #000080\">INFO    </span> Defined global variable <span style=\"color: #008000; text-decoration-color: #008000\">'context'</span>, <span style=\"color: #008000; text-decoration-color: #008000\">'session'</span>, <span style=\"color: #008000; text-decoration-color: #008000\">'catalog'</span> and            <a href=\"file:///home/smartroom/miniconda3/envs/raftel/lib/python3.8/site-packages/kedro/ipython/__init__.py\" target=\"_blank\"><span style=\"color: #7f7f7f; text-decoration-color: #7f7f7f\">__init__.py</span></a><span style=\"color: #7f7f7f; text-decoration-color: #7f7f7f\">:</span><a href=\"file:///home/smartroom/miniconda3/envs/raftel/lib/python3.8/site-packages/kedro/ipython/__init__.py#104\" target=\"_blank\"><span style=\"color: #7f7f7f; text-decoration-color: #7f7f7f\">104</span></a>\n",
       "<span style=\"color: #7fbfbf; text-decoration-color: #7fbfbf\">                    </span>         <span style=\"color: #008000; text-decoration-color: #008000\">'pipelines'</span>                                                            <span style=\"color: #7f7f7f; text-decoration-color: #7f7f7f\">               </span>\n",
       "</pre>\n"
      ],
      "text/plain": [
       "\u001b[2;36m                   \u001b[0m\u001b[2;36m \u001b[0m\u001b[34mINFO    \u001b[0m Defined global variable \u001b[32m'context'\u001b[0m, \u001b[32m'session'\u001b[0m, \u001b[32m'catalog'\u001b[0m and            \u001b]8;id=398237;file:///home/smartroom/miniconda3/envs/raftel/lib/python3.8/site-packages/kedro/ipython/__init__.py\u001b\\\u001b[2m__init__.py\u001b[0m\u001b]8;;\u001b\\\u001b[2m:\u001b[0m\u001b]8;id=233373;file:///home/smartroom/miniconda3/envs/raftel/lib/python3.8/site-packages/kedro/ipython/__init__.py#104\u001b\\\u001b[2m104\u001b[0m\u001b]8;;\u001b\\\n",
       "\u001b[2;36m                    \u001b[0m         \u001b[32m'pipelines'\u001b[0m                                                            \u001b[2m               \u001b[0m\n"
      ]
     },
     "metadata": {},
     "output_type": "display_data"
    },
    {
     "data": {
      "text/html": [
       "<pre style=\"white-space:pre;overflow-x:auto;line-height:normal;font-family:Menlo,'DejaVu Sans Mono',consolas,'Courier New',monospace\"><span style=\"color: #7fbfbf; text-decoration-color: #7fbfbf\">                    </span><span style=\"color: #000080; text-decoration-color: #000080\">INFO    </span> Registered line magic <span style=\"color: #008000; text-decoration-color: #008000\">'run_viz'</span>                                        <a href=\"file:///home/smartroom/miniconda3/envs/raftel/lib/python3.8/site-packages/kedro/ipython/__init__.py\" target=\"_blank\"><span style=\"color: #7f7f7f; text-decoration-color: #7f7f7f\">__init__.py</span></a><span style=\"color: #7f7f7f; text-decoration-color: #7f7f7f\">:</span><a href=\"file:///home/smartroom/miniconda3/envs/raftel/lib/python3.8/site-packages/kedro/ipython/__init__.py#110\" target=\"_blank\"><span style=\"color: #7f7f7f; text-decoration-color: #7f7f7f\">110</span></a>\n",
       "</pre>\n"
      ],
      "text/plain": [
       "\u001b[2;36m                   \u001b[0m\u001b[2;36m \u001b[0m\u001b[34mINFO    \u001b[0m Registered line magic \u001b[32m'run_viz'\u001b[0m                                        \u001b]8;id=15030;file:///home/smartroom/miniconda3/envs/raftel/lib/python3.8/site-packages/kedro/ipython/__init__.py\u001b\\\u001b[2m__init__.py\u001b[0m\u001b]8;;\u001b\\\u001b[2m:\u001b[0m\u001b]8;id=344141;file:///home/smartroom/miniconda3/envs/raftel/lib/python3.8/site-packages/kedro/ipython/__init__.py#110\u001b\\\u001b[2m110\u001b[0m\u001b]8;;\u001b\\\n"
      ]
     },
     "metadata": {},
     "output_type": "display_data"
    }
   ],
   "source": [
    "%reload_kedro"
   ]
  },
  {
   "cell_type": "code",
   "execution_count": 4,
   "id": "8596fb9b",
   "metadata": {},
   "outputs": [],
   "source": [
    "import pandas as pd\n",
    "import numpy as np\n",
    "from tqdm import tqdm\n",
    "import matplotlib.pyplot as plt\n",
    "import seaborn as sns\n",
    "from sklearn.model_selection import train_test_split\n",
    "\n",
    "import pyspark.sql.functions as F"
   ]
  },
  {
   "cell_type": "code",
   "execution_count": 5,
   "id": "c1076a86-7059-4f64-ae84-b1b530ada271",
   "metadata": {},
   "outputs": [
    {
     "data": {
      "text/html": [
       "<pre style=\"white-space:pre;overflow-x:auto;line-height:normal;font-family:Menlo,'DejaVu Sans Mono',consolas,'Courier New',monospace\"><span style=\"color: #7fbfbf; text-decoration-color: #7fbfbf\">                    </span><span style=\"color: #000080; text-decoration-color: #000080\">INFO    </span> Loading data from <span style=\"color: #008000; text-decoration-color: #008000\">'activities_percentage_matrix@spark'</span>             <a href=\"file:///home/smartroom/miniconda3/envs/raftel/lib/python3.8/site-packages/kedro/io/data_catalog.py\" target=\"_blank\"><span style=\"color: #7f7f7f; text-decoration-color: #7f7f7f\">data_catalog.py</span></a><span style=\"color: #7f7f7f; text-decoration-color: #7f7f7f\">:</span><a href=\"file:///home/smartroom/miniconda3/envs/raftel/lib/python3.8/site-packages/kedro/io/data_catalog.py#343\" target=\"_blank\"><span style=\"color: #7f7f7f; text-decoration-color: #7f7f7f\">343</span></a>\n",
       "<span style=\"color: #7fbfbf; text-decoration-color: #7fbfbf\">                    </span>         <span style=\"font-weight: bold\">(</span>SparkDataSet<span style=\"font-weight: bold\">)</span><span style=\"color: #808000; text-decoration-color: #808000\">...</span>                                                  <span style=\"color: #7f7f7f; text-decoration-color: #7f7f7f\">                   </span>\n",
       "</pre>\n"
      ],
      "text/plain": [
       "\u001b[2;36m                   \u001b[0m\u001b[2;36m \u001b[0m\u001b[34mINFO    \u001b[0m Loading data from \u001b[32m'activities_percentage_matrix@spark'\u001b[0m             \u001b]8;id=985170;file:///home/smartroom/miniconda3/envs/raftel/lib/python3.8/site-packages/kedro/io/data_catalog.py\u001b\\\u001b[2mdata_catalog.py\u001b[0m\u001b]8;;\u001b\\\u001b[2m:\u001b[0m\u001b]8;id=731800;file:///home/smartroom/miniconda3/envs/raftel/lib/python3.8/site-packages/kedro/io/data_catalog.py#343\u001b\\\u001b[2m343\u001b[0m\u001b]8;;\u001b\\\n",
       "\u001b[2;36m                    \u001b[0m         \u001b[1m(\u001b[0mSparkDataSet\u001b[1m)\u001b[0m\u001b[33m...\u001b[0m                                                  \u001b[2m                   \u001b[0m\n"
      ]
     },
     "metadata": {},
     "output_type": "display_data"
    },
    {
     "name": "stderr",
     "output_type": "stream",
     "text": [
      "                                                                                \r"
     ]
    },
    {
     "data": {
      "text/html": [
       "<pre style=\"white-space:pre;overflow-x:auto;line-height:normal;font-family:Menlo,'DejaVu Sans Mono',consolas,'Courier New',monospace\"><span style=\"color: #7fbfbf; text-decoration-color: #7fbfbf\">[05/08/24 17:43:45] </span><span style=\"color: #000080; text-decoration-color: #000080\">INFO    </span> Loading data from <span style=\"color: #008000; text-decoration-color: #008000\">'windowed_X_aras_A_NAugmentation@pickle'</span>         <a href=\"file:///home/smartroom/miniconda3/envs/raftel/lib/python3.8/site-packages/kedro/io/data_catalog.py\" target=\"_blank\"><span style=\"color: #7f7f7f; text-decoration-color: #7f7f7f\">data_catalog.py</span></a><span style=\"color: #7f7f7f; text-decoration-color: #7f7f7f\">:</span><a href=\"file:///home/smartroom/miniconda3/envs/raftel/lib/python3.8/site-packages/kedro/io/data_catalog.py#343\" target=\"_blank\"><span style=\"color: #7f7f7f; text-decoration-color: #7f7f7f\">343</span></a>\n",
       "<span style=\"color: #7fbfbf; text-decoration-color: #7fbfbf\">                    </span>         <span style=\"font-weight: bold\">(</span>PickleDataSet<span style=\"font-weight: bold\">)</span><span style=\"color: #808000; text-decoration-color: #808000\">...</span>                                                 <span style=\"color: #7f7f7f; text-decoration-color: #7f7f7f\">                   </span>\n",
       "</pre>\n"
      ],
      "text/plain": [
       "\u001b[2;36m[05/08/24 17:43:45]\u001b[0m\u001b[2;36m \u001b[0m\u001b[34mINFO    \u001b[0m Loading data from \u001b[32m'windowed_X_aras_A_NAugmentation@pickle'\u001b[0m         \u001b]8;id=707292;file:///home/smartroom/miniconda3/envs/raftel/lib/python3.8/site-packages/kedro/io/data_catalog.py\u001b\\\u001b[2mdata_catalog.py\u001b[0m\u001b]8;;\u001b\\\u001b[2m:\u001b[0m\u001b]8;id=506705;file:///home/smartroom/miniconda3/envs/raftel/lib/python3.8/site-packages/kedro/io/data_catalog.py#343\u001b\\\u001b[2m343\u001b[0m\u001b]8;;\u001b\\\n",
       "\u001b[2;36m                    \u001b[0m         \u001b[1m(\u001b[0mPickleDataSet\u001b[1m)\u001b[0m\u001b[33m...\u001b[0m                                                 \u001b[2m                   \u001b[0m\n"
      ]
     },
     "metadata": {},
     "output_type": "display_data"
    },
    {
     "data": {
      "text/html": [
       "<pre style=\"white-space:pre;overflow-x:auto;line-height:normal;font-family:Menlo,'DejaVu Sans Mono',consolas,'Courier New',monospace\"><span style=\"color: #7fbfbf; text-decoration-color: #7fbfbf\">[05/08/24 17:43:46] </span><span style=\"color: #000080; text-decoration-color: #000080\">INFO    </span> Loading data from <span style=\"color: #008000; text-decoration-color: #008000\">'windowed_y_aras_A_NAugmentation@pickle'</span>         <a href=\"file:///home/smartroom/miniconda3/envs/raftel/lib/python3.8/site-packages/kedro/io/data_catalog.py\" target=\"_blank\"><span style=\"color: #7f7f7f; text-decoration-color: #7f7f7f\">data_catalog.py</span></a><span style=\"color: #7f7f7f; text-decoration-color: #7f7f7f\">:</span><a href=\"file:///home/smartroom/miniconda3/envs/raftel/lib/python3.8/site-packages/kedro/io/data_catalog.py#343\" target=\"_blank\"><span style=\"color: #7f7f7f; text-decoration-color: #7f7f7f\">343</span></a>\n",
       "<span style=\"color: #7fbfbf; text-decoration-color: #7fbfbf\">                    </span>         <span style=\"font-weight: bold\">(</span>PickleDataSet<span style=\"font-weight: bold\">)</span><span style=\"color: #808000; text-decoration-color: #808000\">...</span>                                                 <span style=\"color: #7f7f7f; text-decoration-color: #7f7f7f\">                   </span>\n",
       "</pre>\n"
      ],
      "text/plain": [
       "\u001b[2;36m[05/08/24 17:43:46]\u001b[0m\u001b[2;36m \u001b[0m\u001b[34mINFO    \u001b[0m Loading data from \u001b[32m'windowed_y_aras_A_NAugmentation@pickle'\u001b[0m         \u001b]8;id=377164;file:///home/smartroom/miniconda3/envs/raftel/lib/python3.8/site-packages/kedro/io/data_catalog.py\u001b\\\u001b[2mdata_catalog.py\u001b[0m\u001b]8;;\u001b\\\u001b[2m:\u001b[0m\u001b]8;id=647573;file:///home/smartroom/miniconda3/envs/raftel/lib/python3.8/site-packages/kedro/io/data_catalog.py#343\u001b\\\u001b[2m343\u001b[0m\u001b]8;;\u001b\\\n",
       "\u001b[2;36m                    \u001b[0m         \u001b[1m(\u001b[0mPickleDataSet\u001b[1m)\u001b[0m\u001b[33m...\u001b[0m                                                 \u001b[2m                   \u001b[0m\n"
      ]
     },
     "metadata": {},
     "output_type": "display_data"
    },
    {
     "data": {
      "text/html": [
       "<pre style=\"white-space:pre;overflow-x:auto;line-height:normal;font-family:Menlo,'DejaVu Sans Mono',consolas,'Courier New',monospace\"><span style=\"color: #7fbfbf; text-decoration-color: #7fbfbf\">                    </span><span style=\"color: #000080; text-decoration-color: #000080\">INFO    </span> Loading data from <span style=\"color: #008000; text-decoration-color: #008000\">'train_val_test_sets@pickle'</span> <span style=\"font-weight: bold\">(</span>PickleDataSet<span style=\"font-weight: bold\">)</span><span style=\"color: #808000; text-decoration-color: #808000\">...</span>  <a href=\"file:///home/smartroom/miniconda3/envs/raftel/lib/python3.8/site-packages/kedro/io/data_catalog.py\" target=\"_blank\"><span style=\"color: #7f7f7f; text-decoration-color: #7f7f7f\">data_catalog.py</span></a><span style=\"color: #7f7f7f; text-decoration-color: #7f7f7f\">:</span><a href=\"file:///home/smartroom/miniconda3/envs/raftel/lib/python3.8/site-packages/kedro/io/data_catalog.py#343\" target=\"_blank\"><span style=\"color: #7f7f7f; text-decoration-color: #7f7f7f\">343</span></a>\n",
       "</pre>\n"
      ],
      "text/plain": [
       "\u001b[2;36m                   \u001b[0m\u001b[2;36m \u001b[0m\u001b[34mINFO    \u001b[0m Loading data from \u001b[32m'train_val_test_sets@pickle'\u001b[0m \u001b[1m(\u001b[0mPickleDataSet\u001b[1m)\u001b[0m\u001b[33m...\u001b[0m  \u001b]8;id=857735;file:///home/smartroom/miniconda3/envs/raftel/lib/python3.8/site-packages/kedro/io/data_catalog.py\u001b\\\u001b[2mdata_catalog.py\u001b[0m\u001b]8;;\u001b\\\u001b[2m:\u001b[0m\u001b]8;id=186938;file:///home/smartroom/miniconda3/envs/raftel/lib/python3.8/site-packages/kedro/io/data_catalog.py#343\u001b\\\u001b[2m343\u001b[0m\u001b]8;;\u001b\\\n"
      ]
     },
     "metadata": {},
     "output_type": "display_data"
    }
   ],
   "source": [
    "APM = catalog.load(\"activities_percentage_matrix@spark\")\n",
    "X = catalog.load(\"windowed_X_aras_A_NAugmentation@pickle\")\n",
    "y = catalog.load(\"windowed_y_aras_A_NAugmentation@pickle\")\n",
    "train_val_test = catalog.load(\"train_val_test_sets@pickle\")"
   ]
  },
  {
   "cell_type": "code",
   "execution_count": 6,
   "id": "9bea554a",
   "metadata": {},
   "outputs": [
    {
     "data": {
      "text/html": [
       "<pre style=\"white-space:pre;overflow-x:auto;line-height:normal;font-family:Menlo,'DejaVu Sans Mono',consolas,'Courier New',monospace\"></pre>\n"
      ],
      "text/plain": []
     },
     "metadata": {},
     "output_type": "display_data"
    },
    {
     "data": {
      "text/plain": [
       "\u001b[1m(\u001b[0m\u001b[1;36m28799\u001b[0m, \u001b[1;36m180\u001b[0m, \u001b[1;36m22\u001b[0m\u001b[1m)\u001b[0m"
      ]
     },
     "execution_count": 6,
     "metadata": {},
     "output_type": "execute_result"
    }
   ],
   "source": [
    "X.shape"
   ]
  },
  {
   "cell_type": "markdown",
   "id": "241587bd",
   "metadata": {},
   "source": [
    "#### No ejecutar"
   ]
  },
  {
   "cell_type": "code",
   "execution_count": 7,
   "id": "f1a0ecb6",
   "metadata": {},
   "outputs": [],
   "source": [
    "# train_indices, test_indices = train_test_split(range(len(X)), test_size=0.2, shuffle=False)\n",
    "\n",
    "# train_indices, val_indices = train_test_split(range(len(train_indices)), test_size=0.25, shuffle=False)"
   ]
  },
  {
   "cell_type": "code",
   "execution_count": 8,
   "id": "53b2a844",
   "metadata": {},
   "outputs": [],
   "source": [
    "# train_val_test = {\n",
    "#     'train_indices': train_indices,\n",
    "#     'val_indices': val_indices,\n",
    "#     'test_indices': test_indices\n",
    "# }"
   ]
  },
  {
   "cell_type": "code",
   "execution_count": 9,
   "id": "321655e8",
   "metadata": {},
   "outputs": [],
   "source": [
    "# catalog.save(\"train_val_test_sets@pickle\", train_val_test)"
   ]
  },
  {
   "cell_type": "markdown",
   "id": "10f97821",
   "metadata": {},
   "source": [
    "### Train and test split"
   ]
  },
  {
   "cell_type": "code",
   "execution_count": 10,
   "id": "358ae9f9",
   "metadata": {},
   "outputs": [],
   "source": [
    "# #CHECK stratify parameter\n",
    "\n",
    "# X_train, X_test, y_train, y_test = train_test_split(X, y, test_size = 0.2, random_state = 0)\n",
    "\n",
    "# X_train, X_val, y_train, y_val = train_test_split(X_train, y_train, test_size = 0.25, random_state = 0)"
   ]
  },
  {
   "cell_type": "code",
   "execution_count": 11,
   "id": "4e9b6d3b",
   "metadata": {},
   "outputs": [],
   "source": [
    "train_indices = train_val_test['train_indices']\n",
    "val_indices = train_val_test['val_indices']\n",
    "test_indices = train_val_test['test_indices']"
   ]
  },
  {
   "cell_type": "code",
   "execution_count": 12,
   "id": "ff9a3880",
   "metadata": {},
   "outputs": [],
   "source": [
    "X_train, X_val, X_test = X[train_indices], X[val_indices], X[test_indices]\n",
    "y_train, y_val, y_test = y[train_indices], y[val_indices], y[test_indices]"
   ]
  },
  {
   "cell_type": "code",
   "execution_count": 13,
   "id": "c989cb84",
   "metadata": {},
   "outputs": [
    {
     "data": {
      "text/html": [
       "<pre style=\"white-space:pre;overflow-x:auto;line-height:normal;font-family:Menlo,'DejaVu Sans Mono',consolas,'Courier New',monospace\"></pre>\n"
      ],
      "text/plain": []
     },
     "metadata": {},
     "output_type": "display_data"
    },
    {
     "data": {
      "text/plain": [
       "\u001b[1m(\u001b[0m\u001b[1m(\u001b[0m\u001b[1;36m17279\u001b[0m, \u001b[1;36m180\u001b[0m, \u001b[1;36m22\u001b[0m\u001b[1m)\u001b[0m, \u001b[1m(\u001b[0m\u001b[1;36m5760\u001b[0m, \u001b[1;36m180\u001b[0m, \u001b[1;36m22\u001b[0m\u001b[1m)\u001b[0m, \u001b[1m(\u001b[0m\u001b[1;36m5760\u001b[0m, \u001b[1;36m180\u001b[0m, \u001b[1;36m22\u001b[0m\u001b[1m)\u001b[0m, \u001b[1m(\u001b[0m\u001b[1;36m17279\u001b[0m, \u001b[1;36m27\u001b[0m\u001b[1m)\u001b[0m, \u001b[1m(\u001b[0m\u001b[1;36m5760\u001b[0m, \u001b[1;36m27\u001b[0m\u001b[1m)\u001b[0m, \u001b[1m(\u001b[0m\u001b[1;36m5760\u001b[0m, \u001b[1;36m27\u001b[0m\u001b[1m)\u001b[0m\u001b[1m)\u001b[0m"
      ]
     },
     "execution_count": 13,
     "metadata": {},
     "output_type": "execute_result"
    }
   ],
   "source": [
    "X_train.shape, X_test.shape, X_val.shape, y_train.shape, y_test.shape, y_val.shape"
   ]
  },
  {
   "cell_type": "markdown",
   "id": "38156ed7",
   "metadata": {},
   "source": [
    "### Data Augmentation"
   ]
  },
  {
   "cell_type": "code",
   "execution_count": 14,
   "id": "b6f0551f",
   "metadata": {},
   "outputs": [
    {
     "name": "stderr",
     "output_type": "stream",
     "text": [
      "                                                                                \r"
     ]
    }
   ],
   "source": [
    "labels = [\n",
    "    'Brushing Teeth',\n",
    "    'Changing Clothes',\n",
    "    'Cleaning',\n",
    "    'Going Out',\n",
    "    'Having Breakfast',\n",
    "    'Having Conversation',\n",
    "    'Having Dinner',\n",
    "    'Having Guest',\n",
    "    'Having Lunch',\n",
    "    'Having Shower',\n",
    "    'Having Snack',\n",
    "    'Laundry',\n",
    "    'Listening to Music',\n",
    "    'Napping',\n",
    "    'Other',\n",
    "    'Preparing Breakfast',\n",
    "    'Preparing Dinner',\n",
    "    'Preparing Lunch',\n",
    "    'Reading Book',\n",
    "    'Shaving',\n",
    "    'Sleeping',\n",
    "    'Studying',\n",
    "    'Talking on the Phone',\n",
    "    'Toileting',\n",
    "    'Using Internet',\n",
    "    'Washing Dishes',\n",
    "    'Watching TV'\n",
    "]\n",
    "\n",
    "columns = [\n",
    "    'AFTERNOON',\n",
    "    'EARLY_AFTERNOON',\n",
    "    'EARLY_EVENING',\n",
    "    'EVENING',\n",
    "    'LATE_AFTERNOON',\n",
    "    'LATE_MORNING',\n",
    "    'MORNING',\n",
    "    'NIGHT',\n",
    "    'Ph1',\n",
    "    'Ph2',\n",
    "    'Ir1',\n",
    "    'Fo1',\n",
    "    'Fo2',\n",
    "    'Di3',\n",
    "    'Di4',\n",
    "    'Ph3',\n",
    "    'Ph4',\n",
    "    'Ph5',\n",
    "    'Ph6',\n",
    "    'Co1',\n",
    "    'Co2',\n",
    "    'Co3',\n",
    "    'So1',\n",
    "    'So2',\n",
    "    'Di1',\n",
    "    'Di2',\n",
    "    'Te1',\n",
    "    'Fo3',\n",
    "]\n",
    "\n",
    "signi_sens_per_activity = {}\n",
    "\n",
    "for label in labels:\n",
    "    sensors = APM.filter(F.col(label) >= 20).select(\"Sensors\")\n",
    "    signi_sens_per_activity[label] = [columns.index(row.Sensors.replace(\"AP_\", \"\")) for row in sensors.collect()]"
   ]
  },
  {
   "cell_type": "code",
   "execution_count": 15,
   "id": "e1bf0f99",
   "metadata": {},
   "outputs": [],
   "source": [
    "def apply_rolling(sample):\n",
    "    \"\"\"\n",
    "    Apply rolling operation to the sample, shifting the rows by a random amount.\n",
    "    \n",
    "    Parameters:\n",
    "        sample (numpy.ndarray): The original sample.\n",
    "    \n",
    "    Returns:\n",
    "        numpy.ndarray: The sample with rolling operation applied.\n",
    "    \"\"\"\n",
    "    rolled_sample = np.copy(sample)\n",
    "    \n",
    "    # Randomly select a shift value\n",
    "    shift = np.random.randint(1, sample.shape[0])  # Choose a shift between 1 and the number of rows\n",
    "    \n",
    "    # Apply rolling operation\n",
    "    rolled_sample = np.roll(rolled_sample, shift=shift, axis=0)\n",
    "    \n",
    "    return rolled_sample\n",
    "\n",
    "def apply_noise(sample, crucial_sensors, noise_level=0.1):\n",
    "    \"\"\"\n",
    "    Apply noise to sensor data, adding noise only to non-crucial sensors.\n",
    "    \n",
    "    Parameters:\n",
    "        sample (numpy.ndarray): The original binary sample.\n",
    "        crucial_sensors (list): List containing crucial sensors indexes for each label.\n",
    "        noise_level (float): The proportion of non-crucial sensors to add noise to.\n",
    "    \n",
    "    Returns:\n",
    "        numpy.ndarray: The sample with noise applied.\n",
    "    \"\"\"\n",
    "    noisy_sample = np.copy(sample)\n",
    "    crucial_sensors = list(np.arange(8)) + crucial_sensors\n",
    "    \n",
    "    # Determine non-crucial sensors\n",
    "    non_crucial_sensors = [i for i in range(sample.shape[1]) if i not in crucial_sensors]\n",
    "    \n",
    "    # Calculate the number of non-crucial sensor values to add noise to\n",
    "    num_noise_values = int(noise_level * len(non_crucial_sensors) * sample.shape[0])\n",
    "    \n",
    "    # Randomly select non-crucial sensor values to add noise to\n",
    "    noise_values_indices = np.random.choice(non_crucial_sensors, size=num_noise_values, replace=True)\n",
    "    row_indices = np.random.choice(sample.shape[0], size=num_noise_values, replace=True)\n",
    "    \n",
    "    # Add noise to selected non-crucial sensor values\n",
    "    noisy_sample[row_indices, noise_values_indices] = 1 - noisy_sample[row_indices, noise_values_indices]\n",
    "    \n",
    "    return noisy_sample\n",
    "\n",
    "def generate_augmented_samples(\n",
    "        original_samples, \n",
    "        original_labels, \n",
    "        signi_sens_per_activity,\n",
    "        labels,\n",
    "        num_augmented_samples=3, \n",
    "        noise_level=0.1\n",
    "        ):\n",
    "    \"\"\"\n",
    "    Generate augmented samples from each original sample by applying noise and/or rolling transformations.\n",
    "    \n",
    "    Parameters:\n",
    "        original_samples (numpy.ndarray): original samples.\n",
    "        original_labels (numpy.ndarray): original labels\n",
    "        signi_sens_per_activity (dict of lists): Dictionary containing lists of crucial sensors for each activity\n",
    "        labels (list): List of labels values\n",
    "        num_augmented_samples (int): Number of augmented samples to generate from each original sample.\n",
    "        noise_level (float): The proportion of non-crucial sensor values to add noise to.\n",
    "    \n",
    "    Returns:\n",
    "        list of numpy.ndarray: List of augmented samples.\n",
    "    \"\"\"\n",
    "    \n",
    "    augmented_samples = []\n",
    "    augmented_samples_labels = []\n",
    "    \n",
    "    for sample, sample_label in tqdm(zip(original_samples, original_labels), total=len(original_samples)):\n",
    "\n",
    "        if sample_label[3] == 0 and sample_label[20] == 0 and sample_label[26] == 0 and sample_label[24] == 0:\n",
    "            crucial_sensors = []\n",
    "\n",
    "            for activity in np.where(sample_label == 1)[0]:\n",
    "                crucial_sensors += signi_sens_per_activity[labels[activity]]\n",
    "            \n",
    "            crucial_sensors = list(set(crucial_sensors))\n",
    "        \n",
    "            for _ in range(num_augmented_samples):\n",
    "\n",
    "                # Apply noise\n",
    "                noisy_sample = apply_noise(sample, crucial_sensors, noise_level)\n",
    "\n",
    "                # Apply rolling\n",
    "                rolled_sample = apply_rolling(sample)\n",
    "\n",
    "                # Apply noise and rolling\n",
    "                noisy_rolled_sample = apply_rolling(apply_noise(sample, crucial_sensors, noise_level))\n",
    "\n",
    "                # Add augmented samples to the list\n",
    "                augmented_samples.append(noisy_sample)\n",
    "                augmented_samples.append(rolled_sample)\n",
    "                augmented_samples.append(noisy_rolled_sample)\n",
    "                augmented_samples_labels.extend([sample_label] * 3)\n",
    "\n",
    "    return np.array(augmented_samples), np.array(augmented_samples_labels)"
   ]
  },
  {
   "cell_type": "code",
   "execution_count": 16,
   "id": "b1be858b",
   "metadata": {},
   "outputs": [
    {
     "name": "stderr",
     "output_type": "stream",
     "text": [
      "100%|██████████| 17279/17279 [00:01<00:00, 9097.82it/s]\n"
     ]
    }
   ],
   "source": [
    "num_augmented_samples = 3\n",
    "\n",
    "augmented_samples, augmented_samples_labels = generate_augmented_samples(X_train, y_train, signi_sens_per_activity, labels, num_augmented_samples=num_augmented_samples)"
   ]
  },
  {
   "cell_type": "code",
   "execution_count": 17,
   "id": "4a006452",
   "metadata": {},
   "outputs": [
    {
     "data": {
      "text/html": [
       "<pre style=\"white-space:pre;overflow-x:auto;line-height:normal;font-family:Menlo,'DejaVu Sans Mono',consolas,'Courier New',monospace\"></pre>\n"
      ],
      "text/plain": []
     },
     "metadata": {},
     "output_type": "display_data"
    },
    {
     "data": {
      "text/plain": [
       "\u001b[1m(\u001b[0m\u001b[1m(\u001b[0m\u001b[1;36m17279\u001b[0m, \u001b[1;36m180\u001b[0m, \u001b[1;36m22\u001b[0m\u001b[1m)\u001b[0m, \u001b[1m(\u001b[0m\u001b[1;36m17279\u001b[0m, \u001b[1;36m27\u001b[0m\u001b[1m)\u001b[0m, \u001b[1m(\u001b[0m\u001b[1;36m9162\u001b[0m, \u001b[1;36m180\u001b[0m, \u001b[1;36m22\u001b[0m\u001b[1m)\u001b[0m, \u001b[1m(\u001b[0m\u001b[1;36m9162\u001b[0m, \u001b[1;36m27\u001b[0m\u001b[1m)\u001b[0m\u001b[1m)\u001b[0m"
      ]
     },
     "execution_count": 17,
     "metadata": {},
     "output_type": "execute_result"
    }
   ],
   "source": [
    "X_train.shape, y_train.shape, augmented_samples.shape, augmented_samples_labels.shape"
   ]
  },
  {
   "cell_type": "code",
   "execution_count": 18,
   "id": "873d649c",
   "metadata": {},
   "outputs": [],
   "source": [
    "augmented_X_train = np.concatenate((X_train, augmented_samples), axis=0)\n",
    "augmented_y_train = np.concatenate((y_train, augmented_samples_labels), axis=0)"
   ]
  },
  {
   "cell_type": "code",
   "execution_count": 19,
   "id": "bc5eb60f",
   "metadata": {},
   "outputs": [
    {
     "data": {
      "text/html": [
       "<pre style=\"white-space:pre;overflow-x:auto;line-height:normal;font-family:Menlo,'DejaVu Sans Mono',consolas,'Courier New',monospace\"></pre>\n"
      ],
      "text/plain": []
     },
     "metadata": {},
     "output_type": "display_data"
    },
    {
     "data": {
      "text/plain": [
       "\u001b[1m(\u001b[0m\u001b[1m(\u001b[0m\u001b[1;36m26441\u001b[0m, \u001b[1;36m180\u001b[0m, \u001b[1;36m22\u001b[0m\u001b[1m)\u001b[0m, \u001b[1m(\u001b[0m\u001b[1;36m26441\u001b[0m, \u001b[1;36m27\u001b[0m\u001b[1m)\u001b[0m, \u001b[1m(\u001b[0m\u001b[1;36m5760\u001b[0m, \u001b[1;36m180\u001b[0m, \u001b[1;36m22\u001b[0m\u001b[1m)\u001b[0m, \u001b[1m(\u001b[0m\u001b[1;36m5760\u001b[0m, \u001b[1;36m27\u001b[0m\u001b[1m)\u001b[0m\u001b[1m)\u001b[0m"
      ]
     },
     "execution_count": 19,
     "metadata": {},
     "output_type": "execute_result"
    }
   ],
   "source": [
    "augmented_X_train.shape, augmented_y_train.shape, X_test.shape, y_test.shape"
   ]
  },
  {
   "cell_type": "code",
   "execution_count": 20,
   "id": "c948059c",
   "metadata": {},
   "outputs": [],
   "source": [
    "augmented_data = {\n",
    "    'augmented_X_train': augmented_X_train,\n",
    "    'augmented_y_train': augmented_y_train,\n",
    "    'X_test': X_test,\n",
    "    'y_test': y_test,\n",
    "    'X_val': X_val,\n",
    "    'y_val': y_val\n",
    "}"
   ]
  },
  {
   "cell_type": "code",
   "execution_count": 21,
   "id": "69a50a7a",
   "metadata": {},
   "outputs": [
    {
     "data": {
      "text/html": [
       "<pre style=\"white-space:pre;overflow-x:auto;line-height:normal;font-family:Menlo,'DejaVu Sans Mono',consolas,'Courier New',monospace\"><span style=\"color: #7fbfbf; text-decoration-color: #7fbfbf\">[05/08/24 17:45:08] </span><span style=\"color: #000080; text-decoration-color: #000080\">INFO    </span> Saving data to <span style=\"color: #008000; text-decoration-color: #008000\">'windowed_augmented_data_aras_A@pickle'</span>             <a href=\"file:///home/smartroom/miniconda3/envs/raftel/lib/python3.8/site-packages/kedro/io/data_catalog.py\" target=\"_blank\"><span style=\"color: #7f7f7f; text-decoration-color: #7f7f7f\">data_catalog.py</span></a><span style=\"color: #7f7f7f; text-decoration-color: #7f7f7f\">:</span><a href=\"file:///home/smartroom/miniconda3/envs/raftel/lib/python3.8/site-packages/kedro/io/data_catalog.py#382\" target=\"_blank\"><span style=\"color: #7f7f7f; text-decoration-color: #7f7f7f\">382</span></a>\n",
       "<span style=\"color: #7fbfbf; text-decoration-color: #7fbfbf\">                    </span>         <span style=\"font-weight: bold\">(</span>PickleDataSet<span style=\"font-weight: bold\">)</span><span style=\"color: #808000; text-decoration-color: #808000\">...</span>                                                 <span style=\"color: #7f7f7f; text-decoration-color: #7f7f7f\">                   </span>\n",
       "</pre>\n"
      ],
      "text/plain": [
       "\u001b[2;36m[05/08/24 17:45:08]\u001b[0m\u001b[2;36m \u001b[0m\u001b[34mINFO    \u001b[0m Saving data to \u001b[32m'windowed_augmented_data_aras_A@pickle'\u001b[0m             \u001b]8;id=825141;file:///home/smartroom/miniconda3/envs/raftel/lib/python3.8/site-packages/kedro/io/data_catalog.py\u001b\\\u001b[2mdata_catalog.py\u001b[0m\u001b]8;;\u001b\\\u001b[2m:\u001b[0m\u001b]8;id=24367;file:///home/smartroom/miniconda3/envs/raftel/lib/python3.8/site-packages/kedro/io/data_catalog.py#382\u001b\\\u001b[2m382\u001b[0m\u001b]8;;\u001b\\\n",
       "\u001b[2;36m                    \u001b[0m         \u001b[1m(\u001b[0mPickleDataSet\u001b[1m)\u001b[0m\u001b[33m...\u001b[0m                                                 \u001b[2m                   \u001b[0m\n"
      ]
     },
     "metadata": {},
     "output_type": "display_data"
    }
   ],
   "source": [
    "catalog.save(\"windowed_augmented_data_aras_A@pickle\", augmented_data)"
   ]
  },
  {
   "cell_type": "markdown",
   "id": "c5b12153",
   "metadata": {},
   "source": [
    "#### Tests"
   ]
  },
  {
   "cell_type": "code",
   "execution_count": null,
   "id": "a6dbe7c8",
   "metadata": {},
   "outputs": [],
   "source": [
    "import matplotlib.pyplot as plt\n",
    "import seaborn as sns"
   ]
  },
  {
   "cell_type": "markdown",
   "id": "f9c03c79",
   "metadata": {},
   "source": [
    "##### No Augmented"
   ]
  },
  {
   "cell_type": "code",
   "execution_count": null,
   "id": "cdd4b72e",
   "metadata": {},
   "outputs": [],
   "source": [
    "labels = [\n",
    "    'Brushing_Teeth',\n",
    "    'Changing_Clothes',\n",
    "    'Cleaning',\n",
    "    'Going_Out',\n",
    "    'Having_Breakfast',\n",
    "    'Having_Conversation',\n",
    "    'Having_Dinner',\n",
    "    'Having_Guest',\n",
    "    'Having_Lunch',\n",
    "    'Having_Shower',\n",
    "    'Having_Snack',\n",
    "    'Laundry',\n",
    "    'Listening_to_Music',\n",
    "    'Napping',\n",
    "    'Other',\n",
    "    'Preparing_Breakfast',\n",
    "    'Preparing_Dinner',\n",
    "    'Preparing_Lunch',\n",
    "    'Reading_Book',\n",
    "    'Shaving',\n",
    "    'Sleeping',\n",
    "    'Studying',\n",
    "    'Talking_on_the_Phone',\n",
    "    'Toileting',\n",
    "    'Using_Internet',\n",
    "    'Washing_Dishes',\n",
    "    'Watching_TV'\n",
    "]\n",
    "\n",
    "val_counts = y_train.sum(axis=0)\n",
    "plt.figure(figsize=(15,10))\n",
    "ax = sns.barplot(val_counts, alpha=0.8)\n",
    "plt.title(\"Instances per Activities\")\n",
    "plt.xlabel(\"Activities\")\n",
    "plt.ylabel(\"Instances\")\n",
    "plt.ylim(0, 11000)\n",
    "rects = ax.patches\n",
    "for rect, label, value in zip(rects, labels, val_counts):\n",
    "    height = rect.get_height()\n",
    "    ax.text(rect.get_x() + rect.get_width()/2, height+100, f\"{label} \\n ({value})\", ha=\"center\", va=\"bottom\", rotation=90, fontsize=10)\n",
    "plt.show()"
   ]
  },
  {
   "cell_type": "markdown",
   "id": "428b82d5",
   "metadata": {},
   "source": [
    "##### Augmented"
   ]
  },
  {
   "cell_type": "code",
   "execution_count": null,
   "id": "4abe8395",
   "metadata": {},
   "outputs": [],
   "source": [
    "val_counts = augmented_y_train.sum(axis=0)\n",
    "plt.figure(figsize=(15,10))\n",
    "ax = sns.barplot(val_counts, alpha=0.8)\n",
    "plt.title(\"Instances per Activities\")\n",
    "plt.xlabel(\"Activities\")\n",
    "plt.ylabel(\"Instances\")\n",
    "plt.ylim(0, 11000)\n",
    "rects = ax.patches\n",
    "for rect, label, value in zip(rects, labels, val_counts):\n",
    "    height = rect.get_height()\n",
    "    ax.text(rect.get_x() + rect.get_width()/2, height+100, f\"{label} \\n ({value})\", ha=\"center\", va=\"bottom\", rotation=90, fontsize=10)\n",
    "plt.show()"
   ]
  }
 ],
 "metadata": {
  "kernelspec": {
   "display_name": "Python 3",
   "language": "python",
   "name": "python3"
  },
  "language_info": {
   "codemirror_mode": {
    "name": "ipython",
    "version": 3
   },
   "file_extension": ".py",
   "mimetype": "text/x-python",
   "name": "python",
   "nbconvert_exporter": "python",
   "pygments_lexer": "ipython3",
   "version": "3.8.18"
  }
 },
 "nbformat": 4,
 "nbformat_minor": 5
}
