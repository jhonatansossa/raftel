{
 "cells": [
  {
   "cell_type": "code",
   "execution_count": 1,
   "id": "4f2033be-7faa-49c9-b27a-47952c9ab3fc",
   "metadata": {},
   "outputs": [
    {
     "data": {
      "text/html": [
       "<pre style=\"white-space:pre;overflow-x:auto;line-height:normal;font-family:Menlo,'DejaVu Sans Mono',consolas,'Courier New',monospace\"><span style=\"color: #7fbfbf; text-decoration-color: #7fbfbf\">[02/12/24 18:16:27] </span><span style=\"color: #800000; text-decoration-color: #800000\">WARNING </span> <span style=\"color: #800080; text-decoration-color: #800080\">/home/smartroom/miniconda3/envs/raftel/lib/python3.8/site-packages/ked</span> <a href=\"file:///home/smartroom/miniconda3/envs/raftel/lib/python3.8/warnings.py\" target=\"_blank\"><span style=\"color: #7f7f7f; text-decoration-color: #7f7f7f\">warnings.py</span></a><span style=\"color: #7f7f7f; text-decoration-color: #7f7f7f\">:</span><a href=\"file:///home/smartroom/miniconda3/envs/raftel/lib/python3.8/warnings.py#109\" target=\"_blank\"><span style=\"color: #7f7f7f; text-decoration-color: #7f7f7f\">109</span></a>\n",
       "<span style=\"color: #7fbfbf; text-decoration-color: #7fbfbf\">                    </span>         <span style=\"color: #800080; text-decoration-color: #800080\">ro/extras/extensions/</span><span style=\"color: #ff00ff; text-decoration-color: #ff00ff\">ipython.py</span>:<span style=\"color: #008080; text-decoration-color: #008080; font-weight: bold\">18</span>: DeprecationWarning:                <span style=\"color: #7f7f7f; text-decoration-color: #7f7f7f\">               </span>\n",
       "<span style=\"color: #7fbfbf; text-decoration-color: #7fbfbf\">                    </span>         kedro.extras.extensions.ipython should be accessed only using the      <span style=\"color: #7f7f7f; text-decoration-color: #7f7f7f\">               </span>\n",
       "<span style=\"color: #7fbfbf; text-decoration-color: #7fbfbf\">                    </span>         alias kedro.ipython. The unaliased name will be removed in Kedro       <span style=\"color: #7f7f7f; text-decoration-color: #7f7f7f\">               </span>\n",
       "<span style=\"color: #7fbfbf; text-decoration-color: #7fbfbf\">                    </span>         <span style=\"color: #008080; text-decoration-color: #008080; font-weight: bold\">0.19</span>.<span style=\"color: #008080; text-decoration-color: #008080; font-weight: bold\">0</span>.                                                                <span style=\"color: #7f7f7f; text-decoration-color: #7f7f7f\">               </span>\n",
       "<span style=\"color: #7fbfbf; text-decoration-color: #7fbfbf\">                    </span>           <span style=\"color: #800080; text-decoration-color: #800080; font-weight: bold\">warnings.warn</span><span style=\"font-weight: bold\">(</span>                                                       <span style=\"color: #7f7f7f; text-decoration-color: #7f7f7f\">               </span>\n",
       "<span style=\"color: #7fbfbf; text-decoration-color: #7fbfbf\">                    </span>                                                                                <span style=\"color: #7f7f7f; text-decoration-color: #7f7f7f\">               </span>\n",
       "</pre>\n"
      ],
      "text/plain": [
       "\u001b[2;36m[02/12/24 18:16:27]\u001b[0m\u001b[2;36m \u001b[0m\u001b[31mWARNING \u001b[0m \u001b[35m/home/smartroom/miniconda3/envs/raftel/lib/python3.8/site-packages/ked\u001b[0m \u001b]8;id=62546;file:///home/smartroom/miniconda3/envs/raftel/lib/python3.8/warnings.py\u001b\\\u001b[2mwarnings.py\u001b[0m\u001b]8;;\u001b\\\u001b[2m:\u001b[0m\u001b]8;id=965965;file:///home/smartroom/miniconda3/envs/raftel/lib/python3.8/warnings.py#109\u001b\\\u001b[2m109\u001b[0m\u001b]8;;\u001b\\\n",
       "\u001b[2;36m                    \u001b[0m         \u001b[35mro/extras/extensions/\u001b[0m\u001b[95mipython.py\u001b[0m:\u001b[1;36m18\u001b[0m: DeprecationWarning:                \u001b[2m               \u001b[0m\n",
       "\u001b[2;36m                    \u001b[0m         kedro.extras.extensions.ipython should be accessed only using the      \u001b[2m               \u001b[0m\n",
       "\u001b[2;36m                    \u001b[0m         alias kedro.ipython. The unaliased name will be removed in Kedro       \u001b[2m               \u001b[0m\n",
       "\u001b[2;36m                    \u001b[0m         \u001b[1;36m0.19\u001b[0m.\u001b[1;36m0\u001b[0m.                                                                \u001b[2m               \u001b[0m\n",
       "\u001b[2;36m                    \u001b[0m           \u001b[1;35mwarnings.warn\u001b[0m\u001b[1m(\u001b[0m                                                       \u001b[2m               \u001b[0m\n",
       "\u001b[2;36m                    \u001b[0m                                                                                \u001b[2m               \u001b[0m\n"
      ]
     },
     "metadata": {},
     "output_type": "display_data"
    },
    {
     "data": {
      "text/html": [
       "<pre style=\"white-space:pre;overflow-x:auto;line-height:normal;font-family:Menlo,'DejaVu Sans Mono',consolas,'Courier New',monospace\"><span style=\"color: #7fbfbf; text-decoration-color: #7fbfbf\">                    </span><span style=\"color: #000080; text-decoration-color: #000080\">INFO    </span> Resolved project path as: <span style=\"color: #800080; text-decoration-color: #800080\">/home/smartroom/jhonatan/</span><span style=\"color: #ff00ff; text-decoration-color: #ff00ff\">raftel.</span>             <a href=\"file:///home/smartroom/miniconda3/envs/raftel/lib/python3.8/site-packages/kedro/ipython/__init__.py\" target=\"_blank\"><span style=\"color: #7f7f7f; text-decoration-color: #7f7f7f\">__init__.py</span></a><span style=\"color: #7f7f7f; text-decoration-color: #7f7f7f\">:</span><a href=\"file:///home/smartroom/miniconda3/envs/raftel/lib/python3.8/site-packages/kedro/ipython/__init__.py#134\" target=\"_blank\"><span style=\"color: #7f7f7f; text-decoration-color: #7f7f7f\">134</span></a>\n",
       "<span style=\"color: #7fbfbf; text-decoration-color: #7fbfbf\">                    </span>         To set a different path, run <span style=\"color: #008000; text-decoration-color: #008000\">'%reload_kedro &lt;project_root&gt;'</span>            <span style=\"color: #7f7f7f; text-decoration-color: #7f7f7f\">               </span>\n",
       "</pre>\n"
      ],
      "text/plain": [
       "\u001b[2;36m                   \u001b[0m\u001b[2;36m \u001b[0m\u001b[34mINFO    \u001b[0m Resolved project path as: \u001b[35m/home/smartroom/jhonatan/\u001b[0m\u001b[95mraftel.\u001b[0m             \u001b]8;id=315700;file:///home/smartroom/miniconda3/envs/raftel/lib/python3.8/site-packages/kedro/ipython/__init__.py\u001b\\\u001b[2m__init__.py\u001b[0m\u001b]8;;\u001b\\\u001b[2m:\u001b[0m\u001b]8;id=573649;file:///home/smartroom/miniconda3/envs/raftel/lib/python3.8/site-packages/kedro/ipython/__init__.py#134\u001b\\\u001b[2m134\u001b[0m\u001b]8;;\u001b\\\n",
       "\u001b[2;36m                    \u001b[0m         To set a different path, run \u001b[32m'%reload_kedro \u001b[0m\u001b[32m<\u001b[0m\u001b[32mproject_root\u001b[0m\u001b[32m>\u001b[0m\u001b[32m'\u001b[0m            \u001b[2m               \u001b[0m\n"
      ]
     },
     "metadata": {},
     "output_type": "display_data"
    },
    {
     "name": "stderr",
     "output_type": "stream",
     "text": [
      "your 131072x1 screen size is bogus. expect trouble\n",
      "24/02/12 18:16:31 WARN Utils: Your hostname, WIN-0B8Q3RIVNP0 resolves to a loopback address: 127.0.1.1; using 172.31.114.225 instead (on interface eth0)\n",
      "24/02/12 18:16:31 WARN Utils: Set SPARK_LOCAL_IP if you need to bind to another address\n"
     ]
    },
    {
     "name": "stdout",
     "output_type": "stream",
     "text": [
      ":: loading settings :: url = jar:file:/home/smartroom/miniconda3/envs/raftel/lib/python3.8/site-packages/pyspark/jars/ivy-2.5.1.jar!/org/apache/ivy/core/settings/ivysettings.xml\n"
     ]
    },
    {
     "name": "stderr",
     "output_type": "stream",
     "text": [
      "Ivy Default Cache set to: /home/smartroom/.ivy2/cache\n",
      "The jars for the packages stored in: /home/smartroom/.ivy2/jars\n",
      "io.delta#delta-core_2.12 added as a dependency\n",
      "org.apache.hadoop#hadoop-aws added as a dependency\n",
      "software.aws.rds#aws-mysql-jdbc added as a dependency\n",
      ":: resolving dependencies :: org.apache.spark#spark-submit-parent-7c388cb7-917a-4165-b740-441ada773ca5;1.0\n",
      "\tconfs: [default]\n",
      "\tfound io.delta#delta-core_2.12;2.4.0 in central\n",
      "\tfound io.delta#delta-storage;2.4.0 in central\n",
      "\tfound org.antlr#antlr4-runtime;4.9.3 in central\n",
      "\tfound org.apache.hadoop#hadoop-aws;3.3.2 in central\n",
      "\tfound com.amazonaws#aws-java-sdk-bundle;1.11.1026 in central\n",
      "\tfound org.wildfly.openssl#wildfly-openssl;1.0.7.Final in central\n",
      "\tfound software.aws.rds#aws-mysql-jdbc;1.0.0 in central\n",
      ":: resolution report :: resolve 363ms :: artifacts dl 25ms\n",
      "\t:: modules in use:\n",
      "\tcom.amazonaws#aws-java-sdk-bundle;1.11.1026 from central in [default]\n",
      "\tio.delta#delta-core_2.12;2.4.0 from central in [default]\n",
      "\tio.delta#delta-storage;2.4.0 from central in [default]\n",
      "\torg.antlr#antlr4-runtime;4.9.3 from central in [default]\n",
      "\torg.apache.hadoop#hadoop-aws;3.3.2 from central in [default]\n",
      "\torg.wildfly.openssl#wildfly-openssl;1.0.7.Final from central in [default]\n",
      "\tsoftware.aws.rds#aws-mysql-jdbc;1.0.0 from central in [default]\n",
      "\t---------------------------------------------------------------------\n",
      "\t|                  |            modules            ||   artifacts   |\n",
      "\t|       conf       | number| search|dwnlded|evicted|| number|dwnlded|\n",
      "\t---------------------------------------------------------------------\n",
      "\t|      default     |   7   |   0   |   0   |   0   ||   7   |   0   |\n",
      "\t---------------------------------------------------------------------\n",
      ":: retrieving :: org.apache.spark#spark-submit-parent-7c388cb7-917a-4165-b740-441ada773ca5\n",
      "\tconfs: [default]\n",
      "\t0 artifacts copied, 7 already retrieved (0kB/13ms)\n",
      "24/02/12 18:16:33 WARN NativeCodeLoader: Unable to load native-hadoop library for your platform... using builtin-java classes where applicable\n",
      "Setting default log level to \"WARN\".\n",
      "To adjust logging level use sc.setLogLevel(newLevel). For SparkR, use setLogLevel(newLevel).\n",
      "24/02/12 18:16:35 WARN Utils: Service 'SparkUI' could not bind on port 4051. Attempting port 4052.\n",
      "24/02/12 18:16:35 WARN Utils: Service 'SparkUI' could not bind on port 4052. Attempting port 4053.\n",
      "24/02/12 18:16:35 WARN Utils: Service 'SparkUI' could not bind on port 4053. Attempting port 4054.\n"
     ]
    },
    {
     "name": "stdout",
     "output_type": "stream",
     "text": [
      "http://172.31.114.225:4054\n"
     ]
    },
    {
     "data": {
      "text/html": [
       "<pre style=\"white-space:pre;overflow-x:auto;line-height:normal;font-family:Menlo,'DejaVu Sans Mono',consolas,'Courier New',monospace\"><span style=\"color: #7fbfbf; text-decoration-color: #7fbfbf\">[02/12/24 18:16:39] </span><span style=\"color: #000080; text-decoration-color: #000080\">INFO    </span> Kedro project raftel                                                   <a href=\"file:///home/smartroom/miniconda3/envs/raftel/lib/python3.8/site-packages/kedro/ipython/__init__.py\" target=\"_blank\"><span style=\"color: #7f7f7f; text-decoration-color: #7f7f7f\">__init__.py</span></a><span style=\"color: #7f7f7f; text-decoration-color: #7f7f7f\">:</span><a href=\"file:///home/smartroom/miniconda3/envs/raftel/lib/python3.8/site-packages/kedro/ipython/__init__.py#103\" target=\"_blank\"><span style=\"color: #7f7f7f; text-decoration-color: #7f7f7f\">103</span></a>\n",
       "</pre>\n"
      ],
      "text/plain": [
       "\u001b[2;36m[02/12/24 18:16:39]\u001b[0m\u001b[2;36m \u001b[0m\u001b[34mINFO    \u001b[0m Kedro project raftel                                                   \u001b]8;id=83471;file:///home/smartroom/miniconda3/envs/raftel/lib/python3.8/site-packages/kedro/ipython/__init__.py\u001b\\\u001b[2m__init__.py\u001b[0m\u001b]8;;\u001b\\\u001b[2m:\u001b[0m\u001b]8;id=816886;file:///home/smartroom/miniconda3/envs/raftel/lib/python3.8/site-packages/kedro/ipython/__init__.py#103\u001b\\\u001b[2m103\u001b[0m\u001b]8;;\u001b\\\n"
      ]
     },
     "metadata": {},
     "output_type": "display_data"
    },
    {
     "data": {
      "text/html": [
       "<pre style=\"white-space:pre;overflow-x:auto;line-height:normal;font-family:Menlo,'DejaVu Sans Mono',consolas,'Courier New',monospace\"><span style=\"color: #7fbfbf; text-decoration-color: #7fbfbf\">                    </span><span style=\"color: #000080; text-decoration-color: #000080\">INFO    </span> Defined global variable <span style=\"color: #008000; text-decoration-color: #008000\">'context'</span>, <span style=\"color: #008000; text-decoration-color: #008000\">'session'</span>, <span style=\"color: #008000; text-decoration-color: #008000\">'catalog'</span> and            <a href=\"file:///home/smartroom/miniconda3/envs/raftel/lib/python3.8/site-packages/kedro/ipython/__init__.py\" target=\"_blank\"><span style=\"color: #7f7f7f; text-decoration-color: #7f7f7f\">__init__.py</span></a><span style=\"color: #7f7f7f; text-decoration-color: #7f7f7f\">:</span><a href=\"file:///home/smartroom/miniconda3/envs/raftel/lib/python3.8/site-packages/kedro/ipython/__init__.py#104\" target=\"_blank\"><span style=\"color: #7f7f7f; text-decoration-color: #7f7f7f\">104</span></a>\n",
       "<span style=\"color: #7fbfbf; text-decoration-color: #7fbfbf\">                    </span>         <span style=\"color: #008000; text-decoration-color: #008000\">'pipelines'</span>                                                            <span style=\"color: #7f7f7f; text-decoration-color: #7f7f7f\">               </span>\n",
       "</pre>\n"
      ],
      "text/plain": [
       "\u001b[2;36m                   \u001b[0m\u001b[2;36m \u001b[0m\u001b[34mINFO    \u001b[0m Defined global variable \u001b[32m'context'\u001b[0m, \u001b[32m'session'\u001b[0m, \u001b[32m'catalog'\u001b[0m and            \u001b]8;id=503535;file:///home/smartroom/miniconda3/envs/raftel/lib/python3.8/site-packages/kedro/ipython/__init__.py\u001b\\\u001b[2m__init__.py\u001b[0m\u001b]8;;\u001b\\\u001b[2m:\u001b[0m\u001b]8;id=539836;file:///home/smartroom/miniconda3/envs/raftel/lib/python3.8/site-packages/kedro/ipython/__init__.py#104\u001b\\\u001b[2m104\u001b[0m\u001b]8;;\u001b\\\n",
       "\u001b[2;36m                    \u001b[0m         \u001b[32m'pipelines'\u001b[0m                                                            \u001b[2m               \u001b[0m\n"
      ]
     },
     "metadata": {},
     "output_type": "display_data"
    },
    {
     "data": {
      "text/html": [
       "<pre style=\"white-space:pre;overflow-x:auto;line-height:normal;font-family:Menlo,'DejaVu Sans Mono',consolas,'Courier New',monospace\"><span style=\"color: #7fbfbf; text-decoration-color: #7fbfbf\">[02/12/24 18:16:42] </span><span style=\"color: #800000; text-decoration-color: #800000\">WARNING </span> <span style=\"color: #800080; text-decoration-color: #800080\">/home/smartroom/miniconda3/envs/raftel/lib/python3.8/site-packages/ked</span> <a href=\"file:///home/smartroom/miniconda3/envs/raftel/lib/python3.8/warnings.py\" target=\"_blank\"><span style=\"color: #7f7f7f; text-decoration-color: #7f7f7f\">warnings.py</span></a><span style=\"color: #7f7f7f; text-decoration-color: #7f7f7f\">:</span><a href=\"file:///home/smartroom/miniconda3/envs/raftel/lib/python3.8/warnings.py#109\" target=\"_blank\"><span style=\"color: #7f7f7f; text-decoration-color: #7f7f7f\">109</span></a>\n",
       "<span style=\"color: #7fbfbf; text-decoration-color: #7fbfbf\">                    </span>         <span style=\"color: #800080; text-decoration-color: #800080\">ro_viz/api/graphql/</span><span style=\"color: #ff00ff; text-decoration-color: #ff00ff\">router.py</span>:<span style=\"color: #008080; text-decoration-color: #008080; font-weight: bold\">10</span>: DeprecationWarning: The `graphiql`    <span style=\"color: #7f7f7f; text-decoration-color: #7f7f7f\">               </span>\n",
       "<span style=\"color: #7fbfbf; text-decoration-color: #7fbfbf\">                    </span>         argument is deprecated in favor of `graphql_ide`                       <span style=\"color: #7f7f7f; text-decoration-color: #7f7f7f\">               </span>\n",
       "<span style=\"color: #7fbfbf; text-decoration-color: #7fbfbf\">                    </span>           graphql_app: GraphQL = <span style=\"color: #800080; text-decoration-color: #800080; font-weight: bold\">GraphQL</span><span style=\"font-weight: bold\">(</span>schema, <span style=\"color: #808000; text-decoration-color: #808000\">graphiql</span>=<span style=\"color: #ff0000; text-decoration-color: #ff0000; font-style: italic\">False</span><span style=\"font-weight: bold\">)</span>               <span style=\"color: #7f7f7f; text-decoration-color: #7f7f7f\">               </span>\n",
       "<span style=\"color: #7fbfbf; text-decoration-color: #7fbfbf\">                    </span>                                                                                <span style=\"color: #7f7f7f; text-decoration-color: #7f7f7f\">               </span>\n",
       "</pre>\n"
      ],
      "text/plain": [
       "\u001b[2;36m[02/12/24 18:16:42]\u001b[0m\u001b[2;36m \u001b[0m\u001b[31mWARNING \u001b[0m \u001b[35m/home/smartroom/miniconda3/envs/raftel/lib/python3.8/site-packages/ked\u001b[0m \u001b]8;id=235477;file:///home/smartroom/miniconda3/envs/raftel/lib/python3.8/warnings.py\u001b\\\u001b[2mwarnings.py\u001b[0m\u001b]8;;\u001b\\\u001b[2m:\u001b[0m\u001b]8;id=630130;file:///home/smartroom/miniconda3/envs/raftel/lib/python3.8/warnings.py#109\u001b\\\u001b[2m109\u001b[0m\u001b]8;;\u001b\\\n",
       "\u001b[2;36m                    \u001b[0m         \u001b[35mro_viz/api/graphql/\u001b[0m\u001b[95mrouter.py\u001b[0m:\u001b[1;36m10\u001b[0m: DeprecationWarning: The `graphiql`    \u001b[2m               \u001b[0m\n",
       "\u001b[2;36m                    \u001b[0m         argument is deprecated in favor of `graphql_ide`                       \u001b[2m               \u001b[0m\n",
       "\u001b[2;36m                    \u001b[0m           graphql_app: GraphQL = \u001b[1;35mGraphQL\u001b[0m\u001b[1m(\u001b[0mschema, \u001b[33mgraphiql\u001b[0m=\u001b[3;91mFalse\u001b[0m\u001b[1m)\u001b[0m               \u001b[2m               \u001b[0m\n",
       "\u001b[2;36m                    \u001b[0m                                                                                \u001b[2m               \u001b[0m\n"
      ]
     },
     "metadata": {},
     "output_type": "display_data"
    },
    {
     "data": {
      "text/html": [
       "<pre style=\"white-space:pre;overflow-x:auto;line-height:normal;font-family:Menlo,'DejaVu Sans Mono',consolas,'Courier New',monospace\"><span style=\"color: #7fbfbf; text-decoration-color: #7fbfbf\">[02/12/24 18:16:43] </span><span style=\"color: #000080; text-decoration-color: #000080\">INFO    </span> Registered line magic <span style=\"color: #008000; text-decoration-color: #008000\">'run_viz'</span>                                        <a href=\"file:///home/smartroom/miniconda3/envs/raftel/lib/python3.8/site-packages/kedro/ipython/__init__.py\" target=\"_blank\"><span style=\"color: #7f7f7f; text-decoration-color: #7f7f7f\">__init__.py</span></a><span style=\"color: #7f7f7f; text-decoration-color: #7f7f7f\">:</span><a href=\"file:///home/smartroom/miniconda3/envs/raftel/lib/python3.8/site-packages/kedro/ipython/__init__.py#110\" target=\"_blank\"><span style=\"color: #7f7f7f; text-decoration-color: #7f7f7f\">110</span></a>\n",
       "</pre>\n"
      ],
      "text/plain": [
       "\u001b[2;36m[02/12/24 18:16:43]\u001b[0m\u001b[2;36m \u001b[0m\u001b[34mINFO    \u001b[0m Registered line magic \u001b[32m'run_viz'\u001b[0m                                        \u001b]8;id=392182;file:///home/smartroom/miniconda3/envs/raftel/lib/python3.8/site-packages/kedro/ipython/__init__.py\u001b\\\u001b[2m__init__.py\u001b[0m\u001b]8;;\u001b\\\u001b[2m:\u001b[0m\u001b]8;id=646033;file:///home/smartroom/miniconda3/envs/raftel/lib/python3.8/site-packages/kedro/ipython/__init__.py#110\u001b\\\u001b[2m110\u001b[0m\u001b]8;;\u001b\\\n"
      ]
     },
     "metadata": {},
     "output_type": "display_data"
    }
   ],
   "source": [
    "%load_ext kedro.extras.extensions.ipython"
   ]
  },
  {
   "cell_type": "code",
   "execution_count": 2,
   "id": "3b380379-9f92-4cdc-b083-20fe637039f0",
   "metadata": {},
   "outputs": [
    {
     "data": {
      "text/html": [
       "<pre style=\"white-space:pre;overflow-x:auto;line-height:normal;font-family:Menlo,'DejaVu Sans Mono',consolas,'Courier New',monospace\"><span style=\"color: #7fbfbf; text-decoration-color: #7fbfbf\">                    </span><span style=\"color: #000080; text-decoration-color: #000080\">INFO    </span> Resolved project path as: <span style=\"color: #800080; text-decoration-color: #800080\">/home/smartroom/jhonatan/</span><span style=\"color: #ff00ff; text-decoration-color: #ff00ff\">raftel.</span>             <a href=\"file:///home/smartroom/miniconda3/envs/raftel/lib/python3.8/site-packages/kedro/ipython/__init__.py\" target=\"_blank\"><span style=\"color: #7f7f7f; text-decoration-color: #7f7f7f\">__init__.py</span></a><span style=\"color: #7f7f7f; text-decoration-color: #7f7f7f\">:</span><a href=\"file:///home/smartroom/miniconda3/envs/raftel/lib/python3.8/site-packages/kedro/ipython/__init__.py#134\" target=\"_blank\"><span style=\"color: #7f7f7f; text-decoration-color: #7f7f7f\">134</span></a>\n",
       "<span style=\"color: #7fbfbf; text-decoration-color: #7fbfbf\">                    </span>         To set a different path, run <span style=\"color: #008000; text-decoration-color: #008000\">'%reload_kedro &lt;project_root&gt;'</span>            <span style=\"color: #7f7f7f; text-decoration-color: #7f7f7f\">               </span>\n",
       "</pre>\n"
      ],
      "text/plain": [
       "\u001b[2;36m                   \u001b[0m\u001b[2;36m \u001b[0m\u001b[34mINFO    \u001b[0m Resolved project path as: \u001b[35m/home/smartroom/jhonatan/\u001b[0m\u001b[95mraftel.\u001b[0m             \u001b]8;id=814714;file:///home/smartroom/miniconda3/envs/raftel/lib/python3.8/site-packages/kedro/ipython/__init__.py\u001b\\\u001b[2m__init__.py\u001b[0m\u001b]8;;\u001b\\\u001b[2m:\u001b[0m\u001b]8;id=580395;file:///home/smartroom/miniconda3/envs/raftel/lib/python3.8/site-packages/kedro/ipython/__init__.py#134\u001b\\\u001b[2m134\u001b[0m\u001b]8;;\u001b\\\n",
       "\u001b[2;36m                    \u001b[0m         To set a different path, run \u001b[32m'%reload_kedro \u001b[0m\u001b[32m<\u001b[0m\u001b[32mproject_root\u001b[0m\u001b[32m>\u001b[0m\u001b[32m'\u001b[0m            \u001b[2m               \u001b[0m\n"
      ]
     },
     "metadata": {},
     "output_type": "display_data"
    },
    {
     "data": {
      "text/html": [
       "<pre style=\"white-space:pre;overflow-x:auto;line-height:normal;font-family:Menlo,'DejaVu Sans Mono',consolas,'Courier New',monospace\"><span style=\"color: #7fbfbf; text-decoration-color: #7fbfbf\">[02/12/24 18:16:43] </span><span style=\"color: #000080; text-decoration-color: #000080\">INFO    </span> Kedro project raftel                                                   <a href=\"file:///home/smartroom/miniconda3/envs/raftel/lib/python3.8/site-packages/kedro/ipython/__init__.py\" target=\"_blank\"><span style=\"color: #7f7f7f; text-decoration-color: #7f7f7f\">__init__.py</span></a><span style=\"color: #7f7f7f; text-decoration-color: #7f7f7f\">:</span><a href=\"file:///home/smartroom/miniconda3/envs/raftel/lib/python3.8/site-packages/kedro/ipython/__init__.py#103\" target=\"_blank\"><span style=\"color: #7f7f7f; text-decoration-color: #7f7f7f\">103</span></a>\n",
       "</pre>\n"
      ],
      "text/plain": [
       "\u001b[2;36m[02/12/24 18:16:43]\u001b[0m\u001b[2;36m \u001b[0m\u001b[34mINFO    \u001b[0m Kedro project raftel                                                   \u001b]8;id=746470;file:///home/smartroom/miniconda3/envs/raftel/lib/python3.8/site-packages/kedro/ipython/__init__.py\u001b\\\u001b[2m__init__.py\u001b[0m\u001b]8;;\u001b\\\u001b[2m:\u001b[0m\u001b]8;id=417218;file:///home/smartroom/miniconda3/envs/raftel/lib/python3.8/site-packages/kedro/ipython/__init__.py#103\u001b\\\u001b[2m103\u001b[0m\u001b]8;;\u001b\\\n"
      ]
     },
     "metadata": {},
     "output_type": "display_data"
    },
    {
     "data": {
      "text/html": [
       "<pre style=\"white-space:pre;overflow-x:auto;line-height:normal;font-family:Menlo,'DejaVu Sans Mono',consolas,'Courier New',monospace\"><span style=\"color: #7fbfbf; text-decoration-color: #7fbfbf\">                    </span><span style=\"color: #000080; text-decoration-color: #000080\">INFO    </span> Defined global variable <span style=\"color: #008000; text-decoration-color: #008000\">'context'</span>, <span style=\"color: #008000; text-decoration-color: #008000\">'session'</span>, <span style=\"color: #008000; text-decoration-color: #008000\">'catalog'</span> and            <a href=\"file:///home/smartroom/miniconda3/envs/raftel/lib/python3.8/site-packages/kedro/ipython/__init__.py\" target=\"_blank\"><span style=\"color: #7f7f7f; text-decoration-color: #7f7f7f\">__init__.py</span></a><span style=\"color: #7f7f7f; text-decoration-color: #7f7f7f\">:</span><a href=\"file:///home/smartroom/miniconda3/envs/raftel/lib/python3.8/site-packages/kedro/ipython/__init__.py#104\" target=\"_blank\"><span style=\"color: #7f7f7f; text-decoration-color: #7f7f7f\">104</span></a>\n",
       "<span style=\"color: #7fbfbf; text-decoration-color: #7fbfbf\">                    </span>         <span style=\"color: #008000; text-decoration-color: #008000\">'pipelines'</span>                                                            <span style=\"color: #7f7f7f; text-decoration-color: #7f7f7f\">               </span>\n",
       "</pre>\n"
      ],
      "text/plain": [
       "\u001b[2;36m                   \u001b[0m\u001b[2;36m \u001b[0m\u001b[34mINFO    \u001b[0m Defined global variable \u001b[32m'context'\u001b[0m, \u001b[32m'session'\u001b[0m, \u001b[32m'catalog'\u001b[0m and            \u001b]8;id=364082;file:///home/smartroom/miniconda3/envs/raftel/lib/python3.8/site-packages/kedro/ipython/__init__.py\u001b\\\u001b[2m__init__.py\u001b[0m\u001b]8;;\u001b\\\u001b[2m:\u001b[0m\u001b]8;id=809797;file:///home/smartroom/miniconda3/envs/raftel/lib/python3.8/site-packages/kedro/ipython/__init__.py#104\u001b\\\u001b[2m104\u001b[0m\u001b]8;;\u001b\\\n",
       "\u001b[2;36m                    \u001b[0m         \u001b[32m'pipelines'\u001b[0m                                                            \u001b[2m               \u001b[0m\n"
      ]
     },
     "metadata": {},
     "output_type": "display_data"
    },
    {
     "data": {
      "text/html": [
       "<pre style=\"white-space:pre;overflow-x:auto;line-height:normal;font-family:Menlo,'DejaVu Sans Mono',consolas,'Courier New',monospace\"><span style=\"color: #7fbfbf; text-decoration-color: #7fbfbf\">                    </span><span style=\"color: #000080; text-decoration-color: #000080\">INFO    </span> Registered line magic <span style=\"color: #008000; text-decoration-color: #008000\">'run_viz'</span>                                        <a href=\"file:///home/smartroom/miniconda3/envs/raftel/lib/python3.8/site-packages/kedro/ipython/__init__.py\" target=\"_blank\"><span style=\"color: #7f7f7f; text-decoration-color: #7f7f7f\">__init__.py</span></a><span style=\"color: #7f7f7f; text-decoration-color: #7f7f7f\">:</span><a href=\"file:///home/smartroom/miniconda3/envs/raftel/lib/python3.8/site-packages/kedro/ipython/__init__.py#110\" target=\"_blank\"><span style=\"color: #7f7f7f; text-decoration-color: #7f7f7f\">110</span></a>\n",
       "</pre>\n"
      ],
      "text/plain": [
       "\u001b[2;36m                   \u001b[0m\u001b[2;36m \u001b[0m\u001b[34mINFO    \u001b[0m Registered line magic \u001b[32m'run_viz'\u001b[0m                                        \u001b]8;id=291153;file:///home/smartroom/miniconda3/envs/raftel/lib/python3.8/site-packages/kedro/ipython/__init__.py\u001b\\\u001b[2m__init__.py\u001b[0m\u001b]8;;\u001b\\\u001b[2m:\u001b[0m\u001b]8;id=506546;file:///home/smartroom/miniconda3/envs/raftel/lib/python3.8/site-packages/kedro/ipython/__init__.py#110\u001b\\\u001b[2m110\u001b[0m\u001b]8;;\u001b\\\n"
      ]
     },
     "metadata": {},
     "output_type": "display_data"
    }
   ],
   "source": [
    "%reload_kedro"
   ]
  },
  {
   "cell_type": "code",
   "execution_count": 3,
   "id": "b9a8f85f-4a76-4bb0-9cd0-b8fa98a27742",
   "metadata": {},
   "outputs": [],
   "source": [
    "from pyspark.sql import SparkSession\n",
    "from pyspark.sql.types import StructType, StructField, IntegerType, StringType\n",
    "import pyspark.sql.functions as F\n",
    "from pyspark.sql.window import Window\n",
    "import math"
   ]
  },
  {
   "cell_type": "code",
   "execution_count": null,
   "id": "1e269c69-37bb-46c8-ba38-80c681ff4c6e",
   "metadata": {},
   "outputs": [],
   "source": [
    "master_table = catalog.load(\"master_table@spark\")"
   ]
  },
  {
   "cell_type": "markdown",
   "id": "e7bce316-e7b0-4b2c-8673-1e0de3de0115",
   "metadata": {},
   "source": [
    "### Create cyclical features for the time"
   ]
  },
  {
   "cell_type": "code",
   "execution_count": null,
   "id": "6c20cd69-cf61-44e6-ac7d-d36ab8e5ef44",
   "metadata": {
    "scrolled": true
   },
   "outputs": [],
   "source": [
    "master_table = master_table.withColumn(\n",
    "    \"SEC2\",\n",
    "    F.col(\"SEC\") - (F.col(\"DAY\") - 1) *  86400\n",
    ").withColumn(\n",
    "    \"SEC_SIN\",\n",
    "    F.sin(2 * math.pi * F.col(\"SEC2\")/86400)\n",
    ").withColumn(\n",
    "    \"SEC_COS\",\n",
    "    F.cos(2 * math.pi * F.col(\"SEC2\")/86400)\n",
    ")"
   ]
  },
  {
   "cell_type": "markdown",
   "id": "77250a18-76d1-4ce0-a4cc-114894cf5aa4",
   "metadata": {},
   "source": [
    "### Create dummies for DAY"
   ]
  },
  {
   "cell_type": "code",
   "execution_count": null,
   "id": "6de78190-368d-484c-a147-57faf82f40bb",
   "metadata": {},
   "outputs": [],
   "source": [
    "master_table = master_table.withColumn(\n",
    "    \"DAY_OF_WEEK\",\n",
    "    F.when(\n",
    "        F.col(\"DAY\") % 7 == 0, 7\n",
    "    ).otherwise(\n",
    "    F.expr(\"CAST(DAY AS INT) % 7\")\n",
    "    )\n",
    ")"
   ]
  },
  {
   "cell_type": "code",
   "execution_count": null,
   "id": "841c5030-68fa-4e46-ada2-8f2da35f4479",
   "metadata": {},
   "outputs": [],
   "source": [
    "expresiones_columnas_no_numericas = []\n",
    "columna = \"DAY_OF_WEEK\"\n",
    "\n",
    "unicos_columna = (\n",
    "    master_table.select(columna)\n",
    "    .distinct()\n",
    "    .rdd.flatMap(lambda x: x)\n",
    "    .collect()\n",
    ")\n",
    "\n",
    "unicos_columna.sort()\n",
    "\n",
    "expr_unicos_columna = [\n",
    "    F.when(\n",
    "        F.col(columna)\n",
    "        == valor_unico,\n",
    "        1,\n",
    "    )\n",
    "    .otherwise(0)\n",
    "    .alias(\n",
    "        \"{columna}_{valor}\".format(\n",
    "            columna=columna,\n",
    "            valor=int(valor_unico),\n",
    "        )\n",
    "    )\n",
    "    for valor_unico in unicos_columna\n",
    "    if valor_unico != 1 #tiene un efecto parecido que drop_first=True\n",
    "]\n",
    "\n",
    "expresiones_columnas_no_numericas += expr_unicos_columna"
   ]
  },
  {
   "cell_type": "code",
   "execution_count": null,
   "id": "a2a649e8-cbf7-41e8-846a-9ce334f89b2c",
   "metadata": {},
   "outputs": [],
   "source": [
    "master_table = master_table.select(\"*\", *expresiones_columnas_no_numericas)"
   ]
  },
  {
   "cell_type": "code",
   "execution_count": null,
   "id": "fe74a98f-d436-435f-b984-e1465154fe9f",
   "metadata": {},
   "outputs": [],
   "source": [
    "master_table = master_table.select(\n",
    "    'SEC_SIN',\n",
    "    'SEC_COS',\n",
    "    'Ph1',\n",
    "    'Ph2',\n",
    "    'Ir1',\n",
    "    'Fo1',\n",
    "    'Fo2',\n",
    "    'Di3',\n",
    "    'Di4',\n",
    "    'Ph3',\n",
    "    'Ph4',\n",
    "    'Ph5',\n",
    "    'Ph6',\n",
    "    'Co1',\n",
    "    'Co2',\n",
    "    'Co3',\n",
    "    'So1',\n",
    "    'So2',\n",
    "    'Di1',\n",
    "    'Di2',\n",
    "    'Te1',\n",
    "    'Fo3',\n",
    "    'DAY_OF_WEEK_2',\n",
    "    'DAY_OF_WEEK_3',\n",
    "    'DAY_OF_WEEK_4',\n",
    "    'DAY_OF_WEEK_5',\n",
    "    'DAY_OF_WEEK_6',\n",
    "    'DAY_OF_WEEK_7',\n",
    "    'Lag3_LABEL',\n",
    "    'Lag2_LABEL',\n",
    "    'Lag1_LABEL',\n",
    "    'LABEL'\n",
    ")"
   ]
  },
  {
   "cell_type": "code",
   "execution_count": null,
   "id": "600eac20-a5d8-4a2e-b7dc-8fdf347ff966",
   "metadata": {},
   "outputs": [],
   "source": [
    "catalog.save(\"featured_master_table@spark\", master_table)"
   ]
  },
  {
   "cell_type": "code",
   "execution_count": null,
   "id": "c0cb2bbe-12a3-4c9e-9e56-8c5b1d439425",
   "metadata": {},
   "outputs": [],
   "source": [
    "master_table.groupby(\"LABEL\").agg(F.count(\"LABEL\").alias(\"COUNT\")).filter(F.col(\"COUNT\")<10).show()"
   ]
  },
  {
   "cell_type": "code",
   "execution_count": 4,
   "id": "0ac296e1-76a4-4943-b4ff-133b8e1ed19a",
   "metadata": {},
   "outputs": [
    {
     "data": {
      "text/html": [
       "<pre style=\"white-space:pre;overflow-x:auto;line-height:normal;font-family:Menlo,'DejaVu Sans Mono',consolas,'Courier New',monospace\"><span style=\"color: #7fbfbf; text-decoration-color: #7fbfbf\">[02/12/24 18:16:44] </span><span style=\"color: #800000; text-decoration-color: #800000\">WARNING </span> <span style=\"color: #800080; text-decoration-color: #800080\">/home/smartroom/miniconda3/envs/raftel/lib/python3.8/site-packages/fut</span> <a href=\"file:///home/smartroom/miniconda3/envs/raftel/lib/python3.8/warnings.py\" target=\"_blank\"><span style=\"color: #7f7f7f; text-decoration-color: #7f7f7f\">warnings.py</span></a><span style=\"color: #7f7f7f; text-decoration-color: #7f7f7f\">:</span><a href=\"file:///home/smartroom/miniconda3/envs/raftel/lib/python3.8/warnings.py#109\" target=\"_blank\"><span style=\"color: #7f7f7f; text-decoration-color: #7f7f7f\">109</span></a>\n",
       "<span style=\"color: #7fbfbf; text-decoration-color: #7fbfbf\">                    </span>         <span style=\"color: #800080; text-decoration-color: #800080\">ure/standard_library/</span><span style=\"color: #ff00ff; text-decoration-color: #ff00ff\">__init__.py</span>:<span style=\"color: #008080; text-decoration-color: #008080; font-weight: bold\">65</span>: DeprecationWarning: the imp       <span style=\"color: #7f7f7f; text-decoration-color: #7f7f7f\">               </span>\n",
       "<span style=\"color: #7fbfbf; text-decoration-color: #7fbfbf\">                    </span>         module is deprecated in favour of importlib; see the module's          <span style=\"color: #7f7f7f; text-decoration-color: #7f7f7f\">               </span>\n",
       "<span style=\"color: #7fbfbf; text-decoration-color: #7fbfbf\">                    </span>         documentation for alternative uses                                     <span style=\"color: #7f7f7f; text-decoration-color: #7f7f7f\">               </span>\n",
       "<span style=\"color: #7fbfbf; text-decoration-color: #7fbfbf\">                    </span>           import imp                                                           <span style=\"color: #7f7f7f; text-decoration-color: #7f7f7f\">               </span>\n",
       "<span style=\"color: #7fbfbf; text-decoration-color: #7fbfbf\">                    </span>                                                                                <span style=\"color: #7f7f7f; text-decoration-color: #7f7f7f\">               </span>\n",
       "</pre>\n"
      ],
      "text/plain": [
       "\u001b[2;36m[02/12/24 18:16:44]\u001b[0m\u001b[2;36m \u001b[0m\u001b[31mWARNING \u001b[0m \u001b[35m/home/smartroom/miniconda3/envs/raftel/lib/python3.8/site-packages/fut\u001b[0m \u001b]8;id=469145;file:///home/smartroom/miniconda3/envs/raftel/lib/python3.8/warnings.py\u001b\\\u001b[2mwarnings.py\u001b[0m\u001b]8;;\u001b\\\u001b[2m:\u001b[0m\u001b]8;id=325932;file:///home/smartroom/miniconda3/envs/raftel/lib/python3.8/warnings.py#109\u001b\\\u001b[2m109\u001b[0m\u001b]8;;\u001b\\\n",
       "\u001b[2;36m                    \u001b[0m         \u001b[35mure/standard_library/\u001b[0m\u001b[95m__init__.py\u001b[0m:\u001b[1;36m65\u001b[0m: DeprecationWarning: the imp       \u001b[2m               \u001b[0m\n",
       "\u001b[2;36m                    \u001b[0m         module is deprecated in favour of importlib; see the module's          \u001b[2m               \u001b[0m\n",
       "\u001b[2;36m                    \u001b[0m         documentation for alternative uses                                     \u001b[2m               \u001b[0m\n",
       "\u001b[2;36m                    \u001b[0m           import imp                                                           \u001b[2m               \u001b[0m\n",
       "\u001b[2;36m                    \u001b[0m                                                                                \u001b[2m               \u001b[0m\n"
      ]
     },
     "metadata": {},
     "output_type": "display_data"
    }
   ],
   "source": [
    "import pandas as pd\n",
    "import numpy as np\n",
    "from sklearn.model_selection import TimeSeriesSplit, GridSearchCV, train_test_split, KFold, StratifiedKFold\n",
    "import xgboost as xgb\n",
    "from sklearn.metrics import accuracy_score\n",
    "from hyperopt import STATUS_OK, Trials, fmin, hp, tpe\n",
    "from sklearn.preprocessing import LabelEncoder"
   ]
  },
  {
   "cell_type": "markdown",
   "id": "eff041d0-10a1-4162-b4ce-7889d8ece925",
   "metadata": {},
   "source": [
    "### Train and test split"
   ]
  },
  {
   "cell_type": "code",
   "execution_count": 5,
   "id": "3b4adcd8-ae1e-4bf4-9c5e-8ca8a661df3e",
   "metadata": {},
   "outputs": [
    {
     "data": {
      "text/html": [
       "<pre style=\"white-space:pre;overflow-x:auto;line-height:normal;font-family:Menlo,'DejaVu Sans Mono',consolas,'Courier New',monospace\"><span style=\"color: #7fbfbf; text-decoration-color: #7fbfbf\">                    </span><span style=\"color: #000080; text-decoration-color: #000080\">INFO    </span> Loading data from <span style=\"color: #008000; text-decoration-color: #008000\">'featured_master_table@pandas'</span>                   <a href=\"file:///home/smartroom/miniconda3/envs/raftel/lib/python3.8/site-packages/kedro/io/data_catalog.py\" target=\"_blank\"><span style=\"color: #7f7f7f; text-decoration-color: #7f7f7f\">data_catalog.py</span></a><span style=\"color: #7f7f7f; text-decoration-color: #7f7f7f\">:</span><a href=\"file:///home/smartroom/miniconda3/envs/raftel/lib/python3.8/site-packages/kedro/io/data_catalog.py#343\" target=\"_blank\"><span style=\"color: #7f7f7f; text-decoration-color: #7f7f7f\">343</span></a>\n",
       "<span style=\"color: #7fbfbf; text-decoration-color: #7fbfbf\">                    </span>         <span style=\"font-weight: bold\">(</span>ParquetDataSet<span style=\"font-weight: bold\">)</span><span style=\"color: #808000; text-decoration-color: #808000\">...</span>                                                <span style=\"color: #7f7f7f; text-decoration-color: #7f7f7f\">                   </span>\n",
       "</pre>\n"
      ],
      "text/plain": [
       "\u001b[2;36m                   \u001b[0m\u001b[2;36m \u001b[0m\u001b[34mINFO    \u001b[0m Loading data from \u001b[32m'featured_master_table@pandas'\u001b[0m                   \u001b]8;id=548297;file:///home/smartroom/miniconda3/envs/raftel/lib/python3.8/site-packages/kedro/io/data_catalog.py\u001b\\\u001b[2mdata_catalog.py\u001b[0m\u001b]8;;\u001b\\\u001b[2m:\u001b[0m\u001b]8;id=660454;file:///home/smartroom/miniconda3/envs/raftel/lib/python3.8/site-packages/kedro/io/data_catalog.py#343\u001b\\\u001b[2m343\u001b[0m\u001b]8;;\u001b\\\n",
       "\u001b[2;36m                    \u001b[0m         \u001b[1m(\u001b[0mParquetDataSet\u001b[1m)\u001b[0m\u001b[33m...\u001b[0m                                                \u001b[2m                   \u001b[0m\n"
      ]
     },
     "metadata": {},
     "output_type": "display_data"
    }
   ],
   "source": [
    "X_aras = catalog.load(\"featured_master_table@pandas\")"
   ]
  },
  {
   "cell_type": "code",
   "execution_count": 6,
   "id": "9b61d491-f995-4c3e-b387-76b045eb0259",
   "metadata": {},
   "outputs": [],
   "source": [
    "y_aras = X_aras['LABEL']\n",
    "X_aras = X_aras.drop(columns=['LABEL'])"
   ]
  },
  {
   "cell_type": "code",
   "execution_count": 7,
   "id": "c5b401df-51aa-4554-9883-f3bcb37173a4",
   "metadata": {},
   "outputs": [],
   "source": [
    "X_aras_train, X_aras_test, y_aras_train, y_aras_test = train_test_split(X_aras, y_aras, test_size = 0.3, random_state = 0, stratify = y_aras)"
   ]
  },
  {
   "cell_type": "code",
   "execution_count": 8,
   "id": "ac2d3d94-20e8-43bf-80e7-ab593dd49785",
   "metadata": {},
   "outputs": [
    {
     "data": {
      "text/html": [
       "<pre style=\"white-space:pre;overflow-x:auto;line-height:normal;font-family:Menlo,'DejaVu Sans Mono',consolas,'Courier New',monospace\"></pre>\n"
      ],
      "text/plain": []
     },
     "metadata": {},
     "output_type": "display_data"
    },
    {
     "data": {
      "text/plain": [
       "\u001b[1m(\u001b[0m\u001b[1m(\u001b[0m\u001b[1;36m1811203\u001b[0m, \u001b[1;36m31\u001b[0m\u001b[1m)\u001b[0m, \u001b[1m(\u001b[0m\u001b[1;36m776230\u001b[0m, \u001b[1;36m31\u001b[0m\u001b[1m)\u001b[0m, \u001b[1m(\u001b[0m\u001b[1;36m1811203\u001b[0m,\u001b[1m)\u001b[0m, \u001b[1m(\u001b[0m\u001b[1;36m776230\u001b[0m,\u001b[1m)\u001b[0m\u001b[1m)\u001b[0m"
      ]
     },
     "execution_count": 8,
     "metadata": {},
     "output_type": "execute_result"
    }
   ],
   "source": [
    "X_aras_train.shape, X_aras_test.shape, y_aras_train.shape, y_aras_test.shape"
   ]
  },
  {
   "cell_type": "code",
   "execution_count": null,
   "id": "7daa06c1-38ea-45b7-bdba-4f14a1c998e8",
   "metadata": {},
   "outputs": [],
   "source": [
    "df = y_aras_train.to_frame().groupby(['LABEL']).agg({'LABEL': ['count']})\n",
    "df[df.LABEL['count'] < 10]"
   ]
  },
  {
   "cell_type": "code",
   "execution_count": null,
   "id": "c7c102ac-a2a2-4891-90f4-254e147cd974",
   "metadata": {},
   "outputs": [],
   "source": [
    "df = y_aras_test.to_frame().groupby(['LABEL']).agg({'LABEL': ['count']})\n",
    "df[df.LABEL['count'] < 10]"
   ]
  },
  {
   "cell_type": "markdown",
   "id": "332c854c-11bf-48ec-8bde-51e6c402fddb",
   "metadata": {},
   "source": [
    "## Experiments"
   ]
  },
  {
   "cell_type": "markdown",
   "id": "6df43385-aa18-4847-b7a7-79a57f4f530d",
   "metadata": {},
   "source": [
    "### 1. Model with XGBoost and encoded activities in one label. No windowing."
   ]
  },
  {
   "cell_type": "markdown",
   "id": "73132702-ec53-47c2-8794-977ae103ea6b",
   "metadata": {},
   "source": [
    "#### Cross Validation"
   ]
  },
  {
   "cell_type": "code",
   "execution_count": 9,
   "id": "d4b95a35-4a31-4d63-a065-1c641002bb54",
   "metadata": {},
   "outputs": [],
   "source": [
    "space={'max_depth': hp.quniform(\"max_depth\", 3, 18, 1),\n",
    "        'gamma': hp.uniform ('gamma', 1,9),\n",
    "        'learning_rate': hp.uniform ('learning_rate', 0,0.5),\n",
    "        'reg_alpha' : hp.quniform('reg_alpha', 40,180,1),\n",
    "        'reg_lambda' : hp.uniform('reg_lambda', 0,1),\n",
    "        'colsample_bytree' : hp.uniform('colsample_bytree', 0.5,1),\n",
    "        'min_child_weight' : hp.quniform('min_child_weight', 0, 10, 1),\n",
    "        'n_estimators': 180,\n",
    "        'seed': 0,\n",
    "    }"
   ]
  },
  {
   "cell_type": "code",
   "execution_count": 10,
   "id": "11a94522-dd5e-4603-baee-355e08f68a76",
   "metadata": {},
   "outputs": [],
   "source": [
    "def objective(space):\n",
    "    clf=xgb.XGBClassifier(\n",
    "                    n_estimators =space['n_estimators'], max_depth = int(space['max_depth']), gamma = space['gamma'],\n",
    "                    reg_alpha = int(space['reg_alpha']),min_child_weight=int(space['min_child_weight']),\n",
    "                    colsample_bytree=int(space['colsample_bytree']), eval_metric=\"auc\", early_stopping_rounds=10,\n",
    "                    learning_rate=space['learning_rate']\n",
    "    )\n",
    "    \n",
    "    evaluation = [( X_train, y_train), ( X_test, y_test)]\n",
    "    \n",
    "    clf.fit(X_train, y_train,\n",
    "            eval_set=evaluation,\n",
    "            verbose=False)\n",
    "    \n",
    "\n",
    "    pred = clf.predict(X_test)\n",
    "    accuracy = accuracy_score(y_test, pred)\n",
    "    print (\"SCORE:\", accuracy)\n",
    "    return {'loss': -accuracy, 'status': STATUS_OK }"
   ]
  },
  {
   "cell_type": "code",
   "execution_count": 11,
   "id": "11bb3564-086f-42f2-a286-ea466b75921e",
   "metadata": {
    "scrolled": true
   },
   "outputs": [
    {
     "name": "stdout",
     "output_type": "stream",
     "text": [
      "Fold 0:\n",
      "SCORE:                                                 \n",
      "0.19576966715529165                                    \n",
      "SCORE:                                                                                \n",
      "0.8137610044141883                                                                    \n",
      "SCORE:                                                                                 \n",
      "0.2749550713475283                                                                     \n",
      "SCORE:                                                                                 \n",
      "0.19672372812575054                                                                    \n",
      "SCORE:                                                                                 \n",
      "0.001603352464243418                                                                    \n",
      "SCORE:                                                                                  \n",
      "0.2641009714527069                                                                      \n",
      "SCORE:                                                                                  \n",
      "0.19602805866812426                                                                     \n",
      "SCORE:                                                                                  \n",
      "0.19578954342550953                                                                    \n",
      "SCORE:                                                                                 \n",
      "0.8784963601580164                                                                     \n",
      "SCORE:                                                                                   \n",
      "0.819425741426288                                                                        \n",
      "SCORE:                                                                                    \n",
      "0.8331884021963278                                                                        \n",
      "SCORE:                                                                                    \n",
      "0.6960106669316836                                                                        \n",
      "SCORE:                                                                                    \n",
      "0.19511375023810115                                                                       \n",
      "SCORE:                                                                                    \n",
      "0.19576966715529165                                                                       \n",
      "SCORE:                                                                                    \n",
      "0.19604959129419364                                                                      \n",
      "SCORE:                                                                                   \n",
      "0.4945481047148169                                                                       \n",
      "SCORE:                                                                                   \n",
      "0.8678907136409186                                                                       \n",
      "SCORE:                                                                                    \n",
      "0.19604959129419364                                                                       \n",
      "SCORE:                                                                                    \n",
      "0.014549429799498125                                                                     \n",
      "SCORE:                                                                                   \n",
      "0.8450694427190738                                                                       \n",
      "SCORE:                                                                                    \n",
      "0.5324008049889438                                                                        \n",
      "SCORE:                                                                                    \n",
      "0.477166306409269                                                                         \n",
      "SCORE:                                                                                    \n",
      "0.8769791381980505                                                                        \n",
      "SCORE:                                                                                    \n",
      "0.7494314558539756                                                                        \n",
      "SCORE:                                                                                    \n",
      "0.8756689607195209                                                                        \n",
      "SCORE:                                                                                    \n",
      "0.7645026377466935                                                                         \n",
      "SCORE:                                                                                     \n",
      "0.20509495059918673                                                                        \n",
      "SCORE:                                                                                     \n",
      "0.8921712340679272                                                                         \n",
      "SCORE:                                                                                     \n",
      "0.8974765418602533                                                                         \n",
      "SCORE:                                                                                     \n",
      "0.8765402038974053                                                                         \n",
      "SCORE:                                                                                     \n",
      "0.2302086180194953                                                                         \n",
      "SCORE:                                                                                     \n",
      "0.19576966715529165                                                                        \n",
      "SCORE:                                                                                     \n",
      "0.4715744490546349                                                                         \n",
      "SCORE:                                                                                     \n",
      "0.7506256884229008                                                                         \n",
      "SCORE:                                                                                     \n",
      "0.8573198505967022                                                                         \n",
      "SCORE:                                                                                     \n",
      "0.25301166902697375                                                                        \n",
      "SCORE:                                                                                     \n",
      "0.042994028837155376                                                                       \n",
      "SCORE:                                                                                     \n",
      "0.48921960794056996                                                                       \n",
      "SCORE:                                                                                    \n",
      "0.262678161776276                                                                         \n",
      "SCORE:                                                                                    \n",
      "0.7805808839971179                                                                       \n",
      "SCORE:                                                                                     \n",
      "0.19670385185553263                                                                        \n",
      "SCORE:                                                                                     \n",
      "0.8793261944396134                                                                        \n",
      "SCORE:                                                                                     \n",
      "0.8646691015097684                                                                         \n",
      "SCORE:                                                                                     \n",
      "0.2671171954582723                                                                         \n",
      "SCORE:                                                                                     \n",
      "0.8270118512261174                                                                         \n",
      "SCORE:                                                                                     \n",
      "0.533301862572155                                                                          \n",
      "SCORE:                                                                                     \n",
      "0.19576966715529165                                                                        \n",
      "SCORE:                                                                                     \n",
      "0.43016224005565357                                                                       \n",
      "SCORE:                                                                                    \n",
      "0.1451249306400987                                                                        \n",
      "SCORE:                                                                                    \n",
      "0.8548684439364953                                                                       \n",
      "SCORE:                                                                                     \n",
      "0.8537272147548179                                                                         \n",
      "SCORE:                                                                                     \n",
      "0.8620073376564221                                                                         \n",
      "SCORE:                                                                                     \n",
      "0.6942532733732515                                                                         \n",
      "SCORE:                                                                                     \n",
      "0.6423894589513611                                                                         \n",
      "SCORE:                                                                                     \n",
      "0.19576966715529165                                                                        \n",
      "SCORE:                                                                                     \n",
      "0.7601629854157868                                                                         \n",
      "SCORE:                                                                                     \n",
      "0.8503730941555484                                                                         \n",
      "SCORE:                                                                                     \n",
      "0.834278284346609                                                                          \n",
      "SCORE:                                                                                     \n",
      "0.0420548750693599                                                                         \n",
      "SCORE:                                                                                     \n",
      "0.19604793493834216                                                                        \n",
      "SCORE:                                                                                     \n",
      "0.19602805866812426                                                                        \n",
      "SCORE:                                                                                     \n",
      "0.5089236171499085                                                                       \n",
      "SCORE:                                                                                   \n",
      "0.19576966715529165                                                                      \n",
      "SCORE:                                                                                   \n",
      "0.16356514033474953                                                                      \n",
      "SCORE:                                                                                   \n",
      "0.8803879185404192                                                                       \n",
      "SCORE:                                                                                     \n",
      "0.880046709235012                                                                          \n",
      "SCORE:                                                                                     \n",
      "0.8842256950483242                                                                         \n",
      "SCORE:                                                                                     \n",
      "0.8761128640877206                                                                         \n",
      "SCORE:                                                                                     \n",
      "0.8012107961274401                                                                         \n",
      "SCORE:                                                                                     \n",
      "0.27938085418271263                                                                        \n",
      "SCORE:                                                                                     \n",
      "0.25511027189081303                                                                        \n",
      "SCORE:                                                                                     \n",
      "0.8595327420142943                                                                       \n",
      "SCORE:                                                                                     \n",
      "0.888093285961556                                                                          \n",
      "SCORE:                                                                                     \n",
      "0.8910565065798737                                                                         \n",
      "SCORE:                                                                                     \n",
      "0.8550191723189811                                                                         \n",
      "SCORE:                                                                                     \n",
      "0.19602805866812426                                                                        \n",
      "SCORE:                                                                                     \n",
      "0.3659420109816393                                                                         \n",
      "SCORE:                                                                                     \n",
      "0.8663453336314774                                                                        \n",
      "SCORE:                                                                                    \n",
      "0.9055860601091539                                                                        \n",
      "SCORE:                                                                                     \n",
      "0.8998616942864005                                                                         \n",
      "SCORE:                                                                                     \n",
      "0.9072805121452293                                                                         \n",
      "SCORE:                                                                                     \n",
      "0.680238846513785                                                                          \n",
      "SCORE:                                                                                     \n",
      "0.850159424250706                                                                          \n",
      "SCORE:                                                                                     \n",
      "0.816623187325565                                                                          \n",
      "SCORE:                                                                                     \n",
      "0.8964661647908436                                                                         \n",
      "SCORE:                                                                                     \n",
      "0.8976587410039173                                                                         \n",
      "SCORE:                                                                                     \n",
      "0.884653034858009                                                                         \n",
      "SCORE:                                                                                    \n",
      "0.6972032431447572                                                                        \n",
      "SCORE:                                                                                    \n",
      "0.8941969572743008                                                                        \n",
      "SCORE:                                                                                    \n",
      "0.27907939741774124                                                                       \n",
      "SCORE:                                                                                    \n",
      "0.8938159954284578                                                                        \n",
      "SCORE:                                                                                    \n",
      "0.2606474695023479                                                                        \n",
      "SCORE:                                                                                    \n",
      "0.5846687702385981                                                                        \n",
      "SCORE:                                                                                    \n",
      "0.8689391868949125                                                                        \n",
      "SCORE:                                                                                    \n",
      "0.4916180112135291                                                                        \n",
      "SCORE:                                                                                    \n",
      "0.7645622665573472                                                                        \n",
      "SCORE:                                                                                    \n",
      "0.864077782470786                                                                         \n",
      "SCORE:                                                                                    \n",
      "0.40949423174074717                                                                       \n",
      "SCORE:                                                                                    \n",
      "0.8543185337938003                                                                      \n",
      "SCORE:                                                                                  \n",
      "0.8279526613497644                                                                      \n",
      "100%|██████████| 100/100 [42:14:51<00:00, 1520.91s/trial, best loss: -0.9072805121452293]\n",
      "Params {'colsample_bytree': 0.8084956082707384, 'gamma': 2.6899288117652205, 'learning_rate': 0.1731791560786223, 'max_depth': 12.0, 'min_child_weight': 5.0, 'reg_alpha': 40.0, 'reg_lambda': 0.05105068156107444}\n",
      "Fold 1:\n",
      "SCORE:                                                 \n",
      "0.7204679544302623                                     \n",
      "SCORE:                                                                                \n",
      "0.19432895944240344                                                                   \n",
      "SCORE:                                                                                \n",
      "0.8670308447097563                                                                    \n",
      "SCORE:                                                                                 \n",
      "0.19432895944240344                                                                      \n",
      "SCORE:                                                                                   \n",
      "0.7390506415076838                                                                      \n",
      "SCORE:                                                                                   \n",
      "0.19432895944240344                                                                      \n",
      "SCORE:                                                                                   \n",
      "0.19432895944240344                                                                      \n",
      "SCORE:                                                                                   \n",
      "0.4213279358127917                                                                      \n",
      "SCORE:                                                                                  \n",
      "0.7791891793405705                                                                      \n",
      "SCORE:                                                                                   \n",
      "0.8382565831972358                                                                       \n",
      "SCORE:                                                                                    \n",
      "0.26547784289107457                                                                       \n",
      "SCORE:                                                                                    \n",
      "0.19670749038483837                                                                       \n",
      "SCORE:                                                                                    \n",
      "0.19432895944240344                                                                      \n",
      "SCORE:                                                                                   \n",
      "0.19432895944240344                                                                      \n",
      "SCORE:                                                                                   \n",
      "0.897930214299675                                                                        \n",
      "SCORE:                                                                                   \n",
      "0.6943852756346338                                                                       \n",
      "SCORE:                                                                                   \n",
      "0.6289508293387486                                                                       \n",
      "SCORE:                                                                                   \n",
      "0.8029049217039292                                                                       \n",
      "SCORE:                                                                                   \n",
      "0.8501740832883355                                                                       \n",
      "SCORE:                                                                                   \n",
      "0.19432895944240344                                                                      \n",
      "SCORE:                                                                                   \n",
      "0.17997329949944843                                                                      \n",
      "SCORE:                                                                                   \n",
      "0.8733117565020356                                                                       \n",
      "SCORE:                                                                                   \n",
      "0.7357511751864232                                                                       \n",
      "SCORE:                                                                                   \n",
      "0.2547694845743324                                                                       \n",
      "SCORE:                                                                                   \n",
      "0.8885254101972061                                                                      \n",
      "SCORE:                                                                                   \n",
      "0.5230382916979994                                                                       \n",
      "SCORE:                                                                                   \n",
      "0.03760596554111579                                                                      \n",
      "SCORE:                                                                                   \n",
      "0.5087372915886798                                                                      \n",
      "SCORE:                                                                                   \n",
      "0.835558375045964                                                                        \n",
      "SCORE:                                                                                   \n",
      "0.8650514961887189                                                                        \n",
      "SCORE:                                                                                    \n",
      "0.503995136931165                                                                         \n",
      "SCORE:                                                                                    \n",
      "0.7091020217513011                                                                        \n",
      "SCORE:                                                                                    \n",
      "0.5220958236574386                                                                        \n",
      "SCORE:                                                                                    \n",
      "0.01152163038689224                                                                       \n",
      "SCORE:                                                                                    \n",
      "0.7983101829613704                                                                        \n",
      "SCORE:                                                                                    \n",
      "0.8355136533638987                                                                        \n",
      "SCORE:                                                                                    \n",
      "0.8946771260190747                                                                        \n",
      "SCORE:                                                                                    \n",
      "0.19432895944240344                                                                       \n",
      "SCORE:                                                                                    \n",
      "0.04624884468987998                                                                       \n",
      "SCORE:                                                                                    \n",
      "0.8629777352277659                                                                        \n",
      "SCORE:                                                                                    \n",
      "0.5174961158390947                                                                        \n",
      "SCORE:                                                                                    \n",
      "0.029690227815561156                                                                      \n",
      "SCORE:                                                                                    \n",
      "0.4731073618514114                                                                       \n",
      "SCORE:                                                                                   \n",
      "0.023283432770060987                                                                     \n",
      "SCORE:                                                                                   \n",
      "0.19432895944240344                                                                     \n",
      "SCORE:                                                                                  \n",
      "0.7663258984917198                                                                      \n",
      "SCORE:                                                                                  \n",
      "0.7986646437007027                                                                      \n",
      "SCORE:                                                                                    \n",
      "0.8292675251021145                                                                        \n",
      "SCORE:                                                                                    \n",
      "0.5524270622492687                                                                        \n",
      "SCORE:                                                                                    \n",
      "0.7948798643111039                                                                        \n",
      "SCORE:                                                                                    \n",
      "0.19432895944240344                                                                       \n",
      "SCORE:                                                                                    \n",
      "0.22229491796055878                                                                       \n",
      "SCORE:                                                                                    \n",
      "0.5686991290866508                                                                       \n",
      "SCORE:                                                                                    \n",
      "0.28451934129931394                                                                       \n",
      "SCORE:                                                                                    \n",
      "0.8685281928796457                                                                       \n",
      "SCORE:                                                                                    \n",
      "0.19434552302835353                                                                       \n",
      "SCORE:                                                                                    \n",
      "0.44188831505265563                                                                       \n",
      "SCORE:                                                                                    \n",
      "0.8070375363984801                                                                      \n",
      "SCORE:                                                                                   \n",
      "0.2851868538131031                                                                       \n",
      "SCORE:                                                                                   \n",
      "0.5139912610520527                                                                      \n",
      "SCORE:                                                                                  \n",
      "0.8241129371544422                                                                      \n",
      "SCORE:                                                                                    \n",
      "0.26130050651445835                                                                       \n",
      "SCORE:                                                                                    \n",
      "0.6236786399308305                                                                      \n",
      "SCORE:                                                                                    \n",
      "0.7952508886363863                                                                        \n",
      "SCORE:                                                                                    \n",
      "0.5753046871635522                                                                        \n",
      "SCORE:                                                                                    \n",
      "0.8865294980902185                                                                        \n",
      "SCORE:                                                                                    \n",
      "0.8846677510294269                                                                        \n",
      "SCORE:                                                                                    \n",
      "0.8675757866875147                                                                        \n",
      "SCORE:                                                                                    \n",
      "0.8884740630807607                                                                        \n",
      "SCORE:                                                                                    \n",
      "0.8837832555396913                                                                        \n",
      "SCORE:                                                                                    \n",
      "0.7529292701752759                                                                        \n",
      "SCORE:                                                                                    \n",
      "0.5101087565053484                                                                        \n",
      "SCORE:                                                                                    \n",
      "0.8906985526738597                                                                        \n",
      "SCORE:                                                                                    \n",
      "0.2671093561071598                                                                        \n",
      "SCORE:                                                                                    \n",
      "0.8831869664454876                                                                        \n",
      "SCORE:                                                                                    \n",
      "0.8774758420098918                                                                        \n",
      "SCORE:                                                                                    \n",
      "0.3965322476454863                                                                        \n",
      "SCORE:                                                                                    \n",
      "0.7986381419631825                                                                       \n",
      "SCORE:                                                                                   \n",
      "0.2362480827649263                                                                       \n",
      "SCORE:                                                                                   \n",
      "0.8893469640603312                                                                       \n",
      "SCORE:                                                                                   \n",
      "0.8417183726608076                                                                       \n",
      "SCORE:                                                                                   \n",
      "0.8869469004561612                                                                       \n",
      "SCORE:                                                                                   \n",
      "0.19432895944240344                                                                      \n",
      "SCORE:                                                                                   \n",
      "0.821842069520683                                                                        \n",
      "SCORE:                                                                                   \n",
      "0.19432895944240344                                                                      \n",
      "SCORE:                                                                                   \n",
      "0.603194453186337                                                                        \n",
      "SCORE:                                                                                   \n",
      "0.19615095389691486                                                                      \n",
      "SCORE:                                                                                   \n",
      "0.20096598833261006                                                                     \n",
      "SCORE:                                                                                  \n",
      "0.02948318299118486                                                                     \n",
      "SCORE:                                                                                  \n",
      "0.014880725617573302                                                                    \n",
      "SCORE:                                                                                  \n",
      "0.8898256516942892                                                                      \n",
      "SCORE:                                                                                   \n",
      "0.6923264219010359                                                                       \n",
      "SCORE:                                                                                   \n",
      "0.19432895944240344                                                                     \n",
      "SCORE:                                                                                  \n",
      "0.8434724564129236                                                                      \n",
      "SCORE:                                                                                   \n",
      "0.27660857264954436                                                                      \n",
      "SCORE:                                                                                   \n",
      "0.19432895944240344                                                                     \n",
      "SCORE:                                                                                  \n",
      "0.19432895944240344                                                                   \n",
      "SCORE:                                                                                \n",
      "0.8891349501601699                                                                    \n",
      "SCORE:                                                                                 \n",
      "0.719609960678047                                                                      \n",
      "SCORE:                                                                                 \n",
      "0.8882537673876244                                                                    \n",
      "100%|██████████| 100/100 [34:42:14<00:00, 1249.34s/trial, best loss: -0.897930214299675]\n",
      "Params {'colsample_bytree': 0.6573350248910703, 'gamma': 1.584753219875135, 'learning_rate': 0.1643677300411655, 'max_depth': 14.0, 'min_child_weight': 1.0, 'reg_alpha': 46.0, 'reg_lambda': 0.6395744203920048}\n",
      "Fold 2:\n",
      "SCORE:                                                 \n",
      "0.04385043744430494                                    \n",
      "SCORE:                                                                                \n",
      "0.7752569840360158                                                                    \n",
      "SCORE:                                                                                 \n",
      "0.8333239473012949                                                                       \n",
      "SCORE:                                                                                   \n",
      "0.7227868564632769                                                                       \n",
      "SCORE:                                                                                   \n",
      "0.8429987378547507                                                                       \n",
      "SCORE:                                                                                   \n",
      "0.25615088764257105                                                                      \n",
      "SCORE:                                                                                   \n",
      "0.832391417412304                                                                        \n",
      "SCORE:                                                                                   \n",
      "0.7899124448846677                                                                       \n",
      "SCORE:                                                                                   \n",
      "0.19573023881378224                                                                      \n",
      "SCORE:                                                                                   \n",
      "0.19573023881378224                                                                      \n",
      "SCORE:                                                                                    \n",
      "0.19573023881378224                                                                       \n",
      "SCORE:                                                                                    \n",
      "0.8004021638668686                                                                       \n",
      "SCORE:                                                                                    \n",
      "0.19506272629999305                                                                       \n",
      "SCORE:                                                                                    \n",
      "0.3900807309179208                                                                       \n",
      "SCORE:                                                                                   \n",
      "0.4429765426495775                                                                       \n",
      "SCORE:                                                                                   \n",
      "0.19506272629999305                                                                      \n",
      "SCORE:                                                                                   \n",
      "0.5599767447253261                                                                       \n",
      "SCORE:                                                                                   \n",
      "0.19573023881378224                                                                      \n",
      "SCORE:                                                                                   \n",
      "0.19573023881378224                                                                     \n",
      "SCORE:                                                                                  \n",
      "0.19506272629999305                                                                     \n",
      "SCORE:                                                                                  \n",
      "0.8078624029787953                                                                      \n",
      "SCORE:                                                                                   \n",
      "0.9013025603991162                                                                       \n",
      "SCORE:                                                                                    \n",
      "0.9018740041143948                                                                        \n",
      "SCORE:                                                                                    \n",
      "0.9006748004916072                                                                        \n",
      "SCORE:                                                                                    \n",
      "0.898567912358754                                                                         \n",
      "SCORE:                                                                                    \n",
      "0.5175143357836398                                                                        \n",
      "SCORE:                                                                                    \n",
      "0.23148936452146143                                                                       \n",
      "SCORE:                                                                                    \n",
      "0.892662993967542                                                                         \n",
      "SCORE:                                                                                    \n",
      "0.18598256848214612                                                                        \n",
      "SCORE:                                                                                     \n",
      "0.8917983747809466                                                                         \n",
      "SCORE:                                                                                     \n",
      "0.874325447962182                                                                          \n",
      "SCORE:                                                                                     \n",
      "0.7115484633961314                                                                         \n",
      "SCORE:                                                                                     \n",
      "0.9053987352045768                                                                         \n",
      "SCORE:                                                                                     \n",
      "0.273683443370756                                                                          \n",
      "SCORE:                                                                                     \n",
      "0.49258945164592355                                                                        \n",
      "SCORE:                                                                                     \n",
      "0.8146302841980078                                                                         \n",
      "SCORE:                                                                                     \n",
      "0.7588143122633477                                                                         \n",
      "SCORE:                                                                                     \n",
      "0.19506272629999305                                                                        \n",
      "SCORE:                                                                                     \n",
      "0.6802631622535753                                                                         \n",
      "SCORE:                                                                                     \n",
      "0.266185108011144                                                                          \n",
      "SCORE:                                                                                     \n",
      "0.8534735496095963                                                                        \n",
      "SCORE:                                                                                     \n",
      "0.3960601854459083                                                                         \n",
      "SCORE:                                                                                     \n",
      "0.7818476348855622                                                                         \n",
      "SCORE:                                                                                     \n",
      "0.04760374602059848                                                                        \n",
      "SCORE:                                                                                     \n",
      "0.8604617265219451                                                                         \n",
      "SCORE:                                                                                     \n",
      "0.8498113407560283                                                                         \n",
      "SCORE:                                                                                     \n",
      "0.007390672050936339                                                                       \n",
      "SCORE:                                                                                     \n",
      "0.24265653416902144                                                                        \n",
      "SCORE:                                                                                     \n",
      "0.7014198305876429                                                                         \n",
      "SCORE:                                                                                     \n",
      "0.7938777673611226                                                                         \n",
      "SCORE:                                                                                     \n",
      "0.3822676874252568                                                                         \n",
      "SCORE:                                                                                     \n",
      "0.19563748273246165                                                                        \n",
      "SCORE:                                                                                     \n",
      "0.8423096926792263                                                                        \n",
      "SCORE:                                                                                     \n",
      "0.19573023881378224                                                                        \n",
      "SCORE:                                                                                     \n",
      "0.19507763352734814                                                                        \n",
      "SCORE:                                                                                     \n",
      "0.8581328863373605                                                                       \n",
      "SCORE:                                                                                     \n",
      "0.5818804307857434                                                                         \n",
      "SCORE:                                                                                     \n",
      "0.8787164545975545                                                                         \n",
      "SCORE:                                                                                     \n",
      "0.8841559362235687                                                                         \n",
      "SCORE:                                                                                     \n",
      "0.27776305459026657                                                                        \n",
      "SCORE:                                                                                     \n",
      "0.19506272629999305                                                                        \n",
      "SCORE:                                                                                     \n",
      "0.8378176481695582                                                                        \n",
      "SCORE:                                                                                     \n",
      "0.8816896182755982                                                                         \n",
      "SCORE:                                                                                     \n",
      "0.19506272629999305                                                                        \n",
      "SCORE:                                                                                     \n",
      "0.6390181768792217                                                                         \n",
      "SCORE:                                                                                     \n",
      "0.8993099610093187                                                                         \n",
      "SCORE:                                                                                     \n",
      "0.9011965534490355                                                                         \n",
      "SCORE:                                                                                     \n",
      "0.90908578943707                                                                           \n",
      "SCORE:                                                                                     \n",
      "0.7630429957564093                                                                       \n",
      "SCORE:                                                                                   \n",
      "0.25990585257745963                                                                      \n",
      "SCORE:                                                                                   \n",
      "0.19506272629999305                                                                      \n",
      "SCORE:                                                                                   \n",
      "0.9005919825618567                                                                     \n",
      "SCORE:                                                                                   \n",
      "0.18073853717034324                                                                      \n",
      "SCORE:                                                                                   \n",
      "0.5324911301997237                                                                      \n",
      "SCORE:                                                                                  \n",
      "0.8551133446186565                                                                     \n",
      "SCORE:                                                                                  \n",
      "0.23342564771902857                                                                     \n",
      "SCORE:                                                                                  \n",
      "0.8381257308682301                                                                      \n",
      "SCORE:                                                                                  \n",
      "0.8880781933765532                                                                      \n",
      "SCORE:                                                                                   \n",
      "0.4867756329774371                                                                       \n",
      "SCORE:                                                                                   \n",
      "0.011293052900780807                                                                    \n",
      "SCORE:                                                                                  \n",
      "0.008192349610921365                                                                    \n",
      "SCORE:                                                                                  \n",
      "0.8705506067241533                                                                     \n",
      "SCORE:                                                                                  \n",
      "0.8706599263914241                                                                      \n",
      "SCORE:                                                                                  \n",
      "0.8557526990363306                                                                      \n",
      "SCORE:                                                                                  \n",
      "0.8700967644691205                                                                      \n",
      "SCORE:                                                                                  \n",
      "0.23267366091689387                                                                     \n",
      "SCORE:                                                                                  \n",
      "0.19656173082847744                                                                     \n",
      "SCORE:                                                                                  \n",
      "0.01048971898220077                                                                     \n",
      "SCORE:                                                                                  \n",
      "0.7896507402266562                                                                     \n",
      "SCORE:                                                                                  \n",
      "0.7775659479174604                                                                      \n",
      "SCORE:                                                                                  \n",
      "0.2420585887162227                                                                      \n",
      "SCORE:                                                                                  \n",
      "0.19506272629999305                                                                     \n",
      "SCORE:                                                                                  \n",
      "0.8796390463349754                                                                     \n",
      "SCORE:                                                                                  \n",
      "0.8751768162800173                                                                      \n",
      "SCORE:                                                                                  \n",
      "0.8788936849672206                                                                      \n",
      "SCORE:                                                                                  \n",
      "0.19506272629999305                                                                     \n",
      "SCORE:                                                                                  \n",
      "0.8606107987954961                                                                      \n",
      "SCORE:                                                                                  \n",
      "0.2755683794518778                                                                      \n",
      "SCORE:                                                                                  \n",
      "0.755649010988283                                                                     \n",
      "SCORE:                                                                                \n",
      "0.8521219609960679                                                                    \n",
      "100%|██████████| 100/100 [39:08:31<00:00, 1409.12s/trial, best loss: -0.90908578943707]\n",
      "Params {'colsample_bytree': 0.9480518173313758, 'gamma': 4.315657553688032, 'learning_rate': 0.2100439767588583, 'max_depth': 17.0, 'min_child_weight': 8.0, 'reg_alpha': 40.0, 'reg_lambda': 0.9800987298988849}\n"
     ]
    }
   ],
   "source": [
    "skf = StratifiedKFold(n_splits=3)\n",
    "best_hyperparams = []\n",
    "\n",
    "for i, (train_index, test_index) in enumerate(skf.split(X_aras_train, y_aras_train)):\n",
    "    print(f\"Fold {i}:\")\n",
    "\n",
    "    X_train = X_aras_train.iloc[train_index]\n",
    "    y_train = y_aras_train.iloc[train_index]\n",
    "    \n",
    "    X_test = X_aras_train.iloc[test_index]\n",
    "    y_test = y_aras_train.iloc[test_index]\n",
    "\n",
    "    trials = Trials()\n",
    "    best_hyperparams += [fmin(fn = objective,\n",
    "                            space = space,\n",
    "                            algo = tpe.suggest,\n",
    "                            max_evals = 100,\n",
    "                            trials = trials)]\n",
    "    print(f\"Params {best_hyperparams[-1]}\")"
   ]
  },
  {
   "cell_type": "code",
   "execution_count": 15,
   "id": "29c36f5f-3f32-4464-a9bb-c75308a76e74",
   "metadata": {},
   "outputs": [
    {
     "name": "stdout",
     "output_type": "stream",
     "text": [
      "The best hyperparameters are :  \n",
      "\n",
      "fold 1: {'colsample_bytree': 0.8084956082707384, 'gamma': 2.6899288117652205, 'learning_rate': 0.1731791560786223, 'max_depth': 12.0, 'min_child_weight': 5.0, 'reg_alpha': 40.0, 'reg_lambda': 0.05105068156107444}\n",
      "fold 2: {'colsample_bytree': 0.6573350248910703, 'gamma': 1.584753219875135, 'learning_rate': 0.1643677300411655, 'max_depth': 14.0, 'min_child_weight': 1.0, 'reg_alpha': 46.0, 'reg_lambda': 0.6395744203920048}\n",
      "fold 3: {'colsample_bytree': 0.9480518173313758, 'gamma': 4.315657553688032, 'learning_rate': 0.2100439767588583, 'max_depth': 17.0, 'min_child_weight': 8.0, 'reg_alpha': 40.0, 'reg_lambda': 0.9800987298988849}\n"
     ]
    }
   ],
   "source": [
    "print(\"The best hyperparameters are : \",\"\\n\")\n",
    "\n",
    "for i, j in enumerate(best_hyperparams):\n",
    "    print(f\"fold {i+1}: {j}\")"
   ]
  },
  {
   "cell_type": "markdown",
   "id": "ac72d583",
   "metadata": {},
   "source": [
    "#### Select best hyperparameters for all folds"
   ]
  },
  {
   "cell_type": "code",
   "execution_count": 9,
   "id": "72e52b3c",
   "metadata": {},
   "outputs": [],
   "source": [
    "best_hyperparams = [\n",
    "    {'colsample_bytree': 0.8084956082707384, 'gamma': 2.6899288117652205, 'learning_rate': 0.1731791560786223, 'max_depth': 12, 'min_child_weight': 5, 'reg_alpha': 40, 'reg_lambda': 0.05105068156107444},\n",
    "    {'colsample_bytree': 0.6573350248910703, 'gamma': 1.584753219875135, 'learning_rate': 0.1643677300411655, 'max_depth': 14, 'min_child_weight': 1, 'reg_alpha': 46, 'reg_lambda': 0.6395744203920048}, \n",
    "    {'colsample_bytree': 0.9480518173313758, 'gamma': 4.315657553688032, 'learning_rate': 0.2100439767588583, 'max_depth': 17, 'min_child_weight': 8, 'reg_alpha': 40, 'reg_lambda': 0.9800987298988849}\n",
    "    ]"
   ]
  },
  {
   "cell_type": "code",
   "execution_count": 10,
   "id": "cdd2b070",
   "metadata": {},
   "outputs": [],
   "source": [
    "skf = StratifiedKFold(n_splits=3)\n",
    "skfolds = skf.split(X_aras_train, y_aras_train)\n",
    "\n",
    "X_trains = []\n",
    "y_trains = []\n",
    "X_tests = []\n",
    "y_tests = []\n",
    "\n",
    "for i, (train_index, test_index) in enumerate(skfolds):\n",
    "\n",
    "    X_trains += [X_aras_train.iloc[train_index].values]\n",
    "    y_trains += [y_aras_train.iloc[train_index].values]\n",
    "    \n",
    "    X_tests += [X_aras_train.iloc[test_index].values]\n",
    "    y_tests += [y_aras_train.iloc[test_index].values]"
   ]
  },
  {
   "cell_type": "code",
   "execution_count": 11,
   "id": "27e1dd86-0883-4320-82ae-5dcc78c3d06b",
   "metadata": {},
   "outputs": [
    {
     "name": "stdout",
     "output_type": "stream",
     "text": [
      "Fold 0 score: 0.814383794214349\n",
      "Fold 1 score: 0.8764439306052003\n",
      "Fold 2 score: 0.8771611338768398\n"
     ]
    }
   ],
   "source": [
    "hypers = best_hyperparams[0]\n",
    "\n",
    "for i, (X_train, y_train, X_test, y_test) in enumerate(zip(X_trains, y_trains, X_tests, y_tests)):\n",
    "\n",
    "    clf=xgb.XGBClassifier(\n",
    "        **hypers, eval_metric=\"auc\", early_stopping_rounds=10, n_estimators=180\n",
    "    )\n",
    "\n",
    "    evaluation = [( X_train, y_train), ( X_test, y_test)]\n",
    "\n",
    "    clf.fit(X_train, y_train,\n",
    "            eval_set=evaluation,\n",
    "            verbose=False)\n",
    "\n",
    "    pred = clf.predict(X_test)\n",
    "    accuracy = accuracy_score(y_test, pred)\n",
    "    print (f\"Fold {i} score: {accuracy}\")"
   ]
  },
  {
   "cell_type": "code",
   "execution_count": 12,
   "id": "5c765fcd-a971-4275-8c0a-b4abf0fa627e",
   "metadata": {},
   "outputs": [
    {
     "name": "stdout",
     "output_type": "stream",
     "text": [
      "Fold 0 score: 0.939008008480542\n",
      "Fold 1 score: 0.9388621478995717\n",
      "Fold 2 score: 0.9407388021877184\n"
     ]
    }
   ],
   "source": [
    "hypers = best_hyperparams[1]\n",
    "\n",
    "for i, (X_train, y_train, X_test, y_test) in enumerate(zip(X_trains, y_trains, X_tests, y_tests)):\n",
    "\n",
    "    clf=xgb.XGBClassifier(\n",
    "        **hypers, eval_metric=\"auc\", early_stopping_rounds=10, n_estimators=180\n",
    "    )\n",
    "\n",
    "    evaluation = [( X_train, y_train), ( X_test, y_test)]\n",
    "\n",
    "    clf.fit(X_train, y_train,\n",
    "            eval_set=evaluation,\n",
    "            verbose=False)\n",
    "\n",
    "    pred = clf.predict(X_test)\n",
    "    accuracy = accuracy_score(y_test, pred)\n",
    "    print (f\"Fold {i} score: {accuracy}\")"
   ]
  },
  {
   "cell_type": "code",
   "execution_count": 13,
   "id": "cd5bc426",
   "metadata": {},
   "outputs": [
    {
     "name": "stdout",
     "output_type": "stream",
     "text": [
      "Fold 0 score: 0.8709665664571377\n",
      "Fold 1 score: 0.8701994587020111\n",
      "Fold 2 score: 0.8707328061696045\n"
     ]
    }
   ],
   "source": [
    "hypers = best_hyperparams[2]\n",
    "\n",
    "for i, (X_train, y_train, X_test, y_test) in enumerate(zip(X_trains, y_trains, X_tests, y_tests)):\n",
    "\n",
    "    clf=xgb.XGBClassifier(\n",
    "        **hypers, eval_metric=\"auc\", early_stopping_rounds=10, n_estimators=180\n",
    "    )\n",
    "\n",
    "    evaluation = [( X_train, y_train), ( X_test, y_test)]\n",
    "\n",
    "    clf.fit(X_train, y_train,\n",
    "            eval_set=evaluation,\n",
    "            verbose=False)\n",
    "\n",
    "    pred = clf.predict(X_test)\n",
    "    accuracy = accuracy_score(y_test, pred)\n",
    "    print (f\"Fold {i} score: {accuracy}\")"
   ]
  },
  {
   "cell_type": "code",
   "execution_count": 14,
   "id": "e78c3cee",
   "metadata": {},
   "outputs": [
    {
     "name": "stdout",
     "output_type": "stream",
     "text": [
      "Fold 0 score: 0.8875317813279004\n",
      "Fold 1 score: 0.8934977986994272\n",
      "Fold 2 score: 0.8926050214167166\n"
     ]
    }
   ],
   "source": [
    "for i, (X_train, y_train, X_test, y_test) in enumerate(zip(X_trains, y_trains, X_tests, y_tests)):\n",
    "\n",
    "    clf=xgb.XGBClassifier(\n",
    "        eval_metric=\"auc\", early_stopping_rounds=10, n_estimators=180\n",
    "    )\n",
    "\n",
    "    evaluation = [( X_train, y_train), ( X_test, y_test)]\n",
    "\n",
    "    clf.fit(X_train, y_train,\n",
    "            eval_set=evaluation,\n",
    "            verbose=False)\n",
    "\n",
    "    pred = clf.predict(X_test)\n",
    "    accuracy = accuracy_score(y_test, pred)\n",
    "    print (f\"Fold {i} score: {accuracy}\")"
   ]
  },
  {
   "cell_type": "markdown",
   "id": "ff921144-a1b2-4a08-9b13-ca504d9ccf02",
   "metadata": {},
   "source": [
    "### Not used ↓↓↓↓"
   ]
  },
  {
   "cell_type": "code",
   "execution_count": null,
   "id": "2d91785d-4b88-4d29-8702-048946eb9e54",
   "metadata": {},
   "outputs": [],
   "source": [
    "X_aras_train = X_aras.loc[(\n",
    "    (X_aras['DAY_26'] != 1) & \n",
    "    (X_aras['DAY_27'] != 1) & \n",
    "    (X_aras['DAY_28'] != 1) & \n",
    "    (X_aras['DAY_29'] != 1) &\n",
    "    (X_aras['DAY_30'] != 1) \n",
    ")]\n",
    "\n",
    "X_aras_test = X_aras.loc[(\n",
    "    (X_aras['DAY_26'] == 1) | \n",
    "    (X_aras['DAY_27'] == 1) | \n",
    "    (X_aras['DAY_28'] == 1) | \n",
    "    (X_aras['DAY_29'] == 1) | \n",
    "    (X_aras['DAY_30'] == 1) \n",
    ")]"
   ]
  },
  {
   "cell_type": "code",
   "execution_count": null,
   "id": "ae3e3248-8d59-4951-a23f-040416b2d358",
   "metadata": {},
   "outputs": [],
   "source": [
    "y_aras_train = X_aras_train['LABEL']\n",
    "y_aras_test = X_aras_test['LABEL']\n",
    "\n",
    "\n",
    "X_aras_train = X_aras_train.drop(columns=['LABEL'])\n",
    "X_aras_test = X_aras_test.drop(columns=['LABEL'])"
   ]
  },
  {
   "cell_type": "code",
   "execution_count": null,
   "id": "6b6a0bda-76f1-45af-89cb-728b58c0612a",
   "metadata": {},
   "outputs": [],
   "source": [
    "X_aras_train.shape, y_aras_train.shape, X_aras_test.shape, y_aras_test.shape"
   ]
  },
  {
   "cell_type": "code",
   "execution_count": null,
   "id": "d39142c2-3853-462a-8325-de5e6c2f8d65",
   "metadata": {},
   "outputs": [],
   "source": []
  },
  {
   "cell_type": "code",
   "execution_count": null,
   "id": "ae19add8-140a-41de-8886-536d62bcf9dd",
   "metadata": {},
   "outputs": [],
   "source": [
    "from sklearn.datasets import make_multilabel_classification"
   ]
  },
  {
   "cell_type": "code",
   "execution_count": null,
   "id": "441a7c82-ee35-4c93-adfd-4579cb528136",
   "metadata": {},
   "outputs": [],
   "source": [
    "X, y = make_multilabel_classification(n_samples=3000, n_features=45, n_classes=20, n_labels=1,\n",
    "                                      allow_unlabeled=False, random_state=42)"
   ]
  },
  {
   "cell_type": "code",
   "execution_count": null,
   "id": "216c04b4-6f60-4cfe-87a3-8ca7fa950ac4",
   "metadata": {},
   "outputs": [],
   "source": [
    "X"
   ]
  }
 ],
 "metadata": {
  "kernelspec": {
   "display_name": "raftel",
   "language": "python",
   "name": "python3"
  },
  "language_info": {
   "codemirror_mode": {
    "name": "ipython",
    "version": 3
   },
   "file_extension": ".py",
   "mimetype": "text/x-python",
   "name": "python",
   "nbconvert_exporter": "python",
   "pygments_lexer": "ipython3",
   "version": "3.8.18"
  }
 },
 "nbformat": 4,
 "nbformat_minor": 5
}
