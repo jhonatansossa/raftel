{
 "cells": [
  {
   "cell_type": "code",
   "execution_count": null,
   "id": "4f2033be-7faa-49c9-b27a-47952c9ab3fc",
   "metadata": {},
   "outputs": [],
   "source": [
    "%load_ext kedro.extras.extensions.ipython"
   ]
  },
  {
   "cell_type": "code",
   "execution_count": null,
   "id": "3b380379-9f92-4cdc-b083-20fe637039f0",
   "metadata": {},
   "outputs": [],
   "source": [
    "%reload_kedro"
   ]
  },
  {
   "cell_type": "code",
   "execution_count": null,
   "id": "b9a8f85f-4a76-4bb0-9cd0-b8fa98a27742",
   "metadata": {},
   "outputs": [],
   "source": [
    "from pyspark.sql import SparkSession\n",
    "from pyspark.sql.types import StructType, StructField, IntegerType, StringType\n",
    "import pyspark.sql.functions as F\n",
    "from pyspark.sql.window import Window\n",
    "import math"
   ]
  },
  {
   "cell_type": "code",
   "execution_count": null,
   "id": "1e269c69-37bb-46c8-ba38-80c681ff4c6e",
   "metadata": {},
   "outputs": [],
   "source": [
    "master_table = catalog.load(\"master_table@spark\")"
   ]
  },
  {
   "cell_type": "markdown",
   "id": "e7bce316-e7b0-4b2c-8673-1e0de3de0115",
   "metadata": {},
   "source": [
    "### Create cyclical features for the time"
   ]
  },
  {
   "cell_type": "code",
   "execution_count": null,
   "id": "6c20cd69-cf61-44e6-ac7d-d36ab8e5ef44",
   "metadata": {
    "scrolled": true
   },
   "outputs": [],
   "source": [
    "master_table = master_table.withColumn(\n",
    "    \"SEC2\",\n",
    "    F.col(\"SEC\") - (F.col(\"DAY\") - 1) *  86400\n",
    ").withColumn(\n",
    "    \"SEC_SIN\",\n",
    "    F.sin(2 * math.pi * F.col(\"SEC2\")/86400)\n",
    ").withColumn(\n",
    "    \"SEC_COS\",\n",
    "    F.cos(2 * math.pi * F.col(\"SEC2\")/86400)\n",
    ")"
   ]
  },
  {
   "cell_type": "markdown",
   "id": "77250a18-76d1-4ce0-a4cc-114894cf5aa4",
   "metadata": {},
   "source": [
    "### Create dummies for DAY"
   ]
  },
  {
   "cell_type": "code",
   "execution_count": null,
   "id": "6de78190-368d-484c-a147-57faf82f40bb",
   "metadata": {},
   "outputs": [],
   "source": [
    "master_table = master_table.withColumn(\n",
    "    \"DAY_OF_WEEK\",\n",
    "    F.when(\n",
    "        F.col(\"DAY\") % 7 == 0, 7\n",
    "    ).otherwise(\n",
    "    F.expr(\"CAST(DAY AS INT) % 7\")\n",
    "    )\n",
    ")"
   ]
  },
  {
   "cell_type": "code",
   "execution_count": null,
   "id": "841c5030-68fa-4e46-ada2-8f2da35f4479",
   "metadata": {},
   "outputs": [],
   "source": [
    "expresiones_columnas_no_numericas = []\n",
    "columna = \"DAY_OF_WEEK\"\n",
    "\n",
    "unicos_columna = (\n",
    "    master_table.select(columna)\n",
    "    .distinct()\n",
    "    .rdd.flatMap(lambda x: x)\n",
    "    .collect()\n",
    ")\n",
    "\n",
    "unicos_columna.sort()\n",
    "\n",
    "expr_unicos_columna = [\n",
    "    F.when(\n",
    "        F.col(columna)\n",
    "        == valor_unico,\n",
    "        1,\n",
    "    )\n",
    "    .otherwise(0)\n",
    "    .alias(\n",
    "        \"{columna}_{valor}\".format(\n",
    "            columna=columna,\n",
    "            valor=int(valor_unico),\n",
    "        )\n",
    "    )\n",
    "    for valor_unico in unicos_columna\n",
    "    if valor_unico != 1 #tiene un efecto parecido que drop_first=True\n",
    "]\n",
    "\n",
    "expresiones_columnas_no_numericas += expr_unicos_columna"
   ]
  },
  {
   "cell_type": "code",
   "execution_count": null,
   "id": "a2a649e8-cbf7-41e8-846a-9ce334f89b2c",
   "metadata": {},
   "outputs": [],
   "source": [
    "master_table = master_table.select(\"*\", *expresiones_columnas_no_numericas)"
   ]
  },
  {
   "cell_type": "code",
   "execution_count": null,
   "id": "fe74a98f-d436-435f-b984-e1465154fe9f",
   "metadata": {},
   "outputs": [],
   "source": [
    "master_table = master_table.select(\n",
    "    'SEC_SIN',\n",
    "    'SEC_COS',\n",
    "    'Ph1',\n",
    "    'Ph2',\n",
    "    'Ir1',\n",
    "    'Fo1',\n",
    "    'Fo2',\n",
    "    'Di3',\n",
    "    'Di4',\n",
    "    'Ph3',\n",
    "    'Ph4',\n",
    "    'Ph5',\n",
    "    'Ph6',\n",
    "    'Co1',\n",
    "    'Co2',\n",
    "    'Co3',\n",
    "    'So1',\n",
    "    'So2',\n",
    "    'Di1',\n",
    "    'Di2',\n",
    "    'Te1',\n",
    "    'Fo3',\n",
    "    'DAY_OF_WEEK_2',\n",
    "    'DAY_OF_WEEK_3',\n",
    "    'DAY_OF_WEEK_4',\n",
    "    'DAY_OF_WEEK_5',\n",
    "    'DAY_OF_WEEK_6',\n",
    "    'DAY_OF_WEEK_7',\n",
    "    'Lag3_LABEL',\n",
    "    'Lag2_LABEL',\n",
    "    'Lag1_LABEL',\n",
    "    'LABEL'\n",
    ")"
   ]
  },
  {
   "cell_type": "code",
   "execution_count": null,
   "id": "600eac20-a5d8-4a2e-b7dc-8fdf347ff966",
   "metadata": {},
   "outputs": [],
   "source": [
    "catalog.save(\"featured_master_table@spark\", master_table)"
   ]
  },
  {
   "cell_type": "code",
   "execution_count": null,
   "id": "c0cb2bbe-12a3-4c9e-9e56-8c5b1d439425",
   "metadata": {},
   "outputs": [],
   "source": [
    "master_table.groupby(\"LABEL\").agg(F.count(\"LABEL\").alias(\"COUNT\")).filter(F.col(\"COUNT\")<10).show()"
   ]
  },
  {
   "cell_type": "code",
   "execution_count": null,
   "id": "0ac296e1-76a4-4943-b4ff-133b8e1ed19a",
   "metadata": {},
   "outputs": [],
   "source": [
    "import pandas as pd\n",
    "import numpy as np\n",
    "from sklearn.model_selection import TimeSeriesSplit, GridSearchCV, train_test_split, KFold, StratifiedKFold\n",
    "import xgboost as xgb\n",
    "from sklearn.metrics import accuracy_score\n",
    "from hyperopt import STATUS_OK, Trials, fmin, hp, tpe\n",
    "from sklearn.preprocessing import LabelEncoder"
   ]
  },
  {
   "cell_type": "markdown",
   "id": "eff041d0-10a1-4162-b4ce-7889d8ece925",
   "metadata": {},
   "source": [
    "### Train and test split"
   ]
  },
  {
   "cell_type": "code",
   "execution_count": null,
   "id": "3b4adcd8-ae1e-4bf4-9c5e-8ca8a661df3e",
   "metadata": {},
   "outputs": [],
   "source": [
    "X_aras = catalog.load(\"featured_master_table@pandas\")"
   ]
  },
  {
   "cell_type": "code",
   "execution_count": null,
   "id": "9b61d491-f995-4c3e-b387-76b045eb0259",
   "metadata": {},
   "outputs": [],
   "source": [
    "y_aras = X_aras['LABEL']\n",
    "X_aras = X_aras.drop(columns=['LABEL'])"
   ]
  },
  {
   "cell_type": "code",
   "execution_count": null,
   "id": "c5b401df-51aa-4554-9883-f3bcb37173a4",
   "metadata": {},
   "outputs": [],
   "source": [
    "X_aras_train, X_aras_test, y_aras_train, y_aras_test = train_test_split(X_aras, y_aras, test_size = 0.3, random_state = 0, stratify = y_aras)"
   ]
  },
  {
   "cell_type": "code",
   "execution_count": null,
   "id": "ac2d3d94-20e8-43bf-80e7-ab593dd49785",
   "metadata": {},
   "outputs": [],
   "source": [
    "X_aras_train.shape, X_aras_test.shape, y_aras_train.shape, y_aras_test.shape"
   ]
  },
  {
   "cell_type": "code",
   "execution_count": null,
   "id": "7daa06c1-38ea-45b7-bdba-4f14a1c998e8",
   "metadata": {},
   "outputs": [],
   "source": [
    "df = y_aras_train.to_frame().groupby(['LABEL']).agg({'LABEL': ['count']})\n",
    "df[df.LABEL['count'] < 10]"
   ]
  },
  {
   "cell_type": "code",
   "execution_count": null,
   "id": "c7c102ac-a2a2-4891-90f4-254e147cd974",
   "metadata": {},
   "outputs": [],
   "source": [
    "df = y_aras_test.to_frame().groupby(['LABEL']).agg({'LABEL': ['count']})\n",
    "df[df.LABEL['count'] < 10]"
   ]
  },
  {
   "cell_type": "markdown",
   "id": "332c854c-11bf-48ec-8bde-51e6c402fddb",
   "metadata": {},
   "source": [
    "## Experiments"
   ]
  },
  {
   "cell_type": "markdown",
   "id": "73132702-ec53-47c2-8794-977ae103ea6b",
   "metadata": {},
   "source": [
    "### Cross Validation"
   ]
  },
  {
   "cell_type": "markdown",
   "id": "6df43385-aa18-4847-b7a7-79a57f4f530d",
   "metadata": {},
   "source": [
    "### 1. Model with XGBoost and encoded activities in one label. No windowing."
   ]
  },
  {
   "cell_type": "code",
   "execution_count": null,
   "id": "d4b95a35-4a31-4d63-a065-1c641002bb54",
   "metadata": {},
   "outputs": [],
   "source": [
    "space={'max_depth': hp.quniform(\"max_depth\", 3, 18, 1),\n",
    "        'gamma': hp.uniform ('gamma', 1,9),\n",
    "        'reg_alpha' : hp.quniform('reg_alpha', 40,180,1),\n",
    "        'reg_lambda' : hp.uniform('reg_lambda', 0,1),\n",
    "        'colsample_bytree' : hp.uniform('colsample_bytree', 0.5,1),\n",
    "        'min_child_weight' : hp.quniform('min_child_weight', 0, 10, 1),\n",
    "        'n_estimators': 180,\n",
    "        'seed': 0,\n",
    "    }"
   ]
  },
  {
   "cell_type": "code",
   "execution_count": null,
   "id": "11a94522-dd5e-4603-baee-355e08f68a76",
   "metadata": {},
   "outputs": [],
   "source": [
    "def objective(space):\n",
    "    clf=xgb.XGBClassifier(\n",
    "                    n_estimators =space['n_estimators'], max_depth = int(space['max_depth']), gamma = space['gamma'],\n",
    "                    reg_alpha = int(space['reg_alpha']),min_child_weight=int(space['min_child_weight']),\n",
    "                    colsample_bytree=int(space['colsample_bytree']), eval_metric=\"auc\", early_stopping_rounds=10\n",
    "    )\n",
    "    \n",
    "    evaluation = [( X_train, y_train), ( X_test, y_test)]\n",
    "    \n",
    "    clf.fit(X_train, y_train,\n",
    "            eval_set=evaluation,\n",
    "            verbose=False)\n",
    "    \n",
    "\n",
    "    pred = clf.predict(X_test)\n",
    "    accuracy = accuracy_score(y_test, pred)\n",
    "    print (\"SCORE:\", accuracy)\n",
    "    return {'loss': -accuracy, 'status': STATUS_OK }"
   ]
  },
  {
   "cell_type": "code",
   "execution_count": null,
   "id": "11bb3564-086f-42f2-a286-ea466b75921e",
   "metadata": {},
   "outputs": [],
   "source": [
    "skf = StratifiedKFold(n_splits=3)\n",
    "best_hyperparams = []\n",
    "\n",
    "for i, (train_index, test_index) in enumerate(skf.split(X_aras_train, y_aras_train)):\n",
    "    print(f\"Fold {i}:\")\n",
    "\n",
    "    X_train = X_aras_train.iloc[train_index]\n",
    "    y_train = y_aras_train.iloc[train_index]\n",
    "    \n",
    "    X_test = X_aras_train.iloc[test_index]\n",
    "    y_test = y_aras_train.iloc[test_index]\n",
    "\n",
    "    trials = Trials()\n",
    "    best_hyperparams += [fmin(fn = objective,\n",
    "                            space = space,\n",
    "                            algo = tpe.suggest,\n",
    "                            max_evals = 100,\n",
    "                            trials = trials)]"
   ]
  },
  {
   "cell_type": "code",
   "execution_count": null,
   "id": "29c36f5f-3f32-4464-a9bb-c75308a76e74",
   "metadata": {},
   "outputs": [],
   "source": [
    "print(\"The best hyperparameters are : \",\"\\n\")\n",
    "print(best_hyperparams)"
   ]
  },
  {
   "cell_type": "code",
   "execution_count": null,
   "id": "27e1dd86-0883-4320-82ae-5dcc78c3d06b",
   "metadata": {},
   "outputs": [],
   "source": []
  },
  {
   "cell_type": "code",
   "execution_count": null,
   "id": "5c57742b-f67c-4d90-9d6c-e47e3b802dce",
   "metadata": {},
   "outputs": [],
   "source": []
  },
  {
   "cell_type": "code",
   "execution_count": null,
   "id": "2895e8e2-3862-447f-a175-162b2ac350a3",
   "metadata": {},
   "outputs": [],
   "source": []
  },
  {
   "cell_type": "code",
   "execution_count": null,
   "id": "5c765fcd-a971-4275-8c0a-b4abf0fa627e",
   "metadata": {},
   "outputs": [],
   "source": []
  },
  {
   "cell_type": "markdown",
   "id": "ff921144-a1b2-4a08-9b13-ca504d9ccf02",
   "metadata": {},
   "source": [
    "### Not used ↓↓↓↓"
   ]
  },
  {
   "cell_type": "code",
   "execution_count": null,
   "id": "2d91785d-4b88-4d29-8702-048946eb9e54",
   "metadata": {},
   "outputs": [],
   "source": [
    "X_aras_train = X_aras.loc[(\n",
    "    (X_aras['DAY_26'] != 1) & \n",
    "    (X_aras['DAY_27'] != 1) & \n",
    "    (X_aras['DAY_28'] != 1) & \n",
    "    (X_aras['DAY_29'] != 1) &\n",
    "    (X_aras['DAY_30'] != 1) \n",
    ")]\n",
    "\n",
    "X_aras_test = X_aras.loc[(\n",
    "    (X_aras['DAY_26'] == 1) | \n",
    "    (X_aras['DAY_27'] == 1) | \n",
    "    (X_aras['DAY_28'] == 1) | \n",
    "    (X_aras['DAY_29'] == 1) | \n",
    "    (X_aras['DAY_30'] == 1) \n",
    ")]"
   ]
  },
  {
   "cell_type": "code",
   "execution_count": null,
   "id": "ae3e3248-8d59-4951-a23f-040416b2d358",
   "metadata": {},
   "outputs": [],
   "source": [
    "y_aras_train = X_aras_train['LABEL']\n",
    "y_aras_test = X_aras_test['LABEL']\n",
    "\n",
    "\n",
    "X_aras_train = X_aras_train.drop(columns=['LABEL'])\n",
    "X_aras_test = X_aras_test.drop(columns=['LABEL'])"
   ]
  },
  {
   "cell_type": "code",
   "execution_count": null,
   "id": "6b6a0bda-76f1-45af-89cb-728b58c0612a",
   "metadata": {},
   "outputs": [],
   "source": [
    "X_aras_train.shape, y_aras_train.shape, X_aras_test.shape, y_aras_test.shape"
   ]
  },
  {
   "cell_type": "code",
   "execution_count": null,
   "id": "d39142c2-3853-462a-8325-de5e6c2f8d65",
   "metadata": {},
   "outputs": [],
   "source": []
  },
  {
   "cell_type": "code",
   "execution_count": null,
   "id": "ae19add8-140a-41de-8886-536d62bcf9dd",
   "metadata": {},
   "outputs": [],
   "source": [
    "from sklearn.datasets import make_multilabel_classification"
   ]
  },
  {
   "cell_type": "code",
   "execution_count": null,
   "id": "441a7c82-ee35-4c93-adfd-4579cb528136",
   "metadata": {},
   "outputs": [],
   "source": [
    "X, y = make_multilabel_classification(n_samples=3000, n_features=45, n_classes=20, n_labels=1,\n",
    "                                      allow_unlabeled=False, random_state=42)"
   ]
  },
  {
   "cell_type": "code",
   "execution_count": null,
   "id": "216c04b4-6f60-4cfe-87a3-8ca7fa950ac4",
   "metadata": {},
   "outputs": [],
   "source": [
    "X"
   ]
  }
 ],
 "metadata": {
  "kernelspec": {
   "display_name": "Kedro (raftel)",
   "language": "python",
   "name": "kedro_raftel"
  },
  "language_info": {
   "codemirror_mode": {
    "name": "ipython",
    "version": 3
   },
   "file_extension": ".py",
   "mimetype": "text/x-python",
   "name": "python",
   "nbconvert_exporter": "python",
   "pygments_lexer": "ipython3",
   "version": "3.8.18"
  }
 },
 "nbformat": 4,
 "nbformat_minor": 5
}
