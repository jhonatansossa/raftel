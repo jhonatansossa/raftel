{
 "cells": [
  {
   "cell_type": "code",
   "execution_count": 1,
   "id": "44902fa5-0456-45cf-bf22-54be77dc6f46",
   "metadata": {},
   "outputs": [
    {
     "data": {
      "text/html": [
       "<pre style=\"white-space:pre;overflow-x:auto;line-height:normal;font-family:Menlo,'DejaVu Sans Mono',consolas,'Courier New',monospace\"><span style=\"color: #7fbfbf; text-decoration-color: #7fbfbf\">[04/03/24 01:23:22] </span><span style=\"color: #800000; text-decoration-color: #800000\">WARNING </span> <span style=\"color: #800080; text-decoration-color: #800080\">/home/smartroom/miniconda3/envs/raftel/lib/python3.8/site-packages/ked</span> <a href=\"file:///home/smartroom/miniconda3/envs/raftel/lib/python3.8/warnings.py\" target=\"_blank\"><span style=\"color: #7f7f7f; text-decoration-color: #7f7f7f\">warnings.py</span></a><span style=\"color: #7f7f7f; text-decoration-color: #7f7f7f\">:</span><a href=\"file:///home/smartroom/miniconda3/envs/raftel/lib/python3.8/warnings.py#109\" target=\"_blank\"><span style=\"color: #7f7f7f; text-decoration-color: #7f7f7f\">109</span></a>\n",
       "<span style=\"color: #7fbfbf; text-decoration-color: #7fbfbf\">                    </span>         <span style=\"color: #800080; text-decoration-color: #800080\">ro/extras/extensions/</span><span style=\"color: #ff00ff; text-decoration-color: #ff00ff\">ipython.py</span>:<span style=\"color: #008080; text-decoration-color: #008080; font-weight: bold\">18</span>: DeprecationWarning:                <span style=\"color: #7f7f7f; text-decoration-color: #7f7f7f\">               </span>\n",
       "<span style=\"color: #7fbfbf; text-decoration-color: #7fbfbf\">                    </span>         kedro.extras.extensions.ipython should be accessed only using the      <span style=\"color: #7f7f7f; text-decoration-color: #7f7f7f\">               </span>\n",
       "<span style=\"color: #7fbfbf; text-decoration-color: #7fbfbf\">                    </span>         alias kedro.ipython. The unaliased name will be removed in Kedro       <span style=\"color: #7f7f7f; text-decoration-color: #7f7f7f\">               </span>\n",
       "<span style=\"color: #7fbfbf; text-decoration-color: #7fbfbf\">                    </span>         <span style=\"color: #008080; text-decoration-color: #008080; font-weight: bold\">0.19</span>.<span style=\"color: #008080; text-decoration-color: #008080; font-weight: bold\">0</span>.                                                                <span style=\"color: #7f7f7f; text-decoration-color: #7f7f7f\">               </span>\n",
       "<span style=\"color: #7fbfbf; text-decoration-color: #7fbfbf\">                    </span>           <span style=\"color: #800080; text-decoration-color: #800080; font-weight: bold\">warnings.warn</span><span style=\"font-weight: bold\">(</span>                                                       <span style=\"color: #7f7f7f; text-decoration-color: #7f7f7f\">               </span>\n",
       "<span style=\"color: #7fbfbf; text-decoration-color: #7fbfbf\">                    </span>                                                                                <span style=\"color: #7f7f7f; text-decoration-color: #7f7f7f\">               </span>\n",
       "</pre>\n"
      ],
      "text/plain": [
       "\u001b[2;36m[04/03/24 01:23:22]\u001b[0m\u001b[2;36m \u001b[0m\u001b[31mWARNING \u001b[0m \u001b[35m/home/smartroom/miniconda3/envs/raftel/lib/python3.8/site-packages/ked\u001b[0m \u001b]8;id=713392;file:///home/smartroom/miniconda3/envs/raftel/lib/python3.8/warnings.py\u001b\\\u001b[2mwarnings.py\u001b[0m\u001b]8;;\u001b\\\u001b[2m:\u001b[0m\u001b]8;id=957295;file:///home/smartroom/miniconda3/envs/raftel/lib/python3.8/warnings.py#109\u001b\\\u001b[2m109\u001b[0m\u001b]8;;\u001b\\\n",
       "\u001b[2;36m                    \u001b[0m         \u001b[35mro/extras/extensions/\u001b[0m\u001b[95mipython.py\u001b[0m:\u001b[1;36m18\u001b[0m: DeprecationWarning:                \u001b[2m               \u001b[0m\n",
       "\u001b[2;36m                    \u001b[0m         kedro.extras.extensions.ipython should be accessed only using the      \u001b[2m               \u001b[0m\n",
       "\u001b[2;36m                    \u001b[0m         alias kedro.ipython. The unaliased name will be removed in Kedro       \u001b[2m               \u001b[0m\n",
       "\u001b[2;36m                    \u001b[0m         \u001b[1;36m0.19\u001b[0m.\u001b[1;36m0\u001b[0m.                                                                \u001b[2m               \u001b[0m\n",
       "\u001b[2;36m                    \u001b[0m           \u001b[1;35mwarnings.warn\u001b[0m\u001b[1m(\u001b[0m                                                       \u001b[2m               \u001b[0m\n",
       "\u001b[2;36m                    \u001b[0m                                                                                \u001b[2m               \u001b[0m\n"
      ]
     },
     "metadata": {},
     "output_type": "display_data"
    },
    {
     "data": {
      "text/html": [
       "<pre style=\"white-space:pre;overflow-x:auto;line-height:normal;font-family:Menlo,'DejaVu Sans Mono',consolas,'Courier New',monospace\"><span style=\"color: #7fbfbf; text-decoration-color: #7fbfbf\">                    </span><span style=\"color: #000080; text-decoration-color: #000080\">INFO    </span> Resolved project path as: <span style=\"color: #800080; text-decoration-color: #800080\">/home/smartroom/jhonatan/</span><span style=\"color: #ff00ff; text-decoration-color: #ff00ff\">raftel.</span>             <a href=\"file:///home/smartroom/miniconda3/envs/raftel/lib/python3.8/site-packages/kedro/ipython/__init__.py\" target=\"_blank\"><span style=\"color: #7f7f7f; text-decoration-color: #7f7f7f\">__init__.py</span></a><span style=\"color: #7f7f7f; text-decoration-color: #7f7f7f\">:</span><a href=\"file:///home/smartroom/miniconda3/envs/raftel/lib/python3.8/site-packages/kedro/ipython/__init__.py#134\" target=\"_blank\"><span style=\"color: #7f7f7f; text-decoration-color: #7f7f7f\">134</span></a>\n",
       "<span style=\"color: #7fbfbf; text-decoration-color: #7fbfbf\">                    </span>         To set a different path, run <span style=\"color: #008000; text-decoration-color: #008000\">'%reload_kedro &lt;project_root&gt;'</span>            <span style=\"color: #7f7f7f; text-decoration-color: #7f7f7f\">               </span>\n",
       "</pre>\n"
      ],
      "text/plain": [
       "\u001b[2;36m                   \u001b[0m\u001b[2;36m \u001b[0m\u001b[34mINFO    \u001b[0m Resolved project path as: \u001b[35m/home/smartroom/jhonatan/\u001b[0m\u001b[95mraftel.\u001b[0m             \u001b]8;id=178341;file:///home/smartroom/miniconda3/envs/raftel/lib/python3.8/site-packages/kedro/ipython/__init__.py\u001b\\\u001b[2m__init__.py\u001b[0m\u001b]8;;\u001b\\\u001b[2m:\u001b[0m\u001b]8;id=63152;file:///home/smartroom/miniconda3/envs/raftel/lib/python3.8/site-packages/kedro/ipython/__init__.py#134\u001b\\\u001b[2m134\u001b[0m\u001b]8;;\u001b\\\n",
       "\u001b[2;36m                    \u001b[0m         To set a different path, run \u001b[32m'%reload_kedro \u001b[0m\u001b[32m<\u001b[0m\u001b[32mproject_root\u001b[0m\u001b[32m>\u001b[0m\u001b[32m'\u001b[0m            \u001b[2m               \u001b[0m\n"
      ]
     },
     "metadata": {},
     "output_type": "display_data"
    },
    {
     "name": "stderr",
     "output_type": "stream",
     "text": [
      "your 131072x1 screen size is bogus. expect trouble\n",
      "24/04/03 01:23:25 WARN Utils: Your hostname, WIN-0B8Q3RIVNP0 resolves to a loopback address: 127.0.1.1; using 172.31.114.225 instead (on interface eth0)\n",
      "24/04/03 01:23:25 WARN Utils: Set SPARK_LOCAL_IP if you need to bind to another address\n"
     ]
    },
    {
     "name": "stdout",
     "output_type": "stream",
     "text": [
      ":: loading settings :: url = jar:file:/home/smartroom/miniconda3/envs/raftel/lib/python3.8/site-packages/pyspark/jars/ivy-2.5.1.jar!/org/apache/ivy/core/settings/ivysettings.xml\n"
     ]
    },
    {
     "name": "stderr",
     "output_type": "stream",
     "text": [
      "Ivy Default Cache set to: /home/smartroom/.ivy2/cache\n",
      "The jars for the packages stored in: /home/smartroom/.ivy2/jars\n",
      "io.delta#delta-core_2.12 added as a dependency\n",
      "org.apache.hadoop#hadoop-aws added as a dependency\n",
      "software.aws.rds#aws-mysql-jdbc added as a dependency\n",
      ":: resolving dependencies :: org.apache.spark#spark-submit-parent-dae66bf7-6c96-4fdf-9704-a6d1e890b723;1.0\n",
      "\tconfs: [default]\n",
      "\tfound io.delta#delta-core_2.12;2.4.0 in central\n",
      "\tfound io.delta#delta-storage;2.4.0 in central\n",
      "\tfound org.antlr#antlr4-runtime;4.9.3 in central\n",
      "\tfound org.apache.hadoop#hadoop-aws;3.3.2 in central\n",
      "\tfound com.amazonaws#aws-java-sdk-bundle;1.11.1026 in central\n",
      "\tfound org.wildfly.openssl#wildfly-openssl;1.0.7.Final in central\n",
      "\tfound software.aws.rds#aws-mysql-jdbc;1.0.0 in central\n",
      ":: resolution report :: resolve 380ms :: artifacts dl 13ms\n",
      "\t:: modules in use:\n",
      "\tcom.amazonaws#aws-java-sdk-bundle;1.11.1026 from central in [default]\n",
      "\tio.delta#delta-core_2.12;2.4.0 from central in [default]\n",
      "\tio.delta#delta-storage;2.4.0 from central in [default]\n",
      "\torg.antlr#antlr4-runtime;4.9.3 from central in [default]\n",
      "\torg.apache.hadoop#hadoop-aws;3.3.2 from central in [default]\n",
      "\torg.wildfly.openssl#wildfly-openssl;1.0.7.Final from central in [default]\n",
      "\tsoftware.aws.rds#aws-mysql-jdbc;1.0.0 from central in [default]\n",
      "\t---------------------------------------------------------------------\n",
      "\t|                  |            modules            ||   artifacts   |\n",
      "\t|       conf       | number| search|dwnlded|evicted|| number|dwnlded|\n",
      "\t---------------------------------------------------------------------\n",
      "\t|      default     |   7   |   0   |   0   |   0   ||   7   |   0   |\n",
      "\t---------------------------------------------------------------------\n",
      ":: retrieving :: org.apache.spark#spark-submit-parent-dae66bf7-6c96-4fdf-9704-a6d1e890b723\n",
      "\tconfs: [default]\n",
      "\t0 artifacts copied, 7 already retrieved (0kB/10ms)\n",
      "24/04/03 01:23:27 WARN NativeCodeLoader: Unable to load native-hadoop library for your platform... using builtin-java classes where applicable\n",
      "Setting default log level to \"WARN\".\n",
      "To adjust logging level use sc.setLogLevel(newLevel). For SparkR, use setLogLevel(newLevel).\n"
     ]
    },
    {
     "name": "stdout",
     "output_type": "stream",
     "text": [
      "http://172.31.114.225:4051\n"
     ]
    },
    {
     "data": {
      "text/html": [
       "<pre style=\"white-space:pre;overflow-x:auto;line-height:normal;font-family:Menlo,'DejaVu Sans Mono',consolas,'Courier New',monospace\"><span style=\"color: #7fbfbf; text-decoration-color: #7fbfbf\">[04/03/24 01:23:32] </span><span style=\"color: #000080; text-decoration-color: #000080\">INFO    </span> Kedro project raftel                                                   <a href=\"file:///home/smartroom/miniconda3/envs/raftel/lib/python3.8/site-packages/kedro/ipython/__init__.py\" target=\"_blank\"><span style=\"color: #7f7f7f; text-decoration-color: #7f7f7f\">__init__.py</span></a><span style=\"color: #7f7f7f; text-decoration-color: #7f7f7f\">:</span><a href=\"file:///home/smartroom/miniconda3/envs/raftel/lib/python3.8/site-packages/kedro/ipython/__init__.py#103\" target=\"_blank\"><span style=\"color: #7f7f7f; text-decoration-color: #7f7f7f\">103</span></a>\n",
       "</pre>\n"
      ],
      "text/plain": [
       "\u001b[2;36m[04/03/24 01:23:32]\u001b[0m\u001b[2;36m \u001b[0m\u001b[34mINFO    \u001b[0m Kedro project raftel                                                   \u001b]8;id=282942;file:///home/smartroom/miniconda3/envs/raftel/lib/python3.8/site-packages/kedro/ipython/__init__.py\u001b\\\u001b[2m__init__.py\u001b[0m\u001b]8;;\u001b\\\u001b[2m:\u001b[0m\u001b]8;id=860020;file:///home/smartroom/miniconda3/envs/raftel/lib/python3.8/site-packages/kedro/ipython/__init__.py#103\u001b\\\u001b[2m103\u001b[0m\u001b]8;;\u001b\\\n"
      ]
     },
     "metadata": {},
     "output_type": "display_data"
    },
    {
     "data": {
      "text/html": [
       "<pre style=\"white-space:pre;overflow-x:auto;line-height:normal;font-family:Menlo,'DejaVu Sans Mono',consolas,'Courier New',monospace\"><span style=\"color: #7fbfbf; text-decoration-color: #7fbfbf\">[04/03/24 01:23:33] </span><span style=\"color: #000080; text-decoration-color: #000080\">INFO    </span> Defined global variable <span style=\"color: #008000; text-decoration-color: #008000\">'context'</span>, <span style=\"color: #008000; text-decoration-color: #008000\">'session'</span>, <span style=\"color: #008000; text-decoration-color: #008000\">'catalog'</span> and            <a href=\"file:///home/smartroom/miniconda3/envs/raftel/lib/python3.8/site-packages/kedro/ipython/__init__.py\" target=\"_blank\"><span style=\"color: #7f7f7f; text-decoration-color: #7f7f7f\">__init__.py</span></a><span style=\"color: #7f7f7f; text-decoration-color: #7f7f7f\">:</span><a href=\"file:///home/smartroom/miniconda3/envs/raftel/lib/python3.8/site-packages/kedro/ipython/__init__.py#104\" target=\"_blank\"><span style=\"color: #7f7f7f; text-decoration-color: #7f7f7f\">104</span></a>\n",
       "<span style=\"color: #7fbfbf; text-decoration-color: #7fbfbf\">                    </span>         <span style=\"color: #008000; text-decoration-color: #008000\">'pipelines'</span>                                                            <span style=\"color: #7f7f7f; text-decoration-color: #7f7f7f\">               </span>\n",
       "</pre>\n"
      ],
      "text/plain": [
       "\u001b[2;36m[04/03/24 01:23:33]\u001b[0m\u001b[2;36m \u001b[0m\u001b[34mINFO    \u001b[0m Defined global variable \u001b[32m'context'\u001b[0m, \u001b[32m'session'\u001b[0m, \u001b[32m'catalog'\u001b[0m and            \u001b]8;id=697010;file:///home/smartroom/miniconda3/envs/raftel/lib/python3.8/site-packages/kedro/ipython/__init__.py\u001b\\\u001b[2m__init__.py\u001b[0m\u001b]8;;\u001b\\\u001b[2m:\u001b[0m\u001b]8;id=422329;file:///home/smartroom/miniconda3/envs/raftel/lib/python3.8/site-packages/kedro/ipython/__init__.py#104\u001b\\\u001b[2m104\u001b[0m\u001b]8;;\u001b\\\n",
       "\u001b[2;36m                    \u001b[0m         \u001b[32m'pipelines'\u001b[0m                                                            \u001b[2m               \u001b[0m\n"
      ]
     },
     "metadata": {},
     "output_type": "display_data"
    },
    {
     "data": {
      "text/html": [
       "<pre style=\"white-space:pre;overflow-x:auto;line-height:normal;font-family:Menlo,'DejaVu Sans Mono',consolas,'Courier New',monospace\"><span style=\"color: #7fbfbf; text-decoration-color: #7fbfbf\">[04/03/24 01:23:35] </span><span style=\"color: #800000; text-decoration-color: #800000\">WARNING </span> <span style=\"color: #800080; text-decoration-color: #800080\">/home/smartroom/miniconda3/envs/raftel/lib/python3.8/site-packages/ked</span> <a href=\"file:///home/smartroom/miniconda3/envs/raftel/lib/python3.8/warnings.py\" target=\"_blank\"><span style=\"color: #7f7f7f; text-decoration-color: #7f7f7f\">warnings.py</span></a><span style=\"color: #7f7f7f; text-decoration-color: #7f7f7f\">:</span><a href=\"file:///home/smartroom/miniconda3/envs/raftel/lib/python3.8/warnings.py#109\" target=\"_blank\"><span style=\"color: #7f7f7f; text-decoration-color: #7f7f7f\">109</span></a>\n",
       "<span style=\"color: #7fbfbf; text-decoration-color: #7fbfbf\">                    </span>         <span style=\"color: #800080; text-decoration-color: #800080\">ro_viz/api/graphql/</span><span style=\"color: #ff00ff; text-decoration-color: #ff00ff\">router.py</span>:<span style=\"color: #008080; text-decoration-color: #008080; font-weight: bold\">10</span>: DeprecationWarning: The `graphiql`    <span style=\"color: #7f7f7f; text-decoration-color: #7f7f7f\">               </span>\n",
       "<span style=\"color: #7fbfbf; text-decoration-color: #7fbfbf\">                    </span>         argument is deprecated in favor of `graphql_ide`                       <span style=\"color: #7f7f7f; text-decoration-color: #7f7f7f\">               </span>\n",
       "<span style=\"color: #7fbfbf; text-decoration-color: #7fbfbf\">                    </span>           graphql_app: GraphQL = <span style=\"color: #800080; text-decoration-color: #800080; font-weight: bold\">GraphQL</span><span style=\"font-weight: bold\">(</span>schema, <span style=\"color: #808000; text-decoration-color: #808000\">graphiql</span>=<span style=\"color: #ff0000; text-decoration-color: #ff0000; font-style: italic\">False</span><span style=\"font-weight: bold\">)</span>               <span style=\"color: #7f7f7f; text-decoration-color: #7f7f7f\">               </span>\n",
       "<span style=\"color: #7fbfbf; text-decoration-color: #7fbfbf\">                    </span>                                                                                <span style=\"color: #7f7f7f; text-decoration-color: #7f7f7f\">               </span>\n",
       "</pre>\n"
      ],
      "text/plain": [
       "\u001b[2;36m[04/03/24 01:23:35]\u001b[0m\u001b[2;36m \u001b[0m\u001b[31mWARNING \u001b[0m \u001b[35m/home/smartroom/miniconda3/envs/raftel/lib/python3.8/site-packages/ked\u001b[0m \u001b]8;id=463822;file:///home/smartroom/miniconda3/envs/raftel/lib/python3.8/warnings.py\u001b\\\u001b[2mwarnings.py\u001b[0m\u001b]8;;\u001b\\\u001b[2m:\u001b[0m\u001b]8;id=747677;file:///home/smartroom/miniconda3/envs/raftel/lib/python3.8/warnings.py#109\u001b\\\u001b[2m109\u001b[0m\u001b]8;;\u001b\\\n",
       "\u001b[2;36m                    \u001b[0m         \u001b[35mro_viz/api/graphql/\u001b[0m\u001b[95mrouter.py\u001b[0m:\u001b[1;36m10\u001b[0m: DeprecationWarning: The `graphiql`    \u001b[2m               \u001b[0m\n",
       "\u001b[2;36m                    \u001b[0m         argument is deprecated in favor of `graphql_ide`                       \u001b[2m               \u001b[0m\n",
       "\u001b[2;36m                    \u001b[0m           graphql_app: GraphQL = \u001b[1;35mGraphQL\u001b[0m\u001b[1m(\u001b[0mschema, \u001b[33mgraphiql\u001b[0m=\u001b[3;91mFalse\u001b[0m\u001b[1m)\u001b[0m               \u001b[2m               \u001b[0m\n",
       "\u001b[2;36m                    \u001b[0m                                                                                \u001b[2m               \u001b[0m\n"
      ]
     },
     "metadata": {},
     "output_type": "display_data"
    },
    {
     "data": {
      "text/html": [
       "<pre style=\"white-space:pre;overflow-x:auto;line-height:normal;font-family:Menlo,'DejaVu Sans Mono',consolas,'Courier New',monospace\"><span style=\"color: #7fbfbf; text-decoration-color: #7fbfbf\">[04/03/24 01:23:36] </span><span style=\"color: #000080; text-decoration-color: #000080\">INFO    </span> Registered line magic <span style=\"color: #008000; text-decoration-color: #008000\">'run_viz'</span>                                        <a href=\"file:///home/smartroom/miniconda3/envs/raftel/lib/python3.8/site-packages/kedro/ipython/__init__.py\" target=\"_blank\"><span style=\"color: #7f7f7f; text-decoration-color: #7f7f7f\">__init__.py</span></a><span style=\"color: #7f7f7f; text-decoration-color: #7f7f7f\">:</span><a href=\"file:///home/smartroom/miniconda3/envs/raftel/lib/python3.8/site-packages/kedro/ipython/__init__.py#110\" target=\"_blank\"><span style=\"color: #7f7f7f; text-decoration-color: #7f7f7f\">110</span></a>\n",
       "</pre>\n"
      ],
      "text/plain": [
       "\u001b[2;36m[04/03/24 01:23:36]\u001b[0m\u001b[2;36m \u001b[0m\u001b[34mINFO    \u001b[0m Registered line magic \u001b[32m'run_viz'\u001b[0m                                        \u001b]8;id=185091;file:///home/smartroom/miniconda3/envs/raftel/lib/python3.8/site-packages/kedro/ipython/__init__.py\u001b\\\u001b[2m__init__.py\u001b[0m\u001b]8;;\u001b\\\u001b[2m:\u001b[0m\u001b]8;id=339664;file:///home/smartroom/miniconda3/envs/raftel/lib/python3.8/site-packages/kedro/ipython/__init__.py#110\u001b\\\u001b[2m110\u001b[0m\u001b]8;;\u001b\\\n"
      ]
     },
     "metadata": {},
     "output_type": "display_data"
    }
   ],
   "source": [
    "%load_ext kedro.extras.extensions.ipython"
   ]
  },
  {
   "cell_type": "code",
   "execution_count": 2,
   "id": "4d207709-6a02-4ffc-b886-c73e6449a636",
   "metadata": {},
   "outputs": [
    {
     "data": {
      "text/html": [
       "<pre style=\"white-space:pre;overflow-x:auto;line-height:normal;font-family:Menlo,'DejaVu Sans Mono',consolas,'Courier New',monospace\"><span style=\"color: #7fbfbf; text-decoration-color: #7fbfbf\">                    </span><span style=\"color: #000080; text-decoration-color: #000080\">INFO    </span> Resolved project path as: <span style=\"color: #800080; text-decoration-color: #800080\">/home/smartroom/jhonatan/</span><span style=\"color: #ff00ff; text-decoration-color: #ff00ff\">raftel.</span>             <a href=\"file:///home/smartroom/miniconda3/envs/raftel/lib/python3.8/site-packages/kedro/ipython/__init__.py\" target=\"_blank\"><span style=\"color: #7f7f7f; text-decoration-color: #7f7f7f\">__init__.py</span></a><span style=\"color: #7f7f7f; text-decoration-color: #7f7f7f\">:</span><a href=\"file:///home/smartroom/miniconda3/envs/raftel/lib/python3.8/site-packages/kedro/ipython/__init__.py#134\" target=\"_blank\"><span style=\"color: #7f7f7f; text-decoration-color: #7f7f7f\">134</span></a>\n",
       "<span style=\"color: #7fbfbf; text-decoration-color: #7fbfbf\">                    </span>         To set a different path, run <span style=\"color: #008000; text-decoration-color: #008000\">'%reload_kedro &lt;project_root&gt;'</span>            <span style=\"color: #7f7f7f; text-decoration-color: #7f7f7f\">               </span>\n",
       "</pre>\n"
      ],
      "text/plain": [
       "\u001b[2;36m                   \u001b[0m\u001b[2;36m \u001b[0m\u001b[34mINFO    \u001b[0m Resolved project path as: \u001b[35m/home/smartroom/jhonatan/\u001b[0m\u001b[95mraftel.\u001b[0m             \u001b]8;id=728608;file:///home/smartroom/miniconda3/envs/raftel/lib/python3.8/site-packages/kedro/ipython/__init__.py\u001b\\\u001b[2m__init__.py\u001b[0m\u001b]8;;\u001b\\\u001b[2m:\u001b[0m\u001b]8;id=513224;file:///home/smartroom/miniconda3/envs/raftel/lib/python3.8/site-packages/kedro/ipython/__init__.py#134\u001b\\\u001b[2m134\u001b[0m\u001b]8;;\u001b\\\n",
       "\u001b[2;36m                    \u001b[0m         To set a different path, run \u001b[32m'%reload_kedro \u001b[0m\u001b[32m<\u001b[0m\u001b[32mproject_root\u001b[0m\u001b[32m>\u001b[0m\u001b[32m'\u001b[0m            \u001b[2m               \u001b[0m\n"
      ]
     },
     "metadata": {},
     "output_type": "display_data"
    },
    {
     "data": {
      "text/html": [
       "<pre style=\"white-space:pre;overflow-x:auto;line-height:normal;font-family:Menlo,'DejaVu Sans Mono',consolas,'Courier New',monospace\"><span style=\"color: #7fbfbf; text-decoration-color: #7fbfbf\">[04/03/24 01:23:37] </span><span style=\"color: #000080; text-decoration-color: #000080\">INFO    </span> Kedro project raftel                                                   <a href=\"file:///home/smartroom/miniconda3/envs/raftel/lib/python3.8/site-packages/kedro/ipython/__init__.py\" target=\"_blank\"><span style=\"color: #7f7f7f; text-decoration-color: #7f7f7f\">__init__.py</span></a><span style=\"color: #7f7f7f; text-decoration-color: #7f7f7f\">:</span><a href=\"file:///home/smartroom/miniconda3/envs/raftel/lib/python3.8/site-packages/kedro/ipython/__init__.py#103\" target=\"_blank\"><span style=\"color: #7f7f7f; text-decoration-color: #7f7f7f\">103</span></a>\n",
       "</pre>\n"
      ],
      "text/plain": [
       "\u001b[2;36m[04/03/24 01:23:37]\u001b[0m\u001b[2;36m \u001b[0m\u001b[34mINFO    \u001b[0m Kedro project raftel                                                   \u001b]8;id=241986;file:///home/smartroom/miniconda3/envs/raftel/lib/python3.8/site-packages/kedro/ipython/__init__.py\u001b\\\u001b[2m__init__.py\u001b[0m\u001b]8;;\u001b\\\u001b[2m:\u001b[0m\u001b]8;id=509775;file:///home/smartroom/miniconda3/envs/raftel/lib/python3.8/site-packages/kedro/ipython/__init__.py#103\u001b\\\u001b[2m103\u001b[0m\u001b]8;;\u001b\\\n"
      ]
     },
     "metadata": {},
     "output_type": "display_data"
    },
    {
     "data": {
      "text/html": [
       "<pre style=\"white-space:pre;overflow-x:auto;line-height:normal;font-family:Menlo,'DejaVu Sans Mono',consolas,'Courier New',monospace\"><span style=\"color: #7fbfbf; text-decoration-color: #7fbfbf\">                    </span><span style=\"color: #000080; text-decoration-color: #000080\">INFO    </span> Defined global variable <span style=\"color: #008000; text-decoration-color: #008000\">'context'</span>, <span style=\"color: #008000; text-decoration-color: #008000\">'session'</span>, <span style=\"color: #008000; text-decoration-color: #008000\">'catalog'</span> and            <a href=\"file:///home/smartroom/miniconda3/envs/raftel/lib/python3.8/site-packages/kedro/ipython/__init__.py\" target=\"_blank\"><span style=\"color: #7f7f7f; text-decoration-color: #7f7f7f\">__init__.py</span></a><span style=\"color: #7f7f7f; text-decoration-color: #7f7f7f\">:</span><a href=\"file:///home/smartroom/miniconda3/envs/raftel/lib/python3.8/site-packages/kedro/ipython/__init__.py#104\" target=\"_blank\"><span style=\"color: #7f7f7f; text-decoration-color: #7f7f7f\">104</span></a>\n",
       "<span style=\"color: #7fbfbf; text-decoration-color: #7fbfbf\">                    </span>         <span style=\"color: #008000; text-decoration-color: #008000\">'pipelines'</span>                                                            <span style=\"color: #7f7f7f; text-decoration-color: #7f7f7f\">               </span>\n",
       "</pre>\n"
      ],
      "text/plain": [
       "\u001b[2;36m                   \u001b[0m\u001b[2;36m \u001b[0m\u001b[34mINFO    \u001b[0m Defined global variable \u001b[32m'context'\u001b[0m, \u001b[32m'session'\u001b[0m, \u001b[32m'catalog'\u001b[0m and            \u001b]8;id=951744;file:///home/smartroom/miniconda3/envs/raftel/lib/python3.8/site-packages/kedro/ipython/__init__.py\u001b\\\u001b[2m__init__.py\u001b[0m\u001b]8;;\u001b\\\u001b[2m:\u001b[0m\u001b]8;id=691017;file:///home/smartroom/miniconda3/envs/raftel/lib/python3.8/site-packages/kedro/ipython/__init__.py#104\u001b\\\u001b[2m104\u001b[0m\u001b]8;;\u001b\\\n",
       "\u001b[2;36m                    \u001b[0m         \u001b[32m'pipelines'\u001b[0m                                                            \u001b[2m               \u001b[0m\n"
      ]
     },
     "metadata": {},
     "output_type": "display_data"
    },
    {
     "data": {
      "text/html": [
       "<pre style=\"white-space:pre;overflow-x:auto;line-height:normal;font-family:Menlo,'DejaVu Sans Mono',consolas,'Courier New',monospace\"><span style=\"color: #7fbfbf; text-decoration-color: #7fbfbf\">                    </span><span style=\"color: #000080; text-decoration-color: #000080\">INFO    </span> Registered line magic <span style=\"color: #008000; text-decoration-color: #008000\">'run_viz'</span>                                        <a href=\"file:///home/smartroom/miniconda3/envs/raftel/lib/python3.8/site-packages/kedro/ipython/__init__.py\" target=\"_blank\"><span style=\"color: #7f7f7f; text-decoration-color: #7f7f7f\">__init__.py</span></a><span style=\"color: #7f7f7f; text-decoration-color: #7f7f7f\">:</span><a href=\"file:///home/smartroom/miniconda3/envs/raftel/lib/python3.8/site-packages/kedro/ipython/__init__.py#110\" target=\"_blank\"><span style=\"color: #7f7f7f; text-decoration-color: #7f7f7f\">110</span></a>\n",
       "</pre>\n"
      ],
      "text/plain": [
       "\u001b[2;36m                   \u001b[0m\u001b[2;36m \u001b[0m\u001b[34mINFO    \u001b[0m Registered line magic \u001b[32m'run_viz'\u001b[0m                                        \u001b]8;id=277090;file:///home/smartroom/miniconda3/envs/raftel/lib/python3.8/site-packages/kedro/ipython/__init__.py\u001b\\\u001b[2m__init__.py\u001b[0m\u001b]8;;\u001b\\\u001b[2m:\u001b[0m\u001b]8;id=214011;file:///home/smartroom/miniconda3/envs/raftel/lib/python3.8/site-packages/kedro/ipython/__init__.py#110\u001b\\\u001b[2m110\u001b[0m\u001b]8;;\u001b\\\n"
      ]
     },
     "metadata": {},
     "output_type": "display_data"
    }
   ],
   "source": [
    "%reload_kedro"
   ]
  },
  {
   "cell_type": "code",
   "execution_count": 3,
   "id": "92337acd-11f3-4cc5-90f3-55a56f0ce2f8",
   "metadata": {},
   "outputs": [],
   "source": [
    "import math\n",
    "import pandas as pd\n",
    "import numpy as np"
   ]
  },
  {
   "cell_type": "code",
   "execution_count": 4,
   "id": "66039b88",
   "metadata": {},
   "outputs": [
    {
     "name": "stderr",
     "output_type": "stream",
     "text": [
      "2024-04-03 01:23:39.890664: I tensorflow/core/util/port.cc:110] oneDNN custom operations are on. You may see slightly different numerical results due to floating-point round-off errors from different computation orders. To turn them off, set the environment variable `TF_ENABLE_ONEDNN_OPTS=0`.\n",
      "2024-04-03 01:23:39.893694: I tensorflow/tsl/cuda/cudart_stub.cc:28] Could not find cuda drivers on your machine, GPU will not be used.\n",
      "2024-04-03 01:23:39.946193: I tensorflow/tsl/cuda/cudart_stub.cc:28] Could not find cuda drivers on your machine, GPU will not be used.\n",
      "2024-04-03 01:23:39.947235: I tensorflow/core/platform/cpu_feature_guard.cc:182] This TensorFlow binary is optimized to use available CPU instructions in performance-critical operations.\n",
      "To enable the following instructions: AVX2 AVX512F AVX512_VNNI FMA, in other operations, rebuild TensorFlow with the appropriate compiler flags.\n",
      "2024-04-03 01:23:41.188475: W tensorflow/compiler/tf2tensorrt/utils/py_utils.cc:38] TF-TRT Warning: Could not find TensorRT\n"
     ]
    }
   ],
   "source": [
    "import tensorflow as tf\n",
    "from tensorflow.keras.models import Model\n",
    "from tensorflow.keras.layers import (\n",
    "    Input, \n",
    "    Conv2D, \n",
    "    MaxPool2D, \n",
    "    Dense, \n",
    "    Dropout, \n",
    "    Flatten, \n",
    "    Conv1D, \n",
    "    Bidirectional,\n",
    "    GRU,\n",
    "    concatenate,\n",
    "    SpatialDropout1D,\n",
    "    LSTM,\n",
    "    GlobalAveragePooling1D,\n",
    "    GlobalAveragePooling2D,\n",
    "    Reshape)\n",
    "from tensorflow.keras.callbacks import ModelCheckpoint, EarlyStopping\n",
    "from tensorflow.keras.metrics import Metric\n",
    "from keras.optimizers import Adam,SGD,RMSprop\n",
    "from keras.regularizers import l2"
   ]
  },
  {
   "cell_type": "code",
   "execution_count": 5,
   "id": "8596fb9b",
   "metadata": {},
   "outputs": [],
   "source": [
    "import pandas as pd\n",
    "import numpy as np\n",
    "from sklearn.model_selection import TimeSeriesSplit, GridSearchCV, train_test_split, KFold, StratifiedKFold\n",
    "import xgboost as xgb\n",
    "from sklearn.metrics import accuracy_score, f1_score, multilabel_confusion_matrix, classification_report\n",
    "import keras.backend as K\n",
    "from sklearn.utils.class_weight import compute_class_weight"
   ]
  },
  {
   "cell_type": "code",
   "execution_count": 6,
   "id": "c1076a86-7059-4f64-ae84-b1b530ada271",
   "metadata": {},
   "outputs": [
    {
     "data": {
      "text/html": [
       "<pre style=\"white-space:pre;overflow-x:auto;line-height:normal;font-family:Menlo,'DejaVu Sans Mono',consolas,'Courier New',monospace\"><span style=\"color: #7fbfbf; text-decoration-color: #7fbfbf\">[04/03/24 01:23:42] </span><span style=\"color: #000080; text-decoration-color: #000080\">INFO    </span> Loading data from <span style=\"color: #008000; text-decoration-color: #008000\">'windowed_augmented_data_aras_A_3@pickle'</span>        <a href=\"file:///home/smartroom/miniconda3/envs/raftel/lib/python3.8/site-packages/kedro/io/data_catalog.py\" target=\"_blank\"><span style=\"color: #7f7f7f; text-decoration-color: #7f7f7f\">data_catalog.py</span></a><span style=\"color: #7f7f7f; text-decoration-color: #7f7f7f\">:</span><a href=\"file:///home/smartroom/miniconda3/envs/raftel/lib/python3.8/site-packages/kedro/io/data_catalog.py#343\" target=\"_blank\"><span style=\"color: #7f7f7f; text-decoration-color: #7f7f7f\">343</span></a>\n",
       "<span style=\"color: #7fbfbf; text-decoration-color: #7fbfbf\">                    </span>         <span style=\"font-weight: bold\">(</span>PickleDataSet<span style=\"font-weight: bold\">)</span><span style=\"color: #808000; text-decoration-color: #808000\">...</span>                                                 <span style=\"color: #7f7f7f; text-decoration-color: #7f7f7f\">                   </span>\n",
       "</pre>\n"
      ],
      "text/plain": [
       "\u001b[2;36m[04/03/24 01:23:42]\u001b[0m\u001b[2;36m \u001b[0m\u001b[34mINFO    \u001b[0m Loading data from \u001b[32m'windowed_augmented_data_aras_A_3@pickle'\u001b[0m        \u001b]8;id=413330;file:///home/smartroom/miniconda3/envs/raftel/lib/python3.8/site-packages/kedro/io/data_catalog.py\u001b\\\u001b[2mdata_catalog.py\u001b[0m\u001b]8;;\u001b\\\u001b[2m:\u001b[0m\u001b]8;id=969261;file:///home/smartroom/miniconda3/envs/raftel/lib/python3.8/site-packages/kedro/io/data_catalog.py#343\u001b\\\u001b[2m343\u001b[0m\u001b]8;;\u001b\\\n",
       "\u001b[2;36m                    \u001b[0m         \u001b[1m(\u001b[0mPickleDataSet\u001b[1m)\u001b[0m\u001b[33m...\u001b[0m                                                 \u001b[2m                   \u001b[0m\n"
      ]
     },
     "metadata": {},
     "output_type": "display_data"
    }
   ],
   "source": [
    "#X = catalog.load(\"windowed_X_aras_A_3_Augmentation@pickle\")\n",
    "#y = catalog.load(\"windowed_y_aras_A_3_Augmentation@pickle\")\n",
    "\n",
    "augmented_data = catalog.load(\"windowed_augmented_data_aras_A_3@pickle\")"
   ]
  },
  {
   "cell_type": "code",
   "execution_count": 7,
   "id": "25704ec9",
   "metadata": {},
   "outputs": [],
   "source": [
    "X_train = augmented_data['augmented_X_train']\n",
    "y_train = augmented_data['augmented_y_train']\n",
    "\n",
    "X_test = augmented_data['X_test']\n",
    "y_test = augmented_data['y_test']\n",
    "\n",
    "X_val = augmented_data['X_val']\n",
    "y_val = augmented_data['y_val']"
   ]
  },
  {
   "cell_type": "code",
   "execution_count": 8,
   "id": "b6f0551f",
   "metadata": {},
   "outputs": [],
   "source": [
    "#X.shape, y.shape"
   ]
  },
  {
   "cell_type": "markdown",
   "id": "7f5ad9eb",
   "metadata": {},
   "source": [
    "### Train and test split"
   ]
  },
  {
   "cell_type": "code",
   "execution_count": 9,
   "id": "d909c858",
   "metadata": {},
   "outputs": [],
   "source": [
    "#X_train, X_test, y_train, y_test = train_test_split(X, y, test_size = 0.2, train_size=0.8, shuffle = True)"
   ]
  },
  {
   "cell_type": "code",
   "execution_count": 8,
   "id": "0e71953d",
   "metadata": {},
   "outputs": [
    {
     "data": {
      "text/html": [
       "<pre style=\"white-space:pre;overflow-x:auto;line-height:normal;font-family:Menlo,'DejaVu Sans Mono',consolas,'Courier New',monospace\"></pre>\n"
      ],
      "text/plain": []
     },
     "metadata": {},
     "output_type": "display_data"
    },
    {
     "data": {
      "text/plain": [
       "\u001b[1m(\u001b[0m\u001b[1m(\u001b[0m\u001b[1;36m26621\u001b[0m, \u001b[1;36m180\u001b[0m, \u001b[1;36m28\u001b[0m\u001b[1m)\u001b[0m, \u001b[1m(\u001b[0m\u001b[1;36m5760\u001b[0m, \u001b[1;36m180\u001b[0m, \u001b[1;36m28\u001b[0m\u001b[1m)\u001b[0m, \u001b[1m(\u001b[0m\u001b[1;36m5760\u001b[0m, \u001b[1;36m180\u001b[0m, \u001b[1;36m28\u001b[0m\u001b[1m)\u001b[0m, \u001b[1m(\u001b[0m\u001b[1;36m26621\u001b[0m, \u001b[1;36m27\u001b[0m\u001b[1m)\u001b[0m, \u001b[1m(\u001b[0m\u001b[1;36m5760\u001b[0m, \u001b[1;36m27\u001b[0m\u001b[1m)\u001b[0m, \u001b[1m(\u001b[0m\u001b[1;36m5760\u001b[0m, \u001b[1;36m27\u001b[0m\u001b[1m)\u001b[0m\u001b[1m)\u001b[0m"
      ]
     },
     "execution_count": 8,
     "metadata": {},
     "output_type": "execute_result"
    }
   ],
   "source": [
    "X_train.shape, X_test.shape, X_val.shape, y_train.shape, y_test.shape, y_val.shape"
   ]
  },
  {
   "cell_type": "markdown",
   "id": "eddaf950",
   "metadata": {},
   "source": [
    "### Model definition"
   ]
  },
  {
   "cell_type": "code",
   "execution_count": null,
   "id": "f0a94eca",
   "metadata": {},
   "outputs": [],
   "source": [
    "def f1(y_true, y_pred):\n",
    "    y_pred = K.round(y_pred)\n",
    "    y_true = K.cast(y_true, 'float')\n",
    "    tp = K.sum(K.cast(y_true*y_pred, 'float'), axis=0)\n",
    "    tn = K.sum(K.cast((1-y_true)*(1-y_pred), 'float'), axis=0)\n",
    "    fp = K.sum(K.cast((1-y_true)*y_pred, 'float'), axis=0)\n",
    "    fn = K.sum(K.cast(y_true*(1-y_pred), 'float'), axis=0)\n",
    "\n",
    "    p = tp / (tp + fp + K.epsilon())\n",
    "    r = tp / (tp + fn + K.epsilon())\n",
    "\n",
    "    f1 = 2*p*r / (p+r+K.epsilon())\n",
    "    f1 = tf.where(tf.math.is_nan(f1), tf.zeros_like(f1), f1)\n",
    "    return K.mean(f1)\n",
    "\n",
    "def f1_loss(y_true, y_pred):\n",
    "    y_true = K.cast(y_true, 'float')\n",
    "    tp = K.sum(K.cast(y_true*y_pred, 'float'), axis=0)\n",
    "    tn = K.sum(K.cast((1-y_true)*(1-y_pred), 'float'), axis=0)\n",
    "    fp = K.sum(K.cast((1-y_true)*y_pred, 'float'), axis=0)\n",
    "    fn = K.sum(K.cast(y_true*(1-y_pred), 'float'), axis=0)\n",
    "\n",
    "    p = tp / (tp + fp + K.epsilon())\n",
    "    r = tp / (tp + fn + K.epsilon())\n",
    "\n",
    "    f1 = 2*p*r / (p+r+K.epsilon())\n",
    "    f1 = tf.where(tf.math.is_nan(f1), tf.zeros_like(f1), f1)\n",
    "    return 1 - K.mean(f1)\n",
    "\n",
    "\n",
    "def get_2DCNN_model(input_shape):\n",
    "  '''\n",
    "  This function returns a compiled CNN with specifications given above.\n",
    "  '''\n",
    "  \n",
    "  #Defining the architecture of the CNN\n",
    "  input_layer = Input(shape=input_shape, name='input')\n",
    "  h = Conv2D(filters=64, kernel_size=(10, 5), \n",
    "             kernel_initializer = \"glorot_uniform\", activation='relu', padding=\"valid\", name='conv2d_1')(input_layer)\n",
    "  # h = MaxPool2D(pool_size=(2,2), name='pool_1')(h)\n",
    "  h = Dropout(0.1, name='dropout_1')(h)\n",
    " \n",
    "  h = Conv2D(filters=128, kernel_size=(10, 5), \n",
    "             kernel_initializer = \"glorot_uniform\",activation='relu', padding=\"valid\", name='conv2d_2')(h)\n",
    "  # h = MaxPool2D(pool_size=(2,2), name='pool_2')(h)\n",
    "  h = Dropout(0.1, name='dropout_2')(h)\n",
    "\n",
    "  h = Conv2D(filters=256, kernel_size=(10, 5), \n",
    "             kernel_initializer = \"glorot_uniform\", activation='relu', padding=\"valid\", name='conv2d_3')(h)\n",
    "  # h = MaxPool2D(pool_size=(2,2), name='pool_3')(h)\n",
    "  h = Dropout(0.1, name='dropout_3')(h)\n",
    "\n",
    "  # h = Reshape((h.shape[1],h.shape[2]*h.shape[3]))(h)\n",
    "\n",
    "  # h = Bidirectional(LSTM(256, return_sequences=True,dropout=0.1,recurrent_dropout=0.1), name='bidir_1')(h)\n",
    "  # h = GlobalAveragePooling1D(name='pool_1')(h)\n",
    "\n",
    "  h = Flatten(name='flatten_1')(h)\n",
    "\n",
    "  h = Dense(256, activation='relu', name='dense_1')(h)\n",
    "  h = Dropout(0.1, name='dropout_4')(h)\n",
    "\n",
    "  output_layer = Dense(27, activation='sigmoid', name='dense_output')(h)\n",
    "\n",
    "  #To generate the model, we pass the input layer and the output layer\n",
    "  model = Model(inputs=input_layer, outputs=output_layer, name='model_CNN')\n",
    "\n",
    "  #Next we apply the compile method\n",
    "  model.compile(optimizer=RMSprop(lr=1e-3),\n",
    "                loss='binary_crossentropy',\n",
    "                metrics=['accuracy', f1])\n",
    "  \n",
    "  return model\n",
    "\n",
    "def get_1DCNN_model(input_shape):\n",
    "  '''\n",
    "  This function returns a compiled CNN with specifications given above.\n",
    "  '''\n",
    "  \n",
    "  #Defining the architecture of the CNN\n",
    "  input_layer = Input(shape=input_shape, name='input')\n",
    "  h = Conv1D(filters=64, kernel_size=10,\n",
    "              padding = \"valid\", kernel_initializer = \"glorot_uniform\", name='conv1d_1')(input_layer)\n",
    "  h = Dropout(0.1, name='dropout_1')(h)\n",
    "\n",
    "  h = Conv1D(filters=128, kernel_size=10,\n",
    "              padding = \"valid\", kernel_initializer = \"glorot_uniform\", name='conv1d_2')(input_layer)\n",
    "  h = Dropout(0.1, name='dropout_2')(h)\n",
    "\n",
    "  h = Conv1D(filters=256, kernel_size=10,\n",
    "              padding = \"valid\", kernel_initializer = \"glorot_uniform\", name='conv1d_3')(input_layer)\n",
    "  h = Dropout(0.1, name='dropout_3')(h)\n",
    "\n",
    "  # h = Bidirectional(LSTM(128, return_sequences=True,dropout=0.1,recurrent_dropout=0.1), name='bidir_1')(h)\n",
    " \n",
    "  # h = GlobalAveragePooling1D(name='pool_1')(h)\n",
    "\n",
    "  h = Flatten(name='flatten_1')(h)\n",
    "\n",
    "  h = Dense(256, activation='relu', name='dense_1')(h)\n",
    "  h = Dropout(0.1, name='dropout_4')(h)\n",
    "\n",
    "  output_layer = Dense(27, activation='sigmoid', name='dense_output')(h)\n",
    "\n",
    "  #To generate the model, we pass the input layer and the output layer\n",
    "  model = Model(inputs=input_layer, outputs=output_layer, name='model_CNN')\n",
    "\n",
    "  #Next we apply the compile method\n",
    "  model.compile(optimizer=RMSprop(lr=1e-3),\n",
    "                loss='binary_crossentropy',\n",
    "                metrics=['accuracy', f1])\n",
    "  \n",
    "  return model\n",
    "\n",
    "# CNN_model = get_2DCNN_model((180, 28, 1))\n",
    "CNN_model = get_1DCNN_model((180, 28))\n",
    "\n",
    "print(CNN_model.summary())\n",
    "\n",
    "# Compute class weights\n",
    "n_samples = X_train.shape[0]\n",
    "n_classes = y_train.shape[1]\n",
    "class_weights = n_samples / n_classes / y_train.sum(axis=0)\n",
    "\n",
    "# Convert class weights to a dictionary\n",
    "class_weights_dict = dict(enumerate(class_weights))\n",
    "\n",
    "# Train the model with class weights\n",
    "CNN_model.fit(X_train, y_train, epochs=10, batch_size=64, validation_data=(X_val, y_val))"
   ]
  },
  {
   "cell_type": "code",
   "execution_count": 59,
   "id": "5728a65b",
   "metadata": {},
   "outputs": [
    {
     "data": {
      "text/html": [
       "<pre style=\"white-space:pre;overflow-x:auto;line-height:normal;font-family:Menlo,'DejaVu Sans Mono',consolas,'Courier New',monospace\"></pre>\n"
      ],
      "text/plain": []
     },
     "metadata": {},
     "output_type": "display_data"
    },
    {
     "data": {
      "text/plain": [
       "\u001b[1m(\u001b[0m\u001b[1m(\u001b[0m\u001b[1;36m26621\u001b[0m, \u001b[1;36m180\u001b[0m, \u001b[1;36m28\u001b[0m\u001b[1m)\u001b[0m, \u001b[1m(\u001b[0m\u001b[1;36m26621\u001b[0m,\u001b[1m)\u001b[0m\u001b[1m)\u001b[0m"
      ]
     },
     "execution_count": 59,
     "metadata": {},
     "output_type": "execute_result"
    }
   ],
   "source": [
    "X_train.shape, y_train[:, i].shape"
   ]
  },
  {
   "cell_type": "code",
   "execution_count": null,
   "id": "efd285ac",
   "metadata": {},
   "outputs": [],
   "source": [
    "CNN_model.save('../data/06_models/CNN_NN_T3.keras')"
   ]
  },
  {
   "cell_type": "code",
   "execution_count": null,
   "id": "71148b89",
   "metadata": {},
   "outputs": [],
   "source": [
    "CNN_model.evaluate(X_test, y_test)"
   ]
  },
  {
   "cell_type": "code",
   "execution_count": 45,
   "id": "96cfe319",
   "metadata": {},
   "outputs": [
    {
     "name": "stdout",
     "output_type": "stream",
     "text": [
      "180/180 [==============================] - 2s 11ms/step\n"
     ]
    },
    {
     "data": {
      "text/html": [
       "<pre style=\"white-space:pre;overflow-x:auto;line-height:normal;font-family:Menlo,'DejaVu Sans Mono',consolas,'Courier New',monospace\"></pre>\n"
      ],
      "text/plain": []
     },
     "metadata": {},
     "output_type": "display_data"
    },
    {
     "data": {
      "text/plain": [
       "\n",
       "\u001b[1;35marray\u001b[0m\u001b[1m(\u001b[0m\u001b[1m[\u001b[0m\u001b[1m[\u001b[0m\u001b[1;36m0\u001b[0m, \u001b[1;36m0\u001b[0m, \u001b[1;36m0\u001b[0m, \u001b[33m...\u001b[0m, \u001b[1;36m0\u001b[0m, \u001b[1;36m0\u001b[0m, \u001b[1;36m0\u001b[0m\u001b[1m]\u001b[0m,\n",
       "       \u001b[1m[\u001b[0m\u001b[1;36m0\u001b[0m, \u001b[1;36m0\u001b[0m, \u001b[1;36m0\u001b[0m, \u001b[33m...\u001b[0m, \u001b[1;36m0\u001b[0m, \u001b[1;36m0\u001b[0m, \u001b[1;36m0\u001b[0m\u001b[1m]\u001b[0m,\n",
       "       \u001b[1m[\u001b[0m\u001b[1;36m1\u001b[0m, \u001b[1;36m0\u001b[0m, \u001b[1;36m0\u001b[0m, \u001b[33m...\u001b[0m, \u001b[1;36m0\u001b[0m, \u001b[1;36m0\u001b[0m, \u001b[1;36m0\u001b[0m\u001b[1m]\u001b[0m,\n",
       "       \u001b[33m...\u001b[0m,\n",
       "       \u001b[1m[\u001b[0m\u001b[1;36m0\u001b[0m, \u001b[1;36m0\u001b[0m, \u001b[1;36m0\u001b[0m, \u001b[33m...\u001b[0m, \u001b[1;36m0\u001b[0m, \u001b[1;36m0\u001b[0m, \u001b[1;36m0\u001b[0m\u001b[1m]\u001b[0m,\n",
       "       \u001b[1m[\u001b[0m\u001b[1;36m0\u001b[0m, \u001b[1;36m0\u001b[0m, \u001b[1;36m0\u001b[0m, \u001b[33m...\u001b[0m, \u001b[1;36m1\u001b[0m, \u001b[1;36m0\u001b[0m, \u001b[1;36m0\u001b[0m\u001b[1m]\u001b[0m,\n",
       "       \u001b[1m[\u001b[0m\u001b[1;36m0\u001b[0m, \u001b[1;36m0\u001b[0m, \u001b[1;36m0\u001b[0m, \u001b[33m...\u001b[0m, \u001b[1;36m0\u001b[0m, \u001b[1;36m0\u001b[0m, \u001b[1;36m0\u001b[0m\u001b[1m]\u001b[0m\u001b[1m]\u001b[0m\u001b[1m)\u001b[0m"
      ]
     },
     "execution_count": 45,
     "metadata": {},
     "output_type": "execute_result"
    }
   ],
   "source": [
    "y_pred = CNN_model.predict(X_test)\n",
    "y_pred = (y_pred >= 0.5).astype(int)\n",
    "y_pred"
   ]
  },
  {
   "cell_type": "code",
   "execution_count": 46,
   "id": "8519cc98",
   "metadata": {},
   "outputs": [
    {
     "data": {
      "text/html": [
       "<pre style=\"white-space:pre;overflow-x:auto;line-height:normal;font-family:Menlo,'DejaVu Sans Mono',consolas,'Courier New',monospace\"></pre>\n"
      ],
      "text/plain": []
     },
     "metadata": {},
     "output_type": "display_data"
    },
    {
     "data": {
      "text/plain": [
       "\u001b[1;36m0.396875\u001b[0m"
      ]
     },
     "execution_count": 46,
     "metadata": {},
     "output_type": "execute_result"
    }
   ],
   "source": [
    "accuracy_score(y_test, y_pred)"
   ]
  },
  {
   "cell_type": "code",
   "execution_count": 42,
   "id": "449c3dae",
   "metadata": {},
   "outputs": [
    {
     "data": {
      "text/html": [
       "<pre style=\"white-space:pre;overflow-x:auto;line-height:normal;font-family:Menlo,'DejaVu Sans Mono',consolas,'Courier New',monospace\"></pre>\n"
      ],
      "text/plain": []
     },
     "metadata": {},
     "output_type": "display_data"
    },
    {
     "data": {
      "text/plain": [
       "\n",
       "\u001b[1;35marray\u001b[0m\u001b[1m(\u001b[0m\u001b[1m[\u001b[0m\u001b[1m[\u001b[0m\u001b[1m[\u001b[0m\u001b[1;36m5525\u001b[0m,  \u001b[1;36m178\u001b[0m\u001b[1m]\u001b[0m,\n",
       "        \u001b[1m[\u001b[0m  \u001b[1;36m43\u001b[0m,   \u001b[1;36m14\u001b[0m\u001b[1m]\u001b[0m\u001b[1m]\u001b[0m,\n",
       "\n",
       "       \u001b[1m[\u001b[0m\u001b[1m[\u001b[0m\u001b[1;36m5619\u001b[0m,   \u001b[1;36m57\u001b[0m\u001b[1m]\u001b[0m,\n",
       "        \u001b[1m[\u001b[0m  \u001b[1;36m57\u001b[0m,   \u001b[1;36m27\u001b[0m\u001b[1m]\u001b[0m\u001b[1m]\u001b[0m,\n",
       "\n",
       "       \u001b[1m[\u001b[0m\u001b[1m[\u001b[0m\u001b[1;36m5676\u001b[0m,   \u001b[1;36m75\u001b[0m\u001b[1m]\u001b[0m,\n",
       "        \u001b[1m[\u001b[0m   \u001b[1;36m0\u001b[0m,    \u001b[1;36m9\u001b[0m\u001b[1m]\u001b[0m\u001b[1m]\u001b[0m,\n",
       "\n",
       "       \u001b[1m[\u001b[0m\u001b[1m[\u001b[0m\u001b[1;36m2540\u001b[0m,  \u001b[1;36m115\u001b[0m\u001b[1m]\u001b[0m,\n",
       "        \u001b[1m[\u001b[0m\u001b[1;36m1085\u001b[0m, \u001b[1;36m2020\u001b[0m\u001b[1m]\u001b[0m\u001b[1m]\u001b[0m,\n",
       "\n",
       "       \u001b[1m[\u001b[0m\u001b[1m[\u001b[0m\u001b[1;36m5568\u001b[0m,   \u001b[1;36m77\u001b[0m\u001b[1m]\u001b[0m,\n",
       "        \u001b[1m[\u001b[0m  \u001b[1;36m31\u001b[0m,   \u001b[1;36m84\u001b[0m\u001b[1m]\u001b[0m\u001b[1m]\u001b[0m,\n",
       "\n",
       "       \u001b[1m[\u001b[0m\u001b[1m[\u001b[0m\u001b[1;36m5675\u001b[0m,   \u001b[1;36m51\u001b[0m\u001b[1m]\u001b[0m,\n",
       "        \u001b[1m[\u001b[0m  \u001b[1;36m14\u001b[0m,   \u001b[1;36m20\u001b[0m\u001b[1m]\u001b[0m\u001b[1m]\u001b[0m,\n",
       "\n",
       "       \u001b[1m[\u001b[0m\u001b[1m[\u001b[0m\u001b[1;36m5662\u001b[0m,   \u001b[1;36m29\u001b[0m\u001b[1m]\u001b[0m,\n",
       "        \u001b[1m[\u001b[0m  \u001b[1;36m33\u001b[0m,   \u001b[1;36m36\u001b[0m\u001b[1m]\u001b[0m\u001b[1m]\u001b[0m,\n",
       "\n",
       "       \u001b[1m[\u001b[0m\u001b[1m[\u001b[0m\u001b[1;36m5742\u001b[0m,    \u001b[1;36m2\u001b[0m\u001b[1m]\u001b[0m,\n",
       "        \u001b[1m[\u001b[0m  \u001b[1;36m12\u001b[0m,    \u001b[1;36m4\u001b[0m\u001b[1m]\u001b[0m\u001b[1m]\u001b[0m,\n",
       "\n",
       "       \u001b[1m[\u001b[0m\u001b[1m[\u001b[0m\u001b[1;36m5699\u001b[0m,    \u001b[1;36m0\u001b[0m\u001b[1m]\u001b[0m,\n",
       "        \u001b[1m[\u001b[0m  \u001b[1;36m60\u001b[0m,    \u001b[1;36m1\u001b[0m\u001b[1m]\u001b[0m\u001b[1m]\u001b[0m,\n",
       "\n",
       "       \u001b[1m[\u001b[0m\u001b[1m[\u001b[0m\u001b[1;36m5617\u001b[0m,    \u001b[1;36m7\u001b[0m\u001b[1m]\u001b[0m,\n",
       "        \u001b[1m[\u001b[0m  \u001b[1;36m20\u001b[0m,  \u001b[1;36m116\u001b[0m\u001b[1m]\u001b[0m\u001b[1m]\u001b[0m,\n",
       "\n",
       "       \u001b[1m[\u001b[0m\u001b[1m[\u001b[0m\u001b[1;36m5594\u001b[0m,   \u001b[1;36m52\u001b[0m\u001b[1m]\u001b[0m,\n",
       "        \u001b[1m[\u001b[0m  \u001b[1;36m85\u001b[0m,   \u001b[1;36m29\u001b[0m\u001b[1m]\u001b[0m\u001b[1m]\u001b[0m,\n",
       "\n",
       "       \u001b[1m[\u001b[0m\u001b[1m[\u001b[0m\u001b[1;36m5752\u001b[0m,    \u001b[1;36m0\u001b[0m\u001b[1m]\u001b[0m,\n",
       "        \u001b[1m[\u001b[0m   \u001b[1;36m8\u001b[0m,    \u001b[1;36m0\u001b[0m\u001b[1m]\u001b[0m\u001b[1m]\u001b[0m,\n",
       "\n",
       "       \u001b[1m[\u001b[0m\u001b[1m[\u001b[0m\u001b[1;36m5711\u001b[0m,   \u001b[1;36m17\u001b[0m\u001b[1m]\u001b[0m,\n",
       "        \u001b[1m[\u001b[0m  \u001b[1;36m32\u001b[0m,    \u001b[1;36m0\u001b[0m\u001b[1m]\u001b[0m\u001b[1m]\u001b[0m,\n",
       "\n",
       "       \u001b[1m[\u001b[0m\u001b[1m[\u001b[0m\u001b[1;36m5513\u001b[0m,   \u001b[1;36m21\u001b[0m\u001b[1m]\u001b[0m,\n",
       "        \u001b[1m[\u001b[0m \u001b[1;36m203\u001b[0m,   \u001b[1;36m23\u001b[0m\u001b[1m]\u001b[0m\u001b[1m]\u001b[0m,\n",
       "\n",
       "       \u001b[1m[\u001b[0m\u001b[1m[\u001b[0m\u001b[1;36m5517\u001b[0m,   \u001b[1;36m30\u001b[0m\u001b[1m]\u001b[0m,\n",
       "        \u001b[1m[\u001b[0m \u001b[1;36m194\u001b[0m,   \u001b[1;36m19\u001b[0m\u001b[1m]\u001b[0m\u001b[1m]\u001b[0m,\n",
       "\n",
       "       \u001b[1m[\u001b[0m\u001b[1m[\u001b[0m\u001b[1;36m5658\u001b[0m,   \u001b[1;36m27\u001b[0m\u001b[1m]\u001b[0m,\n",
       "        \u001b[1m[\u001b[0m  \u001b[1;36m15\u001b[0m,   \u001b[1;36m60\u001b[0m\u001b[1m]\u001b[0m\u001b[1m]\u001b[0m,\n",
       "\n",
       "       \u001b[1m[\u001b[0m\u001b[1m[\u001b[0m\u001b[1;36m5629\u001b[0m,   \u001b[1;36m32\u001b[0m\u001b[1m]\u001b[0m,\n",
       "        \u001b[1m[\u001b[0m  \u001b[1;36m42\u001b[0m,   \u001b[1;36m57\u001b[0m\u001b[1m]\u001b[0m\u001b[1m]\u001b[0m,\n",
       "\n",
       "       \u001b[1m[\u001b[0m\u001b[1m[\u001b[0m\u001b[1;36m5669\u001b[0m,   \u001b[1;36m21\u001b[0m\u001b[1m]\u001b[0m,\n",
       "        \u001b[1m[\u001b[0m  \u001b[1;36m27\u001b[0m,   \u001b[1;36m43\u001b[0m\u001b[1m]\u001b[0m\u001b[1m]\u001b[0m,\n",
       "\n",
       "       \u001b[1m[\u001b[0m\u001b[1m[\u001b[0m\u001b[1;36m5497\u001b[0m,  \u001b[1;36m113\u001b[0m\u001b[1m]\u001b[0m,\n",
       "        \u001b[1m[\u001b[0m \u001b[1;36m110\u001b[0m,   \u001b[1;36m40\u001b[0m\u001b[1m]\u001b[0m\u001b[1m]\u001b[0m,\n",
       "\n",
       "       \u001b[1m[\u001b[0m\u001b[1m[\u001b[0m\u001b[1;36m5727\u001b[0m,    \u001b[1;36m8\u001b[0m\u001b[1m]\u001b[0m,\n",
       "        \u001b[1m[\u001b[0m   \u001b[1;36m2\u001b[0m,   \u001b[1;36m23\u001b[0m\u001b[1m]\u001b[0m\u001b[1m]\u001b[0m,\n",
       "\n",
       "       \u001b[1m[\u001b[0m\u001b[1m[\u001b[0m\u001b[1;36m3634\u001b[0m,  \u001b[1;36m105\u001b[0m\u001b[1m]\u001b[0m,\n",
       "        \u001b[1m[\u001b[0m \u001b[1;36m212\u001b[0m, \u001b[1;36m1809\u001b[0m\u001b[1m]\u001b[0m\u001b[1m]\u001b[0m,\n",
       "\n",
       "       \u001b[1m[\u001b[0m\u001b[1m[\u001b[0m\u001b[1;36m5407\u001b[0m,   \u001b[1;36m71\u001b[0m\u001b[1m]\u001b[0m,\n",
       "        \u001b[1m[\u001b[0m \u001b[1;36m229\u001b[0m,   \u001b[1;36m53\u001b[0m\u001b[1m]\u001b[0m\u001b[1m]\u001b[0m,\n",
       "\n",
       "       \u001b[1m[\u001b[0m\u001b[1m[\u001b[0m\u001b[1;36m5295\u001b[0m,  \u001b[1;36m112\u001b[0m\u001b[1m]\u001b[0m,\n",
       "        \u001b[1m[\u001b[0m \u001b[1;36m233\u001b[0m,  \u001b[1;36m120\u001b[0m\u001b[1m]\u001b[0m\u001b[1m]\u001b[0m,\n",
       "\n",
       "       \u001b[1m[\u001b[0m\u001b[1m[\u001b[0m\u001b[1;36m5498\u001b[0m,   \u001b[1;36m24\u001b[0m\u001b[1m]\u001b[0m,\n",
       "        \u001b[1m[\u001b[0m  \u001b[1;36m60\u001b[0m,  \u001b[1;36m178\u001b[0m\u001b[1m]\u001b[0m\u001b[1m]\u001b[0m,\n",
       "\n",
       "       \u001b[1m[\u001b[0m\u001b[1m[\u001b[0m\u001b[1;36m4854\u001b[0m,  \u001b[1;36m144\u001b[0m\u001b[1m]\u001b[0m,\n",
       "        \u001b[1m[\u001b[0m \u001b[1;36m523\u001b[0m,  \u001b[1;36m239\u001b[0m\u001b[1m]\u001b[0m\u001b[1m]\u001b[0m,\n",
       "\n",
       "       \u001b[1m[\u001b[0m\u001b[1m[\u001b[0m\u001b[1;36m5680\u001b[0m,   \u001b[1;36m12\u001b[0m\u001b[1m]\u001b[0m,\n",
       "        \u001b[1m[\u001b[0m  \u001b[1;36m51\u001b[0m,   \u001b[1;36m17\u001b[0m\u001b[1m]\u001b[0m\u001b[1m]\u001b[0m,\n",
       "\n",
       "       \u001b[1m[\u001b[0m\u001b[1m[\u001b[0m\u001b[1;36m4604\u001b[0m,  \u001b[1;36m159\u001b[0m\u001b[1m]\u001b[0m,\n",
       "        \u001b[1m[\u001b[0m \u001b[1;36m493\u001b[0m,  \u001b[1;36m504\u001b[0m\u001b[1m]\u001b[0m\u001b[1m]\u001b[0m\u001b[1m]\u001b[0m\u001b[1m)\u001b[0m"
      ]
     },
     "execution_count": 42,
     "metadata": {},
     "output_type": "execute_result"
    }
   ],
   "source": [
    "multilabel_confusion_matrix(y_test, y_pred)"
   ]
  },
  {
   "cell_type": "code",
   "execution_count": 43,
   "id": "cdb39036",
   "metadata": {},
   "outputs": [
    {
     "data": {
      "text/html": [
       "<pre style=\"white-space:pre;overflow-x:auto;line-height:normal;font-family:Menlo,'DejaVu Sans Mono',consolas,'Courier New',monospace\"><span style=\"color: #7fbfbf; text-decoration-color: #7fbfbf\">[04/02/24 21:25:28] </span><span style=\"color: #800000; text-decoration-color: #800000\">WARNING </span> <span style=\"color: #800080; text-decoration-color: #800080\">/home/smartroom/miniconda3/envs/raftel/lib/python3.8/site-packages/skl</span> <a href=\"file:///home/smartroom/miniconda3/envs/raftel/lib/python3.8/warnings.py\" target=\"_blank\"><span style=\"color: #7f7f7f; text-decoration-color: #7f7f7f\">warnings.py</span></a><span style=\"color: #7f7f7f; text-decoration-color: #7f7f7f\">:</span><a href=\"file:///home/smartroom/miniconda3/envs/raftel/lib/python3.8/warnings.py#109\" target=\"_blank\"><span style=\"color: #7f7f7f; text-decoration-color: #7f7f7f\">109</span></a>\n",
       "<span style=\"color: #7fbfbf; text-decoration-color: #7fbfbf\">                    </span>         <span style=\"color: #800080; text-decoration-color: #800080\">earn/metrics/</span><span style=\"color: #ff00ff; text-decoration-color: #ff00ff\">_classification.py</span>:<span style=\"color: #008080; text-decoration-color: #008080; font-weight: bold\">1471</span>: UndefinedMetricWarning:          <span style=\"color: #7f7f7f; text-decoration-color: #7f7f7f\">               </span>\n",
       "<span style=\"color: #7fbfbf; text-decoration-color: #7fbfbf\">                    </span>         Precision and F-score are ill-defined and being set to <span style=\"color: #008080; text-decoration-color: #008080; font-weight: bold\">0.0</span> in labels   <span style=\"color: #7f7f7f; text-decoration-color: #7f7f7f\">               </span>\n",
       "<span style=\"color: #7fbfbf; text-decoration-color: #7fbfbf\">                    </span>         with no predicted samples. Use `zero_division` parameter to control    <span style=\"color: #7f7f7f; text-decoration-color: #7f7f7f\">               </span>\n",
       "<span style=\"color: #7fbfbf; text-decoration-color: #7fbfbf\">                    </span>         this behavior.                                                         <span style=\"color: #7f7f7f; text-decoration-color: #7f7f7f\">               </span>\n",
       "<span style=\"color: #7fbfbf; text-decoration-color: #7fbfbf\">                    </span>           <span style=\"color: #800080; text-decoration-color: #800080; font-weight: bold\">_warn_prf</span><span style=\"font-weight: bold\">(</span>average, modifier, msg_start, <span style=\"color: #800080; text-decoration-color: #800080; font-weight: bold\">len</span><span style=\"font-weight: bold\">(</span>result<span style=\"font-weight: bold\">))</span>                 <span style=\"color: #7f7f7f; text-decoration-color: #7f7f7f\">               </span>\n",
       "<span style=\"color: #7fbfbf; text-decoration-color: #7fbfbf\">                    </span>                                                                                <span style=\"color: #7f7f7f; text-decoration-color: #7f7f7f\">               </span>\n",
       "</pre>\n"
      ],
      "text/plain": [
       "\u001b[2;36m[04/02/24 21:25:28]\u001b[0m\u001b[2;36m \u001b[0m\u001b[31mWARNING \u001b[0m \u001b[35m/home/smartroom/miniconda3/envs/raftel/lib/python3.8/site-packages/skl\u001b[0m \u001b]8;id=960837;file:///home/smartroom/miniconda3/envs/raftel/lib/python3.8/warnings.py\u001b\\\u001b[2mwarnings.py\u001b[0m\u001b]8;;\u001b\\\u001b[2m:\u001b[0m\u001b]8;id=165446;file:///home/smartroom/miniconda3/envs/raftel/lib/python3.8/warnings.py#109\u001b\\\u001b[2m109\u001b[0m\u001b]8;;\u001b\\\n",
       "\u001b[2;36m                    \u001b[0m         \u001b[35mearn/metrics/\u001b[0m\u001b[95m_classification.py\u001b[0m:\u001b[1;36m1471\u001b[0m: UndefinedMetricWarning:          \u001b[2m               \u001b[0m\n",
       "\u001b[2;36m                    \u001b[0m         Precision and F-score are ill-defined and being set to \u001b[1;36m0.0\u001b[0m in labels   \u001b[2m               \u001b[0m\n",
       "\u001b[2;36m                    \u001b[0m         with no predicted samples. Use `zero_division` parameter to control    \u001b[2m               \u001b[0m\n",
       "\u001b[2;36m                    \u001b[0m         this behavior.                                                         \u001b[2m               \u001b[0m\n",
       "\u001b[2;36m                    \u001b[0m           \u001b[1;35m_warn_prf\u001b[0m\u001b[1m(\u001b[0maverage, modifier, msg_start, \u001b[1;35mlen\u001b[0m\u001b[1m(\u001b[0mresult\u001b[1m)\u001b[0m\u001b[1m)\u001b[0m                 \u001b[2m               \u001b[0m\n",
       "\u001b[2;36m                    \u001b[0m                                                                                \u001b[2m               \u001b[0m\n"
      ]
     },
     "metadata": {},
     "output_type": "display_data"
    },
    {
     "data": {
      "text/html": [
       "<pre style=\"white-space:pre;overflow-x:auto;line-height:normal;font-family:Menlo,'DejaVu Sans Mono',consolas,'Courier New',monospace\"><span style=\"color: #7fbfbf; text-decoration-color: #7fbfbf\">                    </span><span style=\"color: #800000; text-decoration-color: #800000\">WARNING </span> <span style=\"color: #800080; text-decoration-color: #800080\">/home/smartroom/miniconda3/envs/raftel/lib/python3.8/site-packages/skl</span> <a href=\"file:///home/smartroom/miniconda3/envs/raftel/lib/python3.8/warnings.py\" target=\"_blank\"><span style=\"color: #7f7f7f; text-decoration-color: #7f7f7f\">warnings.py</span></a><span style=\"color: #7f7f7f; text-decoration-color: #7f7f7f\">:</span><a href=\"file:///home/smartroom/miniconda3/envs/raftel/lib/python3.8/warnings.py#109\" target=\"_blank\"><span style=\"color: #7f7f7f; text-decoration-color: #7f7f7f\">109</span></a>\n",
       "<span style=\"color: #7fbfbf; text-decoration-color: #7fbfbf\">                    </span>         <span style=\"color: #800080; text-decoration-color: #800080\">earn/metrics/</span><span style=\"color: #ff00ff; text-decoration-color: #ff00ff\">_classification.py</span>:<span style=\"color: #008080; text-decoration-color: #008080; font-weight: bold\">1471</span>: UndefinedMetricWarning:          <span style=\"color: #7f7f7f; text-decoration-color: #7f7f7f\">               </span>\n",
       "<span style=\"color: #7fbfbf; text-decoration-color: #7fbfbf\">                    </span>         Precision and F-score are ill-defined and being set to <span style=\"color: #008080; text-decoration-color: #008080; font-weight: bold\">0.0</span> in samples  <span style=\"color: #7f7f7f; text-decoration-color: #7f7f7f\">               </span>\n",
       "<span style=\"color: #7fbfbf; text-decoration-color: #7fbfbf\">                    </span>         with no predicted labels. Use `zero_division` parameter to control     <span style=\"color: #7f7f7f; text-decoration-color: #7f7f7f\">               </span>\n",
       "<span style=\"color: #7fbfbf; text-decoration-color: #7fbfbf\">                    </span>         this behavior.                                                         <span style=\"color: #7f7f7f; text-decoration-color: #7f7f7f\">               </span>\n",
       "<span style=\"color: #7fbfbf; text-decoration-color: #7fbfbf\">                    </span>           <span style=\"color: #800080; text-decoration-color: #800080; font-weight: bold\">_warn_prf</span><span style=\"font-weight: bold\">(</span>average, modifier, msg_start, <span style=\"color: #800080; text-decoration-color: #800080; font-weight: bold\">len</span><span style=\"font-weight: bold\">(</span>result<span style=\"font-weight: bold\">))</span>                 <span style=\"color: #7f7f7f; text-decoration-color: #7f7f7f\">               </span>\n",
       "<span style=\"color: #7fbfbf; text-decoration-color: #7fbfbf\">                    </span>                                                                                <span style=\"color: #7f7f7f; text-decoration-color: #7f7f7f\">               </span>\n",
       "</pre>\n"
      ],
      "text/plain": [
       "\u001b[2;36m                   \u001b[0m\u001b[2;36m \u001b[0m\u001b[31mWARNING \u001b[0m \u001b[35m/home/smartroom/miniconda3/envs/raftel/lib/python3.8/site-packages/skl\u001b[0m \u001b]8;id=543991;file:///home/smartroom/miniconda3/envs/raftel/lib/python3.8/warnings.py\u001b\\\u001b[2mwarnings.py\u001b[0m\u001b]8;;\u001b\\\u001b[2m:\u001b[0m\u001b]8;id=227213;file:///home/smartroom/miniconda3/envs/raftel/lib/python3.8/warnings.py#109\u001b\\\u001b[2m109\u001b[0m\u001b]8;;\u001b\\\n",
       "\u001b[2;36m                    \u001b[0m         \u001b[35mearn/metrics/\u001b[0m\u001b[95m_classification.py\u001b[0m:\u001b[1;36m1471\u001b[0m: UndefinedMetricWarning:          \u001b[2m               \u001b[0m\n",
       "\u001b[2;36m                    \u001b[0m         Precision and F-score are ill-defined and being set to \u001b[1;36m0.0\u001b[0m in samples  \u001b[2m               \u001b[0m\n",
       "\u001b[2;36m                    \u001b[0m         with no predicted labels. Use `zero_division` parameter to control     \u001b[2m               \u001b[0m\n",
       "\u001b[2;36m                    \u001b[0m         this behavior.                                                         \u001b[2m               \u001b[0m\n",
       "\u001b[2;36m                    \u001b[0m           \u001b[1;35m_warn_prf\u001b[0m\u001b[1m(\u001b[0maverage, modifier, msg_start, \u001b[1;35mlen\u001b[0m\u001b[1m(\u001b[0mresult\u001b[1m)\u001b[0m\u001b[1m)\u001b[0m                 \u001b[2m               \u001b[0m\n",
       "\u001b[2;36m                    \u001b[0m                                                                                \u001b[2m               \u001b[0m\n"
      ]
     },
     "metadata": {},
     "output_type": "display_data"
    },
    {
     "name": "stdout",
     "output_type": "stream",
     "text": [
      "                      precision    recall  f1-score   support\n",
      "\n",
      "      Brushing_Teeth       0.07      0.25      0.11        57\n",
      "    Changing_Clothes       0.32      0.32      0.32        84\n",
      "            Cleaning       0.11      1.00      0.19         9\n",
      "           Going_Out       0.95      0.65      0.77      3105\n",
      "    Having_Breakfast       0.52      0.73      0.61       115\n",
      " Having_Conversation       0.28      0.59      0.38        34\n",
      "       Having_Dinner       0.55      0.52      0.54        69\n",
      "        Having_Guest       0.67      0.25      0.36        16\n",
      "        Having_Lunch       1.00      0.02      0.03        61\n",
      "       Having_Shower       0.94      0.85      0.90       136\n",
      "        Having_Snack       0.36      0.25      0.30       114\n",
      "             Laundry       0.00      0.00      0.00         8\n",
      "  Listening_to_Music       0.00      0.00      0.00        32\n",
      "             Napping       0.52      0.10      0.17       226\n",
      "               Other       0.39      0.09      0.15       213\n",
      " Preparing_Breakfast       0.69      0.80      0.74        75\n",
      "    Preparing_Dinner       0.64      0.58      0.61        99\n",
      "     Preparing_Lunch       0.67      0.61      0.64        70\n",
      "        Reading_Book       0.26      0.27      0.26       150\n",
      "             Shaving       0.74      0.92      0.82        25\n",
      "            Sleeping       0.95      0.90      0.92      2021\n",
      "            Studying       0.43      0.19      0.26       282\n",
      "Talking_on_the_Phone       0.52      0.34      0.41       353\n",
      "           Toileting       0.88      0.75      0.81       238\n",
      "      Using_Internet       0.62      0.31      0.42       762\n",
      "      Washing_Dishes       0.59      0.25      0.35        68\n",
      "         Watching_TV       0.76      0.51      0.61       997\n",
      "\n",
      "           micro avg       0.78      0.59      0.67      9419\n",
      "           macro avg       0.53      0.45      0.43      9419\n",
      "        weighted avg       0.79      0.59      0.66      9419\n",
      "         samples avg       0.72      0.63      0.66      9419\n",
      "\n"
     ]
    }
   ],
   "source": [
    "print(classification_report(\n",
    "    y_test,\n",
    "    y_pred,\n",
    "    output_dict=False,\n",
    "    target_names=[\n",
    "        'Brushing_Teeth',\n",
    "        'Changing_Clothes',\n",
    "        'Cleaning',\n",
    "        'Going_Out',\n",
    "        'Having_Breakfast',\n",
    "        'Having_Conversation',\n",
    "        'Having_Dinner',\n",
    "        'Having_Guest',\n",
    "        'Having_Lunch',\n",
    "        'Having_Shower',\n",
    "        'Having_Snack',\n",
    "        'Laundry',\n",
    "        'Listening_to_Music',\n",
    "        'Napping',\n",
    "        'Other',\n",
    "        'Preparing_Breakfast',\n",
    "        'Preparing_Dinner',\n",
    "        'Preparing_Lunch',\n",
    "        'Reading_Book',\n",
    "        'Shaving',\n",
    "        'Sleeping',\n",
    "        'Studying',\n",
    "        'Talking_on_the_Phone',\n",
    "        'Toileting',\n",
    "        'Using_Internet',\n",
    "        'Washing_Dishes',\n",
    "        'Watching_TV'\n",
    "    ]\n",
    "))"
   ]
  },
  {
   "cell_type": "markdown",
   "id": "cab1ba32",
   "metadata": {},
   "source": [
    "### Optuna optimization"
   ]
  },
  {
   "cell_type": "code",
   "execution_count": 10,
   "id": "4f1bb8da",
   "metadata": {},
   "outputs": [],
   "source": [
    "import urllib\n",
    "\n",
    "import optuna\n",
    "from packaging import version\n",
    "\n",
    "import tensorflow as tf"
   ]
  },
  {
   "cell_type": "code",
   "execution_count": 11,
   "id": "604ef00d",
   "metadata": {},
   "outputs": [],
   "source": [
    "if version.parse(tf.__version__) < version.parse(\"2.11.0\"):\n",
    "    raise RuntimeError(\"tensorflow>=2.11.0 is required for this example.\")\n",
    "\n",
    "BATCHSIZE = 128\n",
    "CLASSES = 27\n",
    "EPOCHS = 10"
   ]
  },
  {
   "cell_type": "code",
   "execution_count": null,
   "id": "b2fe7373",
   "metadata": {},
   "outputs": [],
   "source": [
    "def create_model(trial):\n",
    "    # We optimize the numbers of layers, their units and weight decay parameter.\n",
    "    n_CNN_layers = trial.suggest_int(\"n_layers\", 1, 3)\n",
    "    n_Dense_layers = trial.suggest_int(\"n_layers\", 1, 3)\n",
    "    dropout_rate = trial.suggest_uniform('dropout_rate', 0.1, 0.4)\n",
    "    weight_decay = trial.suggest_float(\"weight_decay\", 1e-10, 1e-3, log=True)\n",
    "    kernel_size = trial.suggest_categorical('kernel_size', [(10, 5), (20, 5), (20, 10)])\n",
    "    \n",
    "    model = tf.keras.Sequential()\n",
    "    model.add(Input(shape=input_shape))\n",
    "    for i in range(n_CNN_layers):\n",
    "        filters = trial.suggest_int(\"n_filters_l{}\".format(i), 32, 256, log=True)\n",
    "        model.add(\n",
    "            Conv2D(\n",
    "                filters=filters,\n",
    "                kernel_size=kernel_size,\n",
    "                activation=\"relu\",\n",
    "                padding=\"valid\"\n",
    "            )\n",
    "        )\n",
    "        model.add(\n",
    "            Dropout(\n",
    "                dropout_rate\n",
    "            )\n",
    "        )\n",
    "\n",
    "    model.add(\n",
    "            Flatten()\n",
    "        )\n",
    "\n",
    "    for i in range(n_Dense_layers):\n",
    "        num_hidden = trial.suggest_int(\"n_units_l{}\".format(i), 64, 256, log=True)\n",
    "        model.add(\n",
    "            tf.keras.layers.Dense(\n",
    "                num_hidden,\n",
    "                activation=\"relu\",\n",
    "                kernel_regularizer=tf.keras.regularizers.l2(weight_decay),\n",
    "            )\n",
    "        )\n",
    "        model.add(\n",
    "            Dropout(\n",
    "                dropout_rate\n",
    "            )\n",
    "        )\n",
    "    model.add(\n",
    "        tf.keras.layers.Dense(CLASSES, kernel_regularizer=tf.keras.regularizers.l2(weight_decay))\n",
    "    )\n",
    "    return model\n",
    "\n",
    "\n",
    "def create_optimizer(trial):\n",
    "    # We optimize the choice of optimizers as well as their parameters.\n",
    "    kwargs = {}\n",
    "    optimizer_options = [\"RMSprop\", \"Adam\", \"SGD\"]\n",
    "    optimizer_selected = trial.suggest_categorical(\"optimizer\", optimizer_options)\n",
    "    if optimizer_selected == \"RMSprop\":\n",
    "        kwargs[\"learning_rate\"] = trial.suggest_float(\n",
    "            \"rmsprop_learning_rate\", 1e-5, 1e-1, log=True\n",
    "        )\n",
    "        kwargs[\"weight_decay\"] = trial.suggest_float(\"rmsprop_weight_decay\", 0.85, 0.99)\n",
    "        kwargs[\"momentum\"] = trial.suggest_float(\"rmsprop_momentum\", 1e-5, 1e-1, log=True)\n",
    "    elif optimizer_selected == \"Adam\":\n",
    "        kwargs[\"learning_rate\"] = trial.suggest_float(\"adam_learning_rate\", 1e-5, 1e-1, log=True)\n",
    "    elif optimizer_selected == \"SGD\":\n",
    "        kwargs[\"learning_rate\"] = trial.suggest_float(\n",
    "            \"sgd_opt_learning_rate\", 1e-5, 1e-1, log=True\n",
    "        )\n",
    "        kwargs[\"momentum\"] = trial.suggest_float(\"sgd_opt_momentum\", 1e-5, 1e-1, log=True)\n",
    "\n",
    "    optimizer = getattr(tf.optimizers, optimizer_selected)(**kwargs)\n",
    "    return optimizer\n",
    "\n",
    "\n",
    "def learn(model, optimizer, dataset, mode=\"eval\"):\n",
    "    accuracy = tf.metrics.Accuracy(\"accuracy\", dtype=tf.float32)\n",
    "    f_score = tf.keras.metrics.F1Score(\n",
    "        average='weighted', dtype=tf.float32\n",
    "    )\n",
    "\n",
    "    for batch, (samples, labels) in enumerate(dataset):\n",
    "        with tf.GradientTape() as tape:\n",
    "            logits = model(samples, training=(mode == \"train\"))\n",
    "            loss_value = tf.reduce_mean(\n",
    "                tf.nn.sigmoid_cross_entropy_with_logits(\n",
    "                    labels=tf.cast(labels, tf.float32), logits=logits\n",
    "                )\n",
    "            )\n",
    "            if mode == \"eval\":\n",
    "                f_score(\n",
    "                    tf.argmax(logits, axis=1, output_type=tf.int64), tf.cast(labels, tf.int64)\n",
    "                )\n",
    "            else:\n",
    "                grads = tape.gradient(loss_value, model.variables)\n",
    "                optimizer.apply_gradients(zip(grads, model.variables))\n",
    "\n",
    "    if mode == \"eval\":\n",
    "        return f_score\n",
    "\n",
    "\n",
    "def transform_dataset(x_train, y_train, x_valid, y_valid):\n",
    "    train_ds = tf.data.Dataset.from_tensor_slices((x_train, y_train))\n",
    "    train_ds = train_ds.shuffle(x_train.shape[0]).batch(BATCHSIZE)\n",
    "\n",
    "    valid_ds = tf.data.Dataset.from_tensor_slices((x_valid, y_valid))\n",
    "    valid_ds = valid_ds.shuffle(x_valid.shape[0]).batch(BATCHSIZE)\n",
    "    return train_ds, valid_ds\n",
    "\n",
    "\n",
    "# FYI: Objective functions can take additional arguments\n",
    "# (https://optuna.readthedocs.io/en/stable/faq.html#objective-func-additional-args).\n",
    "def objective(trial):\n",
    "    # Get MNIST data.\n",
    "    train_ds, valid_ds = transform_dataset(X_train, y_train, X_val, y_val)\n",
    "\n",
    "    # Build model and optimizer.\n",
    "    model = create_model(trial)\n",
    "    optimizer = create_optimizer(trial)\n",
    "\n",
    "    # Training and validating cycle.\n",
    "    with tf.device(\"/cpu:0\"):\n",
    "        for _ in range(EPOCHS):\n",
    "            learn(model, optimizer, train_ds, \"train\")\n",
    "\n",
    "        f_score = learn(model, optimizer, valid_ds, \"eval\")\n",
    "\n",
    "    # Return last validation accuracy.\n",
    "    return f_score.result()\n",
    "\n",
    "input_shape = (180, 28, 1)\n",
    "study = optuna.create_study(\n",
    "    direction=\"maximize\",\n",
    "    storage=\"sqlite:///db.sqlite3\"\n",
    ")\n",
    "study.optimize(objective, n_trials=100)\n",
    "\n",
    "print(\"Number of finished trials: \", len(study.trials))\n",
    "\n",
    "print(\"Best trial:\")\n",
    "trial = study.best_trial\n",
    "\n",
    "print(\"  Value: \", trial.value)\n",
    "\n",
    "print(\"  Params: \")\n",
    "for key, value in trial.params.items():\n",
    "    print(\"    {}: {}\".format(key, value))"
   ]
  }
 ],
 "metadata": {
  "kernelspec": {
   "display_name": "Python 3",
   "language": "python",
   "name": "python3"
  },
  "language_info": {
   "codemirror_mode": {
    "name": "ipython",
    "version": 3
   },
   "file_extension": ".py",
   "mimetype": "text/x-python",
   "name": "python",
   "nbconvert_exporter": "python",
   "pygments_lexer": "ipython3",
   "version": "3.8.18"
  }
 },
 "nbformat": 4,
 "nbformat_minor": 5
}
