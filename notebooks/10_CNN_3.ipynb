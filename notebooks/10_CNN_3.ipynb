{
 "cells": [
  {
   "cell_type": "code",
   "execution_count": 1,
   "id": "44902fa5-0456-45cf-bf22-54be77dc6f46",
   "metadata": {},
   "outputs": [
    {
     "data": {
      "text/html": [
       "<pre style=\"white-space:pre;overflow-x:auto;line-height:normal;font-family:Menlo,'DejaVu Sans Mono',consolas,'Courier New',monospace\"><span style=\"color: #7fbfbf; text-decoration-color: #7fbfbf\">[04/01/24 13:35:40] </span><span style=\"color: #800000; text-decoration-color: #800000\">WARNING </span> <span style=\"color: #800080; text-decoration-color: #800080\">/home/sossa/miniconda3/envs/raftel/lib/python3.8/site-packages/kedro/e</span> <a href=\"file:///home/sossa/miniconda3/envs/raftel/lib/python3.8/warnings.py\" target=\"_blank\"><span style=\"color: #7f7f7f; text-decoration-color: #7f7f7f\">warnings.py</span></a><span style=\"color: #7f7f7f; text-decoration-color: #7f7f7f\">:</span><a href=\"file:///home/sossa/miniconda3/envs/raftel/lib/python3.8/warnings.py#109\" target=\"_blank\"><span style=\"color: #7f7f7f; text-decoration-color: #7f7f7f\">109</span></a>\n",
       "<span style=\"color: #7fbfbf; text-decoration-color: #7fbfbf\">                    </span>         <span style=\"color: #800080; text-decoration-color: #800080\">xtras/extensions/</span><span style=\"color: #ff00ff; text-decoration-color: #ff00ff\">ipython.py</span>:<span style=\"color: #008080; text-decoration-color: #008080; font-weight: bold\">18</span>: DeprecationWarning:                    <span style=\"color: #7f7f7f; text-decoration-color: #7f7f7f\">               </span>\n",
       "<span style=\"color: #7fbfbf; text-decoration-color: #7fbfbf\">                    </span>         kedro.extras.extensions.ipython should be accessed only using the      <span style=\"color: #7f7f7f; text-decoration-color: #7f7f7f\">               </span>\n",
       "<span style=\"color: #7fbfbf; text-decoration-color: #7fbfbf\">                    </span>         alias kedro.ipython. The unaliased name will be removed in Kedro       <span style=\"color: #7f7f7f; text-decoration-color: #7f7f7f\">               </span>\n",
       "<span style=\"color: #7fbfbf; text-decoration-color: #7fbfbf\">                    </span>         <span style=\"color: #008080; text-decoration-color: #008080; font-weight: bold\">0.19</span>.<span style=\"color: #008080; text-decoration-color: #008080; font-weight: bold\">0</span>.                                                                <span style=\"color: #7f7f7f; text-decoration-color: #7f7f7f\">               </span>\n",
       "<span style=\"color: #7fbfbf; text-decoration-color: #7fbfbf\">                    </span>           <span style=\"color: #800080; text-decoration-color: #800080; font-weight: bold\">warnings.warn</span><span style=\"font-weight: bold\">(</span>                                                       <span style=\"color: #7f7f7f; text-decoration-color: #7f7f7f\">               </span>\n",
       "<span style=\"color: #7fbfbf; text-decoration-color: #7fbfbf\">                    </span>                                                                                <span style=\"color: #7f7f7f; text-decoration-color: #7f7f7f\">               </span>\n",
       "</pre>\n"
      ],
      "text/plain": [
       "\u001b[2;36m[04/01/24 13:35:40]\u001b[0m\u001b[2;36m \u001b[0m\u001b[31mWARNING \u001b[0m \u001b[35m/home/sossa/miniconda3/envs/raftel/lib/python3.8/site-packages/kedro/e\u001b[0m \u001b]8;id=485092;file:///home/sossa/miniconda3/envs/raftel/lib/python3.8/warnings.py\u001b\\\u001b[2mwarnings.py\u001b[0m\u001b]8;;\u001b\\\u001b[2m:\u001b[0m\u001b]8;id=238383;file:///home/sossa/miniconda3/envs/raftel/lib/python3.8/warnings.py#109\u001b\\\u001b[2m109\u001b[0m\u001b]8;;\u001b\\\n",
       "\u001b[2;36m                    \u001b[0m         \u001b[35mxtras/extensions/\u001b[0m\u001b[95mipython.py\u001b[0m:\u001b[1;36m18\u001b[0m: DeprecationWarning:                    \u001b[2m               \u001b[0m\n",
       "\u001b[2;36m                    \u001b[0m         kedro.extras.extensions.ipython should be accessed only using the      \u001b[2m               \u001b[0m\n",
       "\u001b[2;36m                    \u001b[0m         alias kedro.ipython. The unaliased name will be removed in Kedro       \u001b[2m               \u001b[0m\n",
       "\u001b[2;36m                    \u001b[0m         \u001b[1;36m0.19\u001b[0m.\u001b[1;36m0\u001b[0m.                                                                \u001b[2m               \u001b[0m\n",
       "\u001b[2;36m                    \u001b[0m           \u001b[1;35mwarnings.warn\u001b[0m\u001b[1m(\u001b[0m                                                       \u001b[2m               \u001b[0m\n",
       "\u001b[2;36m                    \u001b[0m                                                                                \u001b[2m               \u001b[0m\n"
      ]
     },
     "metadata": {},
     "output_type": "display_data"
    },
    {
     "data": {
      "text/html": [
       "<pre style=\"white-space:pre;overflow-x:auto;line-height:normal;font-family:Menlo,'DejaVu Sans Mono',consolas,'Courier New',monospace\"><span style=\"color: #7fbfbf; text-decoration-color: #7fbfbf\">                    </span><span style=\"color: #000080; text-decoration-color: #000080\">INFO    </span> Resolved project path as: <span style=\"color: #800080; text-decoration-color: #800080\">/home/sossa/</span><span style=\"color: #ff00ff; text-decoration-color: #ff00ff\">raftel.</span>                          <a href=\"file:///home/sossa/miniconda3/envs/raftel/lib/python3.8/site-packages/kedro/ipython/__init__.py\" target=\"_blank\"><span style=\"color: #7f7f7f; text-decoration-color: #7f7f7f\">__init__.py</span></a><span style=\"color: #7f7f7f; text-decoration-color: #7f7f7f\">:</span><a href=\"file:///home/sossa/miniconda3/envs/raftel/lib/python3.8/site-packages/kedro/ipython/__init__.py#134\" target=\"_blank\"><span style=\"color: #7f7f7f; text-decoration-color: #7f7f7f\">134</span></a>\n",
       "<span style=\"color: #7fbfbf; text-decoration-color: #7fbfbf\">                    </span>         To set a different path, run <span style=\"color: #008000; text-decoration-color: #008000\">'%reload_kedro &lt;project_root&gt;'</span>            <span style=\"color: #7f7f7f; text-decoration-color: #7f7f7f\">               </span>\n",
       "</pre>\n"
      ],
      "text/plain": [
       "\u001b[2;36m                   \u001b[0m\u001b[2;36m \u001b[0m\u001b[34mINFO    \u001b[0m Resolved project path as: \u001b[35m/home/sossa/\u001b[0m\u001b[95mraftel.\u001b[0m                          \u001b]8;id=562475;file:///home/sossa/miniconda3/envs/raftel/lib/python3.8/site-packages/kedro/ipython/__init__.py\u001b\\\u001b[2m__init__.py\u001b[0m\u001b]8;;\u001b\\\u001b[2m:\u001b[0m\u001b]8;id=328819;file:///home/sossa/miniconda3/envs/raftel/lib/python3.8/site-packages/kedro/ipython/__init__.py#134\u001b\\\u001b[2m134\u001b[0m\u001b]8;;\u001b\\\n",
       "\u001b[2;36m                    \u001b[0m         To set a different path, run \u001b[32m'%reload_kedro \u001b[0m\u001b[32m<\u001b[0m\u001b[32mproject_root\u001b[0m\u001b[32m>\u001b[0m\u001b[32m'\u001b[0m            \u001b[2m               \u001b[0m\n"
      ]
     },
     "metadata": {},
     "output_type": "display_data"
    },
    {
     "name": "stderr",
     "output_type": "stream",
     "text": [
      "your 131072x1 screen size is bogus. expect trouble\n",
      "24/04/01 13:35:42 WARN Utils: Your hostname, MSI resolves to a loopback address: 127.0.1.1; using 172.20.115.242 instead (on interface eth0)\n",
      "24/04/01 13:35:42 WARN Utils: Set SPARK_LOCAL_IP if you need to bind to another address\n"
     ]
    },
    {
     "name": "stdout",
     "output_type": "stream",
     "text": [
      ":: loading settings :: url = jar:file:/home/sossa/miniconda3/envs/raftel/lib/python3.8/site-packages/pyspark/jars/ivy-2.5.1.jar!/org/apache/ivy/core/settings/ivysettings.xml\n"
     ]
    },
    {
     "name": "stderr",
     "output_type": "stream",
     "text": [
      "Ivy Default Cache set to: /root/.ivy2/cache\n",
      "The jars for the packages stored in: /root/.ivy2/jars\n",
      "io.delta#delta-core_2.12 added as a dependency\n",
      "org.apache.hadoop#hadoop-aws added as a dependency\n",
      "software.aws.rds#aws-mysql-jdbc added as a dependency\n",
      ":: resolving dependencies :: org.apache.spark#spark-submit-parent-988f1a39-5d82-479e-8e19-e67d0c059a39;1.0\n",
      "\tconfs: [default]\n",
      "\tfound io.delta#delta-core_2.12;2.4.0 in central\n",
      "\tfound io.delta#delta-storage;2.4.0 in central\n",
      "\tfound org.antlr#antlr4-runtime;4.9.3 in central\n",
      "\tfound org.apache.hadoop#hadoop-aws;3.3.2 in central\n",
      "\tfound com.amazonaws#aws-java-sdk-bundle;1.11.1026 in central\n",
      "\tfound org.wildfly.openssl#wildfly-openssl;1.0.7.Final in central\n",
      "\tfound software.aws.rds#aws-mysql-jdbc;1.0.0 in central\n",
      ":: resolution report :: resolve 341ms :: artifacts dl 15ms\n",
      "\t:: modules in use:\n",
      "\tcom.amazonaws#aws-java-sdk-bundle;1.11.1026 from central in [default]\n",
      "\tio.delta#delta-core_2.12;2.4.0 from central in [default]\n",
      "\tio.delta#delta-storage;2.4.0 from central in [default]\n",
      "\torg.antlr#antlr4-runtime;4.9.3 from central in [default]\n",
      "\torg.apache.hadoop#hadoop-aws;3.3.2 from central in [default]\n",
      "\torg.wildfly.openssl#wildfly-openssl;1.0.7.Final from central in [default]\n",
      "\tsoftware.aws.rds#aws-mysql-jdbc;1.0.0 from central in [default]\n",
      "\t---------------------------------------------------------------------\n",
      "\t|                  |            modules            ||   artifacts   |\n",
      "\t|       conf       | number| search|dwnlded|evicted|| number|dwnlded|\n",
      "\t---------------------------------------------------------------------\n",
      "\t|      default     |   7   |   0   |   0   |   0   ||   7   |   0   |\n",
      "\t---------------------------------------------------------------------\n",
      ":: retrieving :: org.apache.spark#spark-submit-parent-988f1a39-5d82-479e-8e19-e67d0c059a39\n",
      "\tconfs: [default]\n",
      "\t0 artifacts copied, 7 already retrieved (0kB/8ms)\n",
      "24/04/01 13:35:44 WARN NativeCodeLoader: Unable to load native-hadoop library for your platform... using builtin-java classes where applicable\n",
      "Setting default log level to \"WARN\".\n",
      "To adjust logging level use sc.setLogLevel(newLevel). For SparkR, use setLogLevel(newLevel).\n"
     ]
    },
    {
     "name": "stdout",
     "output_type": "stream",
     "text": [
      "http://172.20.115.242:4051\n"
     ]
    },
    {
     "data": {
      "text/html": [
       "<pre style=\"white-space:pre;overflow-x:auto;line-height:normal;font-family:Menlo,'DejaVu Sans Mono',consolas,'Courier New',monospace\"><span style=\"color: #7fbfbf; text-decoration-color: #7fbfbf\">[04/01/24 13:35:48] </span><span style=\"color: #000080; text-decoration-color: #000080\">INFO    </span> Kedro project raftel                                                   <a href=\"file:///home/sossa/miniconda3/envs/raftel/lib/python3.8/site-packages/kedro/ipython/__init__.py\" target=\"_blank\"><span style=\"color: #7f7f7f; text-decoration-color: #7f7f7f\">__init__.py</span></a><span style=\"color: #7f7f7f; text-decoration-color: #7f7f7f\">:</span><a href=\"file:///home/sossa/miniconda3/envs/raftel/lib/python3.8/site-packages/kedro/ipython/__init__.py#103\" target=\"_blank\"><span style=\"color: #7f7f7f; text-decoration-color: #7f7f7f\">103</span></a>\n",
       "</pre>\n"
      ],
      "text/plain": [
       "\u001b[2;36m[04/01/24 13:35:48]\u001b[0m\u001b[2;36m \u001b[0m\u001b[34mINFO    \u001b[0m Kedro project raftel                                                   \u001b]8;id=527474;file:///home/sossa/miniconda3/envs/raftel/lib/python3.8/site-packages/kedro/ipython/__init__.py\u001b\\\u001b[2m__init__.py\u001b[0m\u001b]8;;\u001b\\\u001b[2m:\u001b[0m\u001b]8;id=655849;file:///home/sossa/miniconda3/envs/raftel/lib/python3.8/site-packages/kedro/ipython/__init__.py#103\u001b\\\u001b[2m103\u001b[0m\u001b]8;;\u001b\\\n"
      ]
     },
     "metadata": {},
     "output_type": "display_data"
    },
    {
     "data": {
      "text/html": [
       "<pre style=\"white-space:pre;overflow-x:auto;line-height:normal;font-family:Menlo,'DejaVu Sans Mono',consolas,'Courier New',monospace\"><span style=\"color: #7fbfbf; text-decoration-color: #7fbfbf\">                    </span><span style=\"color: #000080; text-decoration-color: #000080\">INFO    </span> Defined global variable <span style=\"color: #008000; text-decoration-color: #008000\">'context'</span>, <span style=\"color: #008000; text-decoration-color: #008000\">'session'</span>, <span style=\"color: #008000; text-decoration-color: #008000\">'catalog'</span> and            <a href=\"file:///home/sossa/miniconda3/envs/raftel/lib/python3.8/site-packages/kedro/ipython/__init__.py\" target=\"_blank\"><span style=\"color: #7f7f7f; text-decoration-color: #7f7f7f\">__init__.py</span></a><span style=\"color: #7f7f7f; text-decoration-color: #7f7f7f\">:</span><a href=\"file:///home/sossa/miniconda3/envs/raftel/lib/python3.8/site-packages/kedro/ipython/__init__.py#104\" target=\"_blank\"><span style=\"color: #7f7f7f; text-decoration-color: #7f7f7f\">104</span></a>\n",
       "<span style=\"color: #7fbfbf; text-decoration-color: #7fbfbf\">                    </span>         <span style=\"color: #008000; text-decoration-color: #008000\">'pipelines'</span>                                                            <span style=\"color: #7f7f7f; text-decoration-color: #7f7f7f\">               </span>\n",
       "</pre>\n"
      ],
      "text/plain": [
       "\u001b[2;36m                   \u001b[0m\u001b[2;36m \u001b[0m\u001b[34mINFO    \u001b[0m Defined global variable \u001b[32m'context'\u001b[0m, \u001b[32m'session'\u001b[0m, \u001b[32m'catalog'\u001b[0m and            \u001b]8;id=510260;file:///home/sossa/miniconda3/envs/raftel/lib/python3.8/site-packages/kedro/ipython/__init__.py\u001b\\\u001b[2m__init__.py\u001b[0m\u001b]8;;\u001b\\\u001b[2m:\u001b[0m\u001b]8;id=710916;file:///home/sossa/miniconda3/envs/raftel/lib/python3.8/site-packages/kedro/ipython/__init__.py#104\u001b\\\u001b[2m104\u001b[0m\u001b]8;;\u001b\\\n",
       "\u001b[2;36m                    \u001b[0m         \u001b[32m'pipelines'\u001b[0m                                                            \u001b[2m               \u001b[0m\n"
      ]
     },
     "metadata": {},
     "output_type": "display_data"
    },
    {
     "data": {
      "text/html": [
       "<pre style=\"white-space:pre;overflow-x:auto;line-height:normal;font-family:Menlo,'DejaVu Sans Mono',consolas,'Courier New',monospace\"><span style=\"color: #7fbfbf; text-decoration-color: #7fbfbf\">[04/01/24 13:35:50] </span><span style=\"color: #800000; text-decoration-color: #800000\">WARNING </span> <span style=\"color: #800080; text-decoration-color: #800080\">/home/sossa/miniconda3/envs/raftel/lib/python3.8/site-packages/kedro_v</span> <a href=\"file:///home/sossa/miniconda3/envs/raftel/lib/python3.8/warnings.py\" target=\"_blank\"><span style=\"color: #7f7f7f; text-decoration-color: #7f7f7f\">warnings.py</span></a><span style=\"color: #7f7f7f; text-decoration-color: #7f7f7f\">:</span><a href=\"file:///home/sossa/miniconda3/envs/raftel/lib/python3.8/warnings.py#109\" target=\"_blank\"><span style=\"color: #7f7f7f; text-decoration-color: #7f7f7f\">109</span></a>\n",
       "<span style=\"color: #7fbfbf; text-decoration-color: #7fbfbf\">                    </span>         <span style=\"color: #800080; text-decoration-color: #800080\">iz/api/graphql/</span><span style=\"color: #ff00ff; text-decoration-color: #ff00ff\">router.py</span>:<span style=\"color: #008080; text-decoration-color: #008080; font-weight: bold\">10</span>: DeprecationWarning: The `graphiql`        <span style=\"color: #7f7f7f; text-decoration-color: #7f7f7f\">               </span>\n",
       "<span style=\"color: #7fbfbf; text-decoration-color: #7fbfbf\">                    </span>         argument is deprecated in favor of `graphql_ide`                       <span style=\"color: #7f7f7f; text-decoration-color: #7f7f7f\">               </span>\n",
       "<span style=\"color: #7fbfbf; text-decoration-color: #7fbfbf\">                    </span>           graphql_app: GraphQL = <span style=\"color: #800080; text-decoration-color: #800080; font-weight: bold\">GraphQL</span><span style=\"font-weight: bold\">(</span>schema, <span style=\"color: #808000; text-decoration-color: #808000\">graphiql</span>=<span style=\"color: #ff0000; text-decoration-color: #ff0000; font-style: italic\">False</span><span style=\"font-weight: bold\">)</span>               <span style=\"color: #7f7f7f; text-decoration-color: #7f7f7f\">               </span>\n",
       "<span style=\"color: #7fbfbf; text-decoration-color: #7fbfbf\">                    </span>                                                                                <span style=\"color: #7f7f7f; text-decoration-color: #7f7f7f\">               </span>\n",
       "</pre>\n"
      ],
      "text/plain": [
       "\u001b[2;36m[04/01/24 13:35:50]\u001b[0m\u001b[2;36m \u001b[0m\u001b[31mWARNING \u001b[0m \u001b[35m/home/sossa/miniconda3/envs/raftel/lib/python3.8/site-packages/kedro_v\u001b[0m \u001b]8;id=446654;file:///home/sossa/miniconda3/envs/raftel/lib/python3.8/warnings.py\u001b\\\u001b[2mwarnings.py\u001b[0m\u001b]8;;\u001b\\\u001b[2m:\u001b[0m\u001b]8;id=479489;file:///home/sossa/miniconda3/envs/raftel/lib/python3.8/warnings.py#109\u001b\\\u001b[2m109\u001b[0m\u001b]8;;\u001b\\\n",
       "\u001b[2;36m                    \u001b[0m         \u001b[35miz/api/graphql/\u001b[0m\u001b[95mrouter.py\u001b[0m:\u001b[1;36m10\u001b[0m: DeprecationWarning: The `graphiql`        \u001b[2m               \u001b[0m\n",
       "\u001b[2;36m                    \u001b[0m         argument is deprecated in favor of `graphql_ide`                       \u001b[2m               \u001b[0m\n",
       "\u001b[2;36m                    \u001b[0m           graphql_app: GraphQL = \u001b[1;35mGraphQL\u001b[0m\u001b[1m(\u001b[0mschema, \u001b[33mgraphiql\u001b[0m=\u001b[3;91mFalse\u001b[0m\u001b[1m)\u001b[0m               \u001b[2m               \u001b[0m\n",
       "\u001b[2;36m                    \u001b[0m                                                                                \u001b[2m               \u001b[0m\n"
      ]
     },
     "metadata": {},
     "output_type": "display_data"
    },
    {
     "data": {
      "text/html": [
       "<pre style=\"white-space:pre;overflow-x:auto;line-height:normal;font-family:Menlo,'DejaVu Sans Mono',consolas,'Courier New',monospace\"><span style=\"color: #7fbfbf; text-decoration-color: #7fbfbf\">                    </span><span style=\"color: #000080; text-decoration-color: #000080\">INFO    </span> Registered line magic <span style=\"color: #008000; text-decoration-color: #008000\">'run_viz'</span>                                        <a href=\"file:///home/sossa/miniconda3/envs/raftel/lib/python3.8/site-packages/kedro/ipython/__init__.py\" target=\"_blank\"><span style=\"color: #7f7f7f; text-decoration-color: #7f7f7f\">__init__.py</span></a><span style=\"color: #7f7f7f; text-decoration-color: #7f7f7f\">:</span><a href=\"file:///home/sossa/miniconda3/envs/raftel/lib/python3.8/site-packages/kedro/ipython/__init__.py#110\" target=\"_blank\"><span style=\"color: #7f7f7f; text-decoration-color: #7f7f7f\">110</span></a>\n",
       "</pre>\n"
      ],
      "text/plain": [
       "\u001b[2;36m                   \u001b[0m\u001b[2;36m \u001b[0m\u001b[34mINFO    \u001b[0m Registered line magic \u001b[32m'run_viz'\u001b[0m                                        \u001b]8;id=242188;file:///home/sossa/miniconda3/envs/raftel/lib/python3.8/site-packages/kedro/ipython/__init__.py\u001b\\\u001b[2m__init__.py\u001b[0m\u001b]8;;\u001b\\\u001b[2m:\u001b[0m\u001b]8;id=663202;file:///home/sossa/miniconda3/envs/raftel/lib/python3.8/site-packages/kedro/ipython/__init__.py#110\u001b\\\u001b[2m110\u001b[0m\u001b]8;;\u001b\\\n"
      ]
     },
     "metadata": {},
     "output_type": "display_data"
    }
   ],
   "source": [
    "%load_ext kedro.extras.extensions.ipython"
   ]
  },
  {
   "cell_type": "code",
   "execution_count": 2,
   "id": "4d207709-6a02-4ffc-b886-c73e6449a636",
   "metadata": {},
   "outputs": [
    {
     "data": {
      "text/html": [
       "<pre style=\"white-space:pre;overflow-x:auto;line-height:normal;font-family:Menlo,'DejaVu Sans Mono',consolas,'Courier New',monospace\"><span style=\"color: #7fbfbf; text-decoration-color: #7fbfbf\">                    </span><span style=\"color: #000080; text-decoration-color: #000080\">INFO    </span> Resolved project path as: <span style=\"color: #800080; text-decoration-color: #800080\">/home/sossa/</span><span style=\"color: #ff00ff; text-decoration-color: #ff00ff\">raftel.</span>                          <a href=\"file:///home/sossa/miniconda3/envs/raftel/lib/python3.8/site-packages/kedro/ipython/__init__.py\" target=\"_blank\"><span style=\"color: #7f7f7f; text-decoration-color: #7f7f7f\">__init__.py</span></a><span style=\"color: #7f7f7f; text-decoration-color: #7f7f7f\">:</span><a href=\"file:///home/sossa/miniconda3/envs/raftel/lib/python3.8/site-packages/kedro/ipython/__init__.py#134\" target=\"_blank\"><span style=\"color: #7f7f7f; text-decoration-color: #7f7f7f\">134</span></a>\n",
       "<span style=\"color: #7fbfbf; text-decoration-color: #7fbfbf\">                    </span>         To set a different path, run <span style=\"color: #008000; text-decoration-color: #008000\">'%reload_kedro &lt;project_root&gt;'</span>            <span style=\"color: #7f7f7f; text-decoration-color: #7f7f7f\">               </span>\n",
       "</pre>\n"
      ],
      "text/plain": [
       "\u001b[2;36m                   \u001b[0m\u001b[2;36m \u001b[0m\u001b[34mINFO    \u001b[0m Resolved project path as: \u001b[35m/home/sossa/\u001b[0m\u001b[95mraftel.\u001b[0m                          \u001b]8;id=846060;file:///home/sossa/miniconda3/envs/raftel/lib/python3.8/site-packages/kedro/ipython/__init__.py\u001b\\\u001b[2m__init__.py\u001b[0m\u001b]8;;\u001b\\\u001b[2m:\u001b[0m\u001b]8;id=887095;file:///home/sossa/miniconda3/envs/raftel/lib/python3.8/site-packages/kedro/ipython/__init__.py#134\u001b\\\u001b[2m134\u001b[0m\u001b]8;;\u001b\\\n",
       "\u001b[2;36m                    \u001b[0m         To set a different path, run \u001b[32m'%reload_kedro \u001b[0m\u001b[32m<\u001b[0m\u001b[32mproject_root\u001b[0m\u001b[32m>\u001b[0m\u001b[32m'\u001b[0m            \u001b[2m               \u001b[0m\n"
      ]
     },
     "metadata": {},
     "output_type": "display_data"
    },
    {
     "data": {
      "text/html": [
       "<pre style=\"white-space:pre;overflow-x:auto;line-height:normal;font-family:Menlo,'DejaVu Sans Mono',consolas,'Courier New',monospace\"><span style=\"color: #7fbfbf; text-decoration-color: #7fbfbf\">[04/01/24 13:35:51] </span><span style=\"color: #000080; text-decoration-color: #000080\">INFO    </span> Kedro project raftel                                                   <a href=\"file:///home/sossa/miniconda3/envs/raftel/lib/python3.8/site-packages/kedro/ipython/__init__.py\" target=\"_blank\"><span style=\"color: #7f7f7f; text-decoration-color: #7f7f7f\">__init__.py</span></a><span style=\"color: #7f7f7f; text-decoration-color: #7f7f7f\">:</span><a href=\"file:///home/sossa/miniconda3/envs/raftel/lib/python3.8/site-packages/kedro/ipython/__init__.py#103\" target=\"_blank\"><span style=\"color: #7f7f7f; text-decoration-color: #7f7f7f\">103</span></a>\n",
       "</pre>\n"
      ],
      "text/plain": [
       "\u001b[2;36m[04/01/24 13:35:51]\u001b[0m\u001b[2;36m \u001b[0m\u001b[34mINFO    \u001b[0m Kedro project raftel                                                   \u001b]8;id=519349;file:///home/sossa/miniconda3/envs/raftel/lib/python3.8/site-packages/kedro/ipython/__init__.py\u001b\\\u001b[2m__init__.py\u001b[0m\u001b]8;;\u001b\\\u001b[2m:\u001b[0m\u001b]8;id=792159;file:///home/sossa/miniconda3/envs/raftel/lib/python3.8/site-packages/kedro/ipython/__init__.py#103\u001b\\\u001b[2m103\u001b[0m\u001b]8;;\u001b\\\n"
      ]
     },
     "metadata": {},
     "output_type": "display_data"
    },
    {
     "data": {
      "text/html": [
       "<pre style=\"white-space:pre;overflow-x:auto;line-height:normal;font-family:Menlo,'DejaVu Sans Mono',consolas,'Courier New',monospace\"><span style=\"color: #7fbfbf; text-decoration-color: #7fbfbf\">                    </span><span style=\"color: #000080; text-decoration-color: #000080\">INFO    </span> Defined global variable <span style=\"color: #008000; text-decoration-color: #008000\">'context'</span>, <span style=\"color: #008000; text-decoration-color: #008000\">'session'</span>, <span style=\"color: #008000; text-decoration-color: #008000\">'catalog'</span> and            <a href=\"file:///home/sossa/miniconda3/envs/raftel/lib/python3.8/site-packages/kedro/ipython/__init__.py\" target=\"_blank\"><span style=\"color: #7f7f7f; text-decoration-color: #7f7f7f\">__init__.py</span></a><span style=\"color: #7f7f7f; text-decoration-color: #7f7f7f\">:</span><a href=\"file:///home/sossa/miniconda3/envs/raftel/lib/python3.8/site-packages/kedro/ipython/__init__.py#104\" target=\"_blank\"><span style=\"color: #7f7f7f; text-decoration-color: #7f7f7f\">104</span></a>\n",
       "<span style=\"color: #7fbfbf; text-decoration-color: #7fbfbf\">                    </span>         <span style=\"color: #008000; text-decoration-color: #008000\">'pipelines'</span>                                                            <span style=\"color: #7f7f7f; text-decoration-color: #7f7f7f\">               </span>\n",
       "</pre>\n"
      ],
      "text/plain": [
       "\u001b[2;36m                   \u001b[0m\u001b[2;36m \u001b[0m\u001b[34mINFO    \u001b[0m Defined global variable \u001b[32m'context'\u001b[0m, \u001b[32m'session'\u001b[0m, \u001b[32m'catalog'\u001b[0m and            \u001b]8;id=835955;file:///home/sossa/miniconda3/envs/raftel/lib/python3.8/site-packages/kedro/ipython/__init__.py\u001b\\\u001b[2m__init__.py\u001b[0m\u001b]8;;\u001b\\\u001b[2m:\u001b[0m\u001b]8;id=107772;file:///home/sossa/miniconda3/envs/raftel/lib/python3.8/site-packages/kedro/ipython/__init__.py#104\u001b\\\u001b[2m104\u001b[0m\u001b]8;;\u001b\\\n",
       "\u001b[2;36m                    \u001b[0m         \u001b[32m'pipelines'\u001b[0m                                                            \u001b[2m               \u001b[0m\n"
      ]
     },
     "metadata": {},
     "output_type": "display_data"
    },
    {
     "data": {
      "text/html": [
       "<pre style=\"white-space:pre;overflow-x:auto;line-height:normal;font-family:Menlo,'DejaVu Sans Mono',consolas,'Courier New',monospace\"><span style=\"color: #7fbfbf; text-decoration-color: #7fbfbf\">                    </span><span style=\"color: #000080; text-decoration-color: #000080\">INFO    </span> Registered line magic <span style=\"color: #008000; text-decoration-color: #008000\">'run_viz'</span>                                        <a href=\"file:///home/sossa/miniconda3/envs/raftel/lib/python3.8/site-packages/kedro/ipython/__init__.py\" target=\"_blank\"><span style=\"color: #7f7f7f; text-decoration-color: #7f7f7f\">__init__.py</span></a><span style=\"color: #7f7f7f; text-decoration-color: #7f7f7f\">:</span><a href=\"file:///home/sossa/miniconda3/envs/raftel/lib/python3.8/site-packages/kedro/ipython/__init__.py#110\" target=\"_blank\"><span style=\"color: #7f7f7f; text-decoration-color: #7f7f7f\">110</span></a>\n",
       "</pre>\n"
      ],
      "text/plain": [
       "\u001b[2;36m                   \u001b[0m\u001b[2;36m \u001b[0m\u001b[34mINFO    \u001b[0m Registered line magic \u001b[32m'run_viz'\u001b[0m                                        \u001b]8;id=409776;file:///home/sossa/miniconda3/envs/raftel/lib/python3.8/site-packages/kedro/ipython/__init__.py\u001b\\\u001b[2m__init__.py\u001b[0m\u001b]8;;\u001b\\\u001b[2m:\u001b[0m\u001b]8;id=905099;file:///home/sossa/miniconda3/envs/raftel/lib/python3.8/site-packages/kedro/ipython/__init__.py#110\u001b\\\u001b[2m110\u001b[0m\u001b]8;;\u001b\\\n"
      ]
     },
     "metadata": {},
     "output_type": "display_data"
    }
   ],
   "source": [
    "%reload_kedro"
   ]
  },
  {
   "cell_type": "code",
   "execution_count": 3,
   "id": "92337acd-11f3-4cc5-90f3-55a56f0ce2f8",
   "metadata": {},
   "outputs": [],
   "source": [
    "import math\n",
    "import pandas as pd\n",
    "import numpy as np"
   ]
  },
  {
   "cell_type": "code",
   "execution_count": 4,
   "id": "66039b88",
   "metadata": {},
   "outputs": [
    {
     "name": "stderr",
     "output_type": "stream",
     "text": [
      "2024-04-01 13:35:52.989240: I tensorflow/tsl/cuda/cudart_stub.cc:28] Could not find cuda drivers on your machine, GPU will not be used.\n",
      "2024-04-01 13:35:53.370349: I tensorflow/tsl/cuda/cudart_stub.cc:28] Could not find cuda drivers on your machine, GPU will not be used.\n",
      "2024-04-01 13:35:53.376760: I tensorflow/core/platform/cpu_feature_guard.cc:182] This TensorFlow binary is optimized to use available CPU instructions in performance-critical operations.\n",
      "To enable the following instructions: AVX2 FMA, in other operations, rebuild TensorFlow with the appropriate compiler flags.\n",
      "2024-04-01 13:35:54.532404: W tensorflow/compiler/tf2tensorrt/utils/py_utils.cc:38] TF-TRT Warning: Could not find TensorRT\n"
     ]
    }
   ],
   "source": [
    "import tensorflow as tf\n",
    "from tensorflow.keras.models import Model\n",
    "from tensorflow.keras.layers import (\n",
    "    Input, \n",
    "    Conv2D, \n",
    "    MaxPool2D, \n",
    "    Dense, \n",
    "    Dropout, \n",
    "    Flatten, \n",
    "    Conv1D, \n",
    "    Bidirectional,\n",
    "    GRU,\n",
    "    concatenate,\n",
    "    SpatialDropout1D,\n",
    "    LSTM,\n",
    "    GlobalAveragePooling1D)\n",
    "from tensorflow.keras.callbacks import ModelCheckpoint, EarlyStopping\n",
    "from tensorflow.keras.metrics import Metric\n",
    "from keras.optimizers import Adam,SGD,RMSprop"
   ]
  },
  {
   "cell_type": "code",
   "execution_count": 5,
   "id": "8596fb9b",
   "metadata": {},
   "outputs": [],
   "source": [
    "import pandas as pd\n",
    "import numpy as np\n",
    "from sklearn.model_selection import TimeSeriesSplit, GridSearchCV, train_test_split, KFold, StratifiedKFold\n",
    "import xgboost as xgb\n",
    "from sklearn.metrics import accuracy_score, f1_score, multilabel_confusion_matrix, classification_report\n",
    "import keras.backend as K"
   ]
  },
  {
   "cell_type": "code",
   "execution_count": 6,
   "id": "c1076a86-7059-4f64-ae84-b1b530ada271",
   "metadata": {},
   "outputs": [
    {
     "data": {
      "text/html": [
       "<pre style=\"white-space:pre;overflow-x:auto;line-height:normal;font-family:Menlo,'DejaVu Sans Mono',consolas,'Courier New',monospace\"><span style=\"color: #7fbfbf; text-decoration-color: #7fbfbf\">[04/01/24 13:35:56] </span><span style=\"color: #000080; text-decoration-color: #000080\">INFO    </span> Loading data from <span style=\"color: #008000; text-decoration-color: #008000\">'windowed_X_aras_A_3@pickle'</span> <span style=\"font-weight: bold\">(</span>PickleDataSet<span style=\"font-weight: bold\">)</span><span style=\"color: #808000; text-decoration-color: #808000\">...</span>  <a href=\"file:///home/sossa/miniconda3/envs/raftel/lib/python3.8/site-packages/kedro/io/data_catalog.py\" target=\"_blank\"><span style=\"color: #7f7f7f; text-decoration-color: #7f7f7f\">data_catalog.py</span></a><span style=\"color: #7f7f7f; text-decoration-color: #7f7f7f\">:</span><a href=\"file:///home/sossa/miniconda3/envs/raftel/lib/python3.8/site-packages/kedro/io/data_catalog.py#343\" target=\"_blank\"><span style=\"color: #7f7f7f; text-decoration-color: #7f7f7f\">343</span></a>\n",
       "</pre>\n"
      ],
      "text/plain": [
       "\u001b[2;36m[04/01/24 13:35:56]\u001b[0m\u001b[2;36m \u001b[0m\u001b[34mINFO    \u001b[0m Loading data from \u001b[32m'windowed_X_aras_A_3@pickle'\u001b[0m \u001b[1m(\u001b[0mPickleDataSet\u001b[1m)\u001b[0m\u001b[33m...\u001b[0m  \u001b]8;id=298450;file:///home/sossa/miniconda3/envs/raftel/lib/python3.8/site-packages/kedro/io/data_catalog.py\u001b\\\u001b[2mdata_catalog.py\u001b[0m\u001b]8;;\u001b\\\u001b[2m:\u001b[0m\u001b]8;id=215633;file:///home/sossa/miniconda3/envs/raftel/lib/python3.8/site-packages/kedro/io/data_catalog.py#343\u001b\\\u001b[2m343\u001b[0m\u001b]8;;\u001b\\\n"
      ]
     },
     "metadata": {},
     "output_type": "display_data"
    },
    {
     "data": {
      "text/html": [
       "<pre style=\"white-space:pre;overflow-x:auto;line-height:normal;font-family:Menlo,'DejaVu Sans Mono',consolas,'Courier New',monospace\"><span style=\"color: #7fbfbf; text-decoration-color: #7fbfbf\">[04/01/24 13:35:58] </span><span style=\"color: #000080; text-decoration-color: #000080\">INFO    </span> Loading data from <span style=\"color: #008000; text-decoration-color: #008000\">'windowed_y_aras_A_3@pickle'</span> <span style=\"font-weight: bold\">(</span>PickleDataSet<span style=\"font-weight: bold\">)</span><span style=\"color: #808000; text-decoration-color: #808000\">...</span>  <a href=\"file:///home/sossa/miniconda3/envs/raftel/lib/python3.8/site-packages/kedro/io/data_catalog.py\" target=\"_blank\"><span style=\"color: #7f7f7f; text-decoration-color: #7f7f7f\">data_catalog.py</span></a><span style=\"color: #7f7f7f; text-decoration-color: #7f7f7f\">:</span><a href=\"file:///home/sossa/miniconda3/envs/raftel/lib/python3.8/site-packages/kedro/io/data_catalog.py#343\" target=\"_blank\"><span style=\"color: #7f7f7f; text-decoration-color: #7f7f7f\">343</span></a>\n",
       "</pre>\n"
      ],
      "text/plain": [
       "\u001b[2;36m[04/01/24 13:35:58]\u001b[0m\u001b[2;36m \u001b[0m\u001b[34mINFO    \u001b[0m Loading data from \u001b[32m'windowed_y_aras_A_3@pickle'\u001b[0m \u001b[1m(\u001b[0mPickleDataSet\u001b[1m)\u001b[0m\u001b[33m...\u001b[0m  \u001b]8;id=644697;file:///home/sossa/miniconda3/envs/raftel/lib/python3.8/site-packages/kedro/io/data_catalog.py\u001b\\\u001b[2mdata_catalog.py\u001b[0m\u001b]8;;\u001b\\\u001b[2m:\u001b[0m\u001b]8;id=466394;file:///home/sossa/miniconda3/envs/raftel/lib/python3.8/site-packages/kedro/io/data_catalog.py#343\u001b\\\u001b[2m343\u001b[0m\u001b]8;;\u001b\\\n"
      ]
     },
     "metadata": {},
     "output_type": "display_data"
    }
   ],
   "source": [
    "X = catalog.load(\"windowed_X_aras_A_3@pickle\")\n",
    "y = catalog.load(\"windowed_y_aras_A_3@pickle\")"
   ]
  },
  {
   "cell_type": "code",
   "execution_count": 7,
   "id": "b6f0551f",
   "metadata": {},
   "outputs": [
    {
     "data": {
      "text/html": [
       "<pre style=\"white-space:pre;overflow-x:auto;line-height:normal;font-family:Menlo,'DejaVu Sans Mono',consolas,'Courier New',monospace\"></pre>\n"
      ],
      "text/plain": []
     },
     "metadata": {},
     "output_type": "display_data"
    },
    {
     "data": {
      "text/plain": [
       "\u001b[1m(\u001b[0m\u001b[1m(\u001b[0m\u001b[1;36m28799\u001b[0m, \u001b[1;36m180\u001b[0m, \u001b[1;36m28\u001b[0m\u001b[1m)\u001b[0m, \u001b[1m(\u001b[0m\u001b[1;36m28799\u001b[0m, \u001b[1;36m27\u001b[0m\u001b[1m)\u001b[0m\u001b[1m)\u001b[0m"
      ]
     },
     "execution_count": 7,
     "metadata": {},
     "output_type": "execute_result"
    }
   ],
   "source": [
    "X.shape, y.shape"
   ]
  },
  {
   "cell_type": "markdown",
   "id": "7f5ad9eb",
   "metadata": {},
   "source": [
    "### Train and test split"
   ]
  },
  {
   "cell_type": "code",
   "execution_count": 8,
   "id": "d909c858",
   "metadata": {},
   "outputs": [],
   "source": [
    "X_train, X_test, y_train, y_test = train_test_split(X, y, test_size = 0.2, train_size=0.80, random_state = 0)"
   ]
  },
  {
   "cell_type": "code",
   "execution_count": 9,
   "id": "0e71953d",
   "metadata": {},
   "outputs": [
    {
     "data": {
      "text/html": [
       "<pre style=\"white-space:pre;overflow-x:auto;line-height:normal;font-family:Menlo,'DejaVu Sans Mono',consolas,'Courier New',monospace\"></pre>\n"
      ],
      "text/plain": []
     },
     "metadata": {},
     "output_type": "display_data"
    },
    {
     "data": {
      "text/plain": [
       "\u001b[1m(\u001b[0m\u001b[1m(\u001b[0m\u001b[1;36m23039\u001b[0m, \u001b[1;36m180\u001b[0m, \u001b[1;36m28\u001b[0m\u001b[1m)\u001b[0m, \u001b[1m(\u001b[0m\u001b[1;36m5760\u001b[0m, \u001b[1;36m180\u001b[0m, \u001b[1;36m28\u001b[0m\u001b[1m)\u001b[0m, \u001b[1m(\u001b[0m\u001b[1;36m23039\u001b[0m, \u001b[1;36m27\u001b[0m\u001b[1m)\u001b[0m, \u001b[1m(\u001b[0m\u001b[1;36m5760\u001b[0m, \u001b[1;36m27\u001b[0m\u001b[1m)\u001b[0m\u001b[1m)\u001b[0m"
      ]
     },
     "execution_count": 9,
     "metadata": {},
     "output_type": "execute_result"
    }
   ],
   "source": [
    "X_train.shape, X_test.shape, y_train.shape, y_test.shape"
   ]
  },
  {
   "cell_type": "markdown",
   "id": "eddaf950",
   "metadata": {},
   "source": [
    "### Model definition"
   ]
  },
  {
   "cell_type": "code",
   "execution_count": 22,
   "id": "f0a94eca",
   "metadata": {},
   "outputs": [
    {
     "data": {
      "text/html": [
       "<pre style=\"white-space:pre;overflow-x:auto;line-height:normal;font-family:Menlo,'DejaVu Sans Mono',consolas,'Courier New',monospace\"><span style=\"color: #7fbfbf; text-decoration-color: #7fbfbf\">[04/01/24 14:28:42] </span><span style=\"color: #800000; text-decoration-color: #800000\">WARNING </span> `lr` is deprecated in Keras optimizer, please use `learning_rate` or  <a href=\"file:///home/sossa/miniconda3/envs/raftel/lib/python3.8/site-packages/keras/src/optimizers/optimizer.py\" target=\"_blank\"><span style=\"color: #7f7f7f; text-decoration-color: #7f7f7f\">optimizer.py</span></a><span style=\"color: #7f7f7f; text-decoration-color: #7f7f7f\">:</span><a href=\"file:///home/sossa/miniconda3/envs/raftel/lib/python3.8/site-packages/keras/src/optimizers/optimizer.py#123\" target=\"_blank\"><span style=\"color: #7f7f7f; text-decoration-color: #7f7f7f\">123</span></a>\n",
       "<span style=\"color: #7fbfbf; text-decoration-color: #7fbfbf\">                    </span>         use the legacy optimizer, e.g.,tf.keras.optimizers.legacy.RMSprop.    <span style=\"color: #7f7f7f; text-decoration-color: #7f7f7f\">                </span>\n",
       "</pre>\n"
      ],
      "text/plain": [
       "\u001b[2;36m[04/01/24 14:28:42]\u001b[0m\u001b[2;36m \u001b[0m\u001b[31mWARNING \u001b[0m `lr` is deprecated in Keras optimizer, please use `learning_rate` or  \u001b]8;id=183952;file:///home/sossa/miniconda3/envs/raftel/lib/python3.8/site-packages/keras/src/optimizers/optimizer.py\u001b\\\u001b[2moptimizer.py\u001b[0m\u001b]8;;\u001b\\\u001b[2m:\u001b[0m\u001b]8;id=682213;file:///home/sossa/miniconda3/envs/raftel/lib/python3.8/site-packages/keras/src/optimizers/optimizer.py#123\u001b\\\u001b[2m123\u001b[0m\u001b]8;;\u001b\\\n",
       "\u001b[2;36m                    \u001b[0m         use the legacy optimizer, e.g.,tf.keras.optimizers.legacy.RMSprop.    \u001b[2m                \u001b[0m\n"
      ]
     },
     "metadata": {},
     "output_type": "display_data"
    },
    {
     "name": "stdout",
     "output_type": "stream",
     "text": [
      "Model: \"model_CNN\"\n",
      "_________________________________________________________________\n",
      " Layer (type)                Output Shape              Param #   \n",
      "=================================================================\n",
      " input (InputLayer)          [(None, 180, 28)]         0         \n",
      "                                                                 \n",
      " conv1d_2 (Conv1D)           (None, 161, 64)           35904     \n",
      "                                                                 \n",
      " dropout_2 (Dropout)         (None, 161, 64)           0         \n",
      "                                                                 \n",
      " bidir_1 (Bidirectional)     (None, 161, 256)          197632    \n",
      "                                                                 \n",
      " pool_1 (GlobalAveragePooli  (None, 256)               0         \n",
      " ng1D)                                                           \n",
      "                                                                 \n",
      " dense_1 (Dense)             (None, 128)               32896     \n",
      "                                                                 \n",
      " dropout_3 (Dropout)         (None, 128)               0         \n",
      "                                                                 \n",
      " dense_output (Dense)        (None, 27)                3483      \n",
      "                                                                 \n",
      "=================================================================\n",
      "Total params: 269915 (1.03 MB)\n",
      "Trainable params: 269915 (1.03 MB)\n",
      "Non-trainable params: 0 (0.00 Byte)\n",
      "_________________________________________________________________\n",
      "None\n",
      "Epoch 1/10\n"
     ]
    },
    {
     "name": "stderr",
     "output_type": "stream",
     "text": [
      "2024-04-01 14:28:43.012075: W tensorflow/tsl/framework/cpu_allocator_impl.cc:83] Allocation of 743137920 exceeds 10% of free system memory.\n"
     ]
    },
    {
     "name": "stdout",
     "output_type": "stream",
     "text": [
      "288/288 [==============================] - 72s 236ms/step - loss: 0.1105 - accuracy: 0.6132 - f1: 0.1330 - val_loss: 0.0822 - val_accuracy: 0.6602 - val_f1: 0.2080\n",
      "Epoch 2/10\n",
      "288/288 [==============================] - 68s 237ms/step - loss: 0.0803 - accuracy: 0.6477 - f1: 0.2226 - val_loss: 0.0749 - val_accuracy: 0.6584 - val_f1: 0.2441\n",
      "Epoch 3/10\n",
      "288/288 [==============================] - 73s 252ms/step - loss: 0.0754 - accuracy: 0.6537 - f1: 0.2448 - val_loss: 0.0723 - val_accuracy: 0.7242 - val_f1: 0.2636\n",
      "Epoch 4/10\n",
      "288/288 [==============================] - 75s 260ms/step - loss: 0.0728 - accuracy: 0.6567 - f1: 0.2594 - val_loss: 0.0704 - val_accuracy: 0.6560 - val_f1: 0.2595\n",
      "Epoch 5/10\n",
      "288/288 [==============================] - 70s 241ms/step - loss: 0.0708 - accuracy: 0.6603 - f1: 0.2686 - val_loss: 0.0683 - val_accuracy: 0.6738 - val_f1: 0.2840\n",
      "Epoch 6/10\n",
      "288/288 [==============================] - 72s 249ms/step - loss: 0.0695 - accuracy: 0.6663 - f1: 0.2673 - val_loss: 0.0672 - val_accuracy: 0.7198 - val_f1: 0.2829\n",
      "Epoch 7/10\n",
      "288/288 [==============================] - 69s 241ms/step - loss: 0.0682 - accuracy: 0.6658 - f1: 0.2749 - val_loss: 0.0673 - val_accuracy: 0.6636 - val_f1: 0.2963\n",
      "Epoch 8/10\n",
      "288/288 [==============================] - 73s 254ms/step - loss: 0.0673 - accuracy: 0.6665 - f1: 0.2850 - val_loss: 0.0662 - val_accuracy: 0.7266 - val_f1: 0.3010\n",
      "Epoch 9/10\n",
      "288/288 [==============================] - 72s 250ms/step - loss: 0.0663 - accuracy: 0.6764 - f1: 0.2889 - val_loss: 0.0655 - val_accuracy: 0.6660 - val_f1: 0.2875\n",
      "Epoch 10/10\n",
      "288/288 [==============================] - 75s 261ms/step - loss: 0.0652 - accuracy: 0.6702 - f1: 0.2950 - val_loss: 0.0681 - val_accuracy: 0.6567 - val_f1: 0.2921\n"
     ]
    },
    {
     "data": {
      "text/html": [
       "<pre style=\"white-space:pre;overflow-x:auto;line-height:normal;font-family:Menlo,'DejaVu Sans Mono',consolas,'Courier New',monospace\"></pre>\n"
      ],
      "text/plain": []
     },
     "metadata": {},
     "output_type": "display_data"
    },
    {
     "data": {
      "text/plain": [
       "\u001b[1m<\u001b[0m\u001b[1;95mkeras.src.callbacks.History\u001b[0m\u001b[39m object at \u001b[0m\u001b[1;36m0x7fdf0eff5340\u001b[0m\u001b[1m>\u001b[0m"
      ]
     },
     "execution_count": 22,
     "metadata": {},
     "output_type": "execute_result"
    }
   ],
   "source": [
    "def f1(y_true, y_pred):\n",
    "    y_pred = K.round(y_pred)\n",
    "    y_true = K.cast(y_true, 'float')\n",
    "    tp = K.sum(K.cast(y_true*y_pred, 'float'), axis=0)\n",
    "    tn = K.sum(K.cast((1-y_true)*(1-y_pred), 'float'), axis=0)\n",
    "    fp = K.sum(K.cast((1-y_true)*y_pred, 'float'), axis=0)\n",
    "    fn = K.sum(K.cast(y_true*(1-y_pred), 'float'), axis=0)\n",
    "\n",
    "    p = tp / (tp + fp + K.epsilon())\n",
    "    r = tp / (tp + fn + K.epsilon())\n",
    "\n",
    "    f1 = 2*p*r / (p+r+K.epsilon())\n",
    "    f1 = tf.where(tf.math.is_nan(f1), tf.zeros_like(f1), f1)\n",
    "    return K.mean(f1)\n",
    "\n",
    "def f1_loss(y_true, y_pred):\n",
    "    y_true = K.cast(y_true, 'float')\n",
    "    tp = K.sum(K.cast(y_true*y_pred, 'float'), axis=0)\n",
    "    tn = K.sum(K.cast((1-y_true)*(1-y_pred), 'float'), axis=0)\n",
    "    fp = K.sum(K.cast((1-y_true)*y_pred, 'float'), axis=0)\n",
    "    fn = K.sum(K.cast(y_true*(1-y_pred), 'float'), axis=0)\n",
    "\n",
    "    p = tp / (tp + fp + K.epsilon())\n",
    "    r = tp / (tp + fn + K.epsilon())\n",
    "\n",
    "    f1 = 2*p*r / (p+r+K.epsilon())\n",
    "    f1 = tf.where(tf.math.is_nan(f1), tf.zeros_like(f1), f1)\n",
    "    return 1 - K.mean(f1)\n",
    "\n",
    "def get_2DCNN_model(input_shape):\n",
    "  '''\n",
    "  This function returns a compiled CNN with specifications given above.\n",
    "  '''\n",
    "  \n",
    "  #Defining the architecture of the CNN\n",
    "  input_layer = Input(shape=input_shape, name='input')\n",
    "  h = Conv2D(filters=6, kernel_size=(20, 3), \n",
    "             activation='relu', padding=\"same\", name='conv2d_1')(input_layer)\n",
    "  # h = MaxPool2D(pool_size=(2,2), name='pool_1')(h)\n",
    "  h = Dropout(0.5, name='dropout_1')(h)\n",
    " \n",
    "  h = Conv2D(filters=12, kernel_size=(20, 3), \n",
    "             activation='relu', padding=\"same\", name='conv2d_2')(h)\n",
    "  # h = MaxPool2D(pool_size=(2,2), name='pool_2')(h)\n",
    "  h = Dropout(0.5, name='dropout_2')(h)\n",
    "\n",
    "  # h = Conv2D(filters=128, kernel_size=(3, 3), \n",
    "  #            activation='relu', padding=\"same\", name='conv2d_3')(h)\n",
    "  # h = MaxPool2D(pool_size=(2,2), name='pool_3')(h)\n",
    "  # h = Dropout(0.5, name='dropout_3')(h)\n",
    "\n",
    "  h = Flatten(name='flatten_1')(h)\n",
    "  h = Dense(64, activation='relu', name='dense_1')(h)\n",
    "  h = Dropout(0.5, name='dropout_4')(h)\n",
    "\n",
    "  output_layer = Dense(27, activation='sigmoid', name='dense_output')(h)\n",
    "\n",
    "  #To generate the model, we pass the input layer and the output layer\n",
    "  model = Model(inputs=input_layer, outputs=output_layer, name='model_CNN')\n",
    "\n",
    "  #Next we apply the compile method\n",
    "  model.compile(optimizer='adam',\n",
    "                loss='binary_crossentropy',\n",
    "                metrics=['accuracy', f1])\n",
    "  \n",
    "  return model\n",
    "\n",
    "def get_1DCNN_model(input_shape):\n",
    "  '''\n",
    "  This function returns a compiled CNN with specifications given above.\n",
    "  '''\n",
    "  \n",
    "  #Defining the architecture of the CNN\n",
    "  input_layer = Input(shape=input_shape, name='input')\n",
    "  h = Conv1D(filters=32, kernel_size=20,\n",
    "              padding = \"valid\", kernel_initializer = \"glorot_uniform\", name='conv1d_1')(input_layer)\n",
    "  h = Dropout(0.1, name='dropout_1')(h)\n",
    "\n",
    "  h = Conv1D(filters=64, kernel_size=20,\n",
    "              padding = \"valid\", kernel_initializer = \"glorot_uniform\", name='conv1d_2')(input_layer)\n",
    "  h = Dropout(0.1, name='dropout_2')(h)\n",
    "\n",
    "  h = Bidirectional(LSTM(128, return_sequences=True,dropout=0.1,recurrent_dropout=0.1), name='bidir_1')(h)\n",
    " \n",
    "  h = GlobalAveragePooling1D(name='pool_1')(h)\n",
    "\n",
    "  h = Dense(128, activation='relu', name='dense_1')(h)\n",
    "  h = Dropout(0.1, name='dropout_3')(h)\n",
    "\n",
    "  output_layer = Dense(27, activation='sigmoid', name='dense_output')(h)\n",
    "\n",
    "  #To generate the model, we pass the input layer and the output layer\n",
    "  model = Model(inputs=input_layer, outputs=output_layer, name='model_CNN')\n",
    "\n",
    "  #Next we apply the compile method\n",
    "  model.compile(optimizer=RMSprop(lr=1e-3),\n",
    "                loss='binary_crossentropy',\n",
    "                metrics=['accuracy', f1])\n",
    "  \n",
    "  return model\n",
    "\n",
    "# CNN_model = get_2DCNN_model((180, 28, 1))\n",
    "CNN_model = get_1DCNN_model((180, 28))\n",
    "\n",
    "print(CNN_model.summary())\n",
    "\n",
    "CNN_model.fit(X_train, y_train, epochs=10, batch_size=64, validation_split=0.2)"
   ]
  },
  {
   "cell_type": "code",
   "execution_count": 24,
   "id": "efd285ac",
   "metadata": {},
   "outputs": [],
   "source": [
    "CNN_model.save('../data/06_models/CNN_NN_T2.keras')"
   ]
  },
  {
   "cell_type": "code",
   "execution_count": 26,
   "id": "71148b89",
   "metadata": {},
   "outputs": [
    {
     "name": "stdout",
     "output_type": "stream",
     "text": [
      "105/105 [==============================] - 3s 26ms/step - loss: 0.0867 - accuracy: 0.6586 - f1: 0.2433\n"
     ]
    },
    {
     "data": {
      "text/html": [
       "<pre style=\"white-space:pre;overflow-x:auto;line-height:normal;font-family:Menlo,'DejaVu Sans Mono',consolas,'Courier New',monospace\"></pre>\n"
      ],
      "text/plain": []
     },
     "metadata": {},
     "output_type": "display_data"
    },
    {
     "data": {
      "text/plain": [
       "\u001b[1m[\u001b[0m\u001b[1;36m0.086671382188797\u001b[0m, \u001b[1;36m0.6585949063301086\u001b[0m, \u001b[1;36m0.24333009123802185\u001b[0m\u001b[1m]\u001b[0m"
      ]
     },
     "execution_count": 26,
     "metadata": {},
     "output_type": "execute_result"
    }
   ],
   "source": [
    "CNN_model.evaluate(X_test, y_test)"
   ]
  },
  {
   "cell_type": "code",
   "execution_count": 23,
   "id": "96cfe319",
   "metadata": {},
   "outputs": [
    {
     "ename": "",
     "evalue": "",
     "output_type": "error",
     "traceback": [
      "\u001b[1;31mThe Kernel crashed while executing code in the current cell or a previous cell. \n",
      "\u001b[1;31mPlease review the code in the cell(s) to identify a possible cause of the failure. \n",
      "\u001b[1;31mClick <a href='https://aka.ms/vscodeJupyterKernelCrash'>here</a> for more info. \n",
      "\u001b[1;31mView Jupyter <a href='command:jupyter.viewOutput'>log</a> for further details."
     ]
    }
   ],
   "source": [
    "y_pred = CNN_model.predict(X_test)\n",
    "y_pred = (y_pred >= 0.5).astype(int)\n",
    "y_pred"
   ]
  },
  {
   "cell_type": "code",
   "execution_count": 19,
   "id": "8519cc98",
   "metadata": {},
   "outputs": [
    {
     "data": {
      "text/html": [
       "<pre style=\"white-space:pre;overflow-x:auto;line-height:normal;font-family:Menlo,'DejaVu Sans Mono',consolas,'Courier New',monospace\"></pre>\n"
      ],
      "text/plain": []
     },
     "metadata": {},
     "output_type": "display_data"
    },
    {
     "data": {
      "text/plain": [
       "\u001b[1;36m0.6041666666666666\u001b[0m"
      ]
     },
     "execution_count": 19,
     "metadata": {},
     "output_type": "execute_result"
    }
   ],
   "source": [
    "accuracy_score(y_test, y_pred)"
   ]
  },
  {
   "cell_type": "code",
   "execution_count": 20,
   "id": "449c3dae",
   "metadata": {},
   "outputs": [
    {
     "data": {
      "text/html": [
       "<pre style=\"white-space:pre;overflow-x:auto;line-height:normal;font-family:Menlo,'DejaVu Sans Mono',consolas,'Courier New',monospace\"></pre>\n"
      ],
      "text/plain": []
     },
     "metadata": {},
     "output_type": "display_data"
    },
    {
     "data": {
      "text/plain": [
       "\n",
       "\u001b[1;35marray\u001b[0m\u001b[1m(\u001b[0m\u001b[1m[\u001b[0m\u001b[1m[\u001b[0m\u001b[1m[\u001b[0m\u001b[1;36m5703\u001b[0m,    \u001b[1;36m0\u001b[0m\u001b[1m]\u001b[0m,\n",
       "        \u001b[1m[\u001b[0m  \u001b[1;36m56\u001b[0m,    \u001b[1;36m1\u001b[0m\u001b[1m]\u001b[0m\u001b[1m]\u001b[0m,\n",
       "\n",
       "       \u001b[1m[\u001b[0m\u001b[1m[\u001b[0m\u001b[1;36m5671\u001b[0m,    \u001b[1;36m5\u001b[0m\u001b[1m]\u001b[0m,\n",
       "        \u001b[1m[\u001b[0m  \u001b[1;36m74\u001b[0m,   \u001b[1;36m10\u001b[0m\u001b[1m]\u001b[0m\u001b[1m]\u001b[0m,\n",
       "\n",
       "       \u001b[1m[\u001b[0m\u001b[1m[\u001b[0m\u001b[1;36m5751\u001b[0m,    \u001b[1;36m0\u001b[0m\u001b[1m]\u001b[0m,\n",
       "        \u001b[1m[\u001b[0m   \u001b[1;36m9\u001b[0m,    \u001b[1;36m0\u001b[0m\u001b[1m]\u001b[0m\u001b[1m]\u001b[0m,\n",
       "\n",
       "       \u001b[1m[\u001b[0m\u001b[1m[\u001b[0m\u001b[1;36m2152\u001b[0m,  \u001b[1;36m503\u001b[0m\u001b[1m]\u001b[0m,\n",
       "        \u001b[1m[\u001b[0m  \u001b[1;36m57\u001b[0m, \u001b[1;36m3048\u001b[0m\u001b[1m]\u001b[0m\u001b[1m]\u001b[0m,\n",
       "\n",
       "       \u001b[1m[\u001b[0m\u001b[1m[\u001b[0m\u001b[1;36m5612\u001b[0m,   \u001b[1;36m33\u001b[0m\u001b[1m]\u001b[0m,\n",
       "        \u001b[1m[\u001b[0m  \u001b[1;36m37\u001b[0m,   \u001b[1;36m78\u001b[0m\u001b[1m]\u001b[0m\u001b[1m]\u001b[0m,\n",
       "\n",
       "       \u001b[1m[\u001b[0m\u001b[1m[\u001b[0m\u001b[1;36m5726\u001b[0m,    \u001b[1;36m0\u001b[0m\u001b[1m]\u001b[0m,\n",
       "        \u001b[1m[\u001b[0m  \u001b[1;36m24\u001b[0m,   \u001b[1;36m10\u001b[0m\u001b[1m]\u001b[0m\u001b[1m]\u001b[0m,\n",
       "\n",
       "       \u001b[1m[\u001b[0m\u001b[1m[\u001b[0m\u001b[1;36m5690\u001b[0m,    \u001b[1;36m1\u001b[0m\u001b[1m]\u001b[0m,\n",
       "        \u001b[1m[\u001b[0m  \u001b[1;36m50\u001b[0m,   \u001b[1;36m19\u001b[0m\u001b[1m]\u001b[0m\u001b[1m]\u001b[0m,\n",
       "\n",
       "       \u001b[1m[\u001b[0m\u001b[1m[\u001b[0m\u001b[1;36m5744\u001b[0m,    \u001b[1;36m0\u001b[0m\u001b[1m]\u001b[0m,\n",
       "        \u001b[1m[\u001b[0m  \u001b[1;36m16\u001b[0m,    \u001b[1;36m0\u001b[0m\u001b[1m]\u001b[0m\u001b[1m]\u001b[0m,\n",
       "\n",
       "       \u001b[1m[\u001b[0m\u001b[1m[\u001b[0m\u001b[1;36m5698\u001b[0m,    \u001b[1;36m1\u001b[0m\u001b[1m]\u001b[0m,\n",
       "        \u001b[1m[\u001b[0m  \u001b[1;36m53\u001b[0m,    \u001b[1;36m8\u001b[0m\u001b[1m]\u001b[0m\u001b[1m]\u001b[0m,\n",
       "\n",
       "       \u001b[1m[\u001b[0m\u001b[1m[\u001b[0m\u001b[1;36m5618\u001b[0m,    \u001b[1;36m6\u001b[0m\u001b[1m]\u001b[0m,\n",
       "        \u001b[1m[\u001b[0m  \u001b[1;36m20\u001b[0m,  \u001b[1;36m116\u001b[0m\u001b[1m]\u001b[0m\u001b[1m]\u001b[0m,\n",
       "\n",
       "       \u001b[1m[\u001b[0m\u001b[1m[\u001b[0m\u001b[1;36m5633\u001b[0m,   \u001b[1;36m13\u001b[0m\u001b[1m]\u001b[0m,\n",
       "        \u001b[1m[\u001b[0m  \u001b[1;36m96\u001b[0m,   \u001b[1;36m18\u001b[0m\u001b[1m]\u001b[0m\u001b[1m]\u001b[0m,\n",
       "\n",
       "       \u001b[1m[\u001b[0m\u001b[1m[\u001b[0m\u001b[1;36m5752\u001b[0m,    \u001b[1;36m0\u001b[0m\u001b[1m]\u001b[0m,\n",
       "        \u001b[1m[\u001b[0m   \u001b[1;36m8\u001b[0m,    \u001b[1;36m0\u001b[0m\u001b[1m]\u001b[0m\u001b[1m]\u001b[0m,\n",
       "\n",
       "       \u001b[1m[\u001b[0m\u001b[1m[\u001b[0m\u001b[1;36m5728\u001b[0m,    \u001b[1;36m0\u001b[0m\u001b[1m]\u001b[0m,\n",
       "        \u001b[1m[\u001b[0m  \u001b[1;36m32\u001b[0m,    \u001b[1;36m0\u001b[0m\u001b[1m]\u001b[0m\u001b[1m]\u001b[0m,\n",
       "\n",
       "       \u001b[1m[\u001b[0m\u001b[1m[\u001b[0m\u001b[1;36m5533\u001b[0m,    \u001b[1;36m1\u001b[0m\u001b[1m]\u001b[0m,\n",
       "        \u001b[1m[\u001b[0m \u001b[1;36m215\u001b[0m,   \u001b[1;36m11\u001b[0m\u001b[1m]\u001b[0m\u001b[1m]\u001b[0m,\n",
       "\n",
       "       \u001b[1m[\u001b[0m\u001b[1m[\u001b[0m\u001b[1;36m5545\u001b[0m,    \u001b[1;36m2\u001b[0m\u001b[1m]\u001b[0m,\n",
       "        \u001b[1m[\u001b[0m \u001b[1;36m190\u001b[0m,   \u001b[1;36m23\u001b[0m\u001b[1m]\u001b[0m\u001b[1m]\u001b[0m,\n",
       "\n",
       "       \u001b[1m[\u001b[0m\u001b[1m[\u001b[0m\u001b[1;36m5677\u001b[0m,    \u001b[1;36m8\u001b[0m\u001b[1m]\u001b[0m,\n",
       "        \u001b[1m[\u001b[0m  \u001b[1;36m23\u001b[0m,   \u001b[1;36m52\u001b[0m\u001b[1m]\u001b[0m\u001b[1m]\u001b[0m,\n",
       "\n",
       "       \u001b[1m[\u001b[0m\u001b[1m[\u001b[0m\u001b[1;36m5649\u001b[0m,   \u001b[1;36m12\u001b[0m\u001b[1m]\u001b[0m,\n",
       "        \u001b[1m[\u001b[0m  \u001b[1;36m43\u001b[0m,   \u001b[1;36m56\u001b[0m\u001b[1m]\u001b[0m\u001b[1m]\u001b[0m,\n",
       "\n",
       "       \u001b[1m[\u001b[0m\u001b[1m[\u001b[0m\u001b[1;36m5680\u001b[0m,   \u001b[1;36m10\u001b[0m\u001b[1m]\u001b[0m,\n",
       "        \u001b[1m[\u001b[0m  \u001b[1;36m26\u001b[0m,   \u001b[1;36m44\u001b[0m\u001b[1m]\u001b[0m\u001b[1m]\u001b[0m,\n",
       "\n",
       "       \u001b[1m[\u001b[0m\u001b[1m[\u001b[0m\u001b[1;36m5610\u001b[0m,    \u001b[1;36m0\u001b[0m\u001b[1m]\u001b[0m,\n",
       "        \u001b[1m[\u001b[0m \u001b[1;36m138\u001b[0m,   \u001b[1;36m12\u001b[0m\u001b[1m]\u001b[0m\u001b[1m]\u001b[0m,\n",
       "\n",
       "       \u001b[1m[\u001b[0m\u001b[1m[\u001b[0m\u001b[1;36m5730\u001b[0m,    \u001b[1;36m5\u001b[0m\u001b[1m]\u001b[0m,\n",
       "        \u001b[1m[\u001b[0m   \u001b[1;36m7\u001b[0m,   \u001b[1;36m18\u001b[0m\u001b[1m]\u001b[0m\u001b[1m]\u001b[0m,\n",
       "\n",
       "       \u001b[1m[\u001b[0m\u001b[1m[\u001b[0m\u001b[1;36m3634\u001b[0m,  \u001b[1;36m105\u001b[0m\u001b[1m]\u001b[0m,\n",
       "        \u001b[1m[\u001b[0m \u001b[1;36m107\u001b[0m, \u001b[1;36m1914\u001b[0m\u001b[1m]\u001b[0m\u001b[1m]\u001b[0m,\n",
       "\n",
       "       \u001b[1m[\u001b[0m\u001b[1m[\u001b[0m\u001b[1;36m5456\u001b[0m,   \u001b[1;36m22\u001b[0m\u001b[1m]\u001b[0m,\n",
       "        \u001b[1m[\u001b[0m \u001b[1;36m234\u001b[0m,   \u001b[1;36m48\u001b[0m\u001b[1m]\u001b[0m\u001b[1m]\u001b[0m,\n",
       "\n",
       "       \u001b[1m[\u001b[0m\u001b[1m[\u001b[0m\u001b[1;36m5385\u001b[0m,   \u001b[1;36m22\u001b[0m\u001b[1m]\u001b[0m,\n",
       "        \u001b[1m[\u001b[0m \u001b[1;36m242\u001b[0m,  \u001b[1;36m111\u001b[0m\u001b[1m]\u001b[0m\u001b[1m]\u001b[0m,\n",
       "\n",
       "       \u001b[1m[\u001b[0m\u001b[1m[\u001b[0m\u001b[1;36m5511\u001b[0m,   \u001b[1;36m11\u001b[0m\u001b[1m]\u001b[0m,\n",
       "        \u001b[1m[\u001b[0m  \u001b[1;36m49\u001b[0m,  \u001b[1;36m189\u001b[0m\u001b[1m]\u001b[0m\u001b[1m]\u001b[0m,\n",
       "\n",
       "       \u001b[1m[\u001b[0m\u001b[1m[\u001b[0m\u001b[1;36m4768\u001b[0m,  \u001b[1;36m230\u001b[0m\u001b[1m]\u001b[0m,\n",
       "        \u001b[1m[\u001b[0m \u001b[1;36m252\u001b[0m,  \u001b[1;36m510\u001b[0m\u001b[1m]\u001b[0m\u001b[1m]\u001b[0m,\n",
       "\n",
       "       \u001b[1m[\u001b[0m\u001b[1m[\u001b[0m\u001b[1;36m5669\u001b[0m,   \u001b[1;36m23\u001b[0m\u001b[1m]\u001b[0m,\n",
       "        \u001b[1m[\u001b[0m  \u001b[1;36m48\u001b[0m,   \u001b[1;36m20\u001b[0m\u001b[1m]\u001b[0m\u001b[1m]\u001b[0m,\n",
       "\n",
       "       \u001b[1m[\u001b[0m\u001b[1m[\u001b[0m\u001b[1;36m4431\u001b[0m,  \u001b[1;36m332\u001b[0m\u001b[1m]\u001b[0m,\n",
       "        \u001b[1m[\u001b[0m \u001b[1;36m195\u001b[0m,  \u001b[1;36m802\u001b[0m\u001b[1m]\u001b[0m\u001b[1m]\u001b[0m\u001b[1m]\u001b[0m\u001b[1m)\u001b[0m"
      ]
     },
     "execution_count": 20,
     "metadata": {},
     "output_type": "execute_result"
    }
   ],
   "source": [
    "multilabel_confusion_matrix(y_test, y_pred)"
   ]
  },
  {
   "cell_type": "code",
   "execution_count": 21,
   "id": "cdb39036",
   "metadata": {},
   "outputs": [
    {
     "data": {
      "text/html": [
       "<pre style=\"white-space:pre;overflow-x:auto;line-height:normal;font-family:Menlo,'DejaVu Sans Mono',consolas,'Courier New',monospace\"><span style=\"color: #7fbfbf; text-decoration-color: #7fbfbf\">[04/01/24 14:28:18] </span><span style=\"color: #800000; text-decoration-color: #800000\">WARNING </span> <span style=\"color: #800080; text-decoration-color: #800080\">/home/sossa/miniconda3/envs/raftel/lib/python3.8/site-packages/sklearn</span> <a href=\"file:///home/sossa/miniconda3/envs/raftel/lib/python3.8/warnings.py\" target=\"_blank\"><span style=\"color: #7f7f7f; text-decoration-color: #7f7f7f\">warnings.py</span></a><span style=\"color: #7f7f7f; text-decoration-color: #7f7f7f\">:</span><a href=\"file:///home/sossa/miniconda3/envs/raftel/lib/python3.8/warnings.py#109\" target=\"_blank\"><span style=\"color: #7f7f7f; text-decoration-color: #7f7f7f\">109</span></a>\n",
       "<span style=\"color: #7fbfbf; text-decoration-color: #7fbfbf\">                    </span>         <span style=\"color: #800080; text-decoration-color: #800080\">/metrics/</span><span style=\"color: #ff00ff; text-decoration-color: #ff00ff\">_classification.py</span>:<span style=\"color: #008080; text-decoration-color: #008080; font-weight: bold\">1471</span>: UndefinedMetricWarning: Precision    <span style=\"color: #7f7f7f; text-decoration-color: #7f7f7f\">               </span>\n",
       "<span style=\"color: #7fbfbf; text-decoration-color: #7fbfbf\">                    </span>         and F-score are ill-defined and being set to <span style=\"color: #008080; text-decoration-color: #008080; font-weight: bold\">0.0</span> in labels with no     <span style=\"color: #7f7f7f; text-decoration-color: #7f7f7f\">               </span>\n",
       "<span style=\"color: #7fbfbf; text-decoration-color: #7fbfbf\">                    </span>         predicted samples. Use `zero_division` parameter to control this       <span style=\"color: #7f7f7f; text-decoration-color: #7f7f7f\">               </span>\n",
       "<span style=\"color: #7fbfbf; text-decoration-color: #7fbfbf\">                    </span>         behavior.                                                              <span style=\"color: #7f7f7f; text-decoration-color: #7f7f7f\">               </span>\n",
       "<span style=\"color: #7fbfbf; text-decoration-color: #7fbfbf\">                    </span>           <span style=\"color: #800080; text-decoration-color: #800080; font-weight: bold\">_warn_prf</span><span style=\"font-weight: bold\">(</span>average, modifier, msg_start, <span style=\"color: #800080; text-decoration-color: #800080; font-weight: bold\">len</span><span style=\"font-weight: bold\">(</span>result<span style=\"font-weight: bold\">))</span>                 <span style=\"color: #7f7f7f; text-decoration-color: #7f7f7f\">               </span>\n",
       "<span style=\"color: #7fbfbf; text-decoration-color: #7fbfbf\">                    </span>                                                                                <span style=\"color: #7f7f7f; text-decoration-color: #7f7f7f\">               </span>\n",
       "</pre>\n"
      ],
      "text/plain": [
       "\u001b[2;36m[04/01/24 14:28:18]\u001b[0m\u001b[2;36m \u001b[0m\u001b[31mWARNING \u001b[0m \u001b[35m/home/sossa/miniconda3/envs/raftel/lib/python3.8/site-packages/sklearn\u001b[0m \u001b]8;id=171658;file:///home/sossa/miniconda3/envs/raftel/lib/python3.8/warnings.py\u001b\\\u001b[2mwarnings.py\u001b[0m\u001b]8;;\u001b\\\u001b[2m:\u001b[0m\u001b]8;id=432482;file:///home/sossa/miniconda3/envs/raftel/lib/python3.8/warnings.py#109\u001b\\\u001b[2m109\u001b[0m\u001b]8;;\u001b\\\n",
       "\u001b[2;36m                    \u001b[0m         \u001b[35m/metrics/\u001b[0m\u001b[95m_classification.py\u001b[0m:\u001b[1;36m1471\u001b[0m: UndefinedMetricWarning: Precision    \u001b[2m               \u001b[0m\n",
       "\u001b[2;36m                    \u001b[0m         and F-score are ill-defined and being set to \u001b[1;36m0.0\u001b[0m in labels with no     \u001b[2m               \u001b[0m\n",
       "\u001b[2;36m                    \u001b[0m         predicted samples. Use `zero_division` parameter to control this       \u001b[2m               \u001b[0m\n",
       "\u001b[2;36m                    \u001b[0m         behavior.                                                              \u001b[2m               \u001b[0m\n",
       "\u001b[2;36m                    \u001b[0m           \u001b[1;35m_warn_prf\u001b[0m\u001b[1m(\u001b[0maverage, modifier, msg_start, \u001b[1;35mlen\u001b[0m\u001b[1m(\u001b[0mresult\u001b[1m)\u001b[0m\u001b[1m)\u001b[0m                 \u001b[2m               \u001b[0m\n",
       "\u001b[2;36m                    \u001b[0m                                                                                \u001b[2m               \u001b[0m\n"
      ]
     },
     "metadata": {},
     "output_type": "display_data"
    },
    {
     "data": {
      "text/html": [
       "<pre style=\"white-space:pre;overflow-x:auto;line-height:normal;font-family:Menlo,'DejaVu Sans Mono',consolas,'Courier New',monospace\"><span style=\"color: #7fbfbf; text-decoration-color: #7fbfbf\">                    </span><span style=\"color: #800000; text-decoration-color: #800000\">WARNING </span> <span style=\"color: #800080; text-decoration-color: #800080\">/home/sossa/miniconda3/envs/raftel/lib/python3.8/site-packages/sklearn</span> <a href=\"file:///home/sossa/miniconda3/envs/raftel/lib/python3.8/warnings.py\" target=\"_blank\"><span style=\"color: #7f7f7f; text-decoration-color: #7f7f7f\">warnings.py</span></a><span style=\"color: #7f7f7f; text-decoration-color: #7f7f7f\">:</span><a href=\"file:///home/sossa/miniconda3/envs/raftel/lib/python3.8/warnings.py#109\" target=\"_blank\"><span style=\"color: #7f7f7f; text-decoration-color: #7f7f7f\">109</span></a>\n",
       "<span style=\"color: #7fbfbf; text-decoration-color: #7fbfbf\">                    </span>         <span style=\"color: #800080; text-decoration-color: #800080\">/metrics/</span><span style=\"color: #ff00ff; text-decoration-color: #ff00ff\">_classification.py</span>:<span style=\"color: #008080; text-decoration-color: #008080; font-weight: bold\">1471</span>: UndefinedMetricWarning: Precision    <span style=\"color: #7f7f7f; text-decoration-color: #7f7f7f\">               </span>\n",
       "<span style=\"color: #7fbfbf; text-decoration-color: #7fbfbf\">                    </span>         and F-score are ill-defined and being set to <span style=\"color: #008080; text-decoration-color: #008080; font-weight: bold\">0.0</span> in samples with no    <span style=\"color: #7f7f7f; text-decoration-color: #7f7f7f\">               </span>\n",
       "<span style=\"color: #7fbfbf; text-decoration-color: #7fbfbf\">                    </span>         predicted labels. Use `zero_division` parameter to control this        <span style=\"color: #7f7f7f; text-decoration-color: #7f7f7f\">               </span>\n",
       "<span style=\"color: #7fbfbf; text-decoration-color: #7fbfbf\">                    </span>         behavior.                                                              <span style=\"color: #7f7f7f; text-decoration-color: #7f7f7f\">               </span>\n",
       "<span style=\"color: #7fbfbf; text-decoration-color: #7fbfbf\">                    </span>           <span style=\"color: #800080; text-decoration-color: #800080; font-weight: bold\">_warn_prf</span><span style=\"font-weight: bold\">(</span>average, modifier, msg_start, <span style=\"color: #800080; text-decoration-color: #800080; font-weight: bold\">len</span><span style=\"font-weight: bold\">(</span>result<span style=\"font-weight: bold\">))</span>                 <span style=\"color: #7f7f7f; text-decoration-color: #7f7f7f\">               </span>\n",
       "<span style=\"color: #7fbfbf; text-decoration-color: #7fbfbf\">                    </span>                                                                                <span style=\"color: #7f7f7f; text-decoration-color: #7f7f7f\">               </span>\n",
       "</pre>\n"
      ],
      "text/plain": [
       "\u001b[2;36m                   \u001b[0m\u001b[2;36m \u001b[0m\u001b[31mWARNING \u001b[0m \u001b[35m/home/sossa/miniconda3/envs/raftel/lib/python3.8/site-packages/sklearn\u001b[0m \u001b]8;id=306306;file:///home/sossa/miniconda3/envs/raftel/lib/python3.8/warnings.py\u001b\\\u001b[2mwarnings.py\u001b[0m\u001b]8;;\u001b\\\u001b[2m:\u001b[0m\u001b]8;id=870942;file:///home/sossa/miniconda3/envs/raftel/lib/python3.8/warnings.py#109\u001b\\\u001b[2m109\u001b[0m\u001b]8;;\u001b\\\n",
       "\u001b[2;36m                    \u001b[0m         \u001b[35m/metrics/\u001b[0m\u001b[95m_classification.py\u001b[0m:\u001b[1;36m1471\u001b[0m: UndefinedMetricWarning: Precision    \u001b[2m               \u001b[0m\n",
       "\u001b[2;36m                    \u001b[0m         and F-score are ill-defined and being set to \u001b[1;36m0.0\u001b[0m in samples with no    \u001b[2m               \u001b[0m\n",
       "\u001b[2;36m                    \u001b[0m         predicted labels. Use `zero_division` parameter to control this        \u001b[2m               \u001b[0m\n",
       "\u001b[2;36m                    \u001b[0m         behavior.                                                              \u001b[2m               \u001b[0m\n",
       "\u001b[2;36m                    \u001b[0m           \u001b[1;35m_warn_prf\u001b[0m\u001b[1m(\u001b[0maverage, modifier, msg_start, \u001b[1;35mlen\u001b[0m\u001b[1m(\u001b[0mresult\u001b[1m)\u001b[0m\u001b[1m)\u001b[0m                 \u001b[2m               \u001b[0m\n",
       "\u001b[2;36m                    \u001b[0m                                                                                \u001b[2m               \u001b[0m\n"
      ]
     },
     "metadata": {},
     "output_type": "display_data"
    },
    {
     "name": "stdout",
     "output_type": "stream",
     "text": [
      "                      precision    recall  f1-score   support\n",
      "\n",
      "      Brushing_Teeth       1.00      0.02      0.03        57\n",
      "    Changing_Clothes       0.67      0.12      0.20        84\n",
      "            Cleaning       0.00      0.00      0.00         9\n",
      "           Going_Out       0.86      0.98      0.92      3105\n",
      "    Having_Breakfast       0.70      0.68      0.69       115\n",
      " Having_Conversation       1.00      0.29      0.45        34\n",
      "       Having_Dinner       0.95      0.28      0.43        69\n",
      "        Having_Guest       0.00      0.00      0.00        16\n",
      "        Having_Lunch       0.89      0.13      0.23        61\n",
      "       Having_Shower       0.95      0.85      0.90       136\n",
      "        Having_Snack       0.58      0.16      0.25       114\n",
      "             Laundry       0.00      0.00      0.00         8\n",
      "  Listening_to_Music       0.00      0.00      0.00        32\n",
      "             Napping       0.92      0.05      0.09       226\n",
      "               Other       0.92      0.11      0.19       213\n",
      " Preparing_Breakfast       0.87      0.69      0.77        75\n",
      "    Preparing_Dinner       0.82      0.57      0.67        99\n",
      "     Preparing_Lunch       0.81      0.63      0.71        70\n",
      "        Reading_Book       1.00      0.08      0.15       150\n",
      "             Shaving       0.78      0.72      0.75        25\n",
      "            Sleeping       0.95      0.95      0.95      2021\n",
      "            Studying       0.69      0.17      0.27       282\n",
      "Talking_on_the_Phone       0.83      0.31      0.46       353\n",
      "           Toileting       0.94      0.79      0.86       238\n",
      "      Using_Internet       0.69      0.67      0.68       762\n",
      "      Washing_Dishes       0.47      0.29      0.36        68\n",
      "         Watching_TV       0.71      0.80      0.75       997\n",
      "\n",
      "           micro avg       0.84      0.76      0.80      9419\n",
      "           macro avg       0.70      0.38      0.44      9419\n",
      "        weighted avg       0.84      0.76      0.75      9419\n",
      "         samples avg       0.85      0.79      0.80      9419\n",
      "\n"
     ]
    }
   ],
   "source": [
    "print(classification_report(\n",
    "    y_test,\n",
    "    y_pred,\n",
    "    output_dict=False,\n",
    "    target_names=[\n",
    "        'Brushing_Teeth',\n",
    "        'Changing_Clothes',\n",
    "        'Cleaning',\n",
    "        'Going_Out',\n",
    "        'Having_Breakfast',\n",
    "        'Having_Conversation',\n",
    "        'Having_Dinner',\n",
    "        'Having_Guest',\n",
    "        'Having_Lunch',\n",
    "        'Having_Shower',\n",
    "        'Having_Snack',\n",
    "        'Laundry',\n",
    "        'Listening_to_Music',\n",
    "        'Napping',\n",
    "        'Other',\n",
    "        'Preparing_Breakfast',\n",
    "        'Preparing_Dinner',\n",
    "        'Preparing_Lunch',\n",
    "        'Reading_Book',\n",
    "        'Shaving',\n",
    "        'Sleeping',\n",
    "        'Studying',\n",
    "        'Talking_on_the_Phone',\n",
    "        'Toileting',\n",
    "        'Using_Internet',\n",
    "        'Washing_Dishes',\n",
    "        'Watching_TV'\n",
    "    ]\n",
    "))"
   ]
  },
  {
   "cell_type": "code",
   "execution_count": null,
   "id": "b2fe7373",
   "metadata": {},
   "outputs": [],
   "source": []
  }
 ],
 "metadata": {
  "kernelspec": {
   "display_name": "Python 3",
   "language": "python",
   "name": "python3"
  },
  "language_info": {
   "codemirror_mode": {
    "name": "ipython",
    "version": 3
   },
   "file_extension": ".py",
   "mimetype": "text/x-python",
   "name": "python",
   "nbconvert_exporter": "python",
   "pygments_lexer": "ipython3",
   "version": "3.8.18"
  }
 },
 "nbformat": 4,
 "nbformat_minor": 5
}
