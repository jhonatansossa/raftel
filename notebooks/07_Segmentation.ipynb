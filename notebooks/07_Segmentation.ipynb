{
 "cells": [
  {
   "cell_type": "code",
   "execution_count": 2,
   "id": "44902fa5-0456-45cf-bf22-54be77dc6f46",
   "metadata": {},
   "outputs": [
    {
     "data": {
      "text/html": [
       "<pre style=\"white-space:pre;overflow-x:auto;line-height:normal;font-family:Menlo,'DejaVu Sans Mono',consolas,'Courier New',monospace\"><span style=\"color: #7fbfbf; text-decoration-color: #7fbfbf\">[03/06/24 18:46:21] </span><span style=\"color: #800000; text-decoration-color: #800000\">WARNING </span> <span style=\"color: #800080; text-decoration-color: #800080\">/home/sossa/miniconda3/envs/raftel/lib/python3.8/site-packages/kedro/e</span> <a href=\"file:///home/sossa/miniconda3/envs/raftel/lib/python3.8/warnings.py\" target=\"_blank\"><span style=\"color: #7f7f7f; text-decoration-color: #7f7f7f\">warnings.py</span></a><span style=\"color: #7f7f7f; text-decoration-color: #7f7f7f\">:</span><a href=\"file:///home/sossa/miniconda3/envs/raftel/lib/python3.8/warnings.py#109\" target=\"_blank\"><span style=\"color: #7f7f7f; text-decoration-color: #7f7f7f\">109</span></a>\n",
       "<span style=\"color: #7fbfbf; text-decoration-color: #7fbfbf\">                    </span>         <span style=\"color: #800080; text-decoration-color: #800080\">xtras/extensions/</span><span style=\"color: #ff00ff; text-decoration-color: #ff00ff\">ipython.py</span>:<span style=\"color: #008080; text-decoration-color: #008080; font-weight: bold\">18</span>: DeprecationWarning:                    <span style=\"color: #7f7f7f; text-decoration-color: #7f7f7f\">               </span>\n",
       "<span style=\"color: #7fbfbf; text-decoration-color: #7fbfbf\">                    </span>         kedro.extras.extensions.ipython should be accessed only using the      <span style=\"color: #7f7f7f; text-decoration-color: #7f7f7f\">               </span>\n",
       "<span style=\"color: #7fbfbf; text-decoration-color: #7fbfbf\">                    </span>         alias kedro.ipython. The unaliased name will be removed in Kedro       <span style=\"color: #7f7f7f; text-decoration-color: #7f7f7f\">               </span>\n",
       "<span style=\"color: #7fbfbf; text-decoration-color: #7fbfbf\">                    </span>         <span style=\"color: #008080; text-decoration-color: #008080; font-weight: bold\">0.19</span>.<span style=\"color: #008080; text-decoration-color: #008080; font-weight: bold\">0</span>.                                                                <span style=\"color: #7f7f7f; text-decoration-color: #7f7f7f\">               </span>\n",
       "<span style=\"color: #7fbfbf; text-decoration-color: #7fbfbf\">                    </span>           <span style=\"color: #800080; text-decoration-color: #800080; font-weight: bold\">warnings.warn</span><span style=\"font-weight: bold\">(</span>                                                       <span style=\"color: #7f7f7f; text-decoration-color: #7f7f7f\">               </span>\n",
       "<span style=\"color: #7fbfbf; text-decoration-color: #7fbfbf\">                    </span>                                                                                <span style=\"color: #7f7f7f; text-decoration-color: #7f7f7f\">               </span>\n",
       "</pre>\n"
      ],
      "text/plain": [
       "\u001b[2;36m[03/06/24 18:46:21]\u001b[0m\u001b[2;36m \u001b[0m\u001b[31mWARNING \u001b[0m \u001b[35m/home/sossa/miniconda3/envs/raftel/lib/python3.8/site-packages/kedro/e\u001b[0m \u001b]8;id=900202;file:///home/sossa/miniconda3/envs/raftel/lib/python3.8/warnings.py\u001b\\\u001b[2mwarnings.py\u001b[0m\u001b]8;;\u001b\\\u001b[2m:\u001b[0m\u001b]8;id=181042;file:///home/sossa/miniconda3/envs/raftel/lib/python3.8/warnings.py#109\u001b\\\u001b[2m109\u001b[0m\u001b]8;;\u001b\\\n",
       "\u001b[2;36m                    \u001b[0m         \u001b[35mxtras/extensions/\u001b[0m\u001b[95mipython.py\u001b[0m:\u001b[1;36m18\u001b[0m: DeprecationWarning:                    \u001b[2m               \u001b[0m\n",
       "\u001b[2;36m                    \u001b[0m         kedro.extras.extensions.ipython should be accessed only using the      \u001b[2m               \u001b[0m\n",
       "\u001b[2;36m                    \u001b[0m         alias kedro.ipython. The unaliased name will be removed in Kedro       \u001b[2m               \u001b[0m\n",
       "\u001b[2;36m                    \u001b[0m         \u001b[1;36m0.19\u001b[0m.\u001b[1;36m0\u001b[0m.                                                                \u001b[2m               \u001b[0m\n",
       "\u001b[2;36m                    \u001b[0m           \u001b[1;35mwarnings.warn\u001b[0m\u001b[1m(\u001b[0m                                                       \u001b[2m               \u001b[0m\n",
       "\u001b[2;36m                    \u001b[0m                                                                                \u001b[2m               \u001b[0m\n"
      ]
     },
     "metadata": {},
     "output_type": "display_data"
    },
    {
     "data": {
      "text/html": [
       "<pre style=\"white-space:pre;overflow-x:auto;line-height:normal;font-family:Menlo,'DejaVu Sans Mono',consolas,'Courier New',monospace\"><span style=\"color: #7fbfbf; text-decoration-color: #7fbfbf\">                    </span><span style=\"color: #000080; text-decoration-color: #000080\">INFO    </span> Resolved project path as: <span style=\"color: #800080; text-decoration-color: #800080\">/home/sossa/</span><span style=\"color: #ff00ff; text-decoration-color: #ff00ff\">raftel.</span>                          <a href=\"file:///home/sossa/miniconda3/envs/raftel/lib/python3.8/site-packages/kedro/ipython/__init__.py\" target=\"_blank\"><span style=\"color: #7f7f7f; text-decoration-color: #7f7f7f\">__init__.py</span></a><span style=\"color: #7f7f7f; text-decoration-color: #7f7f7f\">:</span><a href=\"file:///home/sossa/miniconda3/envs/raftel/lib/python3.8/site-packages/kedro/ipython/__init__.py#134\" target=\"_blank\"><span style=\"color: #7f7f7f; text-decoration-color: #7f7f7f\">134</span></a>\n",
       "<span style=\"color: #7fbfbf; text-decoration-color: #7fbfbf\">                    </span>         To set a different path, run <span style=\"color: #008000; text-decoration-color: #008000\">'%reload_kedro &lt;project_root&gt;'</span>            <span style=\"color: #7f7f7f; text-decoration-color: #7f7f7f\">               </span>\n",
       "</pre>\n"
      ],
      "text/plain": [
       "\u001b[2;36m                   \u001b[0m\u001b[2;36m \u001b[0m\u001b[34mINFO    \u001b[0m Resolved project path as: \u001b[35m/home/sossa/\u001b[0m\u001b[95mraftel.\u001b[0m                          \u001b]8;id=22503;file:///home/sossa/miniconda3/envs/raftel/lib/python3.8/site-packages/kedro/ipython/__init__.py\u001b\\\u001b[2m__init__.py\u001b[0m\u001b]8;;\u001b\\\u001b[2m:\u001b[0m\u001b]8;id=128673;file:///home/sossa/miniconda3/envs/raftel/lib/python3.8/site-packages/kedro/ipython/__init__.py#134\u001b\\\u001b[2m134\u001b[0m\u001b]8;;\u001b\\\n",
       "\u001b[2;36m                    \u001b[0m         To set a different path, run \u001b[32m'%reload_kedro \u001b[0m\u001b[32m<\u001b[0m\u001b[32mproject_root\u001b[0m\u001b[32m>\u001b[0m\u001b[32m'\u001b[0m            \u001b[2m               \u001b[0m\n"
      ]
     },
     "metadata": {},
     "output_type": "display_data"
    },
    {
     "name": "stderr",
     "output_type": "stream",
     "text": [
      "your 131072x1 screen size is bogus. expect trouble\n",
      "24/03/06 18:46:23 WARN Utils: Your hostname, MSI resolves to a loopback address: 127.0.1.1; using 172.20.115.242 instead (on interface eth0)\n",
      "24/03/06 18:46:23 WARN Utils: Set SPARK_LOCAL_IP if you need to bind to another address\n"
     ]
    },
    {
     "name": "stdout",
     "output_type": "stream",
     "text": [
      ":: loading settings :: url = jar:file:/home/sossa/miniconda3/envs/raftel/lib/python3.8/site-packages/pyspark/jars/ivy-2.5.1.jar!/org/apache/ivy/core/settings/ivysettings.xml\n"
     ]
    },
    {
     "name": "stderr",
     "output_type": "stream",
     "text": [
      "Ivy Default Cache set to: /root/.ivy2/cache\n",
      "The jars for the packages stored in: /root/.ivy2/jars\n",
      "io.delta#delta-core_2.12 added as a dependency\n",
      "org.apache.hadoop#hadoop-aws added as a dependency\n",
      "software.aws.rds#aws-mysql-jdbc added as a dependency\n",
      ":: resolving dependencies :: org.apache.spark#spark-submit-parent-6472fd70-667a-4b5b-a683-f4e74f67034a;1.0\n",
      "\tconfs: [default]\n",
      "\tfound io.delta#delta-core_2.12;2.4.0 in central\n",
      "\tfound io.delta#delta-storage;2.4.0 in central\n",
      "\tfound org.antlr#antlr4-runtime;4.9.3 in central\n",
      "\tfound org.apache.hadoop#hadoop-aws;3.3.2 in central\n",
      "\tfound com.amazonaws#aws-java-sdk-bundle;1.11.1026 in central\n",
      "\tfound org.wildfly.openssl#wildfly-openssl;1.0.7.Final in central\n",
      "\tfound software.aws.rds#aws-mysql-jdbc;1.0.0 in central\n",
      ":: resolution report :: resolve 280ms :: artifacts dl 19ms\n",
      "\t:: modules in use:\n",
      "\tcom.amazonaws#aws-java-sdk-bundle;1.11.1026 from central in [default]\n",
      "\tio.delta#delta-core_2.12;2.4.0 from central in [default]\n",
      "\tio.delta#delta-storage;2.4.0 from central in [default]\n",
      "\torg.antlr#antlr4-runtime;4.9.3 from central in [default]\n",
      "\torg.apache.hadoop#hadoop-aws;3.3.2 from central in [default]\n",
      "\torg.wildfly.openssl#wildfly-openssl;1.0.7.Final from central in [default]\n",
      "\tsoftware.aws.rds#aws-mysql-jdbc;1.0.0 from central in [default]\n",
      "\t---------------------------------------------------------------------\n",
      "\t|                  |            modules            ||   artifacts   |\n",
      "\t|       conf       | number| search|dwnlded|evicted|| number|dwnlded|\n",
      "\t---------------------------------------------------------------------\n",
      "\t|      default     |   7   |   0   |   0   |   0   ||   7   |   0   |\n",
      "\t---------------------------------------------------------------------\n",
      ":: retrieving :: org.apache.spark#spark-submit-parent-6472fd70-667a-4b5b-a683-f4e74f67034a\n",
      "\tconfs: [default]\n",
      "\t0 artifacts copied, 7 already retrieved (0kB/7ms)\n",
      "24/03/06 18:46:25 WARN NativeCodeLoader: Unable to load native-hadoop library for your platform... using builtin-java classes where applicable\n",
      "Setting default log level to \"WARN\".\n",
      "To adjust logging level use sc.setLogLevel(newLevel). For SparkR, use setLogLevel(newLevel).\n"
     ]
    },
    {
     "name": "stdout",
     "output_type": "stream",
     "text": [
      "http://172.20.115.242:4051\n"
     ]
    },
    {
     "data": {
      "text/html": [
       "<pre style=\"white-space:pre;overflow-x:auto;line-height:normal;font-family:Menlo,'DejaVu Sans Mono',consolas,'Courier New',monospace\"><span style=\"color: #7fbfbf; text-decoration-color: #7fbfbf\">[03/06/24 18:46:29] </span><span style=\"color: #000080; text-decoration-color: #000080\">INFO    </span> Kedro project raftel                                                   <a href=\"file:///home/sossa/miniconda3/envs/raftel/lib/python3.8/site-packages/kedro/ipython/__init__.py\" target=\"_blank\"><span style=\"color: #7f7f7f; text-decoration-color: #7f7f7f\">__init__.py</span></a><span style=\"color: #7f7f7f; text-decoration-color: #7f7f7f\">:</span><a href=\"file:///home/sossa/miniconda3/envs/raftel/lib/python3.8/site-packages/kedro/ipython/__init__.py#103\" target=\"_blank\"><span style=\"color: #7f7f7f; text-decoration-color: #7f7f7f\">103</span></a>\n",
       "</pre>\n"
      ],
      "text/plain": [
       "\u001b[2;36m[03/06/24 18:46:29]\u001b[0m\u001b[2;36m \u001b[0m\u001b[34mINFO    \u001b[0m Kedro project raftel                                                   \u001b]8;id=889501;file:///home/sossa/miniconda3/envs/raftel/lib/python3.8/site-packages/kedro/ipython/__init__.py\u001b\\\u001b[2m__init__.py\u001b[0m\u001b]8;;\u001b\\\u001b[2m:\u001b[0m\u001b]8;id=240296;file:///home/sossa/miniconda3/envs/raftel/lib/python3.8/site-packages/kedro/ipython/__init__.py#103\u001b\\\u001b[2m103\u001b[0m\u001b]8;;\u001b\\\n"
      ]
     },
     "metadata": {},
     "output_type": "display_data"
    },
    {
     "data": {
      "text/html": [
       "<pre style=\"white-space:pre;overflow-x:auto;line-height:normal;font-family:Menlo,'DejaVu Sans Mono',consolas,'Courier New',monospace\"><span style=\"color: #7fbfbf; text-decoration-color: #7fbfbf\">                    </span><span style=\"color: #000080; text-decoration-color: #000080\">INFO    </span> Defined global variable <span style=\"color: #008000; text-decoration-color: #008000\">'context'</span>, <span style=\"color: #008000; text-decoration-color: #008000\">'session'</span>, <span style=\"color: #008000; text-decoration-color: #008000\">'catalog'</span> and            <a href=\"file:///home/sossa/miniconda3/envs/raftel/lib/python3.8/site-packages/kedro/ipython/__init__.py\" target=\"_blank\"><span style=\"color: #7f7f7f; text-decoration-color: #7f7f7f\">__init__.py</span></a><span style=\"color: #7f7f7f; text-decoration-color: #7f7f7f\">:</span><a href=\"file:///home/sossa/miniconda3/envs/raftel/lib/python3.8/site-packages/kedro/ipython/__init__.py#104\" target=\"_blank\"><span style=\"color: #7f7f7f; text-decoration-color: #7f7f7f\">104</span></a>\n",
       "<span style=\"color: #7fbfbf; text-decoration-color: #7fbfbf\">                    </span>         <span style=\"color: #008000; text-decoration-color: #008000\">'pipelines'</span>                                                            <span style=\"color: #7f7f7f; text-decoration-color: #7f7f7f\">               </span>\n",
       "</pre>\n"
      ],
      "text/plain": [
       "\u001b[2;36m                   \u001b[0m\u001b[2;36m \u001b[0m\u001b[34mINFO    \u001b[0m Defined global variable \u001b[32m'context'\u001b[0m, \u001b[32m'session'\u001b[0m, \u001b[32m'catalog'\u001b[0m and            \u001b]8;id=409327;file:///home/sossa/miniconda3/envs/raftel/lib/python3.8/site-packages/kedro/ipython/__init__.py\u001b\\\u001b[2m__init__.py\u001b[0m\u001b]8;;\u001b\\\u001b[2m:\u001b[0m\u001b]8;id=896516;file:///home/sossa/miniconda3/envs/raftel/lib/python3.8/site-packages/kedro/ipython/__init__.py#104\u001b\\\u001b[2m104\u001b[0m\u001b]8;;\u001b\\\n",
       "\u001b[2;36m                    \u001b[0m         \u001b[32m'pipelines'\u001b[0m                                                            \u001b[2m               \u001b[0m\n"
      ]
     },
     "metadata": {},
     "output_type": "display_data"
    },
    {
     "data": {
      "text/html": [
       "<pre style=\"white-space:pre;overflow-x:auto;line-height:normal;font-family:Menlo,'DejaVu Sans Mono',consolas,'Courier New',monospace\"><span style=\"color: #7fbfbf; text-decoration-color: #7fbfbf\">[03/06/24 18:46:31] </span><span style=\"color: #800000; text-decoration-color: #800000\">WARNING </span> <span style=\"color: #800080; text-decoration-color: #800080\">/home/sossa/miniconda3/envs/raftel/lib/python3.8/site-packages/kedro_v</span> <a href=\"file:///home/sossa/miniconda3/envs/raftel/lib/python3.8/warnings.py\" target=\"_blank\"><span style=\"color: #7f7f7f; text-decoration-color: #7f7f7f\">warnings.py</span></a><span style=\"color: #7f7f7f; text-decoration-color: #7f7f7f\">:</span><a href=\"file:///home/sossa/miniconda3/envs/raftel/lib/python3.8/warnings.py#109\" target=\"_blank\"><span style=\"color: #7f7f7f; text-decoration-color: #7f7f7f\">109</span></a>\n",
       "<span style=\"color: #7fbfbf; text-decoration-color: #7fbfbf\">                    </span>         <span style=\"color: #800080; text-decoration-color: #800080\">iz/api/graphql/</span><span style=\"color: #ff00ff; text-decoration-color: #ff00ff\">router.py</span>:<span style=\"color: #008080; text-decoration-color: #008080; font-weight: bold\">10</span>: DeprecationWarning: The `graphiql`        <span style=\"color: #7f7f7f; text-decoration-color: #7f7f7f\">               </span>\n",
       "<span style=\"color: #7fbfbf; text-decoration-color: #7fbfbf\">                    </span>         argument is deprecated in favor of `graphql_ide`                       <span style=\"color: #7f7f7f; text-decoration-color: #7f7f7f\">               </span>\n",
       "<span style=\"color: #7fbfbf; text-decoration-color: #7fbfbf\">                    </span>           graphql_app: GraphQL = <span style=\"color: #800080; text-decoration-color: #800080; font-weight: bold\">GraphQL</span><span style=\"font-weight: bold\">(</span>schema, <span style=\"color: #808000; text-decoration-color: #808000\">graphiql</span>=<span style=\"color: #ff0000; text-decoration-color: #ff0000; font-style: italic\">False</span><span style=\"font-weight: bold\">)</span>               <span style=\"color: #7f7f7f; text-decoration-color: #7f7f7f\">               </span>\n",
       "<span style=\"color: #7fbfbf; text-decoration-color: #7fbfbf\">                    </span>                                                                                <span style=\"color: #7f7f7f; text-decoration-color: #7f7f7f\">               </span>\n",
       "</pre>\n"
      ],
      "text/plain": [
       "\u001b[2;36m[03/06/24 18:46:31]\u001b[0m\u001b[2;36m \u001b[0m\u001b[31mWARNING \u001b[0m \u001b[35m/home/sossa/miniconda3/envs/raftel/lib/python3.8/site-packages/kedro_v\u001b[0m \u001b]8;id=398178;file:///home/sossa/miniconda3/envs/raftel/lib/python3.8/warnings.py\u001b\\\u001b[2mwarnings.py\u001b[0m\u001b]8;;\u001b\\\u001b[2m:\u001b[0m\u001b]8;id=780415;file:///home/sossa/miniconda3/envs/raftel/lib/python3.8/warnings.py#109\u001b\\\u001b[2m109\u001b[0m\u001b]8;;\u001b\\\n",
       "\u001b[2;36m                    \u001b[0m         \u001b[35miz/api/graphql/\u001b[0m\u001b[95mrouter.py\u001b[0m:\u001b[1;36m10\u001b[0m: DeprecationWarning: The `graphiql`        \u001b[2m               \u001b[0m\n",
       "\u001b[2;36m                    \u001b[0m         argument is deprecated in favor of `graphql_ide`                       \u001b[2m               \u001b[0m\n",
       "\u001b[2;36m                    \u001b[0m           graphql_app: GraphQL = \u001b[1;35mGraphQL\u001b[0m\u001b[1m(\u001b[0mschema, \u001b[33mgraphiql\u001b[0m=\u001b[3;91mFalse\u001b[0m\u001b[1m)\u001b[0m               \u001b[2m               \u001b[0m\n",
       "\u001b[2;36m                    \u001b[0m                                                                                \u001b[2m               \u001b[0m\n"
      ]
     },
     "metadata": {},
     "output_type": "display_data"
    },
    {
     "data": {
      "text/html": [
       "<pre style=\"white-space:pre;overflow-x:auto;line-height:normal;font-family:Menlo,'DejaVu Sans Mono',consolas,'Courier New',monospace\"><span style=\"color: #7fbfbf; text-decoration-color: #7fbfbf\">[03/06/24 18:46:32] </span><span style=\"color: #000080; text-decoration-color: #000080\">INFO    </span> Registered line magic <span style=\"color: #008000; text-decoration-color: #008000\">'run_viz'</span>                                        <a href=\"file:///home/sossa/miniconda3/envs/raftel/lib/python3.8/site-packages/kedro/ipython/__init__.py\" target=\"_blank\"><span style=\"color: #7f7f7f; text-decoration-color: #7f7f7f\">__init__.py</span></a><span style=\"color: #7f7f7f; text-decoration-color: #7f7f7f\">:</span><a href=\"file:///home/sossa/miniconda3/envs/raftel/lib/python3.8/site-packages/kedro/ipython/__init__.py#110\" target=\"_blank\"><span style=\"color: #7f7f7f; text-decoration-color: #7f7f7f\">110</span></a>\n",
       "</pre>\n"
      ],
      "text/plain": [
       "\u001b[2;36m[03/06/24 18:46:32]\u001b[0m\u001b[2;36m \u001b[0m\u001b[34mINFO    \u001b[0m Registered line magic \u001b[32m'run_viz'\u001b[0m                                        \u001b]8;id=279695;file:///home/sossa/miniconda3/envs/raftel/lib/python3.8/site-packages/kedro/ipython/__init__.py\u001b\\\u001b[2m__init__.py\u001b[0m\u001b]8;;\u001b\\\u001b[2m:\u001b[0m\u001b]8;id=860382;file:///home/sossa/miniconda3/envs/raftel/lib/python3.8/site-packages/kedro/ipython/__init__.py#110\u001b\\\u001b[2m110\u001b[0m\u001b]8;;\u001b\\\n"
      ]
     },
     "metadata": {},
     "output_type": "display_data"
    }
   ],
   "source": [
    "%load_ext kedro.extras.extensions.ipython"
   ]
  },
  {
   "cell_type": "code",
   "execution_count": 3,
   "id": "4d207709-6a02-4ffc-b886-c73e6449a636",
   "metadata": {},
   "outputs": [
    {
     "data": {
      "text/html": [
       "<pre style=\"white-space:pre;overflow-x:auto;line-height:normal;font-family:Menlo,'DejaVu Sans Mono',consolas,'Courier New',monospace\"><span style=\"color: #7fbfbf; text-decoration-color: #7fbfbf\">                    </span><span style=\"color: #000080; text-decoration-color: #000080\">INFO    </span> Resolved project path as: <span style=\"color: #800080; text-decoration-color: #800080\">/home/sossa/</span><span style=\"color: #ff00ff; text-decoration-color: #ff00ff\">raftel.</span>                          <a href=\"file:///home/sossa/miniconda3/envs/raftel/lib/python3.8/site-packages/kedro/ipython/__init__.py\" target=\"_blank\"><span style=\"color: #7f7f7f; text-decoration-color: #7f7f7f\">__init__.py</span></a><span style=\"color: #7f7f7f; text-decoration-color: #7f7f7f\">:</span><a href=\"file:///home/sossa/miniconda3/envs/raftel/lib/python3.8/site-packages/kedro/ipython/__init__.py#134\" target=\"_blank\"><span style=\"color: #7f7f7f; text-decoration-color: #7f7f7f\">134</span></a>\n",
       "<span style=\"color: #7fbfbf; text-decoration-color: #7fbfbf\">                    </span>         To set a different path, run <span style=\"color: #008000; text-decoration-color: #008000\">'%reload_kedro &lt;project_root&gt;'</span>            <span style=\"color: #7f7f7f; text-decoration-color: #7f7f7f\">               </span>\n",
       "</pre>\n"
      ],
      "text/plain": [
       "\u001b[2;36m                   \u001b[0m\u001b[2;36m \u001b[0m\u001b[34mINFO    \u001b[0m Resolved project path as: \u001b[35m/home/sossa/\u001b[0m\u001b[95mraftel.\u001b[0m                          \u001b]8;id=201840;file:///home/sossa/miniconda3/envs/raftel/lib/python3.8/site-packages/kedro/ipython/__init__.py\u001b\\\u001b[2m__init__.py\u001b[0m\u001b]8;;\u001b\\\u001b[2m:\u001b[0m\u001b]8;id=829600;file:///home/sossa/miniconda3/envs/raftel/lib/python3.8/site-packages/kedro/ipython/__init__.py#134\u001b\\\u001b[2m134\u001b[0m\u001b]8;;\u001b\\\n",
       "\u001b[2;36m                    \u001b[0m         To set a different path, run \u001b[32m'%reload_kedro \u001b[0m\u001b[32m<\u001b[0m\u001b[32mproject_root\u001b[0m\u001b[32m>\u001b[0m\u001b[32m'\u001b[0m            \u001b[2m               \u001b[0m\n"
      ]
     },
     "metadata": {},
     "output_type": "display_data"
    },
    {
     "data": {
      "text/html": [
       "<pre style=\"white-space:pre;overflow-x:auto;line-height:normal;font-family:Menlo,'DejaVu Sans Mono',consolas,'Courier New',monospace\"><span style=\"color: #7fbfbf; text-decoration-color: #7fbfbf\">[03/06/24 18:46:32] </span><span style=\"color: #000080; text-decoration-color: #000080\">INFO    </span> Kedro project raftel                                                   <a href=\"file:///home/sossa/miniconda3/envs/raftel/lib/python3.8/site-packages/kedro/ipython/__init__.py\" target=\"_blank\"><span style=\"color: #7f7f7f; text-decoration-color: #7f7f7f\">__init__.py</span></a><span style=\"color: #7f7f7f; text-decoration-color: #7f7f7f\">:</span><a href=\"file:///home/sossa/miniconda3/envs/raftel/lib/python3.8/site-packages/kedro/ipython/__init__.py#103\" target=\"_blank\"><span style=\"color: #7f7f7f; text-decoration-color: #7f7f7f\">103</span></a>\n",
       "</pre>\n"
      ],
      "text/plain": [
       "\u001b[2;36m[03/06/24 18:46:32]\u001b[0m\u001b[2;36m \u001b[0m\u001b[34mINFO    \u001b[0m Kedro project raftel                                                   \u001b]8;id=33428;file:///home/sossa/miniconda3/envs/raftel/lib/python3.8/site-packages/kedro/ipython/__init__.py\u001b\\\u001b[2m__init__.py\u001b[0m\u001b]8;;\u001b\\\u001b[2m:\u001b[0m\u001b]8;id=796267;file:///home/sossa/miniconda3/envs/raftel/lib/python3.8/site-packages/kedro/ipython/__init__.py#103\u001b\\\u001b[2m103\u001b[0m\u001b]8;;\u001b\\\n"
      ]
     },
     "metadata": {},
     "output_type": "display_data"
    },
    {
     "data": {
      "text/html": [
       "<pre style=\"white-space:pre;overflow-x:auto;line-height:normal;font-family:Menlo,'DejaVu Sans Mono',consolas,'Courier New',monospace\"><span style=\"color: #7fbfbf; text-decoration-color: #7fbfbf\">                    </span><span style=\"color: #000080; text-decoration-color: #000080\">INFO    </span> Defined global variable <span style=\"color: #008000; text-decoration-color: #008000\">'context'</span>, <span style=\"color: #008000; text-decoration-color: #008000\">'session'</span>, <span style=\"color: #008000; text-decoration-color: #008000\">'catalog'</span> and            <a href=\"file:///home/sossa/miniconda3/envs/raftel/lib/python3.8/site-packages/kedro/ipython/__init__.py\" target=\"_blank\"><span style=\"color: #7f7f7f; text-decoration-color: #7f7f7f\">__init__.py</span></a><span style=\"color: #7f7f7f; text-decoration-color: #7f7f7f\">:</span><a href=\"file:///home/sossa/miniconda3/envs/raftel/lib/python3.8/site-packages/kedro/ipython/__init__.py#104\" target=\"_blank\"><span style=\"color: #7f7f7f; text-decoration-color: #7f7f7f\">104</span></a>\n",
       "<span style=\"color: #7fbfbf; text-decoration-color: #7fbfbf\">                    </span>         <span style=\"color: #008000; text-decoration-color: #008000\">'pipelines'</span>                                                            <span style=\"color: #7f7f7f; text-decoration-color: #7f7f7f\">               </span>\n",
       "</pre>\n"
      ],
      "text/plain": [
       "\u001b[2;36m                   \u001b[0m\u001b[2;36m \u001b[0m\u001b[34mINFO    \u001b[0m Defined global variable \u001b[32m'context'\u001b[0m, \u001b[32m'session'\u001b[0m, \u001b[32m'catalog'\u001b[0m and            \u001b]8;id=22018;file:///home/sossa/miniconda3/envs/raftel/lib/python3.8/site-packages/kedro/ipython/__init__.py\u001b\\\u001b[2m__init__.py\u001b[0m\u001b]8;;\u001b\\\u001b[2m:\u001b[0m\u001b]8;id=874018;file:///home/sossa/miniconda3/envs/raftel/lib/python3.8/site-packages/kedro/ipython/__init__.py#104\u001b\\\u001b[2m104\u001b[0m\u001b]8;;\u001b\\\n",
       "\u001b[2;36m                    \u001b[0m         \u001b[32m'pipelines'\u001b[0m                                                            \u001b[2m               \u001b[0m\n"
      ]
     },
     "metadata": {},
     "output_type": "display_data"
    },
    {
     "data": {
      "text/html": [
       "<pre style=\"white-space:pre;overflow-x:auto;line-height:normal;font-family:Menlo,'DejaVu Sans Mono',consolas,'Courier New',monospace\"><span style=\"color: #7fbfbf; text-decoration-color: #7fbfbf\">                    </span><span style=\"color: #000080; text-decoration-color: #000080\">INFO    </span> Registered line magic <span style=\"color: #008000; text-decoration-color: #008000\">'run_viz'</span>                                        <a href=\"file:///home/sossa/miniconda3/envs/raftel/lib/python3.8/site-packages/kedro/ipython/__init__.py\" target=\"_blank\"><span style=\"color: #7f7f7f; text-decoration-color: #7f7f7f\">__init__.py</span></a><span style=\"color: #7f7f7f; text-decoration-color: #7f7f7f\">:</span><a href=\"file:///home/sossa/miniconda3/envs/raftel/lib/python3.8/site-packages/kedro/ipython/__init__.py#110\" target=\"_blank\"><span style=\"color: #7f7f7f; text-decoration-color: #7f7f7f\">110</span></a>\n",
       "</pre>\n"
      ],
      "text/plain": [
       "\u001b[2;36m                   \u001b[0m\u001b[2;36m \u001b[0m\u001b[34mINFO    \u001b[0m Registered line magic \u001b[32m'run_viz'\u001b[0m                                        \u001b]8;id=450558;file:///home/sossa/miniconda3/envs/raftel/lib/python3.8/site-packages/kedro/ipython/__init__.py\u001b\\\u001b[2m__init__.py\u001b[0m\u001b]8;;\u001b\\\u001b[2m:\u001b[0m\u001b]8;id=747253;file:///home/sossa/miniconda3/envs/raftel/lib/python3.8/site-packages/kedro/ipython/__init__.py#110\u001b\\\u001b[2m110\u001b[0m\u001b]8;;\u001b\\\n"
      ]
     },
     "metadata": {},
     "output_type": "display_data"
    }
   ],
   "source": [
    "%reload_kedro"
   ]
  },
  {
   "cell_type": "code",
   "execution_count": 4,
   "id": "92337acd-11f3-4cc5-90f3-55a56f0ce2f8",
   "metadata": {},
   "outputs": [],
   "source": [
    "import pyspark.sql.functions as F\n",
    "import math\n",
    "import pandas as pd\n",
    "import numpy as np"
   ]
  },
  {
   "cell_type": "code",
   "execution_count": 4,
   "id": "c1076a86-7059-4f64-ae84-b1b530ada271",
   "metadata": {},
   "outputs": [
    {
     "data": {
      "text/html": [
       "<pre style=\"white-space:pre;overflow-x:auto;line-height:normal;font-family:Menlo,'DejaVu Sans Mono',consolas,'Courier New',monospace\"><span style=\"color: #7fbfbf; text-decoration-color: #7fbfbf\">                    </span><span style=\"color: #000080; text-decoration-color: #000080\">INFO    </span> Loading data from <span style=\"color: #008000; text-decoration-color: #008000\">'aras_A_encoded@spark'</span> <span style=\"font-weight: bold\">(</span>SparkDataSet<span style=\"font-weight: bold\">)</span><span style=\"color: #808000; text-decoration-color: #808000\">...</span>         <a href=\"file:///home/sossa/miniconda3/envs/raftel/lib/python3.8/site-packages/kedro/io/data_catalog.py\" target=\"_blank\"><span style=\"color: #7f7f7f; text-decoration-color: #7f7f7f\">data_catalog.py</span></a><span style=\"color: #7f7f7f; text-decoration-color: #7f7f7f\">:</span><a href=\"file:///home/sossa/miniconda3/envs/raftel/lib/python3.8/site-packages/kedro/io/data_catalog.py#343\" target=\"_blank\"><span style=\"color: #7f7f7f; text-decoration-color: #7f7f7f\">343</span></a>\n",
       "</pre>\n"
      ],
      "text/plain": [
       "\u001b[2;36m                   \u001b[0m\u001b[2;36m \u001b[0m\u001b[34mINFO    \u001b[0m Loading data from \u001b[32m'aras_A_encoded@spark'\u001b[0m \u001b[1m(\u001b[0mSparkDataSet\u001b[1m)\u001b[0m\u001b[33m...\u001b[0m         \u001b]8;id=319090;file:///home/sossa/miniconda3/envs/raftel/lib/python3.8/site-packages/kedro/io/data_catalog.py\u001b\\\u001b[2mdata_catalog.py\u001b[0m\u001b]8;;\u001b\\\u001b[2m:\u001b[0m\u001b]8;id=926622;file:///home/sossa/miniconda3/envs/raftel/lib/python3.8/site-packages/kedro/io/data_catalog.py#343\u001b\\\u001b[2m343\u001b[0m\u001b]8;;\u001b\\\n"
      ]
     },
     "metadata": {},
     "output_type": "display_data"
    }
   ],
   "source": [
    "dataset = catalog.load(\"aras_A_encoded@spark\")"
   ]
  },
  {
   "cell_type": "code",
   "execution_count": 5,
   "id": "388482d2",
   "metadata": {},
   "outputs": [
    {
     "name": "stderr",
     "output_type": "stream",
     "text": [
      "24/03/06 17:23:52 WARN package: Truncated the string representation of a plan since it was too large. This behavior can be adjusted by setting 'spark.sql.debug.maxToStringFields'.\n",
      "                                                                                \r"
     ]
    },
    {
     "name": "stdout",
     "output_type": "stream",
     "text": [
      "+---+----+---+---+---+---+---+---+---+---+---+---+---+---+---+---+---+---+---+---+---+---+--------------+----------------+--------+---------+----------------+-------------------+-------------+------------+------------+-------------+------------+-------+------------------+-------+-----+-------------------+----------------+---------------+------------+-------+--------+--------+--------------------+---------+--------------+--------------+-----------+\n",
      "|DAY| SEC|Ph1|Ph2|Ir1|Fo1|Fo2|Di3|Di4|Ph3|Ph4|Ph5|Ph6|Co1|Co2|Co3|So1|So2|Di1|Di2|Te1|Fo3|Brushing_Teeth|Changing_Clothes|Cleaning|Going_Out|Having_Breakfast|Having_Conversation|Having_Dinner|Having_Guest|Having_Lunch|Having_Shower|Having_Snack|Laundry|Listening_to_Music|Napping|Other|Preparing_Breakfast|Preparing_Dinner|Preparing_Lunch|Reading_Book|Shaving|Sleeping|Studying|Talking_on_the_Phone|Toileting|Using_Internet|Washing_Dishes|Watching_TV|\n",
      "+---+----+---+---+---+---+---+---+---+---+---+---+---+---+---+---+---+---+---+---+---+---+--------------+----------------+--------+---------+----------------+-------------------+-------------+------------+------------+-------------+------------+-------+------------------+-------+-----+-------------------+----------------+---------------+------------+-------+--------+--------+--------------------+---------+--------------+--------------+-----------+\n",
      "|1.0| 1.0|  0|  0|  0|  0|  0|  0|  0|  0|  0|  0|  0|  0|  0|  0|  0|  0|  0|  0|  0|  0|             0|               0|       0|        0|               0|                  0|            0|           0|           0|            0|           0|      0|                 0|      0|    0|                  0|               0|              0|           0|      0|       0|       0|                   0|        0|             1|             0|          1|\n",
      "|1.0| 2.0|  0|  0|  0|  0|  0|  0|  0|  0|  0|  0|  0|  0|  0|  0|  0|  0|  0|  0|  0|  0|             0|               0|       0|        0|               0|                  0|            0|           0|           0|            0|           0|      0|                 0|      0|    0|                  0|               0|              0|           0|      0|       0|       0|                   0|        0|             1|             0|          1|\n",
      "|1.0| 3.0|  0|  0|  0|  0|  0|  0|  0|  0|  0|  0|  0|  0|  0|  0|  0|  0|  0|  0|  0|  0|             0|               0|       0|        0|               0|                  0|            0|           0|           0|            0|           0|      0|                 0|      0|    0|                  0|               0|              0|           0|      0|       0|       0|                   0|        0|             1|             0|          1|\n",
      "|1.0| 4.0|  0|  0|  0|  0|  0|  0|  0|  0|  0|  0|  0|  0|  0|  0|  0|  0|  0|  0|  0|  0|             0|               0|       0|        0|               0|                  0|            0|           0|           0|            0|           0|      0|                 0|      0|    0|                  0|               0|              0|           0|      0|       0|       0|                   0|        0|             1|             0|          1|\n",
      "|1.0| 5.0|  0|  0|  0|  0|  0|  0|  0|  0|  0|  0|  0|  0|  0|  0|  0|  0|  0|  0|  0|  0|             0|               0|       0|        0|               0|                  0|            0|           0|           0|            0|           0|      0|                 0|      0|    0|                  0|               0|              0|           0|      0|       0|       0|                   0|        0|             1|             0|          1|\n",
      "|1.0| 6.0|  0|  0|  0|  0|  0|  0|  0|  0|  0|  0|  0|  0|  0|  0|  0|  0|  0|  0|  0|  0|             0|               0|       0|        0|               0|                  0|            0|           0|           0|            0|           0|      0|                 0|      0|    0|                  0|               0|              0|           0|      0|       0|       0|                   0|        0|             1|             0|          1|\n",
      "|1.0| 7.0|  0|  0|  0|  0|  0|  0|  0|  0|  0|  0|  0|  0|  0|  0|  0|  0|  0|  0|  0|  0|             0|               0|       0|        0|               0|                  0|            0|           0|           0|            0|           0|      0|                 0|      0|    0|                  0|               0|              0|           0|      0|       0|       0|                   0|        0|             1|             0|          1|\n",
      "|1.0| 8.0|  0|  0|  0|  0|  0|  0|  0|  0|  0|  0|  0|  0|  0|  0|  0|  0|  0|  0|  0|  0|             0|               0|       0|        0|               0|                  0|            0|           0|           0|            0|           0|      0|                 0|      0|    0|                  0|               0|              0|           0|      0|       0|       0|                   0|        0|             1|             0|          1|\n",
      "|1.0| 9.0|  0|  0|  0|  0|  0|  0|  0|  0|  0|  0|  0|  0|  0|  0|  0|  0|  0|  0|  0|  0|             0|               0|       0|        0|               0|                  0|            0|           0|           0|            0|           0|      0|                 0|      0|    0|                  0|               0|              0|           0|      0|       0|       0|                   0|        0|             1|             0|          1|\n",
      "|1.0|10.0|  0|  0|  0|  0|  0|  0|  0|  0|  0|  0|  0|  0|  0|  0|  0|  0|  0|  0|  0|  0|             0|               0|       0|        0|               0|                  0|            0|           0|           0|            0|           0|      0|                 0|      0|    0|                  0|               0|              0|           0|      0|       0|       0|                   0|        0|             1|             0|          1|\n",
      "|1.0|11.0|  0|  0|  0|  0|  0|  0|  0|  0|  0|  0|  0|  0|  0|  0|  1|  0|  0|  0|  0|  0|             0|               0|       0|        0|               0|                  0|            0|           0|           0|            0|           0|      0|                 0|      0|    0|                  0|               0|              0|           0|      0|       0|       0|                   0|        0|             1|             0|          1|\n",
      "|1.0|12.0|  0|  0|  0|  0|  0|  0|  0|  0|  0|  0|  0|  0|  0|  0|  0|  0|  0|  0|  0|  0|             0|               0|       0|        0|               0|                  0|            0|           0|           0|            0|           0|      0|                 0|      0|    0|                  0|               0|              0|           0|      0|       0|       0|                   0|        0|             1|             0|          1|\n",
      "|1.0|13.0|  0|  0|  0|  0|  0|  0|  0|  0|  0|  0|  0|  0|  0|  0|  0|  0|  0|  0|  0|  0|             0|               0|       0|        0|               0|                  0|            0|           0|           0|            0|           0|      0|                 0|      0|    0|                  0|               0|              0|           0|      0|       0|       0|                   0|        0|             1|             0|          1|\n",
      "|1.0|14.0|  0|  0|  0|  0|  0|  0|  0|  0|  0|  0|  0|  0|  0|  0|  0|  0|  0|  0|  0|  0|             0|               0|       0|        0|               0|                  0|            0|           0|           0|            0|           0|      0|                 0|      0|    0|                  0|               0|              0|           0|      0|       0|       0|                   0|        0|             1|             0|          1|\n",
      "|1.0|15.0|  0|  0|  0|  0|  0|  0|  0|  0|  0|  0|  0|  0|  0|  0|  0|  0|  0|  0|  0|  0|             0|               0|       0|        0|               0|                  0|            0|           0|           0|            0|           0|      0|                 0|      0|    0|                  0|               0|              0|           0|      0|       0|       0|                   0|        0|             1|             0|          1|\n",
      "|1.0|16.0|  0|  0|  0|  0|  0|  0|  0|  0|  0|  0|  0|  0|  0|  0|  0|  0|  0|  0|  0|  0|             0|               0|       0|        0|               0|                  0|            0|           0|           0|            0|           0|      0|                 0|      0|    0|                  0|               0|              0|           0|      0|       0|       0|                   0|        0|             1|             0|          1|\n",
      "|1.0|17.0|  0|  0|  0|  0|  0|  0|  0|  0|  0|  0|  0|  0|  0|  0|  0|  0|  0|  0|  0|  0|             0|               0|       0|        0|               0|                  0|            0|           0|           0|            0|           0|      0|                 0|      0|    0|                  0|               0|              0|           0|      0|       0|       0|                   0|        0|             1|             0|          1|\n",
      "|1.0|18.0|  0|  0|  0|  0|  0|  0|  0|  0|  0|  0|  0|  0|  0|  0|  0|  0|  0|  0|  0|  0|             0|               0|       0|        0|               0|                  0|            0|           0|           0|            0|           0|      0|                 0|      0|    0|                  0|               0|              0|           0|      0|       0|       0|                   0|        0|             1|             0|          1|\n",
      "|1.0|19.0|  0|  0|  0|  0|  0|  0|  0|  0|  0|  0|  0|  0|  0|  0|  0|  0|  0|  0|  0|  0|             0|               0|       0|        0|               0|                  0|            0|           0|           0|            0|           0|      0|                 0|      0|    0|                  0|               0|              0|           0|      0|       0|       0|                   0|        0|             1|             0|          1|\n",
      "|1.0|20.0|  0|  0|  0|  0|  0|  0|  0|  0|  0|  0|  0|  0|  0|  0|  0|  0|  0|  0|  0|  0|             0|               0|       0|        0|               0|                  0|            0|           0|           0|            0|           0|      0|                 0|      0|    0|                  0|               0|              0|           0|      0|       0|       0|                   0|        0|             1|             0|          1|\n",
      "+---+----+---+---+---+---+---+---+---+---+---+---+---+---+---+---+---+---+---+---+---+---+--------------+----------------+--------+---------+----------------+-------------------+-------------+------------+------------+-------------+------------+-------+------------------+-------+-----+-------------------+----------------+---------------+------------+-------+--------+--------+--------------------+---------+--------------+--------------+-----------+\n",
      "only showing top 20 rows\n",
      "\n"
     ]
    }
   ],
   "source": [
    "dataset.orderBy(\n",
    "    \"DAY\",\n",
    "    \"SEC\"\n",
    ").show()"
   ]
  },
  {
   "cell_type": "code",
   "execution_count": 6,
   "id": "06007b2f",
   "metadata": {},
   "outputs": [],
   "source": [
    "dataset = dataset.orderBy(\n",
    "    \"DAY\",\n",
    "    \"SEC\"\n",
    ").withColumn(\n",
    "    \"ID\",\n",
    "    F.when(\n",
    "        F.col(\"DAY\") == 1,\n",
    "        F.col(\"SEC\")\n",
    "    ).otherwise(\n",
    "        F.col(\"SEC\") + 86400*(F.col(\"DAY\") - 1)\n",
    "    )\n",
    ").withColumn(\n",
    "    \"HOUR\",\n",
    "    F.ceil(F.col(\"SEC\") / 3600) - 1\n",
    ").withColumn(\n",
    "    \"HOUR_SIN\",\n",
    "    F.sin(2 * math.pi * F.col(\"HOUR\")/24)\n",
    ").withColumn(\n",
    "    \"HOUR_COS\",\n",
    "    F.cos(2 * math.pi * F.col(\"HOUR\")/24)\n",
    ").select(\n",
    "    [\n",
    "        \"ID\",\n",
    "        'HOUR_SIN',\n",
    "        'HOUR_COS',\n",
    "        'Ph1',\n",
    "        'Ph2',\n",
    "        'Ir1',\n",
    "        'Fo1',\n",
    "        'Fo2',\n",
    "        'Di3',\n",
    "        'Di4',\n",
    "        'Ph3',\n",
    "        'Ph4',\n",
    "        'Ph5',\n",
    "        'Ph6',\n",
    "        'Co1',\n",
    "        'Co2',\n",
    "        'Co3',\n",
    "        'So1',\n",
    "        'So2',\n",
    "        'Di1',\n",
    "        'Di2',\n",
    "        'Te1',\n",
    "        'Fo3',\n",
    "        'Brushing_Teeth',\n",
    "        'Changing_Clothes',\n",
    "        'Cleaning',\n",
    "        'Going_Out',\n",
    "        'Having_Breakfast',\n",
    "        'Having_Conversation',\n",
    "        'Having_Dinner',\n",
    "        'Having_Guest',\n",
    "        'Having_Lunch',\n",
    "        'Having_Shower',\n",
    "        'Having_Snack',\n",
    "        'Laundry',\n",
    "        'Listening_to_Music',\n",
    "        'Napping',\n",
    "        'Other',\n",
    "        'Preparing_Breakfast',\n",
    "        'Preparing_Dinner',\n",
    "        'Preparing_Lunch',\n",
    "        'Reading_Book',\n",
    "        'Shaving',\n",
    "        'Sleeping',\n",
    "        'Studying',\n",
    "        'Talking_on_the_Phone',\n",
    "        'Toileting',\n",
    "        'Using_Internet',\n",
    "        'Washing_Dishes',\n",
    "        'Watching_TV',\n",
    "    ]\n",
    ")"
   ]
  },
  {
   "cell_type": "code",
   "execution_count": 7,
   "id": "d62c06f9",
   "metadata": {},
   "outputs": [
    {
     "name": "stderr",
     "output_type": "stream",
     "text": [
      "[Stage 3:>                                                        (0 + 12) / 12]\r"
     ]
    },
    {
     "name": "stdout",
     "output_type": "stream",
     "text": [
      "+----+--------+--------+---+---+---+---+---+---+---+---+---+---+---+---+---+---+---+---+---+---+---+---+--------------+----------------+--------+---------+----------------+-------------------+-------------+------------+------------+-------------+------------+-------+------------------+-------+-----+-------------------+----------------+---------------+------------+-------+--------+--------+--------------------+---------+--------------+--------------+-----------+\n",
      "|  ID|HOUR_SIN|HOUR_COS|Ph1|Ph2|Ir1|Fo1|Fo2|Di3|Di4|Ph3|Ph4|Ph5|Ph6|Co1|Co2|Co3|So1|So2|Di1|Di2|Te1|Fo3|Brushing_Teeth|Changing_Clothes|Cleaning|Going_Out|Having_Breakfast|Having_Conversation|Having_Dinner|Having_Guest|Having_Lunch|Having_Shower|Having_Snack|Laundry|Listening_to_Music|Napping|Other|Preparing_Breakfast|Preparing_Dinner|Preparing_Lunch|Reading_Book|Shaving|Sleeping|Studying|Talking_on_the_Phone|Toileting|Using_Internet|Washing_Dishes|Watching_TV|\n",
      "+----+--------+--------+---+---+---+---+---+---+---+---+---+---+---+---+---+---+---+---+---+---+---+---+--------------+----------------+--------+---------+----------------+-------------------+-------------+------------+------------+-------------+------------+-------+------------------+-------+-----+-------------------+----------------+---------------+------------+-------+--------+--------+--------------------+---------+--------------+--------------+-----------+\n",
      "| 1.0|     0.0|     1.0|  0|  0|  0|  0|  0|  0|  0|  0|  0|  0|  0|  0|  0|  0|  0|  0|  0|  0|  0|  0|             0|               0|       0|        0|               0|                  0|            0|           0|           0|            0|           0|      0|                 0|      0|    0|                  0|               0|              0|           0|      0|       0|       0|                   0|        0|             1|             0|          1|\n",
      "| 2.0|     0.0|     1.0|  0|  0|  0|  0|  0|  0|  0|  0|  0|  0|  0|  0|  0|  0|  0|  0|  0|  0|  0|  0|             0|               0|       0|        0|               0|                  0|            0|           0|           0|            0|           0|      0|                 0|      0|    0|                  0|               0|              0|           0|      0|       0|       0|                   0|        0|             1|             0|          1|\n",
      "| 3.0|     0.0|     1.0|  0|  0|  0|  0|  0|  0|  0|  0|  0|  0|  0|  0|  0|  0|  0|  0|  0|  0|  0|  0|             0|               0|       0|        0|               0|                  0|            0|           0|           0|            0|           0|      0|                 0|      0|    0|                  0|               0|              0|           0|      0|       0|       0|                   0|        0|             1|             0|          1|\n",
      "| 4.0|     0.0|     1.0|  0|  0|  0|  0|  0|  0|  0|  0|  0|  0|  0|  0|  0|  0|  0|  0|  0|  0|  0|  0|             0|               0|       0|        0|               0|                  0|            0|           0|           0|            0|           0|      0|                 0|      0|    0|                  0|               0|              0|           0|      0|       0|       0|                   0|        0|             1|             0|          1|\n",
      "| 5.0|     0.0|     1.0|  0|  0|  0|  0|  0|  0|  0|  0|  0|  0|  0|  0|  0|  0|  0|  0|  0|  0|  0|  0|             0|               0|       0|        0|               0|                  0|            0|           0|           0|            0|           0|      0|                 0|      0|    0|                  0|               0|              0|           0|      0|       0|       0|                   0|        0|             1|             0|          1|\n",
      "| 6.0|     0.0|     1.0|  0|  0|  0|  0|  0|  0|  0|  0|  0|  0|  0|  0|  0|  0|  0|  0|  0|  0|  0|  0|             0|               0|       0|        0|               0|                  0|            0|           0|           0|            0|           0|      0|                 0|      0|    0|                  0|               0|              0|           0|      0|       0|       0|                   0|        0|             1|             0|          1|\n",
      "| 7.0|     0.0|     1.0|  0|  0|  0|  0|  0|  0|  0|  0|  0|  0|  0|  0|  0|  0|  0|  0|  0|  0|  0|  0|             0|               0|       0|        0|               0|                  0|            0|           0|           0|            0|           0|      0|                 0|      0|    0|                  0|               0|              0|           0|      0|       0|       0|                   0|        0|             1|             0|          1|\n",
      "| 8.0|     0.0|     1.0|  0|  0|  0|  0|  0|  0|  0|  0|  0|  0|  0|  0|  0|  0|  0|  0|  0|  0|  0|  0|             0|               0|       0|        0|               0|                  0|            0|           0|           0|            0|           0|      0|                 0|      0|    0|                  0|               0|              0|           0|      0|       0|       0|                   0|        0|             1|             0|          1|\n",
      "| 9.0|     0.0|     1.0|  0|  0|  0|  0|  0|  0|  0|  0|  0|  0|  0|  0|  0|  0|  0|  0|  0|  0|  0|  0|             0|               0|       0|        0|               0|                  0|            0|           0|           0|            0|           0|      0|                 0|      0|    0|                  0|               0|              0|           0|      0|       0|       0|                   0|        0|             1|             0|          1|\n",
      "|10.0|     0.0|     1.0|  0|  0|  0|  0|  0|  0|  0|  0|  0|  0|  0|  0|  0|  0|  0|  0|  0|  0|  0|  0|             0|               0|       0|        0|               0|                  0|            0|           0|           0|            0|           0|      0|                 0|      0|    0|                  0|               0|              0|           0|      0|       0|       0|                   0|        0|             1|             0|          1|\n",
      "|11.0|     0.0|     1.0|  0|  0|  0|  0|  0|  0|  0|  0|  0|  0|  0|  0|  0|  0|  1|  0|  0|  0|  0|  0|             0|               0|       0|        0|               0|                  0|            0|           0|           0|            0|           0|      0|                 0|      0|    0|                  0|               0|              0|           0|      0|       0|       0|                   0|        0|             1|             0|          1|\n",
      "|12.0|     0.0|     1.0|  0|  0|  0|  0|  0|  0|  0|  0|  0|  0|  0|  0|  0|  0|  0|  0|  0|  0|  0|  0|             0|               0|       0|        0|               0|                  0|            0|           0|           0|            0|           0|      0|                 0|      0|    0|                  0|               0|              0|           0|      0|       0|       0|                   0|        0|             1|             0|          1|\n",
      "|13.0|     0.0|     1.0|  0|  0|  0|  0|  0|  0|  0|  0|  0|  0|  0|  0|  0|  0|  0|  0|  0|  0|  0|  0|             0|               0|       0|        0|               0|                  0|            0|           0|           0|            0|           0|      0|                 0|      0|    0|                  0|               0|              0|           0|      0|       0|       0|                   0|        0|             1|             0|          1|\n",
      "|14.0|     0.0|     1.0|  0|  0|  0|  0|  0|  0|  0|  0|  0|  0|  0|  0|  0|  0|  0|  0|  0|  0|  0|  0|             0|               0|       0|        0|               0|                  0|            0|           0|           0|            0|           0|      0|                 0|      0|    0|                  0|               0|              0|           0|      0|       0|       0|                   0|        0|             1|             0|          1|\n",
      "|15.0|     0.0|     1.0|  0|  0|  0|  0|  0|  0|  0|  0|  0|  0|  0|  0|  0|  0|  0|  0|  0|  0|  0|  0|             0|               0|       0|        0|               0|                  0|            0|           0|           0|            0|           0|      0|                 0|      0|    0|                  0|               0|              0|           0|      0|       0|       0|                   0|        0|             1|             0|          1|\n",
      "|16.0|     0.0|     1.0|  0|  0|  0|  0|  0|  0|  0|  0|  0|  0|  0|  0|  0|  0|  0|  0|  0|  0|  0|  0|             0|               0|       0|        0|               0|                  0|            0|           0|           0|            0|           0|      0|                 0|      0|    0|                  0|               0|              0|           0|      0|       0|       0|                   0|        0|             1|             0|          1|\n",
      "|17.0|     0.0|     1.0|  0|  0|  0|  0|  0|  0|  0|  0|  0|  0|  0|  0|  0|  0|  0|  0|  0|  0|  0|  0|             0|               0|       0|        0|               0|                  0|            0|           0|           0|            0|           0|      0|                 0|      0|    0|                  0|               0|              0|           0|      0|       0|       0|                   0|        0|             1|             0|          1|\n",
      "|18.0|     0.0|     1.0|  0|  0|  0|  0|  0|  0|  0|  0|  0|  0|  0|  0|  0|  0|  0|  0|  0|  0|  0|  0|             0|               0|       0|        0|               0|                  0|            0|           0|           0|            0|           0|      0|                 0|      0|    0|                  0|               0|              0|           0|      0|       0|       0|                   0|        0|             1|             0|          1|\n",
      "|19.0|     0.0|     1.0|  0|  0|  0|  0|  0|  0|  0|  0|  0|  0|  0|  0|  0|  0|  0|  0|  0|  0|  0|  0|             0|               0|       0|        0|               0|                  0|            0|           0|           0|            0|           0|      0|                 0|      0|    0|                  0|               0|              0|           0|      0|       0|       0|                   0|        0|             1|             0|          1|\n",
      "|20.0|     0.0|     1.0|  0|  0|  0|  0|  0|  0|  0|  0|  0|  0|  0|  0|  0|  0|  0|  0|  0|  0|  0|  0|             0|               0|       0|        0|               0|                  0|            0|           0|           0|            0|           0|      0|                 0|      0|    0|                  0|               0|              0|           0|      0|       0|       0|                   0|        0|             1|             0|          1|\n",
      "+----+--------+--------+---+---+---+---+---+---+---+---+---+---+---+---+---+---+---+---+---+---+---+---+--------------+----------------+--------+---------+----------------+-------------------+-------------+------------+------------+-------------+------------+-------+------------------+-------+-----+-------------------+----------------+---------------+------------+-------+--------+--------+--------------------+---------+--------------+--------------+-----------+\n",
      "only showing top 20 rows\n",
      "\n"
     ]
    },
    {
     "name": "stderr",
     "output_type": "stream",
     "text": [
      "                                                                                \r"
     ]
    }
   ],
   "source": [
    "dataset.show()"
   ]
  },
  {
   "cell_type": "code",
   "execution_count": 8,
   "id": "a87772b3",
   "metadata": {},
   "outputs": [
    {
     "data": {
      "text/html": [
       "<pre style=\"white-space:pre;overflow-x:auto;line-height:normal;font-family:Menlo,'DejaVu Sans Mono',consolas,'Courier New',monospace\"><span style=\"color: #7fbfbf; text-decoration-color: #7fbfbf\">[03/06/24 17:24:04] </span><span style=\"color: #000080; text-decoration-color: #000080\">INFO    </span> Saving data to <span style=\"color: #008000; text-decoration-color: #008000\">'featured_aras_A@spark'</span> <span style=\"font-weight: bold\">(</span>SparkDataSet<span style=\"font-weight: bold\">)</span><span style=\"color: #808000; text-decoration-color: #808000\">...</span>           <a href=\"file:///home/sossa/miniconda3/envs/raftel/lib/python3.8/site-packages/kedro/io/data_catalog.py\" target=\"_blank\"><span style=\"color: #7f7f7f; text-decoration-color: #7f7f7f\">data_catalog.py</span></a><span style=\"color: #7f7f7f; text-decoration-color: #7f7f7f\">:</span><a href=\"file:///home/sossa/miniconda3/envs/raftel/lib/python3.8/site-packages/kedro/io/data_catalog.py#382\" target=\"_blank\"><span style=\"color: #7f7f7f; text-decoration-color: #7f7f7f\">382</span></a>\n",
       "</pre>\n"
      ],
      "text/plain": [
       "\u001b[2;36m[03/06/24 17:24:04]\u001b[0m\u001b[2;36m \u001b[0m\u001b[34mINFO    \u001b[0m Saving data to \u001b[32m'featured_aras_A@spark'\u001b[0m \u001b[1m(\u001b[0mSparkDataSet\u001b[1m)\u001b[0m\u001b[33m...\u001b[0m           \u001b]8;id=416071;file:///home/sossa/miniconda3/envs/raftel/lib/python3.8/site-packages/kedro/io/data_catalog.py\u001b\\\u001b[2mdata_catalog.py\u001b[0m\u001b]8;;\u001b\\\u001b[2m:\u001b[0m\u001b]8;id=877188;file:///home/sossa/miniconda3/envs/raftel/lib/python3.8/site-packages/kedro/io/data_catalog.py#382\u001b\\\u001b[2m382\u001b[0m\u001b]8;;\u001b\\\n"
      ]
     },
     "metadata": {},
     "output_type": "display_data"
    },
    {
     "name": "stderr",
     "output_type": "stream",
     "text": [
      "24/03/06 17:24:09 WARN MemoryManager: Total allocation exceeds 95.00% (1,020,054,720 bytes) of heap memory\n",
      "Scaling row group sizes to 95.00% for 8 writers\n",
      "24/03/06 17:24:09 WARN MemoryManager: Total allocation exceeds 95.00% (1,020,054,720 bytes) of heap memory\n",
      "Scaling row group sizes to 84.44% for 9 writers\n",
      "24/03/06 17:24:09 WARN MemoryManager: Total allocation exceeds 95.00% (1,020,054,720 bytes) of heap memory\n",
      "Scaling row group sizes to 76.00% for 10 writers\n",
      "24/03/06 17:24:09 WARN MemoryManager: Total allocation exceeds 95.00% (1,020,054,720 bytes) of heap memory\n",
      "Scaling row group sizes to 69.09% for 11 writers\n",
      "24/03/06 17:24:09 WARN MemoryManager: Total allocation exceeds 95.00% (1,020,054,720 bytes) of heap memory\n",
      "Scaling row group sizes to 63.33% for 12 writers\n",
      "24/03/06 17:24:12 WARN MemoryManager: Total allocation exceeds 95.00% (1,020,054,720 bytes) of heap memory\n",
      "Scaling row group sizes to 69.09% for 11 writers\n",
      "24/03/06 17:24:12 WARN MemoryManager: Total allocation exceeds 95.00% (1,020,054,720 bytes) of heap memory\n",
      "Scaling row group sizes to 76.00% for 10 writers\n",
      "24/03/06 17:24:12 WARN MemoryManager: Total allocation exceeds 95.00% (1,020,054,720 bytes) of heap memory\n",
      "Scaling row group sizes to 84.44% for 9 writers\n",
      "24/03/06 17:24:12 WARN MemoryManager: Total allocation exceeds 95.00% (1,020,054,720 bytes) of heap memory\n",
      "Scaling row group sizes to 95.00% for 8 writers\n",
      "                                                                                \r"
     ]
    }
   ],
   "source": [
    "catalog.save(\"featured_aras_A@spark\", dataset)"
   ]
  },
  {
   "cell_type": "code",
   "execution_count": 5,
   "id": "40022ef8",
   "metadata": {},
   "outputs": [
    {
     "data": {
      "text/html": [
       "<pre style=\"white-space:pre;overflow-x:auto;line-height:normal;font-family:Menlo,'DejaVu Sans Mono',consolas,'Courier New',monospace\"><span style=\"color: #7fbfbf; text-decoration-color: #7fbfbf\">[03/06/24 18:46:35] </span><span style=\"color: #000080; text-decoration-color: #000080\">INFO    </span> Loading data from <span style=\"color: #008000; text-decoration-color: #008000\">'featured_aras_A@pandas'</span> <span style=\"font-weight: bold\">(</span>ParquetDataSet<span style=\"font-weight: bold\">)</span><span style=\"color: #808000; text-decoration-color: #808000\">...</span>     <a href=\"file:///home/sossa/miniconda3/envs/raftel/lib/python3.8/site-packages/kedro/io/data_catalog.py\" target=\"_blank\"><span style=\"color: #7f7f7f; text-decoration-color: #7f7f7f\">data_catalog.py</span></a><span style=\"color: #7f7f7f; text-decoration-color: #7f7f7f\">:</span><a href=\"file:///home/sossa/miniconda3/envs/raftel/lib/python3.8/site-packages/kedro/io/data_catalog.py#343\" target=\"_blank\"><span style=\"color: #7f7f7f; text-decoration-color: #7f7f7f\">343</span></a>\n",
       "</pre>\n"
      ],
      "text/plain": [
       "\u001b[2;36m[03/06/24 18:46:35]\u001b[0m\u001b[2;36m \u001b[0m\u001b[34mINFO    \u001b[0m Loading data from \u001b[32m'featured_aras_A@pandas'\u001b[0m \u001b[1m(\u001b[0mParquetDataSet\u001b[1m)\u001b[0m\u001b[33m...\u001b[0m     \u001b]8;id=397532;file:///home/sossa/miniconda3/envs/raftel/lib/python3.8/site-packages/kedro/io/data_catalog.py\u001b\\\u001b[2mdata_catalog.py\u001b[0m\u001b]8;;\u001b\\\u001b[2m:\u001b[0m\u001b]8;id=761583;file:///home/sossa/miniconda3/envs/raftel/lib/python3.8/site-packages/kedro/io/data_catalog.py#343\u001b\\\u001b[2m343\u001b[0m\u001b]8;;\u001b\\\n"
      ]
     },
     "metadata": {},
     "output_type": "display_data"
    }
   ],
   "source": [
    "dataset = catalog.load(\"featured_aras_A@pandas\")"
   ]
  },
  {
   "cell_type": "code",
   "execution_count": 6,
   "id": "d25b24a9",
   "metadata": {},
   "outputs": [
    {
     "data": {
      "text/html": [
       "<pre style=\"white-space:pre;overflow-x:auto;line-height:normal;font-family:Menlo,'DejaVu Sans Mono',consolas,'Courier New',monospace\"></pre>\n"
      ],
      "text/plain": []
     },
     "metadata": {},
     "output_type": "display_data"
    },
    {
     "data": {
      "text/html": [
       "<div>\n",
       "<style scoped>\n",
       "    .dataframe tbody tr th:only-of-type {\n",
       "        vertical-align: middle;\n",
       "    }\n",
       "\n",
       "    .dataframe tbody tr th {\n",
       "        vertical-align: top;\n",
       "    }\n",
       "\n",
       "    .dataframe thead th {\n",
       "        text-align: right;\n",
       "    }\n",
       "</style>\n",
       "<table border=\"1\" class=\"dataframe\">\n",
       "  <thead>\n",
       "    <tr style=\"text-align: right;\">\n",
       "      <th></th>\n",
       "      <th>HOUR_SIN</th>\n",
       "      <th>HOUR_COS</th>\n",
       "      <th>Ph1</th>\n",
       "      <th>Ph2</th>\n",
       "      <th>Ir1</th>\n",
       "      <th>Fo1</th>\n",
       "      <th>Fo2</th>\n",
       "      <th>Di3</th>\n",
       "      <th>Di4</th>\n",
       "      <th>Ph3</th>\n",
       "      <th>...</th>\n",
       "      <th>Preparing_Lunch</th>\n",
       "      <th>Reading_Book</th>\n",
       "      <th>Shaving</th>\n",
       "      <th>Sleeping</th>\n",
       "      <th>Studying</th>\n",
       "      <th>Talking_on_the_Phone</th>\n",
       "      <th>Toileting</th>\n",
       "      <th>Using_Internet</th>\n",
       "      <th>Washing_Dishes</th>\n",
       "      <th>Watching_TV</th>\n",
       "    </tr>\n",
       "    <tr>\n",
       "      <th>ID</th>\n",
       "      <th></th>\n",
       "      <th></th>\n",
       "      <th></th>\n",
       "      <th></th>\n",
       "      <th></th>\n",
       "      <th></th>\n",
       "      <th></th>\n",
       "      <th></th>\n",
       "      <th></th>\n",
       "      <th></th>\n",
       "      <th></th>\n",
       "      <th></th>\n",
       "      <th></th>\n",
       "      <th></th>\n",
       "      <th></th>\n",
       "      <th></th>\n",
       "      <th></th>\n",
       "      <th></th>\n",
       "      <th></th>\n",
       "      <th></th>\n",
       "      <th></th>\n",
       "    </tr>\n",
       "  </thead>\n",
       "  <tbody>\n",
       "    <tr>\n",
       "      <th>1.0</th>\n",
       "      <td>0.000000</td>\n",
       "      <td>1.000000</td>\n",
       "      <td>0</td>\n",
       "      <td>0</td>\n",
       "      <td>0</td>\n",
       "      <td>0</td>\n",
       "      <td>0</td>\n",
       "      <td>0</td>\n",
       "      <td>0</td>\n",
       "      <td>0</td>\n",
       "      <td>...</td>\n",
       "      <td>0</td>\n",
       "      <td>0</td>\n",
       "      <td>0</td>\n",
       "      <td>0</td>\n",
       "      <td>0</td>\n",
       "      <td>0</td>\n",
       "      <td>0</td>\n",
       "      <td>1</td>\n",
       "      <td>0</td>\n",
       "      <td>1</td>\n",
       "    </tr>\n",
       "    <tr>\n",
       "      <th>2.0</th>\n",
       "      <td>0.000000</td>\n",
       "      <td>1.000000</td>\n",
       "      <td>0</td>\n",
       "      <td>0</td>\n",
       "      <td>0</td>\n",
       "      <td>0</td>\n",
       "      <td>0</td>\n",
       "      <td>0</td>\n",
       "      <td>0</td>\n",
       "      <td>0</td>\n",
       "      <td>...</td>\n",
       "      <td>0</td>\n",
       "      <td>0</td>\n",
       "      <td>0</td>\n",
       "      <td>0</td>\n",
       "      <td>0</td>\n",
       "      <td>0</td>\n",
       "      <td>0</td>\n",
       "      <td>1</td>\n",
       "      <td>0</td>\n",
       "      <td>1</td>\n",
       "    </tr>\n",
       "    <tr>\n",
       "      <th>3.0</th>\n",
       "      <td>0.000000</td>\n",
       "      <td>1.000000</td>\n",
       "      <td>0</td>\n",
       "      <td>0</td>\n",
       "      <td>0</td>\n",
       "      <td>0</td>\n",
       "      <td>0</td>\n",
       "      <td>0</td>\n",
       "      <td>0</td>\n",
       "      <td>0</td>\n",
       "      <td>...</td>\n",
       "      <td>0</td>\n",
       "      <td>0</td>\n",
       "      <td>0</td>\n",
       "      <td>0</td>\n",
       "      <td>0</td>\n",
       "      <td>0</td>\n",
       "      <td>0</td>\n",
       "      <td>1</td>\n",
       "      <td>0</td>\n",
       "      <td>1</td>\n",
       "    </tr>\n",
       "    <tr>\n",
       "      <th>4.0</th>\n",
       "      <td>0.000000</td>\n",
       "      <td>1.000000</td>\n",
       "      <td>0</td>\n",
       "      <td>0</td>\n",
       "      <td>0</td>\n",
       "      <td>0</td>\n",
       "      <td>0</td>\n",
       "      <td>0</td>\n",
       "      <td>0</td>\n",
       "      <td>0</td>\n",
       "      <td>...</td>\n",
       "      <td>0</td>\n",
       "      <td>0</td>\n",
       "      <td>0</td>\n",
       "      <td>0</td>\n",
       "      <td>0</td>\n",
       "      <td>0</td>\n",
       "      <td>0</td>\n",
       "      <td>1</td>\n",
       "      <td>0</td>\n",
       "      <td>1</td>\n",
       "    </tr>\n",
       "    <tr>\n",
       "      <th>5.0</th>\n",
       "      <td>0.000000</td>\n",
       "      <td>1.000000</td>\n",
       "      <td>0</td>\n",
       "      <td>0</td>\n",
       "      <td>0</td>\n",
       "      <td>0</td>\n",
       "      <td>0</td>\n",
       "      <td>0</td>\n",
       "      <td>0</td>\n",
       "      <td>0</td>\n",
       "      <td>...</td>\n",
       "      <td>0</td>\n",
       "      <td>0</td>\n",
       "      <td>0</td>\n",
       "      <td>0</td>\n",
       "      <td>0</td>\n",
       "      <td>0</td>\n",
       "      <td>0</td>\n",
       "      <td>1</td>\n",
       "      <td>0</td>\n",
       "      <td>1</td>\n",
       "    </tr>\n",
       "    <tr>\n",
       "      <th>...</th>\n",
       "      <td>...</td>\n",
       "      <td>...</td>\n",
       "      <td>...</td>\n",
       "      <td>...</td>\n",
       "      <td>...</td>\n",
       "      <td>...</td>\n",
       "      <td>...</td>\n",
       "      <td>...</td>\n",
       "      <td>...</td>\n",
       "      <td>...</td>\n",
       "      <td>...</td>\n",
       "      <td>...</td>\n",
       "      <td>...</td>\n",
       "      <td>...</td>\n",
       "      <td>...</td>\n",
       "      <td>...</td>\n",
       "      <td>...</td>\n",
       "      <td>...</td>\n",
       "      <td>...</td>\n",
       "      <td>...</td>\n",
       "      <td>...</td>\n",
       "    </tr>\n",
       "    <tr>\n",
       "      <th>2591996.0</th>\n",
       "      <td>-0.258819</td>\n",
       "      <td>0.965926</td>\n",
       "      <td>0</td>\n",
       "      <td>0</td>\n",
       "      <td>0</td>\n",
       "      <td>0</td>\n",
       "      <td>1</td>\n",
       "      <td>0</td>\n",
       "      <td>0</td>\n",
       "      <td>0</td>\n",
       "      <td>...</td>\n",
       "      <td>0</td>\n",
       "      <td>0</td>\n",
       "      <td>0</td>\n",
       "      <td>0</td>\n",
       "      <td>0</td>\n",
       "      <td>0</td>\n",
       "      <td>0</td>\n",
       "      <td>0</td>\n",
       "      <td>0</td>\n",
       "      <td>1</td>\n",
       "    </tr>\n",
       "    <tr>\n",
       "      <th>2591997.0</th>\n",
       "      <td>-0.258819</td>\n",
       "      <td>0.965926</td>\n",
       "      <td>0</td>\n",
       "      <td>0</td>\n",
       "      <td>0</td>\n",
       "      <td>0</td>\n",
       "      <td>1</td>\n",
       "      <td>0</td>\n",
       "      <td>0</td>\n",
       "      <td>0</td>\n",
       "      <td>...</td>\n",
       "      <td>0</td>\n",
       "      <td>0</td>\n",
       "      <td>0</td>\n",
       "      <td>0</td>\n",
       "      <td>0</td>\n",
       "      <td>0</td>\n",
       "      <td>0</td>\n",
       "      <td>0</td>\n",
       "      <td>0</td>\n",
       "      <td>1</td>\n",
       "    </tr>\n",
       "    <tr>\n",
       "      <th>2591998.0</th>\n",
       "      <td>-0.258819</td>\n",
       "      <td>0.965926</td>\n",
       "      <td>0</td>\n",
       "      <td>0</td>\n",
       "      <td>0</td>\n",
       "      <td>0</td>\n",
       "      <td>1</td>\n",
       "      <td>0</td>\n",
       "      <td>0</td>\n",
       "      <td>0</td>\n",
       "      <td>...</td>\n",
       "      <td>0</td>\n",
       "      <td>0</td>\n",
       "      <td>0</td>\n",
       "      <td>0</td>\n",
       "      <td>0</td>\n",
       "      <td>0</td>\n",
       "      <td>0</td>\n",
       "      <td>0</td>\n",
       "      <td>0</td>\n",
       "      <td>1</td>\n",
       "    </tr>\n",
       "    <tr>\n",
       "      <th>2591999.0</th>\n",
       "      <td>-0.258819</td>\n",
       "      <td>0.965926</td>\n",
       "      <td>0</td>\n",
       "      <td>0</td>\n",
       "      <td>0</td>\n",
       "      <td>0</td>\n",
       "      <td>1</td>\n",
       "      <td>0</td>\n",
       "      <td>0</td>\n",
       "      <td>0</td>\n",
       "      <td>...</td>\n",
       "      <td>0</td>\n",
       "      <td>0</td>\n",
       "      <td>0</td>\n",
       "      <td>0</td>\n",
       "      <td>0</td>\n",
       "      <td>0</td>\n",
       "      <td>0</td>\n",
       "      <td>0</td>\n",
       "      <td>0</td>\n",
       "      <td>1</td>\n",
       "    </tr>\n",
       "    <tr>\n",
       "      <th>2592000.0</th>\n",
       "      <td>-0.258819</td>\n",
       "      <td>0.965926</td>\n",
       "      <td>0</td>\n",
       "      <td>0</td>\n",
       "      <td>0</td>\n",
       "      <td>0</td>\n",
       "      <td>1</td>\n",
       "      <td>0</td>\n",
       "      <td>0</td>\n",
       "      <td>0</td>\n",
       "      <td>...</td>\n",
       "      <td>0</td>\n",
       "      <td>0</td>\n",
       "      <td>0</td>\n",
       "      <td>0</td>\n",
       "      <td>0</td>\n",
       "      <td>0</td>\n",
       "      <td>0</td>\n",
       "      <td>0</td>\n",
       "      <td>0</td>\n",
       "      <td>1</td>\n",
       "    </tr>\n",
       "  </tbody>\n",
       "</table>\n",
       "<p>2592000 rows × 49 columns</p>\n",
       "</div>"
      ],
      "text/plain": [
       "\n",
       "           HOUR_SIN  HOUR_COS  Ph1  Ph2  Ir1  Fo1  Fo2  Di3  Di4  Ph3  \u001b[33m...\u001b[0m  \\\n",
       "ID                                                                     \u001b[33m...\u001b[0m   \n",
       "\u001b[1;36m1.0\u001b[0m        \u001b[1;36m0.000000\u001b[0m  \u001b[1;36m1.000000\u001b[0m    \u001b[1;36m0\u001b[0m    \u001b[1;36m0\u001b[0m    \u001b[1;36m0\u001b[0m    \u001b[1;36m0\u001b[0m    \u001b[1;36m0\u001b[0m    \u001b[1;36m0\u001b[0m    \u001b[1;36m0\u001b[0m    \u001b[1;36m0\u001b[0m  \u001b[33m...\u001b[0m   \n",
       "\u001b[1;36m2.0\u001b[0m        \u001b[1;36m0.000000\u001b[0m  \u001b[1;36m1.000000\u001b[0m    \u001b[1;36m0\u001b[0m    \u001b[1;36m0\u001b[0m    \u001b[1;36m0\u001b[0m    \u001b[1;36m0\u001b[0m    \u001b[1;36m0\u001b[0m    \u001b[1;36m0\u001b[0m    \u001b[1;36m0\u001b[0m    \u001b[1;36m0\u001b[0m  \u001b[33m...\u001b[0m   \n",
       "\u001b[1;36m3.0\u001b[0m        \u001b[1;36m0.000000\u001b[0m  \u001b[1;36m1.000000\u001b[0m    \u001b[1;36m0\u001b[0m    \u001b[1;36m0\u001b[0m    \u001b[1;36m0\u001b[0m    \u001b[1;36m0\u001b[0m    \u001b[1;36m0\u001b[0m    \u001b[1;36m0\u001b[0m    \u001b[1;36m0\u001b[0m    \u001b[1;36m0\u001b[0m  \u001b[33m...\u001b[0m   \n",
       "\u001b[1;36m4.0\u001b[0m        \u001b[1;36m0.000000\u001b[0m  \u001b[1;36m1.000000\u001b[0m    \u001b[1;36m0\u001b[0m    \u001b[1;36m0\u001b[0m    \u001b[1;36m0\u001b[0m    \u001b[1;36m0\u001b[0m    \u001b[1;36m0\u001b[0m    \u001b[1;36m0\u001b[0m    \u001b[1;36m0\u001b[0m    \u001b[1;36m0\u001b[0m  \u001b[33m...\u001b[0m   \n",
       "\u001b[1;36m5.0\u001b[0m        \u001b[1;36m0.000000\u001b[0m  \u001b[1;36m1.000000\u001b[0m    \u001b[1;36m0\u001b[0m    \u001b[1;36m0\u001b[0m    \u001b[1;36m0\u001b[0m    \u001b[1;36m0\u001b[0m    \u001b[1;36m0\u001b[0m    \u001b[1;36m0\u001b[0m    \u001b[1;36m0\u001b[0m    \u001b[1;36m0\u001b[0m  \u001b[33m...\u001b[0m   \n",
       "\u001b[33m...\u001b[0m             \u001b[33m...\u001b[0m       \u001b[33m...\u001b[0m  \u001b[33m...\u001b[0m  \u001b[33m...\u001b[0m  \u001b[33m...\u001b[0m  \u001b[33m...\u001b[0m  \u001b[33m...\u001b[0m  \u001b[33m...\u001b[0m  \u001b[33m...\u001b[0m  \u001b[33m...\u001b[0m  \u001b[33m...\u001b[0m   \n",
       "\u001b[1;36m2591996.0\u001b[0m \u001b[1;36m-0.258819\u001b[0m  \u001b[1;36m0.965926\u001b[0m    \u001b[1;36m0\u001b[0m    \u001b[1;36m0\u001b[0m    \u001b[1;36m0\u001b[0m    \u001b[1;36m0\u001b[0m    \u001b[1;36m1\u001b[0m    \u001b[1;36m0\u001b[0m    \u001b[1;36m0\u001b[0m    \u001b[1;36m0\u001b[0m  \u001b[33m...\u001b[0m   \n",
       "\u001b[1;36m2591997.0\u001b[0m \u001b[1;36m-0.258819\u001b[0m  \u001b[1;36m0.965926\u001b[0m    \u001b[1;36m0\u001b[0m    \u001b[1;36m0\u001b[0m    \u001b[1;36m0\u001b[0m    \u001b[1;36m0\u001b[0m    \u001b[1;36m1\u001b[0m    \u001b[1;36m0\u001b[0m    \u001b[1;36m0\u001b[0m    \u001b[1;36m0\u001b[0m  \u001b[33m...\u001b[0m   \n",
       "\u001b[1;36m2591998.0\u001b[0m \u001b[1;36m-0.258819\u001b[0m  \u001b[1;36m0.965926\u001b[0m    \u001b[1;36m0\u001b[0m    \u001b[1;36m0\u001b[0m    \u001b[1;36m0\u001b[0m    \u001b[1;36m0\u001b[0m    \u001b[1;36m1\u001b[0m    \u001b[1;36m0\u001b[0m    \u001b[1;36m0\u001b[0m    \u001b[1;36m0\u001b[0m  \u001b[33m...\u001b[0m   \n",
       "\u001b[1;36m2591999.0\u001b[0m \u001b[1;36m-0.258819\u001b[0m  \u001b[1;36m0.965926\u001b[0m    \u001b[1;36m0\u001b[0m    \u001b[1;36m0\u001b[0m    \u001b[1;36m0\u001b[0m    \u001b[1;36m0\u001b[0m    \u001b[1;36m1\u001b[0m    \u001b[1;36m0\u001b[0m    \u001b[1;36m0\u001b[0m    \u001b[1;36m0\u001b[0m  \u001b[33m...\u001b[0m   \n",
       "\u001b[1;36m2592000.0\u001b[0m \u001b[1;36m-0.258819\u001b[0m  \u001b[1;36m0.965926\u001b[0m    \u001b[1;36m0\u001b[0m    \u001b[1;36m0\u001b[0m    \u001b[1;36m0\u001b[0m    \u001b[1;36m0\u001b[0m    \u001b[1;36m1\u001b[0m    \u001b[1;36m0\u001b[0m    \u001b[1;36m0\u001b[0m    \u001b[1;36m0\u001b[0m  \u001b[33m...\u001b[0m   \n",
       "\n",
       "           Preparing_Lunch  Reading_Book  Shaving  Sleeping  Studying  \\\n",
       "ID                                                                      \n",
       "\u001b[1;36m1.0\u001b[0m                      \u001b[1;36m0\u001b[0m             \u001b[1;36m0\u001b[0m        \u001b[1;36m0\u001b[0m         \u001b[1;36m0\u001b[0m         \u001b[1;36m0\u001b[0m   \n",
       "\u001b[1;36m2.0\u001b[0m                      \u001b[1;36m0\u001b[0m             \u001b[1;36m0\u001b[0m        \u001b[1;36m0\u001b[0m         \u001b[1;36m0\u001b[0m         \u001b[1;36m0\u001b[0m   \n",
       "\u001b[1;36m3.0\u001b[0m                      \u001b[1;36m0\u001b[0m             \u001b[1;36m0\u001b[0m        \u001b[1;36m0\u001b[0m         \u001b[1;36m0\u001b[0m         \u001b[1;36m0\u001b[0m   \n",
       "\u001b[1;36m4.0\u001b[0m                      \u001b[1;36m0\u001b[0m             \u001b[1;36m0\u001b[0m        \u001b[1;36m0\u001b[0m         \u001b[1;36m0\u001b[0m         \u001b[1;36m0\u001b[0m   \n",
       "\u001b[1;36m5.0\u001b[0m                      \u001b[1;36m0\u001b[0m             \u001b[1;36m0\u001b[0m        \u001b[1;36m0\u001b[0m         \u001b[1;36m0\u001b[0m         \u001b[1;36m0\u001b[0m   \n",
       "\u001b[33m...\u001b[0m                    \u001b[33m...\u001b[0m           \u001b[33m...\u001b[0m      \u001b[33m...\u001b[0m       \u001b[33m...\u001b[0m       \u001b[33m...\u001b[0m   \n",
       "\u001b[1;36m2591996.0\u001b[0m                \u001b[1;36m0\u001b[0m             \u001b[1;36m0\u001b[0m        \u001b[1;36m0\u001b[0m         \u001b[1;36m0\u001b[0m         \u001b[1;36m0\u001b[0m   \n",
       "\u001b[1;36m2591997.0\u001b[0m                \u001b[1;36m0\u001b[0m             \u001b[1;36m0\u001b[0m        \u001b[1;36m0\u001b[0m         \u001b[1;36m0\u001b[0m         \u001b[1;36m0\u001b[0m   \n",
       "\u001b[1;36m2591998.0\u001b[0m                \u001b[1;36m0\u001b[0m             \u001b[1;36m0\u001b[0m        \u001b[1;36m0\u001b[0m         \u001b[1;36m0\u001b[0m         \u001b[1;36m0\u001b[0m   \n",
       "\u001b[1;36m2591999.0\u001b[0m                \u001b[1;36m0\u001b[0m             \u001b[1;36m0\u001b[0m        \u001b[1;36m0\u001b[0m         \u001b[1;36m0\u001b[0m         \u001b[1;36m0\u001b[0m   \n",
       "\u001b[1;36m2592000.0\u001b[0m                \u001b[1;36m0\u001b[0m             \u001b[1;36m0\u001b[0m        \u001b[1;36m0\u001b[0m         \u001b[1;36m0\u001b[0m         \u001b[1;36m0\u001b[0m   \n",
       "\n",
       "           Talking_on_the_Phone  Toileting  Using_Internet  Washing_Dishes  \\\n",
       "ID                                                                           \n",
       "\u001b[1;36m1.0\u001b[0m                           \u001b[1;36m0\u001b[0m          \u001b[1;36m0\u001b[0m               \u001b[1;36m1\u001b[0m               \u001b[1;36m0\u001b[0m   \n",
       "\u001b[1;36m2.0\u001b[0m                           \u001b[1;36m0\u001b[0m          \u001b[1;36m0\u001b[0m               \u001b[1;36m1\u001b[0m               \u001b[1;36m0\u001b[0m   \n",
       "\u001b[1;36m3.0\u001b[0m                           \u001b[1;36m0\u001b[0m          \u001b[1;36m0\u001b[0m               \u001b[1;36m1\u001b[0m               \u001b[1;36m0\u001b[0m   \n",
       "\u001b[1;36m4.0\u001b[0m                           \u001b[1;36m0\u001b[0m          \u001b[1;36m0\u001b[0m               \u001b[1;36m1\u001b[0m               \u001b[1;36m0\u001b[0m   \n",
       "\u001b[1;36m5.0\u001b[0m                           \u001b[1;36m0\u001b[0m          \u001b[1;36m0\u001b[0m               \u001b[1;36m1\u001b[0m               \u001b[1;36m0\u001b[0m   \n",
       "\u001b[33m...\u001b[0m                         \u001b[33m...\u001b[0m        \u001b[33m...\u001b[0m             \u001b[33m...\u001b[0m             \u001b[33m...\u001b[0m   \n",
       "\u001b[1;36m2591996.0\u001b[0m                     \u001b[1;36m0\u001b[0m          \u001b[1;36m0\u001b[0m               \u001b[1;36m0\u001b[0m               \u001b[1;36m0\u001b[0m   \n",
       "\u001b[1;36m2591997.0\u001b[0m                     \u001b[1;36m0\u001b[0m          \u001b[1;36m0\u001b[0m               \u001b[1;36m0\u001b[0m               \u001b[1;36m0\u001b[0m   \n",
       "\u001b[1;36m2591998.0\u001b[0m                     \u001b[1;36m0\u001b[0m          \u001b[1;36m0\u001b[0m               \u001b[1;36m0\u001b[0m               \u001b[1;36m0\u001b[0m   \n",
       "\u001b[1;36m2591999.0\u001b[0m                     \u001b[1;36m0\u001b[0m          \u001b[1;36m0\u001b[0m               \u001b[1;36m0\u001b[0m               \u001b[1;36m0\u001b[0m   \n",
       "\u001b[1;36m2592000.0\u001b[0m                     \u001b[1;36m0\u001b[0m          \u001b[1;36m0\u001b[0m               \u001b[1;36m0\u001b[0m               \u001b[1;36m0\u001b[0m   \n",
       "\n",
       "           Watching_TV  \n",
       "ID                      \n",
       "\u001b[1;36m1.0\u001b[0m                  \u001b[1;36m1\u001b[0m  \n",
       "\u001b[1;36m2.0\u001b[0m                  \u001b[1;36m1\u001b[0m  \n",
       "\u001b[1;36m3.0\u001b[0m                  \u001b[1;36m1\u001b[0m  \n",
       "\u001b[1;36m4.0\u001b[0m                  \u001b[1;36m1\u001b[0m  \n",
       "\u001b[1;36m5.0\u001b[0m                  \u001b[1;36m1\u001b[0m  \n",
       "\u001b[33m...\u001b[0m                \u001b[33m...\u001b[0m  \n",
       "\u001b[1;36m2591996.0\u001b[0m            \u001b[1;36m1\u001b[0m  \n",
       "\u001b[1;36m2591997.0\u001b[0m            \u001b[1;36m1\u001b[0m  \n",
       "\u001b[1;36m2591998.0\u001b[0m            \u001b[1;36m1\u001b[0m  \n",
       "\u001b[1;36m2591999.0\u001b[0m            \u001b[1;36m1\u001b[0m  \n",
       "\u001b[1;36m2592000.0\u001b[0m            \u001b[1;36m1\u001b[0m  \n",
       "\n",
       "\u001b[1m[\u001b[0m\u001b[1;36m2592000\u001b[0m rows x \u001b[1;36m49\u001b[0m columns\u001b[1m]\u001b[0m"
      ]
     },
     "execution_count": 6,
     "metadata": {},
     "output_type": "execute_result"
    }
   ],
   "source": [
    "dataset = dataset.sort_values(by=['ID']).set_index('ID')\n",
    "dataset"
   ]
  },
  {
   "cell_type": "code",
   "execution_count": 7,
   "id": "adee163d",
   "metadata": {},
   "outputs": [
    {
     "data": {
      "text/html": [
       "<pre style=\"white-space:pre;overflow-x:auto;line-height:normal;font-family:Menlo,'DejaVu Sans Mono',consolas,'Courier New',monospace\"></pre>\n"
      ],
      "text/plain": []
     },
     "metadata": {},
     "output_type": "display_data"
    },
    {
     "data": {
      "text/plain": [
       "\n",
       "\u001b[1;35mIndex\u001b[0m\u001b[1m(\u001b[0m\u001b[1m[\u001b[0m\u001b[32m'HOUR_SIN'\u001b[0m, \u001b[32m'HOUR_COS'\u001b[0m, \u001b[32m'Ph1'\u001b[0m, \u001b[32m'Ph2'\u001b[0m, \u001b[32m'Ir1'\u001b[0m, \u001b[32m'Fo1'\u001b[0m, \u001b[32m'Fo2'\u001b[0m, \u001b[32m'Di3'\u001b[0m, \u001b[32m'Di4'\u001b[0m,\n",
       "       \u001b[32m'Ph3'\u001b[0m, \u001b[32m'Ph4'\u001b[0m, \u001b[32m'Ph5'\u001b[0m, \u001b[32m'Ph6'\u001b[0m, \u001b[32m'Co1'\u001b[0m, \u001b[32m'Co2'\u001b[0m, \u001b[32m'Co3'\u001b[0m, \u001b[32m'So1'\u001b[0m, \u001b[32m'So2'\u001b[0m, \u001b[32m'Di1'\u001b[0m,\n",
       "       \u001b[32m'Di2'\u001b[0m, \u001b[32m'Te1'\u001b[0m, \u001b[32m'Fo3'\u001b[0m, \u001b[32m'Brushing_Teeth'\u001b[0m, \u001b[32m'Changing_Clothes'\u001b[0m, \u001b[32m'Cleaning'\u001b[0m,\n",
       "       \u001b[32m'Going_Out'\u001b[0m, \u001b[32m'Having_Breakfast'\u001b[0m, \u001b[32m'Having_Conversation'\u001b[0m, \u001b[32m'Having_Dinner'\u001b[0m,\n",
       "       \u001b[32m'Having_Guest'\u001b[0m, \u001b[32m'Having_Lunch'\u001b[0m, \u001b[32m'Having_Shower'\u001b[0m, \u001b[32m'Having_Snack'\u001b[0m,\n",
       "       \u001b[32m'Laundry'\u001b[0m, \u001b[32m'Listening_to_Music'\u001b[0m, \u001b[32m'Napping'\u001b[0m, \u001b[32m'Other'\u001b[0m,\n",
       "       \u001b[32m'Preparing_Breakfast'\u001b[0m, \u001b[32m'Preparing_Dinner'\u001b[0m, \u001b[32m'Preparing_Lunch'\u001b[0m,\n",
       "       \u001b[32m'Reading_Book'\u001b[0m, \u001b[32m'Shaving'\u001b[0m, \u001b[32m'Sleeping'\u001b[0m, \u001b[32m'Studying'\u001b[0m,\n",
       "       \u001b[32m'Talking_on_the_Phone'\u001b[0m, \u001b[32m'Toileting'\u001b[0m, \u001b[32m'Using_Internet'\u001b[0m, \u001b[32m'Washing_Dishes'\u001b[0m,\n",
       "       \u001b[32m'Watching_TV'\u001b[0m\u001b[1m]\u001b[0m,\n",
       "      \u001b[33mdtype\u001b[0m=\u001b[32m'object'\u001b[0m\u001b[1m)\u001b[0m"
      ]
     },
     "execution_count": 7,
     "metadata": {},
     "output_type": "execute_result"
    }
   ],
   "source": [
    "dataset.columns"
   ]
  },
  {
   "cell_type": "code",
   "execution_count": 8,
   "id": "0e14d7be",
   "metadata": {},
   "outputs": [],
   "source": [
    "X = dataset[\n",
    "    [\n",
    "        'HOUR_SIN',\n",
    "        'HOUR_COS',\n",
    "        'Ph1',\n",
    "        'Ph2',\n",
    "        'Ir1',\n",
    "        'Fo1',\n",
    "        'Fo2',\n",
    "        'Di3',\n",
    "        'Di4',\n",
    "        'Ph3',\n",
    "        'Ph4',\n",
    "        'Ph5',\n",
    "        'Ph6',\n",
    "        'Co1',\n",
    "        'Co2',\n",
    "        'Co3',\n",
    "        'So1',\n",
    "        'So2',\n",
    "        'Di1',\n",
    "        'Di2',\n",
    "        'Te1',\n",
    "        'Fo3',\n",
    "    ]\n",
    "]\n",
    "\n",
    "y = dataset[\n",
    "    [\n",
    "        'Brushing_Teeth',\n",
    "        'Changing_Clothes',\n",
    "        'Cleaning',\n",
    "        'Going_Out',\n",
    "        'Having_Breakfast',\n",
    "        'Having_Conversation',\n",
    "        'Having_Dinner',\n",
    "        'Having_Guest',\n",
    "        'Having_Lunch',\n",
    "        'Having_Shower',\n",
    "        'Having_Snack',\n",
    "        'Laundry',\n",
    "        'Listening_to_Music',\n",
    "        'Napping',\n",
    "        'Other',\n",
    "        'Preparing_Breakfast',\n",
    "        'Preparing_Dinner',\n",
    "        'Preparing_Lunch',\n",
    "        'Reading_Book',\n",
    "        'Shaving',\n",
    "        'Sleeping',\n",
    "        'Studying',\n",
    "        'Talking_on_the_Phone',\n",
    "        'Toileting',\n",
    "        'Using_Internet',\n",
    "        'Washing_Dishes',\n",
    "        'Watching_TV'\n",
    "    ]\n",
    "]"
   ]
  },
  {
   "cell_type": "code",
   "execution_count": 23,
   "id": "e0beca37",
   "metadata": {},
   "outputs": [
    {
     "data": {
      "text/html": [
       "<pre style=\"white-space:pre;overflow-x:auto;line-height:normal;font-family:Menlo,'DejaVu Sans Mono',consolas,'Courier New',monospace\"></pre>\n"
      ],
      "text/plain": []
     },
     "metadata": {},
     "output_type": "display_data"
    },
    {
     "data": {
      "text/plain": [
       "\u001b[1m(\u001b[0m\u001b[1;36m2592000\u001b[0m, \u001b[1;36m22\u001b[0m\u001b[1m)\u001b[0m"
      ]
     },
     "execution_count": 23,
     "metadata": {},
     "output_type": "execute_result"
    }
   ],
   "source": [
    "X.shape"
   ]
  },
  {
   "cell_type": "code",
   "execution_count": 27,
   "id": "5c817053",
   "metadata": {},
   "outputs": [],
   "source": [
    "window_size = 310\n",
    "overlap = 0.5\n",
    "\n",
    "\n",
    "windowed_X = []\n",
    "windowed_y = []\n",
    "\n",
    "samples_number = math.floor(((X.shape[0] - window_size) / (window_size * overlap)) + 1)\n",
    "\n",
    "for i in range(samples_number):\n",
    "    windowed_X += [X.iloc[int(window_size*i*overlap):int(window_size*(i*overlap + 1))].values]\n",
    "    windowed_y += [y.iloc[int(window_size*i*overlap):int(window_size*(i*overlap + 1))].values]\n",
    "\n",
    "windowed_X = np.stack(windowed_X, axis=0)\n"
   ]
  },
  {
   "cell_type": "code",
   "execution_count": 29,
   "id": "1cf0b694",
   "metadata": {},
   "outputs": [
    {
     "data": {
      "text/html": [
       "<pre style=\"white-space:pre;overflow-x:auto;line-height:normal;font-family:Menlo,'DejaVu Sans Mono',consolas,'Courier New',monospace\"></pre>\n"
      ],
      "text/plain": []
     },
     "metadata": {},
     "output_type": "display_data"
    },
    {
     "data": {
      "text/plain": [
       "\u001b[1m(\u001b[0m\u001b[1;36m16721\u001b[0m, \u001b[1;36m310\u001b[0m, \u001b[1;36m22\u001b[0m\u001b[1m)\u001b[0m"
      ]
     },
     "execution_count": 29,
     "metadata": {},
     "output_type": "execute_result"
    }
   ],
   "source": [
    "windowed_X.shape"
   ]
  },
  {
   "cell_type": "code",
   "execution_count": 105,
   "id": "64c246e5",
   "metadata": {},
   "outputs": [
    {
     "name": "stdout",
     "output_type": "stream",
     "text": [
      "531805.0 532115.0\n"
     ]
    }
   ],
   "source": [
    "#((60000, 28, 28), (60000,))\n",
    "\n",
    "i = 3431\n",
    "print(window_size*i*overlap, window_size*(i*overlap + 1))\n",
    "test = y.iloc[int(window_size*i*overlap):int(window_size*(i*overlap + 1))]\n",
    "\n",
    "for i in test.sum(axis=1):\n",
    "    if i > 2:\n",
    "        print(i)\n"
   ]
  },
  {
   "cell_type": "code",
   "execution_count": 67,
   "id": "e622b526",
   "metadata": {},
   "outputs": [
    {
     "name": "stdout",
     "output_type": "stream",
     "text": [
      "3431\n",
      "4952\n",
      "6720\n",
      "11025\n",
      "13878\n"
     ]
    }
   ],
   "source": [
    "pd.set_option('display.max_columns', None)\n",
    "\n",
    "samples_number = math.floor(((X.shape[0] - window_size) / (window_size * overlap)) + 1)\n",
    "\n",
    "for i in range(samples_number):\n",
    "    test = y.iloc[int(window_size*i*overlap):int(window_size*(i*overlap + 1))]\n",
    "\n",
    "    if test.mode().sum(axis=1)[0] > 2:\n",
    "        print(i)"
   ]
  },
  {
   "cell_type": "code",
   "execution_count": 106,
   "id": "dd8a3e10",
   "metadata": {},
   "outputs": [
    {
     "data": {
      "text/html": [
       "<pre style=\"white-space:pre;overflow-x:auto;line-height:normal;font-family:Menlo,'DejaVu Sans Mono',consolas,'Courier New',monospace\"></pre>\n"
      ],
      "text/plain": []
     },
     "metadata": {},
     "output_type": "display_data"
    },
    {
     "data": {
      "text/plain": [
       "\n",
       "Brushing_Teeth          \u001b[1;36m0.635484\u001b[0m\n",
       "Changing_Clothes        \u001b[1;36m0.000000\u001b[0m\n",
       "Cleaning                \u001b[1;36m0.000000\u001b[0m\n",
       "Going_Out               \u001b[1;36m0.000000\u001b[0m\n",
       "Having_Breakfast        \u001b[1;36m0.000000\u001b[0m\n",
       "Having_Conversation     \u001b[1;36m0.000000\u001b[0m\n",
       "Having_Dinner           \u001b[1;36m0.000000\u001b[0m\n",
       "Having_Guest            \u001b[1;36m0.000000\u001b[0m\n",
       "Having_Lunch            \u001b[1;36m0.000000\u001b[0m\n",
       "Having_Shower           \u001b[1;36m0.000000\u001b[0m\n",
       "Having_Snack            \u001b[1;36m0.000000\u001b[0m\n",
       "Laundry                 \u001b[1;36m0.000000\u001b[0m\n",
       "Listening_to_Music      \u001b[1;36m0.000000\u001b[0m\n",
       "Napping                 \u001b[1;36m0.000000\u001b[0m\n",
       "Other                   \u001b[1;36m0.212903\u001b[0m\n",
       "Preparing_Breakfast     \u001b[1;36m0.000000\u001b[0m\n",
       "Preparing_Dinner        \u001b[1;36m0.000000\u001b[0m\n",
       "Preparing_Lunch         \u001b[1;36m0.000000\u001b[0m\n",
       "Reading_Book            \u001b[1;36m0.000000\u001b[0m\n",
       "Shaving                 \u001b[1;36m0.000000\u001b[0m\n",
       "Sleeping                \u001b[1;36m0.000000\u001b[0m\n",
       "Studying                \u001b[1;36m0.000000\u001b[0m\n",
       "Talking_on_the_Phone    \u001b[1;36m0.000000\u001b[0m\n",
       "Toileting               \u001b[1;36m0.590323\u001b[0m\n",
       "Using_Internet          \u001b[1;36m0.561290\u001b[0m\n",
       "Washing_Dishes          \u001b[1;36m0.000000\u001b[0m\n",
       "Watching_TV             \u001b[1;36m0.000000\u001b[0m\n",
       "dtype: float64"
      ]
     },
     "execution_count": 106,
     "metadata": {},
     "output_type": "execute_result"
    }
   ],
   "source": [
    "test.sum()/310"
   ]
  },
  {
   "cell_type": "code",
   "execution_count": 118,
   "id": "4e77991e",
   "metadata": {},
   "outputs": [
    {
     "data": {
      "text/html": [
       "<pre style=\"white-space:pre;overflow-x:auto;line-height:normal;font-family:Menlo,'DejaVu Sans Mono',consolas,'Courier New',monospace\"></pre>\n"
      ],
      "text/plain": []
     },
     "metadata": {},
     "output_type": "display_data"
    },
    {
     "data": {
      "text/plain": [
       "\n",
       "\u001b[1;35marray\u001b[0m\u001b[1m(\u001b[0m\u001b[1m[\u001b[0m\u001b[1m[\u001b[0m\u001b[1m[\u001b[0m\u001b[1;36m0\u001b[0m, \u001b[1;36m0\u001b[0m, \u001b[1;36m0\u001b[0m, \u001b[33m...\u001b[0m, \u001b[1;36m0\u001b[0m, \u001b[1;36m0\u001b[0m, \u001b[1;36m0\u001b[0m\u001b[1m]\u001b[0m\u001b[1m]\u001b[0m,\n",
       "\n",
       "       \u001b[1m[\u001b[0m\u001b[1m[\u001b[0m\u001b[1;36m0\u001b[0m, \u001b[1;36m0\u001b[0m, \u001b[1;36m0\u001b[0m, \u001b[33m...\u001b[0m, \u001b[1;36m0\u001b[0m, \u001b[1;36m0\u001b[0m, \u001b[1;36m0\u001b[0m\u001b[1m]\u001b[0m\u001b[1m]\u001b[0m,\n",
       "\n",
       "       \u001b[1m[\u001b[0m\u001b[1m[\u001b[0m\u001b[1;36m0\u001b[0m, \u001b[1;36m0\u001b[0m, \u001b[1;36m0\u001b[0m, \u001b[33m...\u001b[0m, \u001b[1;36m0\u001b[0m, \u001b[1;36m0\u001b[0m, \u001b[1;36m0\u001b[0m\u001b[1m]\u001b[0m\u001b[1m]\u001b[0m,\n",
       "\n",
       "       \u001b[33m...\u001b[0m,\n",
       "\n",
       "       \u001b[1m[\u001b[0m\u001b[1m[\u001b[0m\u001b[1;36m0\u001b[0m, \u001b[1;36m0\u001b[0m, \u001b[1;36m0\u001b[0m, \u001b[33m...\u001b[0m, \u001b[1;36m1\u001b[0m, \u001b[1;36m0\u001b[0m, \u001b[1;36m0\u001b[0m\u001b[1m]\u001b[0m\u001b[1m]\u001b[0m,\n",
       "\n",
       "       \u001b[1m[\u001b[0m\u001b[1m[\u001b[0m\u001b[1;36m0\u001b[0m, \u001b[1;36m0\u001b[0m, \u001b[1;36m0\u001b[0m, \u001b[33m...\u001b[0m, \u001b[1;36m1\u001b[0m, \u001b[1;36m0\u001b[0m, \u001b[1;36m0\u001b[0m\u001b[1m]\u001b[0m\u001b[1m]\u001b[0m,\n",
       "\n",
       "       \u001b[1m[\u001b[0m\u001b[1m[\u001b[0m\u001b[1;36m0\u001b[0m, \u001b[1;36m0\u001b[0m, \u001b[1;36m0\u001b[0m, \u001b[33m...\u001b[0m, \u001b[1;36m1\u001b[0m, \u001b[1;36m0\u001b[0m, \u001b[1;36m0\u001b[0m\u001b[1m]\u001b[0m\u001b[1m]\u001b[0m\u001b[1m]\u001b[0m, \u001b[33mdtype\u001b[0m=\u001b[35mint32\u001b[0m\u001b[1m)\u001b[0m"
      ]
     },
     "execution_count": 118,
     "metadata": {},
     "output_type": "execute_result"
    }
   ],
   "source": [
    "test.values[:, None, :]"
   ]
  },
  {
   "cell_type": "code",
   "execution_count": 111,
   "id": "55847a8c",
   "metadata": {},
   "outputs": [
    {
     "data": {
      "text/html": [
       "<pre style=\"white-space:pre;overflow-x:auto;line-height:normal;font-family:Menlo,'DejaVu Sans Mono',consolas,'Courier New',monospace\"></pre>\n"
      ],
      "text/plain": []
     },
     "metadata": {},
     "output_type": "display_data"
    },
    {
     "data": {
      "text/plain": [
       "\n",
       "\u001b[1;35marray\u001b[0m\u001b[1m(\u001b[0m\u001b[1m[\u001b[0m\u001b[1m[\u001b[0m\u001b[1;36m63.5483871\u001b[0m ,  \u001b[1;36m0\u001b[0m.        ,  \u001b[1;36m0\u001b[0m.        ,  \u001b[1;36m0\u001b[0m.        ,  \u001b[1;36m0\u001b[0m.        ,\n",
       "         \u001b[1;36m0\u001b[0m.        ,  \u001b[1;36m0\u001b[0m.        ,  \u001b[1;36m0\u001b[0m.        ,  \u001b[1;36m0\u001b[0m.        ,  \u001b[1;36m0\u001b[0m.        ,\n",
       "         \u001b[1;36m0\u001b[0m.        ,  \u001b[1;36m0\u001b[0m.        ,  \u001b[1;36m0\u001b[0m.        ,  \u001b[1;36m0\u001b[0m.        ,  \u001b[1;36m0\u001b[0m.        ,\n",
       "         \u001b[1;36m0\u001b[0m.        ,  \u001b[1;36m0\u001b[0m.        ,  \u001b[1;36m0\u001b[0m.        ,  \u001b[1;36m0\u001b[0m.        ,  \u001b[1;36m0\u001b[0m.        ,\n",
       "         \u001b[1;36m0\u001b[0m.        ,  \u001b[1;36m0\u001b[0m.        ,  \u001b[1;36m0\u001b[0m.        , \u001b[1;36m22.58064516\u001b[0m, \u001b[1;36m40.96774194\u001b[0m,\n",
       "         \u001b[1;36m0\u001b[0m.        ,  \u001b[1;36m0\u001b[0m.        \u001b[1m]\u001b[0m,\n",
       "       \u001b[1m[\u001b[0m \u001b[1;36m0\u001b[0m.        ,  \u001b[1;36m0\u001b[0m.        ,  \u001b[1;36m0\u001b[0m.        ,  \u001b[1;36m0\u001b[0m.        ,  \u001b[1;36m0\u001b[0m.        ,\n",
       "         \u001b[1;36m0\u001b[0m.        ,  \u001b[1;36m0\u001b[0m.        ,  \u001b[1;36m0\u001b[0m.        ,  \u001b[1;36m0\u001b[0m.        ,  \u001b[1;36m0\u001b[0m.        ,\n",
       "         \u001b[1;36m0\u001b[0m.        ,  \u001b[1;36m0\u001b[0m.        ,  \u001b[1;36m0\u001b[0m.        ,  \u001b[1;36m0\u001b[0m.        ,  \u001b[1;36m0\u001b[0m.        ,\n",
       "         \u001b[1;36m0\u001b[0m.        ,  \u001b[1;36m0\u001b[0m.        ,  \u001b[1;36m0\u001b[0m.        ,  \u001b[1;36m0\u001b[0m.        ,  \u001b[1;36m0\u001b[0m.        ,\n",
       "         \u001b[1;36m0\u001b[0m.        ,  \u001b[1;36m0\u001b[0m.        ,  \u001b[1;36m0\u001b[0m.        ,  \u001b[1;36m0\u001b[0m.        ,  \u001b[1;36m0\u001b[0m.        ,\n",
       "         \u001b[1;36m0\u001b[0m.        ,  \u001b[1;36m0\u001b[0m.        \u001b[1m]\u001b[0m,\n",
       "       \u001b[1m[\u001b[0m \u001b[1;36m0\u001b[0m.        ,  \u001b[1;36m0\u001b[0m.        ,  \u001b[1;36m0\u001b[0m.        ,  \u001b[1;36m0\u001b[0m.        ,  \u001b[1;36m0\u001b[0m.        ,\n",
       "         \u001b[1;36m0\u001b[0m.        ,  \u001b[1;36m0\u001b[0m.        ,  \u001b[1;36m0\u001b[0m.        ,  \u001b[1;36m0\u001b[0m.        ,  \u001b[1;36m0\u001b[0m.        ,\n",
       "         \u001b[1;36m0\u001b[0m.        ,  \u001b[1;36m0\u001b[0m.        ,  \u001b[1;36m0\u001b[0m.        ,  \u001b[1;36m0\u001b[0m.        ,  \u001b[1;36m0\u001b[0m.        ,\n",
       "         \u001b[1;36m0\u001b[0m.        ,  \u001b[1;36m0\u001b[0m.        ,  \u001b[1;36m0\u001b[0m.        ,  \u001b[1;36m0\u001b[0m.        ,  \u001b[1;36m0\u001b[0m.        ,\n",
       "         \u001b[1;36m0\u001b[0m.        ,  \u001b[1;36m0\u001b[0m.        ,  \u001b[1;36m0\u001b[0m.        ,  \u001b[1;36m0\u001b[0m.        ,  \u001b[1;36m0\u001b[0m.        ,\n",
       "         \u001b[1;36m0\u001b[0m.        ,  \u001b[1;36m0\u001b[0m.        \u001b[1m]\u001b[0m,\n",
       "       \u001b[1m[\u001b[0m \u001b[1;36m0\u001b[0m.        ,  \u001b[1;36m0\u001b[0m.        ,  \u001b[1;36m0\u001b[0m.        ,  \u001b[1;36m0\u001b[0m.        ,  \u001b[1;36m0\u001b[0m.        ,\n",
       "         \u001b[1;36m0\u001b[0m.        ,  \u001b[1;36m0\u001b[0m.        ,  \u001b[1;36m0\u001b[0m.        ,  \u001b[1;36m0\u001b[0m.        ,  \u001b[1;36m0\u001b[0m.        ,\n",
       "         \u001b[1;36m0\u001b[0m.        ,  \u001b[1;36m0\u001b[0m.        ,  \u001b[1;36m0\u001b[0m.        ,  \u001b[1;36m0\u001b[0m.        ,  \u001b[1;36m0\u001b[0m.        ,\n",
       "         \u001b[1;36m0\u001b[0m.        ,  \u001b[1;36m0\u001b[0m.        ,  \u001b[1;36m0\u001b[0m.        ,  \u001b[1;36m0\u001b[0m.        ,  \u001b[1;36m0\u001b[0m.        ,\n",
       "         \u001b[1;36m0\u001b[0m.        ,  \u001b[1;36m0\u001b[0m.        ,  \u001b[1;36m0\u001b[0m.        ,  \u001b[1;36m0\u001b[0m.        ,  \u001b[1;36m0\u001b[0m.        ,\n",
       "         \u001b[1;36m0\u001b[0m.        ,  \u001b[1;36m0\u001b[0m.        \u001b[1m]\u001b[0m,\n",
       "       \u001b[1m[\u001b[0m \u001b[1;36m0\u001b[0m.        ,  \u001b[1;36m0\u001b[0m.        ,  \u001b[1;36m0\u001b[0m.        ,  \u001b[1;36m0\u001b[0m.        ,  \u001b[1;36m0\u001b[0m.        ,\n",
       "         \u001b[1;36m0\u001b[0m.        ,  \u001b[1;36m0\u001b[0m.        ,  \u001b[1;36m0\u001b[0m.        ,  \u001b[1;36m0\u001b[0m.        ,  \u001b[1;36m0\u001b[0m.        ,\n",
       "         \u001b[1;36m0\u001b[0m.        ,  \u001b[1;36m0\u001b[0m.        ,  \u001b[1;36m0\u001b[0m.        ,  \u001b[1;36m0\u001b[0m.        ,  \u001b[1;36m0\u001b[0m.        ,\n",
       "         \u001b[1;36m0\u001b[0m.        ,  \u001b[1;36m0\u001b[0m.        ,  \u001b[1;36m0\u001b[0m.        ,  \u001b[1;36m0\u001b[0m.        ,  \u001b[1;36m0\u001b[0m.        ,\n",
       "         \u001b[1;36m0\u001b[0m.        ,  \u001b[1;36m0\u001b[0m.        ,  \u001b[1;36m0\u001b[0m.        ,  \u001b[1;36m0\u001b[0m.        ,  \u001b[1;36m0\u001b[0m.        ,\n",
       "         \u001b[1;36m0\u001b[0m.        ,  \u001b[1;36m0\u001b[0m.        \u001b[1m]\u001b[0m,\n",
       "       \u001b[1m[\u001b[0m \u001b[1;36m0\u001b[0m.        ,  \u001b[1;36m0\u001b[0m.        ,  \u001b[1;36m0\u001b[0m.        ,  \u001b[1;36m0\u001b[0m.        ,  \u001b[1;36m0\u001b[0m.        ,\n",
       "         \u001b[1;36m0\u001b[0m.        ,  \u001b[1;36m0\u001b[0m.        ,  \u001b[1;36m0\u001b[0m.        ,  \u001b[1;36m0\u001b[0m.        ,  \u001b[1;36m0\u001b[0m.        ,\n",
       "         \u001b[1;36m0\u001b[0m.        ,  \u001b[1;36m0\u001b[0m.        ,  \u001b[1;36m0\u001b[0m.        ,  \u001b[1;36m0\u001b[0m.        ,  \u001b[1;36m0\u001b[0m.        ,\n",
       "         \u001b[1;36m0\u001b[0m.        ,  \u001b[1;36m0\u001b[0m.        ,  \u001b[1;36m0\u001b[0m.        ,  \u001b[1;36m0\u001b[0m.        ,  \u001b[1;36m0\u001b[0m.        ,\n",
       "         \u001b[1;36m0\u001b[0m.        ,  \u001b[1;36m0\u001b[0m.        ,  \u001b[1;36m0\u001b[0m.        ,  \u001b[1;36m0\u001b[0m.        ,  \u001b[1;36m0\u001b[0m.        ,\n",
       "         \u001b[1;36m0\u001b[0m.        ,  \u001b[1;36m0\u001b[0m.        \u001b[1m]\u001b[0m,\n",
       "       \u001b[1m[\u001b[0m \u001b[1;36m0\u001b[0m.        ,  \u001b[1;36m0\u001b[0m.        ,  \u001b[1;36m0\u001b[0m.        ,  \u001b[1;36m0\u001b[0m.        ,  \u001b[1;36m0\u001b[0m.        ,\n",
       "         \u001b[1;36m0\u001b[0m.        ,  \u001b[1;36m0\u001b[0m.        ,  \u001b[1;36m0\u001b[0m.        ,  \u001b[1;36m0\u001b[0m.        ,  \u001b[1;36m0\u001b[0m.        ,\n",
       "         \u001b[1;36m0\u001b[0m.        ,  \u001b[1;36m0\u001b[0m.        ,  \u001b[1;36m0\u001b[0m.        ,  \u001b[1;36m0\u001b[0m.        ,  \u001b[1;36m0\u001b[0m.        ,\n",
       "         \u001b[1;36m0\u001b[0m.        ,  \u001b[1;36m0\u001b[0m.        ,  \u001b[1;36m0\u001b[0m.        ,  \u001b[1;36m0\u001b[0m.        ,  \u001b[1;36m0\u001b[0m.        ,\n",
       "         \u001b[1;36m0\u001b[0m.        ,  \u001b[1;36m0\u001b[0m.        ,  \u001b[1;36m0\u001b[0m.        ,  \u001b[1;36m0\u001b[0m.        ,  \u001b[1;36m0\u001b[0m.        ,\n",
       "         \u001b[1;36m0\u001b[0m.        ,  \u001b[1;36m0\u001b[0m.        \u001b[1m]\u001b[0m,\n",
       "       \u001b[1m[\u001b[0m \u001b[1;36m0\u001b[0m.        ,  \u001b[1;36m0\u001b[0m.        ,  \u001b[1;36m0\u001b[0m.        ,  \u001b[1;36m0\u001b[0m.        ,  \u001b[1;36m0\u001b[0m.        ,\n",
       "         \u001b[1;36m0\u001b[0m.        ,  \u001b[1;36m0\u001b[0m.        ,  \u001b[1;36m0\u001b[0m.        ,  \u001b[1;36m0\u001b[0m.        ,  \u001b[1;36m0\u001b[0m.        ,\n",
       "         \u001b[1;36m0\u001b[0m.        ,  \u001b[1;36m0\u001b[0m.        ,  \u001b[1;36m0\u001b[0m.        ,  \u001b[1;36m0\u001b[0m.        ,  \u001b[1;36m0\u001b[0m.        ,\n",
       "         \u001b[1;36m0\u001b[0m.        ,  \u001b[1;36m0\u001b[0m.        ,  \u001b[1;36m0\u001b[0m.        ,  \u001b[1;36m0\u001b[0m.        ,  \u001b[1;36m0\u001b[0m.        ,\n",
       "         \u001b[1;36m0\u001b[0m.        ,  \u001b[1;36m0\u001b[0m.        ,  \u001b[1;36m0\u001b[0m.        ,  \u001b[1;36m0\u001b[0m.        ,  \u001b[1;36m0\u001b[0m.        ,\n",
       "         \u001b[1;36m0\u001b[0m.        ,  \u001b[1;36m0\u001b[0m.        \u001b[1m]\u001b[0m,\n",
       "       \u001b[1m[\u001b[0m \u001b[1;36m0\u001b[0m.        ,  \u001b[1;36m0\u001b[0m.        ,  \u001b[1;36m0\u001b[0m.        ,  \u001b[1;36m0\u001b[0m.        ,  \u001b[1;36m0\u001b[0m.        ,\n",
       "         \u001b[1;36m0\u001b[0m.        ,  \u001b[1;36m0\u001b[0m.        ,  \u001b[1;36m0\u001b[0m.        ,  \u001b[1;36m0\u001b[0m.        ,  \u001b[1;36m0\u001b[0m.        ,\n",
       "         \u001b[1;36m0\u001b[0m.        ,  \u001b[1;36m0\u001b[0m.        ,  \u001b[1;36m0\u001b[0m.        ,  \u001b[1;36m0\u001b[0m.        ,  \u001b[1;36m0\u001b[0m.        ,\n",
       "         \u001b[1;36m0\u001b[0m.        ,  \u001b[1;36m0\u001b[0m.        ,  \u001b[1;36m0\u001b[0m.        ,  \u001b[1;36m0\u001b[0m.        ,  \u001b[1;36m0\u001b[0m.        ,\n",
       "         \u001b[1;36m0\u001b[0m.        ,  \u001b[1;36m0\u001b[0m.        ,  \u001b[1;36m0\u001b[0m.        ,  \u001b[1;36m0\u001b[0m.        ,  \u001b[1;36m0\u001b[0m.        ,\n",
       "         \u001b[1;36m0\u001b[0m.        ,  \u001b[1;36m0\u001b[0m.        \u001b[1m]\u001b[0m,\n",
       "       \u001b[1m[\u001b[0m \u001b[1;36m0\u001b[0m.        ,  \u001b[1;36m0\u001b[0m.        ,  \u001b[1;36m0\u001b[0m.        ,  \u001b[1;36m0\u001b[0m.        ,  \u001b[1;36m0\u001b[0m.        ,\n",
       "         \u001b[1;36m0\u001b[0m.        ,  \u001b[1;36m0\u001b[0m.        ,  \u001b[1;36m0\u001b[0m.        ,  \u001b[1;36m0\u001b[0m.        ,  \u001b[1;36m0\u001b[0m.        ,\n",
       "         \u001b[1;36m0\u001b[0m.        ,  \u001b[1;36m0\u001b[0m.        ,  \u001b[1;36m0\u001b[0m.        ,  \u001b[1;36m0\u001b[0m.        ,  \u001b[1;36m0\u001b[0m.        ,\n",
       "         \u001b[1;36m0\u001b[0m.        ,  \u001b[1;36m0\u001b[0m.        ,  \u001b[1;36m0\u001b[0m.        ,  \u001b[1;36m0\u001b[0m.        ,  \u001b[1;36m0\u001b[0m.        ,\n",
       "         \u001b[1;36m0\u001b[0m.        ,  \u001b[1;36m0\u001b[0m.        ,  \u001b[1;36m0\u001b[0m.        ,  \u001b[1;36m0\u001b[0m.        ,  \u001b[1;36m0\u001b[0m.        ,\n",
       "         \u001b[1;36m0\u001b[0m.        ,  \u001b[1;36m0\u001b[0m.        \u001b[1m]\u001b[0m,\n",
       "       \u001b[1m[\u001b[0m \u001b[1;36m0\u001b[0m.        ,  \u001b[1;36m0\u001b[0m.        ,  \u001b[1;36m0\u001b[0m.        ,  \u001b[1;36m0\u001b[0m.        ,  \u001b[1;36m0\u001b[0m.        ,\n",
       "         \u001b[1;36m0\u001b[0m.        ,  \u001b[1;36m0\u001b[0m.        ,  \u001b[1;36m0\u001b[0m.        ,  \u001b[1;36m0\u001b[0m.        ,  \u001b[1;36m0\u001b[0m.        ,\n",
       "         \u001b[1;36m0\u001b[0m.        ,  \u001b[1;36m0\u001b[0m.        ,  \u001b[1;36m0\u001b[0m.        ,  \u001b[1;36m0\u001b[0m.        ,  \u001b[1;36m0\u001b[0m.        ,\n",
       "         \u001b[1;36m0\u001b[0m.        ,  \u001b[1;36m0\u001b[0m.        ,  \u001b[1;36m0\u001b[0m.        ,  \u001b[1;36m0\u001b[0m.        ,  \u001b[1;36m0\u001b[0m.        ,\n",
       "         \u001b[1;36m0\u001b[0m.        ,  \u001b[1;36m0\u001b[0m.        ,  \u001b[1;36m0\u001b[0m.        ,  \u001b[1;36m0\u001b[0m.        ,  \u001b[1;36m0\u001b[0m.        ,\n",
       "         \u001b[1;36m0\u001b[0m.        ,  \u001b[1;36m0\u001b[0m.        \u001b[1m]\u001b[0m,\n",
       "       \u001b[1m[\u001b[0m \u001b[1;36m0\u001b[0m.        ,  \u001b[1;36m0\u001b[0m.        ,  \u001b[1;36m0\u001b[0m.        ,  \u001b[1;36m0\u001b[0m.        ,  \u001b[1;36m0\u001b[0m.        ,\n",
       "         \u001b[1;36m0\u001b[0m.        ,  \u001b[1;36m0\u001b[0m.        ,  \u001b[1;36m0\u001b[0m.        ,  \u001b[1;36m0\u001b[0m.        ,  \u001b[1;36m0\u001b[0m.        ,\n",
       "         \u001b[1;36m0\u001b[0m.        ,  \u001b[1;36m0\u001b[0m.        ,  \u001b[1;36m0\u001b[0m.        ,  \u001b[1;36m0\u001b[0m.        ,  \u001b[1;36m0\u001b[0m.        ,\n",
       "         \u001b[1;36m0\u001b[0m.        ,  \u001b[1;36m0\u001b[0m.        ,  \u001b[1;36m0\u001b[0m.        ,  \u001b[1;36m0\u001b[0m.        ,  \u001b[1;36m0\u001b[0m.        ,\n",
       "         \u001b[1;36m0\u001b[0m.        ,  \u001b[1;36m0\u001b[0m.        ,  \u001b[1;36m0\u001b[0m.        ,  \u001b[1;36m0\u001b[0m.        ,  \u001b[1;36m0\u001b[0m.        ,\n",
       "         \u001b[1;36m0\u001b[0m.        ,  \u001b[1;36m0\u001b[0m.        \u001b[1m]\u001b[0m,\n",
       "       \u001b[1m[\u001b[0m \u001b[1;36m0\u001b[0m.        ,  \u001b[1;36m0\u001b[0m.        ,  \u001b[1;36m0\u001b[0m.        ,  \u001b[1;36m0\u001b[0m.        ,  \u001b[1;36m0\u001b[0m.        ,\n",
       "         \u001b[1;36m0\u001b[0m.        ,  \u001b[1;36m0\u001b[0m.        ,  \u001b[1;36m0\u001b[0m.        ,  \u001b[1;36m0\u001b[0m.        ,  \u001b[1;36m0\u001b[0m.        ,\n",
       "         \u001b[1;36m0\u001b[0m.        ,  \u001b[1;36m0\u001b[0m.        ,  \u001b[1;36m0\u001b[0m.        ,  \u001b[1;36m0\u001b[0m.        ,  \u001b[1;36m0\u001b[0m.        ,\n",
       "         \u001b[1;36m0\u001b[0m.        ,  \u001b[1;36m0\u001b[0m.        ,  \u001b[1;36m0\u001b[0m.        ,  \u001b[1;36m0\u001b[0m.        ,  \u001b[1;36m0\u001b[0m.        ,\n",
       "         \u001b[1;36m0\u001b[0m.        ,  \u001b[1;36m0\u001b[0m.        ,  \u001b[1;36m0\u001b[0m.        ,  \u001b[1;36m0\u001b[0m.        ,  \u001b[1;36m0\u001b[0m.        ,\n",
       "         \u001b[1;36m0\u001b[0m.        ,  \u001b[1;36m0\u001b[0m.        \u001b[1m]\u001b[0m,\n",
       "       \u001b[1m[\u001b[0m \u001b[1;36m0\u001b[0m.        ,  \u001b[1;36m0\u001b[0m.        ,  \u001b[1;36m0\u001b[0m.        ,  \u001b[1;36m0\u001b[0m.        ,  \u001b[1;36m0\u001b[0m.        ,\n",
       "         \u001b[1;36m0\u001b[0m.        ,  \u001b[1;36m0\u001b[0m.        ,  \u001b[1;36m0\u001b[0m.        ,  \u001b[1;36m0\u001b[0m.        ,  \u001b[1;36m0\u001b[0m.        ,\n",
       "         \u001b[1;36m0\u001b[0m.        ,  \u001b[1;36m0\u001b[0m.        ,  \u001b[1;36m0\u001b[0m.        ,  \u001b[1;36m0\u001b[0m.        ,  \u001b[1;36m0\u001b[0m.        ,\n",
       "         \u001b[1;36m0\u001b[0m.        ,  \u001b[1;36m0\u001b[0m.        ,  \u001b[1;36m0\u001b[0m.        ,  \u001b[1;36m0\u001b[0m.        ,  \u001b[1;36m0\u001b[0m.        ,\n",
       "         \u001b[1;36m0\u001b[0m.        ,  \u001b[1;36m0\u001b[0m.        ,  \u001b[1;36m0\u001b[0m.        ,  \u001b[1;36m0\u001b[0m.        ,  \u001b[1;36m0\u001b[0m.        ,\n",
       "         \u001b[1;36m0\u001b[0m.        ,  \u001b[1;36m0\u001b[0m.        \u001b[1m]\u001b[0m,\n",
       "       \u001b[1m[\u001b[0m \u001b[1;36m0\u001b[0m.        ,  \u001b[1;36m0\u001b[0m.        ,  \u001b[1;36m0\u001b[0m.        ,  \u001b[1;36m0\u001b[0m.        ,  \u001b[1;36m0\u001b[0m.        ,\n",
       "         \u001b[1;36m0\u001b[0m.        ,  \u001b[1;36m0\u001b[0m.        ,  \u001b[1;36m0\u001b[0m.        ,  \u001b[1;36m0\u001b[0m.        ,  \u001b[1;36m0\u001b[0m.        ,\n",
       "         \u001b[1;36m0\u001b[0m.        ,  \u001b[1;36m0\u001b[0m.        ,  \u001b[1;36m0\u001b[0m.        ,  \u001b[1;36m0\u001b[0m.        , \u001b[1;36m21.29032258\u001b[0m,\n",
       "         \u001b[1;36m0\u001b[0m.        ,  \u001b[1;36m0\u001b[0m.        ,  \u001b[1;36m0\u001b[0m.        ,  \u001b[1;36m0\u001b[0m.        ,  \u001b[1;36m0\u001b[0m.        ,\n",
       "         \u001b[1;36m0\u001b[0m.        ,  \u001b[1;36m0\u001b[0m.        ,  \u001b[1;36m0\u001b[0m.        , \u001b[1;36m21.29032258\u001b[0m,  \u001b[1;36m0\u001b[0m.        ,\n",
       "         \u001b[1;36m0\u001b[0m.        ,  \u001b[1;36m0\u001b[0m.        \u001b[1m]\u001b[0m,\n",
       "       \u001b[1m[\u001b[0m \u001b[1;36m0\u001b[0m.        ,  \u001b[1;36m0\u001b[0m.        ,  \u001b[1;36m0\u001b[0m.        ,  \u001b[1;36m0\u001b[0m.        ,  \u001b[1;36m0\u001b[0m.        ,\n",
       "         \u001b[1;36m0\u001b[0m.        ,  \u001b[1;36m0\u001b[0m.        ,  \u001b[1;36m0\u001b[0m.        ,  \u001b[1;36m0\u001b[0m.        ,  \u001b[1;36m0\u001b[0m.        ,\n",
       "         \u001b[1;36m0\u001b[0m.        ,  \u001b[1;36m0\u001b[0m.        ,  \u001b[1;36m0\u001b[0m.        ,  \u001b[1;36m0\u001b[0m.        ,  \u001b[1;36m0\u001b[0m.        ,\n",
       "         \u001b[1;36m0\u001b[0m.        ,  \u001b[1;36m0\u001b[0m.        ,  \u001b[1;36m0\u001b[0m.        ,  \u001b[1;36m0\u001b[0m.        ,  \u001b[1;36m0\u001b[0m.        ,\n",
       "         \u001b[1;36m0\u001b[0m.        ,  \u001b[1;36m0\u001b[0m.        ,  \u001b[1;36m0\u001b[0m.        ,  \u001b[1;36m0\u001b[0m.        ,  \u001b[1;36m0\u001b[0m.        ,\n",
       "         \u001b[1;36m0\u001b[0m.        ,  \u001b[1;36m0\u001b[0m.        \u001b[1m]\u001b[0m,\n",
       "       \u001b[1m[\u001b[0m \u001b[1;36m0\u001b[0m.        ,  \u001b[1;36m0\u001b[0m.        ,  \u001b[1;36m0\u001b[0m.        ,  \u001b[1;36m0\u001b[0m.        ,  \u001b[1;36m0\u001b[0m.        ,\n",
       "         \u001b[1;36m0\u001b[0m.        ,  \u001b[1;36m0\u001b[0m.        ,  \u001b[1;36m0\u001b[0m.        ,  \u001b[1;36m0\u001b[0m.        ,  \u001b[1;36m0\u001b[0m.        ,\n",
       "         \u001b[1;36m0\u001b[0m.        ,  \u001b[1;36m0\u001b[0m.        ,  \u001b[1;36m0\u001b[0m.        ,  \u001b[1;36m0\u001b[0m.        ,  \u001b[1;36m0\u001b[0m.        ,\n",
       "         \u001b[1;36m0\u001b[0m.        ,  \u001b[1;36m0\u001b[0m.        ,  \u001b[1;36m0\u001b[0m.        ,  \u001b[1;36m0\u001b[0m.        ,  \u001b[1;36m0\u001b[0m.        ,\n",
       "         \u001b[1;36m0\u001b[0m.        ,  \u001b[1;36m0\u001b[0m.        ,  \u001b[1;36m0\u001b[0m.        ,  \u001b[1;36m0\u001b[0m.        ,  \u001b[1;36m0\u001b[0m.        ,\n",
       "         \u001b[1;36m0\u001b[0m.        ,  \u001b[1;36m0\u001b[0m.        \u001b[1m]\u001b[0m,\n",
       "       \u001b[1m[\u001b[0m \u001b[1;36m0\u001b[0m.        ,  \u001b[1;36m0\u001b[0m.        ,  \u001b[1;36m0\u001b[0m.        ,  \u001b[1;36m0\u001b[0m.        ,  \u001b[1;36m0\u001b[0m.        ,\n",
       "         \u001b[1;36m0\u001b[0m.        ,  \u001b[1;36m0\u001b[0m.        ,  \u001b[1;36m0\u001b[0m.        ,  \u001b[1;36m0\u001b[0m.        ,  \u001b[1;36m0\u001b[0m.        ,\n",
       "         \u001b[1;36m0\u001b[0m.        ,  \u001b[1;36m0\u001b[0m.        ,  \u001b[1;36m0\u001b[0m.        ,  \u001b[1;36m0\u001b[0m.        ,  \u001b[1;36m0\u001b[0m.        ,\n",
       "         \u001b[1;36m0\u001b[0m.        ,  \u001b[1;36m0\u001b[0m.        ,  \u001b[1;36m0\u001b[0m.        ,  \u001b[1;36m0\u001b[0m.        ,  \u001b[1;36m0\u001b[0m.        ,\n",
       "         \u001b[1;36m0\u001b[0m.        ,  \u001b[1;36m0\u001b[0m.        ,  \u001b[1;36m0\u001b[0m.        ,  \u001b[1;36m0\u001b[0m.        ,  \u001b[1;36m0\u001b[0m.        ,\n",
       "         \u001b[1;36m0\u001b[0m.        ,  \u001b[1;36m0\u001b[0m.        \u001b[1m]\u001b[0m,\n",
       "       \u001b[1m[\u001b[0m \u001b[1;36m0\u001b[0m.        ,  \u001b[1;36m0\u001b[0m.        ,  \u001b[1;36m0\u001b[0m.        ,  \u001b[1;36m0\u001b[0m.        ,  \u001b[1;36m0\u001b[0m.        ,\n",
       "         \u001b[1;36m0\u001b[0m.        ,  \u001b[1;36m0\u001b[0m.        ,  \u001b[1;36m0\u001b[0m.        ,  \u001b[1;36m0\u001b[0m.        ,  \u001b[1;36m0\u001b[0m.        ,\n",
       "         \u001b[1;36m0\u001b[0m.        ,  \u001b[1;36m0\u001b[0m.        ,  \u001b[1;36m0\u001b[0m.        ,  \u001b[1;36m0\u001b[0m.        ,  \u001b[1;36m0\u001b[0m.        ,\n",
       "         \u001b[1;36m0\u001b[0m.        ,  \u001b[1;36m0\u001b[0m.        ,  \u001b[1;36m0\u001b[0m.        ,  \u001b[1;36m0\u001b[0m.        ,  \u001b[1;36m0\u001b[0m.        ,\n",
       "         \u001b[1;36m0\u001b[0m.        ,  \u001b[1;36m0\u001b[0m.        ,  \u001b[1;36m0\u001b[0m.        ,  \u001b[1;36m0\u001b[0m.        ,  \u001b[1;36m0\u001b[0m.        ,\n",
       "         \u001b[1;36m0\u001b[0m.        ,  \u001b[1;36m0\u001b[0m.        \u001b[1m]\u001b[0m,\n",
       "       \u001b[1m[\u001b[0m \u001b[1;36m0\u001b[0m.        ,  \u001b[1;36m0\u001b[0m.        ,  \u001b[1;36m0\u001b[0m.        ,  \u001b[1;36m0\u001b[0m.        ,  \u001b[1;36m0\u001b[0m.        ,\n",
       "         \u001b[1;36m0\u001b[0m.        ,  \u001b[1;36m0\u001b[0m.        ,  \u001b[1;36m0\u001b[0m.        ,  \u001b[1;36m0\u001b[0m.        ,  \u001b[1;36m0\u001b[0m.        ,\n",
       "         \u001b[1;36m0\u001b[0m.        ,  \u001b[1;36m0\u001b[0m.        ,  \u001b[1;36m0\u001b[0m.        ,  \u001b[1;36m0\u001b[0m.        ,  \u001b[1;36m0\u001b[0m.        ,\n",
       "         \u001b[1;36m0\u001b[0m.        ,  \u001b[1;36m0\u001b[0m.        ,  \u001b[1;36m0\u001b[0m.        ,  \u001b[1;36m0\u001b[0m.        ,  \u001b[1;36m0\u001b[0m.        ,\n",
       "         \u001b[1;36m0\u001b[0m.        ,  \u001b[1;36m0\u001b[0m.        ,  \u001b[1;36m0\u001b[0m.        ,  \u001b[1;36m0\u001b[0m.        ,  \u001b[1;36m0\u001b[0m.        ,\n",
       "         \u001b[1;36m0\u001b[0m.        ,  \u001b[1;36m0\u001b[0m.        \u001b[1m]\u001b[0m,\n",
       "       \u001b[1m[\u001b[0m \u001b[1;36m0\u001b[0m.        ,  \u001b[1;36m0\u001b[0m.        ,  \u001b[1;36m0\u001b[0m.        ,  \u001b[1;36m0\u001b[0m.        ,  \u001b[1;36m0\u001b[0m.        ,\n",
       "         \u001b[1;36m0\u001b[0m.        ,  \u001b[1;36m0\u001b[0m.        ,  \u001b[1;36m0\u001b[0m.        ,  \u001b[1;36m0\u001b[0m.        ,  \u001b[1;36m0\u001b[0m.        ,\n",
       "         \u001b[1;36m0\u001b[0m.        ,  \u001b[1;36m0\u001b[0m.        ,  \u001b[1;36m0\u001b[0m.        ,  \u001b[1;36m0\u001b[0m.        ,  \u001b[1;36m0\u001b[0m.        ,\n",
       "         \u001b[1;36m0\u001b[0m.        ,  \u001b[1;36m0\u001b[0m.        ,  \u001b[1;36m0\u001b[0m.        ,  \u001b[1;36m0\u001b[0m.        ,  \u001b[1;36m0\u001b[0m.        ,\n",
       "         \u001b[1;36m0\u001b[0m.        ,  \u001b[1;36m0\u001b[0m.        ,  \u001b[1;36m0\u001b[0m.        ,  \u001b[1;36m0\u001b[0m.        ,  \u001b[1;36m0\u001b[0m.        ,\n",
       "         \u001b[1;36m0\u001b[0m.        ,  \u001b[1;36m0\u001b[0m.        \u001b[1m]\u001b[0m,\n",
       "       \u001b[1m[\u001b[0m \u001b[1;36m0\u001b[0m.        ,  \u001b[1;36m0\u001b[0m.        ,  \u001b[1;36m0\u001b[0m.        ,  \u001b[1;36m0\u001b[0m.        ,  \u001b[1;36m0\u001b[0m.        ,\n",
       "         \u001b[1;36m0\u001b[0m.        ,  \u001b[1;36m0\u001b[0m.        ,  \u001b[1;36m0\u001b[0m.        ,  \u001b[1;36m0\u001b[0m.        ,  \u001b[1;36m0\u001b[0m.        ,\n",
       "         \u001b[1;36m0\u001b[0m.        ,  \u001b[1;36m0\u001b[0m.        ,  \u001b[1;36m0\u001b[0m.        ,  \u001b[1;36m0\u001b[0m.        ,  \u001b[1;36m0\u001b[0m.        ,\n",
       "         \u001b[1;36m0\u001b[0m.        ,  \u001b[1;36m0\u001b[0m.        ,  \u001b[1;36m0\u001b[0m.        ,  \u001b[1;36m0\u001b[0m.        ,  \u001b[1;36m0\u001b[0m.        ,\n",
       "         \u001b[1;36m0\u001b[0m.        ,  \u001b[1;36m0\u001b[0m.        ,  \u001b[1;36m0\u001b[0m.        ,  \u001b[1;36m0\u001b[0m.        ,  \u001b[1;36m0\u001b[0m.        ,\n",
       "         \u001b[1;36m0\u001b[0m.        ,  \u001b[1;36m0\u001b[0m.        \u001b[1m]\u001b[0m,\n",
       "       \u001b[1m[\u001b[0m \u001b[1;36m0\u001b[0m.        ,  \u001b[1;36m0\u001b[0m.        ,  \u001b[1;36m0\u001b[0m.        ,  \u001b[1;36m0\u001b[0m.        ,  \u001b[1;36m0\u001b[0m.        ,\n",
       "         \u001b[1;36m0\u001b[0m.        ,  \u001b[1;36m0\u001b[0m.        ,  \u001b[1;36m0\u001b[0m.        ,  \u001b[1;36m0\u001b[0m.        ,  \u001b[1;36m0\u001b[0m.        ,\n",
       "         \u001b[1;36m0\u001b[0m.        ,  \u001b[1;36m0\u001b[0m.        ,  \u001b[1;36m0\u001b[0m.        ,  \u001b[1;36m0\u001b[0m.        ,  \u001b[1;36m0\u001b[0m.        ,\n",
       "         \u001b[1;36m0\u001b[0m.        ,  \u001b[1;36m0\u001b[0m.        ,  \u001b[1;36m0\u001b[0m.        ,  \u001b[1;36m0\u001b[0m.        ,  \u001b[1;36m0\u001b[0m.        ,\n",
       "         \u001b[1;36m0\u001b[0m.        ,  \u001b[1;36m0\u001b[0m.        ,  \u001b[1;36m0\u001b[0m.        ,  \u001b[1;36m0\u001b[0m.        ,  \u001b[1;36m0\u001b[0m.        ,\n",
       "         \u001b[1;36m0\u001b[0m.        ,  \u001b[1;36m0\u001b[0m.        \u001b[1m]\u001b[0m,\n",
       "       \u001b[1m[\u001b[0m\u001b[1;36m22.58064516\u001b[0m,  \u001b[1;36m0\u001b[0m.        ,  \u001b[1;36m0\u001b[0m.        ,  \u001b[1;36m0\u001b[0m.        ,  \u001b[1;36m0\u001b[0m.        ,\n",
       "         \u001b[1;36m0\u001b[0m.        ,  \u001b[1;36m0\u001b[0m.        ,  \u001b[1;36m0\u001b[0m.        ,  \u001b[1;36m0\u001b[0m.        ,  \u001b[1;36m0\u001b[0m.        ,\n",
       "         \u001b[1;36m0\u001b[0m.        ,  \u001b[1;36m0\u001b[0m.        ,  \u001b[1;36m0\u001b[0m.        ,  \u001b[1;36m0\u001b[0m.        , \u001b[1;36m21.29032258\u001b[0m,\n",
       "         \u001b[1;36m0\u001b[0m.        ,  \u001b[1;36m0\u001b[0m.        ,  \u001b[1;36m0\u001b[0m.        ,  \u001b[1;36m0\u001b[0m.        ,  \u001b[1;36m0\u001b[0m.        ,\n",
       "         \u001b[1;36m0\u001b[0m.        ,  \u001b[1;36m0\u001b[0m.        ,  \u001b[1;36m0\u001b[0m.        , \u001b[1;36m59.03225806\u001b[0m, \u001b[1;36m15.16129032\u001b[0m,\n",
       "         \u001b[1;36m0\u001b[0m.        ,  \u001b[1;36m0\u001b[0m.        \u001b[1m]\u001b[0m,\n",
       "       \u001b[1m[\u001b[0m\u001b[1;36m40.96774194\u001b[0m,  \u001b[1;36m0\u001b[0m.        ,  \u001b[1;36m0\u001b[0m.        ,  \u001b[1;36m0\u001b[0m.        ,  \u001b[1;36m0\u001b[0m.        ,\n",
       "         \u001b[1;36m0\u001b[0m.        ,  \u001b[1;36m0\u001b[0m.        ,  \u001b[1;36m0\u001b[0m.        ,  \u001b[1;36m0\u001b[0m.        ,  \u001b[1;36m0\u001b[0m.        ,\n",
       "         \u001b[1;36m0\u001b[0m.        ,  \u001b[1;36m0\u001b[0m.        ,  \u001b[1;36m0\u001b[0m.        ,  \u001b[1;36m0\u001b[0m.        ,  \u001b[1;36m0\u001b[0m.        ,\n",
       "         \u001b[1;36m0\u001b[0m.        ,  \u001b[1;36m0\u001b[0m.        ,  \u001b[1;36m0\u001b[0m.        ,  \u001b[1;36m0\u001b[0m.        ,  \u001b[1;36m0\u001b[0m.        ,\n",
       "         \u001b[1;36m0\u001b[0m.        ,  \u001b[1;36m0\u001b[0m.        ,  \u001b[1;36m0\u001b[0m.        , \u001b[1;36m15.16129032\u001b[0m, \u001b[1;36m56.12903226\u001b[0m,\n",
       "         \u001b[1;36m0\u001b[0m.        ,  \u001b[1;36m0\u001b[0m.        \u001b[1m]\u001b[0m,\n",
       "       \u001b[1m[\u001b[0m \u001b[1;36m0\u001b[0m.        ,  \u001b[1;36m0\u001b[0m.        ,  \u001b[1;36m0\u001b[0m.        ,  \u001b[1;36m0\u001b[0m.        ,  \u001b[1;36m0\u001b[0m.        ,\n",
       "         \u001b[1;36m0\u001b[0m.        ,  \u001b[1;36m0\u001b[0m.        ,  \u001b[1;36m0\u001b[0m.        ,  \u001b[1;36m0\u001b[0m.        ,  \u001b[1;36m0\u001b[0m.        ,\n",
       "         \u001b[1;36m0\u001b[0m.        ,  \u001b[1;36m0\u001b[0m.        ,  \u001b[1;36m0\u001b[0m.        ,  \u001b[1;36m0\u001b[0m.        ,  \u001b[1;36m0\u001b[0m.        ,\n",
       "         \u001b[1;36m0\u001b[0m.        ,  \u001b[1;36m0\u001b[0m.        ,  \u001b[1;36m0\u001b[0m.        ,  \u001b[1;36m0\u001b[0m.        ,  \u001b[1;36m0\u001b[0m.        ,\n",
       "         \u001b[1;36m0\u001b[0m.        ,  \u001b[1;36m0\u001b[0m.        ,  \u001b[1;36m0\u001b[0m.        ,  \u001b[1;36m0\u001b[0m.        ,  \u001b[1;36m0\u001b[0m.        ,\n",
       "         \u001b[1;36m0\u001b[0m.        ,  \u001b[1;36m0\u001b[0m.        \u001b[1m]\u001b[0m,\n",
       "       \u001b[1m[\u001b[0m \u001b[1;36m0\u001b[0m.        ,  \u001b[1;36m0\u001b[0m.        ,  \u001b[1;36m0\u001b[0m.        ,  \u001b[1;36m0\u001b[0m.        ,  \u001b[1;36m0\u001b[0m.        ,\n",
       "         \u001b[1;36m0\u001b[0m.        ,  \u001b[1;36m0\u001b[0m.        ,  \u001b[1;36m0\u001b[0m.        ,  \u001b[1;36m0\u001b[0m.        ,  \u001b[1;36m0\u001b[0m.        ,\n",
       "         \u001b[1;36m0\u001b[0m.        ,  \u001b[1;36m0\u001b[0m.        ,  \u001b[1;36m0\u001b[0m.        ,  \u001b[1;36m0\u001b[0m.        ,  \u001b[1;36m0\u001b[0m.        ,\n",
       "         \u001b[1;36m0\u001b[0m.        ,  \u001b[1;36m0\u001b[0m.        ,  \u001b[1;36m0\u001b[0m.        ,  \u001b[1;36m0\u001b[0m.        ,  \u001b[1;36m0\u001b[0m.        ,\n",
       "         \u001b[1;36m0\u001b[0m.        ,  \u001b[1;36m0\u001b[0m.        ,  \u001b[1;36m0\u001b[0m.        ,  \u001b[1;36m0\u001b[0m.        ,  \u001b[1;36m0\u001b[0m.        ,\n",
       "         \u001b[1;36m0\u001b[0m.        ,  \u001b[1;36m0\u001b[0m.        \u001b[1m]\u001b[0m\u001b[1m]\u001b[0m\u001b[1m)\u001b[0m"
      ]
     },
     "execution_count": 111,
     "metadata": {},
     "output_type": "execute_result"
    }
   ],
   "source": [
    "(test.values[:, None, :] & test.values[:, :, None]).mean(axis=0) * 100"
   ]
  },
  {
   "cell_type": "code",
   "execution_count": null,
   "id": "0fd41c94",
   "metadata": {},
   "outputs": [],
   "source": []
  },
  {
   "cell_type": "code",
   "execution_count": null,
   "id": "1c4f802b",
   "metadata": {},
   "outputs": [],
   "source": []
  },
  {
   "cell_type": "code",
   "execution_count": null,
   "id": "824e8011",
   "metadata": {},
   "outputs": [],
   "source": []
  },
  {
   "cell_type": "code",
   "execution_count": null,
   "id": "f018df54",
   "metadata": {},
   "outputs": [],
   "source": []
  },
  {
   "cell_type": "markdown",
   "id": "4b8cf12f",
   "metadata": {},
   "source": [
    "#### TESTS"
   ]
  },
  {
   "cell_type": "code",
   "execution_count": 60,
   "id": "e573cd26",
   "metadata": {},
   "outputs": [],
   "source": [
    "dataset = dataset.orderBy(\n",
    "    \"DAY\",\n",
    "    \"SEC\"\n",
    ").withColumn(\n",
    "    \"HOUR\",\n",
    "    F.ceil(F.col(\"SEC\") / 3600) - 1\n",
    ")"
   ]
  },
  {
   "cell_type": "code",
   "execution_count": 65,
   "id": "313b8511",
   "metadata": {},
   "outputs": [],
   "source": [
    "expresiones_columnas_no_numericas = []\n",
    "columna = \"HOUR\"\n",
    "\n",
    "unicos_columna = (\n",
    "    dataset.select(columna)\n",
    "    .distinct()\n",
    "    .rdd.flatMap(lambda x: x)\n",
    "    .collect()\n",
    ")\n",
    "\n",
    "unicos_columna.sort()\n",
    "\n",
    "expr_unicos_columna = [\n",
    "    F.when(\n",
    "        F.col(columna)\n",
    "        == valor_unico,\n",
    "        1,\n",
    "    )\n",
    "    .otherwise(0)\n",
    "    .alias(\n",
    "        \"{columna}{valor}\".format(\n",
    "            columna=\"H\",\n",
    "            valor=int(valor_unico),\n",
    "        )\n",
    "    )\n",
    "    for valor_unico in unicos_columna\n",
    "    if valor_unico != 0 #tiene un efecto parecido que drop_first=True\n",
    "]"
   ]
  },
  {
   "cell_type": "code",
   "execution_count": 66,
   "id": "63f2bb6f",
   "metadata": {},
   "outputs": [
    {
     "name": "stderr",
     "output_type": "stream",
     "text": [
      "[Stage 156:=========>                                             (2 + 10) / 12]\r"
     ]
    },
    {
     "name": "stdout",
     "output_type": "stream",
     "text": [
      "+---+----+---+---+---+---+---+---+---+---+---+---+---+---+---+---+---+---+---+---+---+---+--------------+----------------+--------+---------+----------------+-------------------+-------------+------------+------------+-------------+------------+-------+------------------+-------+-----+-------------------+----------------+---------------+------------+-------+--------+--------+--------------------+---------+--------------+--------------+-----------+----+---+---+---+---+---+---+---+---+---+---+---+---+---+---+---+---+---+---+---+---+---+---+---+\n",
      "|DAY| SEC|Ph1|Ph2|Ir1|Fo1|Fo2|Di3|Di4|Ph3|Ph4|Ph5|Ph6|Co1|Co2|Co3|So1|So2|Di1|Di2|Te1|Fo3|Brushing_Teeth|Changing_Clothes|Cleaning|Going_Out|Having_Breakfast|Having_Conversation|Having_Dinner|Having_Guest|Having_Lunch|Having_Shower|Having_Snack|Laundry|Listening_to_Music|Napping|Other|Preparing_Breakfast|Preparing_Dinner|Preparing_Lunch|Reading_Book|Shaving|Sleeping|Studying|Talking_on_the_Phone|Toileting|Using_Internet|Washing_Dishes|Watching_TV|HOUR| H1| H2| H3| H4| H5| H6| H7| H8| H9|H10|H11|H12|H13|H14|H15|H16|H17|H18|H19|H20|H21|H22|H23|\n",
      "+---+----+---+---+---+---+---+---+---+---+---+---+---+---+---+---+---+---+---+---+---+---+--------------+----------------+--------+---------+----------------+-------------------+-------------+------------+------------+-------------+------------+-------+------------------+-------+-----+-------------------+----------------+---------------+------------+-------+--------+--------+--------------------+---------+--------------+--------------+-----------+----+---+---+---+---+---+---+---+---+---+---+---+---+---+---+---+---+---+---+---+---+---+---+---+\n",
      "|1.0| 1.0|  0|  0|  0|  0|  0|  0|  0|  0|  0|  0|  0|  0|  0|  0|  0|  0|  0|  0|  0|  0|             0|               0|       0|        0|               0|                  0|            0|           0|           0|            0|           0|      0|                 0|      0|    0|                  0|               0|              0|           0|      0|       0|       0|                   0|        0|             1|             0|          1|   0|  0|  0|  0|  0|  0|  0|  0|  0|  0|  0|  0|  0|  0|  0|  0|  0|  0|  0|  0|  0|  0|  0|  0|\n",
      "|1.0| 2.0|  0|  0|  0|  0|  0|  0|  0|  0|  0|  0|  0|  0|  0|  0|  0|  0|  0|  0|  0|  0|             0|               0|       0|        0|               0|                  0|            0|           0|           0|            0|           0|      0|                 0|      0|    0|                  0|               0|              0|           0|      0|       0|       0|                   0|        0|             1|             0|          1|   0|  0|  0|  0|  0|  0|  0|  0|  0|  0|  0|  0|  0|  0|  0|  0|  0|  0|  0|  0|  0|  0|  0|  0|\n",
      "|1.0| 3.0|  0|  0|  0|  0|  0|  0|  0|  0|  0|  0|  0|  0|  0|  0|  0|  0|  0|  0|  0|  0|             0|               0|       0|        0|               0|                  0|            0|           0|           0|            0|           0|      0|                 0|      0|    0|                  0|               0|              0|           0|      0|       0|       0|                   0|        0|             1|             0|          1|   0|  0|  0|  0|  0|  0|  0|  0|  0|  0|  0|  0|  0|  0|  0|  0|  0|  0|  0|  0|  0|  0|  0|  0|\n",
      "|1.0| 4.0|  0|  0|  0|  0|  0|  0|  0|  0|  0|  0|  0|  0|  0|  0|  0|  0|  0|  0|  0|  0|             0|               0|       0|        0|               0|                  0|            0|           0|           0|            0|           0|      0|                 0|      0|    0|                  0|               0|              0|           0|      0|       0|       0|                   0|        0|             1|             0|          1|   0|  0|  0|  0|  0|  0|  0|  0|  0|  0|  0|  0|  0|  0|  0|  0|  0|  0|  0|  0|  0|  0|  0|  0|\n",
      "|1.0| 5.0|  0|  0|  0|  0|  0|  0|  0|  0|  0|  0|  0|  0|  0|  0|  0|  0|  0|  0|  0|  0|             0|               0|       0|        0|               0|                  0|            0|           0|           0|            0|           0|      0|                 0|      0|    0|                  0|               0|              0|           0|      0|       0|       0|                   0|        0|             1|             0|          1|   0|  0|  0|  0|  0|  0|  0|  0|  0|  0|  0|  0|  0|  0|  0|  0|  0|  0|  0|  0|  0|  0|  0|  0|\n",
      "|1.0| 6.0|  0|  0|  0|  0|  0|  0|  0|  0|  0|  0|  0|  0|  0|  0|  0|  0|  0|  0|  0|  0|             0|               0|       0|        0|               0|                  0|            0|           0|           0|            0|           0|      0|                 0|      0|    0|                  0|               0|              0|           0|      0|       0|       0|                   0|        0|             1|             0|          1|   0|  0|  0|  0|  0|  0|  0|  0|  0|  0|  0|  0|  0|  0|  0|  0|  0|  0|  0|  0|  0|  0|  0|  0|\n",
      "|1.0| 7.0|  0|  0|  0|  0|  0|  0|  0|  0|  0|  0|  0|  0|  0|  0|  0|  0|  0|  0|  0|  0|             0|               0|       0|        0|               0|                  0|            0|           0|           0|            0|           0|      0|                 0|      0|    0|                  0|               0|              0|           0|      0|       0|       0|                   0|        0|             1|             0|          1|   0|  0|  0|  0|  0|  0|  0|  0|  0|  0|  0|  0|  0|  0|  0|  0|  0|  0|  0|  0|  0|  0|  0|  0|\n",
      "|1.0| 8.0|  0|  0|  0|  0|  0|  0|  0|  0|  0|  0|  0|  0|  0|  0|  0|  0|  0|  0|  0|  0|             0|               0|       0|        0|               0|                  0|            0|           0|           0|            0|           0|      0|                 0|      0|    0|                  0|               0|              0|           0|      0|       0|       0|                   0|        0|             1|             0|          1|   0|  0|  0|  0|  0|  0|  0|  0|  0|  0|  0|  0|  0|  0|  0|  0|  0|  0|  0|  0|  0|  0|  0|  0|\n",
      "|1.0| 9.0|  0|  0|  0|  0|  0|  0|  0|  0|  0|  0|  0|  0|  0|  0|  0|  0|  0|  0|  0|  0|             0|               0|       0|        0|               0|                  0|            0|           0|           0|            0|           0|      0|                 0|      0|    0|                  0|               0|              0|           0|      0|       0|       0|                   0|        0|             1|             0|          1|   0|  0|  0|  0|  0|  0|  0|  0|  0|  0|  0|  0|  0|  0|  0|  0|  0|  0|  0|  0|  0|  0|  0|  0|\n",
      "|1.0|10.0|  0|  0|  0|  0|  0|  0|  0|  0|  0|  0|  0|  0|  0|  0|  0|  0|  0|  0|  0|  0|             0|               0|       0|        0|               0|                  0|            0|           0|           0|            0|           0|      0|                 0|      0|    0|                  0|               0|              0|           0|      0|       0|       0|                   0|        0|             1|             0|          1|   0|  0|  0|  0|  0|  0|  0|  0|  0|  0|  0|  0|  0|  0|  0|  0|  0|  0|  0|  0|  0|  0|  0|  0|\n",
      "|1.0|11.0|  0|  0|  0|  0|  0|  0|  0|  0|  0|  0|  0|  0|  0|  0|  1|  0|  0|  0|  0|  0|             0|               0|       0|        0|               0|                  0|            0|           0|           0|            0|           0|      0|                 0|      0|    0|                  0|               0|              0|           0|      0|       0|       0|                   0|        0|             1|             0|          1|   0|  0|  0|  0|  0|  0|  0|  0|  0|  0|  0|  0|  0|  0|  0|  0|  0|  0|  0|  0|  0|  0|  0|  0|\n",
      "|1.0|12.0|  0|  0|  0|  0|  0|  0|  0|  0|  0|  0|  0|  0|  0|  0|  0|  0|  0|  0|  0|  0|             0|               0|       0|        0|               0|                  0|            0|           0|           0|            0|           0|      0|                 0|      0|    0|                  0|               0|              0|           0|      0|       0|       0|                   0|        0|             1|             0|          1|   0|  0|  0|  0|  0|  0|  0|  0|  0|  0|  0|  0|  0|  0|  0|  0|  0|  0|  0|  0|  0|  0|  0|  0|\n",
      "|1.0|13.0|  0|  0|  0|  0|  0|  0|  0|  0|  0|  0|  0|  0|  0|  0|  0|  0|  0|  0|  0|  0|             0|               0|       0|        0|               0|                  0|            0|           0|           0|            0|           0|      0|                 0|      0|    0|                  0|               0|              0|           0|      0|       0|       0|                   0|        0|             1|             0|          1|   0|  0|  0|  0|  0|  0|  0|  0|  0|  0|  0|  0|  0|  0|  0|  0|  0|  0|  0|  0|  0|  0|  0|  0|\n",
      "|1.0|14.0|  0|  0|  0|  0|  0|  0|  0|  0|  0|  0|  0|  0|  0|  0|  0|  0|  0|  0|  0|  0|             0|               0|       0|        0|               0|                  0|            0|           0|           0|            0|           0|      0|                 0|      0|    0|                  0|               0|              0|           0|      0|       0|       0|                   0|        0|             1|             0|          1|   0|  0|  0|  0|  0|  0|  0|  0|  0|  0|  0|  0|  0|  0|  0|  0|  0|  0|  0|  0|  0|  0|  0|  0|\n",
      "|1.0|15.0|  0|  0|  0|  0|  0|  0|  0|  0|  0|  0|  0|  0|  0|  0|  0|  0|  0|  0|  0|  0|             0|               0|       0|        0|               0|                  0|            0|           0|           0|            0|           0|      0|                 0|      0|    0|                  0|               0|              0|           0|      0|       0|       0|                   0|        0|             1|             0|          1|   0|  0|  0|  0|  0|  0|  0|  0|  0|  0|  0|  0|  0|  0|  0|  0|  0|  0|  0|  0|  0|  0|  0|  0|\n",
      "|1.0|16.0|  0|  0|  0|  0|  0|  0|  0|  0|  0|  0|  0|  0|  0|  0|  0|  0|  0|  0|  0|  0|             0|               0|       0|        0|               0|                  0|            0|           0|           0|            0|           0|      0|                 0|      0|    0|                  0|               0|              0|           0|      0|       0|       0|                   0|        0|             1|             0|          1|   0|  0|  0|  0|  0|  0|  0|  0|  0|  0|  0|  0|  0|  0|  0|  0|  0|  0|  0|  0|  0|  0|  0|  0|\n",
      "|1.0|17.0|  0|  0|  0|  0|  0|  0|  0|  0|  0|  0|  0|  0|  0|  0|  0|  0|  0|  0|  0|  0|             0|               0|       0|        0|               0|                  0|            0|           0|           0|            0|           0|      0|                 0|      0|    0|                  0|               0|              0|           0|      0|       0|       0|                   0|        0|             1|             0|          1|   0|  0|  0|  0|  0|  0|  0|  0|  0|  0|  0|  0|  0|  0|  0|  0|  0|  0|  0|  0|  0|  0|  0|  0|\n",
      "|1.0|18.0|  0|  0|  0|  0|  0|  0|  0|  0|  0|  0|  0|  0|  0|  0|  0|  0|  0|  0|  0|  0|             0|               0|       0|        0|               0|                  0|            0|           0|           0|            0|           0|      0|                 0|      0|    0|                  0|               0|              0|           0|      0|       0|       0|                   0|        0|             1|             0|          1|   0|  0|  0|  0|  0|  0|  0|  0|  0|  0|  0|  0|  0|  0|  0|  0|  0|  0|  0|  0|  0|  0|  0|  0|\n",
      "|1.0|19.0|  0|  0|  0|  0|  0|  0|  0|  0|  0|  0|  0|  0|  0|  0|  0|  0|  0|  0|  0|  0|             0|               0|       0|        0|               0|                  0|            0|           0|           0|            0|           0|      0|                 0|      0|    0|                  0|               0|              0|           0|      0|       0|       0|                   0|        0|             1|             0|          1|   0|  0|  0|  0|  0|  0|  0|  0|  0|  0|  0|  0|  0|  0|  0|  0|  0|  0|  0|  0|  0|  0|  0|  0|\n",
      "|1.0|20.0|  0|  0|  0|  0|  0|  0|  0|  0|  0|  0|  0|  0|  0|  0|  0|  0|  0|  0|  0|  0|             0|               0|       0|        0|               0|                  0|            0|           0|           0|            0|           0|      0|                 0|      0|    0|                  0|               0|              0|           0|      0|       0|       0|                   0|        0|             1|             0|          1|   0|  0|  0|  0|  0|  0|  0|  0|  0|  0|  0|  0|  0|  0|  0|  0|  0|  0|  0|  0|  0|  0|  0|  0|\n",
      "+---+----+---+---+---+---+---+---+---+---+---+---+---+---+---+---+---+---+---+---+---+---+--------------+----------------+--------+---------+----------------+-------------------+-------------+------------+------------+-------------+------------+-------+------------------+-------+-----+-------------------+----------------+---------------+------------+-------+--------+--------+--------------------+---------+--------------+--------------+-----------+----+---+---+---+---+---+---+---+---+---+---+---+---+---+---+---+---+---+---+---+---+---+---+---+\n",
      "only showing top 20 rows\n",
      "\n"
     ]
    },
    {
     "name": "stderr",
     "output_type": "stream",
     "text": [
      "                                                                                \r"
     ]
    }
   ],
   "source": [
    "dataset.select(\"*\", *expr_unicos_columna).show()"
   ]
  },
  {
   "cell_type": "code",
   "execution_count": 43,
   "id": "91e3defe",
   "metadata": {},
   "outputs": [
    {
     "name": "stderr",
     "output_type": "stream",
     "text": [
      "2024-03-06 14:31:32.585425: I tensorflow/tsl/cuda/cudart_stub.cc:28] Could not find cuda drivers on your machine, GPU will not be used.\n",
      "2024-03-06 14:31:32.929756: I tensorflow/tsl/cuda/cudart_stub.cc:28] Could not find cuda drivers on your machine, GPU will not be used.\n",
      "2024-03-06 14:31:32.931529: I tensorflow/core/platform/cpu_feature_guard.cc:182] This TensorFlow binary is optimized to use available CPU instructions in performance-critical operations.\n",
      "To enable the following instructions: AVX2 FMA, in other operations, rebuild TensorFlow with the appropriate compiler flags.\n",
      "2024-03-06 14:31:34.090258: W tensorflow/compiler/tf2tensorrt/utils/py_utils.cc:38] TF-TRT Warning: Could not find TensorRT\n"
     ]
    },
    {
     "name": "stdout",
     "output_type": "stream",
     "text": [
      "Downloading data from https://storage.googleapis.com/tensorflow/tf-keras-datasets/mnist.npz\n",
      "11490434/11490434 [==============================] - 1s 0us/step\n"
     ]
    }
   ],
   "source": [
    "import keras\n",
    "from keras.datasets import mnist\n",
    "#load mnist dataset\n",
    "(X_train, y_train), (X_test, y_test) = mnist.load_data() #everytime loading data won't be so easy :)"
   ]
  },
  {
   "cell_type": "code",
   "execution_count": 107,
   "id": "1f9d318c",
   "metadata": {},
   "outputs": [
    {
     "data": {
      "text/html": [
       "<pre style=\"white-space:pre;overflow-x:auto;line-height:normal;font-family:Menlo,'DejaVu Sans Mono',consolas,'Courier New',monospace\"></pre>\n"
      ],
      "text/plain": []
     },
     "metadata": {},
     "output_type": "display_data"
    },
    {
     "data": {
      "text/plain": [
       "\u001b[1m(\u001b[0m\u001b[1m(\u001b[0m\u001b[1;36m60000\u001b[0m, \u001b[1;36m28\u001b[0m, \u001b[1;36m28\u001b[0m\u001b[1m)\u001b[0m, \u001b[1m(\u001b[0m\u001b[1;36m60000\u001b[0m,\u001b[1m)\u001b[0m\u001b[1m)\u001b[0m"
      ]
     },
     "execution_count": 107,
     "metadata": {},
     "output_type": "execute_result"
    }
   ],
   "source": [
    "X_train.shape, y_train.shape"
   ]
  },
  {
   "cell_type": "code",
   "execution_count": 48,
   "metadata": {},
   "outputs": [
    {
     "data": {
      "text/html": [
       "<pre style=\"white-space:pre;overflow-x:auto;line-height:normal;font-family:Menlo,'DejaVu Sans Mono',consolas,'Courier New',monospace\"></pre>\n"
      ],
      "text/plain": []
     },
     "metadata": {},
     "output_type": "display_data"
    },
    {
     "data": {
      "text/plain": [
       "\n",
       "\u001b[1;35marray\u001b[0m\u001b[1m(\u001b[0m\u001b[1m[\u001b[0m\u001b[1m[\u001b[0m  \u001b[1;36m0\u001b[0m,   \u001b[1;36m0\u001b[0m,   \u001b[1;36m0\u001b[0m,   \u001b[1;36m0\u001b[0m,   \u001b[1;36m0\u001b[0m,   \u001b[1;36m0\u001b[0m,   \u001b[1;36m0\u001b[0m,   \u001b[1;36m0\u001b[0m,   \u001b[1;36m0\u001b[0m,   \u001b[1;36m0\u001b[0m,   \u001b[1;36m0\u001b[0m,   \u001b[1;36m0\u001b[0m,   \u001b[1;36m0\u001b[0m,\n",
       "          \u001b[1;36m0\u001b[0m,   \u001b[1;36m0\u001b[0m,   \u001b[1;36m0\u001b[0m,   \u001b[1;36m0\u001b[0m,   \u001b[1;36m0\u001b[0m,   \u001b[1;36m0\u001b[0m,   \u001b[1;36m0\u001b[0m,   \u001b[1;36m0\u001b[0m,   \u001b[1;36m0\u001b[0m,   \u001b[1;36m0\u001b[0m,   \u001b[1;36m0\u001b[0m,   \u001b[1;36m0\u001b[0m,   \u001b[1;36m0\u001b[0m,\n",
       "          \u001b[1;36m0\u001b[0m,   \u001b[1;36m0\u001b[0m\u001b[1m]\u001b[0m,\n",
       "       \u001b[1m[\u001b[0m  \u001b[1;36m0\u001b[0m,   \u001b[1;36m0\u001b[0m,   \u001b[1;36m0\u001b[0m,   \u001b[1;36m0\u001b[0m,   \u001b[1;36m0\u001b[0m,   \u001b[1;36m0\u001b[0m,   \u001b[1;36m0\u001b[0m,   \u001b[1;36m0\u001b[0m,   \u001b[1;36m0\u001b[0m,   \u001b[1;36m0\u001b[0m,   \u001b[1;36m0\u001b[0m,   \u001b[1;36m0\u001b[0m,   \u001b[1;36m0\u001b[0m,\n",
       "          \u001b[1;36m0\u001b[0m,   \u001b[1;36m0\u001b[0m,   \u001b[1;36m0\u001b[0m,   \u001b[1;36m0\u001b[0m,   \u001b[1;36m0\u001b[0m,   \u001b[1;36m0\u001b[0m,   \u001b[1;36m0\u001b[0m,   \u001b[1;36m0\u001b[0m,   \u001b[1;36m0\u001b[0m,   \u001b[1;36m0\u001b[0m,   \u001b[1;36m0\u001b[0m,   \u001b[1;36m0\u001b[0m,   \u001b[1;36m0\u001b[0m,\n",
       "          \u001b[1;36m0\u001b[0m,   \u001b[1;36m0\u001b[0m\u001b[1m]\u001b[0m,\n",
       "       \u001b[1m[\u001b[0m  \u001b[1;36m0\u001b[0m,   \u001b[1;36m0\u001b[0m,   \u001b[1;36m0\u001b[0m,   \u001b[1;36m0\u001b[0m,   \u001b[1;36m0\u001b[0m,   \u001b[1;36m0\u001b[0m,   \u001b[1;36m0\u001b[0m,   \u001b[1;36m0\u001b[0m,   \u001b[1;36m0\u001b[0m,   \u001b[1;36m0\u001b[0m,   \u001b[1;36m0\u001b[0m,   \u001b[1;36m0\u001b[0m,   \u001b[1;36m0\u001b[0m,\n",
       "          \u001b[1;36m0\u001b[0m,   \u001b[1;36m0\u001b[0m,   \u001b[1;36m0\u001b[0m,   \u001b[1;36m0\u001b[0m,   \u001b[1;36m0\u001b[0m,   \u001b[1;36m0\u001b[0m,   \u001b[1;36m0\u001b[0m,   \u001b[1;36m0\u001b[0m,   \u001b[1;36m0\u001b[0m,   \u001b[1;36m0\u001b[0m,   \u001b[1;36m0\u001b[0m,   \u001b[1;36m0\u001b[0m,   \u001b[1;36m0\u001b[0m,\n",
       "          \u001b[1;36m0\u001b[0m,   \u001b[1;36m0\u001b[0m\u001b[1m]\u001b[0m,\n",
       "       \u001b[1m[\u001b[0m  \u001b[1;36m0\u001b[0m,   \u001b[1;36m0\u001b[0m,   \u001b[1;36m0\u001b[0m,   \u001b[1;36m0\u001b[0m,   \u001b[1;36m0\u001b[0m,   \u001b[1;36m0\u001b[0m,   \u001b[1;36m0\u001b[0m,   \u001b[1;36m0\u001b[0m,   \u001b[1;36m0\u001b[0m,   \u001b[1;36m0\u001b[0m,   \u001b[1;36m0\u001b[0m,   \u001b[1;36m0\u001b[0m,   \u001b[1;36m0\u001b[0m,\n",
       "          \u001b[1;36m0\u001b[0m,   \u001b[1;36m0\u001b[0m,   \u001b[1;36m0\u001b[0m,   \u001b[1;36m0\u001b[0m,   \u001b[1;36m0\u001b[0m,   \u001b[1;36m0\u001b[0m,   \u001b[1;36m0\u001b[0m,   \u001b[1;36m0\u001b[0m,   \u001b[1;36m0\u001b[0m,   \u001b[1;36m0\u001b[0m,   \u001b[1;36m0\u001b[0m,   \u001b[1;36m0\u001b[0m,   \u001b[1;36m0\u001b[0m,\n",
       "          \u001b[1;36m0\u001b[0m,   \u001b[1;36m0\u001b[0m\u001b[1m]\u001b[0m,\n",
       "       \u001b[1m[\u001b[0m  \u001b[1;36m0\u001b[0m,   \u001b[1;36m0\u001b[0m,   \u001b[1;36m0\u001b[0m,   \u001b[1;36m0\u001b[0m,   \u001b[1;36m0\u001b[0m,   \u001b[1;36m0\u001b[0m,   \u001b[1;36m0\u001b[0m,   \u001b[1;36m0\u001b[0m,   \u001b[1;36m0\u001b[0m,   \u001b[1;36m0\u001b[0m,   \u001b[1;36m0\u001b[0m,   \u001b[1;36m0\u001b[0m,   \u001b[1;36m0\u001b[0m,\n",
       "          \u001b[1;36m0\u001b[0m,   \u001b[1;36m0\u001b[0m,   \u001b[1;36m0\u001b[0m,   \u001b[1;36m0\u001b[0m,   \u001b[1;36m0\u001b[0m,   \u001b[1;36m0\u001b[0m,   \u001b[1;36m0\u001b[0m,   \u001b[1;36m0\u001b[0m,   \u001b[1;36m0\u001b[0m,   \u001b[1;36m0\u001b[0m,   \u001b[1;36m0\u001b[0m,   \u001b[1;36m0\u001b[0m,   \u001b[1;36m0\u001b[0m,\n",
       "          \u001b[1;36m0\u001b[0m,   \u001b[1;36m0\u001b[0m\u001b[1m]\u001b[0m,\n",
       "       \u001b[1m[\u001b[0m  \u001b[1;36m0\u001b[0m,   \u001b[1;36m0\u001b[0m,   \u001b[1;36m0\u001b[0m,   \u001b[1;36m0\u001b[0m,   \u001b[1;36m0\u001b[0m,   \u001b[1;36m0\u001b[0m,   \u001b[1;36m0\u001b[0m,   \u001b[1;36m0\u001b[0m,   \u001b[1;36m0\u001b[0m,   \u001b[1;36m0\u001b[0m,   \u001b[1;36m0\u001b[0m,   \u001b[1;36m0\u001b[0m,   \u001b[1;36m0\u001b[0m,\n",
       "          \u001b[1;36m0\u001b[0m,   \u001b[1;36m0\u001b[0m,   \u001b[1;36m0\u001b[0m,   \u001b[1;36m0\u001b[0m,   \u001b[1;36m0\u001b[0m,   \u001b[1;36m0\u001b[0m,   \u001b[1;36m0\u001b[0m,   \u001b[1;36m0\u001b[0m,   \u001b[1;36m0\u001b[0m,   \u001b[1;36m0\u001b[0m,   \u001b[1;36m0\u001b[0m,   \u001b[1;36m0\u001b[0m,   \u001b[1;36m0\u001b[0m,\n",
       "          \u001b[1;36m0\u001b[0m,   \u001b[1;36m0\u001b[0m\u001b[1m]\u001b[0m,\n",
       "       \u001b[1m[\u001b[0m  \u001b[1;36m0\u001b[0m,   \u001b[1;36m0\u001b[0m,   \u001b[1;36m0\u001b[0m,   \u001b[1;36m0\u001b[0m,   \u001b[1;36m0\u001b[0m,   \u001b[1;36m0\u001b[0m,   \u001b[1;36m0\u001b[0m,   \u001b[1;36m0\u001b[0m,   \u001b[1;36m0\u001b[0m,   \u001b[1;36m0\u001b[0m,   \u001b[1;36m0\u001b[0m,   \u001b[1;36m0\u001b[0m,   \u001b[1;36m0\u001b[0m,\n",
       "          \u001b[1;36m0\u001b[0m,   \u001b[1;36m0\u001b[0m,   \u001b[1;36m0\u001b[0m,  \u001b[1;36m38\u001b[0m,  \u001b[1;36m48\u001b[0m,  \u001b[1;36m48\u001b[0m,  \u001b[1;36m22\u001b[0m,   \u001b[1;36m0\u001b[0m,   \u001b[1;36m0\u001b[0m,   \u001b[1;36m0\u001b[0m,   \u001b[1;36m0\u001b[0m,   \u001b[1;36m0\u001b[0m,   \u001b[1;36m0\u001b[0m,\n",
       "          \u001b[1;36m0\u001b[0m,   \u001b[1;36m0\u001b[0m\u001b[1m]\u001b[0m,\n",
       "       \u001b[1m[\u001b[0m  \u001b[1;36m0\u001b[0m,   \u001b[1;36m0\u001b[0m,   \u001b[1;36m0\u001b[0m,   \u001b[1;36m0\u001b[0m,   \u001b[1;36m0\u001b[0m,   \u001b[1;36m0\u001b[0m,   \u001b[1;36m0\u001b[0m,   \u001b[1;36m0\u001b[0m,   \u001b[1;36m0\u001b[0m,   \u001b[1;36m0\u001b[0m,   \u001b[1;36m0\u001b[0m,   \u001b[1;36m0\u001b[0m,   \u001b[1;36m0\u001b[0m,\n",
       "         \u001b[1;36m62\u001b[0m,  \u001b[1;36m97\u001b[0m, \u001b[1;36m198\u001b[0m, \u001b[1;36m243\u001b[0m, \u001b[1;36m254\u001b[0m, \u001b[1;36m254\u001b[0m, \u001b[1;36m212\u001b[0m,  \u001b[1;36m27\u001b[0m,   \u001b[1;36m0\u001b[0m,   \u001b[1;36m0\u001b[0m,   \u001b[1;36m0\u001b[0m,   \u001b[1;36m0\u001b[0m,   \u001b[1;36m0\u001b[0m,\n",
       "          \u001b[1;36m0\u001b[0m,   \u001b[1;36m0\u001b[0m\u001b[1m]\u001b[0m,\n",
       "       \u001b[1m[\u001b[0m  \u001b[1;36m0\u001b[0m,   \u001b[1;36m0\u001b[0m,   \u001b[1;36m0\u001b[0m,   \u001b[1;36m0\u001b[0m,   \u001b[1;36m0\u001b[0m,   \u001b[1;36m0\u001b[0m,   \u001b[1;36m0\u001b[0m,   \u001b[1;36m0\u001b[0m,   \u001b[1;36m0\u001b[0m,   \u001b[1;36m0\u001b[0m,   \u001b[1;36m0\u001b[0m,   \u001b[1;36m0\u001b[0m,  \u001b[1;36m67\u001b[0m,\n",
       "        \u001b[1;36m172\u001b[0m, \u001b[1;36m254\u001b[0m, \u001b[1;36m254\u001b[0m, \u001b[1;36m225\u001b[0m, \u001b[1;36m218\u001b[0m, \u001b[1;36m218\u001b[0m, \u001b[1;36m237\u001b[0m, \u001b[1;36m248\u001b[0m,  \u001b[1;36m40\u001b[0m,   \u001b[1;36m0\u001b[0m,  \u001b[1;36m21\u001b[0m, \u001b[1;36m164\u001b[0m, \u001b[1;36m187\u001b[0m,\n",
       "          \u001b[1;36m0\u001b[0m,   \u001b[1;36m0\u001b[0m\u001b[1m]\u001b[0m,\n",
       "       \u001b[1m[\u001b[0m  \u001b[1;36m0\u001b[0m,   \u001b[1;36m0\u001b[0m,   \u001b[1;36m0\u001b[0m,   \u001b[1;36m0\u001b[0m,   \u001b[1;36m0\u001b[0m,   \u001b[1;36m0\u001b[0m,   \u001b[1;36m0\u001b[0m,   \u001b[1;36m0\u001b[0m,   \u001b[1;36m0\u001b[0m,   \u001b[1;36m0\u001b[0m,   \u001b[1;36m0\u001b[0m,  \u001b[1;36m89\u001b[0m, \u001b[1;36m219\u001b[0m,\n",
       "        \u001b[1;36m254\u001b[0m,  \u001b[1;36m97\u001b[0m,  \u001b[1;36m67\u001b[0m,  \u001b[1;36m14\u001b[0m,   \u001b[1;36m0\u001b[0m,   \u001b[1;36m0\u001b[0m,  \u001b[1;36m92\u001b[0m, \u001b[1;36m231\u001b[0m, \u001b[1;36m122\u001b[0m,  \u001b[1;36m23\u001b[0m, \u001b[1;36m203\u001b[0m, \u001b[1;36m236\u001b[0m,  \u001b[1;36m59\u001b[0m,\n",
       "          \u001b[1;36m0\u001b[0m,   \u001b[1;36m0\u001b[0m\u001b[1m]\u001b[0m,\n",
       "       \u001b[1m[\u001b[0m  \u001b[1;36m0\u001b[0m,   \u001b[1;36m0\u001b[0m,   \u001b[1;36m0\u001b[0m,   \u001b[1;36m0\u001b[0m,   \u001b[1;36m0\u001b[0m,   \u001b[1;36m0\u001b[0m,   \u001b[1;36m0\u001b[0m,   \u001b[1;36m0\u001b[0m,   \u001b[1;36m0\u001b[0m,   \u001b[1;36m0\u001b[0m,  \u001b[1;36m25\u001b[0m, \u001b[1;36m217\u001b[0m, \u001b[1;36m242\u001b[0m,\n",
       "         \u001b[1;36m92\u001b[0m,   \u001b[1;36m4\u001b[0m,   \u001b[1;36m0\u001b[0m,   \u001b[1;36m0\u001b[0m,   \u001b[1;36m0\u001b[0m,   \u001b[1;36m0\u001b[0m,   \u001b[1;36m4\u001b[0m, \u001b[1;36m147\u001b[0m, \u001b[1;36m253\u001b[0m, \u001b[1;36m240\u001b[0m, \u001b[1;36m232\u001b[0m,  \u001b[1;36m92\u001b[0m,   \u001b[1;36m0\u001b[0m,\n",
       "          \u001b[1;36m0\u001b[0m,   \u001b[1;36m0\u001b[0m\u001b[1m]\u001b[0m,\n",
       "       \u001b[1m[\u001b[0m  \u001b[1;36m0\u001b[0m,   \u001b[1;36m0\u001b[0m,   \u001b[1;36m0\u001b[0m,   \u001b[1;36m0\u001b[0m,   \u001b[1;36m0\u001b[0m,   \u001b[1;36m0\u001b[0m,   \u001b[1;36m0\u001b[0m,   \u001b[1;36m0\u001b[0m,   \u001b[1;36m0\u001b[0m,   \u001b[1;36m0\u001b[0m, \u001b[1;36m101\u001b[0m, \u001b[1;36m255\u001b[0m,  \u001b[1;36m92\u001b[0m,\n",
       "          \u001b[1;36m0\u001b[0m,   \u001b[1;36m0\u001b[0m,   \u001b[1;36m0\u001b[0m,   \u001b[1;36m0\u001b[0m,   \u001b[1;36m0\u001b[0m,   \u001b[1;36m0\u001b[0m, \u001b[1;36m105\u001b[0m, \u001b[1;36m254\u001b[0m, \u001b[1;36m254\u001b[0m, \u001b[1;36m177\u001b[0m,  \u001b[1;36m11\u001b[0m,   \u001b[1;36m0\u001b[0m,   \u001b[1;36m0\u001b[0m,\n",
       "          \u001b[1;36m0\u001b[0m,   \u001b[1;36m0\u001b[0m\u001b[1m]\u001b[0m,\n",
       "       \u001b[1m[\u001b[0m  \u001b[1;36m0\u001b[0m,   \u001b[1;36m0\u001b[0m,   \u001b[1;36m0\u001b[0m,   \u001b[1;36m0\u001b[0m,   \u001b[1;36m0\u001b[0m,   \u001b[1;36m0\u001b[0m,   \u001b[1;36m0\u001b[0m,   \u001b[1;36m0\u001b[0m,   \u001b[1;36m0\u001b[0m,   \u001b[1;36m0\u001b[0m, \u001b[1;36m167\u001b[0m, \u001b[1;36m244\u001b[0m,  \u001b[1;36m41\u001b[0m,\n",
       "          \u001b[1;36m0\u001b[0m,   \u001b[1;36m0\u001b[0m,   \u001b[1;36m0\u001b[0m,   \u001b[1;36m7\u001b[0m,  \u001b[1;36m76\u001b[0m, \u001b[1;36m199\u001b[0m, \u001b[1;36m238\u001b[0m, \u001b[1;36m239\u001b[0m,  \u001b[1;36m94\u001b[0m,  \u001b[1;36m10\u001b[0m,   \u001b[1;36m0\u001b[0m,   \u001b[1;36m0\u001b[0m,   \u001b[1;36m0\u001b[0m,\n",
       "          \u001b[1;36m0\u001b[0m,   \u001b[1;36m0\u001b[0m\u001b[1m]\u001b[0m,\n",
       "       \u001b[1m[\u001b[0m  \u001b[1;36m0\u001b[0m,   \u001b[1;36m0\u001b[0m,   \u001b[1;36m0\u001b[0m,   \u001b[1;36m0\u001b[0m,   \u001b[1;36m0\u001b[0m,   \u001b[1;36m0\u001b[0m,   \u001b[1;36m0\u001b[0m,   \u001b[1;36m0\u001b[0m,   \u001b[1;36m0\u001b[0m,   \u001b[1;36m0\u001b[0m, \u001b[1;36m192\u001b[0m, \u001b[1;36m121\u001b[0m,   \u001b[1;36m0\u001b[0m,\n",
       "          \u001b[1;36m0\u001b[0m,   \u001b[1;36m2\u001b[0m,  \u001b[1;36m63\u001b[0m, \u001b[1;36m180\u001b[0m, \u001b[1;36m254\u001b[0m, \u001b[1;36m233\u001b[0m, \u001b[1;36m126\u001b[0m,   \u001b[1;36m0\u001b[0m,   \u001b[1;36m0\u001b[0m,   \u001b[1;36m0\u001b[0m,   \u001b[1;36m0\u001b[0m,   \u001b[1;36m0\u001b[0m,   \u001b[1;36m0\u001b[0m,\n",
       "          \u001b[1;36m0\u001b[0m,   \u001b[1;36m0\u001b[0m\u001b[1m]\u001b[0m,\n",
       "       \u001b[1m[\u001b[0m  \u001b[1;36m0\u001b[0m,   \u001b[1;36m0\u001b[0m,   \u001b[1;36m0\u001b[0m,   \u001b[1;36m0\u001b[0m,   \u001b[1;36m0\u001b[0m,   \u001b[1;36m0\u001b[0m,   \u001b[1;36m0\u001b[0m,   \u001b[1;36m0\u001b[0m,   \u001b[1;36m0\u001b[0m,   \u001b[1;36m0\u001b[0m, \u001b[1;36m190\u001b[0m, \u001b[1;36m196\u001b[0m,  \u001b[1;36m14\u001b[0m,\n",
       "          \u001b[1;36m2\u001b[0m,  \u001b[1;36m97\u001b[0m, \u001b[1;36m254\u001b[0m, \u001b[1;36m252\u001b[0m, \u001b[1;36m146\u001b[0m,  \u001b[1;36m52\u001b[0m,   \u001b[1;36m0\u001b[0m,   \u001b[1;36m0\u001b[0m,   \u001b[1;36m0\u001b[0m,   \u001b[1;36m0\u001b[0m,   \u001b[1;36m0\u001b[0m,   \u001b[1;36m0\u001b[0m,   \u001b[1;36m0\u001b[0m,\n",
       "          \u001b[1;36m0\u001b[0m,   \u001b[1;36m0\u001b[0m\u001b[1m]\u001b[0m,\n",
       "       \u001b[1m[\u001b[0m  \u001b[1;36m0\u001b[0m,   \u001b[1;36m0\u001b[0m,   \u001b[1;36m0\u001b[0m,   \u001b[1;36m0\u001b[0m,   \u001b[1;36m0\u001b[0m,   \u001b[1;36m0\u001b[0m,   \u001b[1;36m0\u001b[0m,   \u001b[1;36m0\u001b[0m,   \u001b[1;36m0\u001b[0m,   \u001b[1;36m0\u001b[0m, \u001b[1;36m130\u001b[0m, \u001b[1;36m225\u001b[0m,  \u001b[1;36m71\u001b[0m,\n",
       "        \u001b[1;36m180\u001b[0m, \u001b[1;36m232\u001b[0m, \u001b[1;36m181\u001b[0m,  \u001b[1;36m60\u001b[0m,   \u001b[1;36m0\u001b[0m,   \u001b[1;36m0\u001b[0m,   \u001b[1;36m0\u001b[0m,   \u001b[1;36m0\u001b[0m,   \u001b[1;36m0\u001b[0m,   \u001b[1;36m0\u001b[0m,   \u001b[1;36m0\u001b[0m,   \u001b[1;36m0\u001b[0m,   \u001b[1;36m0\u001b[0m,\n",
       "          \u001b[1;36m0\u001b[0m,   \u001b[1;36m0\u001b[0m\u001b[1m]\u001b[0m,\n",
       "       \u001b[1m[\u001b[0m  \u001b[1;36m0\u001b[0m,   \u001b[1;36m0\u001b[0m,   \u001b[1;36m0\u001b[0m,   \u001b[1;36m0\u001b[0m,   \u001b[1;36m0\u001b[0m,   \u001b[1;36m0\u001b[0m,   \u001b[1;36m0\u001b[0m,   \u001b[1;36m0\u001b[0m,   \u001b[1;36m0\u001b[0m,   \u001b[1;36m0\u001b[0m, \u001b[1;36m130\u001b[0m, \u001b[1;36m254\u001b[0m, \u001b[1;36m254\u001b[0m,\n",
       "        \u001b[1;36m230\u001b[0m,  \u001b[1;36m46\u001b[0m,   \u001b[1;36m0\u001b[0m,   \u001b[1;36m0\u001b[0m,   \u001b[1;36m0\u001b[0m,   \u001b[1;36m0\u001b[0m,   \u001b[1;36m0\u001b[0m,   \u001b[1;36m0\u001b[0m,   \u001b[1;36m0\u001b[0m,   \u001b[1;36m0\u001b[0m,   \u001b[1;36m0\u001b[0m,   \u001b[1;36m0\u001b[0m,   \u001b[1;36m0\u001b[0m,\n",
       "          \u001b[1;36m0\u001b[0m,   \u001b[1;36m0\u001b[0m\u001b[1m]\u001b[0m,\n",
       "       \u001b[1m[\u001b[0m  \u001b[1;36m0\u001b[0m,   \u001b[1;36m0\u001b[0m,   \u001b[1;36m0\u001b[0m,   \u001b[1;36m0\u001b[0m,   \u001b[1;36m0\u001b[0m,   \u001b[1;36m0\u001b[0m,   \u001b[1;36m0\u001b[0m,   \u001b[1;36m0\u001b[0m,   \u001b[1;36m6\u001b[0m,  \u001b[1;36m77\u001b[0m, \u001b[1;36m244\u001b[0m, \u001b[1;36m254\u001b[0m, \u001b[1;36m162\u001b[0m,\n",
       "          \u001b[1;36m4\u001b[0m,   \u001b[1;36m0\u001b[0m,   \u001b[1;36m0\u001b[0m,   \u001b[1;36m0\u001b[0m,   \u001b[1;36m0\u001b[0m,   \u001b[1;36m0\u001b[0m,   \u001b[1;36m0\u001b[0m,   \u001b[1;36m0\u001b[0m,   \u001b[1;36m0\u001b[0m,   \u001b[1;36m0\u001b[0m,   \u001b[1;36m0\u001b[0m,   \u001b[1;36m0\u001b[0m,   \u001b[1;36m0\u001b[0m,\n",
       "          \u001b[1;36m0\u001b[0m,   \u001b[1;36m0\u001b[0m\u001b[1m]\u001b[0m,\n",
       "       \u001b[1m[\u001b[0m  \u001b[1;36m0\u001b[0m,   \u001b[1;36m0\u001b[0m,   \u001b[1;36m0\u001b[0m,   \u001b[1;36m0\u001b[0m,   \u001b[1;36m0\u001b[0m,   \u001b[1;36m0\u001b[0m,   \u001b[1;36m0\u001b[0m,   \u001b[1;36m0\u001b[0m, \u001b[1;36m110\u001b[0m, \u001b[1;36m254\u001b[0m, \u001b[1;36m218\u001b[0m, \u001b[1;36m254\u001b[0m, \u001b[1;36m116\u001b[0m,\n",
       "          \u001b[1;36m0\u001b[0m,   \u001b[1;36m0\u001b[0m,   \u001b[1;36m0\u001b[0m,   \u001b[1;36m0\u001b[0m,   \u001b[1;36m0\u001b[0m,   \u001b[1;36m0\u001b[0m,   \u001b[1;36m0\u001b[0m,   \u001b[1;36m0\u001b[0m,   \u001b[1;36m0\u001b[0m,   \u001b[1;36m0\u001b[0m,   \u001b[1;36m0\u001b[0m,   \u001b[1;36m0\u001b[0m,   \u001b[1;36m0\u001b[0m,\n",
       "          \u001b[1;36m0\u001b[0m,   \u001b[1;36m0\u001b[0m\u001b[1m]\u001b[0m,\n",
       "       \u001b[1m[\u001b[0m  \u001b[1;36m0\u001b[0m,   \u001b[1;36m0\u001b[0m,   \u001b[1;36m0\u001b[0m,   \u001b[1;36m0\u001b[0m,   \u001b[1;36m0\u001b[0m,   \u001b[1;36m0\u001b[0m,   \u001b[1;36m0\u001b[0m, \u001b[1;36m131\u001b[0m, \u001b[1;36m254\u001b[0m, \u001b[1;36m154\u001b[0m,  \u001b[1;36m28\u001b[0m, \u001b[1;36m213\u001b[0m,  \u001b[1;36m86\u001b[0m,\n",
       "          \u001b[1;36m0\u001b[0m,   \u001b[1;36m0\u001b[0m,   \u001b[1;36m0\u001b[0m,   \u001b[1;36m0\u001b[0m,   \u001b[1;36m0\u001b[0m,   \u001b[1;36m0\u001b[0m,   \u001b[1;36m0\u001b[0m,   \u001b[1;36m0\u001b[0m,   \u001b[1;36m0\u001b[0m,   \u001b[1;36m0\u001b[0m,   \u001b[1;36m0\u001b[0m,   \u001b[1;36m0\u001b[0m,   \u001b[1;36m0\u001b[0m,\n",
       "          \u001b[1;36m0\u001b[0m,   \u001b[1;36m0\u001b[0m\u001b[1m]\u001b[0m,\n",
       "       \u001b[1m[\u001b[0m  \u001b[1;36m0\u001b[0m,   \u001b[1;36m0\u001b[0m,   \u001b[1;36m0\u001b[0m,   \u001b[1;36m0\u001b[0m,   \u001b[1;36m0\u001b[0m,   \u001b[1;36m0\u001b[0m,  \u001b[1;36m66\u001b[0m, \u001b[1;36m209\u001b[0m, \u001b[1;36m153\u001b[0m,  \u001b[1;36m19\u001b[0m,  \u001b[1;36m19\u001b[0m, \u001b[1;36m233\u001b[0m,  \u001b[1;36m60\u001b[0m,\n",
       "          \u001b[1;36m0\u001b[0m,   \u001b[1;36m0\u001b[0m,   \u001b[1;36m0\u001b[0m,   \u001b[1;36m0\u001b[0m,   \u001b[1;36m0\u001b[0m,   \u001b[1;36m0\u001b[0m,   \u001b[1;36m0\u001b[0m,   \u001b[1;36m0\u001b[0m,   \u001b[1;36m0\u001b[0m,   \u001b[1;36m0\u001b[0m,   \u001b[1;36m0\u001b[0m,   \u001b[1;36m0\u001b[0m,   \u001b[1;36m0\u001b[0m,\n",
       "          \u001b[1;36m0\u001b[0m,   \u001b[1;36m0\u001b[0m\u001b[1m]\u001b[0m,\n",
       "       \u001b[1m[\u001b[0m  \u001b[1;36m0\u001b[0m,   \u001b[1;36m0\u001b[0m,   \u001b[1;36m0\u001b[0m,   \u001b[1;36m0\u001b[0m,   \u001b[1;36m0\u001b[0m,   \u001b[1;36m0\u001b[0m, \u001b[1;36m142\u001b[0m, \u001b[1;36m254\u001b[0m, \u001b[1;36m165\u001b[0m,   \u001b[1;36m0\u001b[0m,  \u001b[1;36m14\u001b[0m, \u001b[1;36m216\u001b[0m, \u001b[1;36m167\u001b[0m,\n",
       "          \u001b[1;36m0\u001b[0m,   \u001b[1;36m0\u001b[0m,   \u001b[1;36m0\u001b[0m,   \u001b[1;36m0\u001b[0m,   \u001b[1;36m0\u001b[0m,   \u001b[1;36m0\u001b[0m,   \u001b[1;36m0\u001b[0m,   \u001b[1;36m0\u001b[0m,   \u001b[1;36m0\u001b[0m,   \u001b[1;36m0\u001b[0m,   \u001b[1;36m0\u001b[0m,   \u001b[1;36m0\u001b[0m,   \u001b[1;36m0\u001b[0m,\n",
       "          \u001b[1;36m0\u001b[0m,   \u001b[1;36m0\u001b[0m\u001b[1m]\u001b[0m,\n",
       "       \u001b[1m[\u001b[0m  \u001b[1;36m0\u001b[0m,   \u001b[1;36m0\u001b[0m,   \u001b[1;36m0\u001b[0m,   \u001b[1;36m0\u001b[0m,   \u001b[1;36m0\u001b[0m,   \u001b[1;36m0\u001b[0m,  \u001b[1;36m90\u001b[0m, \u001b[1;36m254\u001b[0m, \u001b[1;36m175\u001b[0m,   \u001b[1;36m0\u001b[0m,  \u001b[1;36m18\u001b[0m, \u001b[1;36m229\u001b[0m,  \u001b[1;36m92\u001b[0m,\n",
       "          \u001b[1;36m0\u001b[0m,   \u001b[1;36m0\u001b[0m,   \u001b[1;36m0\u001b[0m,   \u001b[1;36m0\u001b[0m,   \u001b[1;36m0\u001b[0m,   \u001b[1;36m0\u001b[0m,   \u001b[1;36m0\u001b[0m,   \u001b[1;36m0\u001b[0m,   \u001b[1;36m0\u001b[0m,   \u001b[1;36m0\u001b[0m,   \u001b[1;36m0\u001b[0m,   \u001b[1;36m0\u001b[0m,   \u001b[1;36m0\u001b[0m,\n",
       "          \u001b[1;36m0\u001b[0m,   \u001b[1;36m0\u001b[0m\u001b[1m]\u001b[0m,\n",
       "       \u001b[1m[\u001b[0m  \u001b[1;36m0\u001b[0m,   \u001b[1;36m0\u001b[0m,   \u001b[1;36m0\u001b[0m,   \u001b[1;36m0\u001b[0m,   \u001b[1;36m0\u001b[0m,   \u001b[1;36m0\u001b[0m,  \u001b[1;36m26\u001b[0m, \u001b[1;36m229\u001b[0m, \u001b[1;36m249\u001b[0m, \u001b[1;36m176\u001b[0m, \u001b[1;36m222\u001b[0m, \u001b[1;36m244\u001b[0m,  \u001b[1;36m44\u001b[0m,\n",
       "          \u001b[1;36m0\u001b[0m,   \u001b[1;36m0\u001b[0m,   \u001b[1;36m0\u001b[0m,   \u001b[1;36m0\u001b[0m,   \u001b[1;36m0\u001b[0m,   \u001b[1;36m0\u001b[0m,   \u001b[1;36m0\u001b[0m,   \u001b[1;36m0\u001b[0m,   \u001b[1;36m0\u001b[0m,   \u001b[1;36m0\u001b[0m,   \u001b[1;36m0\u001b[0m,   \u001b[1;36m0\u001b[0m,   \u001b[1;36m0\u001b[0m,\n",
       "          \u001b[1;36m0\u001b[0m,   \u001b[1;36m0\u001b[0m\u001b[1m]\u001b[0m,\n",
       "       \u001b[1m[\u001b[0m  \u001b[1;36m0\u001b[0m,   \u001b[1;36m0\u001b[0m,   \u001b[1;36m0\u001b[0m,   \u001b[1;36m0\u001b[0m,   \u001b[1;36m0\u001b[0m,   \u001b[1;36m0\u001b[0m,   \u001b[1;36m0\u001b[0m,  \u001b[1;36m73\u001b[0m, \u001b[1;36m193\u001b[0m, \u001b[1;36m197\u001b[0m, \u001b[1;36m134\u001b[0m,   \u001b[1;36m0\u001b[0m,   \u001b[1;36m0\u001b[0m,\n",
       "          \u001b[1;36m0\u001b[0m,   \u001b[1;36m0\u001b[0m,   \u001b[1;36m0\u001b[0m,   \u001b[1;36m0\u001b[0m,   \u001b[1;36m0\u001b[0m,   \u001b[1;36m0\u001b[0m,   \u001b[1;36m0\u001b[0m,   \u001b[1;36m0\u001b[0m,   \u001b[1;36m0\u001b[0m,   \u001b[1;36m0\u001b[0m,   \u001b[1;36m0\u001b[0m,   \u001b[1;36m0\u001b[0m,   \u001b[1;36m0\u001b[0m,\n",
       "          \u001b[1;36m0\u001b[0m,   \u001b[1;36m0\u001b[0m\u001b[1m]\u001b[0m,\n",
       "       \u001b[1m[\u001b[0m  \u001b[1;36m0\u001b[0m,   \u001b[1;36m0\u001b[0m,   \u001b[1;36m0\u001b[0m,   \u001b[1;36m0\u001b[0m,   \u001b[1;36m0\u001b[0m,   \u001b[1;36m0\u001b[0m,   \u001b[1;36m0\u001b[0m,   \u001b[1;36m0\u001b[0m,   \u001b[1;36m0\u001b[0m,   \u001b[1;36m0\u001b[0m,   \u001b[1;36m0\u001b[0m,   \u001b[1;36m0\u001b[0m,   \u001b[1;36m0\u001b[0m,\n",
       "          \u001b[1;36m0\u001b[0m,   \u001b[1;36m0\u001b[0m,   \u001b[1;36m0\u001b[0m,   \u001b[1;36m0\u001b[0m,   \u001b[1;36m0\u001b[0m,   \u001b[1;36m0\u001b[0m,   \u001b[1;36m0\u001b[0m,   \u001b[1;36m0\u001b[0m,   \u001b[1;36m0\u001b[0m,   \u001b[1;36m0\u001b[0m,   \u001b[1;36m0\u001b[0m,   \u001b[1;36m0\u001b[0m,   \u001b[1;36m0\u001b[0m,\n",
       "          \u001b[1;36m0\u001b[0m,   \u001b[1;36m0\u001b[0m\u001b[1m]\u001b[0m,\n",
       "       \u001b[1m[\u001b[0m  \u001b[1;36m0\u001b[0m,   \u001b[1;36m0\u001b[0m,   \u001b[1;36m0\u001b[0m,   \u001b[1;36m0\u001b[0m,   \u001b[1;36m0\u001b[0m,   \u001b[1;36m0\u001b[0m,   \u001b[1;36m0\u001b[0m,   \u001b[1;36m0\u001b[0m,   \u001b[1;36m0\u001b[0m,   \u001b[1;36m0\u001b[0m,   \u001b[1;36m0\u001b[0m,   \u001b[1;36m0\u001b[0m,   \u001b[1;36m0\u001b[0m,\n",
       "          \u001b[1;36m0\u001b[0m,   \u001b[1;36m0\u001b[0m,   \u001b[1;36m0\u001b[0m,   \u001b[1;36m0\u001b[0m,   \u001b[1;36m0\u001b[0m,   \u001b[1;36m0\u001b[0m,   \u001b[1;36m0\u001b[0m,   \u001b[1;36m0\u001b[0m,   \u001b[1;36m0\u001b[0m,   \u001b[1;36m0\u001b[0m,   \u001b[1;36m0\u001b[0m,   \u001b[1;36m0\u001b[0m,   \u001b[1;36m0\u001b[0m,\n",
       "          \u001b[1;36m0\u001b[0m,   \u001b[1;36m0\u001b[0m\u001b[1m]\u001b[0m,\n",
       "       \u001b[1m[\u001b[0m  \u001b[1;36m0\u001b[0m,   \u001b[1;36m0\u001b[0m,   \u001b[1;36m0\u001b[0m,   \u001b[1;36m0\u001b[0m,   \u001b[1;36m0\u001b[0m,   \u001b[1;36m0\u001b[0m,   \u001b[1;36m0\u001b[0m,   \u001b[1;36m0\u001b[0m,   \u001b[1;36m0\u001b[0m,   \u001b[1;36m0\u001b[0m,   \u001b[1;36m0\u001b[0m,   \u001b[1;36m0\u001b[0m,   \u001b[1;36m0\u001b[0m,\n",
       "          \u001b[1;36m0\u001b[0m,   \u001b[1;36m0\u001b[0m,   \u001b[1;36m0\u001b[0m,   \u001b[1;36m0\u001b[0m,   \u001b[1;36m0\u001b[0m,   \u001b[1;36m0\u001b[0m,   \u001b[1;36m0\u001b[0m,   \u001b[1;36m0\u001b[0m,   \u001b[1;36m0\u001b[0m,   \u001b[1;36m0\u001b[0m,   \u001b[1;36m0\u001b[0m,   \u001b[1;36m0\u001b[0m,   \u001b[1;36m0\u001b[0m,\n",
       "          \u001b[1;36m0\u001b[0m,   \u001b[1;36m0\u001b[0m\u001b[1m]\u001b[0m\u001b[1m]\u001b[0m, \u001b[33mdtype\u001b[0m=\u001b[35muint8\u001b[0m\u001b[1m)\u001b[0m"
      ]
     },
     "execution_count": 48,
     "metadata": {},
     "output_type": "execute_result"
    }
   ],
   "source": [
    "X_train[59999]"
   ]
  }
 ],
 "metadata": {
  "kernelspec": {
   "display_name": "Python 3",
   "language": "python",
   "name": "python3"
  },
  "language_info": {
   "codemirror_mode": {
    "name": "ipython",
    "version": 3
   },
   "file_extension": ".py",
   "mimetype": "text/x-python",
   "name": "python",
   "nbconvert_exporter": "python",
   "pygments_lexer": "ipython3",
   "version": "3.8.18"
  }
 },
 "nbformat": 4,
 "nbformat_minor": 5
}
